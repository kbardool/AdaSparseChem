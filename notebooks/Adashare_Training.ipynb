{
 "cells": [
  {
   "cell_type": "markdown",
   "id": "408f1261",
   "metadata": {},
   "source": [
    "## Initialization  "
   ]
  },
  {
   "cell_type": "code",
   "execution_count": 1,
   "id": "6d574cdc",
   "metadata": {
    "ExecuteTime": {
     "end_time": "2022-04-08T15:35:44.889131Z",
     "start_time": "2022-04-08T15:35:38.708537Z"
    },
    "execution": {
     "iopub.execute_input": "2022-01-07T22:44:08.233990Z",
     "iopub.status.busy": "2022-01-07T22:44:08.233053Z",
     "iopub.status.idle": "2022-01-07T22:44:08.273284Z",
     "shell.execute_reply": "2022-01-07T22:44:08.271908Z",
     "shell.execute_reply.started": "2022-01-07T22:44:08.233943Z"
    },
    "scrolled": true,
    "tags": []
   },
   "outputs": [
    {
     "name": "stdout",
     "output_type": "stream",
     "text": [
      " Cuda is available  :  True\n",
      " CUDA device count  :  1\n",
      " CUDA current device:  0\n",
      " GPU Processes      : \n",
      " GPU:0\n",
      "no processes are running\n",
      "\n",
      " Device : cuda:0\n",
      "   name:        Tesla P100-SXM2-16GB\n",
      "   capability:  (6, 0)\n",
      "   properties:  _CudaDeviceProperties(name='Tesla P100-SXM2-16GB', major=6, minor=0, total_memory=16280MB, multi_processor_count=56)\n",
      "   Allocated :  0\n",
      "   Reserved  :  0\n",
      "\n",
      "| ID | GPU | MEM |\n",
      "------------------\n",
      "|  0 |  0% |  0% |\n"
     ]
    }
   ],
   "source": [
    "%load_ext autoreload\n",
    "%autoreload 2\n",
    "import os \n",
    "import sys\n",
    "sys.path.insert(0, '../src')\n",
    "import time\n",
    "import argparse\n",
    "import yaml\n",
    "import types\n",
    "import copy, pprint\n",
    "from time import sleep\n",
    "from datetime import datetime\n",
    "import numpy  as np\n",
    "import torch  \n",
    "import wandb\n",
    "from pynvml import *\n",
    "import pandas as pd\n",
    "from utils.notebook_modules import initialize, init_dataloaders, init_environment, init_wandb, \\\n",
    "                                   training_prep, disp_dataloader_info,disp_info_1, warmup_phase, \\\n",
    "                                   check_for_resume_training, weight_policy_training, disp_gpu_info\n",
    "\n",
    "from utils import print_separator, print_heading, timestring, print_loss, load_from_pickle, load_sparse\n",
    "\n",
    "pp = pprint.PrettyPrinter(indent=4)\n",
    "np.set_printoptions(edgeitems=3, infstr='inf', linewidth=150, nanstr='nan')\n",
    "torch.set_printoptions(precision=6, linewidth=132)\n",
    "pd.options.display.width = 132\n",
    "# torch.set_printoptions(precision=None, threshold=None, edgeitems=None, linewidth=None, profile=None, sci_mode=None)\n",
    "os.environ[\"WANDB_NOTEBOOK_NAME\"] = \"Adashare_Training.ipynb\"\n",
    "disp_gpu_info()\n",
    "if torch.cuda.is_available():\n",
    "    nvmlInit()"
   ]
  },
  {
   "cell_type": "code",
   "execution_count": 2,
   "id": "1cd01e1a",
   "metadata": {
    "ExecuteTime": {
     "end_time": "2022-04-08T15:35:44.956506Z",
     "start_time": "2022-04-08T15:35:44.892901Z"
    }
   },
   "outputs": [
    {
     "name": "stdout",
     "output_type": "stream",
     "text": [
      "0\n",
      "<pynvml.nvml.LP_struct_c_nvmlDevice_t object at 0x2af8a5687240>\n",
      "c_nvmlMemory_t(total: 17179869184 B, free: 17069572096 B, used: 110297088 B)\n"
     ]
    }
   ],
   "source": [
    "torch_gpu_id = torch.cuda.current_device()\n",
    "print(torch_gpu_id)\n",
    "if \"CUDA_VISIBLE_DEVICES\" in os.environ:\n",
    "  ids = list(map(int, os.environ.get(\"CUDA_VISIBLE_DEVICES\", \"\").split(\",\")))\n",
    "  print(' ids : ', ids)\n",
    "  nvml_gpu_id = ids[torch_gpu_id] # remap\n",
    "else:\n",
    "  nvml_gpu_id = torch_gpu_id\n",
    "nvml_handle = nvmlDeviceGetHandleByIndex(nvml_gpu_id)\n",
    "print(nvml_handle)\n",
    "\n",
    "info = nvmlDeviceGetMemoryInfo(nvml_handle)\n",
    "print(info)"
   ]
  },
  {
   "cell_type": "markdown",
   "id": "1b33ac6e",
   "metadata": {},
   "source": [
    "## Create Environment"
   ]
  },
  {
   "cell_type": "markdown",
   "id": "ee652c57",
   "metadata": {},
   "source": [
    "### Parse Input Args  - Read YAML config file"
   ]
  },
  {
   "cell_type": "code",
   "execution_count": 3,
   "id": "a42bb98b",
   "metadata": {
    "ExecuteTime": {
     "end_time": "2022-04-08T15:35:45.013762Z",
     "start_time": "2022-04-08T15:35:44.958379Z"
    }
   },
   "outputs": [],
   "source": [
    "# RESUME_MODEL_CKPT = 'model_train_ep_25_seed_0088'\n",
    "\n",
    "## For RESTARTING\n",
    "##\n",
    "# input_args = \" --config yamls/chembl_3task_train.yaml \" \\\n",
    "#              \" --resume \" \\\n",
    "#              \" --exp_id      330i85cg\" \\\n",
    "#              \" --exp_name    0308_1204\" \\\n",
    "#              \" --exp_desc    Train with dropout 0.5\" \\\n",
    "#              \" --seed_idx    0 \"\\\n",
    "#              \" --batch_size  128\" \\\n",
    "#              \" --lambda_sparsity  0.01\"\\\n",
    "#              \" --lambda_sharing   0.01\" \n",
    "## get command line arguments"
   ]
  },
  {
   "cell_type": "code",
   "execution_count": 4,
   "id": "cd3a7f00",
   "metadata": {
    "ExecuteTime": {
     "end_time": "2022-04-08T15:35:45.071300Z",
     "start_time": "2022-04-08T15:35:45.015961Z"
    },
    "execution": {
     "iopub.execute_input": "2022-01-07T22:44:13.145647Z",
     "iopub.status.busy": "2022-01-07T22:44:13.145313Z",
     "iopub.status.idle": "2022-01-07T22:44:13.193262Z",
     "shell.execute_reply": "2022-01-07T22:44:13.192140Z",
     "shell.execute_reply.started": "2022-01-07T22:44:13.145622Z"
    }
   },
   "outputs": [],
   "source": [
    "synthetic_1task_config = \"../yamls/chembl_synt_train_1task.yaml\"\n",
    "synthetic_3task_config = \"../yamls/chembl_synt_train_3task.yaml\"\n",
    "synthetic_5task_config = \"../yamls/chembl_synt_train_5task.yaml\"\n",
    " \n",
    "mini_config      = \"../yamls/chembl_mini_train.yaml\"\n",
    "##  For Initiating \n",
    "##\n",
    "input_args = f\" --config  {synthetic_1task_config} \" \\\n",
    "             \" --exp_desc     weight 105 bch/ep policy 105 bch/ep \" \\\n",
    "             \" --warmup_epochs        50 \" \\\n",
    "             \" --hidden_size          50 \" \\\n",
    "             \" --tail_hidden_size     50 \" \\\n",
    "             \" --first_dropout      0.05\" \\\n",
    "             \" --middle_dropout     0.05\" \\\n",
    "             \" --last_dropout       0.05\" \\\n",
    "             \" --seed_idx              0\"  \\\n",
    "             \" --batch_size          128\"  \\\n",
    "             \" --task_lr            0.01\"  \\\n",
    "             \" --backbone_lr        0.01\"  \\\n",
    "             \" --decay_lr_rate      0.3\"  \\\n",
    "             \" --decay_lr_freq       10\"  \\\n",
    "             \" --policy_lr        0.001\"  \\\n",
    "             \" --lambda_sparsity   0.02\"  \\\n",
    "             \" --lambda_sharing    0.01\"  \\\n",
    "             \" --folder_sfx      noplcy\"                       \n",
    "\n",
    "\n",
    "#              \" --hidden_size   100 100 100 100 100 100\" \\\n",
    "#              \" --tail_hidden_size  100 \" \\"
   ]
  },
  {
   "cell_type": "code",
   "execution_count": 5,
   "id": "5073a0dd",
   "metadata": {
    "ExecuteTime": {
     "end_time": "2022-04-08T15:35:45.170017Z",
     "start_time": "2022-04-08T15:35:45.074352Z"
    }
   },
   "outputs": [
    {
     "name": "stdout",
     "output_type": "stream",
     "text": [
      "\n",
      "  command line parms : \n",
      "------------------------\n",
      " config...................  ../yamls/chembl_synt_train_1task.yaml\n",
      " exp_id...................  None\n",
      " exp_name.................  None\n",
      " folder_sfx...............  noplcy\n",
      " exp_desc.................  weight 105 bch/ep policy 105 bch/ep\n",
      " hidden_sizes.............  [50]\n",
      " tail_hidden_size.........  [50]\n",
      " warmup_epochs............  50\n",
      " training_epochs..........  None\n",
      " seed_idx.................  0\n",
      " batch_size...............  128\n",
      " first_dropout............  0.05\n",
      " middle_dropout...........  0.05\n",
      " last_dropout.............  0.05\n",
      " backbone_lr..............  0.01\n",
      " task_lr..................  0.01\n",
      " policy_lr................  0.001\n",
      " decay_lr_rate............  0.3\n",
      " decay_lr_freq............  10.0\n",
      " lambda_sparsity..........  0.02\n",
      " lambda_sharing...........  0.01\n",
      " gpu_ids..................  [0]\n",
      " resume...................  False\n",
      " cpu......................  False\n",
      "\n",
      "\n",
      "\n",
      "##################################################\n",
      "################### READ YAML ####################\n",
      "##################################################\n",
      "\n",
      "\n",
      " log_dir              create folder:  ../../experiments/AdaSparseChem_1_task/50x1_0408_1735_plr0.001_sp0.02_sh0.01_lr0.01_do0.05_noplcy\n",
      " result_dir           folder exists:  ../../experiments/AdaSparseChem_1_task/50x1_0408_1735_plr0.001_sp0.02_sh0.01_lr0.01_do0.05_noplcy\n",
      " checkpoint_dir       folder exists:  ../../experiments/AdaSparseChem_1_task/50x1_0408_1735_plr0.001_sp0.02_sh0.01_lr0.01_do0.05_noplcy\n",
      "\n",
      "------------------------------------------------------------------------------------------------------------------------\n",
      " experiment name       : 0408_1735_noplcy \n",
      " experiment id         : 2dyyzitb \n",
      " folder_name           : 50x1_0408_1735_plr0.001_sp0.02_sh0.01_lr0.01_do0.05_noplcy \n",
      " experiment description: weight 105 bch/ep policy 105 bch/ep\n",
      " Random seeds          : [88, 45, 50, 100, 44, 48, 2048, 2222, 9999]\n",
      " Random  seed used     : 88 \n",
      " log folder            : ../../experiments/AdaSparseChem_1_task/50x1_0408_1735_plr0.001_sp0.02_sh0.01_lr0.01_do0.05_noplcy\n",
      " checkpoint folder     : ../../experiments/AdaSparseChem_1_task/50x1_0408_1735_plr0.001_sp0.02_sh0.01_lr0.01_do0.05_noplcy\n",
      " Gpu ids               : [0]\n",
      " Seed index            : 0\n",
      " policy_iter           : best\n",
      " Data Split ratios     : [0.725, 0.225, 0.05]\n",
      "------------------------------------------------------------------------------------------------------------------------ \n",
      "\n",
      "        project_name : AdaSparseChem\n",
      "              exp_id : 2dyyzitb\n",
      "            exp_name : 0408_1735_noplcy\n",
      "          exp_folder : 50x1_0408_1735_plr0.001_sp0.02_sh0.01_lr0.01_do0.05_noplcy\n",
      "     exp_description : weight 105 bch/ep policy 105 bch/ep\n",
      "          folder_sfx : noplcy\n",
      "         random_seed : 88\n",
      "           seed_list : [88, 45, 50, 100, 44, 48, 2048, 2222, 9999]\n",
      "                 cpu : False\n",
      "             gpu_ids : [0]\n",
      "            backbone : SparseChem\n",
      "               tasks : ['class']\n",
      "     tasks_num_class : [15]\n",
      "             lambdas : [1]\n",
      "        policy_model : task-specific\n",
      "             verbose : False\n",
      "       backbone_orig : ResNet18\n",
      "          tasks_orig : ['seg', 'sn']\n",
      "     input_size_freq : None\n",
      "          input_size : 32000\n",
      " first_non_linearity : relu\n",
      "middle_non_linearity : relu\n",
      "  last_non_linearity : relu\n",
      "       first_dropout : 0.05\n",
      "      middle_dropout : 0.05\n",
      "        last_dropout : 0.05\n",
      "   class_output_size : None\n",
      "    regr_output_size : None\n",
      "              policy : False\n",
      "           is_sparse : True\n",
      "          is_sharing : True\n",
      "diff_sparsity_weights : False\n",
      "          skip_layer : 0\n",
      "       is_curriculum : False\n",
      "    curriculum_speed : 3\n",
      "              fix_BN : False\n",
      "     retrain_from_pl : False\n",
      "\n",
      "train\n",
      "-----\n",
      "          batch_size : 128\n",
      "       warmup_epochs : 50\n",
      "     training_epochs : 250\n",
      "         total_iters : 25000\n",
      "       warm_up_iters : None\n",
      "             task_lr : 0.01\n",
      "         backbone_lr : 0.01\n",
      "    weight_optimizer : adam\n",
      "    policy_optimizer : adam\n",
      "       decay_lr_rate : 0.3\n",
      "       decay_lr_freq : 10.0\n",
      "   decay_lr_cooldown : 0\n",
      "policy_decay_lr_rate : 0.75\n",
      "policy_decay_lr_freq : 50\n",
      "policy_decay_lr_cooldown : 0\n",
      "           policy_lr : 0.001\n",
      "     lambda_sparsity : 0.02\n",
      "      lambda_sharing : 0.01\n",
      "        lambda_tasks : 1\n",
      "         init_method : random\n",
      "           init_temp : 4\n",
      "          decay_temp : 0.965\n",
      "     decay_temp_freq : 16\n",
      "     init_neg_logits : None\n",
      "       hard_sampling : False\n",
      "            val_freq : 500\n",
      "          print_freq : -1\n",
      "           val_iters : -1\n",
      "              resume : False\n",
      "      retrain_resume : False\n",
      "         policy_iter : best\n",
      "          which_iter : warmup\n",
      "\n",
      "paths\n",
      "-----\n",
      "             log_dir : ../../experiments/AdaSparseChem_1_task/50x1_0408_1735_plr0.001_sp0.02_sh0.01_lr0.01_do0.05_noplcy\n",
      "          result_dir : ../../experiments/AdaSparseChem_1_task/50x1_0408_1735_plr0.001_sp0.02_sh0.01_lr0.01_do0.05_noplcy\n",
      "      checkpoint_dir : ../../experiments/AdaSparseChem_1_task/50x1_0408_1735_plr0.001_sp0.02_sh0.01_lr0.01_do0.05_noplcy\n",
      "\n",
      "dataload\n",
      "--------\n",
      "             dataset : Chembl23_mini\n",
      "            dataroot : ../../MLDatasets/chembl23_synthetic\n",
      "                   x : chembl_23mini_x.npy\n",
      "      x_split_ratios : [0.725, 0.225, 0.05]\n",
      "             y_tasks : ['chembl_23mini_adashare_y_all_bin_sparse.npy']\n",
      "            y_censor : None\n",
      "             folding : chembl_23mini_folds.npy\n",
      "         fold_inputs : 32000\n",
      "     input_transform : None\n",
      "       weights_class : None\n",
      "              crop_h : 321\n",
      "              crop_w : 321\n",
      "   min_samples_class : 5\n",
      "             fold_va : 0\n",
      "             fold_te : None\n",
      "\n",
      "SC\n",
      "--\n",
      "      normalize_loss : None\n",
      "        hidden_sizes : [50]\n",
      "    tail_hidden_size : [50]\n",
      "        exp_name_pfx : 0408_1735\n"
     ]
    }
   ],
   "source": [
    "opt, ns = initialize(input_args, build_folders = True)\n",
    "\n",
    "## Initialize dataloaders \n",
    "# dldrs = init_dataloaders(opt, verbose = False)\n",
    " "
   ]
  },
  {
   "cell_type": "code",
   "execution_count": 6,
   "id": "c38fd4a8",
   "metadata": {
    "ExecuteTime": {
     "end_time": "2022-04-08T15:35:45.770789Z",
     "start_time": "2022-04-08T15:35:45.171704Z"
    }
   },
   "outputs": [
    {
     "name": "stdout",
     "output_type": "stream",
     "text": [
      "(18388, 85277) (18388,)\n",
      "(14633,) (3755,)\n",
      "18387 18386\n",
      "----------------------------------------------------------------\n",
      " 2022-04-08 17:35:45:244638  Create new  Chembl_23 instance \n",
      "---------------------------------------------------------------- \n",
      "\n",
      " verbose        : True\n",
      "\n",
      "* load y_task1 file : chembl_23mini_adashare_y_all_bin_sparse.npy . . .\n",
      "\t y_task[1]  All y values are 0, 1, or -1.\n",
      "\t load_task_weights - filename: None label: y_task1\n",
      "\t load_task_weights - no weights file provided for y_task1, training_weights for all  15 classes set to 1 \n",
      "\t tasks_class.aggregation_weight WAS NOT passed \n",
      "\t min_samples_class: 5\n",
      "\t Class fold counts: \n",
      "  fold_pos:\n",
      "[[1877 1885 1777 1927 1693 1848 1804 1971 1680 1885 1873 1874 1780 1891 1942]\n",
      " [2002 1725 1863 1886 1883 1798 1949 1824 1768 1796 1965 1813 1699 1895 1896]\n",
      " [1852 1659 1904 1893 1883 1825 2032 1816 1966 1846 1804 1926 1797 1831 1740]\n",
      " [1865 1811 1815 1860 1870 1868 1759 1910 1732 1718 1714 1712 1863 1851 1861]]  \n",
      "\n",
      "  fold_neg:\n",
      "[[1882 1874 1982 1832 2066 1911 1955 1788 2079 1874 1886 1885 1979 1868 1817]\n",
      " [1659 1936 1798 1775 1778 1863 1712 1837 1893 1865 1696 1848 1962 1766 1765]\n",
      " [1806 1999 1754 1765 1775 1833 1626 1842 1692 1812 1854 1732 1861 1827 1918]\n",
      " [1690 1744 1740 1695 1685 1687 1796 1645 1823 1837 1841 1843 1692 1704 1694]]\n",
      "\t tasks_class.aggregation_weight set to [1. 1. 1. 1. 1. 1. 1. 1. 1. 1. 1. 1. 1. 1. 1.] \n",
      "\t task_weights.aggregation_weight.shape: (15,) - [1. 1. 1. 1. 1. 1. 1. 1. 1. 1. 1. 1. 1. 1. 1.]\n",
      "--------------------------------------------------\n",
      "Chembl_23 Create complete\n",
      "-------------------------------------------------- \n",
      "\n",
      "----------------------------------------------------------------\n",
      " 2022-04-08 17:35:45:411622  Create new  Chembl_23 instance \n",
      "---------------------------------------------------------------- \n",
      "\n",
      " verbose        : True\n",
      "\n",
      "* load y_task1 file : chembl_23mini_adashare_y_all_bin_sparse.npy . . .\n",
      "\t y_task[1]  All y values are 0, 1, or -1.\n",
      "\t load_task_weights - filename: None label: y_task1\n",
      "\t load_task_weights - no weights file provided for y_task1, training_weights for all  15 classes set to 1 \n",
      "\t tasks_class.aggregation_weight WAS NOT passed \n",
      "\t min_samples_class: 5\n",
      "\t Class fold counts: \n",
      "  fold_pos:\n",
      "[[1788 1888 2075 1852 1947 1942 1725 1795 2004 1762 2098 1901 1958 1909 1828]]  \n",
      "\n",
      "  fold_neg:\n",
      "[[1967 1867 1680 1903 1808 1813 2030 1960 1751 1993 1657 1854 1797 1846 1927]]\n",
      "\t tasks_class.aggregation_weight set to [1. 1. 1. 1. 1. 1. 1. 1. 1. 1. 1. 1. 1. 1. 1.] \n",
      "\t task_weights.aggregation_weight.shape: (15,) - [1. 1. 1. 1. 1. 1. 1. 1. 1. 1. 1. 1. 1. 1. 1.]\n",
      "--------------------------------------------------\n",
      "Chembl_23 Create complete\n",
      "-------------------------------------------------- \n",
      "\n",
      "\n",
      " trainset.y_class                                   :  [(14633, 15)] \n",
      " trainset1.y_class                                  :  [(14633, 15)] \n",
      " trainset2.y_class                                  :  [(14633, 15)] \n",
      " valset.y_class                                     :  [(3755, 15)]  \n",
      "                                 \n",
      " size of training set 0 (warm up)                   :  14633 \n",
      " size of training set 1 (network parms)             :  14633 \n",
      " size of training set 2 (policy weights)            :  14633 \n",
      " size of validation set                             :  3755 \n",
      "                               Total                :  47654 \n",
      "                                 \n",
      " lenght (# batches) in training 0 (warm up)         :  115 \n",
      " lenght (# batches) in training 1 (network parms)   :  115 \n",
      " lenght (# batches) in training 2 (policy weights)  :  115 \n",
      " lenght (# batches) in validation dataset           :  30 \n",
      "                                \n"
     ]
    }
   ],
   "source": [
    "from dataloaders import ClassRegrSparseDataset_v3,   InfiniteDataLoader\n",
    "\n",
    "ecfp     = load_sparse(opt['dataload']['dataroot'], opt['dataload']['x'])\n",
    "folding  = np.load(os.path.join(opt['dataload']['dataroot'], opt['dataload']['folding']))\n",
    "\n",
    "print(ecfp.shape, folding.shape)\n",
    "\n",
    "fold_va = opt['dataload']['fold_va']\n",
    "idx_tr  = np.where(folding != fold_va)[0]\n",
    "idx_va  = np.where(folding == fold_va)[0]\n",
    "\n",
    "\n",
    "print(idx_tr.shape, idx_va.shape)\n",
    "print(idx_tr[-1], idx_va[-1])\n",
    "\n",
    "dldrs = types.SimpleNamespace()\n",
    "dldrs.trainset0 = ClassRegrSparseDataset_v3(opt, index = idx_tr, verbose = True)\n",
    "dldrs.valset    = ClassRegrSparseDataset_v3(opt, index = idx_va, verbose = True)\n",
    "dldrs.trainset1 = dldrs.trainset0\n",
    "dldrs.trainset2 = dldrs.trainset0\n",
    "\n",
    "\n",
    "dldrs.warmup_trn_loader = InfiniteDataLoader(dldrs.trainset0 , batch_size=opt['train']['batch_size'], num_workers = 2, pin_memory=True, collate_fn=dldrs.trainset0.collate, shuffle=True)\n",
    "dldrs.weight_trn_loader = InfiniteDataLoader(dldrs.trainset1 , batch_size=opt['train']['batch_size'], num_workers = 2, pin_memory=True, collate_fn=dldrs.trainset1.collate, shuffle=True)\n",
    "dldrs.policy_trn_loader = InfiniteDataLoader(dldrs.trainset2 , batch_size=opt['train']['batch_size'], num_workers = 2, pin_memory=True, collate_fn=dldrs.trainset2.collate, shuffle=True)\n",
    "dldrs.val_loader        = InfiniteDataLoader(dldrs.valset    , batch_size=opt['train']['batch_size'], num_workers = 1, pin_memory=True, collate_fn=dldrs.valset.collate  , shuffle=True)\n",
    "# dldrs.test_loader       = InfiniteDataLoader(dldrs.testset   , batch_size=32                        , num_workers = 1, pin_memory=True, collate_fn=dldrs.testset.collate  , shuffle=True)\n",
    "\n",
    "opt['train']['weight_iter_alternate'] = opt['train'].get('weight_iter_alternate' , len(dldrs.weight_trn_loader))\n",
    "opt['train']['alpha_iter_alternate']  = opt['train'].get('alpha_iter_alternate'  , len(dldrs.policy_trn_loader))    \n",
    "\n",
    "disp_dataloader_info(dldrs)"
   ]
  },
  {
   "cell_type": "code",
   "execution_count": 7,
   "id": "dbc14177",
   "metadata": {
    "ExecuteTime": {
     "end_time": "2022-04-08T15:35:45.887773Z",
     "start_time": "2022-04-08T15:35:45.776853Z"
    },
    "scrolled": false
   },
   "outputs": [
    {
     "name": "stdout",
     "output_type": "stream",
     "text": [
      "\n",
      " trainset.y_class                                   :  [(14633, 15)] \n",
      " trainset1.y_class                                  :  [(14633, 15)] \n",
      " trainset2.y_class                                  :  [(14633, 15)] \n",
      " valset.y_class                                     :  [(3755, 15)]  \n",
      "                                 \n",
      " size of training set 0 (warm up)                   :  14633 \n",
      " size of training set 1 (network parms)             :  14633 \n",
      " size of training set 2 (policy weights)            :  14633 \n",
      " size of validation set                             :  3755 \n",
      "                               Total                :  47654 \n",
      "                                 \n",
      " lenght (# batches) in training 0 (warm up)         :  115 \n",
      " lenght (# batches) in training 1 (network parms)   :  115 \n",
      " lenght (# batches) in training 2 (policy weights)  :  115 \n",
      " lenght (# batches) in validation dataset           :  30 \n",
      "                                \n"
     ]
    }
   ],
   "source": [
    "disp_dataloader_info(dldrs)"
   ]
  },
  {
   "cell_type": "markdown",
   "id": "8f2bfa8d",
   "metadata": {},
   "source": [
    "### Setup Model  "
   ]
  },
  {
   "cell_type": "code",
   "execution_count": 8,
   "id": "c631eb67",
   "metadata": {
    "ExecuteTime": {
     "end_time": "2022-04-08T15:35:45.999878Z",
     "start_time": "2022-04-08T15:35:45.889909Z"
    },
    "execution": {
     "iopub.execute_input": "2022-01-07T22:44:16.229028Z",
     "iopub.status.busy": "2022-01-07T22:44:16.227544Z",
     "iopub.status.idle": "2022-01-07T22:44:16.659397Z",
     "shell.execute_reply": "2022-01-07T22:44:16.658348Z",
     "shell.execute_reply.started": "2022-01-07T22:44:16.228966Z"
    },
    "scrolled": false
   },
   "outputs": [
    {
     "name": "stdout",
     "output_type": "stream",
     "text": [
      "##################################################\n",
      "############# CREATE THE ENVIRONMENT #############\n",
      "##################################################\n",
      " device is  cuda:0\n",
      " SparseChem_BackBone() Input Layer  - Input: 32000  output: 50  non-linearity:<class 'torch.nn.modules.activation.ReLU'>\n",
      "--------------------------------------------------\n",
      " Initialize weights \n",
      "-------------------------------------------------- \n",
      "\n",
      "----------------------------------------------------\n",
      "* SparseChemEnv environment successfully created\n",
      "---------------------------------------------------- \n",
      "\n"
     ]
    }
   ],
   "source": [
    "environ = init_environment(ns, opt, is_train = True, policy_learning = False, display_cfg = False)                      \n",
    "# environ.define_optimizer(policy_learning=False)\n",
    "# environ.define_scheduler(policy_learning=False)"
   ]
  },
  {
   "cell_type": "code",
   "execution_count": 9,
   "id": "677fa3f4",
   "metadata": {
    "ExecuteTime": {
     "end_time": "2022-04-08T15:35:46.061960Z",
     "start_time": "2022-04-08T15:35:46.002183Z"
    },
    "scrolled": false
   },
   "outputs": [
    {
     "name": "stdout",
     "output_type": "stream",
     "text": [
      " \n",
      "\n",
      "SparseChemEnv  Configuration       \n",
      "---------------------------------------- \n",
      "\n",
      "----------------\n",
      "networks       :\n",
      "----------------\n",
      " {'mtl-net': MTL3(\n",
      "  (backbone): SparseChem_Backbone(\n",
      "    (Input_Layer): Sequential(\n",
      "      (linear): SparseLinear(in_features=32000, out_features=50, bias=True)\n",
      "      (non_linear): ReLU()\n",
      "      (dropout): Dropout(p=0.05, inplace=False)\n",
      "    )\n",
      "    (blocks): ModuleList(\n",
      "      (0): SparseChemBlock(\n",
      "        (linear): Linear(in_features=50, out_features=50, bias=True)\n",
      "        (non_linear): ReLU()\n",
      "        (dropout): Dropout(p=0.05, inplace=False)\n",
      "      )\n",
      "    )\n",
      "    (residuals): ModuleList(\n",
      "      (0): None\n",
      "    )\n",
      "  )\n",
      "  (task1_fc1_c0): SparseChem_Classification_Module(\n",
      "    (linear): Linear(in_features=50, out_features=15, bias=True)\n",
      "  )\n",
      ")}\n",
      "\n",
      "----------------\n",
      "optimizers     :\n",
      "----------------\n",
      " {'weights': Adam (\n",
      "Parameter Group 0\n",
      "    amsgrad: False\n",
      "    betas: (0.9, 0.999)\n",
      "    eps: 1e-08\n",
      "    lr: 0.01\n",
      "    weight_decay: 0.0001\n",
      "\n",
      "Parameter Group 1\n",
      "    amsgrad: False\n",
      "    betas: (0.9, 0.999)\n",
      "    eps: 1e-08\n",
      "    lr: 0.01\n",
      "    weight_decay: 0.0001\n",
      "), 'alphas': Adam (\n",
      "Parameter Group 0\n",
      "    amsgrad: False\n",
      "    betas: (0.9, 0.999)\n",
      "    eps: 1e-08\n",
      "    lr: 0.001\n",
      "    weight_decay: 0.0005\n",
      ")}\n",
      "\n",
      "----------------\n",
      "schedulers     :\n",
      "----------------\n",
      "factor                        : 0.75 \n",
      "optimizer                     : Adam (\n",
      "Parameter Group 0\n",
      "    amsgrad: False\n",
      "    betas: (0.9, 0.999)\n",
      "    eps: 1e-08\n",
      "    lr: 0.001\n",
      "    weight_decay: 0.0005\n",
      ") \n",
      "min_lrs                       : [0] \n",
      "patience                      : 50 \n",
      "verbose                       : True \n",
      "cooldown                      : 0 \n",
      "cooldown_counter              : 0 \n",
      "mode                          : min \n",
      "threshold                     : 0.0001 \n",
      "threshold_mode                : rel \n",
      "best                          : inf \n",
      "num_bad_epochs                : 0 \n",
      "mode_worse                    : inf \n",
      "eps                           : 1e-08 \n",
      "last_epoch                    : 0 \n",
      "factor                        : 0.3 \n",
      "optimizer                     : Adam (\n",
      "Parameter Group 0\n",
      "    amsgrad: False\n",
      "    betas: (0.9, 0.999)\n",
      "    eps: 1e-08\n",
      "    lr: 0.01\n",
      "    weight_decay: 0.0001\n",
      "\n",
      "Parameter Group 1\n",
      "    amsgrad: False\n",
      "    betas: (0.9, 0.999)\n",
      "    eps: 1e-08\n",
      "    lr: 0.01\n",
      "    weight_decay: 0.0001\n",
      ") \n",
      "min_lrs                       : [0, 0] \n",
      "patience                      : 10.0 \n",
      "verbose                       : True \n",
      "cooldown                      : 0 \n",
      "cooldown_counter              : 0 \n",
      "mode                          : min \n",
      "threshold                     : 0.0001 \n",
      "threshold_mode                : rel \n",
      "best                          : inf \n",
      "num_bad_epochs                : 0 \n",
      "mode_worse                    : inf \n",
      "eps                           : 1e-08 \n",
      "last_epoch                    : 0 \n",
      "\n"
     ]
    }
   ],
   "source": [
    "# environ.optimizers['weights'].param_groups[0]\n",
    "print(environ.print_configuration())"
   ]
  },
  {
   "cell_type": "code",
   "execution_count": null,
   "id": "845b0b43",
   "metadata": {},
   "outputs": [],
   "source": []
  },
  {
   "cell_type": "markdown",
   "id": "320fdeee",
   "metadata": {},
   "source": [
    "###  Weights and Biases Initialization "
   ]
  },
  {
   "cell_type": "code",
   "execution_count": 10,
   "id": "03c2469c",
   "metadata": {
    "ExecuteTime": {
     "end_time": "2022-04-08T15:35:50.552047Z",
     "start_time": "2022-04-08T15:35:46.064317Z"
    }
   },
   "outputs": [
    {
     "name": "stdout",
     "output_type": "stream",
     "text": [
      "2dyyzitb 0408_1735_noplcy AdaSparseChem\n"
     ]
    },
    {
     "name": "stderr",
     "output_type": "stream",
     "text": [
      "\u001b[34m\u001b[1mwandb\u001b[0m: Currently logged in as: \u001b[33mkbardool\u001b[0m (use `wandb login --relogin` to force relogin)\n"
     ]
    },
    {
     "data": {
      "text/html": [
       "wandb version 0.12.13 is available!  To upgrade, please run:\n",
       " $ pip install wandb --upgrade"
      ],
      "text/plain": [
       "<IPython.core.display.HTML object>"
      ]
     },
     "metadata": {},
     "output_type": "display_data"
    },
    {
     "data": {
      "text/html": [
       "Tracking run with wandb version 0.12.11"
      ],
      "text/plain": [
       "<IPython.core.display.HTML object>"
      ]
     },
     "metadata": {},
     "output_type": "display_data"
    },
    {
     "data": {
      "text/html": [
       "Run data is saved locally in <code>/vsc-hard-mounts/leuven-data/326/vsc32647/projs/AdaSparseChem/notebooks/wandb/run-20220408_173546-2dyyzitb</code>"
      ],
      "text/plain": [
       "<IPython.core.display.HTML object>"
      ]
     },
     "metadata": {},
     "output_type": "display_data"
    },
    {
     "data": {
      "text/html": [
       "Syncing run <strong><a href=\"https://wandb.ai/kbardool/AdaSparseChem/runs/2dyyzitb\" target=\"_blank\">0408_1735_noplcy</a></strong> to <a href=\"https://wandb.ai/kbardool/AdaSparseChem\" target=\"_blank\">Weights & Biases</a> (<a href=\"https://wandb.me/run\" target=\"_blank\">docs</a>)<br/>"
      ],
      "text/plain": [
       "<IPython.core.display.HTML object>"
      ]
     },
     "metadata": {},
     "output_type": "display_data"
    },
    {
     "name": "stdout",
     "output_type": "stream",
     "text": [
      " PROJECT NAME: AdaSparseChem\n",
      " RUN ID      : 2dyyzitb \n",
      " RUN NAME    : 0408_1735_noplcy\n",
      " PROJECT NAME: AdaSparseChem\n",
      " RUN ID      : 2dyyzitb \n",
      " RUN NAME    : 0408_1735_noplcy\n"
     ]
    }
   ],
   "source": [
    "init_wandb(ns, opt, environment = environ)\n",
    "\n",
    "print(f\" PROJECT NAME: {ns.wandb_run.project}\\n\"\n",
    "      f\" RUN ID      : {ns.wandb_run.id} \\n\"\n",
    "      f\" RUN NAME    : {ns.wandb_run.name}\") "
   ]
  },
  {
   "cell_type": "markdown",
   "id": "1d738062",
   "metadata": {},
   "source": [
    "### Initiate / Resume Training Prep"
   ]
  },
  {
   "cell_type": "code",
   "execution_count": 11,
   "id": "479fc221",
   "metadata": {
    "ExecuteTime": {
     "end_time": "2022-04-08T15:35:50.750305Z",
     "start_time": "2022-04-08T15:35:50.555417Z"
    }
   },
   "outputs": [],
   "source": [
    "# ns.wandb_run.finish()"
   ]
  },
  {
   "cell_type": "code",
   "execution_count": 12,
   "id": "7bd2a36e",
   "metadata": {
    "ExecuteTime": {
     "end_time": "2022-04-08T15:35:50.809012Z",
     "start_time": "2022-04-08T15:35:50.752407Z"
    }
   },
   "outputs": [],
   "source": [
    "# check_for_resume_training(ns, opt, environ)"
   ]
  },
  {
   "cell_type": "markdown",
   "id": "f9f7774f",
   "metadata": {},
   "source": [
    "### Training Preparation"
   ]
  },
  {
   "cell_type": "code",
   "execution_count": 13,
   "id": "e8b6afdc",
   "metadata": {
    "ExecuteTime": {
     "end_time": "2022-04-08T15:35:50.884538Z",
     "start_time": "2022-04-08T15:35:50.810551Z"
    }
   },
   "outputs": [
    {
     "name": "stdout",
     "output_type": "stream",
     "text": [
      " training preparation: - check for CUDA - cuda available as device id: [0]\n",
      " training preparation: - set print_freq to length of train loader: 115\n",
      " training preparation: - set eval_iters to length of val loader : 30\n",
      " training preparation: - set number of batches per weight training epoch to: 115\n",
      " training preparation: - set number of batches per policy training epoch to: 115\n",
      "--------------------------------------------------------------------------------\n",
      "\n",
      "    folder: 50x1_0408_1735_plr0.001_sp0.02_sh0.01_lr0.01_do0.05_noplcy\n",
      "    layers: 1 [50] \n",
      "    \n",
      "    middle dropout         : 0.05\n",
      "    last dropout           : 0.05\n",
      "    diff_sparsity_weights  : False\n",
      "    skip_layer             : 0\n",
      "    is_curriculum          : False\n",
      "    curriculum_speed       : 3\n",
      "    \n",
      "    task_lr                : 0.01\n",
      "    backbone_lr            : 0.01\n",
      "    decay_lr_rate          : 0.3\n",
      "    decay_lr_freq          : 10.0\n",
      "    \n",
      "    policy_lr              : 0.001\n",
      "    policy_decay_lr_rate   : 0.75\n",
      "    policy_decay_lr_freq   : 50\n",
      "    lambda_sparsity        : 0.02\n",
      "    lambda_sharing         : 0.01\n",
      "    lambda_tasks           : 1\n",
      "    \n",
      "    Gumbel init_temp       : 4\n",
      "    Gumbel decay_temp      : 0.965\n",
      "    Gumbel decay_temp_freq : 16\n",
      "    Logit init_method      : random\n",
      "    Logit init_neg_logits  : None\n",
      "    Logit hard_sampling    : False\n",
      "    Warm-up epochs         : 50\n",
      "    training epochs        : 250\n",
      "    Data split ratios      : [0.725, 0.225, 0.05]\n",
      "\n"
     ]
    }
   ],
   "source": [
    "training_prep(ns, opt, environ, dldrs)\n",
    "\n",
    "# print('-'*80)\n",
    "# disp_info_1(ns, opt, environ)\n",
    "\n",
    "print('-'*80)\n",
    "print(environ.disp_for_excel())"
   ]
  },
  {
   "cell_type": "markdown",
   "id": "3278d6d1",
   "metadata": {},
   "source": [
    "## Warmup Training"
   ]
  },
  {
   "cell_type": "code",
   "execution_count": 14,
   "id": "92380a48",
   "metadata": {
    "ExecuteTime": {
     "end_time": "2022-04-08T15:35:50.977073Z",
     "start_time": "2022-04-08T15:35:50.889934Z"
    },
    "scrolled": true
   },
   "outputs": [
    {
     "name": "stdout",
     "output_type": "stream",
     "text": [
      "-----------------------------------------------------------------------------\n",
      " Current Epoch: 0   # of warm-up epochs to do:  100 - Run epochs 1 to 100\n",
      "----------------------------------------------------------------------------- \n",
      "\n"
     ]
    }
   ],
   "source": [
    "# environ.display_trained_policy(ns.current_epoch,out=sys.stdout)\n",
    "# ns.check_for_improvment_wait = 0\n",
    "ns.warmup_epochs = 100\n",
    "print_heading(f\" Current Epoch: {ns.current_epoch}   # of warm-up epochs to do:  {ns.warmup_epochs} - Run epochs {ns.current_epoch+1} to {ns.current_epoch + ns.warmup_epochs}\", verbose = True)"
   ]
  },
  {
   "cell_type": "code",
   "execution_count": 17,
   "id": "8be9d65b",
   "metadata": {
    "ExecuteTime": {
     "end_time": "2022-04-08T15:52:02.697343Z",
     "start_time": "2022-04-08T15:46:32.379975Z"
    },
    "scrolled": false
   },
   "outputs": [
    {
     "name": "stdout",
     "output_type": "stream",
     "text": [
      "--------------------------------------------------------------------------\n",
      " Last Epoch: 0   # of warm-up epochs to do:  100 - Run epochs 1 to 100\n",
      "-------------------------------------------------------------------------- \n",
      "\n",
      " Ep  | Trunk LR  Heads LR  Polcy LR  Gmbl Tmp |  trn tsk    trn spar    trn shar   trn ttl |   logloss   bceloss  avg prec    aucroc     aucpr    f1_max |  val tsk    val spar    val shar     total | time |\n",
      "   1 | 1.00e-02  1.00e-02  1.00e-03  4.00e+00 |   7.1632   3.377e-04   0.000e+00    7.1636 |   0.00014   0.53434   0.81160   0.81335   0.81149   0.75856 |   8.0078   1.153e-04   0.000e+00    8.0079 |  2.5 |\n",
      "Previous best_epoch:     0   best iter:     0,   best_value: 0.00000\n",
      "New      best_epoch:     1   best iter:   115,   best_value: 0.81160\n",
      "   2 | 1.00e-02  1.00e-02  1.00e-03  4.00e+00 |   5.8504   3.377e-04   0.000e+00    5.8507 |   0.00014   0.51576   0.83134   0.83260   0.83125   0.77266 |   7.7272   1.153e-04   0.000e+00    7.7273 |  2.1 |\n",
      "Previous best_epoch:     1   best iter:   115,   best_value: 0.81160\n",
      "New      best_epoch:     2   best iter:   230,   best_value: 0.83134\n",
      "   3 | 1.00e-02  1.00e-02  1.00e-03  4.00e+00 |   5.7775   3.377e-04   0.000e+00    5.7778 |   0.00014   0.52494   0.83180   0.83484   0.83172   0.77447 |   7.8696   1.153e-04   0.000e+00    7.8697 |  2.2 |\n",
      "Previous best_epoch:     2   best iter:   230,   best_value: 0.83134\n",
      "New      best_epoch:     3   best iter:   345,   best_value: 0.83180\n",
      "   4 | 1.00e-02  1.00e-02  1.00e-03  4.00e+00 |   5.7525   3.377e-04   0.000e+00    5.7528 |   0.00014   0.54278   0.83302   0.83585   0.83293   0.77518 |   8.1467   1.153e-04   0.000e+00    8.1468 |  2.3 |\n",
      "Previous best_epoch:     3   best iter:   345,   best_value: 0.83180\n",
      "New      best_epoch:     4   best iter:   460,   best_value: 0.83302\n",
      "   5 | 1.00e-02  1.00e-02  1.00e-03  4.00e+00 |   5.0851   3.377e-04   0.000e+00    5.0854 |   0.00015   0.54619   0.83750   0.84079   0.83741   0.77779 |   8.2046   1.153e-04   0.000e+00    8.2047 |  1.9 |\n",
      "Previous best_epoch:     4   best iter:   460,   best_value: 0.83302\n",
      "New      best_epoch:     5   best iter:   575,   best_value: 0.83750\n",
      "   6 | 1.00e-02  1.00e-02  1.00e-03  4.00e+00 |   4.0939   3.377e-04   0.000e+00    4.0942 |   0.00015   0.55442   0.83664   0.84239   0.83653   0.78059 |   8.3318   1.153e-04   0.000e+00    8.3319 |  2.0 |\n",
      "   7 | 1.00e-02  1.00e-02  1.00e-03  4.00e+00 |   3.9811   3.377e-04   0.000e+00    3.9814 |   0.00015   0.56696   0.83706   0.84125   0.83697   0.77938 |   8.5122   1.153e-04   0.000e+00    8.5123 |  3.8 |\n",
      "   8 | 1.00e-02  1.00e-02  1.00e-03  4.00e+00 |   4.0086   3.377e-04   0.000e+00    4.0089 |   0.00015   0.57149   0.83773   0.84107   0.83763   0.77698 |   8.5881   1.153e-04   0.000e+00    8.5882 |  3.7 |\n",
      "Previous best_epoch:     5   best iter:   575,   best_value: 0.83750\n",
      "New      best_epoch:     8   best iter:   920,   best_value: 0.83773\n",
      "   9 | 1.00e-02  1.00e-02  1.00e-03  4.00e+00 |   4.1028   3.377e-04   0.000e+00    4.1031 |   0.00016   0.58090   0.83908   0.84196   0.83898   0.77884 |   8.7515   1.153e-04   0.000e+00    8.7516 |  2.1 |\n",
      "Previous best_epoch:     8   best iter:   920,   best_value: 0.83773\n",
      "New      best_epoch:     9   best iter:  1035,   best_value: 0.83908\n",
      "  10 | 1.00e-02  1.00e-02  1.00e-03  4.00e+00 |   4.0916   3.377e-04   0.000e+00    4.0920 |   0.00016   0.59081   0.83596   0.84118   0.83587   0.77978 |   8.8573   1.153e-04   0.000e+00    8.8574 |  2.2 |\n",
      "  11 | 1.00e-02  1.00e-02  1.00e-03  4.00e+00 |   3.7072   3.377e-04   0.000e+00    3.7075 |   0.00016   0.60325   0.83517   0.83863   0.83506   0.77585 |   9.0608   1.153e-04   0.000e+00    9.0609 |  2.3 |\n",
      "  12 | 1.00e-02  1.00e-02  1.00e-03  4.00e+00 |   3.2975   3.377e-04   0.000e+00    3.2978 |   0.00016   0.60016   0.83825   0.84215   0.83816   0.77890 |   9.0234   1.153e-04   0.000e+00    9.0235 |  2.1 |\n",
      "  13 | 1.00e-02  1.00e-02  1.00e-03  4.00e+00 |   5.1446   3.377e-04   0.000e+00    5.1449 |   0.00016   0.61341   0.83507   0.83888   0.83498   0.77924 |   9.1774   1.153e-04   0.000e+00    9.1775 |  4.1 |\n",
      "  14 | 1.00e-02  1.00e-02  1.00e-03  4.00e+00 |   3.9743   3.377e-04   0.000e+00    3.9746 |   0.00016   0.60143   0.83868   0.84131   0.83860   0.77855 |   9.0316   1.153e-04   0.000e+00    9.0317 |  2.3 |\n",
      "  15 | 1.00e-02  1.00e-02  1.00e-03  4.00e+00 |   3.5692   3.377e-04   0.000e+00    3.5695 |   0.00016   0.60806   0.83828   0.84212   0.83819   0.77925 |   9.1120   1.153e-04   0.000e+00    9.1122 |  1.9 |\n",
      "  16 | 1.00e-02  1.00e-02  1.00e-03  4.00e+00 |   3.5090   3.377e-04   0.000e+00    3.5093 |   0.00016   0.60427   0.83768   0.84097   0.83759   0.77874 |   9.0639   1.153e-04   0.000e+00    9.0640 |  2.3 |\n",
      "  17 | 1.00e-02  1.00e-02  1.00e-03  4.00e+00 |   4.7630   3.377e-04   0.000e+00    4.7633 |   0.00016   0.61254   0.84172   0.84495   0.84162   0.78057 |   9.1736   1.153e-04   0.000e+00    9.1737 |  2.3 |\n",
      "Previous best_epoch:     9   best iter:  1035,   best_value: 0.83908\n",
      "New      best_epoch:    17   best iter:  1955,   best_value: 0.84172\n",
      "  18 | 1.00e-02  1.00e-02  1.00e-03  4.00e+00 |   3.5904   3.377e-04   0.000e+00    3.5908 |   0.00016   0.61748   0.83605   0.83819   0.83597   0.77582 |   9.2528   1.153e-04   0.000e+00    9.2529 |  2.1 |\n",
      "  19 | 1.00e-02  1.00e-02  1.00e-03  4.00e+00 |   4.1526   3.377e-04   0.000e+00    4.1529 |   0.00016   0.61882   0.83627   0.83842   0.83619   0.77591 |   9.2603   1.153e-04   0.000e+00    9.2604 |  5.2 |\n",
      "  20 | 1.00e-02  1.00e-02  1.00e-03  4.00e+00 |   3.6486   3.377e-04   0.000e+00    3.6490 |   0.00017   0.62572   0.83957   0.84180   0.83949   0.77780 |   9.4116   1.153e-04   0.000e+00    9.4117 |  2.3 |\n",
      "  21 | 1.00e-02  1.00e-02  1.00e-03  4.00e+00 |   4.3563   3.377e-04   0.000e+00    4.3567 |   0.00017   0.63557   0.83360   0.83759   0.83351   0.77715 |   9.5476   1.153e-04   0.000e+00    9.5478 |  2.2 |\n",
      "  22 | 1.00e-02  1.00e-02  1.00e-03  4.00e+00 |   3.4535   3.377e-04   0.000e+00    3.4539 |   0.00017   0.62368   0.83846   0.83968   0.83838   0.77754 |   9.3492   1.153e-04   0.000e+00    9.3493 |  2.3 |\n",
      "  23 | 1.00e-02  1.00e-02  1.00e-03  4.00e+00 |   3.8846   3.377e-04   0.000e+00    3.8849 |   0.00016   0.61770   0.83900   0.84096   0.83890   0.77773 |   9.2900   1.153e-04   0.000e+00    9.2901 |  3.9 |\n",
      "Epoch    23: reducing learning rate of group 0 to 3.0000e-03.\n",
      "Epoch    23: reducing learning rate of group 1 to 3.0000e-03.\n",
      "  24 | 3.00e-03  3.00e-03  1.00e-03  4.00e+00 |   1.7959   3.377e-04   0.000e+00    1.7962 |   0.00017   0.64487   0.85150   0.85316   0.85142   0.78818 |   9.6397   1.153e-04   0.000e+00    9.6398 |  2.3 |\n",
      "Previous best_epoch:    17   best iter:  1955,   best_value: 0.84172\n",
      "New      best_epoch:    24   best iter:  2760,   best_value: 0.85150\n",
      "  25 | 3.00e-03  3.00e-03  1.00e-03  4.00e+00 |   1.7931   3.377e-04   0.000e+00    1.7935 |   0.00018   0.68876   0.85234   0.85348   0.85227   0.78757 |  10.3246   1.153e-04   0.000e+00   10.3247 |  3.1 |\n",
      "Previous best_epoch:    24   best iter:  2760,   best_value: 0.85150\n",
      "New      best_epoch:    25   best iter:  2875,   best_value: 0.85234\n",
      " Ep  | Trunk LR  Heads LR  Polcy LR  Gmbl Tmp |  trn tsk    trn spar    trn shar   trn ttl |   logloss   bceloss  avg prec    aucroc     aucpr    f1_max |  val tsk    val spar    val shar     total | time |\n",
      "  26 | 3.00e-03  3.00e-03  1.00e-03  4.00e+00 |   1.7616   3.377e-04   0.000e+00    1.7619 |   0.00019   0.71712   0.85262   0.85384   0.85255   0.78864 |  10.7743   1.153e-04   0.000e+00   10.7744 |  2.3 |\n",
      "Previous best_epoch:    25   best iter:  2875,   best_value: 0.85234\n",
      "New      best_epoch:    26   best iter:  2990,   best_value: 0.85262\n",
      "  27 | 3.00e-03  3.00e-03  1.00e-03  4.00e+00 |   2.0505   3.377e-04   0.000e+00    2.0509 |   0.00019   0.72913   0.85067   0.85311   0.85059   0.78775 |  10.9290   1.153e-04   0.000e+00   10.9291 |  2.5 |\n",
      "  28 | 3.00e-03  3.00e-03  1.00e-03  4.00e+00 |   1.2762   3.377e-04   0.000e+00    1.2766 |   0.00020   0.75631   0.84957   0.85142   0.84949   0.78665 |  11.3559   1.153e-04   0.000e+00   11.3561 |  2.1 |\n",
      "  29 | 3.00e-03  3.00e-03  1.00e-03  4.00e+00 |   1.4789   3.377e-04   0.000e+00    1.4792 |   0.00020   0.75752   0.84887   0.85107   0.84879   0.78561 |  11.3524   1.153e-04   0.000e+00   11.3525 |  2.3 |\n"
     ]
    },
    {
     "name": "stdout",
     "output_type": "stream",
     "text": [
      "  30 | 3.00e-03  3.00e-03  1.00e-03  4.00e+00 |   1.5163   3.377e-04   0.000e+00    1.5167 |   0.00021   0.77941   0.84760   0.84981   0.84752   0.78644 |  11.6774   1.153e-04   0.000e+00   11.6775 |  2.3 |\n",
      "  31 | 3.00e-03  3.00e-03  1.00e-03  4.00e+00 |   1.5843   3.377e-04   0.000e+00    1.5846 |   0.00021   0.78502   0.84875   0.84937   0.84867   0.78481 |  11.7894   1.153e-04   0.000e+00   11.7895 |  4.7 |\n",
      "  32 | 3.00e-03  3.00e-03  1.00e-03  4.00e+00 |   2.1944   3.377e-04   0.000e+00    2.1947 |   0.00021   0.79636   0.84655   0.84794   0.84647   0.78359 |  11.9237   1.153e-04   0.000e+00   11.9238 |  2.3 |\n",
      "  33 | 3.00e-03  3.00e-03  1.00e-03  4.00e+00 |   1.8674   3.377e-04   0.000e+00    1.8678 |   0.00022   0.80906   0.84633   0.84733   0.84626   0.78311 |  12.1557   1.153e-04   0.000e+00   12.1559 |  1.9 |\n",
      "  34 | 3.00e-03  3.00e-03  1.00e-03  4.00e+00 |   1.6464   3.377e-04   0.000e+00    1.6467 |   0.00022   0.80943   0.84642   0.84749   0.84634   0.78343 |  12.1299   1.153e-04   0.000e+00   12.1300 |  2.3 |\n",
      "  35 | 3.00e-03  3.00e-03  1.00e-03  4.00e+00 |   1.8543   3.377e-04   0.000e+00    1.8546 |   0.00022   0.81523   0.84506   0.84706   0.84498   0.78382 |  12.2529   1.153e-04   0.000e+00   12.2530 |  2.2 |\n",
      "  36 | 3.00e-03  3.00e-03  1.00e-03  4.00e+00 |   1.6135   3.377e-04   0.000e+00    1.6139 |   0.00022   0.82041   0.84552   0.84695   0.84544   0.78325 |  12.3464   1.153e-04   0.000e+00   12.3466 |  2.3 |\n",
      "  37 | 3.00e-03  3.00e-03  1.00e-03  4.00e+00 |   1.4329   3.377e-04   0.000e+00    1.4332 |   0.00022   0.82739   0.84371   0.84519   0.84363   0.78218 |  12.3886   1.153e-04   0.000e+00   12.3888 |  5.0 |\n",
      "  38 | 3.00e-03  3.00e-03  1.00e-03  4.00e+00 |   1.7136   3.377e-04   0.000e+00    1.7139 |   0.00022   0.83807   0.84323   0.84553   0.84315   0.78162 |  12.5680   1.153e-04   0.000e+00   12.5681 |  2.2 |\n",
      "  39 | 3.00e-03  3.00e-03  1.00e-03  4.00e+00 |   1.2661   3.377e-04   0.000e+00    1.2665 |   0.00022   0.82899   0.84542   0.84664   0.84534   0.78216 |  12.4755   1.153e-04   0.000e+00   12.4756 |  2.2 |\n",
      "  40 | 3.00e-03  3.00e-03  1.00e-03  4.00e+00 |   1.7887   3.377e-04   0.000e+00    1.7891 |   0.00023   0.85220   0.84319   0.84549   0.84311   0.78223 |  12.7687   1.153e-04   0.000e+00   12.7688 |  2.2 |\n",
      "  41 | 3.00e-03  3.00e-03  1.00e-03  4.00e+00 |   1.5353   3.377e-04   0.000e+00    1.5356 |   0.00022   0.84304   0.84301   0.84487   0.84292   0.78065 |  12.6209   1.153e-04   0.000e+00   12.6210 |  2.1 |\n",
      "  42 | 3.00e-03  3.00e-03  1.00e-03  4.00e+00 |   2.6284   3.377e-04   0.000e+00    2.6287 |   0.00023   0.85517   0.84133   0.84368   0.84123   0.78043 |  12.8083   1.153e-04   0.000e+00   12.8084 |  2.2 |\n",
      "  43 | 3.00e-03  3.00e-03  1.00e-03  4.00e+00 |   1.7225   3.377e-04   0.000e+00    1.7229 |   0.00023   0.86173   0.84265   0.84447   0.84256   0.78096 |  12.9988   1.153e-04   0.000e+00   12.9989 |  4.7 |\n",
      "  44 | 3.00e-03  3.00e-03  1.00e-03  4.00e+00 |   1.6546   3.377e-04   0.000e+00    1.6550 |   0.00023   0.87003   0.84234   0.84351   0.84226   0.78127 |  13.0084   1.153e-04   0.000e+00   13.0085 |  2.1 |\n",
      "  45 | 3.00e-03  3.00e-03  1.00e-03  4.00e+00 |   1.9800   3.377e-04   0.000e+00    1.9803 |   0.00023   0.86127   0.84056   0.84415   0.84048   0.78134 |  12.9035   1.153e-04   0.000e+00   12.9036 |  2.1 |\n",
      "  46 | 3.00e-03  3.00e-03  1.00e-03  4.00e+00 |   1.1859   3.377e-04   0.000e+00    1.1863 |   0.00023   0.87530   0.84064   0.84426   0.84055   0.78168 |  13.1624   1.153e-04   0.000e+00   13.1625 |  2.3 |\n",
      "  47 | 3.00e-03  3.00e-03  1.00e-03  4.00e+00 |   1.4150   3.377e-04   0.000e+00    1.4153 |   0.00023   0.87862   0.83979   0.84333   0.83971   0.78075 |  13.1832   1.153e-04   0.000e+00   13.1833 |  2.3 |\n",
      "  48 | 3.00e-03  3.00e-03  1.00e-03  4.00e+00 |   1.4709   3.377e-04   0.000e+00    1.4712 |   0.00023   0.87352   0.84102   0.84327   0.84093   0.78081 |  13.0837   1.153e-04   0.000e+00   13.0838 |  2.2 |\n",
      "  49 | 3.00e-03  3.00e-03  1.00e-03  4.00e+00 |   1.3275   3.377e-04   0.000e+00    1.3279 |   0.00024   0.89569   0.83958   0.84217   0.83949   0.77974 |  13.3998   1.153e-04   0.000e+00   13.3999 |  2.1 |\n",
      "  50 | 3.00e-03  3.00e-03  1.00e-03  4.00e+00 |   1.8121   3.377e-04   0.000e+00    1.8124 |   0.00024   0.90113   0.83917   0.84237   0.83908   0.77994 |  13.4692   1.153e-04   0.000e+00   13.4693 |  3.9 |\n",
      " Ep  | Trunk LR  Heads LR  Polcy LR  Gmbl Tmp |  trn tsk    trn spar    trn shar   trn ttl |   logloss   bceloss  avg prec    aucroc     aucpr    f1_max |  val tsk    val spar    val shar     total | time |\n",
      "  51 | 3.00e-03  3.00e-03  1.00e-03  4.00e+00 |   1.9697   3.377e-04   0.000e+00    1.9701 |   0.00023   0.87900   0.84190   0.84450   0.84182   0.78211 |  13.1832   1.153e-04   0.000e+00   13.1834 |  2.3 |\n",
      "  52 | 3.00e-03  3.00e-03  1.00e-03  4.00e+00 |   1.7364   3.377e-04   0.000e+00    1.7367 |   0.00024   0.88301   0.84124   0.84430   0.84116   0.78143 |  13.2458   1.153e-04   0.000e+00   13.2459 |  4.1 |\n",
      "  53 | 3.00e-03  3.00e-03  1.00e-03  4.00e+00 |   1.5440   3.377e-04   0.000e+00    1.5443 |   0.00023   0.88141   0.84172   0.84461   0.84164   0.78146 |  13.1971   1.153e-04   0.000e+00   13.1972 |  2.2 |\n",
      "  54 | 3.00e-03  3.00e-03  1.00e-03  4.00e+00 |   2.0393   3.377e-04   0.000e+00    2.0396 |   0.00024   0.89593   0.83764   0.84209   0.83755   0.77880 |  13.4624   1.153e-04   0.000e+00   13.4626 |  1.9 |\n",
      "  55 | 3.00e-03  3.00e-03  1.00e-03  4.00e+00 |   1.5310   3.377e-04   0.000e+00    1.5313 |   0.00024   0.88808   0.84162   0.84551   0.84154   0.78181 |  13.3138   1.153e-04   0.000e+00   13.3139 |  2.0 |\n",
      "  56 | 3.00e-03  3.00e-03  1.00e-03  4.00e+00 |   1.3417   3.377e-04   0.000e+00    1.3420 |   0.00023   0.87516   0.84018   0.84367   0.84010   0.78034 |  13.1110   1.153e-04   0.000e+00   13.1111 |  4.0 |\n",
      "  57 | 3.00e-03  3.00e-03  1.00e-03  4.00e+00 |   1.5689   3.377e-04   0.000e+00    1.5693 |   0.00024   0.89451   0.83870   0.84246   0.83861   0.78080 |  13.3785   1.153e-04   0.000e+00   13.3786 |  2.2 |\n",
      "Epoch    57: reducing learning rate of group 0 to 9.0000e-04.\n",
      "Epoch    57: reducing learning rate of group 1 to 9.0000e-04.\n",
      "  58 | 9.00e-04  9.00e-04  1.00e-03  4.00e+00 |   0.8396   3.377e-04   0.000e+00    0.8399 |   0.00024   0.89387   0.84265   0.84597   0.84257   0.78326 |  13.4263   1.153e-04   0.000e+00   13.4264 |  2.3 |\n",
      "  59 | 9.00e-04  9.00e-04  1.00e-03  4.00e+00 |   1.0108   3.377e-04   0.000e+00    1.0111 |   0.00024   0.90923   0.84376   0.84692   0.84369   0.78364 |  13.6005   1.153e-04   0.000e+00   13.6006 |  2.3 |\n",
      "  60 | 9.00e-04  9.00e-04  1.00e-03  4.00e+00 |   1.1844   3.377e-04   0.000e+00    1.1847 |   0.00025   0.91930   0.84500   0.84760   0.84493   0.78365 |  13.8090   1.153e-04   0.000e+00   13.8091 |  2.1 |\n",
      "  61 | 9.00e-04  9.00e-04  1.00e-03  4.00e+00 |   0.7563   3.377e-04   0.000e+00    0.7566 |   0.00025   0.93327   0.84551   0.84774   0.84544   0.78340 |  14.0173   1.153e-04   0.000e+00   14.0174 |  2.3 |\n",
      "  62 | 9.00e-04  9.00e-04  1.00e-03  4.00e+00 |   0.7621   3.377e-04   0.000e+00    0.7625 |   0.00025   0.94139   0.84422   0.84678   0.84414   0.78314 |  14.1111   1.153e-04   0.000e+00   14.1112 |  5.1 |\n",
      "  63 | 9.00e-04  9.00e-04  1.00e-03  4.00e+00 |   1.0876   3.377e-04   0.000e+00    1.0879 |   0.00025   0.94647   0.84397   0.84646   0.84390   0.78283 |  14.1861   1.153e-04   0.000e+00   14.1862 |  1.9 |\n",
      "  64 | 9.00e-04  9.00e-04  1.00e-03  4.00e+00 |   0.5390   3.377e-04   0.000e+00    0.5394 |   0.00026   0.96185   0.84378   0.84616   0.84370   0.78270 |  14.3791   1.153e-04   0.000e+00   14.3792 |  2.4 |\n",
      "  65 | 9.00e-04  9.00e-04  1.00e-03  4.00e+00 |   0.7687   3.377e-04   0.000e+00    0.7690 |   0.00026   0.96245   0.84399   0.84667   0.84391   0.78312 |  14.4087   1.153e-04   0.000e+00   14.4089 |  2.3 |\n",
      "  66 | 9.00e-04  9.00e-04  1.00e-03  4.00e+00 |   0.6535   3.377e-04   0.000e+00    0.6539 |   0.00026   0.96582   0.84380   0.84649   0.84373   0.78281 |  14.4884   1.153e-04   0.000e+00   14.4885 |  4.4 |\n",
      "  67 | 9.00e-04  9.00e-04  1.00e-03  4.00e+00 |   1.0308   3.377e-04   0.000e+00    1.0311 |   0.00026   0.96812   0.84365   0.84584   0.84357   0.78202 |  14.5093   1.153e-04   0.000e+00   14.5094 |  3.9 |\n"
     ]
    },
    {
     "name": "stdout",
     "output_type": "stream",
     "text": [
      "  68 | 9.00e-04  9.00e-04  1.00e-03  4.00e+00 |   0.6121   3.377e-04   0.000e+00    0.6125 |   0.00026   0.96815   0.84437   0.84663   0.84429   0.78232 |  14.5694   1.153e-04   0.000e+00   14.5695 |  2.3 |\n",
      "  69 | 9.00e-04  9.00e-04  1.00e-03  4.00e+00 |   0.6604   3.377e-04   0.000e+00    0.6607 |   0.00026   0.97827   0.84412   0.84626   0.84405   0.78170 |  14.6417   1.153e-04   0.000e+00   14.6418 |  2.2 |\n",
      "  70 | 9.00e-04  9.00e-04  1.00e-03  4.00e+00 |   0.7127   3.377e-04   0.000e+00    0.7130 |   0.00026   0.97918   0.84394   0.84615   0.84386   0.78201 |  14.6966   1.153e-04   0.000e+00   14.6967 |  2.3 |\n",
      "  71 | 9.00e-04  9.00e-04  1.00e-03  4.00e+00 |   0.8228   3.377e-04   0.000e+00    0.8231 |   0.00026   0.98848   0.84292   0.84524   0.84285   0.78127 |  14.7785   1.153e-04   0.000e+00   14.7786 |  2.2 |\n",
      "  72 | 9.00e-04  9.00e-04  1.00e-03  4.00e+00 |   0.4707   3.377e-04   0.000e+00    0.4710 |   0.00026   0.99035   0.84299   0.84523   0.84292   0.78117 |  14.8861   1.153e-04   0.000e+00   14.8862 |  2.3 |\n",
      "  73 | 9.00e-04  9.00e-04  1.00e-03  4.00e+00 |   1.1302   3.377e-04   0.000e+00    1.1305 |   0.00027   0.99311   0.84307   0.84549   0.84299   0.78212 |  14.9291   1.153e-04   0.000e+00   14.9292 |  4.9 |\n",
      "  74 | 9.00e-04  9.00e-04  1.00e-03  4.00e+00 |   0.8706   3.377e-04   0.000e+00    0.8709 |   0.00026   0.99156   0.84155   0.84456   0.84147   0.78039 |  14.8742   1.153e-04   0.000e+00   14.8743 |  2.3 |\n",
      "  75 | 9.00e-04  9.00e-04  1.00e-03  4.00e+00 |   0.6012   3.377e-04   0.000e+00    0.6016 |   0.00027   0.99329   0.84220   0.84541   0.84212   0.78179 |  14.9350   1.153e-04   0.000e+00   14.9351 |  2.1 |\n",
      " Ep  | Trunk LR  Heads LR  Polcy LR  Gmbl Tmp |  trn tsk    trn spar    trn shar   trn ttl |   logloss   bceloss  avg prec    aucroc     aucpr    f1_max |  val tsk    val spar    val shar     total | time |\n",
      "  76 | 9.00e-04  9.00e-04  1.00e-03  4.00e+00 |   0.6133   3.377e-04   0.000e+00    0.6136 |   0.00027   1.00362   0.84152   0.84427   0.84144   0.78018 |  15.0224   1.153e-04   0.000e+00   15.0225 |  2.1 |\n",
      "  77 | 9.00e-04  9.00e-04  1.00e-03  4.00e+00 |   0.6628   3.377e-04   0.000e+00    0.6632 |   0.00027   1.00882   0.84105   0.84395   0.84097   0.78032 |  15.1922   1.153e-04   0.000e+00   15.1923 |  2.1 |\n",
      "  78 | 9.00e-04  9.00e-04  1.00e-03  4.00e+00 |   0.9362   3.377e-04   0.000e+00    0.9365 |   0.00027   1.00975   0.84181   0.84439   0.84173   0.78100 |  15.0991   1.153e-04   0.000e+00   15.0992 |  2.0 |\n",
      "  79 | 9.00e-04  9.00e-04  1.00e-03  4.00e+00 |   0.5023   3.377e-04   0.000e+00    0.5027 |   0.00027   1.00927   0.84124   0.84412   0.84116   0.78074 |  15.1045   1.153e-04   0.000e+00   15.1047 |  4.6 |\n",
      "  80 | 9.00e-04  9.00e-04  1.00e-03  4.00e+00 |   1.0076   3.377e-04   0.000e+00    1.0080 |   0.00027   1.01467   0.84153   0.84434   0.84145   0.78038 |  15.2127   1.153e-04   0.000e+00   15.2128 |  4.4 |\n",
      "  81 | 9.00e-04  9.00e-04  1.00e-03  4.00e+00 |   0.8916   3.377e-04   0.000e+00    0.8919 |   0.00027   1.02735   0.84129   0.84385   0.84121   0.78082 |  15.4319   1.153e-04   0.000e+00   15.4320 |  2.2 |\n",
      "  82 | 9.00e-04  9.00e-04  1.00e-03  4.00e+00 |   0.7078   3.377e-04   0.000e+00    0.7081 |   0.00027   1.02040   0.84038   0.84296   0.84030   0.77964 |  15.3819   1.153e-04   0.000e+00   15.3820 |  2.3 |\n",
      "  83 | 9.00e-04  9.00e-04  1.00e-03  4.00e+00 |   0.6658   3.377e-04   0.000e+00    0.6661 |   0.00027   1.02819   0.84130   0.84334   0.84122   0.78058 |  15.3641   1.153e-04   0.000e+00   15.3642 |  2.2 |\n",
      "Epoch    83: reducing learning rate of group 0 to 2.7000e-04.\n",
      "Epoch    83: reducing learning rate of group 1 to 2.7000e-04.\n",
      "  84 | 2.70e-04  2.70e-04  1.00e-03  4.00e+00 |   0.7667   3.377e-04   0.000e+00    0.7671 |   0.00027   1.02515   0.84160   0.84357   0.84152   0.78017 |  15.3317   1.153e-04   0.000e+00   15.3318 |  2.0 |\n",
      "  85 | 2.70e-04  2.70e-04  1.00e-03  4.00e+00 |   0.8580   3.377e-04   0.000e+00    0.8583 |   0.00028   1.02974   0.84213   0.84421   0.84205   0.78067 |  15.4997   1.153e-04   0.000e+00   15.4998 |  4.3 |\n",
      "  86 | 2.70e-04  2.70e-04  1.00e-03  4.00e+00 |   0.7317   3.377e-04   0.000e+00    0.7320 |   0.00027   1.02569   0.84210   0.84429   0.84202   0.78099 |  15.3372   1.153e-04   0.000e+00   15.3374 |  2.4 |\n",
      "  87 | 2.70e-04  2.70e-04  1.00e-03  4.00e+00 |   0.6890   3.377e-04   0.000e+00    0.6893 |   0.00027   1.02849   0.84199   0.84424   0.84191   0.78066 |  15.3940   1.153e-04   0.000e+00   15.3941 |  2.1 |\n",
      "  88 | 2.70e-04  2.70e-04  1.00e-03  4.00e+00 |   0.6584   3.377e-04   0.000e+00    0.6588 |   0.00028   1.03263   0.84175   0.84418   0.84167   0.78039 |  15.5185   1.153e-04   0.000e+00   15.5186 |  2.0 |\n",
      "  89 | 2.70e-04  2.70e-04  1.00e-03  4.00e+00 |   0.4514   3.377e-04   0.000e+00    0.4517 |   0.00027   1.03185   0.84136   0.84388   0.84127   0.78053 |  15.4801   1.153e-04   0.000e+00   15.4802 |  2.3 |\n",
      "  90 | 2.70e-04  2.70e-04  1.00e-03  4.00e+00 |   0.8168   3.377e-04   0.000e+00    0.8171 |   0.00028   1.03886   0.84137   0.84397   0.84129   0.78051 |  15.5048   1.153e-04   0.000e+00   15.5049 |  2.1 |\n",
      "  91 | 2.70e-04  2.70e-04  1.00e-03  4.00e+00 |   0.6683   3.377e-04   0.000e+00    0.6686 |   0.00028   1.03504   0.84132   0.84390   0.84124   0.78063 |  15.5221   1.153e-04   0.000e+00   15.5222 |  5.1 |\n",
      "  92 | 2.70e-04  2.70e-04  1.00e-03  4.00e+00 |   0.7011   3.377e-04   0.000e+00    0.7014 |   0.00028   1.03777   0.84139   0.84395   0.84131   0.78085 |  15.5489   1.153e-04   0.000e+00   15.5490 |  2.1 |\n",
      "  93 | 2.70e-04  2.70e-04  1.00e-03  4.00e+00 |   0.3340   3.377e-04   0.000e+00    0.3343 |   0.00028   1.03984   0.84153   0.84409   0.84145   0.78054 |  15.6435   1.153e-04   0.000e+00   15.6436 |  2.3 |\n",
      "  94 | 2.70e-04  2.70e-04  1.00e-03  4.00e+00 |   0.9500   3.377e-04   0.000e+00    0.9503 |   0.00028   1.03959   0.84133   0.84409   0.84124   0.78074 |  15.5553   1.153e-04   0.000e+00   15.5554 |  2.0 |\n",
      "  95 | 2.70e-04  2.70e-04  1.00e-03  4.00e+00 |   0.7830   3.377e-04   0.000e+00    0.7834 |   0.00028   1.04294   0.84103   0.84390   0.84095   0.78054 |  15.6696   1.153e-04   0.000e+00   15.6697 |  4.2 |\n",
      "  96 | 2.70e-04  2.70e-04  1.00e-03  4.00e+00 |   0.6902   3.377e-04   0.000e+00    0.6906 |   0.00028   1.04465   0.84089   0.84370   0.84080   0.78024 |  15.6729   1.153e-04   0.000e+00   15.6730 |  2.0 |\n",
      "  97 | 2.70e-04  2.70e-04  1.00e-03  4.00e+00 |   0.8336   3.377e-04   0.000e+00    0.8340 |   0.00028   1.04113   0.84182   0.84415   0.84174   0.78015 |  15.6432   1.153e-04   0.000e+00   15.6433 |  4.3 |\n",
      "  98 | 2.70e-04  2.70e-04  1.00e-03  4.00e+00 |   0.6160   3.377e-04   0.000e+00    0.6163 |   0.00028   1.04413   0.84189   0.84423   0.84181   0.78055 |  15.6546   1.153e-04   0.000e+00   15.6548 |  2.3 |\n",
      "  99 | 2.70e-04  2.70e-04  1.00e-03  4.00e+00 |   0.4898   3.377e-04   0.000e+00    0.4901 |   0.00028   1.04729   0.84155   0.84414   0.84147   0.78027 |  15.7315   1.153e-04   0.000e+00   15.7317 |  2.2 |\n",
      " 100 | 2.70e-04  2.70e-04  1.00e-03  4.00e+00 |   0.3221   3.377e-04   0.000e+00    0.3224 |   0.00028   1.04579   0.84166   0.84412   0.84158   0.78065 |  15.6818   1.153e-04   0.000e+00   15.6819 |  2.2 |\n",
      "[Final] ep:100  it:11500 -  Total Loss: 15.6819     \n",
      "Task: 15.6818   Sparsity: 1.15307e-04    Sharing: 0.00000e+00 \n",
      "\n",
      " ep:  100   softmax      s        \n",
      " ----- ----------------- -    \n",
      "  0    0.4996    0.5004  0\n",
      "\n",
      "\n",
      " ep:  100   logits       s         \n",
      " ----- ----------------- -    \n",
      "  0   -0.0011    0.0005  0\n",
      "\n",
      " save warmup val_metrics to :  model_warmup_ep_100\n",
      " save warmup checkpoint  to :  model_warmup_ep_100\n"
     ]
    }
   ],
   "source": [
    "\n",
    "warmup_phase(ns,opt, environ, dldrs)\n"
   ]
  },
  {
   "cell_type": "code",
   "execution_count": 16,
   "id": "31ccb59a",
   "metadata": {
    "ExecuteTime": {
     "end_time": "2022-04-08T15:46:22.580010Z",
     "start_time": "2022-04-08T15:46:22.488205Z"
    }
   },
   "outputs": [
    {
     "name": "stdout",
     "output_type": "stream",
     "text": [
      "0, 0, 0.0000\n"
     ]
    }
   ],
   "source": [
    "print(f\"{ns.best_epoch}, {ns.best_iter}, {ns.best_value:.4f}\")"
   ]
  },
  {
   "cell_type": "code",
   "execution_count": 17,
   "id": "64ba324f",
   "metadata": {
    "ExecuteTime": {
     "end_time": "2022-04-08T15:34:03.523505Z",
     "start_time": "2022-04-08T15:33:59.804764Z"
    }
   },
   "outputs": [
    {
     "name": "stdout",
     "output_type": "stream",
     "text": [
      "\n"
     ]
    },
    {
     "data": {
      "text/html": [
       "Waiting for W&B process to finish... <strong style=\"color:green\">(success).</strong>"
      ],
      "text/plain": [
       "<IPython.core.display.HTML object>"
      ]
     },
     "metadata": {},
     "output_type": "display_data"
    },
    {
     "data": {
      "application/vnd.jupyter.widget-view+json": {
       "model_id": "805be9b834644247b2d6c0517925aa36",
       "version_major": 2,
       "version_minor": 0
      },
      "text/plain": [
       "VBox(children=(Label(value='0.653 MB of 0.653 MB uploaded (0.000 MB deduped)\\r'), FloatProgress(value=1.0, max…"
      ]
     },
     "metadata": {},
     "output_type": "display_data"
    },
    {
     "data": {
      "text/html": [
       "<style>\n",
       "    table.wandb td:nth-child(1) { padding: 0 10px; text-align: right }\n",
       "    .wandb-row { display: flex; flex-direction: row; flex-wrap: wrap; width: 100% }\n",
       "    .wandb-col { display: flex; flex-direction: column; flex-basis: 100%; flex: 1; padding: 10px; }\n",
       "    </style>\n",
       "<div class=\"wandb-row\"><div class=\"wandb-col\"><h3>Run history:</h3><br/><table class=\"wandb\"><tr><td>epoch</td><td>▁▁▁▁▂▂▂▂▂▃▃▃▃▃▃▄▄▄▄▄▅▅▅▅▅▅▆▆▆▆▆▇▇▇▇▇▇███</td></tr><tr><td>train_time</td><td>█▁▂▂▂█▁▁▂▂▇▇▇▂▂▁▁▂▁▆▂▆▁▂▂▂▁▂▂▂▁▁▂█▂▁▁▂▆▂</td></tr></table><br/></div><div class=\"wandb-col\"><h3>Run summary:</h3><br/><table class=\"wandb\"><tr><td>epoch</td><td>100</td></tr><tr><td>train_time</td><td>2.28788</td></tr></table><br/></div></div>"
      ],
      "text/plain": [
       "<IPython.core.display.HTML object>"
      ]
     },
     "metadata": {},
     "output_type": "display_data"
    },
    {
     "data": {
      "text/html": [
       "Synced <strong style=\"color:#cdcd00\">0408_1727_noplcy</strong>: <a href=\"https://wandb.ai/kbardool/AdaSparseChem/runs/119l76zu\" target=\"_blank\">https://wandb.ai/kbardool/AdaSparseChem/runs/119l76zu</a><br/>Synced 6 W&B file(s), 100 media file(s), 100 artifact file(s) and 0 other file(s)"
      ],
      "text/plain": [
       "<IPython.core.display.HTML object>"
      ]
     },
     "metadata": {},
     "output_type": "display_data"
    },
    {
     "data": {
      "text/html": [
       "Find logs at: <code>./wandb/run-20220408_172741-119l76zu/logs</code>"
      ],
      "text/plain": [
       "<IPython.core.display.HTML object>"
      ]
     },
     "metadata": {},
     "output_type": "display_data"
    }
   ],
   "source": [
    "# warmup_phase(ns,opt, environ, dldrs, epochs = 25)\n",
    "ns.wandb_run.finish()\n",
    "\n",
    "# ns.wandb_run.finish()\n",
    "# environ.losses\n",
    "# environ.val_metrics"
   ]
  },
  {
   "cell_type": "markdown",
   "id": "e8f849a2",
   "metadata": {},
   "source": [
    "### Debugging"
   ]
  },
  {
   "cell_type": "code",
   "execution_count": 17,
   "id": "baea7fcb",
   "metadata": {
    "ExecuteTime": {
     "end_time": "2022-04-08T13:30:52.834827Z",
     "start_time": "2022-04-08T13:30:52.733732Z"
    }
   },
   "outputs": [],
   "source": [
    "from utils.sparsechem_utils import print_metrics_cr"
   ]
  },
  {
   "cell_type": "code",
   "execution_count": 41,
   "id": "611cc5bb",
   "metadata": {
    "ExecuteTime": {
     "end_time": "2022-04-08T14:10:08.994343Z",
     "start_time": "2022-04-08T14:10:08.605205Z"
    }
   },
   "outputs": [
    {
     "name": "stdout",
     "output_type": "stream",
     "text": [
      " Ep  | Trunk LR  Heads LR  Polcy LR  Gmbl Tmp |  trn tsk    trn spar    trn shar   trn ttl |   bceloss  avg prec    aucroc     aucpr |  val tsk    val spar    val shar     total | time |\n",
      "  76 | 1.00e-04  1.00e-04  1.00e-03  4.00e+00 |   2.3932   7.298e-04   0.000e+00    2.3939 |   0.66791   0.79741   0.80325   0.79727 |   9.9983   1.153e-04   0.000e+00    9.9984 | -0.0 |\n"
     ]
    }
   ],
   "source": [
    "print_metrics_cr(ns.current_epoch,  time.time() - time.time(), ns.trn_losses, environ.val_metrics, 0, \n",
    "                        out=sys.stdout, to_tqdm = True) \n",
    "    #                                              #                                              #                                         #                                                #       #"
   ]
  },
  {
   "cell_type": "code",
   "execution_count": 42,
   "id": "21d94990",
   "metadata": {
    "ExecuteTime": {
     "end_time": "2022-04-08T14:10:39.106696Z",
     "start_time": "2022-04-08T14:10:38.416944Z"
    }
   },
   "outputs": [
    {
     "data": {
      "text/plain": [
       "{'parms': {'gumbel_temp': 4,\n",
       "  'train_layers': 0,\n",
       "  'lr_0': 0.0001,\n",
       "  'lr_1': 0.0001,\n",
       "  'policy_lr': 0.001,\n",
       "  'lambda_sparsity': 0.02,\n",
       "  'lambda_sharing': 0.01,\n",
       "  'lambda_tasks': 1},\n",
       " 'task': {'total': tensor(9.028822, device='cuda:0', dtype=torch.float64),\n",
       "  'task1': tensor(9.028822, device='cuda:0', dtype=torch.float64)},\n",
       " 'task_mean': {'total': tensor(0.014681, device='cuda:0', dtype=torch.float64),\n",
       "  'task1': tensor(0.014681, device='cuda:0', dtype=torch.float64)},\n",
       " 'sparsity': {'total': tensor(0.000338, device='cuda:0'),\n",
       "  'task1': tensor(0.000338, device='cuda:0')},\n",
       " 'sharing': {'total': tensor(0., device='cuda:0')},\n",
       " 'total': {'backprop': 0.0,\n",
       "  'task': 0.0,\n",
       "  'policy': tensor(0.000338, device='cuda:0'),\n",
       "  'total': tensor(9.029160, device='cuda:0', dtype=torch.float64),\n",
       "  'total_mean': tensor(0.015019, device='cuda:0', dtype=torch.float64),\n",
       "  'tasks': tensor(9.028822, device='cuda:0', dtype=torch.float64)}}"
      ]
     },
     "execution_count": 42,
     "metadata": {},
     "output_type": "execute_result"
    }
   ],
   "source": [
    "# environ.losses\n",
    "# environ.val_metrics# environ.display_trained_policy(ns.current_epoch,out=[sys.stdout])\n",
    "# environ.num_tasks\n",
    "# print(environ.get_policy_prob().shape)\n",
    "# print(environ.val_data['task1'].keys())\n",
    "# print(environ.val_data['task1']['yc_ind'][0][:40])\n",
    "# print(environ.val_data['task1']['yc_ind'][1][:40])\n",
    "# print(environ.val_data['task1']['yc_data'][:40])\n",
    "# print(environ.val_data['task1']['yc_hat'][:40])\n"
   ]
  },
  {
   "cell_type": "code",
   "execution_count": 84,
   "id": "8d282759",
   "metadata": {
    "ExecuteTime": {
     "end_time": "2022-04-02T13:31:53.440981Z",
     "start_time": "2022-04-02T13:31:53.291595Z"
    }
   },
   "outputs": [
    {
     "name": "stdout",
     "output_type": "stream",
     "text": [
      "{'classification': {'_type': 'table-file', 'path': 'media/table/classification_303_06f949eef1c3e2770223.table.json', 'sha256': '06f949eef1c3e2770223ac877bb7bbf4138285b078998733776f70df690c26b7', 'size': 5492, 'artifact_path': 'wandb-client-artifact://it72gol71w4zwp58zxle9snz98k2ywxtf4qndvd2bxwxzkjcfdkssn3nfc1g1uj7sxv1my7vndse2cmmugf9qywm4gq9go3d9t22hhx8fqprfjbca0854vzrjelq6rz9/classification.table.json', '_latest_artifact_path': 'wandb-client-artifact://xfq7c1c8syngcvo0o8w9th5qieyu6fgvajvmb5ra9ug3svw3c08yd17k48o0hazadypv7zncp071os8qeenbvy9ntm0qlwmmtb7c7ittqt0dqbydnk4dt19unzon6uto:latest/classification.table.json', 'ncols': 9, 'nrows': 100}, 'classification_agg': {'roc_auc_score': nan, 'auc_pr': nan, 'avg_prec_score': nan, 'f1_max': nan, 'p_f1_max': nan, 'kappa': nan, 'kappa_max': nan, 'p_kappa_max': nan, 'bceloss': nan, 'sc_loss': 0.00823010015592516, 'logloss': 6.0260329519753785e-05}}\n",
      "4170.0\n",
      "4507\n",
      "4507\n",
      "4507\n"
     ]
    }
   ],
   "source": [
    "print(environ.val_metrics['task1'])\n",
    "print((environ.val_data['task1']['yc_data']).sum())\n",
    "print(len(environ.val_data['task1']['yc_ind'][1]))\n",
    "print(len(environ.val_data['task1']['yc_data']))\n",
    "print(len(environ.val_data['task1']['yc_hat']))"
   ]
  },
  {
   "cell_type": "code",
   "execution_count": 16,
   "id": "82a9721a",
   "metadata": {
    "ExecuteTime": {
     "end_time": "2022-04-07T18:53:42.223071Z",
     "start_time": "2022-04-07T18:53:41.758017Z"
    }
   },
   "outputs": [
    {
     "data": {
      "text/plain": [
       "[50]"
      ]
     },
     "execution_count": 16,
     "metadata": {},
     "output_type": "execute_result"
    }
   ],
   "source": [
    "environ.opt['hidden_sizes']"
   ]
  },
  {
   "cell_type": "code",
   "execution_count": 85,
   "id": "23a55df5",
   "metadata": {
    "ExecuteTime": {
     "end_time": "2022-04-02T13:31:55.581510Z",
     "start_time": "2022-04-02T13:31:55.526855Z"
    }
   },
   "outputs": [
    {
     "data": {
      "text/plain": [
       "False"
      ]
     },
     "execution_count": 85,
     "metadata": {},
     "output_type": "execute_result"
    }
   ],
   "source": [
    "(environ.val_data['task1']['yc_data'][0] == environ.val_data['task1']['yc_data']).all()"
   ]
  },
  {
   "cell_type": "code",
   "execution_count": 104,
   "id": "75b168d9",
   "metadata": {
    "ExecuteTime": {
     "end_time": "2022-04-02T14:20:55.327255Z",
     "start_time": "2022-04-02T14:20:55.026238Z"
    }
   },
   "outputs": [
    {
     "name": "stdout",
     "output_type": "stream",
     "text": [
      " [task is       task  y_true    y_score\n",
      "14       0     1.0   5.597143\n",
      "18       0     1.0   5.625531\n",
      "23       0     1.0  12.822014\n",
      "34       0     1.0  14.590454\n",
      "48       0     1.0   6.488068\n",
      "...    ...     ...        ...\n",
      "4470     0     1.0  10.922712\n",
      "4473     0     1.0  13.666399\n",
      "4475     0     1.0  12.766981\n",
      "4483     0     1.0  12.470244\n",
      "4502     0     1.0  13.195760\n",
      "\n",
      "[318 rows x 3 columns]]\n",
      " [task is       task  y_true   y_score\n",
      "893      3     1.0  5.705761\n",
      "1315     3     1.0  6.690732\n",
      "1382     3     1.0  7.397319\n",
      "2311     3     1.0  9.090773\n",
      "2364     3     1.0  4.605497\n",
      "2441     3     1.0  6.213061\n",
      "2458     3     1.0  6.602612\n",
      "2548     3     1.0  6.541490\n",
      "2625     3     1.0  6.570337\n",
      "2952     3     1.0  8.752759\n",
      "3413     3     1.0  5.917402\n",
      "3463     3     1.0  5.819000\n",
      "3705     3     1.0  4.716419\n",
      "3730     3     1.0  7.974041\n",
      "3768     3     1.0  9.193141\n",
      "4284     3     1.0  8.716344]\n",
      " [task is       task  y_true   y_score\n",
      "2        6     1.0  4.328727\n",
      "8        6     1.0  2.164240\n",
      "17       6     1.0  0.017455\n",
      "19       6     1.0  3.347758\n",
      "36       6     1.0  1.471472\n",
      "...    ...     ...       ...\n",
      "4484     6     1.0  3.097137\n",
      "4485     6     1.0  0.730731\n",
      "4490     6     1.0 -0.336954\n",
      "4491     6     1.0  3.395676\n",
      "4498     6     1.0 -0.164987\n",
      "\n",
      "[656 rows x 3 columns]]\n",
      " [task is       task  y_true   y_score\n",
      "24      10     1.0  3.612843\n",
      "28      10     1.0  3.780817\n",
      "43      10     1.0  2.525036\n",
      "54      10     1.0  4.478582\n",
      "55      10     1.0  3.253286\n",
      "...    ...     ...       ...\n",
      "4446    10     1.0  3.604181\n",
      "4449    10     1.0  3.249227\n",
      "4489    10     1.0  2.853686\n",
      "4495    10     1.0  3.210963\n",
      "4496    10     1.0  3.637440\n",
      "\n",
      "[401 rows x 3 columns]]\n",
      " [task is       task  y_true   y_score\n",
      "207     22     1.0 -1.913030\n",
      "834     22     1.0 -1.415941\n",
      "867     22     1.0 -1.857236\n",
      "1168    22     1.0 -3.875910\n",
      "1268    22     1.0 -2.437869\n",
      "1643    22     1.0 -3.082006\n",
      "1822    22     1.0 -1.518179\n",
      "2000    22     1.0 -3.752945\n",
      "2144    22     1.0 -2.319946\n",
      "2227    22     1.0 -3.376478\n",
      "2274    22     1.0 -1.795733\n",
      "2371    22     1.0 -3.403508\n",
      "2626    22     1.0 -2.038337\n",
      "3439    22     1.0 -2.586216\n",
      "3567    22     1.0 -2.023433\n",
      "4226    22     1.0 -3.138940]\n",
      " [task is       task  y_true    y_score\n",
      "1       28     1.0   4.990391\n",
      "5       28     1.0   5.807377\n",
      "27      28     1.0   4.418747\n",
      "30      28     1.0   5.808447\n",
      "42      28     1.0   5.785405\n",
      "...    ...     ...        ...\n",
      "4486    28     1.0   5.120580\n",
      "4492    28     1.0  10.621143\n",
      "4499    28     1.0   9.247607\n",
      "4500    28     1.0   5.780535\n",
      "4501    28     1.0   7.176177\n",
      "\n",
      "[569 rows x 3 columns]]\n",
      " [task is       task  y_true   y_score\n",
      "38      38     1.0  3.649275\n",
      "39      38     1.0  5.145975\n",
      "41      38     1.0  5.309868\n",
      "56      38     1.0  4.734281\n",
      "82      38     1.0  5.628111\n",
      "...    ...     ...       ...\n",
      "4452    38     1.0  4.493577\n",
      "4454    38     1.0  5.434719\n",
      "4459    38     1.0  3.070567\n",
      "4474    38     1.0  4.343500\n",
      "4497    38     1.0  5.337717\n",
      "\n",
      "[392 rows x 3 columns]]\n",
      " [task is       task  y_true   y_score\n",
      "25      45     1.0  1.616868\n",
      "106     45     1.0  1.976464\n",
      "391     45     1.0  1.821831\n",
      "411     45     1.0  1.642702\n",
      "569     45     1.0  1.537865\n",
      "...    ...     ...       ...\n",
      "4175    45     1.0  1.790347\n",
      "4212    45     1.0  2.201289\n",
      "4221    45     1.0  1.792394\n",
      "4481    45     1.0  1.846876\n",
      "4505    45     1.0  2.198826\n",
      "\n",
      "[66 rows x 3 columns]]\n",
      " [task is       task  y_true   y_score\n",
      "64      47     1.0 -0.064374\n",
      "292     47     1.0  1.959596\n",
      "329     47     1.0  0.038840\n",
      "340     47     1.0  0.665554\n",
      "344     47     1.0  0.239510\n",
      "645     47     1.0  1.457622\n",
      "948     47     1.0  0.392184\n",
      "956     47     1.0  0.231047\n",
      "992     47     1.0 -0.370126\n",
      "1270    47     1.0 -0.064374\n",
      "1324    47     1.0  1.692844\n",
      "1426    47     1.0  0.731340\n",
      "1539    47     1.0 -0.150518\n",
      "1592    47     1.0  0.577222\n",
      "1678    47     1.0  0.315438\n",
      "1828    47     1.0 -0.031724\n",
      "1840    47     1.0  0.829619\n",
      "1899    47     1.0  1.552252\n",
      "2111    47     1.0 -0.050204\n",
      "2164    47     1.0 -0.350070\n",
      "2321    47     1.0  0.455003\n",
      "2439    47     1.0  0.215053\n",
      "2550    47     1.0 -0.443491\n",
      "2921    47     1.0  0.201255\n",
      "2986    47     1.0  0.228516\n",
      "3178    47     1.0  0.275073\n",
      "3180    47     1.0  1.037046\n",
      "3282    47     1.0 -0.285253\n",
      "3412    47     1.0  0.146528\n",
      "3445    47     1.0 -0.089862\n",
      "3564    47     1.0 -0.381970\n",
      "3781    47     1.0  0.136376\n",
      "3845    47     1.0  0.044166\n",
      "3915    47     1.0  0.373618\n",
      "3923    47     1.0  1.124196\n",
      "4392    47     1.0 -0.843895]\n",
      " [task is       task  y_true   y_score\n",
      "0       50     1.0  5.704370\n",
      "3       50     1.0  5.445829\n",
      "6       50     1.0  6.275769\n",
      "7       50     1.0  6.779311\n",
      "9       50     1.0  5.247794\n",
      "...    ...     ...       ...\n",
      "4464    50     1.0  4.786297\n",
      "4467    50     1.0  6.089084\n",
      "4488    50     1.0  5.729190\n",
      "4493    50     1.0  6.106776\n",
      "4504    50     1.0  7.440650\n",
      "\n",
      "[943 rows x 3 columns]]\n",
      " [task is       task  y_true   y_score\n",
      "26      52     0.0  1.422966\n",
      "107     52     1.0  1.443249\n",
      "392     52     0.0  0.328956\n",
      "412     52     0.0  1.140198\n",
      "570     52     0.0  0.666191\n",
      "...    ...     ...       ...\n",
      "4176    52     0.0  0.528904\n",
      "4213    52     1.0 -0.096205\n",
      "4222    52     0.0  0.111998\n",
      "4482    52     0.0  2.010538\n",
      "4506    52     0.0  0.025763\n",
      "\n",
      "[66 rows x 3 columns]]\n",
      " [task is       task  y_true   y_score\n",
      "11      53     0.0 -2.703812\n",
      "21      53     0.0 -3.648351\n",
      "50      53     1.0 -3.760930\n",
      "72      53     0.0 -3.349384\n",
      "89      53     0.0 -4.108949\n",
      "...    ...     ...       ...\n",
      "4461    53     0.0 -4.266840\n",
      "4465    53     0.0 -5.050652\n",
      "4471    53     0.0 -4.555850\n",
      "4477    53     0.0 -4.582585\n",
      "4479    53     0.0 -4.022981\n",
      "\n",
      "[222 rows x 3 columns]]\n",
      " [task is       task  y_true   y_score\n",
      "33      55     1.0 -4.627736\n",
      "63      55     1.0 -4.063807\n",
      "83      55     0.0 -3.334249\n",
      "85      55     0.0 -3.533749\n",
      "93      55     0.0 -3.768533\n",
      "...    ...     ...       ...\n",
      "4430    55     0.0 -2.905076\n",
      "4445    55     1.0 -3.090491\n",
      "4447    55     1.0 -3.271445\n",
      "4455    55     0.0 -3.055339\n",
      "4476    55     1.0 -3.653259\n",
      "\n",
      "[208 rows x 3 columns]]\n",
      " [task is       task  y_true   y_score\n",
      "4       62     1.0  2.467841\n",
      "149     62     1.0  2.547959\n",
      "160     62     1.0  2.184751\n",
      "169     62     1.0  2.489848\n",
      "245     62     1.0  2.754905\n",
      "290     62     1.0  2.742797\n",
      "416     62     1.0  2.269622\n",
      "428     62     1.0  2.986905\n",
      "447     62     1.0  2.523392\n",
      "469     62     1.0  2.048451\n",
      "543     62     1.0  3.723209\n",
      "792     62     1.0  2.349208\n",
      "826     62     1.0  2.239576\n",
      "873     62     1.0  2.746202\n",
      "918     62     1.0  2.084995\n",
      "974     62     1.0  2.322423\n",
      "997     62     1.0  2.802052\n",
      "1002    62     1.0  2.339142\n",
      "1042    62     1.0  2.446967\n",
      "1175    62     1.0  3.062562\n",
      "1242    62     1.0  2.510443\n",
      "1512    62     1.0  2.607582\n",
      "1523    62     1.0  2.692894\n",
      "1902    62     1.0  2.961499\n",
      "2043    62     1.0  2.223506\n",
      "2056    62     1.0  3.229435\n",
      "2614    62     1.0  2.643672\n",
      "2748    62     1.0  2.961633\n",
      "2908    62     1.0  2.369488\n",
      "2909    62     1.0  2.282293\n",
      "2917    62     1.0  2.330168\n",
      "2951    62     1.0  1.957431\n",
      "2974    62     1.0  2.229758\n",
      "3048    62     1.0  2.277138\n",
      "3083    62     1.0  2.668720\n",
      "3106    62     1.0  2.646745\n",
      "3116    62     1.0  2.614855\n",
      "3130    62     1.0  2.721765\n",
      "3133    62     1.0  2.561265\n",
      "3146    62     1.0  1.957424\n",
      "3294    62     1.0  2.580565\n",
      "3451    62     1.0  1.942935\n",
      "3543    62     1.0  1.691319\n",
      "3760    62     1.0  2.704839\n",
      "3791    62     1.0  2.514860\n",
      "3835    62     1.0  2.021663\n",
      "3901    62     1.0  2.789785\n",
      "3920    62     1.0  2.843198\n",
      "3945    62     1.0  2.722281\n",
      "4128    62     1.0  3.234183\n",
      "4195    62     1.0  2.873601\n",
      "4211    62     1.0  2.462086\n",
      "4306    62     1.0  2.584171\n",
      "4494    62     1.0  2.578659]\n",
      " [task is       task  y_true   y_score\n",
      "474     68     1.0  6.894630\n",
      "517     68     1.0  4.909050\n",
      "1309    68     1.0  7.747762\n",
      "1365    68     1.0  6.770548\n",
      "1435    68     1.0  6.719142\n",
      "1635    68     1.0  6.491697\n",
      "2653    68     1.0  3.373842\n",
      "2836    68     1.0  6.150122\n",
      "2914    68     1.0  7.326953\n",
      "3111    68     1.0  6.970116\n",
      "3526    68     1.0  8.508581\n",
      "4042    68     1.0  7.055281]\n",
      " [task is       task  y_true   y_score\n",
      "32      71     1.0  3.542095\n",
      "35      71     1.0  2.861090\n",
      "60      71     1.0  4.334939\n",
      "61      71     1.0  3.936629\n",
      "75      71     1.0  3.913762\n",
      "...    ...     ...       ...\n",
      "4366    71     1.0  4.540621\n",
      "4404    71     1.0  4.696834\n",
      "4439    71     1.0  4.622665\n",
      "4487    71     1.0  2.581047\n",
      "4503    71     1.0  4.803043\n",
      "\n",
      "[267 rows x 3 columns]]\n",
      " [task is       task  y_true   y_score\n",
      "1549    72     0.0 -4.761949]\n",
      " len(y_true) : 1 <= 1 or   (y_true[0] == y_true).all() = True\n",
      " [task is       task  y_true   y_score\n",
      "12      76     1.0  2.068493\n",
      "22      76     1.0  1.994469\n",
      "51      76     1.0  2.804951\n",
      "73      76     1.0  2.098541\n",
      "90      76     1.0  2.344858\n",
      "...    ...     ...       ...\n",
      "4462    76     1.0  2.710233\n",
      "4466    76     1.0  3.430464\n",
      "4472    76     1.0  3.264653\n",
      "4478    76     1.0  3.086493\n",
      "4480    76     1.0  2.494192\n",
      "\n",
      "[222 rows x 3 columns]]\n",
      " [task is       task  y_true   y_score\n",
      "2940    82     0.0 -1.321465]\n",
      " len(y_true) : 1 <= 1 or   (y_true[0] == y_true).all() = True\n",
      " [task is       task  y_true   y_score\n",
      "165     84     1.0  2.155682\n",
      "212     84     1.0  2.407773\n",
      "364     84     1.0  2.577271\n",
      "952     84     1.0  2.392301\n",
      "1199    84     1.0  1.641989\n",
      "1255    84     1.0  2.499376\n",
      "1264    84     1.0  2.160800\n",
      "1421    84     1.0  1.054517\n",
      "1477    84     1.0  1.208343\n",
      "1481    84     1.0  2.286361\n",
      "1577    84     1.0  1.154782\n",
      "1807    84     1.0  2.337575\n",
      "2109    84     1.0  1.310973\n",
      "2384    84     1.0  2.403760\n",
      "2566    84     1.0  2.040709\n",
      "2762    84     1.0  3.191659\n",
      "2805    84     1.0  1.208554\n",
      "2853    84     1.0  2.349583\n",
      "2987    84     1.0  2.478069\n",
      "2991    84     1.0  1.115319\n",
      "3027    84     1.0  1.043471\n",
      "3149    84     1.0  1.269087\n",
      "3706    84     1.0  1.287372\n",
      "3946    84     1.0  2.619840\n",
      "4340    84     1.0  0.906477]\n",
      " [task is       task  y_true   y_score\n",
      "208     96     1.0  1.247626\n",
      "318     96     1.0  1.869833\n",
      "614     96     1.0  1.604757\n",
      "909     96     1.0  1.421189\n",
      "1889    96     1.0  1.564591\n",
      "2101    96     1.0  1.034542\n",
      "2127    96     1.0  1.497459\n",
      "2673    96     1.0  1.273252\n",
      "2686    96     1.0  1.105160\n",
      "2938    96     1.0  1.545542\n",
      "3368    96     1.0  1.344751\n",
      "3909    96     1.0  1.564739\n",
      "4232    96     1.0  1.622726\n",
      "4436    96     1.0  1.489715]\n"
     ]
    },
    {
     "name": "stderr",
     "output_type": "stream",
     "text": [
      "/home/kbardool/miniconda3/envs/pyt-gpu/lib/python3.9/site-packages/sklearn/metrics/_ranking.py:990: UndefinedMetricWarning: No negative samples in y_true, false positive value should be meaningless\n",
      "  warnings.warn(\n",
      "/home/kbardool/miniconda3/envs/pyt-gpu/lib/python3.9/site-packages/sklearn/metrics/_classification.py:658: RuntimeWarning: invalid value encountered in true_divide\n",
      "  k = np.sum(w_mat * confusion) / np.sum(w_mat * expected)\n",
      "/home/kbardool/miniconda3/envs/pyt-gpu/lib/python3.9/site-packages/sklearn/metrics/_ranking.py:990: UndefinedMetricWarning: No negative samples in y_true, false positive value should be meaningless\n",
      "  warnings.warn(\n",
      "/home/kbardool/miniconda3/envs/pyt-gpu/lib/python3.9/site-packages/sklearn/metrics/_classification.py:658: RuntimeWarning: invalid value encountered in true_divide\n",
      "  k = np.sum(w_mat * confusion) / np.sum(w_mat * expected)\n",
      "/home/kbardool/miniconda3/envs/pyt-gpu/lib/python3.9/site-packages/sklearn/metrics/_ranking.py:990: UndefinedMetricWarning: No negative samples in y_true, false positive value should be meaningless\n",
      "  warnings.warn(\n",
      "/home/kbardool/miniconda3/envs/pyt-gpu/lib/python3.9/site-packages/sklearn/metrics/_ranking.py:990: UndefinedMetricWarning: No negative samples in y_true, false positive value should be meaningless\n",
      "  warnings.warn(\n",
      "/home/kbardool/miniconda3/envs/pyt-gpu/lib/python3.9/site-packages/sklearn/metrics/_classification.py:658: RuntimeWarning: invalid value encountered in true_divide\n",
      "  k = np.sum(w_mat * confusion) / np.sum(w_mat * expected)\n",
      "/home/kbardool/miniconda3/envs/pyt-gpu/lib/python3.9/site-packages/sklearn/metrics/_ranking.py:990: UndefinedMetricWarning: No negative samples in y_true, false positive value should be meaningless\n",
      "  warnings.warn(\n",
      "/home/kbardool/miniconda3/envs/pyt-gpu/lib/python3.9/site-packages/sklearn/metrics/_ranking.py:990: UndefinedMetricWarning: No negative samples in y_true, false positive value should be meaningless\n",
      "  warnings.warn(\n",
      "/home/kbardool/miniconda3/envs/pyt-gpu/lib/python3.9/site-packages/sklearn/metrics/_classification.py:658: RuntimeWarning: invalid value encountered in true_divide\n",
      "  k = np.sum(w_mat * confusion) / np.sum(w_mat * expected)\n",
      "/home/kbardool/miniconda3/envs/pyt-gpu/lib/python3.9/site-packages/sklearn/metrics/_ranking.py:990: UndefinedMetricWarning: No negative samples in y_true, false positive value should be meaningless\n",
      "  warnings.warn(\n",
      "/home/kbardool/miniconda3/envs/pyt-gpu/lib/python3.9/site-packages/sklearn/metrics/_classification.py:658: RuntimeWarning: invalid value encountered in true_divide\n",
      "  k = np.sum(w_mat * confusion) / np.sum(w_mat * expected)\n",
      "/home/kbardool/miniconda3/envs/pyt-gpu/lib/python3.9/site-packages/sklearn/metrics/_ranking.py:990: UndefinedMetricWarning: No negative samples in y_true, false positive value should be meaningless\n",
      "  warnings.warn(\n",
      "/home/kbardool/miniconda3/envs/pyt-gpu/lib/python3.9/site-packages/sklearn/metrics/_ranking.py:990: UndefinedMetricWarning: No negative samples in y_true, false positive value should be meaningless\n",
      "  warnings.warn(\n",
      "/home/kbardool/miniconda3/envs/pyt-gpu/lib/python3.9/site-packages/sklearn/metrics/_classification.py:658: RuntimeWarning: invalid value encountered in true_divide\n",
      "  k = np.sum(w_mat * confusion) / np.sum(w_mat * expected)\n",
      "/home/kbardool/miniconda3/envs/pyt-gpu/lib/python3.9/site-packages/sklearn/metrics/_ranking.py:990: UndefinedMetricWarning: No negative samples in y_true, false positive value should be meaningless\n",
      "  warnings.warn(\n",
      "/home/kbardool/miniconda3/envs/pyt-gpu/lib/python3.9/site-packages/sklearn/metrics/_classification.py:658: RuntimeWarning: invalid value encountered in true_divide\n",
      "  k = np.sum(w_mat * confusion) / np.sum(w_mat * expected)\n",
      "/home/kbardool/miniconda3/envs/pyt-gpu/lib/python3.9/site-packages/sklearn/metrics/_ranking.py:990: UndefinedMetricWarning: No negative samples in y_true, false positive value should be meaningless\n",
      "  warnings.warn(\n",
      "/home/kbardool/miniconda3/envs/pyt-gpu/lib/python3.9/site-packages/sklearn/metrics/_classification.py:658: RuntimeWarning: invalid value encountered in true_divide\n",
      "  k = np.sum(w_mat * confusion) / np.sum(w_mat * expected)\n",
      "/home/kbardool/miniconda3/envs/pyt-gpu/lib/python3.9/site-packages/sklearn/metrics/_ranking.py:990: UndefinedMetricWarning: No negative samples in y_true, false positive value should be meaningless\n",
      "  warnings.warn(\n",
      "/home/kbardool/miniconda3/envs/pyt-gpu/lib/python3.9/site-packages/sklearn/metrics/_classification.py:658: RuntimeWarning: invalid value encountered in true_divide\n",
      "  k = np.sum(w_mat * confusion) / np.sum(w_mat * expected)\n",
      "/home/kbardool/miniconda3/envs/pyt-gpu/lib/python3.9/site-packages/sklearn/metrics/_ranking.py:990: UndefinedMetricWarning: No negative samples in y_true, false positive value should be meaningless\n",
      "  warnings.warn(\n",
      "/home/kbardool/miniconda3/envs/pyt-gpu/lib/python3.9/site-packages/sklearn/metrics/_classification.py:658: RuntimeWarning: invalid value encountered in true_divide\n",
      "  k = np.sum(w_mat * confusion) / np.sum(w_mat * expected)\n",
      "/home/kbardool/miniconda3/envs/pyt-gpu/lib/python3.9/site-packages/sklearn/metrics/_ranking.py:990: UndefinedMetricWarning: No negative samples in y_true, false positive value should be meaningless\n",
      "  warnings.warn(\n",
      "/home/kbardool/miniconda3/envs/pyt-gpu/lib/python3.9/site-packages/sklearn/metrics/_classification.py:658: RuntimeWarning: invalid value encountered in true_divide\n",
      "  k = np.sum(w_mat * confusion) / np.sum(w_mat * expected)\n",
      "/home/kbardool/miniconda3/envs/pyt-gpu/lib/python3.9/site-packages/sklearn/metrics/_ranking.py:990: UndefinedMetricWarning: No negative samples in y_true, false positive value should be meaningless\n",
      "  warnings.warn(\n"
     ]
    },
    {
     "name": "stdout",
     "output_type": "stream",
     "text": [
      " [task is      task  y_true   y_score\n",
      "373    99     0.0 -2.167241\n",
      "712    99     0.0 -2.095917]\n"
     ]
    },
    {
     "name": "stderr",
     "output_type": "stream",
     "text": [
      "/home/kbardool/miniconda3/envs/pyt-gpu/lib/python3.9/site-packages/sklearn/metrics/_classification.py:658: RuntimeWarning: invalid value encountered in true_divide\n",
      "  k = np.sum(w_mat * confusion) / np.sum(w_mat * expected)\n",
      "/home/kbardool/miniconda3/envs/pyt-gpu/lib/python3.9/site-packages/sklearn/metrics/_ranking.py:999: UndefinedMetricWarning: No positive samples in y_true, true positive value should be meaningless\n",
      "  warnings.warn(\n",
      "/home/kbardool/miniconda3/envs/pyt-gpu/lib/python3.9/site-packages/sklearn/metrics/_ranking.py:864: RuntimeWarning: invalid value encountered in true_divide\n",
      "  recall = tps / tps[-1]\n",
      "/home/kbardool/miniconda3/envs/pyt-gpu/lib/python3.9/site-packages/sklearn/metrics/_ranking.py:864: RuntimeWarning: invalid value encountered in true_divide\n",
      "  recall = tps / tps[-1]\n",
      "/home/kbardool/miniconda3/envs/pyt-gpu/lib/python3.9/site-packages/sklearn/metrics/_classification.py:658: RuntimeWarning: invalid value encountered in true_divide\n",
      "  k = np.sum(w_mat * confusion) / np.sum(w_mat * expected)\n"
     ]
    }
   ],
   "source": [
    "from utils.sparsechem_utils import compute_metrics, aggregate_results\n",
    "import pandas\n",
    "cc = compute_metrics(cols   = environ.val_data['task1']['yc_ind'][1], \n",
    "                     y_true = environ.val_data['task1']['yc_data'], \n",
    "                     y_score= environ.val_data['task1']['yc_hat'] ,\n",
    "                     num_tasks=100)\n"
   ]
  },
  {
   "cell_type": "code",
   "execution_count": 88,
   "id": "8590312d",
   "metadata": {
    "ExecuteTime": {
     "end_time": "2022-04-02T13:34:57.196163Z",
     "start_time": "2022-04-02T13:34:57.130013Z"
    }
   },
   "outputs": [],
   "source": [
    " df   = pd.DataFrame({\"task\"   : environ.val_data['task1']['yc_ind'][1], \n",
    "                      \"y_true\" : environ.val_data['task1']['yc_data'],  \n",
    "                      \"y_score\": environ.val_data['task1']['yc_hat']})"
   ]
  },
  {
   "cell_type": "code",
   "execution_count": 22,
   "id": "16bf474c",
   "metadata": {
    "ExecuteTime": {
     "end_time": "2022-04-08T15:03:22.825496Z",
     "start_time": "2022-04-08T15:03:22.735395Z"
    }
   },
   "outputs": [],
   "source": [
    "from utils import load_sparse\n",
    "from dataloaders import ClassRegrSparseDataset_v3,   InfiniteDataLoader\n",
    "\n",
    "\n",
    "ecfp     = load_sparse(opt['dataload']['dataroot'], opt['dataload']['x'])\n",
    "folding  = np.load(os.path.join(opt['dataload']['dataroot'], opt['dataload']['folding']))\n",
    "\n",
    "print(ecfp.shape, folding.shape)\n",
    "\n",
    "fold_va = 0\n",
    "idx_tr  = np.where(folding != fold_va)[0]\n",
    "idx_va  = np.where(folding == fold_va)[0]\n",
    "\n",
    "\n",
    "print(idx_tr.shape, idx_va.shape)\n",
    "print(idx_tr[-1], idx_va[-1])\n",
    "\n",
    "dldrs = types.SimpleNamespace()\n",
    "dldrs.trainset0 = ClassRegrSparseDataset_v3(opt, index = idx_tr, verbose = True)\n",
    "dldrs.valset    = ClassRegrSparseDataset_v3(opt, index = idx_va, verbose = True)\n",
    "dldrs.trainset1 = dldrs.trainset0\n",
    "dldrs.trainset2 = dldrs.trainset0\n",
    "\n",
    "\n",
    "dldrs.warmup_trn_loader = InfiniteDataLoader(dldrs.trainset0 , batch_size=opt['train']['batch_size'], num_workers = 2, pin_memory=True, collate_fn=dldrs.trainset0.collate, shuffle=True)\n",
    "dldrs.weight_trn_loader = InfiniteDataLoader(dldrs.trainset1 , batch_size=opt['train']['batch_size'], num_workers = 2, pin_memory=True, collate_fn=dldrs.trainset1.collate, shuffle=True)\n",
    "dldrs.policy_trn_loader = InfiniteDataLoader(dldrs.trainset2 , batch_size=opt['train']['batch_size'], num_workers = 2, pin_memory=True, collate_fn=dldrs.trainset2.collate, shuffle=True)\n",
    "dldrs.val_loader        = InfiniteDataLoader(dldrs.valset    , batch_size=opt['train']['batch_size'], num_workers = 1, pin_memory=True, collate_fn=dldrs.valset.collate  , shuffle=True)\n",
    "# dldrs.test_loader       = InfiniteDataLoader(dldrs.testset   , batch_size=32                        , num_workers = 1, pin_memory=True, collate_fn=dldrs.testset.collate  , shuffle=True)\n",
    "\n",
    "opt['train']['weight_iter_alternate'] = opt['train'].get('weight_iter_alternate' , len(dldrs.weight_trn_loader))\n",
    "opt['train']['alpha_iter_alternate']  = opt['train'].get('alpha_iter_alternate'  , len(dldrs.policy_trn_loader))    \n",
    "\n",
    "disp_dataloader_info(dldrs)"
   ]
  },
  {
   "cell_type": "code",
   "execution_count": null,
   "id": "cd30f00e",
   "metadata": {},
   "outputs": [],
   "source": []
  },
  {
   "cell_type": "code",
   "execution_count": null,
   "id": "ed6d442e",
   "metadata": {},
   "outputs": [],
   "source": []
  },
  {
   "cell_type": "code",
   "execution_count": null,
   "id": "3152cf38",
   "metadata": {},
   "outputs": [],
   "source": []
  },
  {
   "cell_type": "code",
   "execution_count": null,
   "id": "0afbc872",
   "metadata": {},
   "outputs": [],
   "source": []
  },
  {
   "cell_type": "code",
   "execution_count": 94,
   "id": "e3874b30",
   "metadata": {
    "ExecuteTime": {
     "end_time": "2022-04-02T13:44:52.754320Z",
     "start_time": "2022-04-02T13:44:52.611945Z"
    }
   },
   "outputs": [
    {
     "name": "stdout",
     "output_type": "stream",
     "text": [
      " task 0\n",
      "    task  y_true    y_score\n",
      "14     0     1.0   5.597143\n",
      "18     0     1.0   5.625531\n",
      "23     0     1.0  12.822014\n",
      "34     0     1.0  14.590454\n",
      "48     0     1.0   6.488068\n",
      "62     0     1.0  13.065102\n",
      "67     0     1.0   3.847331\n",
      "68     0     1.0   6.939640\n",
      "69     0     1.0  13.071250\n",
      "77     0     1.0  13.010993\n",
      " task 3\n",
      "      task  y_true   y_score\n",
      "893      3     1.0  5.705761\n",
      "1315     3     1.0  6.690732\n",
      "1382     3     1.0  7.397319\n",
      "2311     3     1.0  9.090773\n",
      "2364     3     1.0  4.605497\n",
      "2441     3     1.0  6.213061\n",
      "2458     3     1.0  6.602612\n",
      "2548     3     1.0  6.541490\n",
      "2625     3     1.0  6.570337\n",
      "2952     3     1.0  8.752759\n",
      " task 6\n",
      "    task  y_true   y_score\n",
      "2      6     1.0  4.328727\n",
      "8      6     1.0  2.164240\n",
      "17     6     1.0  0.017455\n",
      "19     6     1.0  3.347758\n",
      "36     6     1.0  1.471472\n",
      "40     6     1.0  3.464773\n",
      "47     6     1.0  4.258944\n",
      "49     6     1.0  3.673662\n",
      "52     6     1.0  0.113874\n",
      "57     6     1.0 -0.642786\n",
      " task 10\n",
      "     task  y_true   y_score\n",
      "24     10     1.0  3.612843\n",
      "28     10     1.0  3.780817\n",
      "43     10     1.0  2.525036\n",
      "54     10     1.0  4.478582\n",
      "55     10     1.0  3.253286\n",
      "70     10     1.0  4.204772\n",
      "102    10     1.0  2.871986\n",
      "105    10     1.0  2.148204\n",
      "110    10     1.0  3.400303\n",
      "119    10     1.0  3.451682\n",
      " task 22\n",
      "      task  y_true   y_score\n",
      "207     22     1.0 -1.913030\n",
      "834     22     1.0 -1.415941\n",
      "867     22     1.0 -1.857236\n",
      "1168    22     1.0 -3.875910\n",
      "1268    22     1.0 -2.437869\n",
      "1643    22     1.0 -3.082006\n",
      "1822    22     1.0 -1.518179\n",
      "2000    22     1.0 -3.752945\n",
      "2144    22     1.0 -2.319946\n",
      "2227    22     1.0 -3.376478\n",
      " task 28\n",
      "    task  y_true   y_score\n",
      "1     28     1.0  4.990391\n",
      "5     28     1.0  5.807377\n",
      "27    28     1.0  4.418747\n",
      "30    28     1.0  5.808447\n",
      "42    28     1.0  5.785405\n",
      "44    28     1.0  7.395255\n",
      "53    28     1.0  9.902944\n",
      "58    28     1.0  6.185909\n",
      "65    28     1.0  4.932642\n",
      "74    28     1.0  4.690283\n",
      " task 38\n",
      "     task  y_true   y_score\n",
      "38     38     1.0  3.649275\n",
      "39     38     1.0  5.145975\n",
      "41     38     1.0  5.309868\n",
      "56     38     1.0  4.734281\n",
      "82     38     1.0  5.628111\n",
      "84     38     1.0  6.432337\n",
      "92     38     1.0  6.089152\n",
      "114    38     0.0  7.593419\n",
      "120    38     1.0  8.033896\n",
      "125    38     1.0  3.119194\n",
      " task 45\n",
      "     task  y_true   y_score\n",
      "25     45     1.0  1.616868\n",
      "106    45     1.0  1.976464\n",
      "391    45     1.0  1.821831\n",
      "411    45     1.0  1.642702\n",
      "569    45     1.0  1.537865\n",
      "590    45     1.0  2.486867\n",
      "683    45     1.0  2.167043\n",
      "779    45     1.0  2.133227\n",
      "819    45     1.0  1.069390\n",
      "933    45     1.0  1.709337\n",
      " task 47\n",
      "      task  y_true   y_score\n",
      "64      47     1.0 -0.064374\n",
      "292     47     1.0  1.959596\n",
      "329     47     1.0  0.038840\n",
      "340     47     1.0  0.665554\n",
      "344     47     1.0  0.239510\n",
      "645     47     1.0  1.457622\n",
      "948     47     1.0  0.392184\n",
      "956     47     1.0  0.231047\n",
      "992     47     1.0 -0.370126\n",
      "1270    47     1.0 -0.064374\n",
      " task 50\n",
      "    task  y_true   y_score\n",
      "0     50     1.0  5.704370\n",
      "3     50     1.0  5.445829\n",
      "6     50     1.0  6.275769\n",
      "7     50     1.0  6.779311\n",
      "9     50     1.0  5.247794\n",
      "10    50     1.0  5.058744\n",
      "13    50     1.0  5.310354\n",
      "15    50     1.0  6.154443\n",
      "16    50     1.0  5.831100\n",
      "20    50     1.0  5.379189\n",
      " task 52\n",
      "     task  y_true   y_score\n",
      "26     52     0.0  1.422966\n",
      "107    52     1.0  1.443249\n",
      "392    52     0.0  0.328956\n",
      "412    52     0.0  1.140198\n",
      "570    52     0.0  0.666191\n",
      "591    52     0.0 -0.060250\n",
      "684    52     1.0  0.332110\n",
      "780    52     0.0  0.761510\n",
      "820    52     0.0  1.044076\n",
      "934    52     1.0  0.564946\n",
      " task 53\n",
      "     task  y_true   y_score\n",
      "11     53     0.0 -2.703812\n",
      "21     53     0.0 -3.648351\n",
      "50     53     1.0 -3.760930\n",
      "72     53     0.0 -3.349384\n",
      "89     53     0.0 -4.108949\n",
      "97     53     0.0 -3.741627\n",
      "150    53     0.0 -2.679311\n",
      "209    53     0.0 -3.344077\n",
      "227    53     0.0 -4.618840\n",
      "235    53     0.0 -3.009869\n",
      " task 55\n",
      "     task  y_true   y_score\n",
      "33     55     1.0 -4.627736\n",
      "63     55     1.0 -4.063807\n",
      "83     55     0.0 -3.334249\n",
      "85     55     0.0 -3.533749\n",
      "93     55     0.0 -3.768533\n",
      "99     55     1.0 -5.661200\n",
      "115    55     1.0 -3.948116\n",
      "136    55     0.0 -3.595448\n",
      "164    55     1.0 -4.561674\n",
      "167    55     0.0 -2.425200\n",
      " task 62\n",
      "     task  y_true   y_score\n",
      "4      62     1.0  2.467841\n",
      "149    62     1.0  2.547959\n",
      "160    62     1.0  2.184751\n",
      "169    62     1.0  2.489848\n",
      "245    62     1.0  2.754905\n",
      "290    62     1.0  2.742797\n",
      "416    62     1.0  2.269622\n",
      "428    62     1.0  2.986905\n",
      "447    62     1.0  2.523392\n",
      "469    62     1.0  2.048451\n",
      " task 68\n",
      "      task  y_true   y_score\n",
      "474     68     1.0  6.894630\n",
      "517     68     1.0  4.909050\n",
      "1309    68     1.0  7.747762\n",
      "1365    68     1.0  6.770548\n",
      "1435    68     1.0  6.719142\n",
      "1635    68     1.0  6.491697\n",
      "2653    68     1.0  3.373842\n",
      "2836    68     1.0  6.150122\n",
      "2914    68     1.0  7.326953\n",
      "3111    68     1.0  6.970116\n",
      " task 71\n",
      "     task  y_true   y_score\n",
      "32     71     1.0  3.542095\n",
      "35     71     1.0  2.861090\n",
      "60     71     1.0  4.334939\n",
      "61     71     1.0  3.936629\n",
      "75     71     1.0  3.913762\n",
      "91     71     1.0  3.628667\n",
      "94     71     1.0  4.878995\n",
      "101    71     1.0  3.613529\n",
      "124    71     1.0  4.571155\n",
      "131    71     1.0  3.504508\n",
      " task 72\n",
      "      task  y_true   y_score\n",
      "1549    72     0.0 -4.761949\n",
      " task 76\n",
      "     task  y_true   y_score\n",
      "12     76     1.0  2.068493\n",
      "22     76     1.0  1.994469\n",
      "51     76     1.0  2.804951\n",
      "73     76     1.0  2.098541\n",
      "90     76     1.0  2.344858\n",
      "98     76     1.0  2.421362\n",
      "151    76     1.0  1.912609\n",
      "210    76     1.0  2.058251\n",
      "228    76     1.0  3.255492\n",
      "236    76     1.0  2.100544\n",
      " task 82\n",
      "      task  y_true   y_score\n",
      "2940    82     0.0 -1.321465\n",
      " task 84\n",
      "      task  y_true   y_score\n",
      "165     84     1.0  2.155682\n",
      "212     84     1.0  2.407773\n",
      "364     84     1.0  2.577271\n",
      "952     84     1.0  2.392301\n",
      "1199    84     1.0  1.641989\n",
      "1255    84     1.0  2.499376\n",
      "1264    84     1.0  2.160800\n",
      "1421    84     1.0  1.054517\n",
      "1477    84     1.0  1.208343\n",
      "1481    84     1.0  2.286361\n",
      " task 96\n",
      "      task  y_true   y_score\n",
      "208     96     1.0  1.247626\n",
      "318     96     1.0  1.869833\n",
      "614     96     1.0  1.604757\n",
      "909     96     1.0  1.421189\n",
      "1889    96     1.0  1.564591\n",
      "2101    96     1.0  1.034542\n",
      "2127    96     1.0  1.497459\n",
      "2673    96     1.0  1.273252\n",
      "2686    96     1.0  1.105160\n",
      "2938    96     1.0  1.545542\n",
      " task 99\n",
      "     task  y_true   y_score\n",
      "373    99     0.0 -2.167241\n",
      "712    99     0.0 -2.095917\n"
     ]
    }
   ],
   "source": [
    "for task, frame in df.groupby(\"task\", sort=True):\n",
    "    print(f\" task {task}\")\n",
    "    print(frame.head(10))"
   ]
  },
  {
   "cell_type": "code",
   "execution_count": 96,
   "id": "768dcd39",
   "metadata": {
    "ExecuteTime": {
     "end_time": "2022-04-02T13:46:29.715440Z",
     "start_time": "2022-04-02T13:46:29.640674Z"
    }
   },
   "outputs": [
    {
     "data": {
      "text/html": [
       "<div>\n",
       "<style scoped>\n",
       "    .dataframe tbody tr th:only-of-type {\n",
       "        vertical-align: middle;\n",
       "    }\n",
       "\n",
       "    .dataframe tbody tr th {\n",
       "        vertical-align: top;\n",
       "    }\n",
       "\n",
       "    .dataframe thead th {\n",
       "        text-align: right;\n",
       "    }\n",
       "</style>\n",
       "<table border=\"1\" class=\"dataframe\">\n",
       "  <thead>\n",
       "    <tr style=\"text-align: right;\">\n",
       "      <th></th>\n",
       "      <th>y_true</th>\n",
       "      <th>y_score</th>\n",
       "    </tr>\n",
       "    <tr>\n",
       "      <th>task</th>\n",
       "      <th></th>\n",
       "      <th></th>\n",
       "    </tr>\n",
       "  </thead>\n",
       "  <tbody>\n",
       "    <tr>\n",
       "      <th>0</th>\n",
       "      <td>318</td>\n",
       "      <td>318</td>\n",
       "    </tr>\n",
       "    <tr>\n",
       "      <th>3</th>\n",
       "      <td>16</td>\n",
       "      <td>16</td>\n",
       "    </tr>\n",
       "    <tr>\n",
       "      <th>6</th>\n",
       "      <td>656</td>\n",
       "      <td>656</td>\n",
       "    </tr>\n",
       "    <tr>\n",
       "      <th>10</th>\n",
       "      <td>401</td>\n",
       "      <td>401</td>\n",
       "    </tr>\n",
       "    <tr>\n",
       "      <th>22</th>\n",
       "      <td>16</td>\n",
       "      <td>16</td>\n",
       "    </tr>\n",
       "    <tr>\n",
       "      <th>28</th>\n",
       "      <td>569</td>\n",
       "      <td>569</td>\n",
       "    </tr>\n",
       "    <tr>\n",
       "      <th>38</th>\n",
       "      <td>392</td>\n",
       "      <td>392</td>\n",
       "    </tr>\n",
       "    <tr>\n",
       "      <th>45</th>\n",
       "      <td>66</td>\n",
       "      <td>66</td>\n",
       "    </tr>\n",
       "    <tr>\n",
       "      <th>47</th>\n",
       "      <td>36</td>\n",
       "      <td>36</td>\n",
       "    </tr>\n",
       "    <tr>\n",
       "      <th>50</th>\n",
       "      <td>943</td>\n",
       "      <td>943</td>\n",
       "    </tr>\n",
       "    <tr>\n",
       "      <th>52</th>\n",
       "      <td>66</td>\n",
       "      <td>66</td>\n",
       "    </tr>\n",
       "    <tr>\n",
       "      <th>53</th>\n",
       "      <td>222</td>\n",
       "      <td>222</td>\n",
       "    </tr>\n",
       "    <tr>\n",
       "      <th>55</th>\n",
       "      <td>208</td>\n",
       "      <td>208</td>\n",
       "    </tr>\n",
       "    <tr>\n",
       "      <th>62</th>\n",
       "      <td>54</td>\n",
       "      <td>54</td>\n",
       "    </tr>\n",
       "    <tr>\n",
       "      <th>68</th>\n",
       "      <td>12</td>\n",
       "      <td>12</td>\n",
       "    </tr>\n",
       "    <tr>\n",
       "      <th>71</th>\n",
       "      <td>267</td>\n",
       "      <td>267</td>\n",
       "    </tr>\n",
       "    <tr>\n",
       "      <th>72</th>\n",
       "      <td>1</td>\n",
       "      <td>1</td>\n",
       "    </tr>\n",
       "    <tr>\n",
       "      <th>76</th>\n",
       "      <td>222</td>\n",
       "      <td>222</td>\n",
       "    </tr>\n",
       "    <tr>\n",
       "      <th>82</th>\n",
       "      <td>1</td>\n",
       "      <td>1</td>\n",
       "    </tr>\n",
       "    <tr>\n",
       "      <th>84</th>\n",
       "      <td>25</td>\n",
       "      <td>25</td>\n",
       "    </tr>\n",
       "    <tr>\n",
       "      <th>96</th>\n",
       "      <td>14</td>\n",
       "      <td>14</td>\n",
       "    </tr>\n",
       "    <tr>\n",
       "      <th>99</th>\n",
       "      <td>2</td>\n",
       "      <td>2</td>\n",
       "    </tr>\n",
       "  </tbody>\n",
       "</table>\n",
       "</div>"
      ],
      "text/plain": [
       "      y_true  y_score\n",
       "task                 \n",
       "0        318      318\n",
       "3         16       16\n",
       "6        656      656\n",
       "10       401      401\n",
       "22        16       16\n",
       "28       569      569\n",
       "38       392      392\n",
       "45        66       66\n",
       "47        36       36\n",
       "50       943      943\n",
       "52        66       66\n",
       "53       222      222\n",
       "55       208      208\n",
       "62        54       54\n",
       "68        12       12\n",
       "71       267      267\n",
       "72         1        1\n",
       "76       222      222\n",
       "82         1        1\n",
       "84        25       25\n",
       "96        14       14\n",
       "99         2        2"
      ]
     },
     "execution_count": 96,
     "metadata": {},
     "output_type": "execute_result"
    }
   ],
   "source": [
    "# df\n",
    "df.groupby(\"task\", sort=True).count()"
   ]
  },
  {
   "cell_type": "code",
   "execution_count": 103,
   "id": "4eeed797",
   "metadata": {
    "ExecuteTime": {
     "end_time": "2022-04-02T13:57:12.585754Z",
     "start_time": "2022-04-02T13:57:12.502583Z"
    },
    "scrolled": true
   },
   "outputs": [
    {
     "data": {
      "text/html": [
       "<div>\n",
       "<style scoped>\n",
       "    .dataframe tbody tr th:only-of-type {\n",
       "        vertical-align: middle;\n",
       "    }\n",
       "\n",
       "    .dataframe tbody tr th {\n",
       "        vertical-align: top;\n",
       "    }\n",
       "\n",
       "    .dataframe thead th {\n",
       "        text-align: right;\n",
       "    }\n",
       "</style>\n",
       "<table border=\"1\" class=\"dataframe\">\n",
       "  <thead>\n",
       "    <tr style=\"text-align: right;\">\n",
       "      <th></th>\n",
       "      <th>roc_auc_score</th>\n",
       "      <th>auc_pr</th>\n",
       "      <th>avg_prec_score</th>\n",
       "      <th>f1_max</th>\n",
       "      <th>p_f1_max</th>\n",
       "      <th>kappa</th>\n",
       "      <th>kappa_max</th>\n",
       "      <th>p_kappa_max</th>\n",
       "      <th>bceloss</th>\n",
       "    </tr>\n",
       "    <tr>\n",
       "      <th>task</th>\n",
       "      <th></th>\n",
       "      <th></th>\n",
       "      <th></th>\n",
       "      <th></th>\n",
       "      <th></th>\n",
       "      <th></th>\n",
       "      <th></th>\n",
       "      <th></th>\n",
       "      <th></th>\n",
       "    </tr>\n",
       "  </thead>\n",
       "  <tbody>\n",
       "    <tr>\n",
       "      <th>0</th>\n",
       "      <td>NaN</td>\n",
       "      <td>1.0</td>\n",
       "      <td>1.0</td>\n",
       "      <td>1.0</td>\n",
       "      <td>0.962070</td>\n",
       "      <td>NaN</td>\n",
       "      <td>0.0</td>\n",
       "      <td>1.000000</td>\n",
       "      <td>0.001196</td>\n",
       "    </tr>\n",
       "    <tr>\n",
       "      <th>1</th>\n",
       "      <td>NaN</td>\n",
       "      <td>NaN</td>\n",
       "      <td>NaN</td>\n",
       "      <td>NaN</td>\n",
       "      <td>NaN</td>\n",
       "      <td>NaN</td>\n",
       "      <td>NaN</td>\n",
       "      <td>NaN</td>\n",
       "      <td>NaN</td>\n",
       "    </tr>\n",
       "    <tr>\n",
       "      <th>2</th>\n",
       "      <td>NaN</td>\n",
       "      <td>NaN</td>\n",
       "      <td>NaN</td>\n",
       "      <td>NaN</td>\n",
       "      <td>NaN</td>\n",
       "      <td>NaN</td>\n",
       "      <td>NaN</td>\n",
       "      <td>NaN</td>\n",
       "      <td>NaN</td>\n",
       "    </tr>\n",
       "    <tr>\n",
       "      <th>3</th>\n",
       "      <td>NaN</td>\n",
       "      <td>1.0</td>\n",
       "      <td>1.0</td>\n",
       "      <td>1.0</td>\n",
       "      <td>0.990102</td>\n",
       "      <td>NaN</td>\n",
       "      <td>0.0</td>\n",
       "      <td>0.999963</td>\n",
       "      <td>0.002298</td>\n",
       "    </tr>\n",
       "    <tr>\n",
       "      <th>4</th>\n",
       "      <td>NaN</td>\n",
       "      <td>NaN</td>\n",
       "      <td>NaN</td>\n",
       "      <td>NaN</td>\n",
       "      <td>NaN</td>\n",
       "      <td>NaN</td>\n",
       "      <td>NaN</td>\n",
       "      <td>NaN</td>\n",
       "      <td>NaN</td>\n",
       "    </tr>\n",
       "    <tr>\n",
       "      <th>...</th>\n",
       "      <td>...</td>\n",
       "      <td>...</td>\n",
       "      <td>...</td>\n",
       "      <td>...</td>\n",
       "      <td>...</td>\n",
       "      <td>...</td>\n",
       "      <td>...</td>\n",
       "      <td>...</td>\n",
       "      <td>...</td>\n",
       "    </tr>\n",
       "    <tr>\n",
       "      <th>95</th>\n",
       "      <td>NaN</td>\n",
       "      <td>NaN</td>\n",
       "      <td>NaN</td>\n",
       "      <td>NaN</td>\n",
       "      <td>NaN</td>\n",
       "      <td>NaN</td>\n",
       "      <td>NaN</td>\n",
       "      <td>NaN</td>\n",
       "      <td>NaN</td>\n",
       "    </tr>\n",
       "    <tr>\n",
       "      <th>96</th>\n",
       "      <td>NaN</td>\n",
       "      <td>1.0</td>\n",
       "      <td>1.0</td>\n",
       "      <td>1.0</td>\n",
       "      <td>0.737796</td>\n",
       "      <td>NaN</td>\n",
       "      <td>0.0</td>\n",
       "      <td>0.946335</td>\n",
       "      <td>0.215865</td>\n",
       "    </tr>\n",
       "    <tr>\n",
       "      <th>97</th>\n",
       "      <td>NaN</td>\n",
       "      <td>NaN</td>\n",
       "      <td>NaN</td>\n",
       "      <td>NaN</td>\n",
       "      <td>NaN</td>\n",
       "      <td>NaN</td>\n",
       "      <td>NaN</td>\n",
       "      <td>NaN</td>\n",
       "      <td>NaN</td>\n",
       "    </tr>\n",
       "    <tr>\n",
       "      <th>98</th>\n",
       "      <td>NaN</td>\n",
       "      <td>NaN</td>\n",
       "      <td>NaN</td>\n",
       "      <td>NaN</td>\n",
       "      <td>NaN</td>\n",
       "      <td>NaN</td>\n",
       "      <td>NaN</td>\n",
       "      <td>NaN</td>\n",
       "      <td>NaN</td>\n",
       "    </tr>\n",
       "    <tr>\n",
       "      <th>99</th>\n",
       "      <td>NaN</td>\n",
       "      <td>NaN</td>\n",
       "      <td>NaN</td>\n",
       "      <td>0.0</td>\n",
       "      <td>0.109494</td>\n",
       "      <td>NaN</td>\n",
       "      <td>0.0</td>\n",
       "      <td>0.250506</td>\n",
       "      <td>0.112183</td>\n",
       "    </tr>\n",
       "  </tbody>\n",
       "</table>\n",
       "<p>100 rows × 9 columns</p>\n",
       "</div>"
      ],
      "text/plain": [
       "      roc_auc_score  auc_pr  avg_prec_score  f1_max  p_f1_max  kappa  kappa_max  p_kappa_max   bceloss\n",
       "task                                                                                                  \n",
       "0               NaN     1.0             1.0     1.0  0.962070    NaN        0.0     1.000000  0.001196\n",
       "1               NaN     NaN             NaN     NaN       NaN    NaN        NaN          NaN       NaN\n",
       "2               NaN     NaN             NaN     NaN       NaN    NaN        NaN          NaN       NaN\n",
       "3               NaN     1.0             1.0     1.0  0.990102    NaN        0.0     0.999963  0.002298\n",
       "4               NaN     NaN             NaN     NaN       NaN    NaN        NaN          NaN       NaN\n",
       "...             ...     ...             ...     ...       ...    ...        ...          ...       ...\n",
       "95              NaN     NaN             NaN     NaN       NaN    NaN        NaN          NaN       NaN\n",
       "96              NaN     1.0             1.0     1.0  0.737796    NaN        0.0     0.946335  0.215865\n",
       "97              NaN     NaN             NaN     NaN       NaN    NaN        NaN          NaN       NaN\n",
       "98              NaN     NaN             NaN     NaN       NaN    NaN        NaN          NaN       NaN\n",
       "99              NaN     NaN             NaN     0.0  0.109494    NaN        0.0     0.250506  0.112183\n",
       "\n",
       "[100 rows x 9 columns]"
      ]
     },
     "execution_count": 103,
     "metadata": {},
     "output_type": "execute_result"
    }
   ],
   "source": [
    "cc"
   ]
  },
  {
   "cell_type": "code",
   "execution_count": 109,
   "id": "51eb01b3",
   "metadata": {
    "ExecuteTime": {
     "end_time": "2022-04-02T14:26:58.189057Z",
     "start_time": "2022-04-02T14:26:58.126134Z"
    }
   },
   "outputs": [
    {
     "name": "stdout",
     "output_type": "stream",
     "text": [
      "[0. 0. 0. 0. 0. 0. 0. 0. 0. 0. 0. 0. 0. 0. 0. 0. 0. 0. 0. 0. 0. 0. 0. 0. 0. 0. 0. 0. 0. 0. 0. 0. 0. 0. 0. 0. 0. 0. 0. 0. 0. 0. 0. 0. 0. 0. 0. 0. 0.\n",
      " 0. 0. 0. 0. 0. 0. 0. 0. 0. 0. 0. 0. 0. 0. 0. 0. 0. 0. 0. 0. 0. 0. 0. 0. 0. 0. 0. 0. 0. 0. 0. 0. 0. 0. 0. 0. 0. 0. 0. 0. 0. 0. 0. 0. 0. 0. 0. 0. 0.\n",
      " 0. 0.]\n"
     ]
    },
    {
     "data": {
      "text/plain": [
       "array([0., 0., 0., 0., 0., 0., 0., 0., 0., 0., 0., 0., 0., 0., 0., 0., 0., 0., 0., 0., 0., 0., 0., 0., 0., 0., 0., 0., 0., 0., 0., 0., 0., 0., 0.,\n",
       "       0., 0., 0., 0., 0., 0., 0., 0., 0., 0., 0., 0., 0., 0., 0., 0., 0., 0., 0., 0., 0., 0., 0., 0., 0., 0., 0., 0., 0., 0., 0., 0., 0., 0., 0.,\n",
       "       0., 0., 0., 0., 0., 0., 0., 0., 0., 0., 0., 0., 0., 0., 0., 0., 0., 0., 0., 0., 0., 0., 0., 0., 0., 0., 0., 0., 0., 0.])"
      ]
     },
     "execution_count": 109,
     "metadata": {},
     "output_type": "execute_result"
    }
   ],
   "source": [
    "print(environ.batch_data['task1']['yc_aggr_weights'])\n",
    "environ.batch['task1']['aggr_weights']"
   ]
  },
  {
   "cell_type": "code",
   "execution_count": null,
   "id": "c824b834",
   "metadata": {},
   "outputs": [],
   "source": [
    "c2 = aggregate_results(cc)"
   ]
  },
  {
   "cell_type": "code",
   "execution_count": 12,
   "id": "e9589f8d",
   "metadata": {
    "ExecuteTime": {
     "end_time": "2022-04-02T15:00:56.621023Z",
     "start_time": "2022-04-02T15:00:56.539683Z"
    }
   },
   "outputs": [
    {
     "data": {
      "text/plain": [
       "[namespace(training_weight=tensor([1., 1., 1., 1., 1.]),\n",
       "           aggregation_weight=array([1., 1., 1., 1., 1.]),\n",
       "           task_type=None,\n",
       "           censored_weight=tensor([])),\n",
       " namespace(training_weight=tensor([1., 1., 1., 1., 1.]),\n",
       "           aggregation_weight=array([1., 1., 1., 1., 1.]),\n",
       "           task_type=None,\n",
       "           censored_weight=tensor([])),\n",
       " namespace(training_weight=tensor([1., 1., 1., 1., 1.]),\n",
       "           aggregation_weight=array([1., 1., 1., 1., 1.]),\n",
       "           task_type=None,\n",
       "           censored_weight=tensor([]))]"
      ]
     },
     "execution_count": 12,
     "metadata": {},
     "output_type": "execute_result"
    }
   ],
   "source": [
    "dldrs.trainset0.tasks_weights_list"
   ]
  },
  {
   "cell_type": "code",
   "execution_count": 23,
   "id": "05b99542",
   "metadata": {
    "ExecuteTime": {
     "end_time": "2022-04-02T12:40:01.166081Z",
     "start_time": "2022-04-02T12:40:01.048231Z"
    }
   },
   "outputs": [
    {
     "data": {
      "text/plain": [
       "(0, 0, 0)"
      ]
     },
     "execution_count": 23,
     "metadata": {},
     "output_type": "execute_result"
    }
   ],
   "source": [
    "# warmup_phase(ns,opt, environ, dldrs, epochs = 25)\n",
    "ns.best_epoch, ns.best_iter, ns.best_value"
   ]
  },
  {
   "cell_type": "code",
   "execution_count": 110,
   "id": "a3dc43cf",
   "metadata": {
    "ExecuteTime": {
     "end_time": "2022-04-02T14:32:00.484067Z",
     "start_time": "2022-04-02T14:31:56.371878Z"
    }
   },
   "outputs": [
    {
     "name": "stdout",
     "output_type": "stream",
     "text": [
      "\n"
     ]
    },
    {
     "data": {
      "text/html": [
       "Waiting for W&B process to finish... <strong style=\"color:green\">(success).</strong>"
      ],
      "text/plain": [
       "<IPython.core.display.HTML object>"
      ]
     },
     "metadata": {},
     "output_type": "display_data"
    },
    {
     "data": {
      "application/vnd.jupyter.widget-view+json": {
       "model_id": "d5a2d2087f0a4bf0ac59b23f25501ebb",
       "version_major": 2,
       "version_minor": 0
      },
      "text/plain": [
       "VBox(children=(Label(value='7.795 MB of 7.795 MB uploaded (0.000 MB deduped)\\r'), FloatProgress(value=1.0, max…"
      ]
     },
     "metadata": {},
     "output_type": "display_data"
    },
    {
     "data": {
      "text/html": [
       "<style>\n",
       "    table.wandb td:nth-child(1) { padding: 0 10px; text-align: right }\n",
       "    .wandb-row { display: flex; flex-direction: row; flex-wrap: wrap; width: 100% }\n",
       "    .wandb-col { display: flex; flex-direction: column; flex-basis: 100%; flex: 1; padding: 10px; }\n",
       "    </style>\n",
       "<div class=\"wandb-row\"><div class=\"wandb-col\"><h3>Run history:</h3><br/><table class=\"wandb\"><tr><td>epoch</td><td>▁▁▁▁▂▂▂▂▂▃▃▃▃▃▃▄▄▄▄▄▅▅▅▅▅▅▆▆▆▆▆▇▇▇▇▇▇███</td></tr><tr><td>train_time</td><td>▂▂▂▂▁▄▃▃▅▃▄▃▅▂▄▆▂▃▁▃█▃▃▂▃▂▃▃▂▇▇▅▂█▄▃▅▂▂▄</td></tr></table><br/></div><div class=\"wandb-col\"><h3>Run summary:</h3><br/><table class=\"wandb\"><tr><td>epoch</td><td>152</td></tr><tr><td>train_time</td><td>4.03822</td></tr></table><br/></div></div>"
      ],
      "text/plain": [
       "<IPython.core.display.HTML object>"
      ]
     },
     "metadata": {},
     "output_type": "display_data"
    },
    {
     "data": {
      "text/html": [
       "Synced <strong style=\"color:#cdcd00\">0402_1417_noplcy</strong>: <a href=\"http://localhost:8080/kbardool/AdaSparseChem/runs/zsuu90b0\" target=\"_blank\">http://localhost:8080/kbardool/AdaSparseChem/runs/zsuu90b0</a><br/>Synced 7 W&B file(s), 152 media file(s), 189 artifact file(s) and 1 other file(s)"
      ],
      "text/plain": [
       "<IPython.core.display.HTML object>"
      ]
     },
     "metadata": {},
     "output_type": "display_data"
    },
    {
     "data": {
      "text/html": [
       "Find logs at: <code>./wandb/run-20220402_141721-zsuu90b0/logs</code>"
      ],
      "text/plain": [
       "<IPython.core.display.HTML object>"
      ]
     },
     "metadata": {},
     "output_type": "display_data"
    },
    {
     "data": {
      "text/html": [
       "Upgrade to the 0.9.50 version of W&B Local to get the latest features. Learn more: <a href=\"https://wandb.me/local-upgrade\" target=\"_blank\">https://wandb.me/local-upgrade</a>"
      ],
      "text/plain": [
       "<IPython.core.display.HTML object>"
      ]
     },
     "metadata": {},
     "output_type": "display_data"
    }
   ],
   "source": [
    "# ns.wandb_run.finish()\n",
    "\n",
    "ns.wandb_run.finish()\n",
    "\n",
    "# environ.losses\n",
    "\n",
    "# environ.val_metrics"
   ]
  },
  {
   "cell_type": "code",
   "execution_count": null,
   "id": "eea84c89",
   "metadata": {},
   "outputs": [],
   "source": []
  },
  {
   "cell_type": "markdown",
   "id": "04d238e8",
   "metadata": {},
   "source": [
    "#### display parms"
   ]
  },
  {
   "cell_type": "code",
   "execution_count": null,
   "id": "e22e75ab",
   "metadata": {
    "ExecuteTime": {
     "end_time": "2022-03-28T04:02:47.732297Z",
     "start_time": "2022-03-28T04:02:47.639607Z"
    }
   },
   "outputs": [],
   "source": [
    "print( f\" Backbone Initial LR         : {environ.opt['train']['backbone_lr']:4f}      current LR : {environ.optimizers['alphas'].param_groups[0]['lr']} \\n\"\n",
    "       f\" Tasks    Initial LR         : {environ.opt['train']['task_lr']:4f}      current LR : {environ.optimizers['weights'].param_groups[0]['lr']}    \\n\"\n",
    "       f\" Policy   Initial LR         : {environ.opt['train']['policy_lr']:4f}      current LR : {environ.optimizers['weights'].param_groups[1]['lr']}  \\n\")\n",
    "print( f\" Sparsity regularization     : {environ.opt['train']['lambda_sparsity']}\\n\"\n",
    "       f\" Sharing  regularization     : {environ.opt['train']['lambda_sharing']} \\n\\n\"\n",
    "       f\" Tasks    regularization     : {environ.opt['train']['lambda_tasks']}   \\n\"\n",
    "       f\" Gumbel Temp                 : {environ.gumbel_temperature:.4f}         \\n\" #\n",
    "       f\" Gumbel Temp decay           : {environ.opt['train']['decay_temp_freq']}\") #"
   ]
  },
  {
   "cell_type": "code",
   "execution_count": null,
   "id": "c2db34fc",
   "metadata": {
    "ExecuteTime": {
     "end_time": "2022-03-28T04:02:47.803657Z",
     "start_time": "2022-03-28T04:02:47.736497Z"
    }
   },
   "outputs": [],
   "source": [
    "# environ.opt['train']['policy_lr'] = 0.01\n",
    "# opt['train']['policy_lr']         = 0.01\n",
    "# environ.opt['train']['lambda_sparsity'] = 0.1\n",
    "# environ.opt['train']['lambda_sharing']  = 0.01\n",
    "# environ.opt['train']['lambda_tasks']    = 1.0\n",
    "# environ.opt['train']['decay_temp_freq'] = 2\n",
    "# print(environ.optimizers['alphas'].param_groups)\n",
    "# print(environ.optimizers['weights'].param_groups)\n",
    "# print('current lr: ', environ.optimizers['alphas'].param_groups[0]['lr'],)\n",
    "# print('current lr: ', environ.optimizers['weights'].param_groups[0]['lr'])\n",
    "# print('current lr: ', environ.optimizers['weights'].param_groups[1]['lr'])"
   ]
  },
  {
   "cell_type": "markdown",
   "id": "eb49645c",
   "metadata": {},
   "source": [
    "## Weight & Policy Training"
   ]
  },
  {
   "cell_type": "markdown",
   "id": "c6aade16",
   "metadata": {},
   "source": [
    "### Weight/Policy Training Preparation"
   ]
  },
  {
   "cell_type": "code",
   "execution_count": null,
   "id": "5fe24a1f",
   "metadata": {
    "ExecuteTime": {
     "end_time": "2022-03-28T04:02:47.867009Z",
     "start_time": "2022-03-28T04:02:47.807720Z"
    }
   },
   "outputs": [],
   "source": [
    "# ns.flag_warmup = True\n",
    "# num_train_layers = None \n",
    "# environ.opt['is_curriculum'] = True\n",
    "# environ.opt['curriculum_speed'] = 4\n",
    "# ns.num_train_layers = None"
   ]
  },
  {
   "cell_type": "code",
   "execution_count": null,
   "id": "365996be",
   "metadata": {
    "ExecuteTime": {
     "end_time": "2022-03-28T04:02:47.944530Z",
     "start_time": "2022-03-28T04:02:47.871259Z"
    }
   },
   "outputs": [],
   "source": [
    "if ns.flag_warmup:\n",
    "    print_heading( f\"** {timestring()} \\n\"\n",
    "                   f\"** Training epoch: {ns.current_epoch} iter: {ns.current_iter}   flag: {ns.flag} \\n\"\n",
    "                   f\"** Set optimizer and scheduler to policy_learning = True (Switch weight optimizer from ADAM to SGD)\\n\"\n",
    "                   f\"** Switch from Warm Up training to Alternate training Weights & Policy \\n\"\n",
    "                   f\"** Take checkpoint and block gradient flow through Policy net\", verbose=True)\n",
    "#     environ.define_optimizer(policy_learning=True)\n",
    "#     environ.define_scheduler(policy_learning=True)\n",
    "    ns.flag_warmup = False\n",
    "    ns.flag = 'update_weights'\n",
    "    environ.fix_alpha()\n",
    "    environ.free_weights(opt['fix_BN'])"
   ]
  },
  {
   "cell_type": "code",
   "execution_count": null,
   "id": "0bc79e10",
   "metadata": {
    "ExecuteTime": {
     "end_time": "2022-03-28T04:02:48.024063Z",
     "start_time": "2022-03-28T04:02:47.950823Z"
    }
   },
   "outputs": [],
   "source": [
    "# ns.training_epochs = 250\n",
    "# environ.display_trained_policy(ns.current_epoch)\n",
    "# environ.display_trained_logits(ns.current_epoch)"
   ]
  },
  {
   "cell_type": "code",
   "execution_count": null,
   "id": "753d84a8",
   "metadata": {
    "ExecuteTime": {
     "end_time": "2022-03-28T04:02:48.115175Z",
     "start_time": "2022-03-28T04:02:48.028324Z"
    }
   },
   "outputs": [],
   "source": [
    "print(f\"ns.current_epoch           : {ns.current_epoch}\")\n",
    "print(f\"ns.training_epochs         : {ns.training_epochs} \\n\") \n",
    "print(f\"ns.current_iters           : {ns.current_iter}\")  \n",
    "print(f\"Batches in weight epoch    : {ns.stop_iter_w}\")\n",
    "print(f\"Batches in policy epoch    : {ns.stop_iter_a}\")\n",
    "print(f\"num_train_layers           : {ns.num_train_layers}\")\n",
    "print()\n",
    "print_loss(environ.val_metrics, title = f\"[e] Last ep:{ns.current_epoch}  it:{ns.current_iter}\")\n",
    "print()\n",
    "\n",
    "print_heading(f\" Last Epoch Completed : {ns.current_epoch}       # of epochs to run:  {ns.training_epochs} -->  epochs {ns.current_epoch+1} to {ns.training_epochs + ns.current_epoch}\"\n",
    "              f\"\\n policy_learning rate : {environ.opt['train']['policy_lr']} \"\n",
    "              f\"\\n lambda_sparsity      : {environ.opt['train']['lambda_sparsity']}\"\n",
    "              f\"\\n lambda_sharing       : {environ.opt['train']['lambda_sharing']}\"\n",
    "              f\"\\n curriculum training  : {opt['is_curriculum']}     cirriculum speed: {opt['curriculum_speed']}     num_training_layers : {ns.num_train_layers}\", \n",
    "              verbose = True)"
   ]
  },
  {
   "cell_type": "markdown",
   "id": "561c71af",
   "metadata": {},
   "source": [
    "### Weight/Policy Training"
   ]
  },
  {
   "cell_type": "code",
   "execution_count": null,
   "id": "d10ad7d8",
   "metadata": {
    "ExecuteTime": {
     "end_time": "2022-03-28T05:13:27.891351Z",
     "start_time": "2022-03-28T04:02:48.119371Z"
    },
    "scrolled": true
   },
   "outputs": [],
   "source": [
    "# weight_policy_training(ns, opt, environ, dldrs, epochs = 100)\n",
    "weight_policy_training(ns, opt, environ, dldrs)"
   ]
  },
  {
   "cell_type": "code",
   "execution_count": null,
   "id": "27779c17",
   "metadata": {
    "ExecuteTime": {
     "end_time": "2022-03-28T05:13:28.065212Z",
     "start_time": "2022-03-28T05:13:27.897193Z"
    }
   },
   "outputs": [],
   "source": [
    "ns.best_epoch, ns.best_iter, ns.best_value"
   ]
  },
  {
   "cell_type": "markdown",
   "id": "58be1060",
   "metadata": {},
   "source": [
    "### Close WandB run"
   ]
  },
  {
   "cell_type": "code",
   "execution_count": null,
   "id": "4c5f6dde",
   "metadata": {
    "ExecuteTime": {
     "end_time": "2022-03-28T05:13:32.216421Z",
     "start_time": "2022-03-28T05:13:28.068834Z"
    }
   },
   "outputs": [],
   "source": [
    "wandb.finish()"
   ]
  },
  {
   "cell_type": "code",
   "execution_count": null,
   "id": "bc49cc3c",
   "metadata": {
    "ExecuteTime": {
     "end_time": "2022-03-28T05:13:32.253924Z",
     "start_time": "2022-03-28T05:13:32.221329Z"
    }
   },
   "outputs": [],
   "source": [
    "# ns.best_epoch = 0\n",
    "# from utils.notebook_modules import wrapup_phase\n",
    "# wrapup_phase(ns, opt, environ)"
   ]
  },
  {
   "cell_type": "code",
   "execution_count": null,
   "id": "c570db82",
   "metadata": {
    "ExecuteTime": {
     "end_time": "2022-03-28T05:13:32.307351Z",
     "start_time": "2022-03-28T05:13:32.262822Z"
    }
   },
   "outputs": [],
   "source": [
    "# environ.opt['train']['policy_lr']       = 0.002\n",
    "# environ.opt['train']['lambda_sparsity'] = 0.05\n",
    "# environ.opt['train']['lambda_sharing']  = 0.01\n",
    "# environ.opt['train']['lambda_tasks']    = 1.0\n",
    "# # environ.opt['train']['decay_temp_freq'] = 2"
   ]
  },
  {
   "cell_type": "code",
   "execution_count": null,
   "id": "26efa07b",
   "metadata": {
    "ExecuteTime": {
     "end_time": "2022-03-28T05:13:32.344678Z",
     "start_time": "2022-03-28T05:13:32.310706Z"
    }
   },
   "outputs": [],
   "source": [
    "print( f\" Backbone Learning Rate      : {environ.opt['train']['backbone_lr']}\\n\"\n",
    "       f\" Tasks    Learning Rate      : {environ.opt['train']['task_lr']}\\n\"\n",
    "       f\" Policy   Learning Rate      : {environ.opt['train']['policy_lr']}\\n\")\n",
    "\n",
    "print( f\" Sparsity regularization     : {environ.opt['train']['lambda_sparsity']}\\n\"\n",
    "       f\" Sharing  regularization     : {environ.opt['train']['lambda_sharing']} \\n\\n\"\n",
    "       f\" Tasks    regularization     : {environ.opt['train']['lambda_tasks']}   \\n\"\n",
    "       f\" Gumbel Temp                 : {environ.gumbel_temperature:.4f}         \\n\" \n",
    "       f\" Gumbel Temp decay           : {environ.opt['train']['decay_temp_freq']}\\n\") \n",
    "\n",
    "print( f\" current_iters               : {ns.current_iter}   \\n\"\n",
    "       f\" current_epochs              : {ns.current_epoch}  \\n\" \n",
    "       f\" train_total_epochs          : {ns.training_epochs}\\n\" \n",
    "       f\" stop_epoch_training         : {ns.stop_epoch_training}\")"
   ]
  },
  {
   "cell_type": "code",
   "execution_count": null,
   "id": "1d3dcb54",
   "metadata": {},
   "outputs": [],
   "source": []
  },
  {
   "cell_type": "markdown",
   "id": "86ac6b6a",
   "metadata": {
    "heading_collapsed": true
   },
   "source": [
    "## Post Training Stuff"
   ]
  },
  {
   "cell_type": "code",
   "execution_count": null,
   "id": "04de4040",
   "metadata": {
    "ExecuteTime": {
     "end_time": "2022-03-13T22:17:44.833671Z",
     "start_time": "2022-03-13T22:17:44.799394Z"
    },
    "hidden": true
   },
   "outputs": [],
   "source": [
    "# pp.pprint(environ.losses)\n",
    "# pp.pprint(environ.val_metrics)\n",
    "environ.num_layers, environ.networks['mtl-net'].num_layers"
   ]
  },
  {
   "cell_type": "code",
   "execution_count": null,
   "id": "db4ca92e",
   "metadata": {
    "ExecuteTime": {
     "end_time": "2022-03-10T23:23:43.744498Z",
     "start_time": "2022-03-10T23:23:43.696990Z"
    },
    "hidden": true
   },
   "outputs": [],
   "source": [
    "# pp.pprint(environ.val_metrics['total'])"
   ]
  },
  {
   "cell_type": "code",
   "execution_count": null,
   "id": "336e5cec",
   "metadata": {
    "ExecuteTime": {
     "end_time": "2022-02-21T17:44:36.218784Z",
     "start_time": "2022-02-21T17:44:36.063411Z"
    },
    "hidden": true
   },
   "outputs": [],
   "source": [
    "# print_loss(environ.val_metrics, title = f\"[Final] ep:{current_epoch}  it:{current_iter}\",)\n",
    "# environ.display_trained_policy(current_epoch)\n",
    "# environ.display_trained_logits(current_epoch)\n",
    "# environ.log_file.flush()"
   ]
  },
  {
   "cell_type": "code",
   "execution_count": null,
   "id": "083c1c8e",
   "metadata": {
    "ExecuteTime": {
     "end_time": "2022-03-06T00:32:52.580865Z",
     "start_time": "2022-03-06T00:32:52.554112Z"
    },
    "hidden": true,
    "scrolled": true
   },
   "outputs": [],
   "source": [
    "# model_label   = 'model_train_ep_%d_seed_%04d' % (current_epoch, opt['random_seed'])\n",
    "# metrics_label = 'metrics_train_ep_%d_seed_%04d.pickle' % (current_epoch, opt['random_seed'])\n",
    "# environ.save_checkpoint(model_label, current_iter, current_epoch) \n",
    "# save_to_pickle(environ.val_metrics, environ.opt['paths']['checkpoint_dir'], metrics_label)\n",
    "# print_loss(environ.val_metrics, title = f\"[Final] ep:{current_epoch}  it:{current_iter}\",)\n",
    "# environ.display_trained_policy(current_epoch,out=[sys.stdout, environ.log_file])\n",
    "# environ.display_trained_logits(current_epoch)\n",
    "# environ.log_file.flush()"
   ]
  },
  {
   "cell_type": "code",
   "execution_count": null,
   "id": "5dad3a6e",
   "metadata": {
    "ExecuteTime": {
     "end_time": "2022-02-20T22:48:27.014120Z",
     "start_time": "2022-02-20T22:48:26.982535Z"
    },
    "hidden": true
   },
   "outputs": [],
   "source": [
    "# print_loss(current_iter, environ.losses, title = f\"[e] Policy training epoch:{current_epoch}    iter:\")\n",
    "# print()\n",
    "# print_loss(current_iter, trn_losses, title = f\"[e] Policy training epoch:{current_epoch}    iter:\")\n",
    "# print()\n",
    "# print_loss(current_iter, environ.val_metrics, title = f\"[e] Policy training epoch:{current_epoch}    iter:\")"
   ]
  },
  {
   "cell_type": "code",
   "execution_count": null,
   "id": "464d5db8",
   "metadata": {
    "ExecuteTime": {
     "end_time": "2022-03-01T20:31:45.254334Z",
     "start_time": "2022-03-01T20:31:45.116895Z"
    },
    "hidden": true
   },
   "outputs": [],
   "source": [
    "# environ.losses\n",
    "# environ.val_metrics"
   ]
  },
  {
   "cell_type": "code",
   "execution_count": null,
   "id": "59c4dd81",
   "metadata": {
    "ExecuteTime": {
     "end_time": "2022-03-01T20:47:29.582501Z",
     "start_time": "2022-03-01T20:47:29.492581Z"
    },
    "hidden": true
   },
   "outputs": [],
   "source": [
    "# environ.batch_data\n",
    "# print_metrics_cr(current_epoch, time.time() - start_time, trn_losses, environ.val_metrics, 0, out=[sys.stdout])\n",
    "# environ.display_parameters()\n",
    "\n",
    "# with np.printoptions(edgeitems=3, infstr='inf', linewidth=150, nanstr='nan', precision=7, formatter={'float': lambda x: f\"{x:12.5e}\"}):\n",
    "#     environ.print_logit_grads('gradients')\n",
    "\n",
    "# environ_params = environ.get_task_specific_parameters()\n",
    "# environ_params = environ.get_arch_parameters()\n",
    "# environ_params = environ.get_backbone_parameters()\n",
    "# print(environ_params)\n",
    "# for param in environ_params:\n",
    "#     print(param.grad.shape, '\\n', param.grad)\n",
    "#     print(param)"
   ]
  },
  {
   "cell_type": "code",
   "execution_count": null,
   "id": "49c80c9b",
   "metadata": {
    "ExecuteTime": {
     "end_time": "2022-03-11T21:12:46.806056Z",
     "start_time": "2022-03-11T21:12:46.471801Z"
    },
    "hidden": true
   },
   "outputs": [],
   "source": [
    "environ.display_trained_logits(ns.current_epoch)\n",
    "environ.display_trained_policy(ns.current_epoch)"
   ]
  },
  {
   "cell_type": "code",
   "execution_count": null,
   "id": "04d47dc5",
   "metadata": {
    "ExecuteTime": {
     "end_time": "2022-03-11T21:13:19.578964Z",
     "start_time": "2022-03-11T21:13:19.242252Z"
    },
    "hidden": true
   },
   "outputs": [],
   "source": [
    "environ.display_test_sample_policy(ns.current_epoch, hard_sampling = True)\n",
    "environ.display_train_sample_policy(ns.current_epoch, hard_sampling = True)"
   ]
  },
  {
   "cell_type": "code",
   "execution_count": null,
   "id": "8754b317",
   "metadata": {
    "ExecuteTime": {
     "end_time": "2022-03-06T00:33:19.474125Z",
     "start_time": "2022-03-06T00:33:19.447847Z"
    },
    "hidden": true
   },
   "outputs": [],
   "source": [
    "# environ.define_optimizer(policy_learning=True)"
   ]
  },
  {
   "cell_type": "code",
   "execution_count": null,
   "id": "e7e89541",
   "metadata": {
    "ExecuteTime": {
     "end_time": "2022-03-09T00:07:08.097708Z",
     "start_time": "2022-03-09T00:07:08.070721Z"
    },
    "hidden": true
   },
   "outputs": [],
   "source": [
    "print(environ.optimizers['alphas'])\n",
    "print(environ.optimizers['weights'])"
   ]
  },
  {
   "cell_type": "code",
   "execution_count": null,
   "id": "d1ecc91e",
   "metadata": {
    "ExecuteTime": {
     "end_time": "2022-03-09T00:07:50.026992Z",
     "start_time": "2022-03-09T00:07:49.986101Z"
    },
    "hidden": true,
    "scrolled": true
   },
   "outputs": [],
   "source": [
    "print('Policy  initial_lr : ', environ.optimizers['alphas'].param_groups[0]['initial_lr'], 'lr : ',environ.optimizers['alphas'].param_groups[0]['lr'])\n",
    "print('Weights initial_lr : ', environ.optimizers['weights'].param_groups[0]['initial_lr'], 'lr : ',environ.optimizers['weights'].param_groups[0]['lr'])\n",
    "print('Weights initial_lr : ', environ.optimizers['weights'].param_groups[1]['initial_lr'], 'lr : ',environ.optimizers['weights'].param_groups[1]['lr'])"
   ]
  },
  {
   "cell_type": "code",
   "execution_count": null,
   "id": "a1306e8c",
   "metadata": {
    "ExecuteTime": {
     "end_time": "2022-03-10T22:31:50.425696Z",
     "start_time": "2022-03-10T22:31:50.396531Z"
    },
    "hidden": true
   },
   "outputs": [],
   "source": [
    "wandb.run is None"
   ]
  },
  {
   "cell_type": "code",
   "execution_count": null,
   "id": "1b6b8e99",
   "metadata": {
    "ExecuteTime": {
     "end_time": "2022-03-05T23:10:03.751132Z",
     "start_time": "2022-03-05T23:10:03.724538Z"
    },
    "execution": {
     "iopub.execute_input": "2022-01-07T22:44:13.145647Z",
     "iopub.status.busy": "2022-01-07T22:44:13.145313Z",
     "iopub.status.idle": "2022-01-07T22:44:13.193262Z",
     "shell.execute_reply": "2022-01-07T22:44:13.192140Z",
     "shell.execute_reply.started": "2022-01-07T22:44:13.145622Z"
    },
    "hidden": true
   },
   "outputs": [],
   "source": [
    "# opt['exp_instance'] = '0218_1358'     \n",
    "# folder_name=  f\"{opt['exp_instance']}_bs{opt['train']['batch_size']:03d}_{opt['train']['decay_lr_rate']:3.2f}_{opt['train']['decay_lr_freq']}\"\n",
    "# print()\n",
    "# opt['exp_instance'] = datetime.now().strftime(\"%m%d_%H%M\")\n",
    "# opt['exp_description'] = f\"No Alternating Weight/Policy - training all done with both weights and policy\"\n",
    "# folder_name=  f\"{opt['exp_instance']}_bs{opt['train']['batch_size']:03d}_{opt['train']['decay_lr_rate']:3.2f}_{opt['train']['decay_lr_freq']}\""
   ]
  },
  {
   "cell_type": "code",
   "execution_count": null,
   "id": "d2affee1",
   "metadata": {
    "ExecuteTime": {
     "end_time": "2022-03-11T21:12:20.322227Z",
     "start_time": "2022-03-11T21:12:20.285961Z"
    },
    "hidden": true
   },
   "outputs": [],
   "source": [
    "# wandb.finish()"
   ]
  },
  {
   "cell_type": "code",
   "execution_count": null,
   "id": "2527bd00",
   "metadata": {
    "ExecuteTime": {
     "end_time": "2022-02-20T21:25:11.319751Z",
     "start_time": "2022-02-20T21:25:11.210062Z"
    },
    "hidden": true
   },
   "outputs": [],
   "source": [
    "# \n",
    "p = environ.get_current_state(0)"
   ]
  },
  {
   "cell_type": "code",
   "execution_count": null,
   "id": "919068f7",
   "metadata": {
    "ExecuteTime": {
     "end_time": "2022-02-20T21:25:26.324030Z",
     "start_time": "2022-02-20T21:25:26.112782Z"
    },
    "hidden": true
   },
   "outputs": [],
   "source": [
    "pp.pprint(p)"
   ]
  },
  {
   "cell_type": "markdown",
   "id": "5c82a453",
   "metadata": {
    "heading_collapsed": true,
    "hidden": true
   },
   "source": [
    "### Post Warm-up Training stuff"
   ]
  },
  {
   "cell_type": "code",
   "execution_count": null,
   "id": "3bb74c3d",
   "metadata": {
    "ExecuteTime": {
     "end_time": "2022-02-01T12:45:43.999959Z",
     "start_time": "2022-02-01T12:45:43.862475Z"
    },
    "hidden": true
   },
   "outputs": [],
   "source": [
    "pp.pprint(environ.val_metrics)"
   ]
  },
  {
   "cell_type": "code",
   "execution_count": null,
   "id": "912b47da",
   "metadata": {
    "ExecuteTime": {
     "end_time": "2022-02-01T12:46:36.700361Z",
     "start_time": "2022-02-01T12:46:36.367037Z"
    },
    "hidden": true
   },
   "outputs": [],
   "source": [
    "environ.networks['mtl-net'].arch_parameters()"
   ]
  },
  {
   "cell_type": "code",
   "execution_count": null,
   "id": "922f0235",
   "metadata": {
    "ExecuteTime": {
     "end_time": "2022-01-28T16:37:10.158440Z",
     "start_time": "2022-01-28T16:37:09.742327Z"
    },
    "hidden": true
   },
   "outputs": [],
   "source": [
    "p = environ.get_sample_policy(hard_sampling = False)\n",
    "print(p)\n",
    "p = environ.get_policy_prob()\n",
    "print(p)\n",
    "p = environ.get_policy_logits()\n",
    "print(p)\n",
    "\n",
    "# p = environ.get_current_policy()\n",
    "# print(p)"
   ]
  },
  {
   "cell_type": "code",
   "execution_count": null,
   "id": "c6bddd44",
   "metadata": {
    "ExecuteTime": {
     "end_time": "2022-01-28T16:40:37.799917Z",
     "start_time": "2022-01-28T16:40:37.773177Z"
    },
    "hidden": true
   },
   "outputs": [],
   "source": [
    "a = softmax([0.0, 1])\n",
    "print(a)\n",
    "sampled = np.random.choice((1, 0), p=a)\n",
    "print(sampled)"
   ]
  },
  {
   "cell_type": "code",
   "execution_count": null,
   "id": "f5e8f376",
   "metadata": {
    "ExecuteTime": {
     "end_time": "2022-01-28T16:13:16.205889Z",
     "start_time": "2022-01-28T16:13:16.179303Z"
    },
    "hidden": true
   },
   "outputs": [],
   "source": [
    "print(environ.optimizers['weights'])\n",
    "print(environ.schedulers['weights'].get_last_lr())"
   ]
  },
  {
   "cell_type": "code",
   "execution_count": null,
   "id": "dddf9c47",
   "metadata": {
    "ExecuteTime": {
     "end_time": "2022-02-01T12:46:50.411465Z",
     "start_time": "2022-02-01T12:46:50.020540Z"
    },
    "hidden": true,
    "scrolled": false
   },
   "outputs": [],
   "source": [
    "print('losses.keys      : ', environ.losses.keys())\n",
    "print('losses[task]keys : ', environ.losses['task1'].keys())\n",
    "pp.pprint(environ.losses)"
   ]
  },
  {
   "cell_type": "code",
   "execution_count": null,
   "id": "20950069",
   "metadata": {
    "ExecuteTime": {
     "end_time": "2022-01-15T22:57:02.151169Z",
     "start_time": "2022-01-15T22:57:02.056562Z"
    },
    "execution": {
     "iopub.execute_input": "2022-01-07T22:49:07.606120Z",
     "iopub.status.busy": "2022-01-07T22:49:07.604909Z",
     "iopub.status.idle": "2022-01-07T22:49:08.025886Z",
     "shell.execute_reply": "2022-01-07T22:49:08.024798Z",
     "shell.execute_reply.started": "2022-01-07T22:49:07.606065Z"
    },
    "hidden": true,
    "scrolled": false
   },
   "outputs": [],
   "source": [
    "print( environ.val_metrics.keys())\n",
    "# pp.pprint(val_metrics)\n",
    "print(type(environ.val_metrics['aggregated']))\n",
    "print()\n",
    "print(type(environ.val_metrics['task1']['classification_agg']))\n",
    "print()\n",
    "pp.pprint(environ.val_metrics)"
   ]
  },
  {
   "cell_type": "code",
   "execution_count": null,
   "id": "eed6e311",
   "metadata": {
    "ExecuteTime": {
     "end_time": "2022-01-14T18:57:26.266303Z",
     "start_time": "2022-01-14T18:57:26.166878Z"
    },
    "hidden": true
   },
   "outputs": [],
   "source": [
    "# import pickle\n",
    "# with open(\"val_metrics.pkl\", mode= 'wb') as f:\n",
    "#         pickle.dump(val_metrics, f)\n",
    "    \n",
    "# with open('val_metrics.pkl', 'rb') as f:    \n",
    "#     tst_val_metrics = pickle.load(f)"
   ]
  },
  {
   "cell_type": "code",
   "execution_count": null,
   "id": "2b00a8aa",
   "metadata": {
    "ExecuteTime": {
     "end_time": "2022-01-14T18:57:26.297444Z",
     "start_time": "2022-01-14T18:57:26.269323Z"
    },
    "hidden": true
   },
   "outputs": [],
   "source": [
    "# print(environ.input.shape) \n",
    "# a = getattr(environ, 'task1_pred')\n",
    "# yc_data = environ.batch['task1_data']\n",
    "# print(yc_data.shape)\n",
    "# yc_ind = environ.batch['task1_ind']\n",
    "# print(yc_ind.shape)\n",
    "# yc_hat_all = getattr(environ, 'task1_pred')\n",
    "# print(yc_hat_all.shape)\n",
    "# yc_hat  = yc_hat_all[yc_ind[0], yc_ind[1]]\n",
    "# print(yc_hat_all.shape, yc_hat.shape)\n",
    "\n",
    "# \n",
    "# environ.losses\n",
    "# loss = {}\n",
    "# for key in environ.losses.keys():\n",
    "#     loss[key] = {}\n",
    "#     for subkey, v in environ.losses[key].items():\n",
    "#         print(f\" key:  {key}   subkey: {subkey} \")\n",
    "#         if isinstance(v, torch.Tensor):\n",
    "#             loss[key][subkey] = v.data\n",
    "#             print(f\" Tensor  -  key:  {key}   subkey: {subkey}           value type: {type(v)}  value: {v:.4f}\")\n",
    "#         else:\n",
    "#             loss[key][subkey] = v\n",
    "#             print(f\" integer -  key:  {key}   subkey: {subkey}           value type: {type(v)}  value: {v:.4f}\")\n",
    "# pp.pprint(tst_val_metrics)             "
   ]
  },
  {
   "cell_type": "code",
   "execution_count": null,
   "id": "5987f89f",
   "metadata": {
    "ExecuteTime": {
     "end_time": "2022-01-14T18:57:26.340792Z",
     "start_time": "2022-01-14T18:57:26.302528Z"
    },
    "execution": {
     "iopub.execute_input": "2022-01-07T22:49:07.606120Z",
     "iopub.status.busy": "2022-01-07T22:49:07.604909Z",
     "iopub.status.idle": "2022-01-07T22:49:08.025886Z",
     "shell.execute_reply": "2022-01-07T22:49:08.024798Z",
     "shell.execute_reply.started": "2022-01-07T22:49:07.606065Z"
    },
    "hidden": true
   },
   "outputs": [],
   "source": [
    "# print('metrics.keys: ', environ.metrics.keys())\n",
    "# print('metrics[task].keys: ', environ.metrics['task1'].keys())\n",
    "# pp.pprint(environ.metrics['task1'])\n",
    "# pp.pprint(environ.losses['task1']['total'])"
   ]
  },
  {
   "cell_type": "code",
   "execution_count": null,
   "id": "864ae417",
   "metadata": {
    "ExecuteTime": {
     "end_time": "2022-01-14T18:57:26.373399Z",
     "start_time": "2022-01-14T18:57:26.345065Z"
    },
    "hidden": true
   },
   "outputs": [],
   "source": [
    "# title='Iteration'\n",
    "# for t_id, _ in enumerate(environ.tasks):\n",
    "#     task_key = f\"task{t_id+1}\"\n",
    "# #     print_heading(f\"{title}  {current_iter}  {task_key} : {val_metrics[task_key]['classification_agg']}\", verbose = True)\n",
    "\n",
    "#     for key, _  in val_metrics[task_key]['classification_agg'].items():\n",
    "#         print('%s/%-20s'%(task_key, key), val_metrics[task_key]['classification_agg'][key], current_iter)\n",
    "#         print(f\"{task_key:s}/{key:20s}\", val_metrics[task_key]['classification_agg'][key], current_iter)\n",
    "#         print()\n",
    "#             # print_current_errors(os.path.join(self.log_dir, 'loss.txt'), current_iter,key, loss[key], time.time() - start_time)"
   ]
  },
  {
   "cell_type": "code",
   "execution_count": null,
   "id": "c0b73b44",
   "metadata": {
    "ExecuteTime": {
     "end_time": "2022-01-07T22:52:48.162261Z",
     "start_time": "2022-01-07T22:52:48.140423Z"
    },
    "hidden": true
   },
   "outputs": [],
   "source": [
    "# environ.print_loss(current_iter, start_time, metrics = val_metrics['loss'], verbose=True)\n",
    "# print(opt['lambdas'])\n",
    "# p = (opt['lambdas'][0] * environ.losses['tasks']['task1'])\n",
    "# print(p)\n",
    "\n",
    "# environ.print_val_metrics(current_iter, start_time, val_metrics , title='validation', verbose=True)    "
   ]
  },
  {
   "cell_type": "code",
   "execution_count": null,
   "id": "850378b6",
   "metadata": {
    "ExecuteTime": {
     "end_time": "2022-01-07T22:52:47.661019Z",
     "start_time": "2022-01-07T22:52:47.639094Z"
    },
    "hidden": true
   },
   "outputs": [],
   "source": [
    "# print(current_iter)\n",
    "# print_metrics_cr(current_iter, t1 - t0, None, val_metrics , True)\n",
    "# environ.print_val_metrics(current_iter, start_time, val_metrics, title='validation', verbose = True)"
   ]
  },
  {
   "cell_type": "code",
   "execution_count": null,
   "id": "266a80b0",
   "metadata": {
    "ExecuteTime": {
     "end_time": "2022-01-07T23:14:58.034384Z",
     "start_time": "2022-01-07T23:14:58.004850Z"
    },
    "hidden": true,
    "scrolled": true
   },
   "outputs": [],
   "source": [
    "print(f\" val_metric keys               : {val_metrics.keys()}\")\n",
    "print(f\" loss keys                     : {val_metrics['loss'].keys()}\")\n",
    "print(f\" task1 keys                    : {val_metrics['task1'].keys()}\")\n",
    "print(f\" task1 classification keys     : {val_metrics['task1']['classification'].keys()}\")\n",
    "print(f\" task1 classification_agg keys : {val_metrics['task1']['classification_agg'].keys()}\")\n",
    "print()\n",
    "print(f\" task1                       : {val_metrics['task1']['classification_agg']['loss']:5f}\")\n",
    "print(f\" task2                       : {val_metrics['task2']['classification_agg']['loss']:5f}\")\n",
    "print(f\" task3                       : {val_metrics['task3']['classification_agg']['loss']:5f}\")\n",
    "print(f\" loss                        : {val_metrics['loss']['total']:5f}\")\n",
    "print(f\" train_time                  : {val_metrics['train_time']:2f}\")\n",
    "print(f\" epoch                       : {val_metrics['epoch']}\")\n"
   ]
  },
  {
   "cell_type": "markdown",
   "id": "60fc43a6",
   "metadata": {
    "heading_collapsed": true,
    "hidden": true
   },
   "source": [
    "### Post Weight + Policy Training Stuff "
   ]
  },
  {
   "cell_type": "code",
   "execution_count": null,
   "id": "65640cd9",
   "metadata": {
    "ExecuteTime": {
     "end_time": "2022-01-27T00:22:20.634818Z",
     "start_time": "2022-01-27T00:22:20.444566Z"
    },
    "hidden": true
   },
   "outputs": [],
   "source": [
    "environ.networks['mtl-net'].backbone.layer_config"
   ]
  },
  {
   "cell_type": "code",
   "execution_count": null,
   "id": "a4374287",
   "metadata": {
    "ExecuteTime": {
     "end_time": "2022-01-26T19:30:31.940280Z",
     "start_time": "2022-01-26T19:30:31.910058Z"
    },
    "hidden": true
   },
   "outputs": [],
   "source": [
    "num_blocks = 6\n",
    "num_policy_layers = 6\n",
    "gt =  torch.ones((num_blocks)).long()\n",
    "gt0 =  torch.zeros((num_blocks)).long()\n",
    "print(gt)\n",
    "print(gt0)\n",
    "\n",
    "loss_weights = ((torch.arange(0, num_policy_layers, 1) + 1).float() / num_policy_layers)\n",
    "print(loss_weights)"
   ]
  },
  {
   "cell_type": "code",
   "execution_count": null,
   "id": "8651bc43",
   "metadata": {
    "ExecuteTime": {
     "end_time": "2022-01-26T19:42:31.300891Z",
     "start_time": "2022-01-26T19:42:31.257774Z"
    },
    "hidden": true
   },
   "outputs": [],
   "source": [
    "if environ.opt['diff_sparsity_weights'] and not environ.opt['is_sharing']:\n",
    "    print(' cond 1')\n",
    "    ## Assign higher weights to higher layers \n",
    "    loss_weights = ((torch.arange(0, num_policy_layers, 1) + 1).float() / num_policy_layers)\n",
    "    print(f\"{task_key} sparsity error:  {2 * (loss_weights[-num_blocks:] * environ.cross_entropy2(logits[-num_blocks:], gt)).mean()})\")\n",
    "    print_dbg(f\" loss_weights :  {loss_weights}\", verbose = True)\n",
    "    print_dbg(f\" cross_entropy:  {environ.cross_entropy2(logits[-num_blocks:], gt)}  \", verbose = True)\n",
    "    print_dbg(f\" loss[sparsity][{task_key}]: {self.losses['sparsity'][task_key] } \", verbose = True)\n",
    "\n",
    "else:\n",
    "    print('\\n cond 2')\n",
    "    print_dbg(f\"Compute CrossEntropyLoss between \\n Logits   : \\n{logits[-num_blocks:]} \\n and gt: \\n{gt} \\n\", verbose = True)\n",
    "    print(f\"{task_key} sparsity error:  {environ.cross_entropy_sparsity(logits[-num_blocks:], gt)}\")\n",
    "    \n",
    "    print('\\n cond 2')\n",
    "    print_dbg(f\"Compute CrossEntropyLoss between Logits      : {logits[-1:]}  and gt: {gt[-1]} \", verbose = True)\n",
    "    print(f\"{task_key} sparsity error:  {environ.cross_entropy_sparsity(logits[-1:], gt[-1:])} \\n\")\n",
    "    print_dbg(f\"Compute CrossEntropyLoss between Logits      : {logits[-1:]}  and gt: {gt0[-1]} \", verbose = True)\n",
    "    print(f\"{task_key} sparsity error:  {environ.cross_entropy_sparsity(logits[-1:], gt0[-1:])} \\n\")\n",
    "    \n",
    "    print('\\n cond 3')    \n",
    "    print_dbg(f\"Compute CrossEntropyLoss between Logits   : {logits[0:1]}  and gt: {gt[0:1]} \", verbose = True)\n",
    "    print(f\"{task_key} sparsity error:  {environ.cross_entropy_sparsity(logits[0:1], gt[0:1])} \\n\")\n",
    "    print_dbg(f\"Compute CrossEntropyLoss between Logits   : {logits[0:1]}  and gt: {gt0[0:1]} \", verbose = True)\n",
    "    print(f\"{task_key} sparsity error:  {environ.cross_entropy_sparsity(logits[0:1], gt0[0:1])} \\n\")\n",
    "        \n",
    "        "
   ]
  },
  {
   "cell_type": "code",
   "execution_count": null,
   "id": "c686cd05",
   "metadata": {
    "hidden": true
   },
   "outputs": [],
   "source": []
  },
  {
   "cell_type": "code",
   "execution_count": null,
   "id": "c83ee1b6",
   "metadata": {
    "ExecuteTime": {
     "end_time": "2022-01-26T00:14:30.155045Z",
     "start_time": "2022-01-26T00:14:30.107095Z"
    },
    "hidden": true
   },
   "outputs": [],
   "source": [
    "# flag = 'update_w'\n",
    "# environ.fix_alpha\n",
    "# environ.free_w(opt['fix_BN'])\n",
    "\n",
    "flag = 'update_alpha'\n",
    "environ.fix_weights()\n",
    "environ.free_alpha()"
   ]
  },
  {
   "cell_type": "code",
   "execution_count": null,
   "id": "6e7996b7",
   "metadata": {
    "ExecuteTime": {
     "end_time": "2022-01-25T23:43:31.184285Z",
     "start_time": "2022-01-25T23:43:31.159229Z"
    },
    "hidden": true
   },
   "outputs": [],
   "source": [
    "environ.networks['mtl-net'].num_layers"
   ]
  },
  {
   "cell_type": "code",
   "execution_count": null,
   "id": "f436ee6a",
   "metadata": {
    "ExecuteTime": {
     "end_time": "2022-01-26T00:14:34.993711Z",
     "start_time": "2022-01-26T00:14:34.968623Z"
    },
    "hidden": true
   },
   "outputs": [],
   "source": [
    "print(f\"current_iters         : {current_iter}\")  \n",
    "print(f\"current_epochs           : {current_epoch}\") \n",
    "print(f\"train_total_epochs    : {train_total_epochs}\") \n",
    "\n",
    "train_total_epochs += 5\n",
    "\n",
    "print(f\"current_iters         : {current_iter}\")  \n",
    "print(f\"current_epochs           : {current_epoch}\") \n",
    "print(f\"train_total_epochs    : {train_total_epochs}\") "
   ]
  },
  {
   "cell_type": "code",
   "execution_count": null,
   "id": "5334a0b6",
   "metadata": {
    "ExecuteTime": {
     "end_time": "2022-01-25T17:15:02.216665Z",
     "start_time": "2022-01-25T17:15:01.848081Z"
    },
    "hidden": true
   },
   "outputs": [],
   "source": [
    "# print_metrics_cr(current_epoch, time.time() - t0, None, environ.val_metrics , num_prints)      \n",
    "\n",
    "# num_prints += 1\n",
    "# t0 = time.time()\n",
    "\n",
    "# # Take check point\n",
    "# environ.save_checkpoint('latest', current_iter)\n",
    "# environ.train()\n",
    "# #-------------------------------------------------------\n",
    "# # END validation process\n",
    "# #-------------------------------------------------------       \n",
    "# flag = 'update_alpha'\n",
    "# environ.fix_w()\n",
    "# environ.free_alpha()"
   ]
  },
  {
   "cell_type": "code",
   "execution_count": null,
   "id": "9d8c4f39",
   "metadata": {
    "ExecuteTime": {
     "end_time": "2022-01-08T01:08:57.366231Z",
     "start_time": "2022-01-08T01:08:57.295445Z"
    },
    "hidden": true
   },
   "outputs": [],
   "source": [
    "# dilation = 2\n",
    "# kernel_size = np.asarray((3, 3))\n",
    "# upsampled_kernel_size = (kernel_size - 1) * (dilation - 1) + kernel_size\n",
    "# print(upsampled_kernel_size)"
   ]
  },
  {
   "cell_type": "code",
   "execution_count": null,
   "id": "9500c390",
   "metadata": {
    "ExecuteTime": {
     "end_time": "2022-01-25T23:43:39.763599Z",
     "start_time": "2022-01-25T23:43:39.728402Z"
    },
    "hidden": true
   },
   "outputs": [],
   "source": [
    "# environ.optimizers['weights'].param_groups[0]\n",
    "# for param_group in optimizer.param_groups:\n",
    "#     return param_group['lr']"
   ]
  },
  {
   "cell_type": "code",
   "execution_count": null,
   "id": "5fb71bd6",
   "metadata": {
    "ExecuteTime": {
     "end_time": "2022-01-25T23:43:41.628847Z",
     "start_time": "2022-01-25T23:43:41.602238Z"
    },
    "hidden": true
   },
   "outputs": [],
   "source": [
    "environ.schedulers['weights'].get_last_lr()"
   ]
  },
  {
   "cell_type": "code",
   "execution_count": null,
   "id": "d7934862",
   "metadata": {
    "ExecuteTime": {
     "end_time": "2022-01-08T01:36:17.129535Z",
     "start_time": "2022-01-08T01:36:16.006144Z"
    },
    "hidden": true,
    "scrolled": true
   },
   "outputs": [],
   "source": [
    "current_state = {}\n",
    "for k, v in environ.optimizers.items():\n",
    "    print(f'state dict for {k} = {v}')\n",
    "    current_state[k] = v.state_dict()\n",
    "pp.pprint(current_state)"
   ]
  },
  {
   "cell_type": "code",
   "execution_count": null,
   "id": "d5faf7f1",
   "metadata": {
    "ExecuteTime": {
     "end_time": "2022-01-08T01:40:22.032247Z",
     "start_time": "2022-01-08T01:40:22.006953Z"
    },
    "hidden": true,
    "scrolled": true
   },
   "outputs": [],
   "source": [
    "current_state = {}\n",
    "for k, v in environ.schedulers.items():\n",
    "    print(f'state dict for {k} = {v}')\n",
    "    print(v.state_dict())"
   ]
  },
  {
   "cell_type": "markdown",
   "id": "dd497e72",
   "metadata": {
    "heading_collapsed": true,
    "hidden": true
   },
   "source": [
    "### Losses and Metrics"
   ]
  },
  {
   "cell_type": "code",
   "execution_count": null,
   "id": "66169a84",
   "metadata": {
    "ExecuteTime": {
     "end_time": "2022-02-09T16:34:44.555617Z",
     "start_time": "2022-02-09T16:34:44.507417Z"
    },
    "hidden": true
   },
   "outputs": [],
   "source": [
    "trn_losses = environ.losses"
   ]
  },
  {
   "cell_type": "code",
   "execution_count": null,
   "id": "60cb8234",
   "metadata": {
    "ExecuteTime": {
     "end_time": "2022-02-10T03:35:11.758429Z",
     "start_time": "2022-02-10T03:35:11.278211Z"
    },
    "hidden": true
   },
   "outputs": [],
   "source": [
    "print_metrics_cr(current_epoch, time.time() - start_time, trn_losses, environ.val_metrics , num_prints)      "
   ]
  },
  {
   "cell_type": "code",
   "execution_count": null,
   "id": "4ce0301f",
   "metadata": {
    "ExecuteTime": {
     "end_time": "2022-02-10T03:21:49.107793Z",
     "start_time": "2022-02-10T03:21:49.084484Z"
    },
    "hidden": true
   },
   "outputs": [],
   "source": [
    "# print_metrics_cr(current_epoch, time.time() - start_time, trn_losses, environ.val_metrics , num_prints)      "
   ]
  },
  {
   "cell_type": "code",
   "execution_count": null,
   "id": "a498b6ee",
   "metadata": {
    "ExecuteTime": {
     "end_time": "2022-02-10T03:20:32.866010Z",
     "start_time": "2022-02-10T03:20:32.442919Z"
    },
    "hidden": true
   },
   "outputs": [],
   "source": [
    "# pp.pprint(environ.losses)\n",
    "pp.pprint(trn_losses)"
   ]
  },
  {
   "cell_type": "code",
   "execution_count": null,
   "id": "5fe30724",
   "metadata": {
    "ExecuteTime": {
     "end_time": "2022-02-10T03:34:21.945701Z",
     "start_time": "2022-02-10T03:34:21.411234Z"
    },
    "hidden": true
   },
   "outputs": [],
   "source": [
    "pp.pprint(environ.val_metrics)"
   ]
  },
  {
   "cell_type": "code",
   "execution_count": null,
   "id": "a1d81167",
   "metadata": {
    "ExecuteTime": {
     "end_time": "2022-01-27T00:58:49.364883Z",
     "start_time": "2022-01-27T00:58:49.342931Z"
    },
    "hidden": true
   },
   "outputs": [],
   "source": [
    "# environ.opt['train']['Lambda_sharing'] = 0.5\n",
    "# opt['train']['Lambda_sharing'] = 0.5\n",
    "\n",
    "# environ.opt['train']['policy_lr'] = 0.001\n",
    "# opt['train']['policy_lr'] = 0.001"
   ]
  },
  {
   "cell_type": "code",
   "execution_count": null,
   "id": "2a73aa06",
   "metadata": {
    "ExecuteTime": {
     "end_time": "2022-01-26T01:00:41.996410Z",
     "start_time": "2022-01-26T01:00:41.559006Z"
    },
    "hidden": true
   },
   "outputs": [],
   "source": [
    "environ.losses.keys()\n",
    "pp.pprint(environ.losses)"
   ]
  },
  {
   "cell_type": "code",
   "execution_count": null,
   "id": "e06ece74",
   "metadata": {
    "ExecuteTime": {
     "end_time": "2022-01-08T01:19:43.683550Z",
     "start_time": "2022-01-08T01:19:43.571450Z"
    },
    "hidden": true
   },
   "outputs": [],
   "source": [
    "tmp = environ.get_loss_dict()\n",
    "print(tmp.keys())\n",
    "pp.pprint(tmp)"
   ]
  },
  {
   "cell_type": "code",
   "execution_count": null,
   "id": "00ac0256",
   "metadata": {
    "ExecuteTime": {
     "end_time": "2022-01-27T00:58:50.458223Z",
     "start_time": "2022-01-27T00:58:50.430889Z"
    },
    "hidden": true
   },
   "outputs": [],
   "source": [
    "print(opt['diff_sparsity_weights'])\n",
    "print(opt['is_sharing'])\n",
    "print(opt['diff_sparsity_weights'] and not opt['is_sharing'])\n",
    "print(environ.opt['train']['Lambda_sharing'])\n",
    "print(opt['train']['Lambda_sharing'])\n",
    "print(environ.opt['train']['Lambda_sparsity'])\n",
    "print(opt['train']['Lambda_sparsity'])\n",
    "print(environ.opt['train']['policy_lr'])\n",
    "print(opt['train']['policy_lr'])"
   ]
  },
  {
   "cell_type": "markdown",
   "id": "aae2d510",
   "metadata": {
    "heading_collapsed": true,
    "hidden": true
   },
   "source": [
    "### Policy / Logit stuff"
   ]
  },
  {
   "cell_type": "code",
   "execution_count": null,
   "id": "bb628497",
   "metadata": {
    "ExecuteTime": {
     "end_time": "2022-02-08T20:35:14.041577Z",
     "start_time": "2022-02-08T20:35:14.018303Z"
    },
    "hidden": true
   },
   "outputs": [],
   "source": [
    "from scipy.special          import softmax"
   ]
  },
  {
   "cell_type": "code",
   "execution_count": null,
   "id": "79eed454",
   "metadata": {
    "ExecuteTime": {
     "end_time": "2022-02-08T20:00:30.103364Z",
     "start_time": "2022-02-08T20:00:30.068021Z"
    },
    "hidden": true
   },
   "outputs": [],
   "source": [
    "np.set_printoptions(precision=8,edgeitems=3, infstr='inf', linewidth=150, nanstr='nan')\n",
    "torch.set_printoptions(precision=8,linewidth=132)"
   ]
  },
  {
   "cell_type": "markdown",
   "id": "df03b5cc",
   "metadata": {
    "heading_collapsed": true,
    "hidden": true
   },
   "source": [
    "#### `get_task_logits(n)` Get logits for task group n"
   ]
  },
  {
   "cell_type": "code",
   "execution_count": null,
   "id": "2aed8b9b",
   "metadata": {
    "ExecuteTime": {
     "end_time": "2022-02-08T20:56:35.652087Z",
     "start_time": "2022-02-08T20:56:35.327406Z"
    },
    "hidden": true
   },
   "outputs": [],
   "source": [
    "task_logits = environ.get_task_logits(1)\n",
    "print(task_logits)"
   ]
  },
  {
   "cell_type": "markdown",
   "id": "fb66fa5f",
   "metadata": {
    "hidden": true
   },
   "source": [
    "#### `get_arch_parameters()`: Get last used logits from network"
   ]
  },
  {
   "cell_type": "code",
   "execution_count": null,
   "id": "8a85521e",
   "metadata": {
    "ExecuteTime": {
     "end_time": "2022-02-08T20:00:31.101960Z",
     "start_time": "2022-02-08T20:00:30.757064Z"
    },
    "hidden": true,
    "scrolled": true
   },
   "outputs": [],
   "source": [
    "import torch.optim as optim\n",
    "arch_parameters      = environ.get_arch_parameters()\n",
    "print(arch_parameters)"
   ]
  },
  {
   "cell_type": "code",
   "execution_count": null,
   "id": "489b0bef",
   "metadata": {
    "ExecuteTime": {
     "end_time": "2022-02-09T15:43:06.054699Z",
     "start_time": "2022-02-09T15:43:05.689327Z"
    },
    "hidden": true,
    "scrolled": true
   },
   "outputs": [],
   "source": [
    "import torch.optim as optim\n",
    "arch_parameters      = environ.get_arch_parameters()\n",
    "print(arch_parameters)"
   ]
  },
  {
   "cell_type": "markdown",
   "id": "19ea1743",
   "metadata": {
    "hidden": true
   },
   "source": [
    "#### `get_policy_logits()`:  Get Policy Logits - returns same as `get_arch_parameters()`"
   ]
  },
  {
   "cell_type": "code",
   "execution_count": null,
   "id": "cdbb40c4",
   "metadata": {
    "ExecuteTime": {
     "end_time": "2022-02-09T15:43:24.972390Z",
     "start_time": "2022-02-09T15:43:24.636629Z"
    },
    "hidden": true,
    "scrolled": true
   },
   "outputs": [],
   "source": [
    "logs = environ.get_policy_logits()\n",
    "for i in logs:\n",
    "    print(i, '\\n')\n",
    "# probs = softmax(logs, axis= -1)\n",
    "# for i in probs:\n",
    "#     print(i, '\\n')"
   ]
  },
  {
   "cell_type": "markdown",
   "id": "6080a364",
   "metadata": {
    "hidden": true
   },
   "source": [
    "#### `get_policy_prob()` : Gets the softmax of the logits"
   ]
  },
  {
   "cell_type": "code",
   "execution_count": null,
   "id": "b59c75af",
   "metadata": {
    "ExecuteTime": {
     "end_time": "2022-02-09T15:43:29.733732Z",
     "start_time": "2022-02-09T15:43:29.699600Z"
    },
    "hidden": true,
    "scrolled": true
   },
   "outputs": [],
   "source": [
    "policy_softmaxs = environ.get_policy_prob()\n",
    "for i in policy_softmaxs:\n",
    "    print(i, '\\n')"
   ]
  },
  {
   "cell_type": "markdown",
   "id": "3c3160d9",
   "metadata": {
    "heading_collapsed": true,
    "hidden": true
   },
   "source": [
    "#### `get_sample_policy( hard_sampling = False)` : Calls test_sample_policy of network with random choices based on softmax of logits"
   ]
  },
  {
   "cell_type": "code",
   "execution_count": null,
   "id": "3f411444",
   "metadata": {
    "ExecuteTime": {
     "end_time": "2022-02-08T22:21:15.636722Z",
     "start_time": "2022-02-08T22:21:15.165456Z"
    },
    "hidden": true
   },
   "outputs": [],
   "source": [
    "policy_softmaxs = environ.get_policy_prob()\n",
    "policies,logits = environ.get_sample_policy(hard_sampling = False)\n",
    "\n",
    "for l, p, s in zip(logits, policies, policy_softmaxs) :\n",
    "    for  l_row, p_row, s_row in zip(l, p, s):\n",
    "        print( l_row,'\\t', p_row, '\\t', s_row)\n",
    "    print('\\n')"
   ]
  },
  {
   "cell_type": "markdown",
   "id": "802664ec",
   "metadata": {
    "heading_collapsed": true,
    "hidden": true
   },
   "source": [
    "#### `get_sample_policy( hard_sampling = True)` : Calls test_sample_policy of network using ARGMAX of logits"
   ]
  },
  {
   "cell_type": "code",
   "execution_count": null,
   "id": "dea65bf2",
   "metadata": {
    "ExecuteTime": {
     "end_time": "2022-02-08T20:59:40.790899Z",
     "start_time": "2022-02-08T20:59:40.726657Z"
    },
    "hidden": true
   },
   "outputs": [],
   "source": [
    "policy_softmaxs = environ.get_policy_prob()\n",
    "hard_policies, logits = environ.get_sample_policy(hard_sampling = True)\n",
    "\n",
    "for p,l,s in zip(hard_policies, logits, policy_softmaxs) :\n",
    "    for  p_row, l_row, s_row in zip(p, l, s):\n",
    "        print( l_row,'\\t', p_row, '\\t', s_row)\n",
    "    print('\\n')"
   ]
  },
  {
   "cell_type": "markdown",
   "id": "c63c39cf",
   "metadata": {
    "heading_collapsed": true,
    "hidden": true
   },
   "source": [
    "#### Print"
   ]
  },
  {
   "cell_type": "code",
   "execution_count": null,
   "id": "4c0fe096",
   "metadata": {
    "ExecuteTime": {
     "end_time": "2022-02-08T21:00:47.452220Z",
     "start_time": "2022-02-08T21:00:47.422902Z"
    },
    "hidden": true
   },
   "outputs": [],
   "source": [
    "print(f\" Layer    task 1      task 2      task 3\")\n",
    "print(f\" -----    ------      ------      ------\")\n",
    "for idx, (l1, l2, l3) in enumerate(zip(hard_policies[0], hard_policies[1], hard_policies[2]),1):\n",
    "    print(f\"   {idx}      {l1}       {l2}       {l3}\")\n",
    "    \n",
    "\n",
    "    print(f\"\\n\\n where [p1  p2]:  p1: layer is selected    p2: layer is not selected\")"
   ]
  },
  {
   "cell_type": "code",
   "execution_count": null,
   "id": "7ade0ac9",
   "metadata": {
    "ExecuteTime": {
     "end_time": "2022-02-08T22:39:39.936555Z",
     "start_time": "2022-02-08T22:39:39.911591Z"
    },
    "hidden": true
   },
   "outputs": [],
   "source": [
    "def display_trained_policy(iter):\n",
    "\n",
    "    policy_softmaxs = environ.get_policy_prob()\n",
    "    policy_argmaxs = 1-np.argmax(policy_softmaxs, axis = -1)\n",
    "    print(f\"  Trained polcies at iteration: {iter} \")\n",
    "    print(f\"                   task 1                           task 2                         task 3        \")\n",
    "    print(f\" Layer       softmax        select          softmax        select          softmax        select   \")\n",
    "    print(f\" -----    ---------------   ------       ---------------   ------       ---------------   ------   \")\n",
    "    for idx, (l1,l2,l3,  p1,p2,p3) in enumerate(zip(policy_softmaxs[0], policy_softmaxs[1], policy_softmaxs[2], policy_argmaxs[0], policy_argmaxs[1], policy_argmaxs[2]),1):\n",
    "        print(f\"   {idx}      {l1[0]:.4f}   {l1[1]:.4f}   {p1:4d}    {l2[0]:11.4f}   {l2[1]:.4f}   {p2:4d}    {l3[0]:11.4f}   {l3[1]:.4f}   {p3:4d}\")\n",
    "\n",
    "    print()\n",
    "# print(f\"\\n\\n where [p1  p2]:  p1: layer is selected    p2: layer is not selected\")"
   ]
  },
  {
   "cell_type": "code",
   "execution_count": null,
   "id": "ec208dd8",
   "metadata": {
    "ExecuteTime": {
     "end_time": "2022-02-08T22:42:12.650813Z",
     "start_time": "2022-02-08T22:42:12.330169Z"
    },
    "hidden": true
   },
   "outputs": [],
   "source": [
    "display_trained_policy(5)"
   ]
  },
  {
   "cell_type": "code",
   "execution_count": null,
   "id": "eec517e9",
   "metadata": {
    "ExecuteTime": {
     "end_time": "2022-02-08T22:07:30.836214Z",
     "start_time": "2022-02-08T22:07:30.804575Z"
    },
    "hidden": true
   },
   "outputs": [],
   "source": [
    "print(f\"                        POLICIES (SOFTMAX)                                       task 3          \")\n",
    "print(f\" Layer    task1              task2            task3 softmax         softmax         argmax         softmax         argmax   \")\n",
    "print(f\" -----    -------------     -------------     -------------   ------   \")\n",
    "for idx, (l1,l2,l3, h1,h2,h3) in enumerate(zip(policy_softmaxs[0], policy_softmaxs[1], policy_softmaxs[2],hard_policies[0], hard_policies[1], hard_policies[2]),1):\n",
    "    print(f\"   {idx}      {l1[0]:.4f} {l1[1]:.4f}     {l2[0]:.4f} {l2[1]:.4f}     {l3[0]:.4f} {l3[1]:.4f}    {h3}\")\n",
    "    \n",
    "print(f\"\\n\\n where [p1  p2]:  p1: layer is selected    p2: layer is not selected\")"
   ]
  },
  {
   "cell_type": "code",
   "execution_count": null,
   "id": "8bbeacb4",
   "metadata": {
    "ExecuteTime": {
     "end_time": "2022-02-08T22:04:50.757406Z",
     "start_time": "2022-02-08T22:04:50.731736Z"
    },
    "hidden": true
   },
   "outputs": [],
   "source": [
    "# print(policy_softmaxs[2], np.argmax(1-policy_softmaxs[2], axis = -1))\n",
    "print(policy_softmaxs, np.argmax(policy_softmaxs, axis = -1))"
   ]
  },
  {
   "cell_type": "markdown",
   "id": "c4be0240",
   "metadata": {
    "heading_collapsed": true,
    "hidden": true
   },
   "source": [
    "#### `get_current_logits()` : Calls test_sample_policy of network using ARGMAX of logits"
   ]
  },
  {
   "cell_type": "code",
   "execution_count": null,
   "id": "cfdb7240",
   "metadata": {
    "ExecuteTime": {
     "end_time": "2022-02-08T21:19:06.155425Z",
     "start_time": "2022-02-08T21:19:06.118640Z"
    },
    "hidden": true,
    "scrolled": true
   },
   "outputs": [],
   "source": [
    "logits  = (environ.get_current_logits())\n",
    "for i in logits:\n",
    "    print(i ,'\\n')"
   ]
  },
  {
   "cell_type": "markdown",
   "id": "13e84662",
   "metadata": {
    "heading_collapsed": true,
    "hidden": true
   },
   "source": [
    "#### `get_current_policy()` : Calls test_sample_policy of network using ARGMAX of logits"
   ]
  },
  {
   "cell_type": "code",
   "execution_count": null,
   "id": "548cfa24",
   "metadata": {
    "ExecuteTime": {
     "end_time": "2022-02-08T20:40:06.543376Z",
     "start_time": "2022-02-08T20:40:06.230711Z"
    },
    "hidden": true,
    "scrolled": true
   },
   "outputs": [],
   "source": [
    "pols  = (environ.get_current_policy())\n",
    "\n",
    "for i in pols:\n",
    "    print(i ,'\\n')"
   ]
  },
  {
   "cell_type": "code",
   "execution_count": null,
   "id": "77f556a8",
   "metadata": {
    "ExecuteTime": {
     "end_time": "2022-01-27T18:27:33.593255Z",
     "start_time": "2022-01-27T18:27:33.553141Z"
    },
    "hidden": true
   },
   "outputs": [],
   "source": [
    " "
   ]
  },
  {
   "cell_type": "markdown",
   "id": "a792710e",
   "metadata": {
    "hidden": true
   },
   "source": [
    "#### `gumbel_softmax()`  "
   ]
  },
  {
   "cell_type": "code",
   "execution_count": null,
   "id": "7265490e",
   "metadata": {
    "ExecuteTime": {
     "end_time": "2022-02-08T21:28:17.107529Z",
     "start_time": "2022-02-08T21:28:17.084910Z"
    },
    "hidden": true
   },
   "outputs": [],
   "source": [
    "np.set_printoptions(precision=8,edgeitems=3, infstr='inf', linewidth=150, nanstr='nan', floatmode = 'maxprec_equal')\n",
    "torch.set_printoptions(precision=8,linewidth=132)"
   ]
  },
  {
   "cell_type": "code",
   "execution_count": null,
   "id": "3dcb0087",
   "metadata": {
    "ExecuteTime": {
     "end_time": "2022-02-08T21:35:11.617269Z",
     "start_time": "2022-02-08T21:35:11.569599Z"
    },
    "hidden": true
   },
   "outputs": [],
   "source": [
    "print(environ.temp)\n",
    "# tau = environ.temp\n",
    "tau = 1\n",
    "for i in range(3): \n",
    "    logits_tensor = torch.tensor(logits[0])\n",
    "    # Sample soft categorical using reparametrization trick:\n",
    "    gumbel_soft = F.gumbel_softmax(logits_tensor, tau=tau, hard=False).cpu().numpy() \n",
    "\n",
    "    # Sample hard categorical using \"Straight-through\" trick:\n",
    "    gumbel_hard  = F.gumbel_softmax(logits_tensor, tau=tau, hard=True).cpu().numpy()\n",
    "    \n",
    "    for l, gs, gh in zip(lgts, gumbel_soft, gumbel_hard):\n",
    "        print(f\"   {l}   \\t {gs}            \\t {gh}\")\n",
    "#     print(lgts)\n",
    "#     print(gumbel_soft)\n",
    "#     print(gumbel_hard)\n",
    "    print()"
   ]
  },
  {
   "cell_type": "code",
   "execution_count": null,
   "id": "f3d5ef7f",
   "metadata": {
    "hidden": true
   },
   "outputs": [],
   "source": []
  },
  {
   "cell_type": "code",
   "execution_count": null,
   "id": "4b0e0e84",
   "metadata": {
    "ExecuteTime": {
     "end_time": "2022-02-08T21:21:35.524957Z",
     "start_time": "2022-02-08T21:21:35.488812Z"
    },
    "hidden": true
   },
   "outputs": [],
   "source": [
    "for lgts in logits:\n",
    "    logits_tensor = torch.tensor(lgts)\n",
    "    print(lgts)\n",
    "    # Sample soft categorical using reparametrization trick:\n",
    "    gumbel_soft = F.gumbel_softmax(logits_tensor, tau=1, hard=False)\n",
    "    print(gumbel_soft)\n",
    "\n",
    "    # Sample hard categorical using \"Straight-through\" trick:\n",
    "    gumbel_hard  = F.gumbel_softmax(logits_tensor, tau=1, hard=True)\n",
    "    print(gumbel_hard)\n",
    "    print()"
   ]
  },
  {
   "cell_type": "code",
   "execution_count": null,
   "id": "fe34a06a",
   "metadata": {
    "ExecuteTime": {
     "end_time": "2022-02-03T20:49:37.643349Z",
     "start_time": "2022-02-03T20:49:37.580786Z"
    },
    "hidden": true
   },
   "outputs": [],
   "source": [
    "smax = scipy.special.softmax(logs, axis =1)\n",
    "# smax = np.array( \n",
    "# [[0.46973792, 0.530262  ],\n",
    "#  [0.45025694, 0.549743  ],\n",
    "#  [0.4443086 , 0.5556915 ],\n",
    "#  [0.4138397 , 0.58616036],\n",
    "#  [0.4140113 , 0.5859887 ],\n",
    "#  [0.42114905, 0.57885087]])\n",
    "\n",
    "print(smax.shape)\n",
    "print(smax)\n",
    "print(smax[0])\n",
    "print(smax[0].sum())\n",
    "print(np.random.choice((1,0), p =smax[0]))"
   ]
  },
  {
   "cell_type": "code",
   "execution_count": null,
   "id": "7e7de25c",
   "metadata": {
    "ExecuteTime": {
     "end_time": "2022-02-08T21:15:19.893888Z",
     "start_time": "2022-02-08T21:15:19.870899Z"
    },
    "hidden": true
   },
   "outputs": [],
   "source": [
    "logs = np.array(\n",
    "[[0.33064184, 0.42053092],\n",
    " [0.3532089 , 0.52056104],\n",
    " [0.3888512 , 0.5680909 ],\n",
    " [0.42039296, 0.694217  ],\n",
    " [0.4519742 , 0.73311865],\n",
    " [0.48401102, 0.7522658 ]],\n",
    ")"
   ]
  }
 ],
 "metadata": {
  "git": {
   "suppress_outputs": true
  },
  "kernelspec": {
   "display_name": "Python (pyt-gpu)",
   "language": "python",
   "name": "pyt-gpu"
  },
  "language_info": {
   "codemirror_mode": {
    "name": "ipython",
    "version": 3
   },
   "file_extension": ".py",
   "mimetype": "text/x-python",
   "name": "python",
   "nbconvert_exporter": "python",
   "pygments_lexer": "ipython3",
   "version": "3.9.5"
  },
  "toc": {
   "base_numbering": 1,
   "nav_menu": {},
   "number_sections": true,
   "sideBar": true,
   "skip_h1_title": false,
   "title_cell": "Table of Contents",
   "title_sidebar": "Contents",
   "toc_cell": false,
   "toc_position": {
    "height": "calc(100% - 180px)",
    "left": "10px",
    "top": "150px",
    "width": "399px"
   },
   "toc_section_display": true,
   "toc_window_display": false
  }
 },
 "nbformat": 4,
 "nbformat_minor": 5
}
