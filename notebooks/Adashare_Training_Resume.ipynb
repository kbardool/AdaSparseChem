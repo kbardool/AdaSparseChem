{
 "cells": [
  {
   "cell_type": "markdown",
   "id": "408f1261",
   "metadata": {},
   "source": [
    "## Initialization  "
   ]
  },
  {
   "cell_type": "markdown",
   "id": "a7d21d42",
   "metadata": {},
   "source": [
    "### Initialization"
   ]
  },
  {
   "cell_type": "code",
   "execution_count": 1,
   "id": "6d574cdc",
   "metadata": {
    "ExecuteTime": {
     "end_time": "2022-02-23T21:33:03.645061Z",
     "start_time": "2022-02-23T21:33:00.806245Z"
    },
    "execution": {
     "iopub.execute_input": "2022-01-07T22:44:08.233990Z",
     "iopub.status.busy": "2022-01-07T22:44:08.233053Z",
     "iopub.status.idle": "2022-01-07T22:44:08.273284Z",
     "shell.execute_reply": "2022-01-07T22:44:08.271908Z",
     "shell.execute_reply.started": "2022-01-07T22:44:08.233943Z"
    },
    "scrolled": false,
    "tags": []
   },
   "outputs": [
    {
     "name": "stdout",
     "output_type": "stream",
     "text": [
      "['./src', '/home/kbardool/kusanagi/AdaSparseChem', '/home/kbardool/miniconda3/envs/pyt-gpu/lib/python39.zip', '/home/kbardool/miniconda3/envs/pyt-gpu/lib/python3.9', '/home/kbardool/miniconda3/envs/pyt-gpu/lib/python3.9/lib-dynload', '', '/home/kbardool/miniconda3/envs/pyt-gpu/lib/python3.9/site-packages', '/home/kbardool/miniconda3/envs/pyt-gpu/lib/python3.9/site-packages/IPython/extensions', '/home/kbardool/.ipython']\n",
      " Cuda is available  :  True\n",
      " CUDA device count  :  1\n",
      " CUDA current device:  0\n",
      " GPU Processes      : \n",
      " GPU:0\n",
      "no processes are running\n",
      "\n",
      " Device : cuda:0\n",
      "   name:        NVIDIA GeForce GTX 970M\n",
      "   capability:  (5, 2)\n",
      "   properties:  _CudaDeviceProperties(name='NVIDIA GeForce GTX 970M', major=5, minor=2, total_memory=3071MB, multi_processor_count=10)\n",
      "   Allocated :  0\n",
      "   Reserved  :  0\n",
      "\n",
      "| ID | GPU  | MEM |\n",
      "-------------------\n",
      "|  0 | nan% |  1% |\n"
     ]
    }
   ],
   "source": [
    "%load_ext autoreload\n",
    "%autoreload 2\n",
    "\n",
    "import os \n",
    "import sys\n",
    "sys.path.insert(0, './src')\n",
    "print(sys.path)\n",
    "import time\n",
    "import argparse\n",
    "import yaml\n",
    "import copy, pprint\n",
    "from time import sleep\n",
    "from datetime import datetime\n",
    "\n",
    "import numpy  as np\n",
    "import torch  \n",
    "import wandb\n",
    "import pandas as pd\n",
    "import torch.nn.functional as F\n",
    "from torch.utils.data import DataLoader \n",
    "import scipy.sparse\n",
    "from scipy.special import softmax\n",
    " \n",
    "from GPUtil import showUtilization as gpu_usage\n",
    "# from tqdm.notebook import trange, tqdm\n",
    "from tqdm     import tqdm,trange \n",
    "\n",
    "from envs.sparsechem_env_dev import SparseChemEnv_Dev\n",
    "from utils.sparsechem_utils import load_sparse, load_task_weights, class_fold_counts, fold_and_transform_inputs, print_metrics_cr\n",
    "from dataloaders.chembl_dataloader_dev import ClassRegrSparseDataset_v3, ClassRegrSparseDataset, InfiniteDataLoader\n",
    "from utils.util import ( makedir, print_separator, create_path, print_yaml, print_loss, should, \n",
    "                         fix_random_seed, read_yaml, timestring, print_heading, print_dbg, \n",
    "                         print_underline, write_config_report, display_config, get_command_line_args, is_notebook)\n",
    "\n",
    "print(' Cuda is available  : ', torch.cuda.is_available())\n",
    "print(' CUDA device count  : ', torch.cuda.device_count())\n",
    "print(' CUDA current device: ', torch.cuda.current_device())\n",
    "print(' GPU Processes      : \\n', torch.cuda.list_gpu_processes())\n",
    "print()\n",
    "\n",
    "for i in range(torch.cuda.device_count()):\n",
    "    print(f\" Device : cuda:{i}\")\n",
    "    print('   name:       ', torch.cuda.get_device_name())\n",
    "    print('   capability: ', torch.cuda.get_device_capability())\n",
    "    print('   properties: ', torch.cuda.get_device_properties(i))\n",
    "    ## current GPU memory usage by tensors in bytes for a given device\n",
    "    print('   Allocated : ', torch.cuda.memory_allocated(i) ) \n",
    "    ## current GPU memory managed by caching allocator in bytes for a given device, in previous PyTorch versions the command was torch.cuda.memory_cached\n",
    "    print('   Reserved  : ', torch.cuda.memory_reserved(i) )   \n",
    "    print()\n",
    "\n",
    "gpu_usage()                             \n",
    "\n",
    "pp = pprint.PrettyPrinter(indent=4)\n",
    "np.set_printoptions(edgeitems=3, infstr='inf', linewidth=150, nanstr='nan')\n",
    "torch.set_printoptions(precision=6, linewidth=132)\n",
    "# torch.set_printoptions(precision=None, threshold=None, edgeitems=None, linewidth=None, profile=None, sci_mode=None)\n",
    "pd.options.display.width = 132\n",
    "\n",
    "os.environ[\"WANDB_NOTEBOOK_NAME\"] = \"Adashare_Training_Resume.ipynb\""
   ]
  },
  {
   "cell_type": "markdown",
   "id": "1b33ac6e",
   "metadata": {},
   "source": [
    "## Create Environment"
   ]
  },
  {
   "cell_type": "markdown",
   "id": "97a638f8",
   "metadata": {},
   "source": [
    "### Parse Input Args"
   ]
  },
  {
   "cell_type": "code",
   "execution_count": null,
   "id": "30a50b5e",
   "metadata": {},
   "outputs": [],
   "source": [
    "input_args = \" --config yamls/chembl_3task_train.yaml \" \\\n",
    "             \" --exp_id      14oarkpu\" \\\n",
    "             \" --exp_name    0304_1549\" \\\n",
    "             \" --exp_desc    Train with dropout 0.5\" \\\n",
    "             \" --seed_idx    0 \"\\\n",
    "             \" --batch_size  128\".split()\n",
    "# get command line arguments\n",
    "args = get_command_line_args(input_args)\n",
    "\n",
    "    \n",
    "print_underline(' command line parms : ', True)\n",
    "for key, val in vars(args).items():\n",
    "    print(f\" {key:.<25s}  {val}\")"
   ]
  },
  {
   "cell_type": "markdown",
   "id": "bfecb2b3",
   "metadata": {},
   "source": [
    "### Read Configuration File"
   ]
  },
  {
   "cell_type": "code",
   "execution_count": null,
   "id": "ad8a4167",
   "metadata": {},
   "outputs": [],
   "source": [
    "# ********************************************************************\n",
    "# ****************** create folders and print options ****************\n",
    "# ********************************************************************\n",
    "print_separator('READ YAML')\n",
    "\n",
    "opt, gpu_ids = read_yaml(args)\n",
    "\n",
    "\n",
    "fix_random_seed(opt[\"random_seed\"])\n",
    "    \n",
    "# opt['exp_instance'] = datetime.now().strftime(\"%m%d_%H%M\")\n",
    "# opt['exp_instance'] = '0218_1358'     \n",
    "# opt['exp_description'] = f\"Retrain phase for 0218_1358\"\n",
    "# folder_name=  f\"{opt['exp_instance']}_bs{opt['train']['batch_size']:03d}_{opt['train']['decay_lr_rate']:3.2f}_{opt['train']['decay_lr_freq']}\"\n",
    "\n",
    "create_path(opt)    \n",
    "print()\n",
    "print_heading(f\" experiment name       : {opt['exp_name']} \\n\"\n",
    "              f\" experiment id         : {opt['exp_id']} \\n\"\n",
    "              f\" folder_name           : {opt['exp_folder']} \\n\"\n",
    "              f\" experiment description: {opt['exp_description']}\\n\"\n",
    "              f\" Random seeds          : {opt['seed_list']}\\n\"\n",
    "              f\" Random  seed used     : {opt['random_seed']} \\n\"\n",
    "              f\" log folder            : {opt['paths']['log_dir']}\\n\"\n",
    "              f\" checkpoint folder     : {opt['paths']['checkpoint_dir']}\", verbose = True)\n",
    "print(f\" Gpu ids: {gpu_ids}     seed index: {args.seed_idx}      policy_iter:{opt['train']['policy_iter']}\")\n",
    "print(opt['dataload']['x_split_ratios'])\n",
    "\n",
    "config_filename = 'run_config_seed_%04d.txt' % (opt['random_seed'])\n",
    "write_config_report(opt, filename = config_filename)    \n",
    "# display_config(opt)\n",
    "best_results = {}"
   ]
  },
  {
   "cell_type": "markdown",
   "id": "8f2bfa8d",
   "metadata": {},
   "source": [
    "### Setup Dataloader and Model  "
   ]
  },
  {
   "cell_type": "code",
   "execution_count": 6,
   "id": "d2358fa2",
   "metadata": {
    "ExecuteTime": {
     "end_time": "2022-03-05T01:26:16.860585Z",
     "start_time": "2022-03-05T01:26:16.104594Z"
    },
    "execution": {
     "iopub.execute_input": "2022-01-07T22:44:16.229028Z",
     "iopub.status.busy": "2022-01-07T22:44:16.227544Z",
     "iopub.status.idle": "2022-01-07T22:44:16.659397Z",
     "shell.execute_reply": "2022-01-07T22:44:16.658348Z",
     "shell.execute_reply.started": "2022-01-07T22:44:16.228966Z"
    }
   },
   "outputs": [
    {
     "name": "stdout",
     "output_type": "stream",
     "text": [
      "##################################################\n",
      "############### CREATE DATALOADERS ###############\n",
      "##################################################\n",
      "##################################################\n",
      "############# CREATE THE ENVIRONMENT #############\n",
      "##################################################\n",
      "-------------------------------------------------------\n",
      "* SparseChemEnv_Dev  Initializtion - verbose: False\n",
      "------------------------------------------------------- \n",
      "\n",
      " device is  cuda:0\n",
      "--------------------------------------------------------\n",
      "* SparseChemEnv_Dev environment successfully created\n",
      "-------------------------------------------------------- \n",
      "\n"
     ]
    }
   ],
   "source": [
    "# ********************************************************************\n",
    "# ******************** Prepare the dataloaders ***********************\n",
    "# ********************************************************************\n",
    "# load the dataloader\n",
    "print_separator('CREATE DATALOADERS')\n",
    "\n",
    "trainset0 = ClassRegrSparseDataset_v3(opt, split_ratios = opt['dataload']['x_split_ratios'], ratio_index = 0, verbose = False)\n",
    "trainset1 = trainset0\n",
    "trainset2 = trainset0\n",
    "# trainset1 = ClassRegrSparseDataset_v3(opt, split_ratios = opt['dataload']['x_split_ratios'], ratio_index = 1)\n",
    "# trainset2 = ClassRegrSparseDataset_v3(opt, split_ratios = opt['dataload']['x_split_ratios'], ratio_index = 2)\n",
    "valset    = ClassRegrSparseDataset_v3(opt, split_ratios = opt['dataload']['x_split_ratios'], ratio_index = 1)\n",
    "testset   = ClassRegrSparseDataset_v3(opt, split_ratios = opt['dataload']['x_split_ratios'], ratio_index = 2)\n",
    "\n",
    "warmup_trn_loader = InfiniteDataLoader(trainset0 , batch_size=opt['train']['batch_size'], num_workers = 2, pin_memory=True, collate_fn=trainset0.collate, shuffle=True)\n",
    "weight_trn_loader = InfiniteDataLoader(trainset1 , batch_size=opt['train']['batch_size'], num_workers = 2, pin_memory=True, collate_fn=trainset1.collate, shuffle=True)\n",
    "policy_trn_loader = InfiniteDataLoader(trainset2 , batch_size=opt['train']['batch_size'], num_workers = 2, pin_memory=True, collate_fn=trainset2.collate, shuffle=True)\n",
    "val_loader        = InfiniteDataLoader(valset    , batch_size=opt['train']['batch_size'], num_workers = 1, pin_memory=True, collate_fn=valset.collate  , shuffle=True)\n",
    "test_loader       = InfiniteDataLoader(testset   , batch_size=32                        , num_workers = 1, pin_memory=True, collate_fn=testset.collate  , shuffle=True)\n",
    "\n",
    "opt['train']['weight_iter_alternate'] = opt['train'].get('weight_iter_alternate' , len(weight_trn_loader))\n",
    "opt['train']['alpha_iter_alternate']  = opt['train'].get('alpha_iter_alternate'  , len(policy_trn_loader))\n",
    "\n",
    "# ********************************************************************\n",
    "# ********************Create the environment *************************\n",
    "# ********************************************************************\n",
    "# create the model and the pretrain model\n",
    "print_separator('CREATE THE ENVIRONMENT')\n",
    "environ = SparseChemEnv_Dev(log_dir          = opt['paths']['log_dir'], \n",
    "                            checkpoint_dir   = opt['paths']['checkpoint_dir'], \n",
    "                            exp_name         = opt['exp_name'],\n",
    "                            tasks_num_class  = opt['tasks_num_class'], \n",
    "                            init_neg_logits  = opt['train']['init_neg_logits'], \n",
    "                            device           = gpu_ids[0],\n",
    "                            init_temperature = opt['train']['init_temp'], \n",
    "                            temperature_decay= opt['train']['decay_temp'], \n",
    "                            is_train         = True,\n",
    "                            opt              = opt, \n",
    "                            verbose          = False)\n",
    "environ.define_optimizer(policy_learning=False)\n",
    "environ.define_scheduler(policy_learning=False)\n",
    "\n",
    "cfg = environ.print_configuration()\n",
    "# print(cfg)\n",
    "write_config_report(opt, cfg, filename = config_filename, mode = 'a')"
   ]
  },
  {
   "cell_type": "markdown",
   "id": "320fdeee",
   "metadata": {},
   "source": [
    "###  Weights and Biases Initialization "
   ]
  },
  {
   "cell_type": "code",
   "execution_count": 7,
   "id": "1e927c8e",
   "metadata": {
    "ExecuteTime": {
     "end_time": "2022-03-05T01:26:16.988134Z",
     "start_time": "2022-03-05T01:26:16.876265Z"
    }
   },
   "outputs": [
    {
     "name": "stdout",
     "output_type": "stream",
     "text": [
      "14oarkpu 0304_1549 AdaSparseChem\n"
     ]
    }
   ],
   "source": [
    "print(opt['exp_id'], opt['exp_name'], opt['project_name']) # , opt['exp_instance'])\n",
    "# opt['exp_id'] = wandb.util.generate_id()"
   ]
  },
  {
   "cell_type": "code",
   "execution_count": 8,
   "id": "c5dfe152",
   "metadata": {
    "ExecuteTime": {
     "end_time": "2022-03-05T01:26:18.895072Z",
     "start_time": "2022-03-05T01:26:16.991984Z"
    }
   },
   "outputs": [
    {
     "name": "stderr",
     "output_type": "stream",
     "text": [
      "\u001b[34m\u001b[1mwandb\u001b[0m: Currently logged in as: \u001b[33mkbardool\u001b[0m (use `wandb login --relogin` to force relogin)\n"
     ]
    },
    {
     "data": {
      "text/html": [
       "Tracking run with wandb version 0.12.11"
      ],
      "text/plain": [
       "<IPython.core.display.HTML object>"
      ]
     },
     "metadata": {},
     "output_type": "display_data"
    },
    {
     "data": {
      "text/html": [
       "Run data is saved locally in <code>/home/kbardool/kusanagi/AdaSparseChem/wandb/run-20220304_172617-14oarkpu</code>"
      ],
      "text/plain": [
       "<IPython.core.display.HTML object>"
      ]
     },
     "metadata": {},
     "output_type": "display_data"
    },
    {
     "data": {
      "text/html": [
       "Resuming run <strong><a href=\"http://localhost:8080/kbardool/AdaSparseChem/runs/14oarkpu\" target=\"_blank\">0304_1549</a></strong> to <a href=\"http://localhost:8080/kbardool/AdaSparseChem\" target=\"_blank\">Weights & Biases</a> (<a href=\"https://wandb.me/run\" target=\"_blank\">docs</a>)<br/>"
      ],
      "text/plain": [
       "<IPython.core.display.HTML object>"
      ]
     },
     "metadata": {},
     "output_type": "display_data"
    },
    {
     "name": "stdout",
     "output_type": "stream",
     "text": [
      "PROJECT NAME: AdaSparseChem RUN ID:  14oarkpu    RUN NAME: 0304_1549\n"
     ]
    },
    {
     "data": {
      "text/plain": [
       "[]"
      ]
     },
     "execution_count": 8,
     "metadata": {},
     "output_type": "execute_result"
    }
   ],
   "source": [
    "run = wandb.init(project=opt['project_name'], entity=\"kbardool\", resume=\"allow\", id = opt['exp_id'], name = opt['exp_name'])\n",
    " \n",
    "print(f\"PROJECT NAME: {wandb.run.project} RUN ID:  {wandb.run.id}    RUN NAME: {wandb.run.name}\") \n",
    "\n",
    "# # wandb.init(id='1q3dt2en' )\n",
    "# assert wandb.run is None, \"Run is still running\"\n",
    "\n",
    "wandb.config = opt.copy()\n",
    "wandb.watch(environ.networks['mtl-net'], log='all', log_freq=10)     ###  Weights and Biases Initialization "
   ]
  },
  {
   "cell_type": "code",
   "execution_count": 9,
   "id": "6105c40a",
   "metadata": {
    "ExecuteTime": {
     "end_time": "2022-03-05T01:26:19.001774Z",
     "start_time": "2022-03-05T01:26:18.901727Z"
    }
   },
   "outputs": [
    {
     "data": {
      "text/plain": [
       "device(type='cuda', index=0)"
      ]
     },
     "execution_count": 9,
     "metadata": {},
     "output_type": "execute_result"
    }
   ],
   "source": [
    "# wandb_run_name = opt['exp_instance']\n",
    "# wandb_run_id = wandb.util.generate_id()\n",
    "# print(wandb.run.id, wandb.run.name) \n",
    "# print(opt['exp_uid'], opt['exp_instance'])\n",
    "# run = wandb.init(project=\"AdaSparseChem\", entity=\"kbardool\", resume=\"allow\", id = opt['exp_id'], name = opt['exp_instance'])\n",
    "\n",
    "# wandb.config = opt.copy()\n",
    "# wandb.watch(environ.networks['mtl-net'], log='all', log_freq=10)\n",
    "environ.device"
   ]
  },
  {
   "cell_type": "markdown",
   "id": "98f38961",
   "metadata": {},
   "source": [
    "###  Weights and Biases Initialization "
   ]
  },
  {
   "cell_type": "code",
   "execution_count": 37,
   "id": "fc5d5ee5",
   "metadata": {
    "ExecuteTime": {
     "end_time": "2022-02-23T21:43:56.022010Z",
     "start_time": "2022-02-23T21:43:51.214015Z"
    }
   },
   "outputs": [
    {
     "name": "stderr",
     "output_type": "stream",
     "text": [
      "\u001b[34m\u001b[1mwandb\u001b[0m: \u001b[33mWARNING\u001b[0m WANDB_NOTEBOOK_NAME should be a path to a notebook file, couldn't find Adashare_Chembl_Integration.ipynb.\n",
      "\u001b[34m\u001b[1mwandb\u001b[0m: Currently logged in as: \u001b[33mkbardool\u001b[0m (use `wandb login --relogin` to force relogin)\n"
     ]
    },
    {
     "name": "stdout",
     "output_type": "stream",
     "text": [
      "3ely9bo8\n"
     ]
    },
    {
     "data": {
      "text/html": [
       "\n",
       "                    Syncing run <strong><a href=\"http://localhost:8080/kbardool/my-test-project/runs/3ely9bo8\" target=\"_blank\">splendid-durian-18</a></strong> to <a href=\"http://localhost:8080/kbardool/my-test-project\" target=\"_blank\">Weights & Biases</a> (<a href=\"https://docs.wandb.com/integrations/jupyter.html\" target=\"_blank\">docs</a>).<br/>\n",
       "\n",
       "                "
      ],
      "text/plain": [
       "<IPython.core.display.HTML object>"
      ]
     },
     "metadata": {},
     "output_type": "display_data"
    },
    {
     "name": "stdout",
     "output_type": "stream",
     "text": [
      "3ely9bo8 splendid-durian-18\n"
     ]
    }
   ],
   "source": [
    "wandb_run_id = wandb.util.generate_id()\n",
    "print(wandb_run_id)\n",
    " \n",
    "run = wandb.init(project=\"AdaSparseChem\", entity=\"kbardool\", resume=\"allow\", id = wandb_run_id)\n",
    "\n",
    "print(wandb.run.id, wandb.run.name) "
   ]
  },
  {
   "cell_type": "code",
   "execution_count": 38,
   "id": "62869c51",
   "metadata": {
    "ExecuteTime": {
     "end_time": "2022-02-23T21:43:59.324518Z",
     "start_time": "2022-02-23T21:43:59.286317Z"
    },
    "scrolled": true
   },
   "outputs": [
    {
     "data": {
      "text/plain": [
       "[]"
      ]
     },
     "execution_count": 38,
     "metadata": {},
     "output_type": "execute_result"
    }
   ],
   "source": [
    "wandb.config = opt.copy()\n",
    "wandb.watch(environ.networks['mtl-net'], log='all', log_freq=10)"
   ]
  },
  {
   "cell_type": "code",
   "execution_count": 12,
   "id": "d69a2b86",
   "metadata": {
    "ExecuteTime": {
     "end_time": "2022-02-22T02:08:13.276148Z",
     "start_time": "2022-02-22T02:08:13.218674Z"
    }
   },
   "outputs": [],
   "source": [
    "# wandb.finish()"
   ]
  },
  {
   "cell_type": "markdown",
   "id": "1d738062",
   "metadata": {
    "heading_collapsed": true
   },
   "source": [
    "## Initiate / Resume Training Prep"
   ]
  },
  {
   "cell_type": "code",
   "execution_count": 10,
   "id": "b3ac9036",
   "metadata": {
    "ExecuteTime": {
     "end_time": "2022-03-05T01:26:20.486164Z",
     "start_time": "2022-03-05T01:26:19.010055Z"
    },
    "hidden": true
   },
   "outputs": [
    {
     "name": "stdout",
     "output_type": "stream",
     "text": [
      "warmup\n",
      "=> loading snapshot from ../experiments/AdaSparseChem/50x6_0304_1549_plr0.01_sp0.0001_sh0.01/warmup_ep_40_seed_0088_model.pth.tar\n",
      "   Loading to GPU cuda:0\n"
     ]
    }
   ],
   "source": [
    "print(opt['train']['which_iter'])\n",
    "\n",
    "a = environ.load_checkpoint('warmup_ep_40_seed_0088', path = '../experiments/AdaSparseChem/50x6_0304_1549_plr0.01_sp0.0001_sh0.01/')"
   ]
  },
  {
   "cell_type": "code",
   "execution_count": null,
   "id": "d33b80c4",
   "metadata": {
    "hidden": true
   },
   "outputs": [],
   "source": []
  },
  {
   "cell_type": "code",
   "execution_count": null,
   "id": "964c4940",
   "metadata": {
    "hidden": true
   },
   "outputs": [],
   "source": []
  },
  {
   "cell_type": "code",
   "execution_count": 11,
   "id": "59658666",
   "metadata": {
    "ExecuteTime": {
     "end_time": "2022-03-05T01:26:20.643981Z",
     "start_time": "2022-03-05T01:26:20.489740Z"
    },
    "execution": {
     "iopub.execute_input": "2022-01-07T22:44:27.458746Z",
     "iopub.status.busy": "2022-01-07T22:44:27.457640Z",
     "iopub.status.idle": "2022-01-07T22:44:27.491358Z",
     "shell.execute_reply": "2022-01-07T22:44:27.490019Z",
     "shell.execute_reply.started": "2022-01-07T22:44:27.458686Z"
    },
    "hidden": true
   },
   "outputs": [
    {
     "name": "stdout",
     "output_type": "stream",
     "text": [
      "##################################################\n",
      "################ Resume training #################\n",
      "##################################################\n",
      "=> loading snapshot from ../experiments/AdaSparseChem/50x6_0304_1549_plr0.01_sp0.0001_sh0.01/warmup_ep_40_seed_0088_model.pth.tar\n",
      "   Loading to GPU cuda:0\n"
     ]
    }
   ],
   "source": [
    "opt['train']['resume'] = True\n",
    "opt['train']['which_iter'] = 'warmup_ep_40_seed_0088'\n",
    "if opt['train']['resume']:\n",
    "    print_separator('Resume training')\n",
    "    current_iter = environ.load_checkpoint(opt['train']['which_iter'])\n",
    "    environ.networks['mtl-net'].reset_logits()\n",
    "else:\n",
    "    print_separator('Initiate Training ')"
   ]
  },
  {
   "cell_type": "markdown",
   "id": "375c47be",
   "metadata": {
    "heading_collapsed": true,
    "hidden": true
   },
   "source": [
    "###  Load Saved Checkpoint"
   ]
  },
  {
   "cell_type": "code",
   "execution_count": 13,
   "id": "6e3afa36",
   "metadata": {
    "ExecuteTime": {
     "end_time": "2022-02-22T02:08:16.459662Z",
     "start_time": "2022-02-22T02:08:16.375456Z"
    },
    "hidden": true,
    "scrolled": true
   },
   "outputs": [
    {
     "name": "stdout",
     "output_type": "stream",
     "text": [
      "=> loading snapshot from ../experiments/AdaSparseChem/50x6_0218_1358_plr0.01_sp0.01_sh1.0/latest_weights_policy_model.pth.tar\n",
      "Loading to CPU\n",
      "  networks -  network:  mtl-net\n",
      "  load snapshot - network:  mtl-net\n",
      "    network mtl-net - item task1_logits\n",
      "    network mtl-net - item task2_logits\n",
      "    network mtl-net - item task3_logits\n",
      "    network mtl-net - item backbone.Input_linear.weight\n",
      "    network mtl-net - item backbone.Input_linear.bias\n",
      "    network mtl-net - item backbone.blocks.0.0.linear.weight\n",
      "    network mtl-net - item backbone.blocks.0.0.linear.bias\n",
      "    network mtl-net - item backbone.blocks.1.0.linear.weight\n",
      "    network mtl-net - item backbone.blocks.1.0.linear.bias\n",
      "    network mtl-net - item backbone.blocks.2.0.linear.weight\n",
      "    network mtl-net - item backbone.blocks.2.0.linear.bias\n",
      "    network mtl-net - item backbone.blocks.3.0.linear.weight\n",
      "    network mtl-net - item backbone.blocks.3.0.linear.bias\n",
      "    network mtl-net - item backbone.blocks.4.0.linear.weight\n",
      "    network mtl-net - item backbone.blocks.4.0.linear.bias\n",
      "    network mtl-net - item backbone.blocks.5.0.linear.weight\n",
      "    network mtl-net - item backbone.blocks.5.0.linear.bias\n",
      "    network mtl-net - item task1_fc1_c0.linear.weight\n",
      "    network mtl-net - item task1_fc1_c0.linear.bias\n",
      "    network mtl-net - item task2_fc1_c0.linear.weight\n",
      "    network mtl-net - item task2_fc1_c0.linear.bias\n",
      "    network mtl-net - item task3_fc1_c0.linear.weight\n",
      "    network mtl-net - item task3_fc1_c0.linear.bias\n",
      "  optimizers - optimizer:  weights\n",
      "    load snapshot - optimizer: weights \n",
      "  optimizers - optimizer:  alphas\n",
      "    load snapshot - optimizer: alphas \n",
      "Evaluating the snapshot saved at 53357 iter\n"
     ]
    }
   ],
   "source": [
    "current_iter = environ.load_checkpoint('latest_weights_policy')\n",
    "\n",
    "print('Evaluating the snapshot saved at %d iter' % current_iter)"
   ]
  },
  {
   "cell_type": "code",
   "execution_count": 15,
   "id": "edc4986c",
   "metadata": {
    "ExecuteTime": {
     "end_time": "2022-02-22T02:09:38.511718Z",
     "start_time": "2022-02-22T02:09:38.458685Z"
    },
    "hidden": true
   },
   "outputs": [],
   "source": [
    "current_epoch  = 262"
   ]
  },
  {
   "cell_type": "markdown",
   "id": "53b0efe7",
   "metadata": {
    "heading_collapsed": true
   },
   "source": [
    "## Training Preparation"
   ]
  },
  {
   "cell_type": "markdown",
   "id": "f58454ce",
   "metadata": {
    "hidden": true
   },
   "source": [
    "### Training Preparation"
   ]
  },
  {
   "cell_type": "code",
   "execution_count": 16,
   "id": "c55d66e6",
   "metadata": {
    "ExecuteTime": {
     "end_time": "2022-02-22T02:09:41.503845Z",
     "start_time": "2022-02-22T02:09:41.438069Z"
    },
    "hidden": true
   },
   "outputs": [
    {
     "name": "stdout",
     "output_type": "stream",
     "text": [
      " cuda available [0]\n",
      " set eval_iters to length of val loader  : 36\n"
     ]
    }
   ],
   "source": [
    "# if opt['train']['resume']:\n",
    "#     print_separator('Resume training')\n",
    "#     current_iter = environ.load(opt['train']['which_iter'])\n",
    "#     environ.networks['mtl-net'].reset_logits()\n",
    "# else:\n",
    "#     print_separator('Initiate Training ')\n",
    "\n",
    "if torch.cuda.is_available():\n",
    "    print(' cuda available', gpu_ids)   \n",
    "    environ.cuda(gpu_ids)\n",
    "else:\n",
    "    print(' cuda not available')\n",
    "    environ.cpu()\n",
    "\n",
    "if opt['train']['print_freq'] == -1:\n",
    "    print(f\" set print_freq to length of train loader: {len(warmup_trn_loader)}\")\n",
    "    opt['train']['print_freq']    = len(warmup_trn_loader)\n",
    "\n",
    "if opt['train']['val_iters'] == -1:\n",
    "    print(f\" set eval_iters to length of val loader  : {len(val_loader)}\")\n",
    "    eval_iters    = len(val_loader)    \n",
    "else:\n",
    "    eval_iters    = opt['train']['val_iters']\n",
    "\n",
    "\n",
    "# opt['train']['weight_iter_alternate'] = len(warmup_trn_loader)\n",
    "# opt['train']['alpha_iter_alternate']  = len(warmup_trn_loader)\n",
    "stop_iter_w = opt['train']['weight_iter_alternate']\n",
    "stop_iter_a = opt['train']['alpha_iter_alternate'] \n",
    "    \n",
    "# Fix Alpha -     \n",
    "flag           = 'update_w'\n",
    "environ.fix_alpha()\n",
    "environ.free_weights(opt['fix_BN'])\n",
    "\n",
    " \n",
    "# current_iter_w = 0 \n",
    "# current_iter_a = 0\n",
    "# best_value     = 0 \n",
    "# best_iter      = 0\n",
    "p_epoch        = 0\n",
    "w_epoch        = 0\n",
    "\n",
    "# best_metrics   = None\n",
    "# flag_warmup    = True\n",
    "num_prints     = 0\n",
    "num_blocks     = sum(environ.networks['mtl-net'].layers)\n",
    "\n",
    "warm_up_epochs     = opt['train']['warm_up_epochs']\n",
    "train_total_epochs = opt['train']['training_epochs']\n",
    "curriculum_speed   = opt['curriculum_speed'] \n",
    "\n",
    "stop_epoch_warmup  = current_epoch + warm_up_epochs"
   ]
  },
  {
   "cell_type": "code",
   "execution_count": 17,
   "id": "3e886105",
   "metadata": {
    "ExecuteTime": {
     "end_time": "2022-02-22T02:09:44.036512Z",
     "start_time": "2022-02-22T02:09:43.972893Z"
    },
    "hidden": true,
    "scrolled": true
   },
   "outputs": [
    {
     "name": "stdout",
     "output_type": "stream",
     "text": [
      " opt['train']['weight_iter_alternate']   108\n",
      " opt['train']['alpha_iter_alternate']    108\n"
     ]
    }
   ],
   "source": [
    "print(f\" opt['train']['weight_iter_alternate']   {opt['train']['weight_iter_alternate']}\")\n",
    "print(f\" opt['train']['alpha_iter_alternate']    {opt['train']['alpha_iter_alternate']}\")"
   ]
  },
  {
   "cell_type": "code",
   "execution_count": 18,
   "id": "b0b28587",
   "metadata": {
    "ExecuteTime": {
     "end_time": "2022-02-22T02:09:50.066684Z",
     "start_time": "2022-02-22T02:09:50.003139Z"
    },
    "execution": {
     "iopub.execute_input": "2022-01-07T22:44:13.145647Z",
     "iopub.status.busy": "2022-01-07T22:44:13.145313Z",
     "iopub.status.idle": "2022-01-07T22:44:13.193262Z",
     "shell.execute_reply": "2022-01-07T22:44:13.192140Z",
     "shell.execute_reply.started": "2022-01-07T22:44:13.145622Z"
    },
    "hidden": true
   },
   "outputs": [
    {
     "name": "stdout",
     "output_type": "stream",
     "text": [
      "\n",
      " trainset.y_class                       :  [(13791, 5), (13791, 5), (13791, 5)] \n",
      " trainset1.y_class                      :  [(18, 5), (18, 5), (18, 5)] \n",
      " trainset2.y_class                      :  [(18, 5), (18, 5), (18, 5)] \n",
      " valset.y_class                         :  [(4561, 5), (4561, 5), (4561, 5)]  \n",
      "                                 \n",
      " size of training set 0 (warm up)       :  13791 \n",
      " size of training set 1 (network parms) :  18 \n",
      " size of training set 2 (policy weights):  18 \n",
      " size of validation set                 :  4561 \n",
      "                               Total    :  18388 \n",
      "                                 \n",
      " batch size                             :  128 \n",
      "                                 \n",
      " # batches training 0 (warm up)         :  108 \n",
      " # batches training 1 (network parms)   :  108 \n",
      " # batches training 2 (policy weights)  :  108 \n",
      " # batches validation dataset           :  36 \n",
      "                                 \n",
      " Weight iter alternate                  : 108 \n",
      " Alpha  iter alternate                  : 108\n"
     ]
    }
   ],
   "source": [
    "print(f\"\\n trainset.y_class                       :  {[ i.shape  for i in trainset.y_class_list]}\",\n",
    "      f\"\\n trainset1.y_class                      :  {[ i.shape  for i in trainset1.y_class_list]}\",\n",
    "      f\"\\n trainset2.y_class                      :  {[ i.shape  for i in trainset2.y_class_list]}\",\n",
    "      f\"\\n valset.y_class                         :  {[ i.shape  for i in valset.y_class_list  ]} \",\n",
    "      f\"\\n                                \",\n",
    "      f'\\n size of training set 0 (warm up)       :  {len(trainset)}',\n",
    "      f'\\n size of training set 1 (network parms) :  {len(trainset1)}',\n",
    "      f'\\n size of training set 2 (policy weights):  {len(trainset2)}',\n",
    "      f'\\n size of validation set                 :  {len(valset)}',\n",
    "      f'\\n                               Total    :  {len(trainset)+len(trainset1)+len(trainset2)+len(valset)}',\n",
    "      f\"\\n                                \",\n",
    "      f\"\\n batch size                             :  {opt['train']['batch_size']}\",\n",
    "      f\"\\n                                \",\n",
    "      f\"\\n # batches training 0 (warm up)         :  {len(warmup_trn_loader)}\",\n",
    "      f\"\\n # batches training 1 (network parms)   :  {len(weight_trn_loader)}\",\n",
    "      f\"\\n # batches training 2 (policy weights)  :  {len(policy_trn_loader)}\",\n",
    "      f\"\\n # batches validation dataset           :  {len(val_loader)}\",\n",
    "      f\"\\n                                \",\n",
    "      f\"\\n Weight iter alternate                  :  {opt['train']['weight_iter_alternate'] }\",\n",
    "      f\"\\n Alpha  iter alternate                  :  {opt['train']['alpha_iter_alternate'] }\")"
   ]
  },
  {
   "cell_type": "code",
   "execution_count": null,
   "id": "acf8e948",
   "metadata": {
    "hidden": true
   },
   "outputs": [],
   "source": []
  },
  {
   "cell_type": "code",
   "execution_count": 19,
   "id": "cfc0d0c9",
   "metadata": {
    "ExecuteTime": {
     "end_time": "2022-02-22T02:10:06.119623Z",
     "start_time": "2022-02-22T02:10:06.044434Z"
    },
    "execution": {
     "iopub.execute_input": "2022-01-07T22:44:13.145647Z",
     "iopub.status.busy": "2022-01-07T22:44:13.145313Z",
     "iopub.status.idle": "2022-01-07T22:44:13.193262Z",
     "shell.execute_reply": "2022-01-07T22:44:13.192140Z",
     "shell.execute_reply.started": "2022-01-07T22:44:13.145622Z"
    },
    "hidden": true,
    "scrolled": false
   },
   "outputs": [
    {
     "name": "stdout",
     "output_type": "stream",
     "text": [
      "\n",
      " experiment name           : SparseChem \n",
      " experiment description    : No Alternating Weight/Policy - training all done with both weights and policy                                 \n",
      "\n",
      " Network[mtl_net].layers   : [1, 1, 1, 1, 1, 1] \n",
      " Num_blocks                : 6                                \n",
      "\n",
      " batch size                : 128 \n",
      " Total iterations          : 25000 \n",
      " Warm-up iterations        : None \n",
      " Warm-up epochs            : 1 \n",
      " Warm-up stop              : 263 \n",
      " train_total_epochs        : 50                                 \n",
      "\n",
      " Print Frequency           : 108 \n",
      " Validation Frequency      : 500 \n",
      " Validation Iterations     : -1 \n",
      " eval_iters                : 36 \n",
      " which_iter                : warmup \n",
      " train_resume              : False                                 \n",
      " \n",
      " Length warmup_trn_loader  : 108 \n",
      " Length val_loader         : 36 \n",
      " stop_iter_w               : 108                                 \n",
      " \n",
      " fix BN parms              : False \n",
      " Backbone LR               : 0.001 \n",
      " Backbone LR               : 0.001                                 \n",
      "\n",
      " Sharing  regularization   : 1.0 \n",
      " Sparsity regularization   : 0.01 \n",
      " Task     regularization   : 1 \n",
      " Last Epoch                : 262  \n",
      " # of warm-up epochs to do : 1\n"
     ]
    }
   ],
   "source": [
    "print(f\"\\n experiment name           : {opt['exp_name']}\",\n",
    "      f\"\\n experiment description    : {opt['exp_description']}\",\n",
    "      f\"                                \\n\"\n",
    "      f\"\\n Network[mtl_net].layers   : {environ.networks['mtl-net'].layers}\",\n",
    "      f\"\\n Num_blocks                : {sum(environ.networks['mtl-net'].layers)}\"    \n",
    "      f\"                                \\n\"\n",
    "      f\"\\n batch size                : {opt['train']['batch_size']}\",    \n",
    "      f\"\\n Total iterations          : {opt['train']['total_iters']}\",\n",
    "      f\"\\n Warm-up iterations        : {opt['train']['warm_up_iters']}\",\n",
    "      f\"\\n Warm-up epochs            : {opt['train']['warm_up_epochs']}\",\n",
    "      f\"\\n Warm-up stop              : {stop_epoch_warmup}\",\n",
    "      f\"\\n train_total_epochs        : {train_total_epochs}\",\n",
    "      f\"                                \\n\"\n",
    "      f\"\\n Print Frequency           : {opt['train']['print_freq']}\",\n",
    "      f\"\\n Validation Frequency      : {opt['train']['val_freq']}\",\n",
    "      f\"\\n Validation Iterations     : {opt['train']['val_iters']}\",\n",
    "      f\"\\n eval_iters                : {eval_iters}\",\n",
    "      f\"\\n which_iter                : {opt['train']['which_iter']}\",\n",
    "      f\"\\n train_resume              : {opt['train']['resume']}\",\n",
    "      f\"                                \\n\",                     \n",
    "      f\"\\n Length warmup_trn_loader  : {len(warmup_trn_loader)}\",\n",
    "      f\"\\n Length val_loader         : {len(val_loader)}\",\n",
    "      f\"\\n stop_iter_w               : {stop_iter_w}\",\n",
    "      f\"                                \\n\",\n",
    "      f\"\\n fix BN parms              : {opt['fix_BN']}\",    \n",
    "      f\"\\n Backbone LR               : {opt['train']['backbone_lr']}\",\n",
    "      f\"\\n Backbone LR               : {opt['train']['task_lr']   }\",     \n",
    "      f\"                                \\n\"\n",
    "      f\"\\n Sharing  regularization   : {opt['train']['lambda_sharing']}\",    \n",
    "      f\"\\n Sparsity regularization   : {opt['train']['lambda_sparsity']}\",  \n",
    "      f\"\\n Task     regularization   : {opt['train']['lambda_tasks']}\",\n",
    "      f\"\\n Last Epoch                : {current_epoch} \",\n",
    "      f\"\\n # of warm-up epochs to do : {warm_up_epochs}\")"
   ]
  },
  {
   "cell_type": "code",
   "execution_count": null,
   "id": "708744dc",
   "metadata": {
    "hidden": true
   },
   "outputs": [],
   "source": []
  },
  {
   "cell_type": "code",
   "execution_count": 20,
   "id": "c01dd8af",
   "metadata": {
    "ExecuteTime": {
     "end_time": "2022-02-22T02:10:19.884991Z",
     "start_time": "2022-02-22T02:10:19.815883Z"
    },
    "execution": {
     "iopub.execute_input": "2022-01-07T22:44:18.146907Z",
     "iopub.status.busy": "2022-01-07T22:44:18.145721Z",
     "iopub.status.idle": "2022-01-07T22:44:18.191126Z",
     "shell.execute_reply": "2022-01-07T22:44:18.189994Z",
     "shell.execute_reply.started": "2022-01-07T22:44:18.146867Z"
    },
    "hidden": true,
    "scrolled": false
   },
   "outputs": [
    {
     "name": "stdout",
     "output_type": "stream",
     "text": [
      "\n",
      " folder: 50x6_0218_1358_plr0.01_sp0.01_sh1.0 \n",
      " layers: [50, 50, 50, 50, 50, 50]                                \n",
      " \n",
      " diff_sparsity_weights  : False \n",
      " skip_layer             : 0 \n",
      " is_curriculum          : False \n",
      " curriculum_speed       : 1                               \n",
      " \n",
      " decay_lr_rate          : 0.85 \n",
      " decay_lr_freq          : 2000 \n",
      " policy_decay_lr_rate   : 0.85 \n",
      " policy_decay_lr_freq   : 2200                               \n",
      " \n",
      " policy_lr              : 0.01 \n",
      " lambda_sparsity        : 0.01 \n",
      " lambda_sharing         : 1.0                               \n",
      " \n",
      " lambda_tasks           : 1 \n",
      " init_temp              : 4 \n",
      " decay_temp             : 0.965 \n",
      " decay_temp_freq        : 2 \n",
      " init_method            : random \n",
      " init_neg_logits        : None \n",
      " hard_sampling          : True \n",
      " Warm-up epochs         : 1 \n",
      " training epochs        : 50\n"
     ]
    }
   ],
   "source": [
    "print(f\"\\n folder: {opt['exp_folder']}\",\n",
    "      f\"\\n layers: {opt['hidden_sizes']}\",    \n",
    "      f\"                               \\n\",\n",
    "      f\"\\n diff_sparsity_weights  : {opt['diff_sparsity_weights']}\",\n",
    "      f\"\\n skip_layer             : {opt['skip_layer']}\",\n",
    "      f\"\\n is_curriculum          : {opt['is_curriculum']}\",\n",
    "      f\"\\n curriculum_speed       : {opt['curriculum_speed']}\",\n",
    "      f\"                              \\n\",    \n",
    "      f\"\\n decay_lr_rate          : {opt['train']['decay_lr_rate']}\",      \n",
    "      f\"\\n decay_lr_freq          : {opt['train']['decay_lr_freq']}\",     \n",
    "      f\"\\n policy_decay_lr_rate   : {opt['train']['policy_decay_lr_rate']}\",      \n",
    "      f\"\\n policy_decay_lr_freq   : {opt['train']['policy_decay_lr_freq']}\", \n",
    "      f\"                              \\n\",    \n",
    "      f\"\\n policy_lr              : {opt['train']['policy_lr']}\", \n",
    "      f\"\\n lambda_sparsity        : {opt['train']['lambda_sparsity']}\",      \n",
    "      f\"\\n lambda_sharing         : {opt['train']['lambda_sharing']}\", \n",
    "      f\"                              \\n\",    \n",
    "      f\"\\n lambda_tasks           : {opt['train']['lambda_tasks']}\",  \n",
    "      f\"\\n init_temp              : {opt['train']['init_temp']}\",\n",
    "      f\"\\n decay_temp             : {opt['train']['decay_temp']}\",    \n",
    "      f\"\\n decay_temp_freq        : {opt['train']['decay_temp_freq']}\",   \n",
    "      f\"\\n init_method            : {opt['train']['init_method']}\", \n",
    "      f\"\\n init_neg_logits        : {opt['train']['init_neg_logits']}\",    \n",
    "      f\"\\n hard_sampling          : {opt['train']['hard_sampling']}\",\n",
    "      f\"\\n Warm-up epochs         : {opt['train']['warm_up_epochs']}\",\n",
    "      f\"\\n training epochs        : {opt['train']['training_epochs']}\")"
   ]
  },
  {
   "cell_type": "markdown",
   "id": "948a82fb",
   "metadata": {},
   "source": [
    "## Resume Weight/Policy Training"
   ]
  },
  {
   "cell_type": "markdown",
   "id": "e0a9ae42",
   "metadata": {},
   "source": [
    "### Training Preparation"
   ]
  },
  {
   "cell_type": "code",
   "execution_count": 21,
   "id": "d052a46e",
   "metadata": {
    "ExecuteTime": {
     "end_time": "2022-02-22T02:10:29.670306Z",
     "start_time": "2022-02-22T02:10:29.604818Z"
    }
   },
   "outputs": [
    {
     "name": "stdout",
     "output_type": "stream",
     "text": [
      "------------------------------------------------------------------------------------------------------------------------\n",
      "** 2022-02-21 18:10:29:638057 - Training iteration 53357   flag: update_w \n",
      "** Set optimizer and scheduler to policy_learning = True (Switch weight optimizer from ADAM to SGD)\n",
      "** Switch from Warm Up training to Alternate training Weights & Policy \n",
      "** Take checkpoint and block gradient flow through Policy net\n",
      "------------------------------------------------------------------------------------------------------------------------ \n",
      "\n"
     ]
    }
   ],
   "source": [
    "print_heading( f\"** {timestring()} - Training iteration {current_iter}   flag: {flag} \\n\"\n",
    "               f\"** Set optimizer and scheduler to policy_learning = True (Switch weight optimizer from ADAM to SGD)\\n\"\n",
    "               f\"** Switch from Warm Up training to Alternate training Weights & Policy \\n\"\n",
    "               f\"** Take checkpoint and block gradient flow through Policy net\", verbose=True)\n",
    "\n",
    "environ.define_optimizer(policy_learning=True)\n",
    "environ.define_scheduler(policy_learning=True)\n",
    "\n",
    "flag_warmup = False\n",
    "flag = 'update_w'\n",
    "environ.fix_alpha()\n",
    "environ.free_weights(opt['fix_BN'])\n",
    "    \n",
    "leave      = False\n",
    "verbose    = False    "
   ]
  },
  {
   "cell_type": "markdown",
   "id": "8439e4d4",
   "metadata": {},
   "source": [
    "### Resume Training"
   ]
  },
  {
   "cell_type": "code",
   "execution_count": 15,
   "id": "ff2f09d2",
   "metadata": {
    "ExecuteTime": {
     "end_time": "2022-02-22T02:09:38.511718Z",
     "start_time": "2022-02-22T02:09:38.458685Z"
    }
   },
   "outputs": [],
   "source": [
    "current_epoch  = 262"
   ]
  },
  {
   "cell_type": "code",
   "execution_count": 43,
   "id": "d2de065a",
   "metadata": {
    "ExecuteTime": {
     "end_time": "2022-02-22T10:22:28.831615Z",
     "start_time": "2022-02-22T10:22:28.764633Z"
    }
   },
   "outputs": [
    {
     "name": "stdout",
     "output_type": "stream",
     "text": [
      "current_epoch          : 302\n",
      "current_iters          : 61997\n",
      "train_total_epochs     : 10\n",
      "stop_epoch_training    : 312\n"
     ]
    }
   ],
   "source": [
    "train_total_epochs = 10\n",
    "stop_epoch_training = current_epoch +train_total_epochs\n",
    "\n",
    "\n",
    "print(f\"current_epoch          : {current_epoch}\") \n",
    "print(f\"current_iters          : {current_iter}\")  \n",
    "print(f\"train_total_epochs     : {train_total_epochs}\") \n",
    "print(f\"stop_epoch_training    : {stop_epoch_training}\")\n",
    "print(f\"Batches in weight epoch (stop_iter_w): {stop_iter_w}\")\n",
    "print(f\"Batches in policy epoch (stop_iter_a): {stop_iter_a}\")\n",
    "print()"
   ]
  },
  {
   "cell_type": "code",
   "execution_count": null,
   "id": "109d0293",
   "metadata": {
    "ExecuteTime": {
     "end_time": "2022-02-22T10:34:08.537408Z",
     "start_time": "2022-02-22T10:22:29.538587Z"
    }
   },
   "outputs": [],
   "source": [
    "# print_loss(environ.val_metrics, title = f\"[e] Last epoch:{current_epoch}  it:{current_iter}\")\n",
    "\n",
    "environ.display_trained_policy(current_epoch,out=[sys.stdout, environ.log_file])\n",
    "# environ.display_trained_logits(current_epoch)"
   ]
  },
  {
   "cell_type": "code",
   "execution_count": null,
   "id": "7f8b65f3",
   "metadata": {
    "ExecuteTime": {
     "end_time": "2022-02-22T10:34:08.537408Z",
     "start_time": "2022-02-22T10:22:29.538587Z"
    }
   },
   "outputs": [],
   "source": [
    "print_heading(f\" Last Epoch Completed: {current_epoch}   # of epochs to do:  {train_total_epochs} -  epochs {current_epoch+1} to {stop_epoch_training}\"\n",
    "              f\"\\n policy_lr           : {opt['train']['policy_lr']}\"\n",
    "              f\"\\n lambda_sparsity     : {opt['train']['lambda_sparsity']}\"\n",
    "              f\"\\n lambda_sharing      : {opt['train']['lambda_sharing']}\", verbose = True)\n",
    "\n",
    "line_count = 0"
   ]
  },
  {
   "cell_type": "code",
   "execution_count": null,
   "id": "17d84c0f",
   "metadata": {
    "ExecuteTime": {
     "end_time": "2022-02-22T10:34:08.537408Z",
     "start_time": "2022-02-22T10:22:29.538587Z"
    }
   },
   "outputs": [],
   "source": [
    "while current_epoch < stop_epoch_training:\n",
    "    current_epoch+=1\n",
    "    #-----------------------------------------------------------------------------------------------------------\n",
    "    # Set number of layers to train based on cirriculum_speed and p_epoch (number of epochs of policy training)\n",
    "    # e.g., When curriculum_speed == 3, num_train_layers is incremented  after every 3 policy training epochs\n",
    "    #-----------------------------------------------------------------------------------------------------------\n",
    "    num_train_layers = (p_epoch // opt['curriculum_speed']) + 1  if opt['is_curriculum'] else None\n",
    "\n",
    "    #-----------------------------------------\n",
    "    # Train & Update the network weights\n",
    "    #-----------------------------------------\n",
    "    if flag == 'update_w':\n",
    "        start_time = time.time()\n",
    "\n",
    "        with trange(+1, stop_iter_w+1 , initial = 0, total = stop_iter_w, position=0,\n",
    "                     leave= leave, desc=f\"Epoch {current_epoch} weight training\") as t_weights :\n",
    "            \n",
    "            for current_iter_w in t_weights:    \n",
    "                current_iter += 1\n",
    "                environ.train()\n",
    "                batch = next(weight_trn_loader)\n",
    "                environ.set_inputs(batch, weight_trn_loader.dataset.input_size)\n",
    " \n",
    "                environ.optimize(opt['lambdas'], \n",
    "                                 is_policy=opt['policy'], \n",
    "                                 flag=flag, \n",
    "                                 num_train_layers=num_train_layers,\n",
    "                                 hard_sampling=opt['train']['hard_sampling'],\n",
    "                                 verbose = False)\n",
    "\n",
    "                t_weights.set_postfix({'it' : current_iter, \n",
    "                                       'Lss': f\"{environ.losses['losses']['total'].item():.4f}\" , \n",
    "                                       'Spr': f\"{environ.losses['sparsity']['total'].item():.4e}\",  \n",
    "                                       'Shr': f\"{environ.losses['sharing']['total'].item():.4e}\"})  \n",
    "\n",
    "        trn_losses = environ.losses\n",
    "        environ.print_trn_metrics(current_epoch, current_iter, start_time, title = f\"[Weight Trn]\", to_display = False)\n",
    "        wandb.log(environ.losses)\n",
    "        \n",
    "        \n",
    "        #--------------------------------------------------------------------\n",
    "        # validation process (here current_iter_w and stop_iter_w are equal)\n",
    "        #--------------------------------------------------------------------\n",
    "        val_metrics = environ.evaluate(val_loader,  \n",
    "                                       is_policy=opt['policy'],\n",
    "                                       policy_sampling = 'eval',\n",
    "                                       num_train_layers=num_train_layers, \n",
    "                                       hard_sampling=opt['train']['hard_sampling'],\n",
    "                                       eval_iters = eval_iters, progress = True, leave = leave, verbose = False)  \n",
    "\n",
    "        environ.print_val_metrics(current_epoch, current_iter, start_time, title = f\"[Weight Val]\", verbose = False)\n",
    "        print_metrics_cr(current_epoch, time.time() - start_time, trn_losses, environ.val_metrics, line_count, out=[sys.stdout, environ.log_file]) \n",
    "        line_count +=1\n",
    "\n",
    "        #------------------------------------------------------------------------ \n",
    "        #  Save Best Checkpoint Code (saved below and in sparsechem_env_dev.py)\n",
    "        #----------------------------------------------------------------------- \n",
    "        # Take check point:     environ.save_checkpoint('latest_weights', current_iter)\n",
    "        #-----------------------------------------------------------------------\n",
    "        # END validation process \n",
    "        #-----------------------------------------------------------------------\n",
    "        flag = 'update_alpha'\n",
    "        environ.fix_weights()\n",
    "        environ.free_alpha()\n",
    "        \n",
    "#         environ.display_trained_policy(current_epoch,out=[sys.stdout, environ.log_file])\n",
    "#         environ.display_trained_logits(current_epoch)\n",
    "        \n",
    "#-----------------------------------------\n",
    "# Policy Training  \n",
    "#-----------------------------------------\n",
    "    if flag == 'update_alpha':\n",
    "        start_time = time.time()        \n",
    "\n",
    "        with trange( +1, stop_iter_a+1 , initial = 0, total = stop_iter_a,  position=0,\n",
    "                     leave= leave, desc=f\"Epoch {current_epoch} policy training\") as t_policy :\n",
    "            for current_iter_a in t_policy:    \n",
    "                current_iter += 1\n",
    "                batch = next(policy_trn_loader)\n",
    "\n",
    "                environ.set_inputs(batch, policy_trn_loader.dataset.input_size)\n",
    "\n",
    "                environ.optimize(opt['lambdas'], is_policy=opt['policy'], \n",
    "                                 flag=flag, num_train_layers=num_train_layers,\n",
    "                                 hard_sampling=opt['train']['hard_sampling'], verbose = False)\n",
    "                \n",
    "                t_policy.set_postfix({'it' : current_iter,\n",
    "                                      'Lss': f\"{environ.losses['losses']['total'].item():.4f}\",\n",
    "                                      'Spr': f\"{environ.losses['sparsity']['total'].item():.4e}\",\n",
    "                                      'Shr': f\"{environ.losses['sharing']['total'].item():.4e}\"})\n",
    "#                                       ,'lyrs': f\"{num_train_layers}\"})    \n",
    "#                                       ,'row_ids':f\"{batch['row_id'][0]}-{batch['row_id'][-1]}\"})\n",
    "#                 if current_iter % 100 == 0 :\n",
    "#                     wandb.log(environ.losses)\n",
    "\n",
    "        # print loss results (here current_iter_w and stop_iter_w are equal)\n",
    "        trn_losses = environ.losses\n",
    "        environ.print_trn_metrics(current_epoch, current_iter, start_time, title = f\"[Policy Trn]\")\n",
    "        wandb.log(environ.losses)\n",
    "        \n",
    "        #--------------------------------------------------------------------\n",
    "        # validation process (here current_iter_a and stop_iter_a are equal)\n",
    "        #--------------------------------------------------------------------        \n",
    "        val_metrics = environ.evaluate(val_loader, \n",
    "                                       is_policy=opt['policy'],\n",
    "                                       policy_sampling = 'eval',\n",
    "                                       num_train_layers=num_train_layers, \n",
    "                                       hard_sampling=opt['train']['hard_sampling'],\n",
    "                                       eval_iters = eval_iters, progress = True, leave = False, verbose = False)  \n",
    "\n",
    "        environ.print_val_metrics(current_epoch, current_iter, start_time, title = f\"[Policy Val]\", verbose = False)\n",
    "        print_metrics_cr(current_epoch, time.time() - start_time, trn_losses, environ.val_metrics, line_count, out=[sys.stdout, environ.log_file])      \n",
    "        line_count +=1\n",
    "        #-----------------------------------------------------------------------\n",
    "        # END validation process \n",
    "        #-----------------------------------------------------------------------        \n",
    "        \n",
    "        p_epoch += 1        \n",
    "        if should(p_epoch, opt['train']['decay_temp_freq']):\n",
    "            environ.decay_temperature()\n",
    "            print(f\" decay gumbel softmax to {environ.gumbel_temperature}\")\n",
    "        \n",
    "        flag = 'update_w'\n",
    "        environ.fix_alpha()\n",
    "        environ.free_weights(opt['fix_BN'])\n",
    "        \n",
    "        environ.display_trained_policy(current_epoch,out=[sys.stdout, environ.log_file])\n",
    "#         environ.display_trained_logits(current_epoch)        \n",
    "#         print_loss(current_epoc, current_iter, environ.val_metrics, title = f\"[Policy trn]  ep:{current_epoch}   it:{current_iter}\")\n",
    "    \n",
    "    #-----------------------------------------\n",
    "    # End Policy Training  \n",
    "    #----------------------------------------- \n",
    "    if should(current_epoch, 5):\n",
    "        environ.save_checkpoint('model_latest_weights_policy', current_iter)        \n",
    "        print_loss(environ.val_metrics, title = f\"\\n[e] Policy training epoch:{current_epoch}  it:{current_iter}\")\n",
    "        environ.display_trained_policy(current_epoch,out=[sys.stdout, environ.log_file])\n",
    "        environ.log_file.flush()\n",
    "        line_count = 0"
   ]
  },
  {
   "cell_type": "code",
   "execution_count": 44,
   "id": "fb837412",
   "metadata": {
    "ExecuteTime": {
     "end_time": "2022-02-22T10:34:08.537408Z",
     "start_time": "2022-02-22T10:22:29.538587Z"
    },
    "scrolled": true
   },
   "outputs": [
    {
     "name": "stdout",
     "output_type": "stream",
     "text": [
      "\n",
      " epch: 302   softmax       sel        softmax        sel        softmax        sel \n",
      " -----  -----------------  ---    -----------------  ---    -----------------  --- \n",
      "   1    0.7059     0.2941   1     0.6700     0.3300   1     0.7576     0.2424   1\n",
      "   2    0.9023     0.0977   1     0.9229     0.0771   1     0.9109     0.0891   1\n",
      "   3    0.9175     0.0825   1     0.9436     0.0564   1     0.9395     0.0605   1\n",
      "   4    0.7662     0.2338   1     0.8105     0.1895   1     0.7340     0.2660   1\n",
      "   5    0.6771     0.3229   1     0.9040     0.0960   1     0.8325     0.1675   1\n",
      "   6    0.4055     0.5945   0     0.3965     0.6035   0     0.6284     0.3716   1\n",
      "\n",
      "\n",
      "------------------------------------------------------------------------------------------------------------------------\n",
      " Last Epoch Completed: 302   # of epochs to do:  10 -  epochs 303 to 312\n",
      " policy_lr           : 0.01\n",
      " lambda_sparsity     : 0.1\n",
      " lambda_sharing      : 0.001\n",
      "------------------------------------------------------------------------------------------------------------------------ \n",
      "\n"
     ]
    },
    {
     "name": "stderr",
     "output_type": "stream",
     "text": [
      "                                                                                                                        \r"
     ]
    },
    {
     "name": "stdout",
     "output_type": "stream",
     "text": [
      "Epoch | BckBone LR   Heads LR  Policy LR Gumbl Temp |  trn loss     trn spar     trn shar trn total |   logloss   bceloss    aucroc     aucpr |  val loss     val spar     val shar  val total |  time |\n",
      "  303 |   5.22e-04   5.22e-04   6.14e-03  1.056e-01 |    1.0073   5.1581e+00   3.3268e-02    6.1987 |   0.00017   0.77321   0.80570   0.80939 |   11.5919   5.1581e+00   3.3268e-02    16.7833 |  30.8 |\n"
     ]
    },
    {
     "name": "stderr",
     "output_type": "stream",
     "text": [
      "                                                                                                                        \r"
     ]
    },
    {
     "name": "stdout",
     "output_type": "stream",
     "text": [
      "  303 |   5.22e-04   5.22e-04   5.22e-03  1.056e-01 |    1.0719   4.3419e+00   5.1179e-02    5.4650 |   0.00017   0.77025   0.80573   0.80949 |   11.5467   4.3372e+00   5.1426e-02    15.9353 |  37.7 |\n",
      "\n",
      " epch: 303   softmax       sel        softmax        sel        softmax        sel \n",
      " -----  -----------------  ---    -----------------  ---    -----------------  --- \n",
      "   1    0.6056     0.3944   1     0.5626     0.4374   1     0.6671     0.3329   1\n",
      "   2    0.8708     0.1292   1     0.8891     0.1109   1     0.8866     0.1134   1\n",
      "   3    0.8956     0.1044   1     0.9269     0.0731   1     0.9239     0.0761   1\n",
      "   4    0.6771     0.3229   1     0.7268     0.2732   1     0.6526     0.3474   1\n",
      "   5    0.5993     0.4007   1     0.8720     0.1280   1     0.7642     0.2358   1\n",
      "   6    0.2841     0.7159   0     0.3163     0.6837   0     0.4919     0.5081   0\n",
      "\n",
      "\n"
     ]
    },
    {
     "name": "stderr",
     "output_type": "stream",
     "text": [
      "                                                                                                                        \r"
     ]
    },
    {
     "name": "stdout",
     "output_type": "stream",
     "text": [
      "  304 |   5.22e-04   5.22e-04   5.22e-03  1.056e-01 |    0.9896   4.3372e+00   5.1426e-02    5.3782 |   0.00017   0.77122   0.80601   0.81001 |   11.5611   4.3372e+00   5.1426e-02    15.9496 |  31.6 |\n"
     ]
    },
    {
     "name": "stderr",
     "output_type": "stream",
     "text": [
      "                                                                                                                        \r"
     ]
    },
    {
     "name": "stdout",
     "output_type": "stream",
     "text": [
      "  304 |   5.22e-04   5.22e-04   5.22e-03  1.056e-01 |    0.9935   3.7162e+00   3.2332e-02    4.7421 |   0.00017   0.77089   0.80596   0.80998 |   11.5561   3.7114e+00   3.2704e-02    15.3003 |  39.8 |\n",
      " decay gumbel softmax to 0.10194672193578354\n",
      "\n",
      " epch: 304   softmax       sel        softmax        sel        softmax        sel \n",
      " -----  -----------------  ---    -----------------  ---    -----------------  --- \n",
      "   1    0.5212     0.4788   1     0.4724     0.5276   0     0.5757     0.4243   1\n",
      "   2    0.8304     0.1696   1     0.8572     0.1428   1     0.8406     0.1594   1\n",
      "   3    0.8767     0.1233   1     0.9092     0.0908   1     0.9028     0.0972   1\n",
      "   4    0.5822     0.4178   1     0.6519     0.3481   1     0.5745     0.4255   1\n",
      "   5    0.5675     0.4325   1     0.8218     0.1782   1     0.7162     0.2838   1\n",
      "   6    0.2269     0.7731   0     0.2488     0.7512   0     0.3976     0.6024   0\n",
      "\n",
      "\n"
     ]
    },
    {
     "name": "stderr",
     "output_type": "stream",
     "text": [
      "                                                                                                                        \r"
     ]
    },
    {
     "name": "stdout",
     "output_type": "stream",
     "text": [
      "  305 |   5.22e-04   5.22e-04   5.22e-03  1.019e-01 |    1.0162   3.7114e+00   3.2704e-02    4.7603 |   0.00017   0.77212   0.80595   0.80969 |   11.5751   3.7114e+00   3.2704e-02    15.3192 |  37.4 |\n"
     ]
    },
    {
     "name": "stderr",
     "output_type": "stream",
     "text": [
      "                                                                                                                        \r"
     ]
    },
    {
     "name": "stdout",
     "output_type": "stream",
     "text": [
      "  305 |   5.22e-04   5.22e-04   5.22e-03  1.019e-01 |    0.9923   3.3011e+00   8.0778e-02    4.3743 |   0.00017   0.77083   0.80602   0.80965 |   11.5562   3.2988e+00   8.2866e-02    14.9378 |  40.4 |\n",
      "\n",
      " epch: 305   softmax       sel        softmax        sel        softmax        sel \n",
      " -----  -----------------  ---    -----------------  ---    -----------------  --- \n",
      "   1    0.4658     0.5342   0     0.3960     0.6040   0     0.5274     0.4726   1\n",
      "   2    0.7968     0.2032   1     0.8342     0.1658   1     0.7975     0.2025   1\n",
      "   3    0.8750     0.1250   1     0.8764     0.1236   1     0.8839     0.1161   1\n",
      "   4    0.5266     0.4734   1     0.5744     0.4256   1     0.5038     0.4962   1\n",
      "   5    0.5236     0.4764   1     0.7995     0.2005   1     0.6579     0.3421   1\n",
      "   6    0.1895     0.8105   0     0.2106     0.7894   0     0.3496     0.6504   0\n",
      "\n",
      "\n",
      "\n",
      "[e] Policy training epoch:305  it:62645 -  Total Loss: 14.9378     \n",
      "Task: 11.5562   Sparsity: 3.29875e+00    Sharing: 8.28657e-02 \n",
      "\n",
      " epch: 305   softmax       sel        softmax        sel        softmax        sel \n",
      " -----  -----------------  ---    -----------------  ---    -----------------  --- \n",
      "   1    0.4658     0.5342   0     0.3960     0.6040   0     0.5274     0.4726   1\n",
      "   2    0.7968     0.2032   1     0.8342     0.1658   1     0.7975     0.2025   1\n",
      "   3    0.8750     0.1250   1     0.8764     0.1236   1     0.8839     0.1161   1\n",
      "   4    0.5266     0.4734   1     0.5744     0.4256   1     0.5038     0.4962   1\n",
      "   5    0.5236     0.4764   1     0.7995     0.2005   1     0.6579     0.3421   1\n",
      "   6    0.1895     0.8105   0     0.2106     0.7894   0     0.3496     0.6504   0\n",
      "\n",
      "\n"
     ]
    },
    {
     "name": "stderr",
     "output_type": "stream",
     "text": [
      "                                                                                                                        \r"
     ]
    },
    {
     "name": "stdout",
     "output_type": "stream",
     "text": [
      "Epoch | BckBone LR   Heads LR  Policy LR Gumbl Temp |  trn loss     trn spar     trn shar trn total |   logloss   bceloss    aucroc     aucpr |  val loss     val spar     val shar  val total |  time |\n",
      "  306 |   5.22e-04   5.22e-04   5.22e-03  1.019e-01 |    1.0568   3.2988e+00   8.2866e-02    4.4384 |   0.00017   0.77271   0.80601   0.80984 |   11.5839   3.2988e+00   8.2866e-02    14.9655 |  34.2 |\n"
     ]
    },
    {
     "name": "stderr",
     "output_type": "stream",
     "text": [
      "                                                                                                                        \r"
     ]
    },
    {
     "name": "stdout",
     "output_type": "stream",
     "text": [
      "  306 |   5.22e-04   5.22e-04   5.22e-03  1.019e-01 |    1.1142   3.0225e+00   9.1317e-02    4.2280 |   0.00017   0.76019   0.80631   0.81010 |   11.3956   3.0198e+00   9.0519e-02    14.5058 |  42.0 |\n",
      " decay gumbel softmax to 0.0983785866680311\n",
      "\n",
      " epch: 306   softmax       sel        softmax        sel        softmax        sel \n",
      " -----  -----------------  ---    -----------------  ---    -----------------  --- \n",
      "   1    0.4155     0.5845   0     0.3501     0.6499   0     0.4987     0.5013   0\n",
      "   2    0.7660     0.2340   1     0.8107     0.1893   1     0.7836     0.2164   1\n",
      "   3    0.8601     0.1399   1     0.8537     0.1463   1     0.8683     0.1317   1\n",
      "   4    0.4876     0.5124   0     0.5524     0.4476   1     0.4584     0.5416   0\n",
      "   5    0.4891     0.5109   0     0.7700     0.2300   1     0.6040     0.3960   1\n",
      "   6    0.1713     0.8287   0     0.1838     0.8162   0     0.2974     0.7026   0\n",
      "\n",
      "\n"
     ]
    },
    {
     "name": "stderr",
     "output_type": "stream",
     "text": [
      "                                                                                                                        \r"
     ]
    },
    {
     "name": "stdout",
     "output_type": "stream",
     "text": [
      "  307 |   5.22e-04   5.22e-04   5.22e-03  9.838e-02 |    1.0681   3.0198e+00   9.0519e-02    4.1784 |   0.00017   0.75930   0.80622   0.80982 |   11.3820   3.0198e+00   9.0519e-02    14.4923 |  30.8 |\n"
     ]
    },
    {
     "name": "stderr",
     "output_type": "stream",
     "text": [
      "                                                                                                                        \r"
     ]
    },
    {
     "name": "stdout",
     "output_type": "stream",
     "text": [
      "  307 |   5.22e-04   5.22e-04   5.22e-03  9.838e-02 |    0.9268   2.7388e+00   8.1611e-02    3.7472 |   0.00017   0.75930   0.80622   0.80982 |   11.3820   2.7364e+00   8.1994e-02    14.2004 |  37.9 |\n",
      "\n",
      " epch: 307   softmax       sel        softmax        sel        softmax        sel \n",
      " -----  -----------------  ---    -----------------  ---    -----------------  --- \n",
      "   1    0.3674     0.6326   0     0.3366     0.6634   0     0.4422     0.5578   0\n",
      "   2    0.7340     0.2660   1     0.7842     0.2158   1     0.7422     0.2578   1\n",
      "   3    0.8358     0.1642   1     0.8214     0.1786   1     0.8529     0.1471   1\n",
      "   4    0.4523     0.5477   0     0.5112     0.4888   1     0.4181     0.5819   0\n",
      "   5    0.4346     0.5654   0     0.7511     0.2489   1     0.5703     0.4297   1\n",
      "   6    0.1453     0.8547   0     0.1670     0.8330   0     0.2609     0.7391   0\n",
      "\n",
      "\n"
     ]
    },
    {
     "name": "stderr",
     "output_type": "stream",
     "text": [
      "                                                                                                                        \r"
     ]
    },
    {
     "name": "stdout",
     "output_type": "stream",
     "text": [
      "  308 |   5.22e-04   5.22e-04   5.22e-03  9.838e-02 |    1.1077   2.7364e+00   8.1994e-02    3.9260 |   0.00017   0.75998   0.80630   0.81005 |   11.3930   2.7364e+00   8.1994e-02    14.2114 |  32.3 |\n"
     ]
    },
    {
     "name": "stderr",
     "output_type": "stream",
     "text": [
      "                                                                                                                        \r"
     ]
    },
    {
     "name": "stdout",
     "output_type": "stream",
     "text": [
      "  308 |   5.22e-04   5.22e-04   5.22e-03  9.838e-02 |    0.9756   2.5267e+00   7.5562e-02    3.5779 |   0.00017   0.75306   0.80656   0.81036 |   11.2888   2.5245e+00   7.4913e-02    13.8882 |  37.0 |\n",
      " decay gumbel softmax to 0.09493533613465001\n",
      "\n",
      " epch: 308   softmax       sel        softmax        sel        softmax        sel \n",
      " -----  -----------------  ---    -----------------  ---    -----------------  --- \n",
      "   1    0.3287     0.6713   0     0.2966     0.7034   0     0.4001     0.5999   0\n",
      "   2    0.7100     0.2900   1     0.7591     0.2409   1     0.7019     0.2981   1\n",
      "   3    0.8138     0.1862   1     0.7925     0.2075   1     0.8365     0.1635   1\n",
      "   4    0.4327     0.5673   0     0.4848     0.5152   0     0.3831     0.6169   0\n",
      "   5    0.4287     0.5713   0     0.7349     0.2651   1     0.5367     0.4633   1\n",
      "   6    0.1322     0.8678   0     0.1582     0.8418   0     0.2334     0.7666   0\n",
      "\n",
      "\n"
     ]
    },
    {
     "name": "stderr",
     "output_type": "stream",
     "text": [
      "                                                                                                                        \r"
     ]
    },
    {
     "name": "stdout",
     "output_type": "stream",
     "text": [
      "  309 |   4.44e-04   4.44e-04   5.22e-03  9.494e-02 |    1.0159   2.5245e+00   7.4913e-02    3.6153 |   0.00016   0.75288   0.80655   0.81011 |   11.2855   2.5245e+00   7.4913e-02    13.8849 |  29.7 |\n"
     ]
    },
    {
     "name": "stderr",
     "output_type": "stream",
     "text": [
      "                                                                                                                        \r"
     ]
    },
    {
     "name": "stdout",
     "output_type": "stream",
     "text": [
      "  309 |   4.44e-04   4.44e-04   5.22e-03  9.494e-02 |    0.9990   2.3066e+00   1.0192e-01    3.4075 |   0.00016   0.74546   0.80658   0.81000 |   11.1739   2.3050e+00   1.0269e-01    13.5816 |  36.4 |\n",
      "\n",
      " epch: 309   softmax       sel        softmax        sel        softmax        sel \n",
      " -----  -----------------  ---    -----------------  ---    -----------------  --- \n",
      "   1    0.3144     0.6856   0     0.2685     0.7315   0     0.3610     0.6390   0\n",
      "   2    0.6906     0.3094   1     0.7067     0.2933   1     0.6973     0.3027   1\n",
      "   3    0.7914     0.2086   1     0.7635     0.2365   1     0.8095     0.1905   1\n",
      "   4    0.3974     0.6026   0     0.4701     0.5299   0     0.3507     0.6493   0\n",
      "   5    0.3875     0.6125   0     0.6879     0.3121   1     0.4900     0.5100   0\n",
      "   6    0.1257     0.8743   0     0.1449     0.8551   0     0.2117     0.7883   0\n",
      "\n",
      "\n"
     ]
    },
    {
     "name": "stderr",
     "output_type": "stream",
     "text": [
      "                                                                                                                        \r"
     ]
    },
    {
     "name": "stdout",
     "output_type": "stream",
     "text": [
      "  310 |   4.44e-04   4.44e-04   5.22e-03  9.494e-02 |    1.0287   2.3050e+00   1.0269e-01    3.4363 |   0.00016   0.74749   0.80663   0.81030 |   11.2045   2.3050e+00   1.0269e-01    13.6122 |  30.9 |\n"
     ]
    },
    {
     "name": "stderr",
     "output_type": "stream",
     "text": [
      "                                                                                                                        \r"
     ]
    },
    {
     "name": "stdout",
     "output_type": "stream",
     "text": [
      "  310 |   4.44e-04   4.44e-04   5.22e-03  9.494e-02 |    1.0759   2.1969e+00   1.3323e-01    3.4060 |   0.00016   0.74749   0.80663   0.81030 |   11.2045   2.1964e+00   1.3459e-01    13.5355 |  35.7 |\n",
      " decay gumbel softmax to 0.09161259936993725\n",
      "\n",
      " epch: 310   softmax       sel        softmax        sel        softmax        sel \n",
      " -----  -----------------  ---    -----------------  ---    -----------------  --- \n",
      "   1    0.2815     0.7185   0     0.2464     0.7536   0     0.3279     0.6721   0\n",
      "   2    0.7040     0.2960   1     0.6866     0.3134   1     0.7017     0.2983   1\n",
      "   3    0.7762     0.2238   1     0.7366     0.2634   1     0.7809     0.2191   1\n",
      "   4    0.4207     0.5793   0     0.4355     0.5645   0     0.3122     0.6878   0\n",
      "   5    0.3803     0.6197   0     0.6785     0.3215   1     0.4692     0.5308   0\n",
      "   6    0.1232     0.8768   0     0.1404     0.8596   0     0.1889     0.8111   0\n",
      "\n",
      "\n",
      "\n",
      "[e] Policy training epoch:310  it:63725 -  Total Loss: 13.5355     \n",
      "Task: 11.2045   Sparsity: 2.19641e+00    Sharing: 1.34590e-01 \n",
      "\n",
      " epch: 310   softmax       sel        softmax        sel        softmax        sel \n",
      " -----  -----------------  ---    -----------------  ---    -----------------  --- \n",
      "   1    0.2815     0.7185   0     0.2464     0.7536   0     0.3279     0.6721   0\n",
      "   2    0.7040     0.2960   1     0.6866     0.3134   1     0.7017     0.2983   1\n",
      "   3    0.7762     0.2238   1     0.7366     0.2634   1     0.7809     0.2191   1\n",
      "   4    0.4207     0.5793   0     0.4355     0.5645   0     0.3122     0.6878   0\n",
      "   5    0.3803     0.6197   0     0.6785     0.3215   1     0.4692     0.5308   0\n",
      "   6    0.1232     0.8768   0     0.1404     0.8596   0     0.1889     0.8111   0\n",
      "\n",
      "\n"
     ]
    },
    {
     "name": "stderr",
     "output_type": "stream",
     "text": [
      "                                                                                                                        \r"
     ]
    },
    {
     "name": "stdout",
     "output_type": "stream",
     "text": [
      "Epoch | BckBone LR   Heads LR  Policy LR Gumbl Temp |  trn loss     trn spar     trn shar trn total |   logloss   bceloss    aucroc     aucpr |  val loss     val spar     val shar  val total |  time |\n",
      "  311 |   4.44e-04   4.44e-04   5.22e-03  9.161e-02 |    1.1216   2.1964e+00   1.3459e-01    3.4526 |   0.00016   0.74868   0.80647   0.81007 |   11.2217   2.1964e+00   1.3459e-01    13.5527 |  31.5 |\n"
     ]
    },
    {
     "name": "stderr",
     "output_type": "stream",
     "text": [
      "                                                                                                                        \r"
     ]
    },
    {
     "name": "stdout",
     "output_type": "stream",
     "text": [
      "  311 |   4.44e-04   4.44e-04   5.22e-03  9.161e-02 |    1.1043   2.1418e+00   1.0264e-01    3.3487 |   0.00017   0.75625   0.80640   0.81015 |   11.3355   2.1418e+00   1.0289e-01    13.5801 |  35.9 |\n",
      "\n",
      " epch: 311   softmax       sel        softmax        sel        softmax        sel \n",
      " -----  -----------------  ---    -----------------  ---    -----------------  --- \n",
      "   1    0.2592     0.7408   0     0.2319     0.7681   0     0.3013     0.6987   0\n",
      "   2    0.6769     0.3231   1     0.6976     0.3024   1     0.6788     0.3212   1\n",
      "   3    0.7638     0.2362   1     0.7424     0.2576   1     0.7904     0.2096   1\n",
      "   4    0.4188     0.5812   0     0.4206     0.5794   0     0.2844     0.7156   0\n",
      "   5    0.3599     0.6401   0     0.6617     0.3383   1     0.5015     0.4985   1\n",
      "   6    0.1102     0.8898   0     0.1332     0.8668   0     0.1777     0.8223   0\n",
      "\n",
      "\n"
     ]
    },
    {
     "name": "stderr",
     "output_type": "stream",
     "text": [
      "                                                                                                                        \r"
     ]
    },
    {
     "name": "stdout",
     "output_type": "stream",
     "text": [
      "  312 |   4.44e-04   4.44e-04   5.22e-03  9.161e-02 |    1.1877   2.1418e+00   1.0289e-01    3.4324 |   0.00017   0.75629   0.80658   0.81043 |   11.3367   2.1418e+00   1.0289e-01    13.5814 |  31.0 |\n"
     ]
    },
    {
     "name": "stderr",
     "output_type": "stream",
     "text": [
      "                                                                                                                        \r"
     ]
    },
    {
     "name": "stdout",
     "output_type": "stream",
     "text": [
      "  312 |   4.44e-04   4.44e-04   5.22e-03  9.161e-02 |    1.1739   2.0732e+00   1.6473e-01    3.4118 |   0.00016   0.74864   0.80664   0.81035 |   11.2217   2.0733e+00   1.6242e-01    13.4574 |  35.7 |\n",
      " decay gumbel softmax to 0.08840615839198944\n",
      "\n",
      " epch: 312   softmax       sel        softmax        sel        softmax        sel \n",
      " -----  -----------------  ---    -----------------  ---    -----------------  --- \n",
      "   1    0.2571     0.7429   0     0.2193     0.7807   0     0.2710     0.7290   0\n",
      "   2    0.6807     0.3193   1     0.7054     0.2946   1     0.6950     0.3050   1\n",
      "   3    0.7350     0.2650   1     0.7467     0.2533   1     0.7745     0.2255   1\n",
      "   4    0.3836     0.6164   0     0.3935     0.6065   0     0.2727     0.7273   0\n",
      "   5    0.3529     0.6471   0     0.6274     0.3726   1     0.4970     0.5030   0\n",
      "   6    0.1009     0.8991   0     0.1219     0.8781   0     0.1719     0.8281   0\n",
      "\n",
      "\n",
      "[Final] ep:312  it:64157 -  Total Loss: 13.4574     \n",
      "Task: 11.2217   Sparsity: 2.07326e+00    Sharing: 1.62424e-01 \n",
      "\n",
      " epch: 312   softmax       sel        softmax        sel        softmax        sel \n",
      " -----  -----------------  ---    -----------------  ---    -----------------  --- \n",
      "   1    0.2571     0.7429   0     0.2193     0.7807   0     0.2710     0.7290   0\n",
      "   2    0.6807     0.3193   1     0.7054     0.2946   1     0.6950     0.3050   1\n",
      "   3    0.7350     0.2650   1     0.7467     0.2533   1     0.7745     0.2255   1\n",
      "   4    0.3836     0.6164   0     0.3935     0.6065   0     0.2727     0.7273   0\n",
      "   5    0.3529     0.6471   0     0.6274     0.3726   1     0.4970     0.5030   0\n",
      "   6    0.1009     0.8991   0     0.1219     0.8781   0     0.1719     0.8281   0\n",
      "\n",
      "\n",
      "\n",
      " epch: 312   logits        sel          logits       sel         logits        sel \n",
      " -----  -----------------  ---    ----------------   ---    ----------------   --- \n",
      "   1   -0.4585     0.6026   0    -0.4601     0.8096   0    -0.4597     0.5298   0\n",
      "   2   -0.1734    -0.9305   1    -0.1718    -1.0447   1    -0.1615    -0.9853   1\n",
      "   3   -0.1602    -1.1804   1    -0.1241    -1.2051   1    -0.1391    -1.3729   1\n",
      "   4   -0.3442     0.1300   0    -0.3490     0.0837   0    -0.3420     0.6391   0\n",
      "   5   -0.2803     0.3260   0    -0.2921    -0.8131   1    -0.2676    -0.2554   0\n",
      "   6   -0.4716     1.7158   0    -0.4718     1.5023   0    -0.4718     1.1004   0\n",
      "\n",
      "\n"
     ]
    }
   ],
   "source": [
    "model_label   = 'model_warmup_ep_%d_seed_%04d' % (current_epoch, opt['random_seed'])\n",
    "metrics_label = 'metrics_warmup_ep_%d_seed_%04d.pickle' % (current_epoch, opt['random_seed'])\n",
    "environ.save_checkpoint(model_label, current_iter, current_epoch) \n",
    "save_to_pickle(environ.val_metrics, environ.opt['paths']['checkpoint_dir'], metrics_label)\n",
    "print_loss(environ.val_metrics, title = f\"[Final] ep:{current_epoch}  it:{current_iter}\",)\n",
    "environ.display_trained_policy(current_epoch,out=[sys.stdout, environ.log_file])\n",
    "environ.display_trained_logits(current_epoch)\n",
    "environ.log_file.flush()"
   ]
  },
  {
   "cell_type": "code",
   "execution_count": null,
   "id": "99170dd1",
   "metadata": {},
   "outputs": [],
   "source": []
  },
  {
   "cell_type": "code",
   "execution_count": null,
   "id": "03d8cfb7",
   "metadata": {},
   "outputs": [],
   "source": []
  },
  {
   "cell_type": "code",
   "execution_count": null,
   "id": "99a57a91",
   "metadata": {},
   "outputs": [],
   "source": []
  },
  {
   "cell_type": "code",
   "execution_count": 36,
   "id": "75c2c1f5",
   "metadata": {
    "ExecuteTime": {
     "end_time": "2022-02-22T09:02:00.026955Z",
     "start_time": "2022-02-22T09:01:59.964303Z"
    }
   },
   "outputs": [
    {
     "name": "stdout",
     "output_type": "stream",
     "text": [
      "[Final] ep:287  it:58757 -  Total Loss: 15.5793     \n",
      "Task: 11.2231   Sparsity: 4.35058e+00    Sharing: 5.58868e-03 \n"
     ]
    }
   ],
   "source": [
    "print_loss(environ.val_metrics, title = f\"[Final] ep:{current_epoch}  it:{current_iter}\")\n",
    "# environ.display_trained_policy(current_epoch)\n",
    "# environ.display_trained_logits(current_epoch)\n",
    "# environ.log_file.flush()"
   ]
  },
  {
   "cell_type": "code",
   "execution_count": 246,
   "id": "b0308ba1",
   "metadata": {
    "ExecuteTime": {
     "end_time": "2022-02-21T18:19:26.942383Z",
     "start_time": "2022-02-21T18:19:26.874453Z"
    }
   },
   "outputs": [
    {
     "name": "stdout",
     "output_type": "stream",
     "text": [
      " Backbone Learning Rate      : 0.001\n",
      " Tasks    Learning Rate      : 0.001\n",
      " Policy   Learning Rate      : 0.01\n",
      "\n",
      " Sparsity regularization     : 0.0\n",
      " Sharing  regularization     : 0.0001 \n",
      " Tasks    regularization     : 1.0   \n",
      " Gumbel Temp                 : 0.7234         \n",
      " Gumbel Temp decay           : 2\n"
     ]
    }
   ],
   "source": [
    "print( f\" Backbone Learning Rate      : {environ.opt['train']['backbone_lr']}\\n\"\n",
    "       f\" Tasks    Learning Rate      : {environ.opt['train']['task_lr']}\\n\"\n",
    "       f\" Policy   Learning Rate      : {environ.opt['train']['policy_lr']}\\n\")\n",
    "\n",
    "\n",
    "print( f\" Sparsity regularization     : {environ.opt['train']['lambda_sparsity']}\\n\"\n",
    "       f\" Sharing  regularization     : {environ.opt['train']['lambda_sharing']} \\n\"\n",
    "       f\" Tasks    regularization     : {environ.opt['train']['lambda_tasks']}   \\n\"\n",
    "       f\" Gumbel Temp                 : {environ.gumbel_temperature:.4f}         \\n\" #\n",
    "       f\" Gumbel Temp decay           : {environ.opt['train']['decay_temp_freq']}\") #\n",
    "\n",
    "print( f\" current_iters               : {current_iter}\")  \n",
    "print( f\" current_epochs              : {current_epoch}\") \n",
    "print( f\" train_total_epochs          : {train_total_epochs}\") \n",
    "print( f\" stop_epoch_training         : {stop_epoch_training}\")"
   ]
  },
  {
   "cell_type": "code",
   "execution_count": 247,
   "id": "cf9ad779",
   "metadata": {
    "ExecuteTime": {
     "end_time": "2022-02-21T18:21:08.710199Z",
     "start_time": "2022-02-21T18:21:08.643781Z"
    }
   },
   "outputs": [],
   "source": [
    "environ.opt['train']['lambda_sparsity'] = 0.0000\n",
    "environ.opt['train']['lambda_sharing']  = 0.001\n",
    "environ.opt['train']['lambda_tasks']    = 1.0\n",
    "environ.opt['train']['decay_temp_freq'] = 2"
   ]
  },
  {
   "cell_type": "code",
   "execution_count": 250,
   "id": "c173609c",
   "metadata": {
    "ExecuteTime": {
     "end_time": "2022-02-21T18:21:25.092070Z",
     "start_time": "2022-02-21T18:21:25.028026Z"
    }
   },
   "outputs": [
    {
     "name": "stdout",
     "output_type": "stream",
     "text": [
      " Sparsity regularization     : 0.0\n",
      " Sharing  regularization     : 0.001 \n",
      " Tasks    regularization     : 1.0   \n",
      " Gumbel Temp                 : 0.7234         \n",
      " Gumbel Temp decay           : 2\n",
      "\n",
      " current_iters               : 38669\n",
      " current_epochs              : 192\n",
      " train_total_epochs          : 5\n",
      " stop_epoch_training         : 192\n"
     ]
    }
   ],
   "source": [
    "print( f\" Sparsity regularization     : {environ.opt['train']['lambda_sparsity']}\\n\"\n",
    "       f\" Sharing  regularization     : {environ.opt['train']['lambda_sharing']} \\n\"\n",
    "       f\" Tasks    regularization     : {environ.opt['train']['lambda_tasks']}   \\n\"\n",
    "       f\" Gumbel Temp                 : {environ.gumbel_temperature:.4f}         \\n\" #\n",
    "       f\" Gumbel Temp decay           : {environ.opt['train']['decay_temp_freq']}\\n\") #\n",
    "\n",
    "\n",
    "print( f\" current_iters               : {current_iter}\")  \n",
    "print( f\" current_epochs              : {current_epoch}\") \n",
    "print( f\" train_total_epochs          : {train_total_epochs}\") \n",
    "print( f\" stop_epoch_training         : {stop_epoch_training}\")"
   ]
  },
  {
   "cell_type": "code",
   "execution_count": 17,
   "id": "b375cd1f",
   "metadata": {
    "ExecuteTime": {
     "end_time": "2022-02-17T21:26:56.154438Z",
     "start_time": "2022-02-17T21:26:56.128548Z"
    }
   },
   "outputs": [
    {
     "name": "stdout",
     "output_type": "stream",
     "text": [
      "current_iters         : 10908\n",
      "current_epochs        : 51\n",
      "train_total_epochs    : 50\n",
      "stop_epoch_training   : 101\n"
     ]
    }
   ],
   "source": [
    "# train_total_epochs = 50\n",
    "stop_epoch_training = current_epoch + train_total_epochs     \n",
    "print(f\"current_iters         : {current_iter}\")  \n",
    "print(f\"current_epochs        : {current_epoch}\") \n",
    "print(f\"train_total_epochs    : {train_total_epochs}\") \n",
    "print(f\"stop_epoch_training   : {stop_epoch_training}\")"
   ]
  },
  {
   "cell_type": "code",
   "execution_count": 17,
   "id": "a51e4721",
   "metadata": {
    "ExecuteTime": {
     "end_time": "2022-02-16T23:42:38.875913Z",
     "start_time": "2022-02-16T23:42:38.820249Z"
    }
   },
   "outputs": [],
   "source": [
    "# pp.pprint(environ.losses)\n",
    "# pp.pprint(environ.val_metrics)"
   ]
  },
  {
   "cell_type": "code",
   "execution_count": 23,
   "id": "0b9b82bd",
   "metadata": {
    "ExecuteTime": {
     "end_time": "2022-02-20T22:48:27.014120Z",
     "start_time": "2022-02-20T22:48:26.982535Z"
    }
   },
   "outputs": [],
   "source": [
    "# print_loss(current_iter, environ.losses, title = f\"[e] Policy training epoch:{current_epoch}    iter:\")\n",
    "# print()\n",
    "# print_loss(current_iter, trn_losses, title = f\"[e] Policy training epoch:{current_epoch}    iter:\")\n",
    "# print()\n",
    "# print_loss(current_iter, environ.val_metrics, title = f\"[e] Policy training epoch:{current_epoch}    iter:\")"
   ]
  },
  {
   "cell_type": "code",
   "execution_count": 24,
   "id": "cadacbfd",
   "metadata": {
    "ExecuteTime": {
     "end_time": "2022-02-20T22:48:29.077135Z",
     "start_time": "2022-02-20T22:48:29.041450Z"
    }
   },
   "outputs": [],
   "source": [
    "# print_metrics_cr(current_epoch, time.time() - start_time, trn_losses, environ.val_metrics, 0, out=[sys.stdout])"
   ]
  },
  {
   "cell_type": "code",
   "execution_count": 2,
   "id": "2f1a2e03",
   "metadata": {
    "ExecuteTime": {
     "end_time": "2022-02-23T22:01:03.769972Z",
     "start_time": "2022-02-23T22:01:03.765931Z"
    }
   },
   "outputs": [],
   "source": [
    "# environ.losses\n",
    "# environ.val_metrics\n",
    "# environ.batch_data\n",
    "# environ.display_parameters()\n",
    "# environ_params = environ.get_task_specific_parameters()\n",
    "# environ_params = environ.get_arch_parameters()\n",
    "# environ_params = environ.get_backbone_parameters()\n",
    "# print(environ_params)\n",
    "# for param in environ_params:\n",
    "#     print(param.grad.shape, '\\n', param.grad)\n",
    "#     print(param)"
   ]
  },
  {
   "cell_type": "code",
   "execution_count": 1,
   "id": "59c46c40",
   "metadata": {
    "ExecuteTime": {
     "end_time": "2022-02-23T21:58:47.971658Z",
     "start_time": "2022-02-23T21:58:47.965487Z"
    },
    "scrolled": false
   },
   "outputs": [],
   "source": [
    "# print(environ.optimizers['alphas'])\n",
    "# print(environ.optimizers['weights'])\n",
    "# print(environ.optimizers['weights'].param_groups)"
   ]
  },
  {
   "cell_type": "code",
   "execution_count": null,
   "id": "6f8abf65",
   "metadata": {},
   "outputs": [],
   "source": [
    "with np.printoptions(edgeitems=3, infstr='inf', linewidth=150, nanstr='nan', precision=7, formatter={'float': lambda x: f\"{x:12.5e}\"}):\n",
    "    environ.print_logit_grads('gradients')\n"
   ]
  },
  {
   "cell_type": "code",
   "execution_count": 136,
   "id": "f8ef378f",
   "metadata": {
    "ExecuteTime": {
     "end_time": "2022-02-22T19:00:55.473607Z",
     "start_time": "2022-02-22T19:00:55.086430Z"
    }
   },
   "outputs": [
    {
     "name": "stdout",
     "output_type": "stream",
     "text": [
      "\n",
      " epch: 312   logits        sel          logits       sel         logits        sel \n",
      " -----  -----------------  ---    ----------------   ---    ----------------   --- \n",
      "   1   -0.4585     0.6026   0    -0.4601     0.8096   0    -0.4597     0.5298   0\n",
      "   2   -0.1734    -0.9305   1    -0.1718    -1.0447   1    -0.1615    -0.9853   1\n",
      "   3   -0.1602    -1.1804   1    -0.1241    -1.2051   1    -0.1391    -1.3729   1\n",
      "   4   -0.3442     0.1300   0    -0.3490     0.0837   0    -0.3420     0.6391   0\n",
      "   5   -0.2803     0.3260   0    -0.2921    -0.8131   1    -0.2676    -0.2554   0\n",
      "   6   -0.4716     1.7158   0    -0.4718     1.5023   0    -0.4718     1.1004   0\n",
      "\n",
      "\n",
      "\n",
      " epch: 312   softmax       sel        softmax        sel        softmax        sel \n",
      " -----  -----------------  ---    -----------------  ---    -----------------  --- \n",
      "   1    0.2571     0.7429   0     0.2193     0.7807   0     0.2710     0.7290   0\n",
      "   2    0.6807     0.3193   1     0.7054     0.2946   1     0.6950     0.3050   1\n",
      "   3    0.7350     0.2650   1     0.7467     0.2533   1     0.7745     0.2255   1\n",
      "   4    0.3836     0.6164   0     0.3935     0.6065   0     0.2727     0.7273   0\n",
      "   5    0.3529     0.6471   0     0.6274     0.3726   1     0.4970     0.5030   0\n",
      "   6    0.1009     0.8991   0     0.1219     0.8781   0     0.1719     0.8281   0\n",
      "\n",
      "\n"
     ]
    }
   ],
   "source": [
    "environ.display_trained_logits(current_epoch)\n",
    "environ.display_trained_policy(current_epoch)"
   ]
  },
  {
   "cell_type": "code",
   "execution_count": 123,
   "id": "f92f6a6f",
   "metadata": {
    "ExecuteTime": {
     "end_time": "2022-02-22T17:24:17.346992Z",
     "start_time": "2022-02-22T17:24:17.274105Z"
    }
   },
   "outputs": [
    {
     "name": "stdout",
     "output_type": "stream",
     "text": [
      " Sample Policy (Testing mode - hard_sampling: True) \n",
      " 312 epochs  logits         sel        logits         sel         logits         sel \n",
      " -----   ----------------  -----    ----------------  -----    ---------------   ----- \n",
      "   1    -0.4585    0.6026  [0 1]   -0.4601    0.8096  [0 1]   -0.4597    0.5298  [0 1]\n",
      "   2    -0.1734   -0.9305  [1 0]   -0.1718   -1.0447  [1 0]   -0.1615   -0.9853  [1 0]\n",
      "   3    -0.1602   -1.1804  [1 0]   -0.1241   -1.2051  [1 0]   -0.1391   -1.3729  [1 0]\n",
      "   4    -0.3442    0.1300  [0 1]   -0.3490    0.0837  [0 1]   -0.3420    0.6391  [0 1]\n",
      "   5    -0.2803    0.3260  [0 1]   -0.2921   -0.8131  [1 0]   -0.2676   -0.2554  [0 1]\n",
      "   6    -0.4716    1.7158  [0 1]   -0.4718    1.5023  [0 1]   -0.4718    1.1004  [0 1]\n",
      "\n",
      "\n",
      " Sample Policy (Training mode - hard_sampling: True) \n",
      " 312 epochs    logits          gumbel                logits           gumbel               logits             gumbel \n",
      " -----   ----------------------------------     ----------------------------------     ------------------------------------ \n",
      "   1    -0.4585   0.6026    1.0000   0.0000    -0.4601   0.8096    1.0000   0.0000    -0.4597    0.5298     1.0000   0.0000\n",
      "   2    -0.1734  -0.9305    0.0000   1.0000    -0.1718  -1.0447    1.0000   0.0000    -0.1615   -0.9853     1.0000   0.0000\n",
      "   3    -0.1602  -1.1804    0.0000   1.0000    -0.1241  -1.2051    0.0000   1.0000    -0.1391   -1.3729     1.0000   0.0000\n",
      "   4    -0.3442   0.1300    1.0000   0.0000    -0.3490   0.0837    0.0000   1.0000    -0.3420    0.6391     1.0000   0.0000\n",
      "   5    -0.2803   0.3260    0.0000   1.0000    -0.2921  -0.8131    1.0000   0.0000    -0.2676   -0.2554     0.0000   1.0000\n",
      "   6    -0.4716   1.7158    1.0000   0.0000    -0.4718   1.5023    0.0000   1.0000    -0.4718    1.1004     0.0000   1.0000\n",
      "\n",
      "\n"
     ]
    }
   ],
   "source": [
    "environ.display_test_sample_policy(current_epoch, hard_sampling = True)\n",
    "environ.display_train_sample_policy(current_epoch, hard_sampling = True)"
   ]
  },
  {
   "cell_type": "code",
   "execution_count": 117,
   "id": "b7f0d1e3",
   "metadata": {
    "ExecuteTime": {
     "end_time": "2022-02-22T17:24:13.311258Z",
     "start_time": "2022-02-22T17:24:13.231883Z"
    }
   },
   "outputs": [
    {
     "name": "stdout",
     "output_type": "stream",
     "text": [
      " Sample Policy (Testing mode - hard_sampling: False) \n",
      " 312 epochs  logits         sel        logits         sel         logits         sel \n",
      " -----   ----------------  -----    ----------------  -----    ---------------   ----- \n",
      "   1    -0.4585    0.6026  [0 1]   -0.4601    0.8096  [0 1]   -0.4597    0.5298  [1 0]\n",
      "   2    -0.1734   -0.9305  [1 0]   -0.1718   -1.0447  [0 1]   -0.1615   -0.9853  [1 0]\n",
      "   3    -0.1602   -1.1804  [1 0]   -0.1241   -1.2051  [1 0]   -0.1391   -1.3729  [1 0]\n",
      "   4    -0.3442    0.1300  [1 0]   -0.3490    0.0837  [0 1]   -0.3420    0.6391  [1 0]\n",
      "   5    -0.2803    0.3260  [0 1]   -0.2921   -0.8131  [1 0]   -0.2676   -0.2554  [0 1]\n",
      "   6    -0.4716    1.7158  [1 0]   -0.4718    1.5023  [0 1]   -0.4718    1.1004  [0 1]\n",
      "\n",
      "\n",
      " Sample Policy (Training mode - hard_sampling: False) \n",
      " 312 epochs    logits          gumbel                logits           gumbel               logits             gumbel \n",
      " -----   ----------------------------------     ----------------------------------     ------------------------------------ \n",
      "   1    -0.4585   0.6026    0.0000   1.0000    -0.4601   0.8096    0.0015   0.9985    -0.4597    0.5298     0.9999   0.0001\n",
      "   2    -0.1734  -0.9305    1.0000   0.0000    -0.1718  -1.0447    1.0000   0.0000    -0.1615   -0.9853     1.0000   0.0000\n",
      "   3    -0.1602  -1.1804    1.0000   0.0000    -0.1241  -1.2051    0.9997   0.0003    -0.1391   -1.3729     1.0000   0.0000\n",
      "   4    -0.3442   0.1300    0.0617   0.9383    -0.3490   0.0837    1.0000   0.0000    -0.3420    0.6391     0.0000   1.0000\n",
      "   5    -0.2803   0.3260    0.0015   0.9985    -0.2921  -0.8131    0.9998   0.0002    -0.2676   -0.2554     0.5530   0.4470\n",
      "   6    -0.4716   1.7158    0.0000   1.0000    -0.4718   1.5023    0.0000   1.0000    -0.4718    1.1004     0.9781   0.0219\n",
      "\n",
      "\n"
     ]
    }
   ],
   "source": [
    "environ.display_test_sample_policy(current_epoch, hard_sampling = False)\n",
    "environ.display_train_sample_policy(current_epoch, hard_sampling = False)"
   ]
  },
  {
   "cell_type": "code",
   "execution_count": 137,
   "id": "58b3a520",
   "metadata": {
    "ExecuteTime": {
     "end_time": "2022-02-22T21:24:03.057711Z",
     "start_time": "2022-02-22T21:24:02.894864Z"
    }
   },
   "outputs": [
    {
     "data": {
      "text/plain": [
       "True"
      ]
     },
     "execution_count": 137,
     "metadata": {},
     "output_type": "execute_result"
    }
   ],
   "source": [
    "environ.opt['train']['hard_sampling']"
   ]
  },
  {
   "cell_type": "code",
   "execution_count": null,
   "id": "d6b8f95d",
   "metadata": {},
   "outputs": [],
   "source": []
  },
  {
   "cell_type": "code",
   "execution_count": 12,
   "id": "e3d09e6e",
   "metadata": {
    "ExecuteTime": {
     "end_time": "2022-02-22T02:08:13.276148Z",
     "start_time": "2022-02-22T02:08:13.218674Z"
    }
   },
   "outputs": [],
   "source": [
    "# wandb.finish()"
   ]
  },
  {
   "cell_type": "markdown",
   "id": "33f3a5d7",
   "metadata": {},
   "source": [
    "## Post Training Stuff"
   ]
  },
  {
   "cell_type": "code",
   "execution_count": 2,
   "id": "973112a4",
   "metadata": {
    "ExecuteTime": {
     "end_time": "2022-02-23T21:53:00.848732Z",
     "start_time": "2022-02-23T21:53:00.837259Z"
    }
   },
   "outputs": [
    {
     "ename": "NameError",
     "evalue": "name 'wandb' is not defined",
     "output_type": "error",
     "traceback": [
      "\u001b[0;31m---------------------------------------------------------------------------\u001b[0m",
      "\u001b[0;31mNameError\u001b[0m                                 Traceback (most recent call last)",
      "\u001b[0;32m/tmp/ipykernel_10367/2127913808.py\u001b[0m in \u001b[0;36m<module>\u001b[0;34m\u001b[0m\n\u001b[0;32m----> 1\u001b[0;31m \u001b[0mwandb\u001b[0m\u001b[0;34m.\u001b[0m\u001b[0mfinish\u001b[0m\u001b[0;34m(\u001b[0m\u001b[0;34m)\u001b[0m\u001b[0;34m\u001b[0m\u001b[0;34m\u001b[0m\u001b[0m\n\u001b[0m",
      "\u001b[0;31mNameError\u001b[0m: name 'wandb' is not defined"
     ]
    }
   ],
   "source": [
    "wandb.finish()"
   ]
  },
  {
   "cell_type": "code",
   "execution_count": 9,
   "id": "b96903d7",
   "metadata": {
    "ExecuteTime": {
     "end_time": "2022-02-20T21:25:11.319751Z",
     "start_time": "2022-02-20T21:25:11.210062Z"
    }
   },
   "outputs": [],
   "source": [
    "# \n",
    "p = environ.get_current_state(0)"
   ]
  },
  {
   "cell_type": "code",
   "execution_count": 11,
   "id": "baf3df02",
   "metadata": {
    "ExecuteTime": {
     "end_time": "2022-02-20T21:25:26.324030Z",
     "start_time": "2022-02-20T21:25:26.112782Z"
    }
   },
   "outputs": [
    {
     "name": "stdout",
     "output_type": "stream",
     "text": [
      "{   'alphas': {   'param_groups': [   {   'amsgrad': False,\n",
      "                                          'betas': (0.9, 0.999),\n",
      "                                          'eps': 1e-08,\n",
      "                                          'initial_lr': 0.01,\n",
      "                                          'lr': 0.01,\n",
      "                                          'params': [0, 1, 2],\n",
      "                                          'weight_decay': 0.0005}],\n",
      "                  'state': {}},\n",
      "    'iter': 0,\n",
      "    'mtl-net': OrderedDict([   (   'task1_logits',\n",
      "                                   tensor([[ 0.001544,  0.002121],\n",
      "        [ 0.000495,  0.001111],\n",
      "        [ 0.000426, -0.000401],\n",
      "        [ 0.000426, -0.000470],\n",
      "        [ 0.000497,  0.000899],\n",
      "        [ 0.002776, -0.000226]])),\n",
      "                               (   'task2_logits',\n",
      "                                   tensor([[ 0.000482, -0.001070],\n",
      "        [-0.000505, -0.001076],\n",
      "        [ 0.000701, -0.000132],\n",
      "        [-0.000171, -0.001668],\n",
      "        [ 0.000262, -0.000324],\n",
      "        [-0.000923,  0.000983]])),\n",
      "                               (   'task3_logits',\n",
      "                                   tensor([[-3.087851e-03, -8.307507e-04],\n",
      "        [ 1.173737e-03, -5.455576e-04],\n",
      "        [ 2.034111e-04,  1.213794e-03],\n",
      "        [-1.567433e-03,  2.006002e-03],\n",
      "        [-5.546124e-04,  6.461411e-04],\n",
      "        [ 2.584132e-05, -3.491096e-04]])),\n",
      "                               (   'backbone.Input_linear.weight',\n",
      "                                   tensor([[ 0.011877, -0.003479, -0.003222,  ...,  0.005207, -0.016466, -0.015547],\n",
      "        [-0.015472,  0.009346, -0.018358,  ..., -0.018817, -0.010756, -0.000343],\n",
      "        [ 0.012137, -0.016257,  0.011343,  ...,  0.012979, -0.018544,  0.003306],\n",
      "        ...,\n",
      "        [-0.012243, -0.015527,  0.010133,  ...,  0.018429,  0.015107,  0.007935],\n",
      "        [-0.003038,  0.011575,  0.015501,  ..., -0.003206,  0.007815, -0.016358],\n",
      "        [ 0.000226, -0.017647, -0.008884,  ...,  0.001924,  0.006879,  0.012186]])),\n",
      "                               (   'backbone.Input_linear.bias',\n",
      "                                   tensor([0.100000, 0.100000, 0.100000, 0.100000, 0.100000, 0.100000, 0.100000, 0.100000, 0.100000, 0.100000, 0.100000, 0.100000,\n",
      "        0.100000, 0.100000, 0.100000, 0.100000, 0.100000, 0.100000, 0.100000, 0.100000, 0.100000, 0.100000, 0.100000, 0.100000,\n",
      "        0.100000, 0.100000, 0.100000, 0.100000, 0.100000, 0.100000, 0.100000, 0.100000, 0.100000, 0.100000, 0.100000, 0.100000,\n",
      "        0.100000, 0.100000, 0.100000, 0.100000, 0.100000, 0.100000, 0.100000, 0.100000, 0.100000, 0.100000, 0.100000, 0.100000,\n",
      "        0.100000, 0.100000])),\n",
      "                               (   'backbone.blocks.0.0.linear.weight',\n",
      "                                   tensor([[ 0.070083,  0.295764,  0.007544,  ...,  0.212668,  0.326867, -0.094248],\n",
      "        [ 0.282620, -0.202875, -0.020508,  ..., -0.275984,  0.330726, -0.031024],\n",
      "        [ 0.174788, -0.085481,  0.166456,  ...,  0.249244,  0.080852,  0.221105],\n",
      "        ...,\n",
      "        [ 0.120898, -0.311046, -0.228328,  ...,  0.200665, -0.241114, -0.142918],\n",
      "        [ 0.296798,  0.006982,  0.182333,  ...,  0.173949,  0.099857,  0.320347],\n",
      "        [-0.027677, -0.271296,  0.262181,  ...,  0.244533,  0.254750,  0.264827]])),\n",
      "                               (   'backbone.blocks.0.0.linear.bias',\n",
      "                                   tensor([0.100000, 0.100000, 0.100000, 0.100000, 0.100000, 0.100000, 0.100000, 0.100000, 0.100000, 0.100000, 0.100000, 0.100000,\n",
      "        0.100000, 0.100000, 0.100000, 0.100000, 0.100000, 0.100000, 0.100000, 0.100000, 0.100000, 0.100000, 0.100000, 0.100000,\n",
      "        0.100000, 0.100000, 0.100000, 0.100000, 0.100000, 0.100000, 0.100000, 0.100000, 0.100000, 0.100000, 0.100000, 0.100000,\n",
      "        0.100000, 0.100000, 0.100000, 0.100000, 0.100000, 0.100000, 0.100000, 0.100000, 0.100000, 0.100000, 0.100000, 0.100000,\n",
      "        0.100000, 0.100000])),\n",
      "                               (   'backbone.blocks.1.0.linear.weight',\n",
      "                                   tensor([[-0.262710, -0.059907, -0.318869,  ...,  0.094074, -0.123467,  0.220033],\n",
      "        [-0.132702,  0.148725,  0.081642,  ..., -0.047020,  0.340107, -0.054925],\n",
      "        [-0.155770,  0.019683, -0.270133,  ...,  0.112723,  0.239421,  0.045410],\n",
      "        ...,\n",
      "        [ 0.134953,  0.339018,  0.228553,  ..., -0.258702, -0.021538, -0.308228],\n",
      "        [-0.273121, -0.179135,  0.271294,  ..., -0.033256, -0.344136,  0.164898],\n",
      "        [ 0.161579, -0.029544,  0.073345,  ...,  0.094105, -0.186621,  0.180998]])),\n",
      "                               (   'backbone.blocks.1.0.linear.bias',\n",
      "                                   tensor([0.100000, 0.100000, 0.100000, 0.100000, 0.100000, 0.100000, 0.100000, 0.100000, 0.100000, 0.100000, 0.100000, 0.100000,\n",
      "        0.100000, 0.100000, 0.100000, 0.100000, 0.100000, 0.100000, 0.100000, 0.100000, 0.100000, 0.100000, 0.100000, 0.100000,\n",
      "        0.100000, 0.100000, 0.100000, 0.100000, 0.100000, 0.100000, 0.100000, 0.100000, 0.100000, 0.100000, 0.100000, 0.100000,\n",
      "        0.100000, 0.100000, 0.100000, 0.100000, 0.100000, 0.100000, 0.100000, 0.100000, 0.100000, 0.100000, 0.100000, 0.100000,\n",
      "        0.100000, 0.100000])),\n",
      "                               (   'backbone.blocks.2.0.linear.weight',\n",
      "                                   tensor([[ 0.124438, -0.057025,  0.125489,  ...,  0.199924, -0.089486, -0.136742],\n",
      "        [ 0.299533,  0.217293, -0.010629,  ...,  0.041254, -0.265489,  0.274995],\n",
      "        [ 0.324284, -0.024549, -0.074056,  ...,  0.302506, -0.186204,  0.067132],\n",
      "        ...,\n",
      "        [ 0.283617, -0.095315, -0.034831,  ..., -0.083354, -0.011911,  0.226963],\n",
      "        [ 0.029767, -0.199141, -0.143800,  ...,  0.210772,  0.070565,  0.136708],\n",
      "        [-0.297940,  0.069080,  0.134716,  ...,  0.177471, -0.128550,  0.163709]])),\n",
      "                               (   'backbone.blocks.2.0.linear.bias',\n",
      "                                   tensor([0.100000, 0.100000, 0.100000, 0.100000, 0.100000, 0.100000, 0.100000, 0.100000, 0.100000, 0.100000, 0.100000, 0.100000,\n",
      "        0.100000, 0.100000, 0.100000, 0.100000, 0.100000, 0.100000, 0.100000, 0.100000, 0.100000, 0.100000, 0.100000, 0.100000,\n",
      "        0.100000, 0.100000, 0.100000, 0.100000, 0.100000, 0.100000, 0.100000, 0.100000, 0.100000, 0.100000, 0.100000, 0.100000,\n",
      "        0.100000, 0.100000, 0.100000, 0.100000, 0.100000, 0.100000, 0.100000, 0.100000, 0.100000, 0.100000, 0.100000, 0.100000,\n",
      "        0.100000, 0.100000])),\n",
      "                               (   'backbone.blocks.3.0.linear.weight',\n",
      "                                   tensor([[-0.136827, -0.336762, -0.152565,  ..., -0.293125, -0.073244, -0.276273],\n",
      "        [-0.065896,  0.229843,  0.144965,  ..., -0.271245, -0.059682,  0.119686],\n",
      "        [-0.008983, -0.004903,  0.167265,  ..., -0.033209, -0.131518, -0.297970],\n",
      "        ...,\n",
      "        [ 0.254635, -0.154657, -0.001700,  ...,  0.283864,  0.285011, -0.305744],\n",
      "        [ 0.111002, -0.316274, -0.210123,  ..., -0.190702,  0.292608,  0.088679],\n",
      "        [ 0.320975,  0.202720,  0.284592,  ...,  0.254166,  0.092898, -0.119838]])),\n",
      "                               (   'backbone.blocks.3.0.linear.bias',\n",
      "                                   tensor([0.100000, 0.100000, 0.100000, 0.100000, 0.100000, 0.100000, 0.100000, 0.100000, 0.100000, 0.100000, 0.100000, 0.100000,\n",
      "        0.100000, 0.100000, 0.100000, 0.100000, 0.100000, 0.100000, 0.100000, 0.100000, 0.100000, 0.100000, 0.100000, 0.100000,\n",
      "        0.100000, 0.100000, 0.100000, 0.100000, 0.100000, 0.100000, 0.100000, 0.100000, 0.100000, 0.100000, 0.100000, 0.100000,\n",
      "        0.100000, 0.100000, 0.100000, 0.100000, 0.100000, 0.100000, 0.100000, 0.100000, 0.100000, 0.100000, 0.100000, 0.100000,\n",
      "        0.100000, 0.100000])),\n",
      "                               (   'backbone.blocks.4.0.linear.weight',\n",
      "                                   tensor([[-0.237551,  0.168774,  0.344240,  ..., -0.030710,  0.065549,  0.135396],\n",
      "        [-0.190008,  0.323222, -0.295110,  ..., -0.319170,  0.200568,  0.029289],\n",
      "        [ 0.206324,  0.095989, -0.116152,  ...,  0.097544,  0.285436,  0.260790],\n",
      "        ...,\n",
      "        [-0.221269,  0.303044,  0.328936,  ..., -0.287953,  0.280423, -0.162932],\n",
      "        [ 0.326980,  0.221447,  0.174286,  ..., -0.003726,  0.244081,  0.337860],\n",
      "        [ 0.146178, -0.272182,  0.106632,  ..., -0.308803,  0.295727, -0.079188]])),\n",
      "                               (   'backbone.blocks.4.0.linear.bias',\n",
      "                                   tensor([0.100000, 0.100000, 0.100000, 0.100000, 0.100000, 0.100000, 0.100000, 0.100000, 0.100000, 0.100000, 0.100000, 0.100000,\n",
      "        0.100000, 0.100000, 0.100000, 0.100000, 0.100000, 0.100000, 0.100000, 0.100000, 0.100000, 0.100000, 0.100000, 0.100000,\n",
      "        0.100000, 0.100000, 0.100000, 0.100000, 0.100000, 0.100000, 0.100000, 0.100000, 0.100000, 0.100000, 0.100000, 0.100000,\n",
      "        0.100000, 0.100000, 0.100000, 0.100000, 0.100000, 0.100000, 0.100000, 0.100000, 0.100000, 0.100000, 0.100000, 0.100000,\n",
      "        0.100000, 0.100000])),\n",
      "                               (   'backbone.blocks.5.0.linear.weight',\n",
      "                                   tensor([[-0.011502,  0.031681, -0.072106,  ..., -0.145910,  0.143012, -0.319184],\n",
      "        [-0.032186,  0.093586, -0.068248,  ...,  0.324096, -0.007160,  0.005705],\n",
      "        [ 0.293723,  0.313214, -0.081413,  ...,  0.073983, -0.027747, -0.203449],\n",
      "        ...,\n",
      "        [ 0.126407,  0.333879, -0.243354,  ...,  0.012070, -0.167367,  0.052821],\n",
      "        [ 0.119283, -0.253329, -0.294958,  ...,  0.280173,  0.105842, -0.163566],\n",
      "        [-0.039883, -0.235602,  0.082544,  ..., -0.015153,  0.140987, -0.262337]])),\n",
      "                               (   'backbone.blocks.5.0.linear.bias',\n",
      "                                   tensor([0.100000, 0.100000, 0.100000, 0.100000, 0.100000, 0.100000, 0.100000, 0.100000, 0.100000, 0.100000, 0.100000, 0.100000,\n",
      "        0.100000, 0.100000, 0.100000, 0.100000, 0.100000, 0.100000, 0.100000, 0.100000, 0.100000, 0.100000, 0.100000, 0.100000,\n",
      "        0.100000, 0.100000, 0.100000, 0.100000, 0.100000, 0.100000, 0.100000, 0.100000, 0.100000, 0.100000, 0.100000, 0.100000,\n",
      "        0.100000, 0.100000, 0.100000, 0.100000, 0.100000, 0.100000, 0.100000, 0.100000, 0.100000, 0.100000, 0.100000, 0.100000,\n",
      "        0.100000, 0.100000])),\n",
      "                               (   'task1_fc1_c0.linear.weight',\n",
      "                                   tensor([[-3.197714e-02,  1.053948e-01,  5.896002e-02,  1.052323e-04, -9.141210e-02,  1.243433e-01,  1.027332e-01, -1.157296e-01,\n",
      "         -7.121476e-02, -1.004322e-01, -1.343686e-01,  4.183945e-02,  7.712570e-02,  3.769007e-03, -1.090174e-01,  4.758283e-02,\n",
      "         -8.533834e-02,  1.287281e-01,  7.378084e-02, -3.220829e-02,  9.277613e-02, -1.123369e-01,  1.209502e-01, -3.198487e-02,\n",
      "          8.027226e-02,  1.046995e-02, -2.093180e-02, -1.098710e-01, -9.550038e-02, -6.676374e-02, -6.470346e-02,  1.202221e-01,\n",
      "         -1.230852e-01, -1.090669e-01,  1.290290e-01,  5.336641e-02, -9.341054e-02, -7.453608e-02, -2.566522e-02,  2.494561e-02,\n",
      "         -2.121281e-02,  1.242437e-01, -7.189508e-02, -8.810917e-02,  1.974900e-02,  1.377320e-01,  7.272185e-02, -9.168393e-02,\n",
      "         -9.849938e-02, -9.150361e-02],\n",
      "        [-3.644259e-02,  1.211666e-01,  1.939237e-02,  2.328511e-02,  1.302462e-01,  1.332753e-01,  6.871877e-02,  4.503737e-02,\n",
      "         -6.679557e-02, -1.027662e-01,  1.328787e-01,  6.382088e-02, -1.055589e-01, -1.286427e-01,  4.992249e-02, -3.289651e-02,\n",
      "          2.339002e-02, -1.107108e-01,  1.237562e-01,  5.092132e-03,  7.552671e-02,  1.349627e-01, -7.518735e-02,  1.395457e-01,\n",
      "         -1.075729e-01,  6.254742e-02,  8.149178e-03,  7.196238e-02,  1.367026e-01, -6.264671e-02,  9.715433e-02,  6.348760e-02,\n",
      "         -1.862830e-02,  9.170890e-02, -3.634180e-02,  1.064014e-01, -1.030957e-01, -1.073653e-01, -8.347654e-02,  2.475874e-02,\n",
      "         -6.074191e-02, -1.195925e-01,  3.024861e-02, -1.059624e-01,  1.193464e-03, -7.508343e-02, -3.048588e-02,  1.148558e-01,\n",
      "         -1.635131e-02,  3.421269e-02],\n",
      "        [-3.963535e-02, -1.092500e-01,  5.379201e-02,  1.359039e-01, -2.574899e-02,  1.309895e-02,  1.381896e-01, -1.194365e-01,\n",
      "          4.958464e-02, -9.147362e-02,  4.289293e-02,  1.306277e-01, -1.130732e-01, -8.578462e-02,  3.386541e-02,  7.569338e-02,\n",
      "         -1.353384e-01,  5.917728e-02, -9.008719e-02,  3.398277e-02, -1.052502e-01, -1.066874e-01, -1.125124e-01, -7.200516e-02,\n",
      "         -1.167582e-02,  2.041054e-03,  8.633300e-02, -8.896396e-02,  1.203938e-01, -3.819626e-02, -8.402535e-02,  9.449416e-02,\n",
      "          7.608864e-02,  1.219253e-01,  6.035281e-02,  1.178611e-01,  9.044276e-03,  1.344078e-02, -8.259545e-02,  3.700359e-03,\n",
      "          9.896410e-02,  7.563126e-02, -1.941714e-02, -1.388818e-01, -6.475705e-02,  4.488151e-02,  6.921474e-03, -1.342665e-02,\n",
      "          1.336819e-01, -8.198421e-02],\n",
      "        [-1.574001e-02, -3.555217e-02,  2.834360e-02,  5.388353e-02,  8.578149e-03, -8.682165e-02, -7.139847e-02,  2.884785e-02,\n",
      "          1.150206e-02,  1.056201e-01,  3.471449e-02, -6.271337e-02,  1.260643e-01,  4.638660e-02,  5.022353e-03,  1.280759e-01,\n",
      "          1.124192e-01,  1.074097e-01, -1.145620e-01,  3.084504e-02, -5.912839e-02, -4.648005e-03, -1.062064e-01, -9.678153e-02,\n",
      "          1.219195e-02, -3.435535e-02, -9.070287e-02,  1.289463e-02, -4.826479e-02,  5.752246e-02,  1.441842e-02,  3.779365e-02,\n",
      "         -7.937879e-02,  3.487264e-03, -9.189107e-02,  3.836309e-02, -4.826447e-02, -1.366063e-01,  1.393774e-02, -1.046589e-01,\n",
      "          5.781853e-02,  1.887973e-02, -1.308225e-01, -5.434160e-02,  1.246633e-01,  1.086161e-01,  1.051756e-02,  3.030203e-02,\n",
      "         -1.372572e-01, -1.088030e-01],\n",
      "        [ 5.447669e-02,  3.675930e-03, -4.626841e-02, -2.885791e-02, -4.618610e-02,  1.301045e-02, -8.842743e-02, -1.098193e-01,\n",
      "          1.026842e-02,  6.016498e-02,  6.774972e-02, -3.676952e-02,  1.292492e-01, -6.379693e-02, -1.336322e-01, -8.195186e-02,\n",
      "          4.885562e-02, -1.856923e-02,  1.357412e-02,  8.720706e-03, -5.631316e-02, -1.606746e-02,  1.104198e-01,  1.114791e-01,\n",
      "          9.865573e-02, -2.980202e-02,  5.029163e-02,  3.364162e-03, -2.430107e-02, -6.743560e-02, -3.989191e-02,  1.322188e-01,\n",
      "          7.655126e-02, -1.334194e-01,  8.943891e-02, -1.361419e-01, -9.232479e-02,  1.328523e-02,  1.306193e-02,  9.533181e-02,\n",
      "         -3.772087e-02,  2.407566e-02, -1.241092e-01, -1.322974e-01, -3.347578e-02,  7.905734e-02,  1.286716e-01, -4.828527e-02,\n",
      "          1.647374e-02, -9.043834e-02]])),\n",
      "                               (   'task1_fc1_c0.linear.bias',\n",
      "                                   tensor([-0.006670,  0.089440,  0.129995,  0.097807, -0.127006])),\n",
      "                               (   'task2_fc1_c0.linear.weight',\n",
      "                                   tensor([[ 0.119821,  0.023089, -0.084288, -0.118884, -0.063549,  0.120820,  0.100246,  0.136902,  0.028708, -0.037786, -0.095133,\n",
      "          0.134228, -0.013382, -0.111075,  0.010022, -0.029068,  0.087903, -0.069343,  0.051942,  0.103524,  0.090567, -0.063112,\n",
      "          0.103373, -0.017096,  0.110879, -0.078980, -0.097232,  0.056133, -0.058492, -0.062724,  0.064087, -0.002996, -0.051346,\n",
      "         -0.129739, -0.023535, -0.113548, -0.128162,  0.063519,  0.004721, -0.088711,  0.127904,  0.075021, -0.141378, -0.005961,\n",
      "         -0.127315,  0.128697,  0.133419, -0.013490, -0.062236,  0.054499],\n",
      "        [-0.019735, -0.140760,  0.085444,  0.070673,  0.001566, -0.096185,  0.066916,  0.098080,  0.029130, -0.115595, -0.027964,\n",
      "         -0.080664,  0.130167,  0.083018, -0.029475, -0.114825,  0.125248, -0.128081, -0.079910, -0.037986, -0.063971,  0.022634,\n",
      "         -0.002564, -0.132980,  0.050354, -0.050210, -0.110787,  0.005346, -0.055693, -0.130360, -0.095461,  0.054182,  0.106069,\n",
      "         -0.134779,  0.113409, -0.109642,  0.118557,  0.110405, -0.011946, -0.122023, -0.007370, -0.059529,  0.041958, -0.034991,\n",
      "          0.099820,  0.004331,  0.121166,  0.077173,  0.031076,  0.013932],\n",
      "        [ 0.077829,  0.004426, -0.122747, -0.043009, -0.087351,  0.036547, -0.107955, -0.085494, -0.045310, -0.015092, -0.019086,\n",
      "          0.049593,  0.018235,  0.056153, -0.083031,  0.004852, -0.064778, -0.075437, -0.030070, -0.126022,  0.062187,  0.038593,\n",
      "         -0.124638, -0.134356,  0.016503, -0.087666,  0.130973, -0.100207,  0.127379, -0.097512,  0.108835, -0.002832, -0.138472,\n",
      "         -0.045478,  0.133336,  0.055231, -0.078719,  0.035910, -0.004125,  0.016659, -0.131835, -0.138777, -0.013123,  0.036503,\n",
      "         -0.037925, -0.017064, -0.020002, -0.101055,  0.105964, -0.008565],\n",
      "        [ 0.102767,  0.052064,  0.090498, -0.079675,  0.130660,  0.058627,  0.006198, -0.055439, -0.039264,  0.043892, -0.025229,\n",
      "         -0.128758,  0.098006,  0.044415, -0.108409,  0.068190, -0.068370,  0.105285,  0.072321, -0.102453,  0.043429, -0.027178,\n",
      "         -0.114536,  0.069062,  0.041782,  0.126015,  0.005002,  0.137652,  0.135242, -0.090155, -0.053506,  0.012871,  0.002981,\n",
      "         -0.115751,  0.121751,  0.061266, -0.053321, -0.129133, -0.062741, -0.039369,  0.044951,  0.105567,  0.116105,  0.127594,\n",
      "          0.079200, -0.115609, -0.132011,  0.084890, -0.040175, -0.103059],\n",
      "        [-0.070919,  0.102750,  0.128607, -0.049538, -0.007769,  0.109544,  0.136918, -0.050819, -0.065790, -0.108721, -0.127523,\n",
      "         -0.063593,  0.047422,  0.022001, -0.100839, -0.072999, -0.015976,  0.022227, -0.081068, -0.139359,  0.049071, -0.066154,\n",
      "         -0.077901,  0.096593,  0.037769,  0.014259,  0.028433, -0.117100,  0.042493, -0.088432, -0.003588,  0.064358, -0.007141,\n",
      "         -0.089107,  0.094068,  0.139006,  0.071067, -0.104510, -0.121440, -0.083192, -0.031573, -0.038007, -0.132647, -0.022424,\n",
      "          0.075271,  0.000923,  0.063163,  0.113811, -0.097645, -0.139000]])),\n",
      "                               (   'task2_fc1_c0.linear.bias',\n",
      "                                   tensor([-0.090995,  0.049215, -0.055856,  0.043955,  0.127098])),\n",
      "                               (   'task3_fc1_c0.linear.weight',\n",
      "                                   tensor([[ 6.463658e-02, -1.211976e-01,  8.581772e-02, -4.526971e-02, -3.337626e-03, -1.246453e-01, -5.946416e-02,  1.341118e-01,\n",
      "          9.303037e-02, -1.177442e-01, -2.938558e-02, -1.205174e-01,  1.349941e-01, -1.158899e-01,  1.608939e-02, -7.452602e-02,\n",
      "          7.766051e-02, -1.288702e-01, -2.672495e-02,  5.277603e-02,  1.255317e-01, -8.718218e-02,  3.750151e-02,  7.223915e-02,\n",
      "          3.523129e-02,  1.362326e-01, -3.400880e-02, -1.082424e-01,  8.015862e-02,  9.019591e-02,  9.881717e-03, -1.014569e-01,\n",
      "          1.220065e-01,  1.059581e-01,  5.046839e-02,  3.686838e-04,  3.868319e-02, -6.209657e-02,  1.895516e-02, -8.982158e-02,\n",
      "         -1.862840e-03,  7.600362e-02,  1.111318e-01, -1.214815e-01, -7.389516e-02,  5.484300e-03, -7.519741e-02,  1.717713e-02,\n",
      "          7.336887e-02, -8.255130e-02],\n",
      "        [ 3.790964e-02,  1.173748e-01,  9.120443e-02,  6.534415e-02, -7.979997e-02, -7.977723e-02, -1.087723e-01, -1.050619e-01,\n",
      "          8.900169e-02, -8.795112e-02, -4.027507e-02,  1.087542e-01, -1.005680e-01, -1.603871e-02, -5.512103e-02,  6.959743e-03,\n",
      "         -8.919647e-02, -1.202932e-01, -6.285916e-02, -5.450274e-02, -8.784463e-02,  6.381741e-02, -5.573864e-02, -7.991432e-02,\n",
      "          2.514387e-02,  5.352141e-02,  6.105421e-02, -1.090888e-01, -1.322520e-01,  1.411462e-01,  3.879845e-02,  9.781665e-02,\n",
      "          1.142904e-01,  6.176368e-03,  2.964345e-02, -7.699623e-03, -1.289898e-01,  1.170556e-01,  9.261437e-02, -1.366277e-01,\n",
      "          1.413072e-01,  1.181761e-01, -1.171319e-01, -9.095705e-02,  1.176098e-01,  3.471206e-02,  9.855990e-02, -1.330232e-01,\n",
      "         -3.539211e-02,  8.966473e-02],\n",
      "        [-1.052857e-01,  7.432673e-02, -2.330802e-02, -1.374264e-01, -5.128916e-02,  1.040100e-01, -4.426515e-03, -7.676729e-03,\n",
      "         -6.822626e-02,  4.853682e-02,  1.206556e-01, -8.258672e-02,  3.611607e-02, -6.503788e-02,  6.757477e-02,  9.385874e-02,\n",
      "          1.348821e-01, -5.746367e-02,  3.883332e-02, -5.209789e-03,  4.831610e-02,  2.823483e-02,  1.034752e-01,  9.131870e-02,\n",
      "          8.817286e-02, -4.451070e-02, -1.402274e-01,  5.968503e-02,  7.339400e-02,  1.068010e-01, -7.571135e-02, -1.087688e-01,\n",
      "         -9.221731e-06,  2.923479e-02, -4.883173e-02,  1.339428e-01,  5.600372e-02, -6.247493e-02,  1.292910e-01,  6.462055e-02,\n",
      "         -1.648370e-02,  1.386112e-01,  8.625805e-02, -8.253881e-02,  8.459052e-02, -9.800112e-02,  1.074871e-01, -1.510769e-02,\n",
      "         -2.389034e-02,  8.642729e-02],\n",
      "        [-2.361392e-02, -8.961095e-02,  1.386609e-02, -3.206507e-02, -7.492013e-02,  8.737379e-04, -1.037581e-02, -5.897838e-02,\n",
      "          5.320512e-02, -1.293851e-01,  1.117666e-01,  2.988618e-02,  4.985672e-02, -8.181778e-02, -7.256042e-02, -1.292501e-02,\n",
      "          1.829613e-02,  3.050154e-02, -8.928289e-02, -9.996683e-02, -1.116625e-01, -5.788971e-02,  5.895520e-02,  6.132353e-02,\n",
      "         -1.323122e-01,  1.226201e-01, -5.278935e-02,  5.842319e-02, -6.288619e-02,  6.721583e-02, -1.003063e-01, -1.598301e-02,\n",
      "         -1.365057e-01, -2.488219e-02, -3.534283e-02, -1.804910e-02,  2.693297e-02,  1.509923e-02, -5.833161e-02, -9.447234e-03,\n",
      "         -8.101240e-02, -1.094703e-01,  1.163015e-01,  1.065121e-01,  1.007128e-02,  4.910214e-02,  3.400224e-02, -7.896003e-02,\n",
      "          8.222176e-04, -1.349928e-01],\n",
      "        [-1.258565e-01,  1.167193e-01, -1.155948e-01, -2.781380e-02, -2.927980e-02,  1.044283e-01, -1.226837e-01, -9.649162e-02,\n",
      "          5.664876e-02,  1.104791e-01, -7.188348e-03,  1.265452e-01,  1.121863e-02,  8.350167e-03, -1.210640e-01,  1.507448e-02,\n",
      "          9.572662e-03, -1.389331e-01,  1.283768e-01, -1.232460e-01, -7.064997e-02, -1.241287e-02, -3.888106e-02, -1.158906e-01,\n",
      "          1.322256e-01,  2.815939e-02,  1.261662e-01, -3.804163e-02, -3.214112e-02, -4.466892e-04, -8.102848e-02,  1.187149e-01,\n",
      "         -9.809957e-02, -4.665338e-02, -3.772479e-02, -8.410847e-02,  7.369638e-02,  7.898094e-02, -5.189370e-02,  1.261017e-01,\n",
      "         -7.951256e-04,  1.209631e-01,  1.613550e-04,  2.411599e-02,  5.506526e-02,  6.157817e-02,  1.037118e-01,  2.868794e-02,\n",
      "         -4.825695e-02,  7.737290e-02]])),\n",
      "                               (   'task3_fc1_c0.linear.bias',\n",
      "                                   tensor([-0.096360,  0.078072,  0.019686,  0.016263, -0.076240]))]),\n",
      "    'temp': 4,\n",
      "    'weights': {   'param_groups': [   {   'amsgrad': False,\n",
      "                                           'betas': (0.5, 0.999),\n",
      "                                           'eps': 1e-08,\n",
      "                                           'initial_lr': 0.001,\n",
      "                                           'lr': 0.001,\n",
      "                                           'params': [0, 1, 2, 3, 4, 5],\n",
      "                                           'weight_decay': 0.0001},\n",
      "                                       {   'amsgrad': False,\n",
      "                                           'betas': (0.5, 0.999),\n",
      "                                           'eps': 1e-08,\n",
      "                                           'initial_lr': 0.001,\n",
      "                                           'lr': 0.001,\n",
      "                                           'params': [   6,\n",
      "                                                         7,\n",
      "                                                         8,\n",
      "                                                         9,\n",
      "                                                         10,\n",
      "                                                         11,\n",
      "                                                         12,\n",
      "                                                         13,\n",
      "                                                         14,\n",
      "                                                         15,\n",
      "                                                         16,\n",
      "                                                         17,\n",
      "                                                         18,\n",
      "                                                         19],\n",
      "                                           'weight_decay': 0.0001}],\n",
      "                   'state': {}}}\n"
     ]
    }
   ],
   "source": [
    "pp.pprint(p)"
   ]
  },
  {
   "cell_type": "markdown",
   "id": "77aedfc8",
   "metadata": {},
   "source": [
    "### Post Warm-up Training stuff"
   ]
  },
  {
   "cell_type": "code",
   "execution_count": 15,
   "id": "e7fb765e",
   "metadata": {
    "ExecuteTime": {
     "end_time": "2022-02-01T12:45:43.999959Z",
     "start_time": "2022-02-01T12:45:43.862475Z"
    }
   },
   "outputs": [
    {
     "name": "stdout",
     "output_type": "stream",
     "text": [
      "{   'aggregated': {   'auc_pr': 0.5683542231355692,\n",
      "                      'avg_prec_score': 0.5686955149511226,\n",
      "                      'bceloss': 0.6940069357554117,\n",
      "                      'f1_max': 0.6753742658177068,\n",
      "                      'kappa': 0.08318090860174578,\n",
      "                      'kappa_max': 0.11385237142207795,\n",
      "                      'logloss': tensor(0.0002, device='cuda:0', dtype=torch.float64),\n",
      "                      'p_f1_max': 0.29707588851451877,\n",
      "                      'p_kappa_max': 0.48534467220306404,\n",
      "                      'roc_auc_score': 0.5679242272843051,\n",
      "                      'sc_loss': tensor(0.2891, device='cuda:0', dtype=torch.float64)},\n",
      "    'epoch': 1,\n",
      "    'loss': {   'task1': 3.5098743182605396,\n",
      "                'task2': 3.4508372449718867,\n",
      "                'task3': 3.4480013587242775,\n",
      "                'total': 10.408712921956704},\n",
      "    'loss_mean': {   'task1': 0.701974863652108,\n",
      "                     'task2': 0.6901674489943774,\n",
      "                     'task3': 0.6896002717448555,\n",
      "                     'total': 2.081742584391341},\n",
      "    'sharing': {'total': 0.0},\n",
      "    'sparsity': {   'task1': 0.006931469672256046,\n",
      "                    'task2': 0.006931469672256046,\n",
      "                    'task3': 0.006931469672256046,\n",
      "                    'total': 0.02079441025853157},\n",
      "    'task1': {   'classification':       roc_auc_score    auc_pr  avg_prec_score    f1_max  p_f1_max     kappa  kappa_max  p_kappa_max   bceloss\n",
      "task                                                                                                         \n",
      "0          0.481316  0.429663        0.430056  0.621828  0.471980  0.007806   0.011740     0.501525  0.711726\n",
      "1          0.614529  0.563585        0.563966  0.592718  0.274593  0.163883   0.197754     0.467472  0.666188\n",
      "2          0.522325  0.502621        0.502973  0.674570  0.496948  0.023925   0.051563     0.584286  0.737475\n",
      "3          0.604399  0.573962        0.574392  0.654175  0.170357  0.120525   0.155403     0.545623  0.686908\n",
      "4          0.547591  0.537607        0.537968  0.682173  0.107585  0.035985   0.094520     0.418316  0.706954,\n",
      "                 'classification_agg': {   'auc_pr': 0.5214877235862244,\n",
      "                                           'avg_prec_score': 0.5218710163685921,\n",
      "                                           'bceloss': 0.701850187778473,\n",
      "                                           'f1_max': 0.6450929564660765,\n",
      "                                           'kappa': 0.07042502365080995,\n",
      "                                           'kappa_max': 0.10219606455150174,\n",
      "                                           'logloss': 0.005540691754324903,\n",
      "                                           'p_f1_max': 0.30429269671440123,\n",
      "                                           'p_kappa_max': 0.5034442186355592,\n",
      "                                           'roc_auc_score': 0.55403197977543,\n",
      "                                           'sc_loss': 3.5098743182605396}},\n",
      "    'task2': {   'classification':       roc_auc_score    auc_pr  avg_prec_score    f1_max  p_f1_max     kappa  kappa_max  p_kappa_max   bceloss\n",
      "task                                                                                                         \n",
      "0          0.534265  0.559859        0.560165  0.693035  0.218099  0.060112   0.080040     0.485316  0.695036\n",
      "1          0.530896  0.552645        0.553118  0.693306  0.425663  0.026862   0.048743     0.510863  0.689872\n",
      "2          0.576279  0.542077        0.542489  0.661162  0.428496  0.099542   0.110405     0.489080  0.690190\n",
      "3          0.570442  0.599299        0.599621  0.687941  0.390608  0.066299   0.108004     0.535856  0.683957\n",
      "4          0.573253  0.563653        0.563954  0.670703  0.355411  0.064108   0.122336     0.415524  0.693014,\n",
      "                 'classification_agg': {   'auc_pr': 0.5635064814369257,\n",
      "                                           'avg_prec_score': 0.5638693726843218,\n",
      "                                           'bceloss': 0.6904138207435608,\n",
      "                                           'f1_max': 0.68122964433069,\n",
      "                                           'kappa': 0.06338457615584966,\n",
      "                                           'kappa_max': 0.09390563833389994,\n",
      "                                           'logloss': 0.005447495760534441,\n",
      "                                           'p_f1_max': 0.36365539729595187,\n",
      "                                           'p_kappa_max': 0.48732774853706357,\n",
      "                                           'roc_auc_score': 0.5570268805789104,\n",
      "                                           'sc_loss': 3.4508372449718867}},\n",
      "    'task3': {   'classification':       roc_auc_score    auc_pr  avg_prec_score    f1_max  p_f1_max     kappa  kappa_max  p_kappa_max   bceloss\n",
      "task                                                                                                         \n",
      "0          0.614326  0.669207        0.669500  0.741408  0.294902  0.156246   0.192341     0.449188  0.678097\n",
      "1          0.622672  0.643428        0.643670  0.700539  0.259311  0.175533   0.185877     0.495724  0.678892\n",
      "2          0.599966  0.585534        0.585907  0.656115  0.252795  0.146259   0.153308     0.452810  0.678784\n",
      "3          0.565999  0.629145        0.629346  0.716296  0.062077  0.041028   0.092855     0.403423  0.724491\n",
      "4          0.560606  0.573028        0.573308  0.684643  0.247313  0.059600   0.102897     0.525165  0.688519,\n",
      "                 'classification_agg': {   'auc_pr': 0.6200684643835576,\n",
      "                                           'avg_prec_score': 0.6203461558004543,\n",
      "                                           'bceloss': 0.6897567987442017,\n",
      "                                           'f1_max': 0.699800196656354,\n",
      "                                           'kappa': 0.11573312599857777,\n",
      "                                           'kappa_max': 0.1454554113808322,\n",
      "                                           'logloss': 0.005443019027146415,\n",
      "                                           'p_f1_max': 0.22327957153320316,\n",
      "                                           'p_kappa_max': 0.4652620494365692,\n",
      "                                           'roc_auc_score': 0.5927138214985748,\n",
      "                                           'sc_loss': 3.4480013587242775}},\n",
      "    'train_time': 17.335111618041992}\n"
     ]
    }
   ],
   "source": [
    "pp.pprint(environ.val_metrics)"
   ]
  },
  {
   "cell_type": "code",
   "execution_count": 16,
   "id": "9d81b9d3",
   "metadata": {
    "ExecuteTime": {
     "end_time": "2022-02-01T12:46:36.700361Z",
     "start_time": "2022-02-01T12:46:36.367037Z"
    }
   },
   "outputs": [
    {
     "data": {
      "text/plain": [
       "[Parameter containing:\n",
       " tensor([[0.5000, 0.5000],\n",
       "         [0.5000, 0.5000],\n",
       "         [0.5000, 0.5000]], device='cuda:0'),\n",
       " Parameter containing:\n",
       " tensor([[0.5000, 0.5000],\n",
       "         [0.5000, 0.5000],\n",
       "         [0.5000, 0.5000]], device='cuda:0'),\n",
       " Parameter containing:\n",
       " tensor([[0.5000, 0.5000],\n",
       "         [0.5000, 0.5000],\n",
       "         [0.5000, 0.5000]], device='cuda:0')]"
      ]
     },
     "execution_count": 16,
     "metadata": {},
     "output_type": "execute_result"
    }
   ],
   "source": [
    "environ.networks['mtl-net'].arch_parameters()"
   ]
  },
  {
   "cell_type": "code",
   "execution_count": 31,
   "id": "16997489",
   "metadata": {
    "ExecuteTime": {
     "end_time": "2022-01-28T16:37:10.158440Z",
     "start_time": "2022-01-28T16:37:09.742327Z"
    }
   },
   "outputs": [
    {
     "name": "stdout",
     "output_type": "stream",
     "text": [
      "([tensor([[1, 0],\n",
      "        [0, 1],\n",
      "        [1, 0],\n",
      "        [1, 0],\n",
      "        [0, 1],\n",
      "        [0, 1]], device='cuda:0'), tensor([[0, 1],\n",
      "        [1, 0],\n",
      "        [1, 0],\n",
      "        [1, 0],\n",
      "        [1, 0],\n",
      "        [0, 1]], device='cuda:0'), tensor([[1, 0],\n",
      "        [1, 0],\n",
      "        [0, 1],\n",
      "        [1, 0],\n",
      "        [1, 0],\n",
      "        [0, 1]], device='cuda:0')], [array([[0.5, 0.5],\n",
      "       [0.5, 0.5],\n",
      "       [0.5, 0.5],\n",
      "       [0.5, 0.5],\n",
      "       [0.5, 0.5],\n",
      "       [0.5, 0.5]], dtype=float32), array([[0.5, 0.5],\n",
      "       [0.5, 0.5],\n",
      "       [0.5, 0.5],\n",
      "       [0.5, 0.5],\n",
      "       [0.5, 0.5],\n",
      "       [0.5, 0.5]], dtype=float32), array([[0.5, 0.5],\n",
      "       [0.5, 0.5],\n",
      "       [0.5, 0.5],\n",
      "       [0.5, 0.5],\n",
      "       [0.5, 0.5],\n",
      "       [0.5, 0.5]], dtype=float32)])\n",
      "[array([[0.5, 0.5],\n",
      "       [0.5, 0.5],\n",
      "       [0.5, 0.5],\n",
      "       [0.5, 0.5],\n",
      "       [0.5, 0.5],\n",
      "       [0.5, 0.5]], dtype=float32), array([[0.5, 0.5],\n",
      "       [0.5, 0.5],\n",
      "       [0.5, 0.5],\n",
      "       [0.5, 0.5],\n",
      "       [0.5, 0.5],\n",
      "       [0.5, 0.5]], dtype=float32), array([[0.5, 0.5],\n",
      "       [0.5, 0.5],\n",
      "       [0.5, 0.5],\n",
      "       [0.5, 0.5],\n",
      "       [0.5, 0.5],\n",
      "       [0.5, 0.5]], dtype=float32)]\n",
      "[array([[0.5, 0.5],\n",
      "       [0.5, 0.5],\n",
      "       [0.5, 0.5],\n",
      "       [0.5, 0.5],\n",
      "       [0.5, 0.5],\n",
      "       [0.5, 0.5]], dtype=float32), array([[0.5, 0.5],\n",
      "       [0.5, 0.5],\n",
      "       [0.5, 0.5],\n",
      "       [0.5, 0.5],\n",
      "       [0.5, 0.5],\n",
      "       [0.5, 0.5]], dtype=float32), array([[0.5, 0.5],\n",
      "       [0.5, 0.5],\n",
      "       [0.5, 0.5],\n",
      "       [0.5, 0.5],\n",
      "       [0.5, 0.5],\n",
      "       [0.5, 0.5]], dtype=float32)]\n"
     ]
    }
   ],
   "source": [
    "p = environ.get_sample_policy(hard_sampling = False)\n",
    "print(p)\n",
    "p = environ.get_policy_prob()\n",
    "print(p)\n",
    "p = environ.get_policy_logits()\n",
    "print(p)\n",
    "\n",
    "# p = environ.get_current_policy()\n",
    "# print(p)"
   ]
  },
  {
   "cell_type": "code",
   "execution_count": 42,
   "id": "90d02d9c",
   "metadata": {
    "ExecuteTime": {
     "end_time": "2022-01-28T16:40:37.799917Z",
     "start_time": "2022-01-28T16:40:37.773177Z"
    }
   },
   "outputs": [
    {
     "name": "stdout",
     "output_type": "stream",
     "text": [
      "[0.26894142 0.73105858]\n",
      "1\n"
     ]
    }
   ],
   "source": [
    "a = softmax([0.0, 1])\n",
    "print(a)\n",
    "sampled = np.random.choice((1, 0), p=a)\n",
    "print(sampled)"
   ]
  },
  {
   "cell_type": "code",
   "execution_count": 20,
   "id": "9af0e3ea",
   "metadata": {
    "ExecuteTime": {
     "end_time": "2022-01-28T16:13:16.205889Z",
     "start_time": "2022-01-28T16:13:16.179303Z"
    }
   },
   "outputs": [
    {
     "name": "stdout",
     "output_type": "stream",
     "text": [
      "Adam (\n",
      "Parameter Group 0\n",
      "    amsgrad: False\n",
      "    betas: (0.5, 0.999)\n",
      "    eps: 1e-08\n",
      "    initial_lr: 0.01\n",
      "    lr: 0.01\n",
      "    weight_decay: 0.0001\n",
      "\n",
      "Parameter Group 1\n",
      "    amsgrad: False\n",
      "    betas: (0.5, 0.999)\n",
      "    eps: 1e-08\n",
      "    initial_lr: 0.01\n",
      "    lr: 0.01\n",
      "    weight_decay: 0.0001\n",
      ")\n",
      "[0.01, 0.01]\n"
     ]
    }
   ],
   "source": [
    "print(environ.optimizers['weights'])\n",
    "print(environ.schedulers['weights'].get_last_lr())"
   ]
  },
  {
   "cell_type": "code",
   "execution_count": 17,
   "id": "388df0c5",
   "metadata": {
    "ExecuteTime": {
     "end_time": "2022-02-01T12:46:50.411465Z",
     "start_time": "2022-02-01T12:46:50.020540Z"
    },
    "scrolled": false
   },
   "outputs": [
    {
     "name": "stdout",
     "output_type": "stream",
     "text": [
      "losses.keys      :  dict_keys(['parms', 'losses', 'losses_mean', 'sparsity', 'sharing', 'total', 'total_mean', 'task1', 'task2', 'task3'])\n",
      "losses[task]keys :  dict_keys(['cls_loss', 'cls_loss_mean'])\n",
      "{   'losses': {   'task1': tensor(3.5704, device='cuda:0', dtype=torch.float64),\n",
      "                  'task2': tensor(3.3313, device='cuda:0', dtype=torch.float64),\n",
      "                  'task3': tensor(3.3721, device='cuda:0', dtype=torch.float64),\n",
      "                  'total': tensor(10.2737, device='cuda:0', dtype=torch.float64)},\n",
      "    'losses_mean': {   'task1': tensor(0.7141, device='cuda:0', dtype=torch.float64),\n",
      "                       'task2': tensor(0.6663, device='cuda:0', dtype=torch.float64),\n",
      "                       'task3': tensor(0.6744, device='cuda:0', dtype=torch.float64),\n",
      "                       'total': tensor(2.0547, device='cuda:0', dtype=torch.float64)},\n",
      "    'parms': {'gumbel_temp': 5, 'lr_0': 0.01, 'lr_1': 0.01, 'train_layers': 0},\n",
      "    'sharing': {'total': tensor(0., device='cuda:0')},\n",
      "    'sparsity': {   'task1_logits': tensor(0.0069, device='cuda:0'),\n",
      "                    'task2_logits': tensor(0.0069, device='cuda:0'),\n",
      "                    'task3_logits': tensor(0.0069, device='cuda:0'),\n",
      "                    'total': tensor(0.0208, device='cuda:0')},\n",
      "    'task1': {   'cls_loss': tensor(3.5704, device='cuda:0', dtype=torch.float64),\n",
      "                 'cls_loss_mean': tensor(0.7141, device='cuda:0', dtype=torch.float64)},\n",
      "    'task2': {   'cls_loss': tensor(3.3313, device='cuda:0', dtype=torch.float64),\n",
      "                 'cls_loss_mean': tensor(0.6663, device='cuda:0', dtype=torch.float64)},\n",
      "    'task3': {   'cls_loss': tensor(3.3721, device='cuda:0', dtype=torch.float64),\n",
      "                 'cls_loss_mean': tensor(0.6744, device='cuda:0', dtype=torch.float64)},\n",
      "    'total': {},\n",
      "    'total_mean': {}}\n"
     ]
    }
   ],
   "source": [
    "print('losses.keys      : ', environ.losses.keys())\n",
    "print('losses[task]keys : ', environ.losses['task1'].keys())\n",
    "pp.pprint(environ.losses)"
   ]
  },
  {
   "cell_type": "code",
   "execution_count": 20,
   "id": "c7f4b449",
   "metadata": {
    "ExecuteTime": {
     "end_time": "2022-01-15T22:57:02.151169Z",
     "start_time": "2022-01-15T22:57:02.056562Z"
    },
    "execution": {
     "iopub.execute_input": "2022-01-07T22:49:07.606120Z",
     "iopub.status.busy": "2022-01-07T22:49:07.604909Z",
     "iopub.status.idle": "2022-01-07T22:49:08.025886Z",
     "shell.execute_reply": "2022-01-07T22:49:08.024798Z",
     "shell.execute_reply.started": "2022-01-07T22:49:07.606065Z"
    },
    "scrolled": false
   },
   "outputs": [
    {
     "name": "stdout",
     "output_type": "stream",
     "text": [
      "dict_keys(['loss', 'loss_mean', 'task1', 'task2', 'task3', 'aggregated', 'train_time', 'epoch'])\n",
      "<class 'dict'>\n",
      "\n",
      "<class 'dict'>\n",
      "\n",
      "{   'aggregated': {   'auc_pr': 0.8163426647572675,\n",
      "                      'avg_prec_score': 0.8164138615123665,\n",
      "                      'bceloss': 0.7729340473810831,\n",
      "                      'f1_max': 0.7574111413660235,\n",
      "                      'kappa': 0.4593877004350045,\n",
      "                      'kappa_max': 0.4722816344851592,\n",
      "                      'logloss': tensor(0.0002, device='cuda:0', dtype=torch.float64),\n",
      "                      'p_f1_max': 0.1918067594369252,\n",
      "                      'p_kappa_max': 0.545021508137385,\n",
      "                      'roc_auc_score': 0.8101998985724014,\n",
      "                      'sc_loss': tensor(0.3217, device='cuda:0', dtype=torch.float64)},\n",
      "    'epoch': 4000,\n",
      "    'loss': {   'task1': 3.990690022259455,\n",
      "                'task2': 3.7726694706664947,\n",
      "                'task3': 3.817710672775008,\n",
      "                'total': 11.581070165700957},\n",
      "    'loss_mean': {   'task1': 0.7981380044518911,\n",
      "                     'task2': 0.7545338941332989,\n",
      "                     'task3': 0.7635421345550015,\n",
      "                     'total': 2.316214033140191},\n",
      "    'task1': {   'classification':       roc_auc_score    auc_pr  avg_prec_score    f1_max  p_f1_max     kappa  \\\n",
      "task                                                                          \n",
      "0          0.840926  0.819320        0.819383  0.744605  0.188466  0.505203   \n",
      "1          0.817256  0.785624        0.785697  0.706325  0.234966  0.461667   \n",
      "2          0.821726  0.819394        0.819462  0.768309  0.103616  0.482997   \n",
      "3          0.772370  0.766114        0.766202  0.713072  0.197119  0.414875   \n",
      "4          0.785095  0.803825        0.803897  0.735945  0.241081  0.416901   \n",
      "\n",
      "      kappa_max  p_kappa_max   bceloss  \n",
      "task                                    \n",
      "0      0.524762     0.693089  0.702767  \n",
      "1      0.474705     0.729373  0.757761  \n",
      "2      0.496770     0.312012  0.779951  \n",
      "3      0.423936     0.581922  0.935489  \n",
      "4      0.427422     0.811243  0.819495  ,\n",
      "                 'classification_agg': {   'auc_pr': 0.798855508429197,\n",
      "                                           'avg_prec_score': 0.7989281568935325,\n",
      "                                           'bceloss': 0.799092447757721,\n",
      "                                           'f1_max': 0.7336512000971758,\n",
      "                                           'kappa': 0.4563288316147501,\n",
      "                                           'kappa_max': 0.46951913050242283,\n",
      "                                           'logloss': 0.006299707993919771,\n",
      "                                           'p_f1_max': 0.19304971992969516,\n",
      "                                           'p_kappa_max': 0.6255278527736664,\n",
      "                                           'roc_auc_score': 0.807474721566956,\n",
      "                                           'sc_loss': 3.990690022259455}},\n",
      "    'task2': {   'classification':       roc_auc_score    auc_pr  avg_prec_score    f1_max  p_f1_max     kappa  \\\n",
      "task                                                                          \n",
      "0          0.833828  0.843551        0.843636  0.786776  0.286642  0.512757   \n",
      "1          0.784282  0.798552        0.798620  0.756201  0.065474  0.405454   \n",
      "2          0.794011  0.798233        0.798299  0.733455  0.167343  0.431454   \n",
      "3          0.839064  0.860586        0.860625  0.781065  0.199097  0.508344   \n",
      "4          0.841909  0.844915        0.844966  0.774130  0.124443  0.519265   \n",
      "\n",
      "      kappa_max  p_kappa_max   bceloss  \n",
      "task                                    \n",
      "0      0.518114     0.426390  0.753670  \n",
      "1      0.422608     0.354472  0.840536  \n",
      "2      0.436441     0.481076  0.776165  \n",
      "3      0.518856     0.430450  0.718333  \n",
      "4      0.526225     0.478729  0.695051  ,\n",
      "                 'classification_agg': {   'auc_pr': 0.8291675538480338,\n",
      "                                           'avg_prec_score': 0.8292292868467086,\n",
      "                                           'bceloss': 0.7567508101463318,\n",
      "                                           'f1_max': 0.7663254180716083,\n",
      "                                           'kappa': 0.4754547147763093,\n",
      "                                           'kappa_max': 0.48444883865167504,\n",
      "                                           'logloss': 0.005955540493049498,\n",
      "                                           'p_f1_max': 0.16859976947307587,\n",
      "                                           'p_kappa_max': 0.4342232346534729,\n",
      "                                           'roc_auc_score': 0.8186188467896192,\n",
      "                                           'sc_loss': 3.7726694706664947}},\n",
      "    'task3': {   'classification':       roc_auc_score    auc_pr  avg_prec_score    f1_max  p_f1_max     kappa  \\\n",
      "task                                                                          \n",
      "0          0.789143  0.818832        0.818915  0.795256  0.131201  0.430588   \n",
      "1          0.773360  0.795295        0.795367  0.746918  0.344915  0.380806   \n",
      "2          0.863028  0.864169        0.864209  0.780428  0.294887  0.545351   \n",
      "3          0.807607  0.821005        0.821136  0.791405  0.165901  0.457213   \n",
      "4          0.789393  0.805724        0.805793  0.747277  0.131950  0.417939   \n",
      "\n",
      "      kappa_max  p_kappa_max   bceloss  \n",
      "task                                    \n",
      "0      0.437650     0.549203  0.781711  \n",
      "1      0.414754     0.814326  0.928911  \n",
      "2      0.565829     0.637907  0.605613  \n",
      "3      0.469116     0.303002  0.703193  \n",
      "4      0.427037     0.572130  0.795366  ,\n",
      "                 'classification_agg': {   'auc_pr': 0.8210049319945718,\n",
      "                                           'avg_prec_score': 0.8210841407968588,\n",
      "                                           'bceloss': 0.7629588842391969,\n",
      "                                           'f1_max': 0.7722568059292869,\n",
      "                                           'kappa': 0.4463795549139541,\n",
      "                                           'kappa_max': 0.46287693430137955,\n",
      "                                           'logloss': 0.006026642588024569,\n",
      "                                           'p_f1_max': 0.21377078890800477,\n",
      "                                           'p_kappa_max': 0.5753134369850159,\n",
      "                                           'roc_auc_score': 0.8045061273606293,\n",
      "                                           'sc_loss': 3.817710672775008}},\n",
      "    'train_time': 47.46593999862671}\n"
     ]
    }
   ],
   "source": [
    "print( environ.val_metrics.keys())\n",
    "# pp.pprint(val_metrics)\n",
    "print(type(environ.val_metrics['aggregated']))\n",
    "print()\n",
    "print(type(environ.val_metrics['task1']['classification_agg']))\n",
    "print()\n",
    "pp.pprint(environ.val_metrics)"
   ]
  },
  {
   "cell_type": "code",
   "execution_count": 20,
   "id": "a49dd6ef",
   "metadata": {
    "ExecuteTime": {
     "end_time": "2022-01-14T18:57:26.266303Z",
     "start_time": "2022-01-14T18:57:26.166878Z"
    }
   },
   "outputs": [],
   "source": [
    "# import pickle\n",
    "# with open(\"val_metrics.pkl\", mode= 'wb') as f:\n",
    "#         pickle.dump(val_metrics, f)\n",
    "    \n",
    "# with open('val_metrics.pkl', 'rb') as f:    \n",
    "#     tst_val_metrics = pickle.load(f)"
   ]
  },
  {
   "cell_type": "code",
   "execution_count": 21,
   "id": "34f602ad",
   "metadata": {
    "ExecuteTime": {
     "end_time": "2022-01-14T18:57:26.297444Z",
     "start_time": "2022-01-14T18:57:26.269323Z"
    }
   },
   "outputs": [],
   "source": [
    "# print(environ.input.shape) \n",
    "# a = getattr(environ, 'task1_pred')\n",
    "# yc_data = environ.batch['task1_data']\n",
    "# print(yc_data.shape)\n",
    "# yc_ind = environ.batch['task1_ind']\n",
    "# print(yc_ind.shape)\n",
    "# yc_hat_all = getattr(environ, 'task1_pred')\n",
    "# print(yc_hat_all.shape)\n",
    "# yc_hat  = yc_hat_all[yc_ind[0], yc_ind[1]]\n",
    "# print(yc_hat_all.shape, yc_hat.shape)\n",
    "\n",
    "# \n",
    "# environ.losses\n",
    "# loss = {}\n",
    "# for key in environ.losses.keys():\n",
    "#     loss[key] = {}\n",
    "#     for subkey, v in environ.losses[key].items():\n",
    "#         print(f\" key:  {key}   subkey: {subkey} \")\n",
    "#         if isinstance(v, torch.Tensor):\n",
    "#             loss[key][subkey] = v.data\n",
    "#             print(f\" Tensor  -  key:  {key}   subkey: {subkey}           value type: {type(v)}  value: {v:.4f}\")\n",
    "#         else:\n",
    "#             loss[key][subkey] = v\n",
    "#             print(f\" integer -  key:  {key}   subkey: {subkey}           value type: {type(v)}  value: {v:.4f}\")\n",
    "# pp.pprint(tst_val_metrics)             "
   ]
  },
  {
   "cell_type": "code",
   "execution_count": 22,
   "id": "d1863f46",
   "metadata": {
    "ExecuteTime": {
     "end_time": "2022-01-14T18:57:26.340792Z",
     "start_time": "2022-01-14T18:57:26.302528Z"
    },
    "execution": {
     "iopub.execute_input": "2022-01-07T22:49:07.606120Z",
     "iopub.status.busy": "2022-01-07T22:49:07.604909Z",
     "iopub.status.idle": "2022-01-07T22:49:08.025886Z",
     "shell.execute_reply": "2022-01-07T22:49:08.024798Z",
     "shell.execute_reply.started": "2022-01-07T22:49:07.606065Z"
    }
   },
   "outputs": [],
   "source": [
    "# print('metrics.keys: ', environ.metrics.keys())\n",
    "# print('metrics[task].keys: ', environ.metrics['task1'].keys())\n",
    "# pp.pprint(environ.metrics['task1'])\n",
    "# pp.pprint(environ.losses['task1']['total'])"
   ]
  },
  {
   "cell_type": "code",
   "execution_count": 23,
   "id": "fcd92e01",
   "metadata": {
    "ExecuteTime": {
     "end_time": "2022-01-14T18:57:26.373399Z",
     "start_time": "2022-01-14T18:57:26.345065Z"
    }
   },
   "outputs": [],
   "source": [
    "# title='Iteration'\n",
    "# for t_id, _ in enumerate(environ.tasks):\n",
    "#     task_key = f\"task{t_id+1}\"\n",
    "# #     print_heading(f\"{title}  {current_iter}  {task_key} : {val_metrics[task_key]['classification_agg']}\", verbose = True)\n",
    "\n",
    "#     for key, _  in val_metrics[task_key]['classification_agg'].items():\n",
    "#         print('%s/%-20s'%(task_key, key), val_metrics[task_key]['classification_agg'][key], current_iter)\n",
    "#         print(f\"{task_key:s}/{key:20s}\", val_metrics[task_key]['classification_agg'][key], current_iter)\n",
    "#         print()\n",
    "#             # print_current_errors(os.path.join(self.log_dir, 'loss.txt'), current_iter,key, loss[key], time.time() - start_time)"
   ]
  },
  {
   "cell_type": "code",
   "execution_count": 32,
   "id": "c21ca12c",
   "metadata": {
    "ExecuteTime": {
     "end_time": "2022-01-07T22:52:48.162261Z",
     "start_time": "2022-01-07T22:52:48.140423Z"
    }
   },
   "outputs": [],
   "source": [
    "# environ.print_loss(current_iter, start_time, metrics = val_metrics['loss'], verbose=True)\n",
    "# print(opt['lambdas'])\n",
    "# p = (opt['lambdas'][0] * environ.losses['tasks']['task1'])\n",
    "# print(p)\n",
    "\n",
    "# environ.print_val_metrics(current_iter, start_time, val_metrics , title='validation', verbose=True)    "
   ]
  },
  {
   "cell_type": "code",
   "execution_count": 30,
   "id": "df9abca2",
   "metadata": {
    "ExecuteTime": {
     "end_time": "2022-01-07T22:52:47.661019Z",
     "start_time": "2022-01-07T22:52:47.639094Z"
    }
   },
   "outputs": [],
   "source": [
    "# print(current_iter)\n",
    "# print_metrics_cr(current_iter, t1 - t0, None, val_metrics , True)\n",
    "# environ.print_val_metrics(current_iter, start_time, val_metrics, title='validation', verbose = True)"
   ]
  },
  {
   "cell_type": "code",
   "execution_count": 21,
   "id": "38c9d578",
   "metadata": {
    "ExecuteTime": {
     "end_time": "2022-01-07T23:14:58.034384Z",
     "start_time": "2022-01-07T23:14:58.004850Z"
    },
    "scrolled": true
   },
   "outputs": [
    {
     "ename": "AttributeError",
     "evalue": "'NoneType' object has no attribute 'keys'",
     "output_type": "error",
     "traceback": [
      "\u001b[0;31m---------------------------------------------------------------------------\u001b[0m",
      "\u001b[0;31mAttributeError\u001b[0m                            Traceback (most recent call last)",
      "\u001b[0;32m/tmp/ipykernel_17988/3181484359.py\u001b[0m in \u001b[0;36m<module>\u001b[0;34m\u001b[0m\n\u001b[0;32m----> 1\u001b[0;31m \u001b[0mprint\u001b[0m\u001b[0;34m(\u001b[0m\u001b[0;34mf\" val_metric keys               : {val_metrics.keys()}\"\u001b[0m\u001b[0;34m)\u001b[0m\u001b[0;34m\u001b[0m\u001b[0;34m\u001b[0m\u001b[0m\n\u001b[0m\u001b[1;32m      2\u001b[0m \u001b[0mprint\u001b[0m\u001b[0;34m(\u001b[0m\u001b[0;34mf\" loss keys                     : {val_metrics['loss'].keys()}\"\u001b[0m\u001b[0;34m)\u001b[0m\u001b[0;34m\u001b[0m\u001b[0;34m\u001b[0m\u001b[0m\n\u001b[1;32m      3\u001b[0m \u001b[0mprint\u001b[0m\u001b[0;34m(\u001b[0m\u001b[0;34mf\" task1 keys                    : {val_metrics['task1'].keys()}\"\u001b[0m\u001b[0;34m)\u001b[0m\u001b[0;34m\u001b[0m\u001b[0;34m\u001b[0m\u001b[0m\n\u001b[1;32m      4\u001b[0m \u001b[0mprint\u001b[0m\u001b[0;34m(\u001b[0m\u001b[0;34mf\" task1 classification keys     : {val_metrics['task1']['classification'].keys()}\"\u001b[0m\u001b[0;34m)\u001b[0m\u001b[0;34m\u001b[0m\u001b[0;34m\u001b[0m\u001b[0m\n\u001b[1;32m      5\u001b[0m \u001b[0mprint\u001b[0m\u001b[0;34m(\u001b[0m\u001b[0;34mf\" task1 classification_agg keys : {val_metrics['task1']['classification_agg'].keys()}\"\u001b[0m\u001b[0;34m)\u001b[0m\u001b[0;34m\u001b[0m\u001b[0;34m\u001b[0m\u001b[0m\n",
      "\u001b[0;31mAttributeError\u001b[0m: 'NoneType' object has no attribute 'keys'"
     ]
    }
   ],
   "source": [
    "print(f\" val_metric keys               : {val_metrics.keys()}\")\n",
    "print(f\" loss keys                     : {val_metrics['loss'].keys()}\")\n",
    "print(f\" task1 keys                    : {val_metrics['task1'].keys()}\")\n",
    "print(f\" task1 classification keys     : {val_metrics['task1']['classification'].keys()}\")\n",
    "print(f\" task1 classification_agg keys : {val_metrics['task1']['classification_agg'].keys()}\")\n",
    "print()\n",
    "print(f\" task1                       : {val_metrics['task1']['classification_agg']['loss']:5f}\")\n",
    "print(f\" task2                       : {val_metrics['task2']['classification_agg']['loss']:5f}\")\n",
    "print(f\" task3                       : {val_metrics['task3']['classification_agg']['loss']:5f}\")\n",
    "print(f\" loss                        : {val_metrics['loss']['total']:5f}\")\n",
    "print(f\" train_time                  : {val_metrics['train_time']:2f}\")\n",
    "print(f\" epoch                       : {val_metrics['epoch']}\")\n"
   ]
  },
  {
   "cell_type": "markdown",
   "id": "a78a55ac",
   "metadata": {},
   "source": [
    "### Post Weight + Policy Training Stuff "
   ]
  },
  {
   "cell_type": "code",
   "execution_count": 178,
   "id": "1804a770",
   "metadata": {
    "ExecuteTime": {
     "end_time": "2022-01-27T00:22:20.634818Z",
     "start_time": "2022-01-27T00:22:20.444566Z"
    }
   },
   "outputs": [
    {
     "data": {
      "text/plain": [
       "[1, 1, 1, 1, 1, 1]"
      ]
     },
     "execution_count": 178,
     "metadata": {},
     "output_type": "execute_result"
    }
   ],
   "source": [
    "environ.networks['mtl-net'].backbone.layer_config"
   ]
  },
  {
   "cell_type": "code",
   "execution_count": 63,
   "id": "5fa9d122",
   "metadata": {
    "ExecuteTime": {
     "end_time": "2022-01-26T19:30:31.940280Z",
     "start_time": "2022-01-26T19:30:31.910058Z"
    }
   },
   "outputs": [
    {
     "name": "stdout",
     "output_type": "stream",
     "text": [
      "tensor([1, 1, 1, 1, 1, 1])\n",
      "tensor([0, 0, 0, 0, 0, 0])\n",
      "tensor([0.1667, 0.3333, 0.5000, 0.6667, 0.8333, 1.0000])\n"
     ]
    }
   ],
   "source": [
    "num_blocks = 6\n",
    "num_policy_layers = 6\n",
    "gt =  torch.ones((num_blocks)).long()\n",
    "gt0 =  torch.zeros((num_blocks)).long()\n",
    "print(gt)\n",
    "print(gt0)\n",
    "\n",
    "loss_weights = ((torch.arange(0, num_policy_layers, 1) + 1).float() / num_policy_layers)\n",
    "print(loss_weights)"
   ]
  },
  {
   "cell_type": "code",
   "execution_count": 77,
   "id": "514f6d98",
   "metadata": {
    "ExecuteTime": {
     "end_time": "2022-01-26T19:42:31.300891Z",
     "start_time": "2022-01-26T19:42:31.257774Z"
    }
   },
   "outputs": [
    {
     "name": "stdout",
     "output_type": "stream",
     "text": [
      "cond 2\n",
      "Compute CrossEntropyLoss between \n",
      " Logits   : \n",
      "tensor([[0.3306, 0.4518],\n",
      "        [0.3532, 0.5529],\n",
      "        [0.3888, 0.6125],\n",
      "        [0.4204, 0.7685],\n",
      "        [0.4520, 0.7994],\n",
      "        [0.4840, 0.8021]]) \n",
      " and gt: \n",
      "tensor([1, 1, 1, 1, 1, 1]) \n",
      "\n",
      "task1_logits sparsity error:  0.5725929141044617\n",
      "\n",
      " cond 2\n",
      "Compute CrossEntropyLoss between Logits      : tensor([[0.4840, 0.8021]])  and gt: 1 \n",
      "task1_logits sparsity error:  0.5467103123664856 \n",
      "\n",
      "Compute CrossEntropyLoss between Logits      : tensor([[0.4840, 0.8021]])  and gt: 0 \n",
      "task1_logits sparsity error:  0.864768385887146 \n",
      "\n",
      "\n",
      " cond 3\n",
      "Compute CrossEntropyLoss between Logits   : tensor([[0.3306, 0.4518]])  and gt: tensor([1]) \n",
      "task1_logits sparsity error:  0.634384036064148 \n",
      "\n",
      "Compute CrossEntropyLoss between Logits   : tensor([[0.3306, 0.4518]])  and gt: tensor([0]) \n",
      "task1_logits sparsity error:  0.7555801868438721 \n",
      "\n"
     ]
    }
   ],
   "source": [
    "if environ.opt['diff_sparsity_weights'] and not environ.opt['is_sharing']:\n",
    "    print(' cond 1')\n",
    "    ## Assign higher weights to higher layers \n",
    "    loss_weights = ((torch.arange(0, num_policy_layers, 1) + 1).float() / num_policy_layers)\n",
    "    print(f\"{task_key} sparsity error:  {2 * (loss_weights[-num_blocks:] * environ.cross_entropy2(logits[-num_blocks:], gt)).mean()})\")\n",
    "    print_dbg(f\" loss_weights :  {loss_weights}\", verbose = True)\n",
    "    print_dbg(f\" cross_entropy:  {environ.cross_entropy2(logits[-num_blocks:], gt)}  \", verbose = True)\n",
    "    print_dbg(f\" loss[sparsity][{task_key}]: {self.losses['sparsity'][task_key] } \", verbose = True)\n",
    "\n",
    "else:\n",
    "    print('\\n cond 2')\n",
    "    print_dbg(f\"Compute CrossEntropyLoss between \\n Logits   : \\n{logits[-num_blocks:]} \\n and gt: \\n{gt} \\n\", verbose = True)\n",
    "    print(f\"{task_key} sparsity error:  {environ.cross_entropy_sparsity(logits[-num_blocks:], gt)}\")\n",
    "    \n",
    "    print('\\n cond 2')\n",
    "    print_dbg(f\"Compute CrossEntropyLoss between Logits      : {logits[-1:]}  and gt: {gt[-1]} \", verbose = True)\n",
    "    print(f\"{task_key} sparsity error:  {environ.cross_entropy_sparsity(logits[-1:], gt[-1:])} \\n\")\n",
    "    print_dbg(f\"Compute CrossEntropyLoss between Logits      : {logits[-1:]}  and gt: {gt0[-1]} \", verbose = True)\n",
    "    print(f\"{task_key} sparsity error:  {environ.cross_entropy_sparsity(logits[-1:], gt0[-1:])} \\n\")\n",
    "    \n",
    "    print('\\n cond 3')    \n",
    "    print_dbg(f\"Compute CrossEntropyLoss between Logits   : {logits[0:1]}  and gt: {gt[0:1]} \", verbose = True)\n",
    "    print(f\"{task_key} sparsity error:  {environ.cross_entropy_sparsity(logits[0:1], gt[0:1])} \\n\")\n",
    "    print_dbg(f\"Compute CrossEntropyLoss between Logits   : {logits[0:1]}  and gt: {gt0[0:1]} \", verbose = True)\n",
    "    print(f\"{task_key} sparsity error:  {environ.cross_entropy_sparsity(logits[0:1], gt0[0:1])} \\n\")\n",
    "        \n",
    "        "
   ]
  },
  {
   "cell_type": "code",
   "execution_count": null,
   "id": "d190e695",
   "metadata": {},
   "outputs": [],
   "source": []
  },
  {
   "cell_type": "code",
   "execution_count": 24,
   "id": "672c91c6",
   "metadata": {
    "ExecuteTime": {
     "end_time": "2022-01-26T00:14:30.155045Z",
     "start_time": "2022-01-26T00:14:30.107095Z"
    }
   },
   "outputs": [],
   "source": [
    "# flag = 'update_w'\n",
    "# environ.fix_alpha\n",
    "# environ.free_w(opt['fix_BN'])\n",
    "\n",
    "flag = 'update_alpha'\n",
    "environ.fix_weights()\n",
    "environ.free_alpha()"
   ]
  },
  {
   "cell_type": "code",
   "execution_count": 29,
   "id": "2128a652",
   "metadata": {
    "ExecuteTime": {
     "end_time": "2022-01-25T23:43:31.184285Z",
     "start_time": "2022-01-25T23:43:31.159229Z"
    }
   },
   "outputs": [
    {
     "data": {
      "text/plain": [
       "6"
      ]
     },
     "execution_count": 29,
     "metadata": {},
     "output_type": "execute_result"
    }
   ],
   "source": [
    "environ.networks['mtl-net'].num_layers"
   ]
  },
  {
   "cell_type": "code",
   "execution_count": 25,
   "id": "2ac0d199",
   "metadata": {
    "ExecuteTime": {
     "end_time": "2022-01-26T00:14:34.993711Z",
     "start_time": "2022-01-26T00:14:34.968623Z"
    }
   },
   "outputs": [
    {
     "name": "stdout",
     "output_type": "stream",
     "text": [
      "current_iters         : 6580\n",
      "curr_epochs           : 60\n",
      "train_total_epochs    : 60\n"
     ]
    }
   ],
   "source": [
    "print(f\"current_iters         : {current_iter}\")  \n",
    "print(f\"current_epochs           : {current_epoch}\") \n",
    "print(f\"train_total_epochs    : {train_total_epochs}\") \n",
    "\n",
    "train_total_epochs += 5\n",
    "\n",
    "print(f\"current_iters         : {current_iter}\")  \n",
    "print(f\"current_epochs           : {current_epoch}\") \n",
    "print(f\"train_total_epochs    : {train_total_epochs}\") "
   ]
  },
  {
   "cell_type": "code",
   "execution_count": 25,
   "id": "38b5f5d7",
   "metadata": {
    "ExecuteTime": {
     "end_time": "2022-01-25T17:15:02.216665Z",
     "start_time": "2022-01-25T17:15:01.848081Z"
    }
   },
   "outputs": [
    {
     "name": "stdout",
     "output_type": "stream",
     "text": [
      "Epoch | logloss bceloss  aucroc   aucpr  f1_max| t1 loss t2 loss t3 lossttl loss|tr_time|\n",
      "1     | 0.00020 0.89942 0.81016 0.81627 0.75738|  4.6591  4.3649  4.4500 13.4740| 333.4|"
     ]
    }
   ],
   "source": [
    "# print_metrics_cr(current_epoch, time.time() - t0, None, environ.val_metrics , num_prints)      \n",
    "\n",
    "# num_prints += 1\n",
    "# t0 = time.time()\n",
    "\n",
    "# # Take check point\n",
    "# environ.save_checkpoint('latest', current_iter)\n",
    "# environ.train()\n",
    "# #-------------------------------------------------------\n",
    "# # END validation process\n",
    "# #-------------------------------------------------------       \n",
    "# flag = 'update_alpha'\n",
    "# environ.fix_w()\n",
    "# environ.free_alpha()"
   ]
  },
  {
   "cell_type": "code",
   "execution_count": 71,
   "id": "1220c768",
   "metadata": {
    "ExecuteTime": {
     "end_time": "2022-01-08T01:08:57.366231Z",
     "start_time": "2022-01-08T01:08:57.295445Z"
    }
   },
   "outputs": [],
   "source": [
    "# dilation = 2\n",
    "# kernel_size = np.asarray((3, 3))\n",
    "# upsampled_kernel_size = (kernel_size - 1) * (dilation - 1) + kernel_size\n",
    "# print(upsampled_kernel_size)"
   ]
  },
  {
   "cell_type": "code",
   "execution_count": 30,
   "id": "ebc3088a",
   "metadata": {
    "ExecuteTime": {
     "end_time": "2022-01-25T23:43:39.763599Z",
     "start_time": "2022-01-25T23:43:39.728402Z"
    }
   },
   "outputs": [],
   "source": [
    "# environ.optimizers['weights'].param_groups[0]\n",
    "# for param_group in optimizer.param_groups:\n",
    "#     return param_group['lr']"
   ]
  },
  {
   "cell_type": "code",
   "execution_count": 31,
   "id": "0032bf7e",
   "metadata": {
    "ExecuteTime": {
     "end_time": "2022-01-25T23:43:41.628847Z",
     "start_time": "2022-01-25T23:43:41.602238Z"
    }
   },
   "outputs": [
    {
     "data": {
      "text/plain": [
       "[1e-05, 1e-05]"
      ]
     },
     "execution_count": 31,
     "metadata": {},
     "output_type": "execute_result"
    }
   ],
   "source": [
    "environ.schedulers['weights'].get_last_lr()"
   ]
  },
  {
   "cell_type": "code",
   "execution_count": 86,
   "id": "ef5240a2",
   "metadata": {
    "ExecuteTime": {
     "end_time": "2022-01-08T01:36:17.129535Z",
     "start_time": "2022-01-08T01:36:16.006144Z"
    },
    "scrolled": true
   },
   "outputs": [
    {
     "name": "stdout",
     "output_type": "stream",
     "text": [
      "state dict for weights = SGD (\n",
      "Parameter Group 0\n",
      "    dampening: 0\n",
      "    lr: 0.0001\n",
      "    momentum: 0.9\n",
      "    nesterov: False\n",
      "    weight_decay: 0.0001\n",
      "\n",
      "Parameter Group 1\n",
      "    dampening: 0\n",
      "    lr: 0.0001\n",
      "    momentum: 0.9\n",
      "    nesterov: False\n",
      "    weight_decay: 0.0001\n",
      ")\n",
      "state dict for alphas = Adam (\n",
      "Parameter Group 0\n",
      "    amsgrad: False\n",
      "    betas: (0.9, 0.999)\n",
      "    eps: 1e-08\n",
      "    lr: 0.0001\n",
      "    weight_decay: 0.0005\n",
      ")\n",
      "{   'alphas': {   'param_groups': [   {   'amsgrad': False,\n",
      "                                          'betas': (0.9, 0.999),\n",
      "                                          'eps': 1e-08,\n",
      "                                          'lr': 0.0001,\n",
      "                                          'params': [0, 1, 2],\n",
      "                                          'weight_decay': 0.0005}],\n",
      "                  'state': {   0: {   'exp_avg': tensor([[ 0.0607, -0.0007],\n",
      "        [-0.0428, -0.0069],\n",
      "        [-0.1218,  0.0138],\n",
      "        [ 0.0086,  0.0238]], device='cuda:0'),\n",
      "                                      'exp_avg_sq': tensor([[0.0523, 0.0112],\n",
      "        [0.1734, 0.0073],\n",
      "        [0.3830, 0.0086],\n",
      "        [0.6783, 0.0108]], device='cuda:0'),\n",
      "                                      'step': 8613},\n",
      "                               1: {   'exp_avg': tensor([[ 0.0535, -0.0901],\n",
      "        [-0.0352, -0.0387],\n",
      "        [ 0.1020, -0.0073],\n",
      "        [-0.0796, -0.0576]], device='cuda:0'),\n",
      "                                      'exp_avg_sq': tensor([[0.0549, 0.0120],\n",
      "        [0.1729, 0.0070],\n",
      "        [0.3925, 0.0042],\n",
      "        [0.6830, 0.0098]], device='cuda:0'),\n",
      "                                      'step': 8613},\n",
      "                               2: {   'exp_avg': tensor([[-0.0127, -0.0090],\n",
      "        [ 0.1781, -0.0526],\n",
      "        [ 0.0248, -0.0095],\n",
      "        [ 0.1182, -0.0113]], device='cuda:0'),\n",
      "                                      'exp_avg_sq': tensor([[0.0501, 0.0096],\n",
      "        [0.1758, 0.0075],\n",
      "        [0.3727, 0.0086],\n",
      "        [0.6747, 0.0059]], device='cuda:0'),\n",
      "                                      'step': 8613}}},\n",
      "    'weights': {   'param_groups': [   {   'dampening': 0,\n",
      "                                           'lr': 0.0001,\n",
      "                                           'momentum': 0.9,\n",
      "                                           'nesterov': False,\n",
      "                                           'params': [0, 1, 2, 3, 4, 5],\n",
      "                                           'weight_decay': 0.0001},\n",
      "                                       {   'dampening': 0,\n",
      "                                           'lr': 0.0001,\n",
      "                                           'momentum': 0.9,\n",
      "                                           'nesterov': False,\n",
      "                                           'params': [   6,\n",
      "                                                         7,\n",
      "                                                         8,\n",
      "                                                         9,\n",
      "                                                         10,\n",
      "                                                         11,\n",
      "                                                         12,\n",
      "                                                         13,\n",
      "                                                         14,\n",
      "                                                         15],\n",
      "                                           'weight_decay': 0.0001}],\n",
      "                   'state': {   0: {   'momentum_buffer': tensor([[-5.4482e-01, -2.7512e-01,  4.6711e-02, -4.5902e-01, -2.5247e-01, -2.1980e-01,  9.4069e-02, -1.7776e-01, -2.0681e-01,\n",
      "         -1.0892e-01, -2.7464e-01,  9.3985e-03, -3.7082e-01, -2.7459e-01,  3.1315e-01, -2.4067e-01, -2.3865e-01, -2.0458e-01,\n",
      "         -3.9198e-01, -1.3971e-01, -2.2085e-01,  2.9561e-01, -3.2675e-01, -4.4961e-01, -2.5565e-01, -1.9292e-01,  2.3961e-02,\n",
      "         -1.4747e-01, -2.0461e-01, -2.9271e-01, -1.2636e-01, -3.2118e-01, -1.3085e-02, -3.2467e-01,  7.6504e-02, -3.8073e-01,\n",
      "         -3.4652e-01, -4.8136e-01, -1.0855e-01, -4.6362e-01],\n",
      "        [ 7.5279e-02,  5.0053e-01, -6.5901e-02,  4.2624e-01, -1.1979e-01,  1.3010e-01, -5.5052e-03,  6.0068e-02,  1.6456e-01,\n",
      "          6.9727e-02,  5.5028e-01,  7.4976e-02,  2.0544e-01, -1.8356e-01,  5.8646e-03,  3.8858e-01,  5.8229e-01, -6.4714e-02,\n",
      "         -9.7311e-02,  1.5540e-02,  2.6569e-01,  1.2685e-01,  3.5929e-01,  6.1809e-02,  6.5516e-02,  1.7281e-01,  2.4054e-01,\n",
      "          2.5444e-01,  8.1368e-02,  1.7834e-01,  6.4536e-01,  2.9524e-01,  5.1240e-02,  1.0327e-01,  5.0252e-01, -1.2009e-01,\n",
      "          5.2004e-01,  3.6589e-01,  2.5036e-02,  1.1756e-01],\n",
      "        [-2.6041e-02,  3.7978e-01, -2.9577e-02,  1.2583e-01, -1.9533e-01,  1.3204e-01, -2.4134e-01, -2.2500e-01,  1.1932e-01,\n",
      "         -2.8338e-02, -1.2620e-01,  4.1562e-02, -1.4164e-01,  1.0466e-02, -7.2124e-03, -1.7311e-01, -1.0594e-02, -1.1018e-01,\n",
      "         -4.0215e-01,  2.2231e-01, -3.5036e-01, -1.2274e-01, -2.5909e-01, -4.9505e-01,  2.7185e-01, -6.1372e-02, -3.2376e-01,\n",
      "         -4.9975e-01,  4.8624e-01, -2.4463e-03, -5.9059e-02, -2.9173e-02, -8.6035e-02,  2.1797e-02, -3.9157e-02, -1.6863e-01,\n",
      "          5.4898e-01,  1.9727e-01, -1.3099e-01,  2.3543e-01],\n",
      "        [ 2.3553e-01,  3.4450e-01, -7.3627e-02,  4.6605e-01,  4.3280e-02, -6.7811e-02,  7.9972e-02,  5.1132e-01, -2.0549e-02,\n",
      "          3.1941e-01,  7.4393e-01,  8.0956e-01,  5.7910e-02, -5.3678e-02,  2.2120e-01,  8.8379e-01,  8.9871e-01, -1.4795e-01,\n",
      "         -2.7687e-02,  3.6311e-01,  4.9540e-01,  3.6264e-01,  3.9721e-01,  3.3454e-01,  5.2051e-01,  1.9513e-01,  3.0391e-01,\n",
      "          1.0195e-01, -1.7816e-01,  5.9080e-01,  1.0638e+00, -2.2466e-01,  1.3106e-01,  2.6890e-01,  4.8539e-01, -1.6549e-01,\n",
      "          1.6727e-01,  1.9687e-01, -5.7773e-02,  6.5643e-04],\n",
      "        [-1.4043e+00, -4.7333e-01, -2.1537e-01, -6.8192e-01, -4.0019e-01, -3.0406e-01, -3.6066e-01, -8.0768e-01, -3.2529e-02,\n",
      "         -6.8346e-01, -1.1644e+00, -8.0557e-01, -7.2629e-01, -6.1576e-02, -2.6680e-01, -1.1771e+00, -9.3424e-01, -3.5853e-01,\n",
      "         -5.4122e-01, -5.1141e-01, -6.5359e-01, -5.1459e-01, -8.0336e-01, -8.5221e-01, -5.7714e-01, -4.6222e-01, -6.1317e-01,\n",
      "         -8.5647e-01,  1.8005e-02, -1.0541e+00, -1.6143e+00, -3.8753e-01, -6.1965e-01, -6.0904e-01, -6.1653e-01, -3.2613e-01,\n",
      "         -4.6098e-01, -5.1365e-01, -5.4302e-01, -6.4716e-01]], device='cuda:0')},\n",
      "                                1: {   'momentum_buffer': tensor([-0.0579,  0.2361, -0.0467,  0.4477, -0.6013], device='cuda:0')},\n",
      "                                2: {   'momentum_buffer': tensor([[-0.2612, -0.1668, -0.0060, -0.4843,  0.0824,  0.2120, -0.0110, -0.2463,  0.0614, -0.1931, -0.0739, -0.3940, -0.1723,\n",
      "         -0.0844, -0.0420, -0.3581, -0.3555,  0.1027,  0.3321, -0.2004,  0.0719, -0.1718, -0.1382, -0.2087, -0.4006,  0.1659,\n",
      "         -0.0612,  0.2602, -0.3789, -0.5442, -0.6798, -0.0991,  0.1144,  0.0608, -0.3799,  0.1046, -0.5230, -0.1794,  0.2387,\n",
      "         -0.3948],\n",
      "        [-0.7644, -0.4455,  0.1079, -0.6770, -0.0285, -0.0317, -0.0798, -0.5369, -0.1481, -0.5042, -0.6391, -0.6097, -0.4634,\n",
      "         -0.3808, -0.4200, -0.5469, -0.9528, -0.0851,  0.2172, -0.3774, -0.0737, -0.6040, -0.4646, -0.6076, -0.3767,  0.0727,\n",
      "         -0.1834,  0.3338, -0.3549, -0.7231, -1.1620,  0.0138, -0.1620, -0.3471, -0.4770,  0.0757, -0.6643, -0.6895,  0.0787,\n",
      "         -0.4058],\n",
      "        [ 0.2805, -0.0582,  0.1003,  0.0825,  0.2279, -0.3497,  0.1211,  0.5327,  0.0040,  0.5895,  0.3208,  0.3248,  0.1391,\n",
      "          0.3223,  0.3612,  0.3953, -0.0528,  0.2579,  0.6889,  0.3003,  0.2949,  0.3943,  0.3399,  0.3902,  0.2274,  0.1454,\n",
      "          0.2639,  0.4317,  0.0282,  0.2718,  0.7873,  0.1240, -0.0545, -0.0371, -0.2902,  0.1248,  0.0531,  0.4477,  0.1740,\n",
      "          0.3522],\n",
      "        [-0.1528, -0.1209,  0.0156, -0.2532, -0.0495, -0.1200,  0.2843, -0.2697,  0.0212, -0.3180, -0.1699,  0.0696, -0.0441,\n",
      "         -0.2312,  0.0227,  0.0530,  0.4047, -0.4066,  0.1157, -0.0749,  0.0571, -0.2684,  0.0121,  0.2005, -0.0978,  0.0283,\n",
      "          0.1963, -0.2490, -0.3016, -0.0356,  0.0103,  0.0743,  0.2626,  0.0507, -0.0169, -0.3918, -0.1736,  0.0629, -0.0922,\n",
      "         -0.0151],\n",
      "        [-0.1752,  0.0017, -0.0910, -0.4192, -0.1514,  0.1885, -0.0909, -0.2453,  0.0872, -0.2964, -0.3132, -0.5285, -0.0679,\n",
      "         -0.0362, -0.2413, -0.5825, -0.5508,  0.1931, -0.0183, -0.3240, -0.0980, -0.0574, -0.3542, -0.1842, -0.1074,  0.2090,\n",
      "         -0.1148,  0.0744, -0.1232, -0.2965, -0.8092,  0.1216,  0.0491,  0.0700,  0.0853,  0.0258,  0.0286, -0.4716,  0.1206,\n",
      "         -0.0628]], device='cuda:0')},\n",
      "                                3: {   'momentum_buffer': tensor([-0.1741, -0.3002,  0.2925,  0.2971, -0.3722], device='cuda:0')},\n",
      "                                4: {   'momentum_buffer': tensor([[-0.0849, -0.1597,  0.2053, -0.1966, -0.0118, -0.2330, -0.0241, -0.6122, -0.2113, -0.3294, -0.2063, -0.3181,  0.0481,\n",
      "         -0.4093, -0.4637, -0.7161, -0.4272, -0.1147,  0.2656, -0.4111,  0.0617, -0.3495, -0.3421, -0.1997,  0.0105,  0.0609,\n",
      "         -0.0572,  0.1777, -0.0505, -0.6948, -0.4959,  0.2197,  0.1054, -0.3540, -0.4853,  0.2524, -0.3534, -0.1041,  0.0436,\n",
      "         -0.0729],\n",
      "        [-0.2884, -0.0777, -0.1561, -0.0193, -0.2145,  0.1506,  0.0461, -0.1056,  0.1115,  0.0735,  0.0143, -0.1489, -0.1132,\n",
      "         -0.1654, -0.0719, -0.0780,  0.0905, -0.1635,  0.0411,  0.0230, -0.1094,  0.2141,  0.2209,  0.2538, -0.2747, -0.0911,\n",
      "          0.2328, -0.0246, -0.2137,  0.0164,  0.4605,  0.0623,  0.1916,  0.0445,  0.2819,  0.0821, -0.2006,  0.0480, -0.2465,\n",
      "         -0.0939],\n",
      "        [-0.3999, -0.1251, -0.2381, -0.1985, -0.1385, -0.0977, -0.1711, -0.1430, -0.2113, -0.3605, -0.0474, -0.3035,  0.0633,\n",
      "         -0.0959, -0.1873, -0.3301, -0.1024, -0.2385, -0.4791, -0.1046, -0.2390, -0.2179, -0.3163, -0.2241, -0.5092,  0.1025,\n",
      "         -0.1386, -0.4020, -0.2547, -0.1484, -0.6128, -0.2314, -0.0788,  0.2300, -0.0069, -0.2817, -0.1210, -0.0113, -0.4520,\n",
      "         -0.2268],\n",
      "        [ 0.2257,  0.3765,  0.1650, -0.1478,  0.0906,  0.1179,  0.1602, -0.1910,  0.4880, -0.0549, -0.0863,  0.1077,  0.3084,\n",
      "          0.1151, -0.0719, -0.2795,  0.0179,  0.6149,  0.4591, -0.0565, -0.0812,  0.2760, -0.0342,  0.0169,  0.0639, -0.0015,\n",
      "          0.0713,  0.1656,  0.2635,  0.0067, -0.1705,  0.2555,  0.2492, -0.0994,  0.1673,  0.3523,  0.3903,  0.0610,  0.2200,\n",
      "          0.0149],\n",
      "        [ 0.4827,  0.3845,  0.2594,  0.7605,  0.4389,  0.4478,  0.4341,  0.6531,  0.1451,  0.5494,  0.8218,  0.7176,  0.2111,\n",
      "          0.1574,  0.5871,  1.1305,  0.7570,  0.1728,  0.4147,  0.5044,  0.3479,  0.4095,  0.6468,  0.4890,  0.3662,  0.0461,\n",
      "          0.3462,  0.2534,  0.3233,  0.7041,  1.0300,  0.2806,  0.3191,  0.6002,  0.5828,  0.2223,  0.5332,  0.5004,  0.1183,\n",
      "          0.3750]], device='cuda:0')},\n",
      "                                5: {   'momentum_buffer': tensor([-0.3636,  0.1302, -0.1584, -0.0355,  0.4779], device='cuda:0')},\n",
      "                                6: {   'momentum_buffer': tensor([[ 1.5304e-01, -5.9271e-03,  4.8917e-01,  ..., -2.2712e-01, -1.2944e-01, -1.5610e-01],\n",
      "        [ 2.3775e-02, -9.0718e-03,  2.1647e-02,  ...,  3.9088e-02,  2.5611e-02, -2.9572e-02],\n",
      "        [ 1.6747e-02, -1.2741e-02,  1.7129e-02,  ...,  1.8492e-02, -8.0235e-03, -2.1392e-02],\n",
      "        ...,\n",
      "        [-3.1285e-06, -2.0295e-06,  7.8620e-06,  ...,  1.1699e-06,  3.7180e-07,  5.9421e-07],\n",
      "        [ 7.3640e-06, -1.7594e-05,  7.4498e-05,  ..., -2.5983e-05,  1.2307e-05,  3.2505e-05],\n",
      "        [-9.6068e-06, -8.5949e-06,  1.0171e-05,  ..., -6.1072e-06, -8.3978e-07, -6.7925e-06]], device='cuda:0')},\n",
      "                                7: {   'momentum_buffer': tensor([ 0.3887, -0.0579,  0.3107,  0.1551,  0.8331, -0.1376, -0.3844, -0.0353,  0.4420, -0.5766,  0.0788, -0.0751, -0.1867,\n",
      "         0.1001, -0.3312, -0.2118, -0.3287, -0.0677,  0.3000, -0.2234,  0.1245, -0.1919, -0.2328,  0.3670,  0.0290, -0.1925,\n",
      "         0.4300, -0.1144, -0.4987, -0.1107, -0.3611,  0.4313, -0.4842,  0.6604,  0.0137,  0.0144,  0.2782, -0.2992, -0.2614,\n",
      "        -0.2438], device='cuda:0')},\n",
      "                                8: {   'momentum_buffer': tensor([[ 1.5098e-01,  6.8066e-02, -1.1790e-01,  ...,  9.2484e-02, -4.3672e-02,  6.0582e-02],\n",
      "        [-2.7928e-02, -3.8709e-02,  1.1351e-02,  ...,  1.4022e-02,  1.4181e-02, -2.3581e-02],\n",
      "        [ 1.2368e-05,  1.6269e-04, -2.8662e-04,  ..., -4.4968e-05, -1.8164e-04, -3.3822e-04],\n",
      "        ...,\n",
      "        [-4.0677e-02,  2.7337e-02,  1.5571e-02,  ..., -4.8724e-02, -3.2856e-02, -1.0650e-02],\n",
      "        [ 1.6598e-01,  9.5019e-02, -4.6000e-02,  ...,  6.4921e-02,  3.7100e-02,  8.7817e-02],\n",
      "        [-8.4905e-03,  2.2479e-02, -2.5620e-03,  ..., -7.5068e-03, -5.1343e-03, -1.6064e-02]], device='cuda:0')},\n",
      "                                9: {   'momentum_buffer': tensor([ 3.4776e-01, -3.5319e-02,  1.0072e-04,  3.8190e-03,  4.6922e-01, -1.4719e-02, -1.9333e-01, -1.0430e-01, -4.9097e-02,\n",
      "        -3.4282e-01, -1.2632e-01,  1.1640e-01,  1.4245e-01,  3.9221e-01, -1.5241e-01,  1.0361e-01,  2.8693e-01, -3.8438e-02,\n",
      "         5.4297e-01,  2.2322e-02,  2.2954e-01, -2.4616e-01,  8.4137e-02,  2.5481e-01, -9.6045e-02,  4.1123e-02,  1.7366e-01,\n",
      "        -3.3607e-02, -7.8799e-02, -8.1003e-02, -1.5968e-01,  1.4050e-01,  7.0586e-02,  2.4685e-01,  8.4280e-02,  1.2348e-01,\n",
      "        -1.0331e-01, -9.8404e-02,  2.8721e-01, -3.6698e-02], device='cuda:0')},\n",
      "                                10: {   'momentum_buffer': tensor([[ 0.0122, -0.0239, -0.0222,  ...,  0.0248,  0.0130, -0.0082],\n",
      "        [ 0.0409, -0.0863, -0.0585,  ...,  0.0649, -0.0058,  0.0468],\n",
      "        [ 0.0525,  0.0079, -0.0112,  ...,  0.0785,  0.0505,  0.0502],\n",
      "        ...,\n",
      "        [ 0.2707,  0.1044, -0.0254,  ...,  0.1337,  0.0744,  0.0592],\n",
      "        [ 0.0154,  0.0331,  0.0019,  ...,  0.0142, -0.0596, -0.0396],\n",
      "        [-0.0857,  0.0114, -0.0162,  ..., -0.0332, -0.1018, -0.0657]], device='cuda:0')},\n",
      "                                11: {   'momentum_buffer': tensor([ 0.0760, -0.0063,  0.1234, -0.0805,  0.1407, -0.0494,  0.0783,  0.1751, -0.0619, -0.1029,  0.0626, -0.1621,  0.0215,\n",
      "         0.0589,  0.0777, -0.0114,  0.0356,  0.0869,  0.1138,  0.0837,  0.0116, -0.0266,  0.1767,  0.2595,  0.0828, -0.0264,\n",
      "         0.1041,  0.0221,  0.0534, -0.0933,  0.0266, -0.0506, -0.0109, -0.0572, -0.0290,  0.0525, -0.0016,  0.2201, -0.0559,\n",
      "        -0.0764], device='cuda:0')},\n",
      "                                12: {   'momentum_buffer': tensor([[ 0.0542,  0.0008, -0.0059,  ...,  0.0547,  0.0933,  0.0654],\n",
      "        [-0.0124, -0.0217, -0.0174,  ...,  0.0780, -0.0404,  0.0119],\n",
      "        [-0.0024, -0.0011, -0.0005,  ...,  0.0003, -0.0004, -0.0003],\n",
      "        ...,\n",
      "        [ 0.0027,  0.0664,  0.0873,  ...,  0.0592,  0.0687,  0.0510],\n",
      "        [ 0.0913,  0.0534, -0.0025,  ...,  0.0306, -0.0440,  0.0299],\n",
      "        [-0.0215,  0.0202, -0.0636,  ..., -0.0170, -0.0338, -0.0677]], device='cuda:0')},\n",
      "                                13: {   'momentum_buffer': tensor([ 0.1389, -0.0492, -0.0026, -0.1231, -0.0199,  0.0288,  0.0002,  0.0369,  0.0689,  0.0349, -0.0123, -0.0443, -0.0297,\n",
      "         0.0026,  0.0345,  0.0489,  0.0253,  0.0764,  0.0739,  0.0602, -0.0033,  0.0222, -0.0743,  0.0255,  0.0509,  0.1373,\n",
      "         0.0104,  0.0234, -0.0108,  0.0034, -0.0159,  0.0054,  0.0429,  0.0476, -0.0150, -0.0057, -0.0413,  0.0307,  0.0383,\n",
      "        -0.0091], device='cuda:0')},\n",
      "                                14: {   'momentum_buffer': tensor([[ 0.1029,  0.0980,  0.0202,  ...,  0.1078,  0.0647,  0.0686],\n",
      "        [ 0.1083,  0.0676,  0.0507,  ...,  0.1634,  0.0056,  0.0213],\n",
      "        [ 0.0021, -0.0008, -0.0076,  ...,  0.0037, -0.0008, -0.0021],\n",
      "        ...,\n",
      "        [ 0.0117,  0.0903,  0.0301,  ..., -0.0045,  0.0020,  0.0292],\n",
      "        [ 0.0616,  0.0727, -0.0032,  ...,  0.0555,  0.0145,  0.0146],\n",
      "        [-0.0441, -0.0322, -0.0147,  ...,  0.0057, -0.0240, -0.0302]], device='cuda:0')},\n",
      "                                15: {   'momentum_buffer': tensor([ 0.0819,  0.0197, -0.0006, -0.0349,  0.0058,  0.0291, -0.0123, -0.0388, -0.0164, -0.0855,  0.0779,  0.0347, -0.0715,\n",
      "        -0.0225,  0.0360,  0.0105, -0.0919,  0.2164,  0.0061,  0.0852,  0.1488, -0.1035,  0.0128, -0.0246,  0.1463,  0.0421,\n",
      "         0.0069, -0.0251,  0.0041, -0.0824, -0.1332, -0.0114, -0.0141,  0.0515,  0.0716,  0.0047, -0.0701, -0.0178,  0.0446,\n",
      "        -0.0167], device='cuda:0')}}}}\n"
     ]
    }
   ],
   "source": [
    "current_state = {}\n",
    "for k, v in environ.optimizers.items():\n",
    "    print(f'state dict for {k} = {v}')\n",
    "    current_state[k] = v.state_dict()\n",
    "pp.pprint(current_state)"
   ]
  },
  {
   "cell_type": "code",
   "execution_count": 88,
   "id": "35ab97ac",
   "metadata": {
    "ExecuteTime": {
     "end_time": "2022-01-08T01:40:22.032247Z",
     "start_time": "2022-01-08T01:40:22.006953Z"
    },
    "scrolled": true
   },
   "outputs": [
    {
     "name": "stdout",
     "output_type": "stream",
     "text": [
      "state dict for weights = <torch.optim.lr_scheduler.StepLR object at 0x7f90c01c0ca0>\n",
      "{'step_size': 4000, 'gamma': 0.5, 'base_lrs': [0.0001, 0.0001], 'last_epoch': 9100, '_step_count': 9101, 'verbose': False, '_get_lr_called_within_step': False, '_last_lr': [2.5e-05, 2.5e-05]}\n"
     ]
    }
   ],
   "source": [
    "current_state = {}\n",
    "for k, v in environ.schedulers.items():\n",
    "    print(f'state dict for {k} = {v}')\n",
    "    print(v.state_dict())"
   ]
  },
  {
   "cell_type": "markdown",
   "id": "fc8b5c17",
   "metadata": {},
   "source": [
    "### Losses and Metrics"
   ]
  },
  {
   "cell_type": "code",
   "execution_count": 27,
   "id": "7d621226",
   "metadata": {
    "ExecuteTime": {
     "end_time": "2022-02-09T16:34:44.555617Z",
     "start_time": "2022-02-09T16:34:44.507417Z"
    }
   },
   "outputs": [],
   "source": [
    "trn_losses = environ.losses"
   ]
  },
  {
   "cell_type": "code",
   "execution_count": 39,
   "id": "2f76e72c",
   "metadata": {
    "ExecuteTime": {
     "end_time": "2022-02-10T03:35:11.758429Z",
     "start_time": "2022-02-10T03:35:11.278211Z"
    }
   },
   "outputs": [
    {
     "name": "stdout",
     "output_type": "stream",
     "text": [
      "Epoch |  trn loss     trn spar     trn shar    trn total |   logloss   bceloss    aucroc     aucpr |  val loss     val spar     val shar    val total |tr_time |\n",
      "12    |    7.3148   1.0717e+00   2.6055e-03       8.3891 |   0.00021   0.97756   0.68488   0.68055 |   14.6682   1.0160e+00   2.1285e-03      15.6863 |  227.5 |"
     ]
    }
   ],
   "source": [
    "print_metrics_cr(current_epoch, time.time() - start_time, trn_losses, environ.val_metrics , num_prints)      "
   ]
  },
  {
   "cell_type": "code",
   "execution_count": 27,
   "id": "d5b87ffe",
   "metadata": {
    "ExecuteTime": {
     "end_time": "2022-02-10T03:21:49.107793Z",
     "start_time": "2022-02-10T03:21:49.084484Z"
    }
   },
   "outputs": [],
   "source": [
    "# print_metrics_cr(current_epoch, time.time() - start_time, trn_losses, environ.val_metrics , num_prints)      "
   ]
  },
  {
   "cell_type": "code",
   "execution_count": 26,
   "id": "b765f95d",
   "metadata": {
    "ExecuteTime": {
     "end_time": "2022-02-10T03:20:32.866010Z",
     "start_time": "2022-02-10T03:20:32.442919Z"
    }
   },
   "outputs": [
    {
     "name": "stdout",
     "output_type": "stream",
     "text": [
      "{   'losses': {   'task1': tensor(2.450312, device='cuda:0', dtype=torch.float64, grad_fn=<DivBackward0>),\n",
      "                  'task2': tensor(2.467013, device='cuda:0', dtype=torch.float64, grad_fn=<DivBackward0>),\n",
      "                  'task3': tensor(2.687793, device='cuda:0', dtype=torch.float64, grad_fn=<DivBackward0>),\n",
      "                  'total': tensor(7.605118, device='cuda:0', dtype=torch.float64, grad_fn=<AddBackward0>)},\n",
      "    'losses_mean': {   'task1': tensor(0.490062, device='cuda:0', dtype=torch.float64, grad_fn=<MulBackward0>),\n",
      "                       'task2': tensor(0.493403, device='cuda:0', dtype=torch.float64, grad_fn=<MulBackward0>),\n",
      "                       'task3': tensor(0.537559, device='cuda:0', dtype=torch.float64, grad_fn=<MulBackward0>),\n",
      "                       'total': tensor(1.521024, device='cuda:0', dtype=torch.float64, grad_fn=<AddBackward0>)},\n",
      "    'parms': {   'gumbel_temp': 2.6244000000000005,\n",
      "                 'lr_0': 0.01,\n",
      "                 'lr_1': 0.01,\n",
      "                 'policy_lr': 0.001,\n",
      "                 'train_layers': 0},\n",
      "    'sharing': {'total': tensor(0.002794, device='cuda:0')},\n",
      "    'sparsity': {   'task1_logits': tensor(0.384502, device='cuda:0'),\n",
      "                    'task2_logits': tensor(0.372063, device='cuda:0'),\n",
      "                    'task3_logits': tensor(0.395169, device='cuda:0'),\n",
      "                    'total': tensor(1.151734, device='cuda:0')},\n",
      "    'task1': {   'cls_loss': tensor(2.450312, device='cuda:0', dtype=torch.float64, grad_fn=<DivBackward0>),\n",
      "                 'cls_loss_mean': tensor(0.490062, device='cuda:0', dtype=torch.float64, grad_fn=<MulBackward0>)},\n",
      "    'task2': {   'cls_loss': tensor(2.467013, device='cuda:0', dtype=torch.float64, grad_fn=<DivBackward0>),\n",
      "                 'cls_loss_mean': tensor(0.493403, device='cuda:0', dtype=torch.float64, grad_fn=<MulBackward0>)},\n",
      "    'task3': {   'cls_loss': tensor(2.687793, device='cuda:0', dtype=torch.float64, grad_fn=<DivBackward0>),\n",
      "                 'cls_loss_mean': tensor(0.537559, device='cuda:0', dtype=torch.float64, grad_fn=<MulBackward0>)},\n",
      "    'total': {   'total': tensor(8.759646, device='cuda:0', dtype=torch.float64, grad_fn=<AddBackward0>),\n",
      "                 'total_mean': tensor(2.675551, device='cuda:0', dtype=torch.float64, grad_fn=<AddBackward0>)},\n",
      "    'total_mean': {}}\n"
     ]
    }
   ],
   "source": [
    "# pp.pprint(environ.losses)\n",
    "pp.pprint(trn_losses)"
   ]
  },
  {
   "cell_type": "code",
   "execution_count": 38,
   "id": "0d9cdce3",
   "metadata": {
    "ExecuteTime": {
     "end_time": "2022-02-10T03:34:21.945701Z",
     "start_time": "2022-02-10T03:34:21.411234Z"
    }
   },
   "outputs": [
    {
     "name": "stdout",
     "output_type": "stream",
     "text": [
      "{   'aggregated': {   'auc_pr': 0.6805474562906618,\n",
      "                      'avg_prec_score': 0.6807816533341606,\n",
      "                      'bceloss': 0.9775612473487854,\n",
      "                      'f1_max': 0.6969378498338702,\n",
      "                      'kappa': 0.2500278499434187,\n",
      "                      'kappa_max': 0.29669160426755137,\n",
      "                      'logloss': tensor(0.000214, device='cuda:0', dtype=torch.float64),\n",
      "                      'p_f1_max': 0.2160851760388027,\n",
      "                      'p_kappa_max': 0.5119348396857579,\n",
      "                      'roc_auc_score': 0.6848840436108541,\n",
      "                      'sc_loss': tensor(0.407449, device='cuda:0', dtype=torch.float64)},\n",
      "    'epoch': 12,\n",
      "    'loss': {   'task1': 3.91353933321791,\n",
      "                'task2': 4.751992322450581,\n",
      "                'task3': 6.002632442335283,\n",
      "                'total': 14.668164098003771},\n",
      "    'loss_mean': {   'task1': 0.782707866643582,\n",
      "                     'task2': 0.9503984644901166,\n",
      "                     'task3': 1.200526488467057,\n",
      "                     'total': 2.9336328196007546},\n",
      "    'sharing': {'total': 0.002128511667251587},\n",
      "    'sparsity': {   'task1': 0.33643248346116805,\n",
      "                    'task2': 0.329370207256741,\n",
      "                    'task3': 0.35019368595547146,\n",
      "                    'total': 1.0159963369369507},\n",
      "    'task1': {   'classification':       roc_auc_score    auc_pr  avg_prec_score    f1_max  p_f1_max     kappa  kappa_max  p_kappa_max   bceloss\n",
      "task                                                                                                         \n",
      "0          0.714776  0.644673        0.644931  0.669210  0.592656  0.195617   0.334438     0.886543  1.125510\n",
      "1          0.724395  0.639299        0.639681  0.649219  0.298842  0.333314   0.348251     0.537890  0.686129\n",
      "2          0.791108  0.793189        0.793272  0.739347  0.575144  0.363001   0.439977     0.780065  0.664167\n",
      "3          0.710935  0.681036        0.681353  0.682753  0.227855  0.288870   0.332234     0.415195  0.693247\n",
      "4          0.674741  0.689493        0.689699  0.687405  0.105984  0.263917   0.274597     0.578992  0.748321,\n",
      "                 'classification_agg': {   'auc_pr': 0.6895379290374435,\n",
      "                                           'avg_prec_score': 0.689787325959293,\n",
      "                                           'bceloss': 0.7834747195243836,\n",
      "                                           'f1_max': 0.6855868567358512,\n",
      "                                           'kappa': 0.2889437468845333,\n",
      "                                           'kappa_max': 0.345899677809135,\n",
      "                                           'logloss': 0.006177917824856161,\n",
      "                                           'p_f1_max': 0.36009601652622225,\n",
      "                                           'p_kappa_max': 0.6397369682788849,\n",
      "                                           'roc_auc_score': 0.7231909220316995,\n",
      "                                           'sc_loss': 3.91353933321791}},\n",
      "    'task2': {   'classification':       roc_auc_score    auc_pr  avg_prec_score    f1_max      p_f1_max     kappa  kappa_max  p_kappa_max   bceloss\n",
      "task                                                                                                             \n",
      "0          0.767504  0.762136        0.762553  0.746565  5.256325e-01  0.360623   0.403085     0.720969  0.734849\n",
      "1          0.644054  0.630326        0.630543  0.698768  1.764253e-01  0.244581   0.250126     0.579957  1.024544\n",
      "2          0.593119  0.585249        0.585570  0.658917  4.445018e-07  0.162276   0.188429     0.287746  1.359396\n",
      "3          0.713297  0.719673        0.719820  0.715348  1.955647e-01  0.317520   0.326780     0.454685  0.761726\n",
      "4          0.710767  0.719084        0.719242  0.681888  7.153978e-03  0.296313   0.338648     0.307402  0.893089,\n",
      "                 'classification_agg': {   'auc_pr': 0.6832936547689177,\n",
      "                                           'avg_prec_score': 0.6835457357223023,\n",
      "                                           'bceloss': 0.9547208666801454,\n",
      "                                           'f1_max': 0.7002974317752696,\n",
      "                                           'kappa': 0.2762625964892511,\n",
      "                                           'kappa_max': 0.30141371981469617,\n",
      "                                           'logloss': 0.007501500706346018,\n",
      "                                           'p_f1_max': 0.18095537466558653,\n",
      "                                           'p_kappa_max': 0.4701518118381501,\n",
      "                                           'roc_auc_score': 0.6857480762869699,\n",
      "                                           'sc_loss': 4.751992322450581}},\n",
      "    'task3': {   'classification':       roc_auc_score    auc_pr  avg_prec_score    f1_max      p_f1_max     kappa  kappa_max  p_kappa_max   bceloss\n",
      "task                                                                                                             \n",
      "0          0.619825  0.685091        0.685240  0.741770  5.004321e-05  0.194901   0.207721     0.537464  1.137648\n",
      "1          0.597932  0.605720        0.605949  0.702000  1.436832e-01  0.132104   0.180635     0.713469  1.592534\n",
      "2          0.700095  0.668253        0.668544  0.679696  3.922369e-01  0.333498   0.340205     0.463163  0.841955\n",
      "3          0.654756  0.716051        0.716197  0.716439  5.050880e-05  0.159188   0.234104     0.270025  1.131815\n",
      "4          0.655957  0.668939        0.669129  0.684742  3.418194e-08  0.104695   0.251143     0.145458  1.268490,\n",
      "                 'classification_agg': {   'auc_pr': 0.6688107850656247,\n",
      "                                           'avg_prec_score': 0.6690118983208868,\n",
      "                                           'bceloss': 1.1944881558418274,\n",
      "                                           'f1_max': 0.7049292609904902,\n",
      "                                           'kappa': 0.1848772064564717,\n",
      "                                           'kappa_max': 0.24276141517882294,\n",
      "                                           'logloss': 0.009475762680292488,\n",
      "                                           'p_f1_max': 0.10720413692459943,\n",
      "                                           'p_kappa_max': 0.425915738940239,\n",
      "                                           'roc_auc_score': 0.6457131325138926,\n",
      "                                           'sc_loss': 6.002632442335283}},\n",
      "    'total': {'total': 15.686288946607974, 'total_mean': 3.951757668204957},\n",
      "    'train_time': 145.85945844650269}\n"
     ]
    }
   ],
   "source": [
    "pp.pprint(environ.val_metrics)"
   ]
  },
  {
   "cell_type": "code",
   "execution_count": 187,
   "id": "2f2a2d41",
   "metadata": {
    "ExecuteTime": {
     "end_time": "2022-01-27T00:58:49.364883Z",
     "start_time": "2022-01-27T00:58:49.342931Z"
    }
   },
   "outputs": [],
   "source": [
    "# environ.opt['train']['Lambda_sharing'] = 0.5\n",
    "# opt['train']['Lambda_sharing'] = 0.5\n",
    "\n",
    "# environ.opt['train']['policy_lr'] = 0.001\n",
    "# opt['train']['policy_lr'] = 0.001"
   ]
  },
  {
   "cell_type": "code",
   "execution_count": 38,
   "id": "f201072c",
   "metadata": {
    "ExecuteTime": {
     "end_time": "2022-01-26T01:00:41.996410Z",
     "start_time": "2022-01-26T01:00:41.559006Z"
    }
   },
   "outputs": [
    {
     "name": "stdout",
     "output_type": "stream",
     "text": [
      "{   'losses': {   'task1': tensor(2.3789, device='cuda:0', dtype=torch.float64, grad_fn=<DivBackward0>),\n",
      "                  'task2': tensor(2.1948, device='cuda:0', dtype=torch.float64, grad_fn=<DivBackward0>),\n",
      "                  'task3': tensor(2.3476, device='cuda:0', dtype=torch.float64, grad_fn=<DivBackward0>),\n",
      "                  'total': tensor(6.9212, device='cuda:0', dtype=torch.float64, grad_fn=<AddBackward0>)},\n",
      "    'losses_mean': {   'task1': tensor(0.4758, device='cuda:0', dtype=torch.float64, grad_fn=<MulBackward0>),\n",
      "                       'task2': tensor(0.4390, device='cuda:0', dtype=torch.float64, grad_fn=<MulBackward0>),\n",
      "                       'task3': tensor(0.4695, device='cuda:0', dtype=torch.float64, grad_fn=<MulBackward0>),\n",
      "                       'total': tensor(1.3842, device='cuda:0', dtype=torch.float64, grad_fn=<AddBackward0>)},\n",
      "    'parms': {'gumbel_temp': 2.6330653896376153, 'lr_0': 0.005, 'lr_1': 0.005},\n",
      "    'sharing': {   'total': tensor(2.1338e-06, device='cuda:0', grad_fn=<MulBackward0>)},\n",
      "    'sparsity': {   'task1_logits': tensor(0.5853, device='cuda:0', grad_fn=<NllLossBackward0>),\n",
      "                    'task2_logits': tensor(0.5846, device='cuda:0', grad_fn=<NllLossBackward0>),\n",
      "                    'task3_logits': tensor(0.5848, device='cuda:0', grad_fn=<NllLossBackward0>),\n",
      "                    'total': tensor(0.0877, device='cuda:0', grad_fn=<MulBackward0>)},\n",
      "    'task1': {   'cls_loss': tensor(2.3789, device='cuda:0', dtype=torch.float64, grad_fn=<DivBackward0>),\n",
      "                 'cls_loss_mean': tensor(0.4758, device='cuda:0', dtype=torch.float64, grad_fn=<MulBackward0>)},\n",
      "    'task2': {   'cls_loss': tensor(2.1948, device='cuda:0', dtype=torch.float64, grad_fn=<DivBackward0>),\n",
      "                 'cls_loss_mean': tensor(0.4390, device='cuda:0', dtype=torch.float64, grad_fn=<MulBackward0>)},\n",
      "    'task3': {   'cls_loss': tensor(2.3476, device='cuda:0', dtype=torch.float64, grad_fn=<DivBackward0>),\n",
      "                 'cls_loss_mean': tensor(0.4695, device='cuda:0', dtype=torch.float64, grad_fn=<MulBackward0>)},\n",
      "    'total': {   'total': tensor(7.0090, device='cuda:0', dtype=torch.float64, grad_fn=<AddBackward0>),\n",
      "                 'total_mean': tensor(1.4720, device='cuda:0', dtype=torch.float64, grad_fn=<AddBackward0>)},\n",
      "    'total_mean': {}}\n"
     ]
    }
   ],
   "source": [
    "environ.losses.keys()\n",
    "pp.pprint(environ.losses)"
   ]
  },
  {
   "cell_type": "code",
   "execution_count": 79,
   "id": "045936f1",
   "metadata": {
    "ExecuteTime": {
     "end_time": "2022-01-08T01:19:43.683550Z",
     "start_time": "2022-01-08T01:19:43.571450Z"
    }
   },
   "outputs": [
    {
     "name": "stdout",
     "output_type": "stream",
     "text": [
      "dict_keys(['task1', 'task2', 'task3', 'tasks', 'total', 'sharing', 'sparsity'])\n",
      "{   'sharing': {'total': tensor(0.0002, device='cuda:0')},\n",
      "    'sparsity': {   'task1_logits': tensor(0.5147, device='cuda:0'),\n",
      "                    'task2_logits': tensor(0.5195, device='cuda:0'),\n",
      "                    'task3_logits': tensor(0.4978, device='cuda:0'),\n",
      "                    'total': tensor(0.0766, device='cuda:0')},\n",
      "    'task1': {'total': tensor(3.3657, device='cuda:0', dtype=torch.float64)},\n",
      "    'task2': {'total': tensor(3.5906, device='cuda:0', dtype=torch.float64)},\n",
      "    'task3': {'total': tensor(3.2182, device='cuda:0', dtype=torch.float64)},\n",
      "    'tasks': {   'task1': tensor(3.3657, device='cuda:0', dtype=torch.float64),\n",
      "                 'task2': tensor(3.5906, device='cuda:0', dtype=torch.float64),\n",
      "                 'task3': tensor(3.2182, device='cuda:0', dtype=torch.float64),\n",
      "                 'total': tensor(10.1745, device='cuda:0', dtype=torch.float64)},\n",
      "    'total': {'total': tensor(10.2513, device='cuda:0', dtype=torch.float64)}}\n"
     ]
    }
   ],
   "source": [
    "tmp = environ.get_loss_dict()\n",
    "print(tmp.keys())\n",
    "pp.pprint(tmp)"
   ]
  },
  {
   "cell_type": "code",
   "execution_count": 188,
   "id": "9aec77ae",
   "metadata": {
    "ExecuteTime": {
     "end_time": "2022-01-27T00:58:50.458223Z",
     "start_time": "2022-01-27T00:58:50.430889Z"
    }
   },
   "outputs": [
    {
     "name": "stdout",
     "output_type": "stream",
     "text": [
      "True\n",
      "True\n",
      "False\n",
      "0.5\n",
      "0.5\n",
      "0.05\n",
      "0.05\n",
      "0.001\n",
      "0.001\n"
     ]
    }
   ],
   "source": [
    "print(opt['diff_sparsity_weights'])\n",
    "print(opt['is_sharing'])\n",
    "print(opt['diff_sparsity_weights'] and not opt['is_sharing'])\n",
    "print(environ.opt['train']['Lambda_sharing'])\n",
    "print(opt['train']['Lambda_sharing'])\n",
    "print(environ.opt['train']['Lambda_sparsity'])\n",
    "print(opt['train']['Lambda_sparsity'])\n",
    "print(environ.opt['train']['policy_lr'])\n",
    "print(opt['train']['policy_lr'])"
   ]
  },
  {
   "cell_type": "markdown",
   "id": "ffc24362",
   "metadata": {},
   "source": [
    "### Policy / Logit stuff"
   ]
  },
  {
   "cell_type": "code",
   "execution_count": 93,
   "id": "03a4dea9",
   "metadata": {
    "ExecuteTime": {
     "end_time": "2022-02-08T20:35:14.041577Z",
     "start_time": "2022-02-08T20:35:14.018303Z"
    }
   },
   "outputs": [],
   "source": [
    "from scipy.special          import softmax"
   ]
  },
  {
   "cell_type": "code",
   "execution_count": 33,
   "id": "9f0932e9",
   "metadata": {
    "ExecuteTime": {
     "end_time": "2022-02-08T20:00:30.103364Z",
     "start_time": "2022-02-08T20:00:30.068021Z"
    }
   },
   "outputs": [],
   "source": [
    "np.set_printoptions(precision=8,edgeitems=3, infstr='inf', linewidth=150, nanstr='nan')\n",
    "torch.set_printoptions(precision=8,linewidth=132)"
   ]
  },
  {
   "cell_type": "markdown",
   "id": "b2248288",
   "metadata": {},
   "source": [
    "#### `get_task_logits(n)` Get logits for task group n"
   ]
  },
  {
   "cell_type": "code",
   "execution_count": 128,
   "id": "b98fa4c3",
   "metadata": {
    "ExecuteTime": {
     "end_time": "2022-02-08T20:56:35.652087Z",
     "start_time": "2022-02-08T20:56:35.327406Z"
    }
   },
   "outputs": [
    {
     "name": "stdout",
     "output_type": "stream",
     "text": [
      "Parameter containing:\n",
      "tensor([[-0.00035114, -0.06397165],\n",
      "        [ 0.00056738, -0.03663344],\n",
      "        [ 0.00056098, -0.02617791],\n",
      "        [-0.00044851, -0.07137010],\n",
      "        [ 0.00013184, -0.05879313],\n",
      "        [ 0.00079021, -0.05743587]], device='cuda:0')\n"
     ]
    }
   ],
   "source": [
    "task_logits = environ.get_task_logits(1)\n",
    "print(task_logits)"
   ]
  },
  {
   "cell_type": "markdown",
   "id": "26560f69",
   "metadata": {},
   "source": [
    "#### `get_arch_parameters()`: Get last used logits from network"
   ]
  },
  {
   "cell_type": "code",
   "execution_count": 34,
   "id": "b76ebc27",
   "metadata": {
    "ExecuteTime": {
     "end_time": "2022-02-08T20:00:31.101960Z",
     "start_time": "2022-02-08T20:00:30.757064Z"
    },
    "scrolled": true
   },
   "outputs": [
    {
     "name": "stdout",
     "output_type": "stream",
     "text": [
      "[Parameter containing:\n",
      "tensor([[-0.00035120, -0.06617914],\n",
      "        [ 0.00056736, -0.04341661],\n",
      "        [ 0.00056091, -0.01096974],\n",
      "        [-0.00044879, -0.01083876],\n",
      "        [ 0.00013163,  0.00874004],\n",
      "        [ 0.00079006, -0.00861552]], device='cuda:0'), Parameter containing:\n",
      "tensor([[-0.00035114, -0.06397165],\n",
      "        [ 0.00056738, -0.03663344],\n",
      "        [ 0.00056098, -0.02617791],\n",
      "        [-0.00044851, -0.07137010],\n",
      "        [ 0.00013184, -0.05879313],\n",
      "        [ 0.00079021, -0.05743587]], device='cuda:0'), Parameter containing:\n",
      "tensor([[-0.00035016, -0.06321616],\n",
      "        [ 0.00056696, -0.03072025],\n",
      "        [ 0.00056129, -0.01022454],\n",
      "        [-0.00044983, -0.00021709],\n",
      "        [ 0.00013071,  0.00484093],\n",
      "        [ 0.00078938, -0.02230957]], device='cuda:0')]\n"
     ]
    }
   ],
   "source": [
    "import torch.optim as optim\n",
    "arch_parameters      = environ.get_arch_parameters()\n",
    "print(arch_parameters)"
   ]
  },
  {
   "cell_type": "code",
   "execution_count": 25,
   "id": "aeead541",
   "metadata": {
    "ExecuteTime": {
     "end_time": "2022-02-09T15:43:06.054699Z",
     "start_time": "2022-02-09T15:43:05.689327Z"
    },
    "scrolled": true
   },
   "outputs": [
    {
     "name": "stdout",
     "output_type": "stream",
     "text": [
      "[Parameter containing:\n",
      "tensor([[ 1.873275e-03, -5.276022e-01],\n",
      "        [ 2.345233e-03, -2.740704e-01],\n",
      "        [ 2.614364e-03,  1.604760e-02],\n",
      "        [ 2.143114e-04,  2.198091e-02],\n",
      "        [ 4.191113e-04,  5.969038e-02],\n",
      "        [ 2.007700e-03,  3.544179e-02]], device='cuda:0'), Parameter containing:\n",
      "tensor([[ 1.873281e-03, -4.892288e-01],\n",
      "        [ 2.345207e-03, -2.255457e-01],\n",
      "        [ 2.614349e-03, -2.191145e-01],\n",
      "        [ 2.143144e-04, -3.354620e-01],\n",
      "        [ 4.190930e-04, -3.310193e-01],\n",
      "        [ 2.007697e-03, -2.532191e-01]], device='cuda:0'), Parameter containing:\n",
      "tensor([[ 1.873283e-03, -6.248206e-01],\n",
      "        [ 2.345208e-03, -2.149665e-01],\n",
      "        [ 2.614360e-03, -1.423603e-01],\n",
      "        [ 2.143196e-04, -1.089546e-01],\n",
      "        [ 4.191188e-04, -7.532501e-02],\n",
      "        [ 2.007698e-03, -1.407905e-01]], device='cuda:0')]\n"
     ]
    }
   ],
   "source": [
    "import torch.optim as optim\n",
    "arch_parameters      = environ.get_arch_parameters()\n",
    "print(arch_parameters)"
   ]
  },
  {
   "cell_type": "markdown",
   "id": "4228518c",
   "metadata": {},
   "source": [
    "#### `get_policy_logits()`:  Get Policy Logits - returns same as `get_arch_parameters()`"
   ]
  },
  {
   "cell_type": "code",
   "execution_count": 26,
   "id": "e4a1de1c",
   "metadata": {
    "ExecuteTime": {
     "end_time": "2022-02-09T15:43:24.972390Z",
     "start_time": "2022-02-09T15:43:24.636629Z"
    },
    "scrolled": true
   },
   "outputs": [
    {
     "name": "stdout",
     "output_type": "stream",
     "text": [
      "[[ 1.8732749e-03 -5.2760220e-01]\n",
      " [ 2.3452332e-03 -2.7407044e-01]\n",
      " [ 2.6143640e-03  1.6047601e-02]\n",
      " [ 2.1431143e-04  2.1980910e-02]\n",
      " [ 4.1911125e-04  5.9690382e-02]\n",
      " [ 2.0077003e-03  3.5441790e-02]] \n",
      "\n",
      "[[ 1.8732806e-03 -4.8922884e-01]\n",
      " [ 2.3452067e-03 -2.2554573e-01]\n",
      " [ 2.6143489e-03 -2.1911447e-01]\n",
      " [ 2.1431442e-04 -3.3546203e-01]\n",
      " [ 4.1909298e-04 -3.3101928e-01]\n",
      " [ 2.0076970e-03 -2.5321913e-01]] \n",
      "\n",
      "[[ 1.8732828e-03 -6.2482059e-01]\n",
      " [ 2.3452076e-03 -2.1496648e-01]\n",
      " [ 2.6143598e-03 -1.4236034e-01]\n",
      " [ 2.1431963e-04 -1.0895463e-01]\n",
      " [ 4.1911882e-04 -7.5325012e-02]\n",
      " [ 2.0076977e-03 -1.4079048e-01]] \n",
      "\n"
     ]
    }
   ],
   "source": [
    "logs = environ.get_policy_logits()\n",
    "for i in logs:\n",
    "    print(i, '\\n')\n",
    "# probs = softmax(logs, axis= -1)\n",
    "# for i in probs:\n",
    "#     print(i, '\\n')"
   ]
  },
  {
   "cell_type": "markdown",
   "id": "8a5254ca",
   "metadata": {},
   "source": [
    "#### `get_policy_prob()` : Gets the softmax of the logits"
   ]
  },
  {
   "cell_type": "code",
   "execution_count": 27,
   "id": "69bd4409",
   "metadata": {
    "ExecuteTime": {
     "end_time": "2022-02-09T15:43:29.733732Z",
     "start_time": "2022-02-09T15:43:29.699600Z"
    },
    "scrolled": true
   },
   "outputs": [
    {
     "name": "stdout",
     "output_type": "stream",
     "text": [
      "[[0.6293608  0.37063923]\n",
      " [0.5686673  0.43133274]\n",
      " [0.49664173 0.5033582 ]\n",
      " [0.4945586  0.5054415 ]\n",
      " [0.48518652 0.5148135 ]\n",
      " [0.49164233 0.50835776]] \n",
      "\n",
      "[[0.62036604 0.379634  ]\n",
      " [0.55672747 0.44327256]\n",
      " [0.5552062  0.44479376]\n",
      " [0.58313996 0.4168601 ]\n",
      " [0.58210933 0.41789067]\n",
      " [0.5634626  0.4365374 ]] \n",
      "\n",
      "[[0.6517394  0.34826055]\n",
      " [0.5541151  0.44588488]\n",
      " [0.5361803  0.46381968]\n",
      " [0.5272652  0.47273484]\n",
      " [0.518927   0.48107296]\n",
      " [0.535639   0.464361  ]] \n",
      "\n"
     ]
    }
   ],
   "source": [
    "policy_softmaxs = environ.get_policy_prob()\n",
    "for i in policy_softmaxs:\n",
    "    print(i, '\\n')"
   ]
  },
  {
   "cell_type": "markdown",
   "id": "342b8ef4",
   "metadata": {},
   "source": [
    "#### `get_sample_policy( hard_sampling = False)` : Calls test_sample_policy of network with random choices based on softmax of logits"
   ]
  },
  {
   "cell_type": "code",
   "execution_count": 382,
   "id": "57c0a9e8",
   "metadata": {
    "ExecuteTime": {
     "end_time": "2022-02-08T22:21:15.636722Z",
     "start_time": "2022-02-08T22:21:15.165456Z"
    }
   },
   "outputs": [
    {
     "name": "stdout",
     "output_type": "stream",
     "text": [
      "[-0.00035120 -0.06617914] \t [0 1] \t [0.51645106 0.48354897]\n",
      "[ 0.00056736 -0.04341661] \t [0 1] \t [0.51099426 0.48900577]\n",
      "[ 0.00056091 -0.01096974] \t [1 0] \t [0.50288266 0.49711737]\n",
      "[-0.00044879 -0.01083876] \t [0 1] \t [0.50259751 0.49740252]\n",
      "[0.00013163 0.00874004] \t [0 1] \t [0.49784794 0.50215214]\n",
      "[ 0.00079006 -0.00861552] \t [0 1] \t [0.50235140 0.49764863]\n",
      "\n",
      "\n",
      "[-0.00035114 -0.06397165] \t [0 1] \t [0.51589972 0.48410025]\n",
      "[ 0.00056738 -0.03663344] \t [1 0] \t [0.50929916 0.49070087]\n",
      "[ 0.00056098 -0.02617791] \t [1 0] \t [0.5066843 0.4933157]\n",
      "[-0.00044851 -0.07137010] \t [0 1] \t [0.51772296 0.48227707]\n",
      "[ 0.00013184 -0.05879313] \t [0 1] \t [0.514727 0.485273]\n",
      "[ 0.00079021 -0.05743587] \t [0 1] \t [0.51455247 0.48544762]\n",
      "\n",
      "\n",
      "[-0.00035016 -0.06321616] \t [0 1] \t [0.51571137 0.48428872]\n",
      "[ 0.00056696 -0.03072025] \t [1 0] \t [0.50782120 0.49217883]\n",
      "[ 0.00056129 -0.01022454] \t [1 0] \t [0.50269639 0.49730355]\n",
      "[-0.00044983 -0.00021709] \t [0 1] \t [0.4999418 0.5000582]\n",
      "[0.00013071 0.00484093] \t [1 0] \t [0.49882248 0.50117755]\n",
      "[ 0.00078938 -0.02230957] \t [0 1] \t [0.50577444 0.49422547]\n",
      "\n",
      "\n"
     ]
    }
   ],
   "source": [
    "policy_softmaxs = environ.get_policy_prob()\n",
    "policies,logits = environ.get_sample_policy(hard_sampling = False)\n",
    "\n",
    "for l, p, s in zip(logits, policies, policy_softmaxs) :\n",
    "    for  l_row, p_row, s_row in zip(l, p, s):\n",
    "        print( l_row,'\\t', p_row, '\\t', s_row)\n",
    "    print('\\n')"
   ]
  },
  {
   "cell_type": "markdown",
   "id": "24e309fb",
   "metadata": {},
   "source": [
    "#### `get_sample_policy( hard_sampling = True)` : Calls test_sample_policy of network using ARGMAX of logits"
   ]
  },
  {
   "cell_type": "code",
   "execution_count": 131,
   "id": "b21d347e",
   "metadata": {
    "ExecuteTime": {
     "end_time": "2022-02-08T20:59:40.790899Z",
     "start_time": "2022-02-08T20:59:40.726657Z"
    }
   },
   "outputs": [
    {
     "name": "stdout",
     "output_type": "stream",
     "text": [
      "[-0.0003512  -0.06617914] \t [1 0] \t [0.51645106 0.48354897]\n",
      "[ 0.00056736 -0.04341661] \t [1 0] \t [0.51099426 0.48900577]\n",
      "[ 0.00056091 -0.01096974] \t [1 0] \t [0.50288266 0.49711737]\n",
      "[-0.00044879 -0.01083876] \t [1 0] \t [0.5025975  0.49740252]\n",
      "[0.00013163 0.00874004] \t [0 1] \t [0.49784794 0.50215214]\n",
      "[ 0.00079006 -0.00861552] \t [1 0] \t [0.5023514  0.49764863]\n",
      "\n",
      "\n",
      "[-0.00035114 -0.06397165] \t [1 0] \t [0.5158997  0.48410025]\n",
      "[ 0.00056738 -0.03663344] \t [1 0] \t [0.50929916 0.49070087]\n",
      "[ 0.00056098 -0.02617791] \t [1 0] \t [0.5066843 0.4933157]\n",
      "[-0.00044851 -0.0713701 ] \t [1 0] \t [0.51772296 0.48227707]\n",
      "[ 0.00013184 -0.05879313] \t [1 0] \t [0.514727 0.485273]\n",
      "[ 0.00079021 -0.05743587] \t [1 0] \t [0.5145525  0.48544762]\n",
      "\n",
      "\n",
      "[-0.00035016 -0.06321616] \t [1 0] \t [0.51571137 0.48428872]\n",
      "[ 0.00056696 -0.03072025] \t [1 0] \t [0.5078212  0.49217883]\n",
      "[ 0.00056129 -0.01022454] \t [1 0] \t [0.5026964  0.49730355]\n",
      "[-0.00044983 -0.00021709] \t [0 1] \t [0.4999418 0.5000582]\n",
      "[0.00013071 0.00484093] \t [0 1] \t [0.49882248 0.50117755]\n",
      "[ 0.00078938 -0.02230957] \t [1 0] \t [0.50577444 0.49422547]\n",
      "\n",
      "\n"
     ]
    }
   ],
   "source": [
    "policy_softmaxs = environ.get_policy_prob()\n",
    "hard_policies, logits = environ.get_sample_policy(hard_sampling = True)\n",
    "\n",
    "for p,l,s in zip(hard_policies, logits, policy_softmaxs) :\n",
    "    for  p_row, l_row, s_row in zip(p, l, s):\n",
    "        print( l_row,'\\t', p_row, '\\t', s_row)\n",
    "    print('\\n')"
   ]
  },
  {
   "cell_type": "markdown",
   "id": "4a990ac6",
   "metadata": {},
   "source": [
    "#### Print"
   ]
  },
  {
   "cell_type": "code",
   "execution_count": 135,
   "id": "d98de62b",
   "metadata": {
    "ExecuteTime": {
     "end_time": "2022-02-08T21:00:47.452220Z",
     "start_time": "2022-02-08T21:00:47.422902Z"
    }
   },
   "outputs": [
    {
     "name": "stdout",
     "output_type": "stream",
     "text": [
      " Layer    task 1      task 2      task 3\n",
      " -----    ------      ------      ------\n",
      "   1      [1 0]       [1 0]       [1 0]\n",
      "   2      [1 0]       [1 0]       [1 0]\n",
      "   3      [1 0]       [1 0]       [1 0]\n",
      "   4      [1 0]       [1 0]       [0 1]\n",
      "   5      [0 1]       [1 0]       [0 1]\n",
      "   6      [1 0]       [1 0]       [1 0]\n",
      "\n",
      "\n",
      " where [p1  p2]:  p1: layer is selected    p2: layer is not selected\n"
     ]
    }
   ],
   "source": [
    "print(f\" Layer    task 1      task 2      task 3\")\n",
    "print(f\" -----    ------      ------      ------\")\n",
    "for idx, (l1, l2, l3) in enumerate(zip(hard_policies[0], hard_policies[1], hard_policies[2]),1):\n",
    "    print(f\"   {idx}      {l1}       {l2}       {l3}\")\n",
    "    \n",
    "\n",
    "    print(f\"\\n\\n where [p1  p2]:  p1: layer is selected    p2: layer is not selected\")"
   ]
  },
  {
   "cell_type": "code",
   "execution_count": 402,
   "id": "5d7e4a42",
   "metadata": {
    "ExecuteTime": {
     "end_time": "2022-02-08T22:39:39.936555Z",
     "start_time": "2022-02-08T22:39:39.911591Z"
    }
   },
   "outputs": [],
   "source": [
    "def display_trained_policy(iter):\n",
    "\n",
    "    policy_softmaxs = environ.get_policy_prob()\n",
    "    policy_argmaxs = 1-np.argmax(policy_softmaxs, axis = -1)\n",
    "    print(f\"  Trained polcies at iteration: {iter} \")\n",
    "    print(f\"                   task 1                           task 2                         task 3        \")\n",
    "    print(f\" Layer       softmax        select          softmax        select          softmax        select   \")\n",
    "    print(f\" -----    ---------------   ------       ---------------   ------       ---------------   ------   \")\n",
    "    for idx, (l1,l2,l3,  p1,p2,p3) in enumerate(zip(policy_softmaxs[0], policy_softmaxs[1], policy_softmaxs[2], policy_argmaxs[0], policy_argmaxs[1], policy_argmaxs[2]),1):\n",
    "        print(f\"   {idx}      {l1[0]:.4f}   {l1[1]:.4f}   {p1:4d}    {l2[0]:11.4f}   {l2[1]:.4f}   {p2:4d}    {l3[0]:11.4f}   {l3[1]:.4f}   {p3:4d}\")\n",
    "\n",
    "    print()\n",
    "# print(f\"\\n\\n where [p1  p2]:  p1: layer is selected    p2: layer is not selected\")"
   ]
  },
  {
   "cell_type": "code",
   "execution_count": 405,
   "id": "7d9ff144",
   "metadata": {
    "ExecuteTime": {
     "end_time": "2022-02-08T22:42:12.650813Z",
     "start_time": "2022-02-08T22:42:12.330169Z"
    }
   },
   "outputs": [
    {
     "name": "stdout",
     "output_type": "stream",
     "text": [
      "  Trained polcies at iteration: 5 \n",
      "                   task 1                           task 2                         task 3        \n",
      " Layer       softmax        select          softmax        select          softmax        select   \n",
      " -----    ---------------   ------       ---------------   ------       ---------------   ------   \n",
      "   1      0.5165   0.4835      1         0.5159   0.4841      1         0.5157   0.4843      1\n",
      "   2      0.5110   0.4890      1         0.5093   0.4907      1         0.5078   0.4922      1\n",
      "   3      0.5029   0.4971      1         0.5067   0.4933      1         0.5027   0.4973      1\n",
      "   4      0.5026   0.4974      1         0.5177   0.4823      1         0.4999   0.5001      0\n",
      "   5      0.4978   0.5022      0         0.5147   0.4853      1         0.4988   0.5012      0\n",
      "   6      0.5024   0.4976      1         0.5146   0.4854      1         0.5058   0.4942      1\n",
      "\n"
     ]
    }
   ],
   "source": [
    "display_trained_policy(5)"
   ]
  },
  {
   "cell_type": "code",
   "execution_count": 355,
   "id": "dca8019f",
   "metadata": {
    "ExecuteTime": {
     "end_time": "2022-02-08T22:07:30.836214Z",
     "start_time": "2022-02-08T22:07:30.804575Z"
    }
   },
   "outputs": [
    {
     "name": "stdout",
     "output_type": "stream",
     "text": [
      "                        POLICIES (SOFTMAX)                                       task 3          \n",
      " Layer    task1              task2            task3 softmax         softmax         argmax         softmax         argmax   \n",
      " -----    -------------     -------------     -------------   ------   \n",
      "   1      0.5165 0.4835     0.5159 0.4841     0.5157 0.4843    [1 0]\n",
      "   2      0.5110 0.4890     0.5093 0.4907     0.5078 0.4922    [1 0]\n",
      "   3      0.5029 0.4971     0.5067 0.4933     0.5027 0.4973    [1 0]\n",
      "   4      0.5026 0.4974     0.5177 0.4823     0.4999 0.5001    [0 1]\n",
      "   5      0.4978 0.5022     0.5147 0.4853     0.4988 0.5012    [0 1]\n",
      "   6      0.5024 0.4976     0.5146 0.4854     0.5058 0.4942    [1 0]\n",
      "\n",
      "\n",
      " where [p1  p2]:  p1: layer is selected    p2: layer is not selected\n"
     ]
    }
   ],
   "source": [
    "print(f\"                        POLICIES (SOFTMAX)                                       task 3          \")\n",
    "print(f\" Layer    task1              task2            task3 softmax         softmax         argmax         softmax         argmax   \")\n",
    "print(f\" -----    -------------     -------------     -------------   ------   \")\n",
    "for idx, (l1,l2,l3, h1,h2,h3) in enumerate(zip(policy_softmaxs[0], policy_softmaxs[1], policy_softmaxs[2],hard_policies[0], hard_policies[1], hard_policies[2]),1):\n",
    "    print(f\"   {idx}      {l1[0]:.4f} {l1[1]:.4f}     {l2[0]:.4f} {l2[1]:.4f}     {l3[0]:.4f} {l3[1]:.4f}    {h3}\")\n",
    "    \n",
    "print(f\"\\n\\n where [p1  p2]:  p1: layer is selected    p2: layer is not selected\")"
   ]
  },
  {
   "cell_type": "code",
   "execution_count": 349,
   "id": "18e9247d",
   "metadata": {
    "ExecuteTime": {
     "end_time": "2022-02-08T22:04:50.757406Z",
     "start_time": "2022-02-08T22:04:50.731736Z"
    }
   },
   "outputs": [
    {
     "name": "stdout",
     "output_type": "stream",
     "text": [
      "[array([[0.51645106, 0.48354897],\n",
      "       [0.51099426, 0.48900577],\n",
      "       [0.50288266, 0.49711737],\n",
      "       [0.50259751, 0.49740252],\n",
      "       [0.49784794, 0.50215214],\n",
      "       [0.50235140, 0.49764863]], dtype=float32), array([[0.51589972, 0.48410025],\n",
      "       [0.50929916, 0.49070087],\n",
      "       [0.50668430, 0.49331570],\n",
      "       [0.51772296, 0.48227707],\n",
      "       [0.51472700, 0.48527300],\n",
      "       [0.51455247, 0.48544762]], dtype=float32), array([[0.51571137, 0.48428872],\n",
      "       [0.50782120, 0.49217883],\n",
      "       [0.50269639, 0.49730355],\n",
      "       [0.49994180, 0.50005817],\n",
      "       [0.49882248, 0.50117755],\n",
      "       [0.50577444, 0.49422547]], dtype=float32)] [[0 0 0 0 1 0]\n",
      " [0 0 0 0 0 0]\n",
      " [0 0 0 1 1 0]]\n"
     ]
    }
   ],
   "source": [
    "# print(policy_softmaxs[2], np.argmax(1-policy_softmaxs[2], axis = -1))\n",
    "print(policy_softmaxs, np.argmax(policy_softmaxs, axis = -1))"
   ]
  },
  {
   "cell_type": "markdown",
   "id": "78b47685",
   "metadata": {},
   "source": [
    "#### `get_current_logits()` : Calls test_sample_policy of network using ARGMAX of logits"
   ]
  },
  {
   "cell_type": "code",
   "execution_count": 149,
   "id": "61e7e5b2",
   "metadata": {
    "ExecuteTime": {
     "end_time": "2022-02-08T21:19:06.155425Z",
     "start_time": "2022-02-08T21:19:06.118640Z"
    },
    "scrolled": true
   },
   "outputs": [
    {
     "name": "stdout",
     "output_type": "stream",
     "text": [
      "[[-0.0003512  -0.06617914]\n",
      " [ 0.00056736 -0.04341661]\n",
      " [ 0.00056091 -0.01096974]\n",
      " [-0.00044879 -0.01083876]\n",
      " [ 0.00013163  0.00874004]\n",
      " [ 0.00079006 -0.00861552]] \n",
      "\n",
      "[[-0.00035114 -0.06397165]\n",
      " [ 0.00056738 -0.03663344]\n",
      " [ 0.00056098 -0.02617791]\n",
      " [-0.00044851 -0.0713701 ]\n",
      " [ 0.00013184 -0.05879313]\n",
      " [ 0.00079021 -0.05743587]] \n",
      "\n",
      "[[-0.00035016 -0.06321616]\n",
      " [ 0.00056696 -0.03072025]\n",
      " [ 0.00056129 -0.01022454]\n",
      " [-0.00044983 -0.00021709]\n",
      " [ 0.00013071  0.00484093]\n",
      " [ 0.00078938 -0.02230957]] \n",
      "\n"
     ]
    }
   ],
   "source": [
    "logits  = (environ.get_current_logits())\n",
    "for i in logits:\n",
    "    print(i ,'\\n')"
   ]
  },
  {
   "cell_type": "markdown",
   "id": "08fa3815",
   "metadata": {},
   "source": [
    "#### `get_current_policy()` : Calls test_sample_policy of network using ARGMAX of logits"
   ]
  },
  {
   "cell_type": "code",
   "execution_count": 107,
   "id": "aceb18bd",
   "metadata": {
    "ExecuteTime": {
     "end_time": "2022-02-08T20:40:06.543376Z",
     "start_time": "2022-02-08T20:40:06.230711Z"
    },
    "scrolled": true
   },
   "outputs": [
    {
     "name": "stdout",
     "output_type": "stream",
     "text": [
      "[[1 0]\n",
      " [1 0]\n",
      " [0 1]\n",
      " [1 0]\n",
      " [1 0]\n",
      " [1 0]] \n",
      "\n",
      "[[0 1]\n",
      " [1 0]\n",
      " [1 0]\n",
      " [1 0]\n",
      " [0 1]\n",
      " [0 1]] \n",
      "\n",
      "[[0 1]\n",
      " [0 1]\n",
      " [0 1]\n",
      " [0 1]\n",
      " [1 0]\n",
      " [0 1]] \n",
      "\n"
     ]
    }
   ],
   "source": [
    "pols  = (environ.get_current_policy())\n",
    "\n",
    "for i in pols:\n",
    "    print(i ,'\\n')"
   ]
  },
  {
   "cell_type": "code",
   "execution_count": null,
   "id": "8915614d",
   "metadata": {
    "ExecuteTime": {
     "end_time": "2022-01-27T18:27:33.593255Z",
     "start_time": "2022-01-27T18:27:33.553141Z"
    }
   },
   "outputs": [],
   "source": [
    " "
   ]
  },
  {
   "cell_type": "markdown",
   "id": "4ac0461d",
   "metadata": {},
   "source": [
    "#### `gumbel_softmax()`  "
   ]
  },
  {
   "cell_type": "code",
   "execution_count": 170,
   "id": "e0b6b03f",
   "metadata": {
    "ExecuteTime": {
     "end_time": "2022-02-08T21:28:17.107529Z",
     "start_time": "2022-02-08T21:28:17.084910Z"
    }
   },
   "outputs": [],
   "source": [
    "np.set_printoptions(precision=8,edgeitems=3, infstr='inf', linewidth=150, nanstr='nan', floatmode = 'maxprec_equal')\n",
    "torch.set_printoptions(precision=8,linewidth=132)"
   ]
  },
  {
   "cell_type": "code",
   "execution_count": 319,
   "id": "0645d47a",
   "metadata": {
    "ExecuteTime": {
     "end_time": "2022-02-08T21:35:11.617269Z",
     "start_time": "2022-02-08T21:35:11.569599Z"
    }
   },
   "outputs": [
    {
     "name": "stdout",
     "output_type": "stream",
     "text": [
      "0.0001180506617226113\n",
      "   [-0.00035016 -0.06321616]   \t [0.17155227 0.82844770]            \t [1. 0.]\n",
      "   [ 0.00056696 -0.03072025]   \t [0.04782803 0.95217192]            \t [1. 0.]\n",
      "   [ 0.00056129 -0.01022454]   \t [0.52678031 0.47321963]            \t [0. 1.]\n",
      "   [-0.00044983 -0.00021709]   \t [0.74226642 0.25773358]            \t [0. 1.]\n",
      "   [0.00013071 0.00484093]   \t [0.81233245 0.18766758]            \t [1. 0.]\n",
      "   [ 0.00078938 -0.02230957]   \t [0.76270294 0.23729712]            \t [1. 0.]\n",
      "\n",
      "   [-0.00035016 -0.06321616]   \t [0.01975500 0.98024493]            \t [0. 1.]\n",
      "   [ 0.00056696 -0.03072025]   \t [0.33801472 0.66198522]            \t [1. 0.]\n",
      "   [ 0.00056129 -0.01022454]   \t [0.2644645 0.7355355]            \t [0. 1.]\n",
      "   [-0.00044983 -0.00021709]   \t [0.08984101 0.91015899]            \t [1. 0.]\n",
      "   [0.00013071 0.00484093]   \t [0.17066659 0.82933342]            \t [1. 0.]\n",
      "   [ 0.00078938 -0.02230957]   \t [0.74648136 0.25351864]            \t [0. 1.]\n",
      "\n",
      "   [-0.00035016 -0.06321616]   \t [0.5077298 0.4922701]            \t [0. 1.]\n",
      "   [ 0.00056696 -0.03072025]   \t [0.97178763 0.02821237]            \t [0. 1.]\n",
      "   [ 0.00056129 -0.01022454]   \t [0.15721972 0.84278023]            \t [1. 0.]\n",
      "   [-0.00044983 -0.00021709]   \t [0.13137119 0.86862880]            \t [1. 0.]\n",
      "   [0.00013071 0.00484093]   \t [0.89678597 0.10321394]            \t [1. 0.]\n",
      "   [ 0.00078938 -0.02230957]   \t [0.36205515 0.63794482]            \t [1. 0.]\n",
      "\n"
     ]
    }
   ],
   "source": [
    "print(environ.temp)\n",
    "# tau = environ.temp\n",
    "tau = 1\n",
    "for i in range(3): \n",
    "    logits_tensor = torch.tensor(logits[0])\n",
    "    # Sample soft categorical using reparametrization trick:\n",
    "    gumbel_soft = F.gumbel_softmax(logits_tensor, tau=tau, hard=False).cpu().numpy() \n",
    "\n",
    "    # Sample hard categorical using \"Straight-through\" trick:\n",
    "    gumbel_hard  = F.gumbel_softmax(logits_tensor, tau=tau, hard=True).cpu().numpy()\n",
    "    \n",
    "    for l, gs, gh in zip(lgts, gumbel_soft, gumbel_hard):\n",
    "        print(f\"   {l}   \\t {gs}            \\t {gh}\")\n",
    "#     print(lgts)\n",
    "#     print(gumbel_soft)\n",
    "#     print(gumbel_hard)\n",
    "    print()"
   ]
  },
  {
   "cell_type": "code",
   "execution_count": null,
   "id": "9dfeeff3",
   "metadata": {},
   "outputs": [],
   "source": []
  },
  {
   "cell_type": "code",
   "execution_count": 151,
   "id": "4a5dbe0d",
   "metadata": {
    "ExecuteTime": {
     "end_time": "2022-02-08T21:21:35.524957Z",
     "start_time": "2022-02-08T21:21:35.488812Z"
    }
   },
   "outputs": [
    {
     "name": "stdout",
     "output_type": "stream",
     "text": [
      "[[-0.0003512  -0.06617914]\n",
      " [ 0.00056736 -0.04341661]\n",
      " [ 0.00056091 -0.01096974]\n",
      " [-0.00044879 -0.01083876]\n",
      " [ 0.00013163  0.00874004]\n",
      " [ 0.00079006 -0.00861552]]\n",
      "tensor([[0.22969657, 0.77030343],\n",
      "        [0.47433791, 0.52566212],\n",
      "        [0.60556847, 0.39443150],\n",
      "        [0.00808809, 0.99191189],\n",
      "        [0.99667323, 0.00332679],\n",
      "        [0.56034184, 0.43965816]])\n",
      "tensor([[0., 1.],\n",
      "        [1., 0.],\n",
      "        [0., 1.],\n",
      "        [0., 1.],\n",
      "        [1., 0.],\n",
      "        [1., 0.]])\n",
      "\n",
      "[[-0.00035114 -0.06397165]\n",
      " [ 0.00056738 -0.03663344]\n",
      " [ 0.00056098 -0.02617791]\n",
      " [-0.00044851 -0.0713701 ]\n",
      " [ 0.00013184 -0.05879313]\n",
      " [ 0.00079021 -0.05743587]]\n",
      "tensor([[0.29727638, 0.70272362],\n",
      "        [0.65075004, 0.34924990],\n",
      "        [0.83831531, 0.16168469],\n",
      "        [0.72130281, 0.27869719],\n",
      "        [0.87410325, 0.12589674],\n",
      "        [0.53555954, 0.46444049]])\n",
      "tensor([[0., 1.],\n",
      "        [1., 0.],\n",
      "        [0., 1.],\n",
      "        [1., 0.],\n",
      "        [0., 1.],\n",
      "        [1., 0.]])\n",
      "\n",
      "[[-0.00035016 -0.06321616]\n",
      " [ 0.00056696 -0.03072025]\n",
      " [ 0.00056129 -0.01022454]\n",
      " [-0.00044983 -0.00021709]\n",
      " [ 0.00013071  0.00484093]\n",
      " [ 0.00078938 -0.02230957]]\n",
      "tensor([[0.00141716, 0.99858284],\n",
      "        [0.96934801, 0.03065197],\n",
      "        [0.70224190, 0.29775816],\n",
      "        [0.26444790, 0.73555207],\n",
      "        [0.63976562, 0.36023444],\n",
      "        [0.73902303, 0.26097697]])\n",
      "tensor([[0., 1.],\n",
      "        [1., 0.],\n",
      "        [0., 1.],\n",
      "        [1., 0.],\n",
      "        [0., 1.],\n",
      "        [0., 1.]])\n",
      "\n"
     ]
    }
   ],
   "source": [
    "for lgts in logits:\n",
    "    logits_tensor = torch.tensor(lgts)\n",
    "    print(lgts)\n",
    "    # Sample soft categorical using reparametrization trick:\n",
    "    gumbel_soft = F.gumbel_softmax(logits_tensor, tau=1, hard=False)\n",
    "    print(gumbel_soft)\n",
    "\n",
    "    # Sample hard categorical using \"Straight-through\" trick:\n",
    "    gumbel_hard  = F.gumbel_softmax(logits_tensor, tau=1, hard=True)\n",
    "    print(gumbel_hard)\n",
    "    print()"
   ]
  },
  {
   "cell_type": "code",
   "execution_count": 33,
   "id": "166622f6",
   "metadata": {
    "ExecuteTime": {
     "end_time": "2022-02-03T20:49:37.643349Z",
     "start_time": "2022-02-03T20:49:37.580786Z"
    }
   },
   "outputs": [
    {
     "name": "stdout",
     "output_type": "stream",
     "text": [
      "(6, 2)\n",
      "[[0.47754285 0.52245715]\n",
      " [0.45825934 0.54174066]\n",
      " [0.45530966 0.54469034]\n",
      " [0.43196854 0.56803146]\n",
      " [0.43017322 0.56982678]\n",
      " [0.43333559 0.56666441]]\n",
      "[0.47754285 0.52245715]\n",
      "0.9999999999999998\n",
      "0\n"
     ]
    }
   ],
   "source": [
    "smax = scipy.special.softmax(logs, axis =1)\n",
    "# smax = np.array( \n",
    "# [[0.46973792, 0.530262  ],\n",
    "#  [0.45025694, 0.549743  ],\n",
    "#  [0.4443086 , 0.5556915 ],\n",
    "#  [0.4138397 , 0.58616036],\n",
    "#  [0.4140113 , 0.5859887 ],\n",
    "#  [0.42114905, 0.57885087]])\n",
    "\n",
    "print(smax.shape)\n",
    "print(smax)\n",
    "print(smax[0])\n",
    "print(smax[0].sum())\n",
    "print(np.random.choice((1,0), p =smax[0]))"
   ]
  },
  {
   "cell_type": "code",
   "execution_count": 142,
   "id": "640a8822",
   "metadata": {
    "ExecuteTime": {
     "end_time": "2022-02-08T21:15:19.893888Z",
     "start_time": "2022-02-08T21:15:19.870899Z"
    }
   },
   "outputs": [],
   "source": [
    "logs = np.array(\n",
    "[[0.33064184, 0.42053092],\n",
    " [0.3532089 , 0.52056104],\n",
    " [0.3888512 , 0.5680909 ],\n",
    " [0.42039296, 0.694217  ],\n",
    " [0.4519742 , 0.73311865],\n",
    " [0.48401102, 0.7522658 ]],\n",
    ")"
   ]
  }
 ],
 "metadata": {
  "kernelspec": {
   "display_name": "Python [conda env:pyt-gpu]",
   "language": "python",
   "name": "conda-env-pyt-gpu-py"
  },
  "language_info": {
   "codemirror_mode": {
    "name": "ipython",
    "version": 3
   },
   "file_extension": ".py",
   "mimetype": "text/x-python",
   "name": "python",
   "nbconvert_exporter": "python",
   "pygments_lexer": "ipython3",
   "version": "3.9.5"
  },
  "toc": {
   "base_numbering": 1,
   "nav_menu": {},
   "number_sections": true,
   "sideBar": true,
   "skip_h1_title": false,
   "title_cell": "Table of Contents",
   "title_sidebar": "Contents",
   "toc_cell": false,
   "toc_position": {
    "height": "calc(100% - 180px)",
    "left": "10px",
    "top": "150px",
    "width": "399px"
   },
   "toc_section_display": true,
   "toc_window_display": false
  }
 },
 "nbformat": 4,
 "nbformat_minor": 5
}
