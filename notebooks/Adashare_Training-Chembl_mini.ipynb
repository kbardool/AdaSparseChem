{
 "cells": [
  {
   "cell_type": "markdown",
   "id": "408f1261",
   "metadata": {},
   "source": [
    "## Initialization  "
   ]
  },
  {
   "cell_type": "code",
   "execution_count": 1,
   "id": "6d574cdc",
   "metadata": {
    "ExecuteTime": {
     "end_time": "2022-04-06T01:59:55.201424Z",
     "start_time": "2022-04-06T01:59:53.245982Z"
    },
    "execution": {
     "iopub.execute_input": "2022-01-07T22:44:08.233990Z",
     "iopub.status.busy": "2022-01-07T22:44:08.233053Z",
     "iopub.status.idle": "2022-01-07T22:44:08.273284Z",
     "shell.execute_reply": "2022-01-07T22:44:08.271908Z",
     "shell.execute_reply.started": "2022-01-07T22:44:08.233943Z"
    },
    "scrolled": false,
    "tags": []
   },
   "outputs": [],
   "source": [
    "%load_ext autoreload\n",
    "%autoreload 2\n",
    "import os \n",
    "import sys\n",
    "sys.path.insert(0, '../src')\n",
    "import time\n",
    "import argparse\n",
    "import yaml\n",
    "import types\n",
    "import copy, pprint\n",
    "from time import sleep\n",
    "from datetime import datetime\n",
    "import numpy  as np\n",
    "import torch  \n",
    "import wandb\n",
    "import pandas as pd\n",
    "from utils.notebook_modules import initialize, init_dataloaders, init_environment, init_wandb, \\\n",
    "                                   training_prep, disp_dataloader_info,disp_info_1, \\\n",
    "                                   warmup_phase, weight_policy_training, disp_gpu_info\n",
    "\n",
    "from utils import (print_separator, print_heading, timestring, print_loss, load_from_pickle) #, print_underline, \n",
    "#                       print_dbg, get_command_line_args ) \n",
    "\n",
    "pp = pprint.PrettyPrinter(indent=4)\n",
    "np.set_printoptions(edgeitems=3, infstr='inf', linewidth=150, nanstr='nan')\n",
    "torch.set_printoptions(precision=6, linewidth=132)\n",
    "pd.options.display.width = 132\n",
    "# torch.set_printoptions(precision=None, threshold=None, edgeitems=None, linewidth=None, profile=None, sci_mode=None)\n",
    "# sys.path.insert(0, '/home/kbardool/kusanagi/AdaSparseChem/src')\n",
    "# print(sys.path)\n",
    "# disp_gpu_info() \n",
    "os.environ[\"WANDB_NOTEBOOK_NAME\"] = \"Adashare_Training.ipynb\"\n"
   ]
  },
  {
   "cell_type": "markdown",
   "id": "1b33ac6e",
   "metadata": {},
   "source": [
    "## Create Environment"
   ]
  },
  {
   "cell_type": "markdown",
   "id": "ee652c57",
   "metadata": {},
   "source": [
    "### Parse Input Args  - Read YAML config file"
   ]
  },
  {
   "cell_type": "code",
   "execution_count": 2,
   "id": "a42bb98b",
   "metadata": {
    "ExecuteTime": {
     "end_time": "2022-04-06T01:59:55.242221Z",
     "start_time": "2022-04-06T01:59:55.206711Z"
    }
   },
   "outputs": [],
   "source": [
    "# RESUME_MODEL_CKPT = 'model_train_ep_25_seed_0088'\n",
    "\n",
    "## For RESTARTING\n",
    "##\n",
    "# input_args = \" --config yamls/chembl_3task_train.yaml \" \\\n",
    "#              \" --resume \" \\\n",
    "#              \" --exp_id      330i85cg\" \\\n",
    "#              \" --exp_name    0308_1204\" \\\n",
    "#              \" --exp_desc    Train with dropout 0.5\" \\\n",
    "#              \" --seed_idx    0 \"\\\n",
    "#              \" --batch_size  128\" \\\n",
    "#              \" --lambda_sparsity  0.01\"\\\n",
    "#              \" --lambda_sharing   0.01\" \n",
    "## get command line arguments"
   ]
  },
  {
   "cell_type": "code",
   "execution_count": 3,
   "id": "cd3a7f00",
   "metadata": {
    "ExecuteTime": {
     "end_time": "2022-04-06T01:59:55.281197Z",
     "start_time": "2022-04-06T01:59:55.245716Z"
    },
    "execution": {
     "iopub.execute_input": "2022-01-07T22:44:13.145647Z",
     "iopub.status.busy": "2022-01-07T22:44:13.145313Z",
     "iopub.status.idle": "2022-01-07T22:44:13.193262Z",
     "shell.execute_reply": "2022-01-07T22:44:13.192140Z",
     "shell.execute_reply.started": "2022-01-07T22:44:13.145622Z"
    }
   },
   "outputs": [],
   "source": [
    "synthetic_1task_config = \"../yamls/chembl_synt_train_1task.yaml\"\n",
    "synthetic_3task_config = \"../yamls/chembl_synt_train_3task.yaml\"\n",
    "synthetic_5task_config = \"../yamls/chembl_synt_train_5task.yaml\"\n",
    "synthetic_config = \"../yamls/chembl_synt_train.yaml\"\n",
    "mini_config      = \"../yamls/chembl_mini_train.yaml\"\n",
    "##  For Initiating \n",
    "##\n",
    "input_args = f\" --config  {synthetic_3task_config} \" \\\n",
    "             \" --exp_desc     weight 105 bch/ep policy 105 bch/ep \" \\\n",
    "             \" --warmup_epochs        50 \" \\\n",
    "             \" --hidden_size          50 \" \\\n",
    "             \" --tail_hidden_size     50 \" \\\n",
    "             \" --first_dropout       0.2\" \\\n",
    "             \" --middle_dropout      0.2\" \\\n",
    "             \" --last_dropout        0.2\" \\\n",
    "             \" --seed_idx              0\"  \\\n",
    "             \" --batch_size         128\"  \\\n",
    "             \" --task_lr           0.001\"  \\\n",
    "             \" --backbone_lr       0.001\"  \\\n",
    "             \" --decay_lr_rate      0.75\"  \\\n",
    "             \" --decay_lr_freq       20\"  \\\n",
    "             \" --policy_lr        0.001\"  \\\n",
    "             \" --lambda_sparsity   0.02\"  \\\n",
    "             \" --lambda_sharing    0.01\"  \\\n",
    "             \" --folder_sfx      noplcy\"                       \n",
    "#              \" --hidden_size   100 100 100 100 100 100\" \\\n",
    "#              \" --tail_hidden_size  100 \" \\"
   ]
  },
  {
   "cell_type": "code",
   "execution_count": 4,
   "id": "dbc14177",
   "metadata": {
    "ExecuteTime": {
     "end_time": "2022-04-06T01:59:56.956753Z",
     "start_time": "2022-04-06T01:59:55.286731Z"
    },
    "scrolled": false
   },
   "outputs": [
    {
     "name": "stdout",
     "output_type": "stream",
     "text": [
      "\n",
      "  command line parms : \n",
      "------------------------\n",
      " config...................  ../yamls/chembl_synt_train_3task.yaml\n",
      " exp_id...................  None\n",
      " exp_name.................  None\n",
      " folder_sfx...............  noplcy\n",
      " exp_desc.................  weight 105 bch/ep policy 105 bch/ep\n",
      " hidden_sizes.............  [50]\n",
      " tail_hidden_size.........  50\n",
      " warmup_epochs............  50\n",
      " training_epochs..........  None\n",
      " seed_idx.................  0\n",
      " batch_size...............  128\n",
      " first_dropout............  0.2\n",
      " middle_dropout...........  0.2\n",
      " last_dropout.............  0.2\n",
      " backbone_lr..............  0.001\n",
      " task_lr..................  0.001\n",
      " policy_lr................  0.001\n",
      " decay_lr_rate............  0.75\n",
      " decay_lr_freq............  20.0\n",
      " lambda_sparsity..........  0.02\n",
      " lambda_sharing...........  0.01\n",
      " gpu_ids..................  [0]\n",
      " resume...................  False\n",
      " cpu......................  False\n",
      "\n",
      "\n",
      "\n",
      "##################################################\n",
      "################### READ YAML ####################\n",
      "##################################################\n",
      "\n",
      "\n",
      " log_dir              create folder:  ../../experiments/AdaSparseChem/50x1_0406_0359_plr0.001_sp0.02_sh0.01_lr0.001_do0.2_noplcy\n",
      " result_dir           folder exists:  ../../experiments/AdaSparseChem/50x1_0406_0359_plr0.001_sp0.02_sh0.01_lr0.001_do0.2_noplcy\n",
      " checkpoint_dir       folder exists:  ../../experiments/AdaSparseChem/50x1_0406_0359_plr0.001_sp0.02_sh0.01_lr0.001_do0.2_noplcy\n",
      "\n",
      "------------------------------------------------------------------------------------------------------------------------\n",
      " experiment name       : 0406_0359_noplcy \n",
      " experiment id         : 3pmu2pvo \n",
      " folder_name           : 50x1_0406_0359_plr0.001_sp0.02_sh0.01_lr0.001_do0.2_noplcy \n",
      " experiment description: weight 105 bch/ep policy 105 bch/ep\n",
      " Random seeds          : [88, 45, 50, 100, 44, 48, 2048, 2222, 9999]\n",
      " Random  seed used     : 88 \n",
      " log folder            : ../../experiments/AdaSparseChem/50x1_0406_0359_plr0.001_sp0.02_sh0.01_lr0.001_do0.2_noplcy\n",
      " checkpoint folder     : ../../experiments/AdaSparseChem/50x1_0406_0359_plr0.001_sp0.02_sh0.01_lr0.001_do0.2_noplcy\n",
      " Gpu ids               : [0]\n",
      " Seed index            : 0\n",
      " policy_iter           : best\n",
      " Data Split ratios     : [0.725, 0.225, 0.05]\n",
      "------------------------------------------------------------------------------------------------------------------------ \n",
      "\n",
      "        project_name : AdaSparseChem\n",
      "              exp_id : 3pmu2pvo\n",
      "            exp_name : 0406_0359_noplcy\n",
      "          exp_folder : 50x1_0406_0359_plr0.001_sp0.02_sh0.01_lr0.001_do0.2_noplcy\n",
      "     exp_description : weight 105 bch/ep policy 105 bch/ep\n",
      "          folder_sfx : noplcy\n",
      "         random_seed : 88\n",
      "           seed_list : [88, 45, 50, 100, 44, 48, 2048, 2222, 9999]\n",
      "                 cpu : False\n",
      "             gpu_ids : [0]\n",
      "            backbone : SparseChem\n",
      "               tasks : ['class', 'class', 'class']\n",
      "     tasks_num_class : [5, 5, 5]\n",
      "             lambdas : [1, 1, 1]\n",
      "        policy_model : task-specific\n",
      "             verbose : False\n",
      "       backbone_orig : ResNet18\n",
      "          tasks_orig : ['seg', 'sn']\n",
      "     input_size_freq : None\n",
      "          input_size : 32000\n",
      " first_non_linearity : relu\n",
      "middle_non_linearity : relu\n",
      "  last_non_linearity : relu\n",
      "       first_dropout : 0.2\n",
      "      middle_dropout : 0.2\n",
      "        last_dropout : 0.2\n",
      "   class_output_size : None\n",
      "    regr_output_size : None\n",
      "              policy : True\n",
      "           is_sparse : True\n",
      "          is_sharing : True\n",
      "diff_sparsity_weights : False\n",
      "          skip_layer : 0\n",
      "       is_curriculum : False\n",
      "    curriculum_speed : 3\n",
      "              fix_BN : False\n",
      "     retrain_from_pl : False\n",
      "\n",
      "train\n",
      "-----\n",
      "          batch_size : 128\n",
      "       warmup_epochs : 50\n",
      "     training_epochs : 250\n",
      "         total_iters : 25000\n",
      "       warm_up_iters : None\n",
      "             task_lr : 0.001\n",
      "         backbone_lr : 0.001\n",
      "    weight_optimizer : sgd\n",
      "    policy_optimizer : adam\n",
      "       decay_lr_rate : 0.75\n",
      "       decay_lr_freq : 20.0\n",
      "policy_decay_lr_rate : 0.75\n",
      "policy_decay_lr_freq : 50\n",
      "           policy_lr : 0.001\n",
      "     lambda_sparsity : 0.02\n",
      "      lambda_sharing : 0.01\n",
      "        lambda_tasks : 1\n",
      "         init_method : random\n",
      "           init_temp : 4\n",
      "          decay_temp : 0.965\n",
      "     decay_temp_freq : 16\n",
      "     init_neg_logits : None\n",
      "       hard_sampling : False\n",
      "            val_freq : 500\n",
      "          print_freq : -1\n",
      "           val_iters : -1\n",
      "              resume : False\n",
      "      retrain_resume : False\n",
      "         policy_iter : best\n",
      "          which_iter : warmup\n",
      "\n",
      "paths\n",
      "-----\n",
      "             log_dir : ../../experiments/AdaSparseChem/50x1_0406_0359_plr0.001_sp0.02_sh0.01_lr0.001_do0.2_noplcy\n",
      "          result_dir : ../../experiments/AdaSparseChem/50x1_0406_0359_plr0.001_sp0.02_sh0.01_lr0.001_do0.2_noplcy\n",
      "      checkpoint_dir : ../../experiments/AdaSparseChem/50x1_0406_0359_plr0.001_sp0.02_sh0.01_lr0.001_do0.2_noplcy\n",
      "\n",
      "dataload\n",
      "--------\n",
      "             dataset : Chembl23_mini\n",
      "            dataroot : /home/kbardool/WSL-projs/MLDatasets/chembl23_synthetic\n",
      "                   x : chembl_23mini_x.npy\n",
      "      x_split_ratios : [0.725, 0.225, 0.05]\n",
      "             y_tasks : ['chembl_23mini_adashare_y1_bin_sparse.npy', 'chembl_23mini_adashare_y2_bin_sparse.npy', 'chembl_23mini_adashare_y3_bin_sparse.npy']\n",
      "            y_censor : None\n",
      "             folding : chembl_23mini_folds.npy\n",
      "         fold_inputs : 32000\n",
      "     input_transform : None\n",
      "       weights_class : None\n",
      "              crop_h : 321\n",
      "              crop_w : 321\n",
      "   min_samples_class : 5\n",
      "             fold_va : 0\n",
      "             fold_te : None\n",
      "\n",
      "SC\n",
      "--\n",
      "      normalize_loss : None\n",
      "        hidden_sizes : [50]\n",
      "    tail_hidden_size : 50\n",
      "        exp_name_pfx : 0406_0359\n",
      "##################################################\n",
      "############### CREATE DATALOADERS ###############\n",
      "##################################################\n",
      "\n",
      " trainset.y_class                                   :  [(13331, 5), (13331, 5), (13331, 5)] \n",
      " trainset1.y_class                                  :  [(13331, 5), (13331, 5), (13331, 5)] \n",
      " trainset2.y_class                                  :  [(13331, 5), (13331, 5), (13331, 5)] \n",
      " valset.y_class                                     :  [(4137, 5), (4137, 5), (4137, 5)]  \n",
      " testset.y_class                                    :  [(920, 5), (920, 5), (920, 5)]  \n",
      "                                 \n",
      " size of training set 0 (warm up)                   :  13331 \n",
      " size of training set 1 (network parms)             :  13331 \n",
      " size of training set 2 (policy weights)            :  13331 \n",
      " size of validation set                             :  4137 \n",
      " size of test set                                   :  920 \n",
      "                               Total                :  45050 \n",
      "                                 \n",
      " lenght (# batches) in training 0 (warm up)         :  105 \n",
      " lenght (# batches) in training 1 (network parms)   :  105 \n",
      " lenght (# batches) in training 2 (policy weights)  :  105 \n",
      " lenght (# batches) in validation dataset           :  33 \n",
      " lenght (# batches) in test dataset                 :  29 \n",
      "                                \n"
     ]
    }
   ],
   "source": [
    "opt, ns = initialize(input_args, build_folders = True)\n",
    "\n",
    "dldrs = init_dataloaders(opt, verbose = False)\n",
    "\n",
    "disp_dataloader_info(dldrs)"
   ]
  },
  {
   "cell_type": "markdown",
   "id": "8f2bfa8d",
   "metadata": {},
   "source": [
    "### Setup Dataloader and Model  "
   ]
  },
  {
   "cell_type": "code",
   "execution_count": 5,
   "id": "c631eb67",
   "metadata": {
    "ExecuteTime": {
     "end_time": "2022-04-06T01:59:57.309645Z",
     "start_time": "2022-04-06T01:59:56.969743Z"
    },
    "execution": {
     "iopub.execute_input": "2022-01-07T22:44:16.229028Z",
     "iopub.status.busy": "2022-01-07T22:44:16.227544Z",
     "iopub.status.idle": "2022-01-07T22:44:16.659397Z",
     "shell.execute_reply": "2022-01-07T22:44:16.658348Z",
     "shell.execute_reply.started": "2022-01-07T22:44:16.228966Z"
    },
    "scrolled": false
   },
   "outputs": [
    {
     "name": "stdout",
     "output_type": "stream",
     "text": [
      "##################################################\n",
      "############# CREATE THE ENVIRONMENT #############\n",
      "##################################################\n",
      " device is  cuda:0\n",
      " Input Layer  - Input: 32000  output: 50  non-linearity:<class 'torch.nn.modules.activation.ReLU'>\n",
      "----------------------------------------------------\n",
      "* SparseChemEnv environment successfully created\n",
      "---------------------------------------------------- \n",
      "\n",
      " \n",
      "\n",
      "SparseChemEnv  Configuration       \n",
      "---------------------------------------- \n",
      "\n",
      "----------------\n",
      "networks       :\n",
      "----------------\n",
      " {'mtl-net': MTL3(\n",
      "  (backbone): SparseChem_Backbone(\n",
      "    (Input_Layer): Sequential(\n",
      "      (linear): SparseLinear(in_features=32000, out_features=50, bias=True)\n",
      "    )\n",
      "    (blocks): ModuleList(\n",
      "      (0): ModuleList(\n",
      "        (0): SparseChemBlock(\n",
      "          (linear): Linear(in_features=50, out_features=50, bias=True)\n",
      "          (non_linear): ReLU()\n",
      "          (dropout): Dropout(p=0.2, inplace=False)\n",
      "        )\n",
      "      )\n",
      "    )\n",
      "    (residuals): ModuleList(\n",
      "      (0): None\n",
      "    )\n",
      "  )\n",
      "  (task1_fc1_c0): SparseChem_Classification_Module(\n",
      "    (linear): Linear(in_features=50, out_features=5, bias=True)\n",
      "  )\n",
      "  (task2_fc1_c0): SparseChem_Classification_Module(\n",
      "    (linear): Linear(in_features=50, out_features=5, bias=True)\n",
      "  )\n",
      "  (task3_fc1_c0): SparseChem_Classification_Module(\n",
      "    (linear): Linear(in_features=50, out_features=5, bias=True)\n",
      "  )\n",
      ")}\n",
      "\n",
      "----------------\n",
      "optimizers     :\n",
      "----------------\n",
      " {'weights': SGD (\n",
      "Parameter Group 0\n",
      "    dampening: 0\n",
      "    lr: 0.001\n",
      "    momentum: 0.9\n",
      "    nesterov: False\n",
      "    weight_decay: 0.0001\n",
      "\n",
      "Parameter Group 1\n",
      "    dampening: 0\n",
      "    lr: 0.001\n",
      "    momentum: 0.9\n",
      "    nesterov: False\n",
      "    weight_decay: 0.0001\n",
      "), 'alphas': Adam (\n",
      "Parameter Group 0\n",
      "    amsgrad: False\n",
      "    betas: (0.9, 0.999)\n",
      "    eps: 1e-08\n",
      "    lr: 0.001\n",
      "    weight_decay: 0.0005\n",
      ")}\n",
      "\n",
      "----------------\n",
      "schedulers     :\n",
      "----------------\n",
      "factor                        : 0.75 \n",
      "optimizer                     : Adam (\n",
      "Parameter Group 0\n",
      "    amsgrad: False\n",
      "    betas: (0.9, 0.999)\n",
      "    eps: 1e-08\n",
      "    lr: 0.001\n",
      "    weight_decay: 0.0005\n",
      ") \n",
      "min_lrs                       : [0] \n",
      "patience                      : 50 \n",
      "verbose                       : True \n",
      "cooldown                      : 5 \n",
      "cooldown_counter              : 0 \n",
      "mode                          : min \n",
      "threshold                     : 0.0001 \n",
      "threshold_mode                : rel \n",
      "best                          : inf \n",
      "num_bad_epochs                : 0 \n",
      "mode_worse                    : inf \n",
      "eps                           : 1e-08 \n",
      "last_epoch                    : 0 \n",
      "factor                        : 0.75 \n",
      "optimizer                     : SGD (\n",
      "Parameter Group 0\n",
      "    dampening: 0\n",
      "    lr: 0.001\n",
      "    momentum: 0.9\n",
      "    nesterov: False\n",
      "    weight_decay: 0.0001\n",
      "\n",
      "Parameter Group 1\n",
      "    dampening: 0\n",
      "    lr: 0.001\n",
      "    momentum: 0.9\n",
      "    nesterov: False\n",
      "    weight_decay: 0.0001\n",
      ") \n",
      "min_lrs                       : [0, 0] \n",
      "patience                      : 20.0 \n",
      "verbose                       : True \n",
      "cooldown                      : 5 \n",
      "cooldown_counter              : 0 \n",
      "mode                          : min \n",
      "threshold                     : 0.0001 \n",
      "threshold_mode                : rel \n",
      "best                          : inf \n",
      "num_bad_epochs                : 0 \n",
      "mode_worse                    : inf \n",
      "eps                           : 1e-08 \n",
      "last_epoch                    : 0 \n",
      "\n"
     ]
    }
   ],
   "source": [
    "environ = init_environment(ns, opt, is_train = True, policy_learning = False, display_cfg = True)\n",
    "\n",
    "# ********************************************************************\n",
    "# **************** define optimizer and schedulers *******************\n",
    "# ********************************************************************                                \n",
    "# environ.define_optimizer(policy_learning=False)\n",
    "# environ.define_scheduler(policy_learning=False)"
   ]
  },
  {
   "cell_type": "code",
   "execution_count": null,
   "id": "6459332d",
   "metadata": {},
   "outputs": [],
   "source": []
  },
  {
   "cell_type": "code",
   "execution_count": null,
   "id": "d5c67dc1",
   "metadata": {},
   "outputs": [],
   "source": []
  },
  {
   "cell_type": "markdown",
   "id": "320fdeee",
   "metadata": {},
   "source": [
    "###  Weights and Biases Initialization "
   ]
  },
  {
   "cell_type": "code",
   "execution_count": 6,
   "id": "03c2469c",
   "metadata": {
    "ExecuteTime": {
     "end_time": "2022-04-06T02:00:03.475977Z",
     "start_time": "2022-04-06T01:59:57.315419Z"
    }
   },
   "outputs": [
    {
     "name": "stderr",
     "output_type": "stream",
     "text": [
      "\u001b[34m\u001b[1mwandb\u001b[0m: Currently logged in as: \u001b[33mkbardool\u001b[0m (use `wandb login --relogin` to force relogin)\n"
     ]
    },
    {
     "name": "stdout",
     "output_type": "stream",
     "text": [
      "3pmu2pvo 0406_0359_noplcy AdaSparseChem\n"
     ]
    },
    {
     "name": "stderr",
     "output_type": "stream",
     "text": [
      "error: cannot run ipynb_drop_output: No such file or directory\n",
      "error: cannot fork to run external filter 'ipynb_drop_output'\n",
      "error: external filter 'ipynb_drop_output' failed\n",
      "error: cannot run ipynb_drop_output: No such file or directory\n",
      "error: cannot fork to run external filter 'ipynb_drop_output'\n",
      "error: external filter 'ipynb_drop_output' failed\n"
     ]
    },
    {
     "data": {
      "text/html": [
       "wandb version 0.12.12 is available!  To upgrade, please run:\n",
       " $ pip install wandb --upgrade"
      ],
      "text/plain": [
       "<IPython.core.display.HTML object>"
      ]
     },
     "metadata": {},
     "output_type": "display_data"
    },
    {
     "data": {
      "text/html": [
       "Tracking run with wandb version 0.12.11"
      ],
      "text/plain": [
       "<IPython.core.display.HTML object>"
      ]
     },
     "metadata": {},
     "output_type": "display_data"
    },
    {
     "data": {
      "text/html": [
       "Run data is saved locally in <code>/home/kbardool/WSL-projs/AdaSparseChem/notebooks/wandb/run-20220406_035957-3pmu2pvo</code>"
      ],
      "text/plain": [
       "<IPython.core.display.HTML object>"
      ]
     },
     "metadata": {},
     "output_type": "display_data"
    },
    {
     "data": {
      "text/html": [
       "Syncing run <strong><a href=\"http://localhost:8080/kbardool/AdaSparseChem/runs/3pmu2pvo\" target=\"_blank\">0406_0359_noplcy</a></strong> to <a href=\"http://localhost:8080/kbardool/AdaSparseChem\" target=\"_blank\">Weights & Biases</a> (<a href=\"https://wandb.me/run\" target=\"_blank\">docs</a>)<br/>"
      ],
      "text/plain": [
       "<IPython.core.display.HTML object>"
      ]
     },
     "metadata": {},
     "output_type": "display_data"
    },
    {
     "name": "stdout",
     "output_type": "stream",
     "text": [
      " PROJECT NAME: AdaSparseChem\n",
      " RUN ID      : 3pmu2pvo \n",
      " RUN NAME    : 0406_0359_noplcy\n",
      " PROJECT NAME: AdaSparseChem\n",
      " RUN ID      : 3pmu2pvo \n",
      " RUN NAME    : 0406_0359_noplcy\n"
     ]
    }
   ],
   "source": [
    "init_wandb(ns, opt, environment = environ)\n",
    "print(f\" PROJECT NAME: {ns.wandb_run.project}\\n\"\n",
    "      f\" RUN ID      : {ns.wandb_run.id} \\n\"\n",
    "      f\" RUN NAME    : {ns.wandb_run.name}\") "
   ]
  },
  {
   "cell_type": "code",
   "execution_count": 7,
   "id": "d949180d",
   "metadata": {
    "ExecuteTime": {
     "end_time": "2022-04-06T02:00:03.590031Z",
     "start_time": "2022-04-06T02:00:03.481425Z"
    }
   },
   "outputs": [],
   "source": [
    "# ns.wandb_run.finish()"
   ]
  },
  {
   "cell_type": "markdown",
   "id": "1d738062",
   "metadata": {},
   "source": [
    "### Initiate / Resume Training Prep"
   ]
  },
  {
   "cell_type": "code",
   "execution_count": 8,
   "id": "7bd2a36e",
   "metadata": {
    "ExecuteTime": {
     "end_time": "2022-04-06T02:00:03.697921Z",
     "start_time": "2022-04-06T02:00:03.594881Z"
    }
   },
   "outputs": [],
   "source": [
    "# if opt['train']['resume']:\n",
    "#     RESUME_MODEL_CKPT = \"\"\n",
    "#     RESUME_METRICS_CKPT = \"\"    \n",
    "#     # opt['train']['which_iter'] = 'warmup_ep_40_seed_0088'\n",
    "#     print(opt['train']['which_iter'])\n",
    "#     print(opt['paths']['checkpoint_dir'])\n",
    "#     print(RESUME_MODEL_CKPT)\n",
    "#     print_separator('Resume training')\n",
    "#     loaded_iter, loaded_epoch = environ.load_checkpoint(RESUME_MODEL_CKPT, path = opt['paths']['checkpoint_dir'], verbose = True)\n",
    "#     print(loaded_iter, loaded_epoch)    \n",
    "# #     current_iter = environ.load_checkpoint(opt['train']['which_iter'])\n",
    "#     environ.networks['mtl-net'].reset_logits()\n",
    "#     val_metrics = load_from_pickle(opt['paths']['checkpoint_dir'], RESUME_METRICS_CKPT)\n",
    "#     # training_prep(ns, opt, environ, dldrs, epoch = loaded_epoch, iter = loaded_iter )\n",
    "\n",
    "# else:\n",
    "#     print_separator('Initiate Training ')"
   ]
  },
  {
   "cell_type": "markdown",
   "id": "f9f7774f",
   "metadata": {},
   "source": [
    "### Training Preparation"
   ]
  },
  {
   "cell_type": "code",
   "execution_count": 9,
   "id": "e8b6afdc",
   "metadata": {
    "ExecuteTime": {
     "end_time": "2022-04-06T02:00:03.824293Z",
     "start_time": "2022-04-06T02:00:03.706180Z"
    }
   },
   "outputs": [
    {
     "name": "stdout",
     "output_type": "stream",
     "text": [
      " cuda available [0]\n",
      " set print_freq to length of train loader: 105\n",
      " set eval_iters to length of val loader  : 33\n",
      "--------------------------------------------------------------------------------\n",
      "\n",
      "    folder: 50x1_0406_0359_plr0.001_sp0.02_sh0.01_lr0.001_do0.2_noplcy\n",
      "    layers: 1 [50] \n",
      "    \n",
      "    middle dropout         : 0.2\n",
      "    last dropout           : 0.2\n",
      "    diff_sparsity_weights  : False\n",
      "    skip_layer             : 0\n",
      "    is_curriculum          : False\n",
      "    curriculum_speed       : 3\n",
      "    \n",
      "    task_lr                : 0.001\n",
      "    backbone_lr            : 0.001\n",
      "    decay_lr_rate          : 0.75\n",
      "    decay_lr_freq          : 20.0\n",
      "    \n",
      "    policy_lr              : 0.001\n",
      "    policy_decay_lr_rate   : 0.75\n",
      "    policy_decay_lr_freq   : 50\n",
      "    lambda_sparsity        : 0.02\n",
      "    lambda_sharing         : 0.01\n",
      "    lambda_tasks           : 1\n",
      "    \n",
      "    Gumbel init_temp       : 4\n",
      "    Gumbel decay_temp      : 0.965\n",
      "    Gumbel decay_temp_freq : 16\n",
      "    Logit init_method      : random\n",
      "    Logit init_neg_logits  : None\n",
      "    Logit hard_sampling    : False\n",
      "    Warm-up epochs         : 50\n",
      "    training epochs        : 250\n",
      "    Data split ratios      : [0.725, 0.225, 0.05]\n",
      "\n"
     ]
    }
   ],
   "source": [
    "training_prep(ns, opt, environ, dldrs)\n",
    "\n",
    "# print('-'*80)\n",
    "# disp_info_1(ns, opt, environ)\n",
    "\n",
    "print('-'*80)\n",
    "print(environ.disp_for_excel())"
   ]
  },
  {
   "cell_type": "markdown",
   "id": "3278d6d1",
   "metadata": {},
   "source": [
    "## Warmup Training"
   ]
  },
  {
   "cell_type": "code",
   "execution_count": 10,
   "id": "92380a48",
   "metadata": {
    "ExecuteTime": {
     "end_time": "2022-04-06T02:00:03.937280Z",
     "start_time": "2022-04-06T02:00:03.835295Z"
    },
    "scrolled": true
   },
   "outputs": [
    {
     "name": "stdout",
     "output_type": "stream",
     "text": [
      "100 0\n",
      "--------------------------------------------------------------------------\n",
      " Last Epoch: 0   # of warm-up epochs to do:  100 - Run epochs 1 to 100\n",
      "-------------------------------------------------------------------------- \n",
      "\n"
     ]
    }
   ],
   "source": [
    "# environ.display_trained_policy(ns.current_epoch,out=sys.stdout)\n",
    "# ns.stop_epoch_warmup = 10\n",
    "ns.warmup_epochs = 100\n",
    "# ns.check_for_improvment_wait = 0\n",
    "print(ns.warmup_epochs, ns.current_epoch)\n",
    "print_heading(f\" Last Epoch: {ns.current_epoch}   # of warm-up epochs to do:  {ns.warmup_epochs} - Run epochs {ns.current_epoch+1} to {ns.current_epoch + ns.warmup_epochs}\", verbose = True)"
   ]
  },
  {
   "cell_type": "code",
   "execution_count": 11,
   "id": "1bd29e74",
   "metadata": {
    "ExecuteTime": {
     "end_time": "2022-04-06T02:07:57.697204Z",
     "start_time": "2022-04-06T02:00:35.699119Z"
    },
    "scrolled": false
   },
   "outputs": [
    {
     "name": "stdout",
     "output_type": "stream",
     "text": [
      "--------------------------------------------------------------------------\n",
      " Last Epoch: 0   # of warm-up epochs to do:  100 - Run epochs 1 to 100\n",
      "-------------------------------------------------------------------------- \n",
      "\n",
      "Epoch | BckBone LR   Heads LR  Policy LR Gumbl Temp |  trn loss     trn spar     trn shar   trn ttl |   bceloss  avg prec    aucroc     aucpr |  val loss     val spar     val shar    val ttl |  time |\n",
      "    1 |   1.00e-03   1.00e-03   1.00e-03  4.000e+00 |   10.8530   2.1910e-03   5.5851e-07   10.8552 |   0.71011   0.51749   0.52009   0.51700 |   10.6539   3.4614e-04   8.8234e-08    10.6542 |   5.3 |\n",
      "Previous best_epoch:     0   best iter:     0,   best_value: 0.00000\n",
      "New      best_epoch:     1   best iter:   105,   best_value: 0.51749\n",
      "    2 |   1.00e-03   1.00e-03   1.00e-03  4.000e+00 |   10.0166   2.1910e-03   5.5851e-07   10.0188 |   0.69949   0.53825   0.54265   0.53777 |   10.4956   3.4614e-04   8.8234e-08    10.4960 |   5.0 |\n",
      "Previous best_epoch:     1   best iter:   105,   best_value: 0.51749\n",
      "New      best_epoch:     2   best iter:   210,   best_value: 0.53825\n",
      "    3 |   1.00e-03   1.00e-03   1.00e-03  4.000e+00 |   10.0351   2.1910e-03   5.5851e-07   10.0373 |   0.69473   0.55206   0.55711   0.55160 |   10.4194   3.4614e-04   8.8234e-08    10.4198 |   5.4 |\n",
      "Previous best_epoch:     2   best iter:   210,   best_value: 0.53825\n",
      "New      best_epoch:     3   best iter:   315,   best_value: 0.55206\n",
      "    4 |   1.00e-03   1.00e-03   1.00e-03  4.000e+00 |    9.9974   2.1910e-03   5.5851e-07    9.9996 |   0.69119   0.56148   0.56630   0.56106 |   10.3663   3.4614e-04   8.8234e-08    10.3666 |   4.9 |\n",
      "Previous best_epoch:     3   best iter:   315,   best_value: 0.55206\n",
      "New      best_epoch:     4   best iter:   420,   best_value: 0.56148\n",
      "    5 |   1.00e-03   1.00e-03   1.00e-03  4.000e+00 |    9.8273   2.1910e-03   5.5851e-07    9.8295 |   0.68876   0.56866   0.57388   0.56825 |   10.3295   3.4614e-04   8.8234e-08    10.3298 |   5.2 |\n",
      "Previous best_epoch:     4   best iter:   420,   best_value: 0.56148\n",
      "New      best_epoch:     5   best iter:   525,   best_value: 0.56866\n",
      "    6 |   1.00e-03   1.00e-03   1.00e-03  4.000e+00 |   10.3867   2.1910e-03   5.5851e-07   10.3889 |   0.68723   0.57469   0.58013   0.57429 |   10.3066   3.4614e-04   8.8234e-08    10.3070 |   5.2 |\n",
      "Previous best_epoch:     5   best iter:   525,   best_value: 0.56866\n",
      "New      best_epoch:     6   best iter:   630,   best_value: 0.57469\n",
      "    7 |   1.00e-03   1.00e-03   1.00e-03  4.000e+00 |   10.0090   2.1910e-03   5.5851e-07   10.0112 |   0.68602   0.58018   0.58556   0.57977 |   10.2870   3.4614e-04   8.8234e-08    10.2874 |   5.0 |\n",
      "Previous best_epoch:     6   best iter:   630,   best_value: 0.57469\n",
      "New      best_epoch:     7   best iter:   735,   best_value: 0.58018\n",
      "    8 |   1.00e-03   1.00e-03   1.00e-03  4.000e+00 |    9.6551   2.1910e-03   5.5851e-07    9.6573 |   0.68448   0.58552   0.59125   0.58513 |   10.2678   3.4614e-04   8.8234e-08    10.2681 |   5.2 |\n",
      "Previous best_epoch:     7   best iter:   735,   best_value: 0.58018\n",
      "New      best_epoch:     8   best iter:   840,   best_value: 0.58552\n",
      "    9 |   1.00e-03   1.00e-03   1.00e-03  4.000e+00 |    8.9938   2.1910e-03   5.5851e-07    8.9960 |   0.68227   0.59037   0.59653   0.58997 |   10.2335   3.4614e-04   8.8234e-08    10.2338 |   5.1 |\n",
      "Previous best_epoch:     8   best iter:   840,   best_value: 0.58552\n",
      "New      best_epoch:     9   best iter:   945,   best_value: 0.59037\n",
      "   10 |   1.00e-03   1.00e-03   1.00e-03  4.000e+00 |    9.9632   2.1910e-03   5.5851e-07    9.9654 |   0.68129   0.59423   0.60074   0.59384 |   10.2230   3.4614e-04   8.8234e-08    10.2234 |   5.2 |\n",
      "Previous best_epoch:     9   best iter:   945,   best_value: 0.59037\n",
      "New      best_epoch:    10   best iter:  1050,   best_value: 0.59423\n",
      "   11 |   1.00e-03   1.00e-03   1.00e-03  4.000e+00 |    9.3091   2.1910e-03   5.5851e-07    9.3113 |   0.68000   0.59850   0.60530   0.59810 |   10.2013   3.4614e-04   8.8234e-08    10.2017 |   5.1 |\n",
      "Previous best_epoch:    10   best iter:  1050,   best_value: 0.59423\n",
      "New      best_epoch:    11   best iter:  1155,   best_value: 0.59850\n",
      "   12 |   1.00e-03   1.00e-03   1.00e-03  4.000e+00 |    9.3506   2.1910e-03   5.5851e-07    9.3528 |   0.67890   0.60237   0.60965   0.60199 |   10.1842   3.4614e-04   8.8234e-08    10.1845 |   5.2 |\n",
      "Previous best_epoch:    11   best iter:  1155,   best_value: 0.59850\n",
      "New      best_epoch:    12   best iter:  1260,   best_value: 0.60237\n",
      "   13 |   1.00e-03   1.00e-03   1.00e-03  4.000e+00 |    9.6455   2.1910e-03   5.5851e-07    9.6477 |   0.67684   0.60595   0.61337   0.60556 |   10.1545   3.4614e-04   8.8234e-08    10.1549 |   5.2 |\n",
      "Previous best_epoch:    12   best iter:  1260,   best_value: 0.60237\n",
      "New      best_epoch:    13   best iter:  1365,   best_value: 0.60595\n",
      "   14 |   1.00e-03   1.00e-03   1.00e-03  4.000e+00 |    9.6385   2.1910e-03   5.5851e-07    9.6407 |   0.67570   0.60963   0.61724   0.60925 |   10.1337   3.4614e-04   8.8234e-08    10.1341 |   6.1 |\n",
      "Previous best_epoch:    13   best iter:  1365,   best_value: 0.60595\n",
      "New      best_epoch:    14   best iter:  1470,   best_value: 0.60963\n",
      "   15 |   1.00e-03   1.00e-03   1.00e-03  4.000e+00 |    9.4182   2.1910e-03   5.5851e-07    9.4204 |   0.67454   0.61272   0.62023   0.61234 |   10.1197   3.4614e-04   8.8234e-08    10.1201 |   5.5 |\n",
      "Previous best_epoch:    14   best iter:  1470,   best_value: 0.60963\n",
      "New      best_epoch:    15   best iter:  1575,   best_value: 0.61272\n",
      "   16 |   1.00e-03   1.00e-03   1.00e-03  4.000e+00 |    9.0907   2.1910e-03   5.5851e-07    9.0929 |   0.67428   0.61541   0.62316   0.61503 |   10.1077   3.4614e-04   8.8234e-08    10.1080 |   5.5 |\n",
      "Previous best_epoch:    15   best iter:  1575,   best_value: 0.61272\n",
      "New      best_epoch:    16   best iter:  1680,   best_value: 0.61541\n",
      "   17 |   1.00e-03   1.00e-03   1.00e-03  4.000e+00 |    9.1921   2.1910e-03   5.5851e-07    9.1943 |   0.67290   0.61851   0.62660   0.61814 |   10.1032   3.4614e-04   8.8234e-08    10.1035 |   5.4 |\n",
      "Previous best_epoch:    16   best iter:  1680,   best_value: 0.61541\n",
      "New      best_epoch:    17   best iter:  1785,   best_value: 0.61851\n",
      "   18 |   1.00e-03   1.00e-03   1.00e-03  4.000e+00 |    8.7237   2.1910e-03   5.5851e-07    8.7258 |   0.67198   0.62150   0.62947   0.62116 |   10.0738   3.4614e-04   8.8234e-08    10.0742 |   5.8 |\n",
      "Previous best_epoch:    17   best iter:  1785,   best_value: 0.61851\n",
      "New      best_epoch:    18   best iter:  1890,   best_value: 0.62150\n",
      "   19 |   1.00e-03   1.00e-03   1.00e-03  4.000e+00 |    8.5603   2.1910e-03   5.5851e-07    8.5625 |   0.67118   0.62410   0.63209   0.62376 |   10.0625   3.4614e-04   8.8234e-08    10.0629 |   5.3 |\n",
      "Previous best_epoch:    18   best iter:  1890,   best_value: 0.62150\n",
      "New      best_epoch:    19   best iter:  1995,   best_value: 0.62410\n",
      "   20 |   1.00e-03   1.00e-03   1.00e-03  4.000e+00 |    9.3841   2.1910e-03   5.5851e-07    9.3863 |   0.66968   0.62695   0.63481   0.62661 |   10.0374   3.4614e-04   8.8234e-08    10.0377 |   6.2 |\n",
      "Previous best_epoch:    19   best iter:  1995,   best_value: 0.62410\n",
      "New      best_epoch:    20   best iter:  2100,   best_value: 0.62695\n",
      "   21 |   1.00e-03   1.00e-03   1.00e-03  4.000e+00 |    9.1829   2.1910e-03   5.5851e-07    9.1851 |   0.66906   0.62906   0.63684   0.62873 |   10.0421   3.4614e-04   8.8234e-08    10.0425 |   5.2 |\n",
      "Previous best_epoch:    20   best iter:  2100,   best_value: 0.62695\n",
      "New      best_epoch:    21   best iter:  2205,   best_value: 0.62906\n",
      "   22 |   1.00e-03   1.00e-03   1.00e-03  4.000e+00 |    8.1948   2.1910e-03   5.5851e-07    8.1970 |   0.66915   0.63145   0.63934   0.63112 |   10.0354   3.4614e-04   8.8234e-08    10.0357 |   5.3 |\n",
      "Previous best_epoch:    21   best iter:  2205,   best_value: 0.62906\n",
      "New      best_epoch:    22   best iter:  2310,   best_value: 0.63145\n",
      "   23 |   1.00e-03   1.00e-03   1.00e-03  4.000e+00 |    8.5445   2.1910e-03   5.5851e-07    8.5467 |   0.66914   0.63331   0.64112   0.63298 |   10.0419   3.4614e-04   8.8234e-08    10.0422 |   5.0 |\n",
      "Previous best_epoch:    22   best iter:  2310,   best_value: 0.63145\n",
      "New      best_epoch:    23   best iter:  2415,   best_value: 0.63331\n"
     ]
    },
    {
     "name": "stdout",
     "output_type": "stream",
     "text": [
      "   24 |   1.00e-03   1.00e-03   1.00e-03  4.000e+00 |    7.9277   2.1910e-03   5.5851e-07    7.9299 |   0.66861   0.63522   0.64311   0.63489 |   10.0190   3.4614e-04   8.8234e-08    10.0194 |   6.1 |\n",
      "Previous best_epoch:    23   best iter:  2415,   best_value: 0.63331\n",
      "New      best_epoch:    24   best iter:  2520,   best_value: 0.63522\n",
      "   25 |   1.00e-03   1.00e-03   1.00e-03  4.000e+00 |    7.5594   2.1910e-03   5.5851e-07    7.5616 |   0.66774   0.63718   0.64510   0.63685 |   10.0097   3.4614e-04   8.8234e-08    10.0100 |   5.1 |\n",
      "Previous best_epoch:    24   best iter:  2520,   best_value: 0.63522\n",
      "New      best_epoch:    25   best iter:  2625,   best_value: 0.63718\n",
      "Epoch | BckBone LR   Heads LR  Policy LR Gumbl Temp |  trn loss     trn spar     trn shar   trn ttl |   bceloss  avg prec    aucroc     aucpr |  val loss     val spar     val shar    val ttl |  time |\n",
      "   26 |   1.00e-03   1.00e-03   1.00e-03  4.000e+00 |    9.1191   2.1910e-03   5.5851e-07    9.1213 |   0.66689   0.63934   0.64719   0.63902 |    9.9960   3.4614e-04   8.8234e-08     9.9964 |   5.5 |\n",
      "Previous best_epoch:    25   best iter:  2625,   best_value: 0.63718\n",
      "New      best_epoch:    26   best iter:  2730,   best_value: 0.63934\n",
      "   27 |   1.00e-03   1.00e-03   1.00e-03  4.000e+00 |    9.1574   2.1910e-03   5.5851e-07    9.1596 |   0.66617   0.64112   0.64894   0.64081 |    9.9962   3.4614e-04   8.8234e-08     9.9966 |   5.6 |\n",
      "Previous best_epoch:    26   best iter:  2730,   best_value: 0.63934\n",
      "New      best_epoch:    27   best iter:  2835,   best_value: 0.64112\n",
      "   28 |   1.00e-03   1.00e-03   1.00e-03  4.000e+00 |    8.8400   2.1910e-03   5.5851e-07    8.8422 |   0.66639   0.64281   0.65058   0.64250 |   10.0038   3.4614e-04   8.8234e-08    10.0042 |   5.5 |\n",
      "Previous best_epoch:    27   best iter:  2835,   best_value: 0.64112\n",
      "New      best_epoch:    28   best iter:  2940,   best_value: 0.64281\n",
      "   29 |   1.00e-03   1.00e-03   1.00e-03  4.000e+00 |    8.1857   2.1910e-03   5.5851e-07    8.1879 |   0.66622   0.64479   0.65243   0.64449 |    9.9934   3.4614e-04   8.8234e-08     9.9937 |   5.4 |\n",
      "Previous best_epoch:    28   best iter:  2940,   best_value: 0.64281\n",
      "New      best_epoch:    29   best iter:  3045,   best_value: 0.64479\n",
      "   30 |   1.00e-03   1.00e-03   1.00e-03  4.000e+00 |    8.3378   2.1910e-03   5.5851e-07    8.3400 |   0.66605   0.64636   0.65395   0.64606 |    9.9918   3.4614e-04   8.8234e-08     9.9922 |   5.5 |\n",
      "Previous best_epoch:    29   best iter:  3045,   best_value: 0.64479\n",
      "New      best_epoch:    30   best iter:  3150,   best_value: 0.64636\n",
      "   31 |   1.00e-03   1.00e-03   1.00e-03  4.000e+00 |    7.9781   2.1910e-03   5.5851e-07    7.9803 |   0.66556   0.64809   0.65556   0.64780 |    9.9813   3.4614e-04   8.8234e-08     9.9816 |   5.4 |\n",
      "Previous best_epoch:    30   best iter:  3150,   best_value: 0.64636\n",
      "New      best_epoch:    31   best iter:  3255,   best_value: 0.64809\n",
      "   32 |   1.00e-03   1.00e-03   1.00e-03  4.000e+00 |    8.3507   2.1910e-03   5.5851e-07    8.3529 |   0.66464   0.64977   0.65726   0.64949 |    9.9621   3.4614e-04   8.8234e-08     9.9624 |   5.7 |\n",
      "Previous best_epoch:    31   best iter:  3255,   best_value: 0.64809\n",
      "New      best_epoch:    32   best iter:  3360,   best_value: 0.64977\n",
      "   33 |   1.00e-03   1.00e-03   1.00e-03  4.000e+00 |    8.3662   2.1910e-03   5.5851e-07    8.3684 |   0.66547   0.65124   0.65875   0.65096 |    9.9828   3.4614e-04   8.8234e-08     9.9832 |   5.8 |\n",
      "Previous best_epoch:    32   best iter:  3360,   best_value: 0.64977\n",
      "New      best_epoch:    33   best iter:  3465,   best_value: 0.65124\n",
      "   34 |   1.00e-03   1.00e-03   1.00e-03  4.000e+00 |    8.2034   2.1910e-03   5.5851e-07    8.2056 |   0.66441   0.65270   0.66031   0.65242 |    9.9684   3.4614e-04   8.8234e-08     9.9687 |   5.9 |\n",
      "Previous best_epoch:    33   best iter:  3465,   best_value: 0.65124\n",
      "New      best_epoch:    34   best iter:  3570,   best_value: 0.65270\n",
      "   35 |   1.00e-03   1.00e-03   1.00e-03  4.000e+00 |    9.0375   2.1910e-03   5.5851e-07    9.0397 |   0.66417   0.65419   0.66172   0.65391 |    9.9538   3.4614e-04   8.8234e-08     9.9541 |   5.6 |\n",
      "Previous best_epoch:    34   best iter:  3570,   best_value: 0.65270\n",
      "New      best_epoch:    35   best iter:  3675,   best_value: 0.65419\n",
      "   36 |   1.00e-03   1.00e-03   1.00e-03  4.000e+00 |    9.2050   2.1910e-03   5.5851e-07    9.2072 |   0.66402   0.65571   0.66302   0.65544 |    9.9593   3.4614e-04   8.8234e-08     9.9596 |   5.5 |\n",
      "Previous best_epoch:    35   best iter:  3675,   best_value: 0.65419\n",
      "New      best_epoch:    36   best iter:  3780,   best_value: 0.65571\n",
      "   37 |   1.00e-03   1.00e-03   1.00e-03  4.000e+00 |    7.9433   2.1910e-03   5.5851e-07    7.9455 |   0.66476   0.65711   0.66442   0.65682 |    9.9687   3.4614e-04   8.8234e-08     9.9690 |   5.6 |\n",
      "Previous best_epoch:    36   best iter:  3780,   best_value: 0.65571\n",
      "New      best_epoch:    37   best iter:  3885,   best_value: 0.65711\n",
      "   38 |   1.00e-03   1.00e-03   1.00e-03  4.000e+00 |    8.3722   2.1910e-03   5.5851e-07    8.3744 |   0.66402   0.65844   0.66597   0.65816 |    9.9568   3.4614e-04   8.8234e-08     9.9571 |   5.3 |\n",
      "Previous best_epoch:    37   best iter:  3885,   best_value: 0.65711\n",
      "New      best_epoch:    38   best iter:  3990,   best_value: 0.65844\n",
      "   39 |   1.00e-03   1.00e-03   1.00e-03  4.000e+00 |    8.1661   2.1910e-03   5.5851e-07    8.1683 |   0.66413   0.65958   0.66704   0.65930 |    9.9651   3.4614e-04   8.8234e-08     9.9655 |   5.4 |\n",
      "Previous best_epoch:    38   best iter:  3990,   best_value: 0.65844\n",
      "New      best_epoch:    39   best iter:  4095,   best_value: 0.65958\n",
      "   40 |   1.00e-03   1.00e-03   1.00e-03  4.000e+00 |    7.5724   2.1910e-03   5.5851e-07    7.5746 |   0.66424   0.66084   0.66831   0.66057 |    9.9578   3.4614e-04   8.8234e-08     9.9582 |   5.4 |\n",
      "Previous best_epoch:    39   best iter:  4095,   best_value: 0.65958\n",
      "New      best_epoch:    40   best iter:  4200,   best_value: 0.66084\n",
      "   41 |   1.00e-03   1.00e-03   1.00e-03  4.000e+00 |    7.8325   2.1910e-03   5.5851e-07    7.8347 |   0.66397   0.66210   0.66969   0.66183 |    9.9579   3.4614e-04   8.8234e-08     9.9583 |   5.3 |\n",
      "Previous best_epoch:    40   best iter:  4200,   best_value: 0.66084\n",
      "New      best_epoch:    41   best iter:  4305,   best_value: 0.66210\n",
      "   42 |   1.00e-03   1.00e-03   1.00e-03  4.000e+00 |    7.8134   2.1910e-03   5.5851e-07    7.8156 |   0.66275   0.66368   0.67120   0.66341 |    9.9491   3.4614e-04   8.8234e-08     9.9495 |   5.6 |\n",
      "Previous best_epoch:    41   best iter:  4305,   best_value: 0.66210\n",
      "New      best_epoch:    42   best iter:  4410,   best_value: 0.66368\n",
      "   43 |   1.00e-03   1.00e-03   1.00e-03  4.000e+00 |    8.0393   2.1910e-03   5.5851e-07    8.0415 |   0.66286   0.66499   0.67229   0.66472 |    9.9379   3.4614e-04   8.8234e-08     9.9383 |   5.4 |\n",
      "Previous best_epoch:    42   best iter:  4410,   best_value: 0.66368\n",
      "New      best_epoch:    43   best iter:  4515,   best_value: 0.66499\n",
      "   44 |   1.00e-03   1.00e-03   1.00e-03  4.000e+00 |    7.6555   2.1910e-03   5.5851e-07    7.6577 |   0.66370   0.66605   0.67326   0.66578 |    9.9532   3.4614e-04   8.8234e-08     9.9536 |   5.7 |\n",
      "Previous best_epoch:    43   best iter:  4515,   best_value: 0.66499\n",
      "New      best_epoch:    44   best iter:  4620,   best_value: 0.66605\n",
      "   45 |   1.00e-03   1.00e-03   1.00e-03  4.000e+00 |    7.9550   2.1910e-03   5.5851e-07    7.9572 |   0.66308   0.66718   0.67440   0.66691 |    9.9526   3.4614e-04   8.8234e-08     9.9530 |   5.3 |\n",
      "Previous best_epoch:    44   best iter:  4620,   best_value: 0.66605\n",
      "New      best_epoch:    45   best iter:  4725,   best_value: 0.66718\n",
      "   46 |   1.00e-03   1.00e-03   1.00e-03  4.000e+00 |    7.7721   2.1910e-03   5.5851e-07    7.7743 |   0.66395   0.66827   0.67551   0.66800 |    9.9691   3.4614e-04   8.8234e-08     9.9695 |   5.4 |\n",
      "Epoch    46: reducing learning rate of group 0 to 7.5000e-04.\n",
      "Epoch    46: reducing learning rate of group 1 to 7.5000e-04.\n",
      "Previous best_epoch:    45   best iter:  4725,   best_value: 0.66718\n",
      "New      best_epoch:    46   best iter:  4830,   best_value: 0.66827\n",
      "   47 |   7.50e-04   7.50e-04   1.00e-03  4.000e+00 |    8.0362   2.1910e-03   5.5851e-07    8.0384 |   0.66355   0.66926   0.67659   0.66898 |    9.9551   3.4614e-04   8.8234e-08     9.9555 |   5.8 |\n"
     ]
    },
    {
     "name": "stdout",
     "output_type": "stream",
     "text": [
      "Previous best_epoch:    46   best iter:  4830,   best_value: 0.66827\n",
      "New      best_epoch:    47   best iter:  4935,   best_value: 0.66926\n",
      "   48 |   7.50e-04   7.50e-04   1.00e-03  4.000e+00 |    8.4974   2.1910e-03   5.5851e-07    8.4996 |   0.66362   0.67010   0.67743   0.66982 |    9.9579   3.4614e-04   8.8234e-08     9.9582 |   5.6 |\n",
      "Previous best_epoch:    47   best iter:  4935,   best_value: 0.66926\n",
      "New      best_epoch:    48   best iter:  5040,   best_value: 0.67010\n",
      "   49 |   7.50e-04   7.50e-04   1.00e-03  4.000e+00 |    8.1157   2.1910e-03   5.5851e-07    8.1179 |   0.66324   0.67101   0.67835   0.67074 |    9.9584   3.4614e-04   8.8234e-08     9.9588 |   5.3 |\n",
      "Previous best_epoch:    48   best iter:  5040,   best_value: 0.67010\n",
      "New      best_epoch:    49   best iter:  5145,   best_value: 0.67101\n",
      "   50 |   7.50e-04   7.50e-04   1.00e-03  4.000e+00 |    7.3602   2.1910e-03   5.5851e-07    7.3624 |   0.66326   0.67182   0.67905   0.67155 |    9.9469   3.4614e-04   8.8234e-08     9.9473 |   5.5 |\n",
      "Previous best_epoch:    49   best iter:  5145,   best_value: 0.67101\n",
      "New      best_epoch:    50   best iter:  5250,   best_value: 0.67182\n",
      "Epoch | BckBone LR   Heads LR  Policy LR Gumbl Temp |  trn loss     trn spar     trn shar   trn ttl |   bceloss  avg prec    aucroc     aucpr |  val loss     val spar     val shar    val ttl |  time |\n",
      "   51 |   7.50e-04   7.50e-04   1.00e-03  4.000e+00 |    7.8362   2.1910e-03   5.5851e-07    7.8384 |   0.66365   0.67248   0.67968   0.67221 |    9.9617   3.4614e-04   8.8234e-08     9.9621 |   5.3 |\n",
      "Previous best_epoch:    50   best iter:  5250,   best_value: 0.67182\n",
      "New      best_epoch:    51   best iter:  5355,   best_value: 0.67248\n",
      "   52 |   7.50e-04   7.50e-04   1.00e-03  4.000e+00 |    8.1171   2.1910e-03   5.5851e-07    8.1193 |   0.66377   0.67294   0.68015   0.67267 |    9.9494   3.4614e-04   8.8234e-08     9.9497 |   5.9 |\n",
      "Previous best_epoch:    51   best iter:  5355,   best_value: 0.67248\n",
      "New      best_epoch:    52   best iter:  5460,   best_value: 0.67294\n",
      "   53 |   7.50e-04   7.50e-04   1.00e-03  4.000e+00 |    7.6684   2.1910e-03   5.5851e-07    7.6706 |   0.66323   0.67390   0.68109   0.67363 |    9.9509   3.4614e-04   8.8234e-08     9.9513 |   5.5 |\n",
      "Previous best_epoch:    52   best iter:  5460,   best_value: 0.67294\n",
      "New      best_epoch:    53   best iter:  5565,   best_value: 0.67390\n",
      "   54 |   7.50e-04   7.50e-04   1.00e-03  4.000e+00 |    8.0118   2.1910e-03   5.5851e-07    8.0140 |   0.66392   0.67472   0.68198   0.67445 |    9.9482   3.4614e-04   8.8234e-08     9.9485 |   5.7 |\n",
      "Previous best_epoch:    53   best iter:  5565,   best_value: 0.67390\n",
      "New      best_epoch:    54   best iter:  5670,   best_value: 0.67472\n",
      "   55 |   7.50e-04   7.50e-04   1.00e-03  4.000e+00 |    7.2148   2.1910e-03   5.5851e-07    7.2170 |   0.66372   0.67550   0.68267   0.67523 |    9.9554   3.4614e-04   8.8234e-08     9.9557 |   5.4 |\n",
      "Previous best_epoch:    54   best iter:  5670,   best_value: 0.67472\n",
      "New      best_epoch:    55   best iter:  5775,   best_value: 0.67550\n",
      "   56 |   7.50e-04   7.50e-04   1.00e-03  4.000e+00 |    7.5694   2.1910e-03   5.5851e-07    7.5716 |   0.66351   0.67629   0.68356   0.67602 |    9.9563   3.4614e-04   8.8234e-08     9.9567 |   5.4 |\n",
      "Previous best_epoch:    55   best iter:  5775,   best_value: 0.67550\n",
      "New      best_epoch:    56   best iter:  5880,   best_value: 0.67629\n",
      "   57 |   7.50e-04   7.50e-04   1.00e-03  4.000e+00 |    8.1633   2.1910e-03   5.5851e-07    8.1655 |   0.66432   0.67695   0.68408   0.67668 |    9.9564   3.4614e-04   8.8234e-08     9.9568 |   5.8 |\n",
      "Previous best_epoch:    56   best iter:  5880,   best_value: 0.67629\n",
      "New      best_epoch:    57   best iter:  5985,   best_value: 0.67695\n",
      "   58 |   7.50e-04   7.50e-04   1.00e-03  4.000e+00 |    7.7139   2.1910e-03   5.5851e-07    7.7161 |   0.66370   0.67765   0.68469   0.67738 |    9.9513   3.4614e-04   8.8234e-08     9.9516 |   5.9 |\n",
      "Previous best_epoch:    57   best iter:  5985,   best_value: 0.67695\n",
      "New      best_epoch:    58   best iter:  6090,   best_value: 0.67765\n",
      "   59 |   7.50e-04   7.50e-04   1.00e-03  4.000e+00 |    7.6885   2.1910e-03   5.5851e-07    7.6907 |   0.66464   0.67850   0.68559   0.67824 |    9.9806   3.4614e-04   8.8234e-08     9.9809 |   5.9 |\n",
      "Previous best_epoch:    58   best iter:  6090,   best_value: 0.67765\n",
      "New      best_epoch:    59   best iter:  6195,   best_value: 0.67850\n",
      "   60 |   7.50e-04   7.50e-04   1.00e-03  4.000e+00 |    8.3533   2.1910e-03   5.5851e-07    8.3555 |   0.66417   0.67906   0.68628   0.67879 |    9.9585   3.4614e-04   8.8234e-08     9.9589 |   5.7 |\n",
      "Previous best_epoch:    59   best iter:  6195,   best_value: 0.67850\n",
      "New      best_epoch:    60   best iter:  6300,   best_value: 0.67906\n",
      "   61 |   7.50e-04   7.50e-04   1.00e-03  4.000e+00 |    6.9151   2.1910e-03   5.5851e-07    6.9173 |   0.66424   0.67969   0.68691   0.67942 |    9.9736   3.4614e-04   8.8234e-08     9.9739 |   5.7 |\n",
      "Previous best_epoch:    60   best iter:  6300,   best_value: 0.67906\n",
      "New      best_epoch:    61   best iter:  6405,   best_value: 0.67969\n",
      "   62 |   7.50e-04   7.50e-04   1.00e-03  4.000e+00 |    8.3432   2.1910e-03   5.5851e-07    8.3453 |   0.66497   0.68034   0.68745   0.68007 |    9.9680   3.4614e-04   8.8234e-08     9.9684 |   5.9 |\n",
      "Previous best_epoch:    61   best iter:  6405,   best_value: 0.67969\n",
      "New      best_epoch:    62   best iter:  6510,   best_value: 0.68034\n",
      "   63 |   7.50e-04   7.50e-04   1.00e-03  4.000e+00 |    7.9126   2.1910e-03   5.5851e-07    7.9148 |   0.66449   0.68103   0.68818   0.68076 |    9.9585   3.4614e-04   8.8234e-08     9.9588 |   5.5 |\n",
      "Previous best_epoch:    62   best iter:  6510,   best_value: 0.68034\n",
      "New      best_epoch:    63   best iter:  6615,   best_value: 0.68103\n",
      "   64 |   7.50e-04   7.50e-04   1.00e-03  4.000e+00 |    7.8055   2.1910e-03   5.5851e-07    7.8077 |   0.66447   0.68182   0.68887   0.68155 |    9.9652   3.4614e-04   8.8234e-08     9.9655 |   6.0 |\n",
      "Previous best_epoch:    63   best iter:  6615,   best_value: 0.68103\n",
      "New      best_epoch:    64   best iter:  6720,   best_value: 0.68182\n",
      "   65 |   7.50e-04   7.50e-04   1.00e-03  4.000e+00 |    7.7460   2.1910e-03   5.5851e-07    7.7482 |   0.66490   0.68252   0.68963   0.68225 |    9.9700   3.4614e-04   8.8234e-08     9.9703 |   5.5 |\n",
      "Previous best_epoch:    64   best iter:  6720,   best_value: 0.68182\n",
      "New      best_epoch:    65   best iter:  6825,   best_value: 0.68252\n",
      "   66 |   7.50e-04   7.50e-04   1.00e-03  4.000e+00 |    6.9917   2.1910e-03   5.5851e-07    6.9939 |   0.66609   0.68276   0.68987   0.68249 |    9.9877   3.4614e-04   8.8234e-08     9.9880 |   5.4 |\n",
      "Previous best_epoch:    65   best iter:  6825,   best_value: 0.68252\n",
      "New      best_epoch:    66   best iter:  6930,   best_value: 0.68276\n",
      "   67 |   7.50e-04   7.50e-04   1.00e-03  4.000e+00 |    7.0419   2.1910e-03   5.5851e-07    7.0441 |   0.66539   0.68366   0.69082   0.68340 |    9.9723   3.4614e-04   8.8234e-08     9.9726 |   5.8 |\n",
      "Previous best_epoch:    66   best iter:  6930,   best_value: 0.68276\n",
      "New      best_epoch:    67   best iter:  7035,   best_value: 0.68366\n",
      "   68 |   7.50e-04   7.50e-04   1.00e-03  4.000e+00 |    6.8146   2.1910e-03   5.5851e-07    6.8167 |   0.66544   0.68413   0.69129   0.68386 |    9.9788   3.4614e-04   8.8234e-08     9.9792 |   5.6 |\n",
      "Previous best_epoch:    67   best iter:  7035,   best_value: 0.68366\n",
      "New      best_epoch:    68   best iter:  7140,   best_value: 0.68413\n",
      "   69 |   7.50e-04   7.50e-04   1.00e-03  4.000e+00 |    7.9758   2.1910e-03   5.5851e-07    7.9780 |   0.66644   0.68464   0.69168   0.68437 |    9.9850   3.4614e-04   8.8234e-08     9.9853 |   5.8 |\n",
      "Previous best_epoch:    68   best iter:  7140,   best_value: 0.68413\n",
      "New      best_epoch:    69   best iter:  7245,   best_value: 0.68464\n",
      "   70 |   7.50e-04   7.50e-04   1.00e-03  4.000e+00 |    7.1741   2.1910e-03   5.5851e-07    7.1763 |   0.66627   0.68517   0.69226   0.68490 |    9.9944   3.4614e-04   8.8234e-08     9.9948 |   5.6 |\n",
      "Previous best_epoch:    69   best iter:  7245,   best_value: 0.68464\n",
      "New      best_epoch:    70   best iter:  7350,   best_value: 0.68517\n",
      "   71 |   7.50e-04   7.50e-04   1.00e-03  4.000e+00 |    7.0477   2.1910e-03   5.5851e-07    7.0499 |   0.66581   0.68592   0.69297   0.68565 |    9.9841   3.4614e-04   8.8234e-08     9.9845 |   5.3 |\n"
     ]
    },
    {
     "name": "stdout",
     "output_type": "stream",
     "text": [
      "Previous best_epoch:    70   best iter:  7350,   best_value: 0.68517\n",
      "New      best_epoch:    71   best iter:  7455,   best_value: 0.68592\n",
      "   72 |   7.50e-04   7.50e-04   1.00e-03  4.000e+00 |    6.8394   2.1910e-03   5.5851e-07    6.8416 |   0.66637   0.68657   0.69366   0.68631 |    9.9919   3.4614e-04   8.8234e-08     9.9923 |   5.4 |\n",
      "Previous best_epoch:    71   best iter:  7455,   best_value: 0.68592\n",
      "New      best_epoch:    72   best iter:  7560,   best_value: 0.68657\n",
      "   73 |   7.50e-04   7.50e-04   1.00e-03  4.000e+00 |    7.9128   2.1910e-03   5.5851e-07    7.9149 |   0.66609   0.68721   0.69436   0.68695 |    9.9902   3.4614e-04   8.8234e-08     9.9906 |   5.3 |\n",
      "Previous best_epoch:    72   best iter:  7560,   best_value: 0.68657\n",
      "New      best_epoch:    73   best iter:  7665,   best_value: 0.68721\n",
      "   74 |   7.50e-04   7.50e-04   1.00e-03  4.000e+00 |    7.7821   2.1910e-03   5.5851e-07    7.7843 |   0.66586   0.68766   0.69484   0.68739 |    9.9899   3.4614e-04   8.8234e-08     9.9903 |   5.9 |\n",
      "Previous best_epoch:    73   best iter:  7665,   best_value: 0.68721\n",
      "New      best_epoch:    74   best iter:  7770,   best_value: 0.68766\n",
      "   75 |   7.50e-04   7.50e-04   1.00e-03  4.000e+00 |    7.4743   2.1910e-03   5.5851e-07    7.4765 |   0.66623   0.68826   0.69542   0.68799 |    9.9796   3.4614e-04   8.8234e-08     9.9799 |  10.5 |\n",
      "Previous best_epoch:    74   best iter:  7770,   best_value: 0.68766\n",
      "New      best_epoch:    75   best iter:  7875,   best_value: 0.68826\n"
     ]
    },
    {
     "name": "stderr",
     "output_type": "stream",
     "text": [
      "Exception in thread Thread-171:\n",
      "Traceback (most recent call last):\n",
      "  File \"/home/kbardool/miniconda3/envs/pyt-gpu/lib/python3.9/threading.py\", line 954, in _bootstrap_inner\n",
      "    self.run()\n",
      "  File \"/home/kbardool/miniconda3/envs/pyt-gpu/lib/python3.9/threading.py\", line 892, in run\n",
      "    self._target(*self._args, **self._kwargs)\n",
      "  File \"/home/kbardool/miniconda3/envs/pyt-gpu/lib/python3.9/site-packages/torch/utils/data/_utils/pin_memory.py\", line 28, in _pin_memory_loop\n",
      "    r = in_queue.get(timeout=MP_STATUS_CHECK_INTERVAL)\n",
      "  File \"/home/kbardool/miniconda3/envs/pyt-gpu/lib/python3.9/multiprocessing/queues.py\", line 122, in get\n",
      "    return _ForkingPickler.loads(res)\n",
      "  File \"/home/kbardool/miniconda3/envs/pyt-gpu/lib/python3.9/site-packages/torch/multiprocessing/reductions.py\", line 289, in rebuild_storage_fd\n",
      "    fd = df.detach()\n",
      "  File \"/home/kbardool/miniconda3/envs/pyt-gpu/lib/python3.9/multiprocessing/resource_sharer.py\", line 57, in detach\n",
      "    with _resource_sharer.get_connection(self._id) as conn:\n",
      "  File \"/home/kbardool/miniconda3/envs/pyt-gpu/lib/python3.9/multiprocessing/resource_sharer.py\", line 86, in get_connection\n",
      "    c = Client(address, authkey=process.current_process().authkey)\n",
      "  File \"/home/kbardool/miniconda3/envs/pyt-gpu/lib/python3.9/multiprocessing/connection.py\", line 513, in Client\n",
      "    answer_challenge(c, authkey)\n",
      "  File \"/home/kbardool/miniconda3/envs/pyt-gpu/lib/python3.9/multiprocessing/connection.py\", line 762, in answer_challenge\n",
      "    response = connection.recv_bytes(256)        # reject large message\n",
      "  File \"/home/kbardool/miniconda3/envs/pyt-gpu/lib/python3.9/multiprocessing/connection.py\", line 221, in recv_bytes\n",
      "    buf = self._recv_bytes(maxlength)\n",
      "  File \"/home/kbardool/miniconda3/envs/pyt-gpu/lib/python3.9/multiprocessing/connection.py\", line 419, in _recv_bytes\n",
      "    buf = self._recv(4)\n",
      "  File \"/home/kbardool/miniconda3/envs/pyt-gpu/lib/python3.9/multiprocessing/connection.py\", line 384, in _recv\n",
      "    chunk = read(handle, remaining)\n",
      "ConnectionResetError: [Errno 104] Connection reset by peer\n"
     ]
    },
    {
     "ename": "KeyboardInterrupt",
     "evalue": "",
     "output_type": "error",
     "traceback": [
      "\u001b[0;31m---------------------------------------------------------------------------\u001b[0m",
      "\u001b[0;31mKeyboardInterrupt\u001b[0m                         Traceback (most recent call last)",
      "\u001b[0;32m/tmp/ipykernel_9204/1086303014.py\u001b[0m in \u001b[0;36m<module>\u001b[0;34m\u001b[0m\n\u001b[0;32m----> 1\u001b[0;31m \u001b[0mwarmup_phase\u001b[0m\u001b[0;34m(\u001b[0m\u001b[0mns\u001b[0m\u001b[0;34m,\u001b[0m\u001b[0mopt\u001b[0m\u001b[0;34m,\u001b[0m \u001b[0menviron\u001b[0m\u001b[0;34m,\u001b[0m \u001b[0mdldrs\u001b[0m\u001b[0;34m)\u001b[0m\u001b[0;34m\u001b[0m\u001b[0;34m\u001b[0m\u001b[0m\n\u001b[0m",
      "\u001b[0;32m~/WSL-projs/AdaSparseChem/notebooks/../src/utils/notebook_modules.py\u001b[0m in \u001b[0;36mwarmup_phase\u001b[0;34m(ns, opt, environ, dldrs, disable_tqdm, epochs)\u001b[0m\n\u001b[1;32m    268\u001b[0m                 \u001b[0menviron\u001b[0m\u001b[0;34m.\u001b[0m\u001b[0mset_inputs\u001b[0m\u001b[0;34m(\u001b[0m\u001b[0mbatch\u001b[0m\u001b[0;34m,\u001b[0m \u001b[0minput_size\u001b[0m\u001b[0;34m)\u001b[0m\u001b[0;34m\u001b[0m\u001b[0;34m\u001b[0m\u001b[0m\n\u001b[1;32m    269\u001b[0m \u001b[0;34m\u001b[0m\u001b[0m\n\u001b[0;32m--> 270\u001b[0;31m                 environ.optimize(opt['lambdas'], \n\u001b[0m\u001b[1;32m    271\u001b[0m                                 \u001b[0mis_policy\u001b[0m\u001b[0;34m=\u001b[0m\u001b[0;32mFalse\u001b[0m\u001b[0;34m,\u001b[0m\u001b[0;34m\u001b[0m\u001b[0;34m\u001b[0m\u001b[0m\n\u001b[1;32m    272\u001b[0m                                 \u001b[0mflag\u001b[0m\u001b[0;34m=\u001b[0m\u001b[0;34m'update_weights'\u001b[0m\u001b[0;34m,\u001b[0m\u001b[0;34m\u001b[0m\u001b[0;34m\u001b[0m\u001b[0m\n",
      "\u001b[0;32m~/WSL-projs/AdaSparseChem/notebooks/../src/envs/sparsechem_env.py\u001b[0m in \u001b[0;36moptimize\u001b[0;34m(self, task_lambdas, is_policy, flag, num_train_layers, policy_sampling_mode, hard_sampling, verbose)\u001b[0m\n\u001b[1;32m    500\u001b[0m                      verbose = verbose)     \n\u001b[1;32m    501\u001b[0m \u001b[0;34m\u001b[0m\u001b[0m\n\u001b[0;32m--> 502\u001b[0;31m         \u001b[0mself\u001b[0m\u001b[0;34m.\u001b[0m\u001b[0mcompute_losses\u001b[0m\u001b[0;34m(\u001b[0m\u001b[0mnum_train_layers\u001b[0m\u001b[0;34m)\u001b[0m\u001b[0;34m\u001b[0m\u001b[0;34m\u001b[0m\u001b[0m\n\u001b[0m\u001b[1;32m    503\u001b[0m \u001b[0;34m\u001b[0m\u001b[0m\n\u001b[1;32m    504\u001b[0m         \u001b[0;32mif\u001b[0m \u001b[0mflag\u001b[0m \u001b[0;34m==\u001b[0m \u001b[0;34m'update_weights'\u001b[0m\u001b[0;34m:\u001b[0m\u001b[0;34m\u001b[0m\u001b[0;34m\u001b[0m\u001b[0m\n",
      "\u001b[0;32m~/WSL-projs/AdaSparseChem/notebooks/../src/envs/sparsechem_env.py\u001b[0m in \u001b[0;36mcompute_losses\u001b[0;34m(self, num_train_layers, verbose)\u001b[0m\n\u001b[1;32m    458\u001b[0m     \u001b[0;32mdef\u001b[0m \u001b[0mcompute_losses\u001b[0m\u001b[0;34m(\u001b[0m\u001b[0mself\u001b[0m\u001b[0;34m,\u001b[0m \u001b[0mnum_train_layers\u001b[0m \u001b[0;34m=\u001b[0m \u001b[0;32mNone\u001b[0m\u001b[0;34m,\u001b[0m \u001b[0mverbose\u001b[0m \u001b[0;34m=\u001b[0m \u001b[0;32mFalse\u001b[0m\u001b[0;34m)\u001b[0m\u001b[0;34m:\u001b[0m\u001b[0;34m\u001b[0m\u001b[0;34m\u001b[0m\u001b[0m\n\u001b[1;32m    459\u001b[0m         \u001b[0;31m## Compute Task Losses\u001b[0m\u001b[0;34m\u001b[0m\u001b[0;34m\u001b[0m\u001b[0;34m\u001b[0m\u001b[0m\n\u001b[0;32m--> 460\u001b[0;31m         \u001b[0mself\u001b[0m\u001b[0;34m.\u001b[0m\u001b[0mcompute_task_losses\u001b[0m\u001b[0;34m(\u001b[0m\u001b[0mverbose\u001b[0m\u001b[0;34m=\u001b[0m\u001b[0mverbose\u001b[0m\u001b[0;34m)\u001b[0m\u001b[0;34m\u001b[0m\u001b[0;34m\u001b[0m\u001b[0m\n\u001b[0m\u001b[1;32m    461\u001b[0m \u001b[0;34m\u001b[0m\u001b[0m\n\u001b[1;32m    462\u001b[0m         \u001b[0;32mif\u001b[0m \u001b[0mself\u001b[0m\u001b[0;34m.\u001b[0m\u001b[0mopt\u001b[0m\u001b[0;34m[\u001b[0m\u001b[0;34m'is_sharing'\u001b[0m\u001b[0;34m]\u001b[0m\u001b[0;34m:\u001b[0m\u001b[0;34m\u001b[0m\u001b[0;34m\u001b[0m\u001b[0m\n",
      "\u001b[0;32m~/WSL-projs/AdaSparseChem/notebooks/../src/envs/sparsechem_env.py\u001b[0m in \u001b[0;36mcompute_task_losses\u001b[0;34m(self, instance, verbose)\u001b[0m\n\u001b[1;32m    264\u001b[0m             \u001b[0myc_data\u001b[0m \u001b[0;34m=\u001b[0m \u001b[0mself\u001b[0m\u001b[0;34m.\u001b[0m\u001b[0mbatch\u001b[0m\u001b[0;34m[\u001b[0m\u001b[0mtask_key\u001b[0m\u001b[0;34m]\u001b[0m\u001b[0;34m[\u001b[0m\u001b[0;34m'data'\u001b[0m\u001b[0;34m]\u001b[0m\u001b[0;34m.\u001b[0m\u001b[0mto\u001b[0m\u001b[0;34m(\u001b[0m\u001b[0mself\u001b[0m\u001b[0;34m.\u001b[0m\u001b[0mdevice\u001b[0m\u001b[0;34m,\u001b[0m \u001b[0mnon_blocking\u001b[0m\u001b[0;34m=\u001b[0m\u001b[0;32mTrue\u001b[0m\u001b[0;34m)\u001b[0m\u001b[0;34m\u001b[0m\u001b[0;34m\u001b[0m\u001b[0m\n\u001b[1;32m    265\u001b[0m             \u001b[0mtrn_weights\u001b[0m \u001b[0;34m=\u001b[0m \u001b[0mself\u001b[0m\u001b[0;34m.\u001b[0m\u001b[0mbatch\u001b[0m\u001b[0;34m[\u001b[0m\u001b[0mtask_key\u001b[0m\u001b[0;34m]\u001b[0m\u001b[0;34m[\u001b[0m\u001b[0;34m'trn_weights'\u001b[0m\u001b[0;34m]\u001b[0m\u001b[0;34m.\u001b[0m\u001b[0mto\u001b[0m\u001b[0;34m(\u001b[0m\u001b[0mself\u001b[0m\u001b[0;34m.\u001b[0m\u001b[0mdevice\u001b[0m\u001b[0;34m,\u001b[0m \u001b[0mnon_blocking\u001b[0m\u001b[0;34m=\u001b[0m\u001b[0;32mTrue\u001b[0m\u001b[0;34m)\u001b[0m\u001b[0;34m\u001b[0m\u001b[0;34m\u001b[0m\u001b[0m\n\u001b[0;32m--> 266\u001b[0;31m             \u001b[0myc_w\u001b[0m    \u001b[0;34m=\u001b[0m \u001b[0mtrn_weights\u001b[0m\u001b[0;34m[\u001b[0m\u001b[0myc_ind\u001b[0m\u001b[0;34m[\u001b[0m\u001b[0;36m1\u001b[0m\u001b[0;34m]\u001b[0m\u001b[0;34m]\u001b[0m\u001b[0;34m\u001b[0m\u001b[0;34m\u001b[0m\u001b[0m\n\u001b[0m\u001b[1;32m    267\u001b[0m \u001b[0;34m\u001b[0m\u001b[0m\n\u001b[1;32m    268\u001b[0m             \u001b[0;31m## yc_hat_all shape : [batch_size , # classes]\u001b[0m\u001b[0;34m\u001b[0m\u001b[0;34m\u001b[0m\u001b[0;34m\u001b[0m\u001b[0m\n",
      "\u001b[0;31mKeyboardInterrupt\u001b[0m: "
     ]
    }
   ],
   "source": [
    "\n",
    "warmup_phase(ns,opt, environ, dldrs)\n"
   ]
  },
  {
   "cell_type": "code",
   "execution_count": 12,
   "id": "31ccb59a",
   "metadata": {
    "ExecuteTime": {
     "end_time": "2022-04-06T02:08:06.791896Z",
     "start_time": "2022-04-06T02:08:06.729766Z"
    }
   },
   "outputs": [
    {
     "name": "stdout",
     "output_type": "stream",
     "text": [
      "75, 7875, 0.6883\n"
     ]
    }
   ],
   "source": [
    "print(f\"{ns.best_epoch}, {ns.best_iter}, {ns.best_value:.4f}\")"
   ]
  },
  {
   "cell_type": "code",
   "execution_count": 13,
   "id": "64ba324f",
   "metadata": {
    "ExecuteTime": {
     "end_time": "2022-04-06T02:08:09.990197Z",
     "start_time": "2022-04-06T02:08:07.005940Z"
    }
   },
   "outputs": [
    {
     "name": "stdout",
     "output_type": "stream",
     "text": [
      "\n"
     ]
    },
    {
     "data": {
      "text/html": [
       "Waiting for W&B process to finish... <strong style=\"color:green\">(success).</strong>"
      ],
      "text/plain": [
       "<IPython.core.display.HTML object>"
      ]
     },
     "metadata": {},
     "output_type": "display_data"
    },
    {
     "data": {
      "application/vnd.jupyter.widget-view+json": {
       "model_id": "4ce7dc54e25347eb99ccb9cbb43ef637",
       "version_major": 2,
       "version_minor": 0
      },
      "text/plain": [
       "VBox(children=(Label(value='0.991 MB of 0.991 MB uploaded (0.193 MB deduped)\\r'), FloatProgress(value=1.0, max…"
      ]
     },
     "metadata": {},
     "output_type": "display_data"
    },
    {
     "data": {
      "text/html": [
       "W&B sync reduced upload amount by 17.8%             "
      ],
      "text/plain": [
       "<IPython.core.display.HTML object>"
      ]
     },
     "metadata": {},
     "output_type": "display_data"
    },
    {
     "data": {
      "text/html": [
       "<style>\n",
       "    table.wandb td:nth-child(1) { padding: 0 10px; text-align: right }\n",
       "    .wandb-row { display: flex; flex-direction: row; flex-wrap: wrap; width: 100% }\n",
       "    .wandb-col { display: flex; flex-direction: column; flex-basis: 100%; flex: 1; padding: 10px; }\n",
       "    </style>\n",
       "<div class=\"wandb-row\"><div class=\"wandb-col\"><h3>Run history:</h3><br/><table class=\"wandb\"><tr><td>epoch</td><td>▁▁▁▁▂▂▂▂▂▃▃▃▃▃▃▄▄▄▄▄▅▅▅▅▅▅▆▆▆▆▆▆▇▇▇▇▇███</td></tr><tr><td>train_time</td><td>▂▁▁▁▁▁▁▃▂▂▂▁▁▁▂▂▂▂▂▂▂▂▂▂▂▂▂▂▂▂▂▂▂▂▂▂▂▂▁█</td></tr></table><br/></div><div class=\"wandb-col\"><h3>Run summary:</h3><br/><table class=\"wandb\"><tr><td>epoch</td><td>75</td></tr><tr><td>train_time</td><td>10.46304</td></tr></table><br/></div></div>"
      ],
      "text/plain": [
       "<IPython.core.display.HTML object>"
      ]
     },
     "metadata": {},
     "output_type": "display_data"
    },
    {
     "data": {
      "text/html": [
       "Synced <strong style=\"color:#cdcd00\">0406_0359_noplcy</strong>: <a href=\"http://localhost:8080/kbardool/AdaSparseChem/runs/3pmu2pvo\" target=\"_blank\">http://localhost:8080/kbardool/AdaSparseChem/runs/3pmu2pvo</a><br/>Synced 7 W&B file(s), 225 media file(s), 227 artifact file(s) and 1 other file(s)"
      ],
      "text/plain": [
       "<IPython.core.display.HTML object>"
      ]
     },
     "metadata": {},
     "output_type": "display_data"
    },
    {
     "data": {
      "text/html": [
       "Find logs at: <code>./wandb/run-20220406_035957-3pmu2pvo/logs</code>"
      ],
      "text/plain": [
       "<IPython.core.display.HTML object>"
      ]
     },
     "metadata": {},
     "output_type": "display_data"
    },
    {
     "data": {
      "text/html": [
       "Upgrade to the 0.9.50 version of W&B Local to get the latest features. Learn more: <a href=\"https://wandb.me/local-upgrade\" target=\"_blank\">https://wandb.me/local-upgrade</a>"
      ],
      "text/plain": [
       "<IPython.core.display.HTML object>"
      ]
     },
     "metadata": {},
     "output_type": "display_data"
    }
   ],
   "source": [
    "# warmup_phase(ns,opt, environ, dldrs, epochs = 25)\n",
    "ns.wandb_run.finish()\n",
    "\n",
    "# ns.wandb_run.finish()\n",
    "# environ.losses\n",
    "# environ.val_metrics"
   ]
  },
  {
   "cell_type": "code",
   "execution_count": null,
   "id": "356f564d",
   "metadata": {},
   "outputs": [],
   "source": []
  },
  {
   "cell_type": "markdown",
   "id": "6af28185",
   "metadata": {
    "heading_collapsed": true
   },
   "source": [
    "## Check values"
   ]
  },
  {
   "cell_type": "code",
   "execution_count": null,
   "id": "c3c08a9d",
   "metadata": {
    "ExecuteTime": {
     "end_time": "2022-04-02T18:01:23.318870Z",
     "start_time": "2022-04-02T18:01:22.908384Z"
    },
    "hidden": true
   },
   "outputs": [],
   "source": [
    "# environ.display_trained_policy(ns.current_epoch,out=[sys.stdout])\n",
    "# environ.num_tasks\n",
    "# print(environ.get_policy_prob().shape)\n",
    "print(environ.val_data['task1'].keys())\n",
    "print(environ.val_data['task1']['yc_ind'][0][:40])\n",
    "print(environ.val_data['task1']['yc_ind'][1][:40])\n",
    "print(environ.val_data['task1']['yc_data'][:40])\n",
    "print(environ.val_data['task1']['yc_hat'][:40])\n",
    "environ.display_trained_policy(ns.current_epoch,out=[sys.stdout])\n",
    "environ.display_trained_logits(ns.current_epoch,out=[sys.stdout])"
   ]
  },
  {
   "cell_type": "code",
   "execution_count": null,
   "id": "5607528c",
   "metadata": {
    "ExecuteTime": {
     "end_time": "2022-04-02T13:31:53.440981Z",
     "start_time": "2022-04-02T13:31:53.291595Z"
    },
    "hidden": true
   },
   "outputs": [],
   "source": [
    "print(environ.val_metrics['task1'])\n",
    "print((environ.val_data['task1']['yc_data']).sum())\n",
    "print(len(environ.val_data['task1']['yc_ind'][1]))\n",
    "print(len(environ.val_data['task1']['yc_data']))\n",
    "print(len(environ.val_data['task1']['yc_hat']))"
   ]
  },
  {
   "cell_type": "code",
   "execution_count": null,
   "id": "12a2ec95",
   "metadata": {
    "ExecuteTime": {
     "end_time": "2022-04-02T13:31:55.581510Z",
     "start_time": "2022-04-02T13:31:55.526855Z"
    },
    "hidden": true
   },
   "outputs": [],
   "source": [
    "(environ.val_data['task1']['yc_data'][0] == environ.val_data['task1']['yc_data']).all()"
   ]
  },
  {
   "cell_type": "code",
   "execution_count": null,
   "id": "b9d58803",
   "metadata": {
    "ExecuteTime": {
     "end_time": "2022-04-02T14:20:55.327255Z",
     "start_time": "2022-04-02T14:20:55.026238Z"
    },
    "hidden": true
   },
   "outputs": [],
   "source": [
    "from utils.sparsechem_utils import compute_metrics, aggregate_results\n",
    "import pandas\n",
    "cc = compute_metrics(cols   = environ.val_data['task1']['yc_ind'][1], \n",
    "                     y_true = environ.val_data['task1']['yc_data'], \n",
    "                     y_score= environ.val_data['task1']['yc_hat'] ,\n",
    "                     num_tasks=100)\n"
   ]
  },
  {
   "cell_type": "code",
   "execution_count": null,
   "id": "737de288",
   "metadata": {
    "ExecuteTime": {
     "end_time": "2022-04-02T13:34:57.196163Z",
     "start_time": "2022-04-02T13:34:57.130013Z"
    },
    "hidden": true
   },
   "outputs": [],
   "source": [
    " df   = pd.DataFrame({\"task\"   : environ.val_data['task1']['yc_ind'][1], \n",
    "                      \"y_true\" : environ.val_data['task1']['yc_data'],  \n",
    "                      \"y_score\": environ.val_data['task1']['yc_hat']})"
   ]
  },
  {
   "cell_type": "code",
   "execution_count": null,
   "id": "a572ba33",
   "metadata": {
    "ExecuteTime": {
     "end_time": "2022-04-02T13:44:52.754320Z",
     "start_time": "2022-04-02T13:44:52.611945Z"
    },
    "hidden": true
   },
   "outputs": [],
   "source": [
    "for task, frame in df.groupby(\"task\", sort=True):\n",
    "    print(f\" task {task}\")\n",
    "    print(frame.head(10))"
   ]
  },
  {
   "cell_type": "code",
   "execution_count": null,
   "id": "6b0cf934",
   "metadata": {
    "ExecuteTime": {
     "end_time": "2022-04-02T13:46:29.715440Z",
     "start_time": "2022-04-02T13:46:29.640674Z"
    },
    "hidden": true
   },
   "outputs": [],
   "source": [
    "# df\n",
    "df.groupby(\"task\", sort=True).count()"
   ]
  },
  {
   "cell_type": "code",
   "execution_count": null,
   "id": "10f526f7",
   "metadata": {
    "ExecuteTime": {
     "end_time": "2022-04-02T13:57:12.585754Z",
     "start_time": "2022-04-02T13:57:12.502583Z"
    },
    "hidden": true,
    "scrolled": true
   },
   "outputs": [],
   "source": [
    "cc"
   ]
  },
  {
   "cell_type": "code",
   "execution_count": null,
   "id": "63bb8f8d",
   "metadata": {
    "ExecuteTime": {
     "end_time": "2022-04-02T14:26:58.189057Z",
     "start_time": "2022-04-02T14:26:58.126134Z"
    },
    "hidden": true
   },
   "outputs": [],
   "source": [
    "print(environ.batch_data['task1']['yc_aggr_weights'])\n",
    "environ.batch['task1']['aggr_weights']"
   ]
  },
  {
   "cell_type": "code",
   "execution_count": null,
   "id": "acfdf55d",
   "metadata": {
    "hidden": true
   },
   "outputs": [],
   "source": [
    "c2 = aggregate_results(cc)"
   ]
  },
  {
   "cell_type": "code",
   "execution_count": null,
   "id": "f2e9e723",
   "metadata": {
    "ExecuteTime": {
     "end_time": "2022-04-02T17:11:11.578048Z",
     "start_time": "2022-04-02T17:11:11.535763Z"
    },
    "hidden": true
   },
   "outputs": [],
   "source": [
    "dldrs.trainset0.tasks_weights_list"
   ]
  },
  {
   "cell_type": "markdown",
   "id": "04d238e8",
   "metadata": {
    "hidden": true
   },
   "source": [
    "#### display parms"
   ]
  },
  {
   "cell_type": "code",
   "execution_count": null,
   "id": "e22e75ab",
   "metadata": {
    "ExecuteTime": {
     "end_time": "2022-03-28T04:02:47.732297Z",
     "start_time": "2022-03-28T04:02:47.639607Z"
    },
    "hidden": true
   },
   "outputs": [],
   "source": [
    "print( f\" Backbone Initial LR         : {environ.opt['train']['backbone_lr']:4f}      current LR : {environ.optimizers['alphas'].param_groups[0]['lr']} \\n\"\n",
    "       f\" Tasks    Initial LR         : {environ.opt['train']['task_lr']:4f}      current LR : {environ.optimizers['weights'].param_groups[0]['lr']}    \\n\"\n",
    "       f\" Policy   Initial LR         : {environ.opt['train']['policy_lr']:4f}      current LR : {environ.optimizers['weights'].param_groups[1]['lr']}  \\n\")\n",
    "print( f\" Sparsity regularization     : {environ.opt['train']['lambda_sparsity']}\\n\"\n",
    "       f\" Sharing  regularization     : {environ.opt['train']['lambda_sharing']} \\n\\n\"\n",
    "       f\" Tasks    regularization     : {environ.opt['train']['lambda_tasks']}   \\n\"\n",
    "       f\" Gumbel Temp                 : {environ.gumbel_temperature:.4f}         \\n\" #\n",
    "       f\" Gumbel Temp decay           : {environ.opt['train']['decay_temp_freq']}\") #"
   ]
  },
  {
   "cell_type": "code",
   "execution_count": null,
   "id": "c2db34fc",
   "metadata": {
    "ExecuteTime": {
     "end_time": "2022-03-28T04:02:47.803657Z",
     "start_time": "2022-03-28T04:02:47.736497Z"
    },
    "hidden": true
   },
   "outputs": [],
   "source": [
    "# environ.opt['train']['policy_lr'] = 0.01\n",
    "# opt['train']['policy_lr']         = 0.01\n",
    "# environ.opt['train']['lambda_sparsity'] = 0.1\n",
    "# environ.opt['train']['lambda_sharing']  = 0.01\n",
    "# environ.opt['train']['lambda_tasks']    = 1.0\n",
    "# environ.opt['train']['decay_temp_freq'] = 2\n",
    "# print(environ.optimizers['alphas'].param_groups)\n",
    "# print(environ.optimizers['weights'].param_groups)\n",
    "# print('current lr: ', environ.optimizers['alphas'].param_groups[0]['lr'],)\n",
    "# print('current lr: ', environ.optimizers['weights'].param_groups[0]['lr'])\n",
    "# print('current lr: ', environ.optimizers['weights'].param_groups[1]['lr'])"
   ]
  },
  {
   "cell_type": "markdown",
   "id": "eb49645c",
   "metadata": {
    "heading_collapsed": true
   },
   "source": [
    "## Weight & Policy Training"
   ]
  },
  {
   "cell_type": "markdown",
   "id": "c6aade16",
   "metadata": {
    "hidden": true
   },
   "source": [
    "### Weight/Policy Training Preparation"
   ]
  },
  {
   "cell_type": "code",
   "execution_count": null,
   "id": "5fe24a1f",
   "metadata": {
    "ExecuteTime": {
     "end_time": "2022-03-28T04:02:47.867009Z",
     "start_time": "2022-03-28T04:02:47.807720Z"
    },
    "hidden": true
   },
   "outputs": [],
   "source": [
    "# ns.flag_warmup = True\n",
    "# num_train_layers = None \n",
    "# environ.opt['is_curriculum'] = True\n",
    "# environ.opt['curriculum_speed'] = 4\n",
    "# ns.num_train_layers = None"
   ]
  },
  {
   "cell_type": "code",
   "execution_count": null,
   "id": "365996be",
   "metadata": {
    "ExecuteTime": {
     "end_time": "2022-03-28T04:02:47.944530Z",
     "start_time": "2022-03-28T04:02:47.871259Z"
    },
    "hidden": true
   },
   "outputs": [],
   "source": [
    "if ns.flag_warmup:\n",
    "    print_heading( f\"** {timestring()} \\n\"\n",
    "                   f\"** Training epoch: {ns.current_epoch} iter: {ns.current_iter}   flag: {ns.flag} \\n\"\n",
    "                   f\"** Set optimizer and scheduler to policy_learning = True (Switch weight optimizer from ADAM to SGD)\\n\"\n",
    "                   f\"** Switch from Warm Up training to Alternate training Weights & Policy \\n\"\n",
    "                   f\"** Take checkpoint and block gradient flow through Policy net\", verbose=True)\n",
    "#     environ.define_optimizer(policy_learning=True)\n",
    "#     environ.define_scheduler(policy_learning=True)\n",
    "    ns.flag_warmup = False\n",
    "    ns.flag = 'update_weights'\n",
    "    environ.fix_alpha()\n",
    "    environ.free_weights(opt['fix_BN'])"
   ]
  },
  {
   "cell_type": "code",
   "execution_count": null,
   "id": "0bc79e10",
   "metadata": {
    "ExecuteTime": {
     "end_time": "2022-03-28T04:02:48.024063Z",
     "start_time": "2022-03-28T04:02:47.950823Z"
    },
    "hidden": true
   },
   "outputs": [],
   "source": [
    "# ns.training_epochs = 250\n",
    "# environ.display_trained_policy(ns.current_epoch)\n",
    "# environ.display_trained_logits(ns.current_epoch)"
   ]
  },
  {
   "cell_type": "code",
   "execution_count": null,
   "id": "753d84a8",
   "metadata": {
    "ExecuteTime": {
     "end_time": "2022-03-28T04:02:48.115175Z",
     "start_time": "2022-03-28T04:02:48.028324Z"
    },
    "hidden": true
   },
   "outputs": [],
   "source": [
    "print(f\"ns.current_epoch           : {ns.current_epoch}\")\n",
    "print(f\"ns.training_epochs         : {ns.training_epochs} \\n\") \n",
    "print(f\"ns.current_iters           : {ns.current_iter}\")  \n",
    "print(f\"Batches in weight epoch    : {ns.stop_iter_w}\")\n",
    "print(f\"Batches in policy epoch    : {ns.stop_iter_a}\")\n",
    "print(f\"num_train_layers           : {ns.num_train_layers}\")\n",
    "print()\n",
    "print_loss(environ.val_metrics, title = f\"[e] Last ep:{ns.current_epoch}  it:{ns.current_iter}\")\n",
    "print()\n",
    "\n",
    "print_heading(f\" Last Epoch Completed : {ns.current_epoch}       # of epochs to run:  {ns.training_epochs} -->  epochs {ns.current_epoch+1} to {ns.training_epochs + ns.current_epoch}\"\n",
    "              f\"\\n policy_learning rate : {environ.opt['train']['policy_lr']} \"\n",
    "              f\"\\n lambda_sparsity      : {environ.opt['train']['lambda_sparsity']}\"\n",
    "              f\"\\n lambda_sharing       : {environ.opt['train']['lambda_sharing']}\"\n",
    "              f\"\\n curriculum training  : {opt['is_curriculum']}     cirriculum speed: {opt['curriculum_speed']}     num_training_layers : {ns.num_train_layers}\", \n",
    "              verbose = True)"
   ]
  },
  {
   "cell_type": "markdown",
   "id": "561c71af",
   "metadata": {
    "hidden": true
   },
   "source": [
    "### Weight/Policy Training"
   ]
  },
  {
   "cell_type": "code",
   "execution_count": null,
   "id": "d10ad7d8",
   "metadata": {
    "ExecuteTime": {
     "end_time": "2022-03-28T05:13:27.891351Z",
     "start_time": "2022-03-28T04:02:48.119371Z"
    },
    "hidden": true,
    "scrolled": true
   },
   "outputs": [],
   "source": [
    "# weight_policy_training(ns, opt, environ, dldrs, epochs = 100)\n",
    "weight_policy_training(ns, opt, environ, dldrs)"
   ]
  },
  {
   "cell_type": "code",
   "execution_count": null,
   "id": "27779c17",
   "metadata": {
    "ExecuteTime": {
     "end_time": "2022-03-28T05:13:28.065212Z",
     "start_time": "2022-03-28T05:13:27.897193Z"
    },
    "hidden": true
   },
   "outputs": [],
   "source": [
    "ns.best_epoch, ns.best_iter, ns.best_value"
   ]
  },
  {
   "cell_type": "code",
   "execution_count": null,
   "id": "1d3dcb54",
   "metadata": {
    "hidden": true
   },
   "outputs": [],
   "source": []
  },
  {
   "cell_type": "markdown",
   "id": "b3e42e43",
   "metadata": {
    "heading_collapsed": true,
    "hidden": true
   },
   "source": [
    "### Close WandB run"
   ]
  },
  {
   "cell_type": "code",
   "execution_count": null,
   "id": "1f6b31da",
   "metadata": {
    "ExecuteTime": {
     "end_time": "2022-03-28T05:13:32.216421Z",
     "start_time": "2022-03-28T05:13:28.068834Z"
    },
    "hidden": true
   },
   "outputs": [],
   "source": [
    "wandb.finish()"
   ]
  },
  {
   "cell_type": "code",
   "execution_count": null,
   "id": "ab259da4",
   "metadata": {
    "ExecuteTime": {
     "end_time": "2022-03-28T05:13:32.253924Z",
     "start_time": "2022-03-28T05:13:32.221329Z"
    },
    "hidden": true
   },
   "outputs": [],
   "source": [
    "# ns.best_epoch = 0\n",
    "# from utils.notebook_modules import wrapup_phase\n",
    "# wrapup_phase(ns, opt, environ)"
   ]
  },
  {
   "cell_type": "code",
   "execution_count": null,
   "id": "ceb718c2",
   "metadata": {
    "ExecuteTime": {
     "end_time": "2022-03-28T05:13:32.307351Z",
     "start_time": "2022-03-28T05:13:32.262822Z"
    },
    "hidden": true
   },
   "outputs": [],
   "source": [
    "# environ.opt['train']['policy_lr']       = 0.002\n",
    "# environ.opt['train']['lambda_sparsity'] = 0.05\n",
    "# environ.opt['train']['lambda_sharing']  = 0.01\n",
    "# environ.opt['train']['lambda_tasks']    = 1.0\n",
    "# # environ.opt['train']['decay_temp_freq'] = 2"
   ]
  },
  {
   "cell_type": "code",
   "execution_count": null,
   "id": "8accefdf",
   "metadata": {
    "ExecuteTime": {
     "end_time": "2022-03-28T05:13:32.344678Z",
     "start_time": "2022-03-28T05:13:32.310706Z"
    },
    "hidden": true
   },
   "outputs": [],
   "source": [
    "print( f\" Backbone Learning Rate      : {environ.opt['train']['backbone_lr']}\\n\"\n",
    "       f\" Tasks    Learning Rate      : {environ.opt['train']['task_lr']}\\n\"\n",
    "       f\" Policy   Learning Rate      : {environ.opt['train']['policy_lr']}\\n\")\n",
    "\n",
    "print( f\" Sparsity regularization     : {environ.opt['train']['lambda_sparsity']}\\n\"\n",
    "       f\" Sharing  regularization     : {environ.opt['train']['lambda_sharing']} \\n\\n\"\n",
    "       f\" Tasks    regularization     : {environ.opt['train']['lambda_tasks']}   \\n\"\n",
    "       f\" Gumbel Temp                 : {environ.gumbel_temperature:.4f}         \\n\" \n",
    "       f\" Gumbel Temp decay           : {environ.opt['train']['decay_temp_freq']}\\n\") \n",
    "\n",
    "print( f\" current_iters               : {ns.current_iter}   \\n\"\n",
    "       f\" current_epochs              : {ns.current_epoch}  \\n\" \n",
    "       f\" train_total_epochs          : {ns.training_epochs}\\n\" \n",
    "       f\" stop_epoch_training         : {ns.stop_epoch_training}\")"
   ]
  },
  {
   "cell_type": "markdown",
   "id": "86ac6b6a",
   "metadata": {
    "heading_collapsed": true
   },
   "source": [
    "## Post Training Stuff"
   ]
  },
  {
   "cell_type": "code",
   "execution_count": null,
   "id": "04de4040",
   "metadata": {
    "ExecuteTime": {
     "end_time": "2022-04-05T16:19:42.220730Z",
     "start_time": "2022-04-05T16:19:41.747365Z"
    },
    "hidden": true
   },
   "outputs": [],
   "source": [
    "pp.pprint(environ.losses)\n",
    "# pp.pprint(environ.val_metrics)\n",
    "# environ.num_layers, environ.networks['mtl-net'].num_layers\n",
    "# environ.batch"
   ]
  },
  {
   "cell_type": "code",
   "execution_count": null,
   "id": "db4ca92e",
   "metadata": {
    "ExecuteTime": {
     "end_time": "2022-04-05T16:22:55.037557Z",
     "start_time": "2022-04-05T16:22:54.888980Z"
    },
    "hidden": true
   },
   "outputs": [],
   "source": [
    "pp.pprint(environ.val_metrics)"
   ]
  },
  {
   "cell_type": "code",
   "execution_count": null,
   "id": "336e5cec",
   "metadata": {
    "ExecuteTime": {
     "end_time": "2022-02-21T17:44:36.218784Z",
     "start_time": "2022-02-21T17:44:36.063411Z"
    },
    "hidden": true
   },
   "outputs": [],
   "source": [
    "# print_loss(environ.val_metrics, title = f\"[Final] ep:{current_epoch}  it:{current_iter}\",)\n",
    "# environ.display_trained_policy(current_epoch)\n",
    "# environ.display_trained_logits(current_epoch)\n",
    "# environ.log_file.flush()"
   ]
  },
  {
   "cell_type": "code",
   "execution_count": null,
   "id": "083c1c8e",
   "metadata": {
    "ExecuteTime": {
     "end_time": "2022-03-06T00:32:52.580865Z",
     "start_time": "2022-03-06T00:32:52.554112Z"
    },
    "hidden": true,
    "scrolled": true
   },
   "outputs": [],
   "source": [
    "# model_label   = 'model_train_ep_%d_seed_%04d' % (current_epoch, opt['random_seed'])\n",
    "# metrics_label = 'metrics_train_ep_%d_seed_%04d.pickle' % (current_epoch, opt['random_seed'])\n",
    "# environ.save_checkpoint(model_label, current_iter, current_epoch) \n",
    "# save_to_pickle(environ.val_metrics, environ.opt['paths']['checkpoint_dir'], metrics_label)\n",
    "# print_loss(environ.val_metrics, title = f\"[Final] ep:{current_epoch}  it:{current_iter}\",)\n",
    "# environ.display_trained_policy(current_epoch,out=[sys.stdout, environ.log_file])\n",
    "# environ.display_trained_logits(current_epoch)\n",
    "# environ.log_file.flush()"
   ]
  },
  {
   "cell_type": "code",
   "execution_count": null,
   "id": "5dad3a6e",
   "metadata": {
    "ExecuteTime": {
     "end_time": "2022-02-20T22:48:27.014120Z",
     "start_time": "2022-02-20T22:48:26.982535Z"
    },
    "hidden": true
   },
   "outputs": [],
   "source": [
    "# print_loss(current_iter, environ.losses, title = f\"[e] Policy training epoch:{current_epoch}    iter:\")\n",
    "# print()\n",
    "# print_loss(current_iter, trn_losses, title = f\"[e] Policy training epoch:{current_epoch}    iter:\")\n",
    "# print()\n",
    "# print_loss(current_iter, environ.val_metrics, title = f\"[e] Policy training epoch:{current_epoch}    iter:\")"
   ]
  },
  {
   "cell_type": "code",
   "execution_count": null,
   "id": "464d5db8",
   "metadata": {
    "ExecuteTime": {
     "end_time": "2022-03-01T20:31:45.254334Z",
     "start_time": "2022-03-01T20:31:45.116895Z"
    },
    "hidden": true
   },
   "outputs": [],
   "source": [
    "# environ.losses\n",
    "# environ.val_metrics"
   ]
  },
  {
   "cell_type": "code",
   "execution_count": null,
   "id": "59c4dd81",
   "metadata": {
    "ExecuteTime": {
     "end_time": "2022-03-01T20:47:29.582501Z",
     "start_time": "2022-03-01T20:47:29.492581Z"
    },
    "hidden": true
   },
   "outputs": [],
   "source": [
    "# environ.batch_data\n",
    "# print_metrics_cr(current_epoch, time.time() - start_time, trn_losses, environ.val_metrics, 0, out=[sys.stdout])\n",
    "# environ.display_parameters()\n",
    "\n",
    "# with np.printoptions(edgeitems=3, infstr='inf', linewidth=150, nanstr='nan', precision=7, formatter={'float': lambda x: f\"{x:12.5e}\"}):\n",
    "#     environ.print_logit_grads('gradients')\n",
    "\n",
    "# environ_params = environ.get_task_specific_parameters()\n",
    "# environ_params = environ.get_arch_parameters()\n",
    "# environ_params = environ.get_backbone_parameters()\n",
    "# print(environ_params)\n",
    "# for param in environ_params:\n",
    "#     print(param.grad.shape, '\\n', param.grad)\n",
    "#     print(param)"
   ]
  },
  {
   "cell_type": "code",
   "execution_count": null,
   "id": "49c80c9b",
   "metadata": {
    "ExecuteTime": {
     "end_time": "2022-03-11T21:12:46.806056Z",
     "start_time": "2022-03-11T21:12:46.471801Z"
    },
    "hidden": true
   },
   "outputs": [],
   "source": [
    "# environ.display_trained_logits(ns.current_epoch)\n",
    "# environ.display_trained_policy(ns.current_epoch)\n",
    "\n",
    "# environ.display_test_sample_policy(ns.current_epoch, hard_sampling = True)\n",
    "# environ.display_train_sample_policy(ns.current_epoch, hard_sampling = True)"
   ]
  },
  {
   "cell_type": "code",
   "execution_count": null,
   "id": "8754b317",
   "metadata": {
    "ExecuteTime": {
     "end_time": "2022-03-06T00:33:19.474125Z",
     "start_time": "2022-03-06T00:33:19.447847Z"
    },
    "hidden": true
   },
   "outputs": [],
   "source": [
    "# environ.define_optimizer(policy_learning=True)"
   ]
  },
  {
   "cell_type": "code",
   "execution_count": null,
   "id": "e7e89541",
   "metadata": {
    "ExecuteTime": {
     "end_time": "2022-04-02T18:04:00.517922Z",
     "start_time": "2022-04-02T18:04:00.442149Z"
    },
    "hidden": true
   },
   "outputs": [],
   "source": [
    "# print(environ.optimizers['alphas'])\n",
    "# print(environ.optimizers['weights'])"
   ]
  },
  {
   "cell_type": "code",
   "execution_count": null,
   "id": "d1ecc91e",
   "metadata": {
    "ExecuteTime": {
     "end_time": "2022-03-09T00:07:50.026992Z",
     "start_time": "2022-03-09T00:07:49.986101Z"
    },
    "hidden": true,
    "scrolled": true
   },
   "outputs": [],
   "source": [
    "# print('Policy  initial_lr : ', environ.optimizers['alphas'].param_groups[0]['initial_lr'], 'lr : ',environ.optimizers['alphas'].param_groups[0]['lr'])\n",
    "# print('Weights initial_lr : ', environ.optimizers['weights'].param_groups[0]['initial_lr'], 'lr : ',environ.optimizers['weights'].param_groups[0]['lr'])\n",
    "# print('Weights initial_lr : ', environ.optimizers['weights'].param_groups[1]['initial_lr'], 'lr : ',environ.optimizers['weights'].param_groups[1]['lr'])"
   ]
  },
  {
   "cell_type": "code",
   "execution_count": null,
   "id": "a1306e8c",
   "metadata": {
    "ExecuteTime": {
     "end_time": "2022-03-10T22:31:50.425696Z",
     "start_time": "2022-03-10T22:31:50.396531Z"
    },
    "hidden": true
   },
   "outputs": [],
   "source": [
    "wandb.run is None"
   ]
  },
  {
   "cell_type": "code",
   "execution_count": null,
   "id": "1b6b8e99",
   "metadata": {
    "ExecuteTime": {
     "end_time": "2022-03-05T23:10:03.751132Z",
     "start_time": "2022-03-05T23:10:03.724538Z"
    },
    "execution": {
     "iopub.execute_input": "2022-01-07T22:44:13.145647Z",
     "iopub.status.busy": "2022-01-07T22:44:13.145313Z",
     "iopub.status.idle": "2022-01-07T22:44:13.193262Z",
     "shell.execute_reply": "2022-01-07T22:44:13.192140Z",
     "shell.execute_reply.started": "2022-01-07T22:44:13.145622Z"
    },
    "hidden": true
   },
   "outputs": [],
   "source": [
    "# opt['exp_instance'] = '0218_1358'     \n",
    "# folder_name=  f\"{opt['exp_instance']}_bs{opt['train']['batch_size']:03d}_{opt['train']['decay_lr_rate']:3.2f}_{opt['train']['decay_lr_freq']}\"\n",
    "# print()\n",
    "# opt['exp_instance'] = datetime.now().strftime(\"%m%d_%H%M\")\n",
    "# opt['exp_description'] = f\"No Alternating Weight/Policy - training all done with both weights and policy\"\n",
    "# folder_name=  f\"{opt['exp_instance']}_bs{opt['train']['batch_size']:03d}_{opt['train']['decay_lr_rate']:3.2f}_{opt['train']['decay_lr_freq']}\""
   ]
  },
  {
   "cell_type": "code",
   "execution_count": null,
   "id": "d2affee1",
   "metadata": {
    "ExecuteTime": {
     "end_time": "2022-03-11T21:12:20.322227Z",
     "start_time": "2022-03-11T21:12:20.285961Z"
    },
    "hidden": true
   },
   "outputs": [],
   "source": [
    "# wandb.finish()"
   ]
  },
  {
   "cell_type": "code",
   "execution_count": null,
   "id": "2527bd00",
   "metadata": {
    "ExecuteTime": {
     "end_time": "2022-02-20T21:25:11.319751Z",
     "start_time": "2022-02-20T21:25:11.210062Z"
    },
    "hidden": true
   },
   "outputs": [],
   "source": [
    "# \n",
    "# p = environ.get_current_state(0)"
   ]
  },
  {
   "cell_type": "code",
   "execution_count": null,
   "id": "919068f7",
   "metadata": {
    "ExecuteTime": {
     "end_time": "2022-02-20T21:25:26.324030Z",
     "start_time": "2022-02-20T21:25:26.112782Z"
    },
    "hidden": true
   },
   "outputs": [],
   "source": [
    "# pp.pprint(p)"
   ]
  },
  {
   "cell_type": "markdown",
   "id": "5c82a453",
   "metadata": {
    "heading_collapsed": true,
    "hidden": true
   },
   "source": [
    "### Post Warm-up Training stuff"
   ]
  },
  {
   "cell_type": "code",
   "execution_count": null,
   "id": "3bb74c3d",
   "metadata": {
    "ExecuteTime": {
     "end_time": "2022-02-01T12:45:43.999959Z",
     "start_time": "2022-02-01T12:45:43.862475Z"
    },
    "hidden": true
   },
   "outputs": [],
   "source": [
    "pp.pprint(environ.val_metrics)"
   ]
  },
  {
   "cell_type": "code",
   "execution_count": null,
   "id": "912b47da",
   "metadata": {
    "ExecuteTime": {
     "end_time": "2022-02-01T12:46:36.700361Z",
     "start_time": "2022-02-01T12:46:36.367037Z"
    },
    "hidden": true
   },
   "outputs": [],
   "source": [
    "environ.networks['mtl-net'].arch_parameters()"
   ]
  },
  {
   "cell_type": "code",
   "execution_count": null,
   "id": "922f0235",
   "metadata": {
    "ExecuteTime": {
     "end_time": "2022-01-28T16:37:10.158440Z",
     "start_time": "2022-01-28T16:37:09.742327Z"
    },
    "hidden": true
   },
   "outputs": [],
   "source": [
    "p = environ.get_sample_policy(hard_sampling = False)\n",
    "print(p)\n",
    "p = environ.get_policy_prob()\n",
    "print(p)\n",
    "p = environ.get_policy_logits()\n",
    "print(p)\n",
    "\n",
    "# p = environ.get_current_policy()\n",
    "# print(p)"
   ]
  },
  {
   "cell_type": "code",
   "execution_count": null,
   "id": "c6bddd44",
   "metadata": {
    "ExecuteTime": {
     "end_time": "2022-01-28T16:40:37.799917Z",
     "start_time": "2022-01-28T16:40:37.773177Z"
    },
    "hidden": true
   },
   "outputs": [],
   "source": [
    "a = softmax([0.0, 1])\n",
    "print(a)\n",
    "sampled = np.random.choice((1, 0), p=a)\n",
    "print(sampled)"
   ]
  },
  {
   "cell_type": "code",
   "execution_count": null,
   "id": "f5e8f376",
   "metadata": {
    "ExecuteTime": {
     "end_time": "2022-01-28T16:13:16.205889Z",
     "start_time": "2022-01-28T16:13:16.179303Z"
    },
    "hidden": true
   },
   "outputs": [],
   "source": [
    "print(environ.optimizers['weights'])\n",
    "print(environ.schedulers['weights'].get_last_lr())"
   ]
  },
  {
   "cell_type": "code",
   "execution_count": null,
   "id": "dddf9c47",
   "metadata": {
    "ExecuteTime": {
     "end_time": "2022-02-01T12:46:50.411465Z",
     "start_time": "2022-02-01T12:46:50.020540Z"
    },
    "hidden": true,
    "scrolled": false
   },
   "outputs": [],
   "source": [
    "print('losses.keys      : ', environ.losses.keys())\n",
    "print('losses[task]keys : ', environ.losses['task1'].keys())\n",
    "pp.pprint(environ.losses)"
   ]
  },
  {
   "cell_type": "code",
   "execution_count": null,
   "id": "20950069",
   "metadata": {
    "ExecuteTime": {
     "end_time": "2022-01-15T22:57:02.151169Z",
     "start_time": "2022-01-15T22:57:02.056562Z"
    },
    "execution": {
     "iopub.execute_input": "2022-01-07T22:49:07.606120Z",
     "iopub.status.busy": "2022-01-07T22:49:07.604909Z",
     "iopub.status.idle": "2022-01-07T22:49:08.025886Z",
     "shell.execute_reply": "2022-01-07T22:49:08.024798Z",
     "shell.execute_reply.started": "2022-01-07T22:49:07.606065Z"
    },
    "hidden": true,
    "scrolled": false
   },
   "outputs": [],
   "source": [
    "print( environ.val_metrics.keys())\n",
    "# pp.pprint(val_metrics)\n",
    "print(type(environ.val_metrics['aggregated']))\n",
    "print()\n",
    "print(type(environ.val_metrics['task1']['classification_agg']))\n",
    "print()\n",
    "pp.pprint(environ.val_metrics)"
   ]
  },
  {
   "cell_type": "code",
   "execution_count": null,
   "id": "eed6e311",
   "metadata": {
    "ExecuteTime": {
     "end_time": "2022-01-14T18:57:26.266303Z",
     "start_time": "2022-01-14T18:57:26.166878Z"
    },
    "hidden": true
   },
   "outputs": [],
   "source": [
    "# import pickle\n",
    "# with open(\"val_metrics.pkl\", mode= 'wb') as f:\n",
    "#         pickle.dump(val_metrics, f)\n",
    "    \n",
    "# with open('val_metrics.pkl', 'rb') as f:    \n",
    "#     tst_val_metrics = pickle.load(f)"
   ]
  },
  {
   "cell_type": "code",
   "execution_count": null,
   "id": "2b00a8aa",
   "metadata": {
    "ExecuteTime": {
     "end_time": "2022-01-14T18:57:26.297444Z",
     "start_time": "2022-01-14T18:57:26.269323Z"
    },
    "hidden": true
   },
   "outputs": [],
   "source": [
    "# print(environ.input.shape) \n",
    "# a = getattr(environ, 'task1_pred')\n",
    "# yc_data = environ.batch['task1_data']\n",
    "# print(yc_data.shape)\n",
    "# yc_ind = environ.batch['task1_ind']\n",
    "# print(yc_ind.shape)\n",
    "# yc_hat_all = getattr(environ, 'task1_pred')\n",
    "# print(yc_hat_all.shape)\n",
    "# yc_hat  = yc_hat_all[yc_ind[0], yc_ind[1]]\n",
    "# print(yc_hat_all.shape, yc_hat.shape)\n",
    "\n",
    "# \n",
    "# environ.losses\n",
    "# loss = {}\n",
    "# for key in environ.losses.keys():\n",
    "#     loss[key] = {}\n",
    "#     for subkey, v in environ.losses[key].items():\n",
    "#         print(f\" key:  {key}   subkey: {subkey} \")\n",
    "#         if isinstance(v, torch.Tensor):\n",
    "#             loss[key][subkey] = v.data\n",
    "#             print(f\" Tensor  -  key:  {key}   subkey: {subkey}           value type: {type(v)}  value: {v:.4f}\")\n",
    "#         else:\n",
    "#             loss[key][subkey] = v\n",
    "#             print(f\" integer -  key:  {key}   subkey: {subkey}           value type: {type(v)}  value: {v:.4f}\")\n",
    "# pp.pprint(tst_val_metrics)             "
   ]
  },
  {
   "cell_type": "code",
   "execution_count": null,
   "id": "5987f89f",
   "metadata": {
    "ExecuteTime": {
     "end_time": "2022-01-14T18:57:26.340792Z",
     "start_time": "2022-01-14T18:57:26.302528Z"
    },
    "execution": {
     "iopub.execute_input": "2022-01-07T22:49:07.606120Z",
     "iopub.status.busy": "2022-01-07T22:49:07.604909Z",
     "iopub.status.idle": "2022-01-07T22:49:08.025886Z",
     "shell.execute_reply": "2022-01-07T22:49:08.024798Z",
     "shell.execute_reply.started": "2022-01-07T22:49:07.606065Z"
    },
    "hidden": true
   },
   "outputs": [],
   "source": [
    "# print('metrics.keys: ', environ.metrics.keys())\n",
    "# print('metrics[task].keys: ', environ.metrics['task1'].keys())\n",
    "# pp.pprint(environ.metrics['task1'])\n",
    "# pp.pprint(environ.losses['task1']['total'])"
   ]
  },
  {
   "cell_type": "code",
   "execution_count": null,
   "id": "864ae417",
   "metadata": {
    "ExecuteTime": {
     "end_time": "2022-01-14T18:57:26.373399Z",
     "start_time": "2022-01-14T18:57:26.345065Z"
    },
    "hidden": true
   },
   "outputs": [],
   "source": [
    "# title='Iteration'\n",
    "# for t_id, _ in enumerate(environ.tasks):\n",
    "#     task_key = f\"task{t_id+1}\"\n",
    "# #     print_heading(f\"{title}  {current_iter}  {task_key} : {val_metrics[task_key]['classification_agg']}\", verbose = True)\n",
    "\n",
    "#     for key, _  in val_metrics[task_key]['classification_agg'].items():\n",
    "#         print('%s/%-20s'%(task_key, key), val_metrics[task_key]['classification_agg'][key], current_iter)\n",
    "#         print(f\"{task_key:s}/{key:20s}\", val_metrics[task_key]['classification_agg'][key], current_iter)\n",
    "#         print()\n",
    "#             # print_current_errors(os.path.join(self.log_dir, 'loss.txt'), current_iter,key, loss[key], time.time() - start_time)"
   ]
  },
  {
   "cell_type": "code",
   "execution_count": null,
   "id": "c0b73b44",
   "metadata": {
    "ExecuteTime": {
     "end_time": "2022-01-07T22:52:48.162261Z",
     "start_time": "2022-01-07T22:52:48.140423Z"
    },
    "hidden": true
   },
   "outputs": [],
   "source": [
    "# environ.print_loss(current_iter, start_time, metrics = val_metrics['loss'], verbose=True)\n",
    "# print(opt['lambdas'])\n",
    "# p = (opt['lambdas'][0] * environ.losses['tasks']['task1'])\n",
    "# print(p)\n",
    "\n",
    "# environ.print_val_metrics(current_iter, start_time, val_metrics , title='validation', verbose=True)    "
   ]
  },
  {
   "cell_type": "code",
   "execution_count": null,
   "id": "850378b6",
   "metadata": {
    "ExecuteTime": {
     "end_time": "2022-01-07T22:52:47.661019Z",
     "start_time": "2022-01-07T22:52:47.639094Z"
    },
    "hidden": true
   },
   "outputs": [],
   "source": [
    "# print(current_iter)\n",
    "# print_metrics_cr(current_iter, t1 - t0, None, val_metrics , True)\n",
    "# environ.print_val_metrics(current_iter, start_time, val_metrics, title='validation', verbose = True)"
   ]
  },
  {
   "cell_type": "code",
   "execution_count": null,
   "id": "266a80b0",
   "metadata": {
    "ExecuteTime": {
     "end_time": "2022-01-07T23:14:58.034384Z",
     "start_time": "2022-01-07T23:14:58.004850Z"
    },
    "hidden": true,
    "scrolled": true
   },
   "outputs": [],
   "source": [
    "print(f\" val_metric keys               : {val_metrics.keys()}\")\n",
    "print(f\" loss keys                     : {val_metrics['loss'].keys()}\")\n",
    "print(f\" task1 keys                    : {val_metrics['task1'].keys()}\")\n",
    "print(f\" task1 classification keys     : {val_metrics['task1']['classification'].keys()}\")\n",
    "print(f\" task1 classification_agg keys : {val_metrics['task1']['classification_agg'].keys()}\")\n",
    "print()\n",
    "print(f\" task1                       : {val_metrics['task1']['classification_agg']['loss']:5f}\")\n",
    "print(f\" task2                       : {val_metrics['task2']['classification_agg']['loss']:5f}\")\n",
    "print(f\" task3                       : {val_metrics['task3']['classification_agg']['loss']:5f}\")\n",
    "print(f\" loss                        : {val_metrics['loss']['total']:5f}\")\n",
    "print(f\" train_time                  : {val_metrics['train_time']:2f}\")\n",
    "print(f\" epoch                       : {val_metrics['epoch']}\")\n"
   ]
  },
  {
   "cell_type": "markdown",
   "id": "60fc43a6",
   "metadata": {
    "heading_collapsed": true,
    "hidden": true
   },
   "source": [
    "### Post Weight + Policy Training Stuff "
   ]
  },
  {
   "cell_type": "code",
   "execution_count": null,
   "id": "65640cd9",
   "metadata": {
    "ExecuteTime": {
     "end_time": "2022-01-27T00:22:20.634818Z",
     "start_time": "2022-01-27T00:22:20.444566Z"
    },
    "hidden": true
   },
   "outputs": [],
   "source": [
    "environ.networks['mtl-net'].backbone.layer_config"
   ]
  },
  {
   "cell_type": "code",
   "execution_count": null,
   "id": "a4374287",
   "metadata": {
    "ExecuteTime": {
     "end_time": "2022-01-26T19:30:31.940280Z",
     "start_time": "2022-01-26T19:30:31.910058Z"
    },
    "hidden": true
   },
   "outputs": [],
   "source": [
    "num_blocks = 6\n",
    "num_policy_layers = 6\n",
    "gt =  torch.ones((num_blocks)).long()\n",
    "gt0 =  torch.zeros((num_blocks)).long()\n",
    "print(gt)\n",
    "print(gt0)\n",
    "\n",
    "loss_weights = ((torch.arange(0, num_policy_layers, 1) + 1).float() / num_policy_layers)\n",
    "print(loss_weights)"
   ]
  },
  {
   "cell_type": "code",
   "execution_count": null,
   "id": "8651bc43",
   "metadata": {
    "ExecuteTime": {
     "end_time": "2022-01-26T19:42:31.300891Z",
     "start_time": "2022-01-26T19:42:31.257774Z"
    },
    "hidden": true
   },
   "outputs": [],
   "source": [
    "if environ.opt['diff_sparsity_weights'] and not environ.opt['is_sharing']:\n",
    "    print(' cond 1')\n",
    "    ## Assign higher weights to higher layers \n",
    "    loss_weights = ((torch.arange(0, num_policy_layers, 1) + 1).float() / num_policy_layers)\n",
    "    print(f\"{task_key} sparsity error:  {2 * (loss_weights[-num_blocks:] * environ.cross_entropy2(logits[-num_blocks:], gt)).mean()})\")\n",
    "    print_dbg(f\" loss_weights :  {loss_weights}\", verbose = True)\n",
    "    print_dbg(f\" cross_entropy:  {environ.cross_entropy2(logits[-num_blocks:], gt)}  \", verbose = True)\n",
    "    print_dbg(f\" loss[sparsity][{task_key}]: {self.losses['sparsity'][task_key] } \", verbose = True)\n",
    "\n",
    "else:\n",
    "    print('\\n cond 2')\n",
    "    print_dbg(f\"Compute CrossEntropyLoss between \\n Logits   : \\n{logits[-num_blocks:]} \\n and gt: \\n{gt} \\n\", verbose = True)\n",
    "    print(f\"{task_key} sparsity error:  {environ.cross_entropy_sparsity(logits[-num_blocks:], gt)}\")\n",
    "    \n",
    "    print('\\n cond 2')\n",
    "    print_dbg(f\"Compute CrossEntropyLoss between Logits      : {logits[-1:]}  and gt: {gt[-1]} \", verbose = True)\n",
    "    print(f\"{task_key} sparsity error:  {environ.cross_entropy_sparsity(logits[-1:], gt[-1:])} \\n\")\n",
    "    print_dbg(f\"Compute CrossEntropyLoss between Logits      : {logits[-1:]}  and gt: {gt0[-1]} \", verbose = True)\n",
    "    print(f\"{task_key} sparsity error:  {environ.cross_entropy_sparsity(logits[-1:], gt0[-1:])} \\n\")\n",
    "    \n",
    "    print('\\n cond 3')    \n",
    "    print_dbg(f\"Compute CrossEntropyLoss between Logits   : {logits[0:1]}  and gt: {gt[0:1]} \", verbose = True)\n",
    "    print(f\"{task_key} sparsity error:  {environ.cross_entropy_sparsity(logits[0:1], gt[0:1])} \\n\")\n",
    "    print_dbg(f\"Compute CrossEntropyLoss between Logits   : {logits[0:1]}  and gt: {gt0[0:1]} \", verbose = True)\n",
    "    print(f\"{task_key} sparsity error:  {environ.cross_entropy_sparsity(logits[0:1], gt0[0:1])} \\n\")\n",
    "        \n",
    "        "
   ]
  },
  {
   "cell_type": "code",
   "execution_count": null,
   "id": "c686cd05",
   "metadata": {
    "hidden": true
   },
   "outputs": [],
   "source": []
  },
  {
   "cell_type": "code",
   "execution_count": null,
   "id": "c83ee1b6",
   "metadata": {
    "ExecuteTime": {
     "end_time": "2022-01-26T00:14:30.155045Z",
     "start_time": "2022-01-26T00:14:30.107095Z"
    },
    "hidden": true
   },
   "outputs": [],
   "source": [
    "# flag = 'update_w'\n",
    "# environ.fix_alpha\n",
    "# environ.free_w(opt['fix_BN'])\n",
    "\n",
    "flag = 'update_alpha'\n",
    "environ.fix_weights()\n",
    "environ.free_alpha()"
   ]
  },
  {
   "cell_type": "code",
   "execution_count": null,
   "id": "6e7996b7",
   "metadata": {
    "ExecuteTime": {
     "end_time": "2022-01-25T23:43:31.184285Z",
     "start_time": "2022-01-25T23:43:31.159229Z"
    },
    "hidden": true
   },
   "outputs": [],
   "source": [
    "environ.networks['mtl-net'].num_layers"
   ]
  },
  {
   "cell_type": "code",
   "execution_count": null,
   "id": "f436ee6a",
   "metadata": {
    "ExecuteTime": {
     "end_time": "2022-01-26T00:14:34.993711Z",
     "start_time": "2022-01-26T00:14:34.968623Z"
    },
    "hidden": true
   },
   "outputs": [],
   "source": [
    "print(f\"current_iters         : {current_iter}\")  \n",
    "print(f\"current_epochs           : {current_epoch}\") \n",
    "print(f\"train_total_epochs    : {train_total_epochs}\") \n",
    "\n",
    "train_total_epochs += 5\n",
    "\n",
    "print(f\"current_iters         : {current_iter}\")  \n",
    "print(f\"current_epochs           : {current_epoch}\") \n",
    "print(f\"train_total_epochs    : {train_total_epochs}\") "
   ]
  },
  {
   "cell_type": "code",
   "execution_count": null,
   "id": "5334a0b6",
   "metadata": {
    "ExecuteTime": {
     "end_time": "2022-01-25T17:15:02.216665Z",
     "start_time": "2022-01-25T17:15:01.848081Z"
    },
    "hidden": true
   },
   "outputs": [],
   "source": [
    "# print_metrics_cr(current_epoch, time.time() - t0, None, environ.val_metrics , num_prints)      \n",
    "\n",
    "# num_prints += 1\n",
    "# t0 = time.time()\n",
    "\n",
    "# # Take check point\n",
    "# environ.save_checkpoint('latest', current_iter)\n",
    "# environ.train()\n",
    "# #-------------------------------------------------------\n",
    "# # END validation process\n",
    "# #-------------------------------------------------------       \n",
    "# flag = 'update_alpha'\n",
    "# environ.fix_w()\n",
    "# environ.free_alpha()"
   ]
  },
  {
   "cell_type": "code",
   "execution_count": null,
   "id": "9d8c4f39",
   "metadata": {
    "ExecuteTime": {
     "end_time": "2022-01-08T01:08:57.366231Z",
     "start_time": "2022-01-08T01:08:57.295445Z"
    },
    "hidden": true
   },
   "outputs": [],
   "source": [
    "# dilation = 2\n",
    "# kernel_size = np.asarray((3, 3))\n",
    "# upsampled_kernel_size = (kernel_size - 1) * (dilation - 1) + kernel_size\n",
    "# print(upsampled_kernel_size)"
   ]
  },
  {
   "cell_type": "code",
   "execution_count": null,
   "id": "9500c390",
   "metadata": {
    "ExecuteTime": {
     "end_time": "2022-01-25T23:43:39.763599Z",
     "start_time": "2022-01-25T23:43:39.728402Z"
    },
    "hidden": true
   },
   "outputs": [],
   "source": [
    "# environ.optimizers['weights'].param_groups[0]\n",
    "# for param_group in optimizer.param_groups:\n",
    "#     return param_group['lr']"
   ]
  },
  {
   "cell_type": "code",
   "execution_count": null,
   "id": "5fb71bd6",
   "metadata": {
    "ExecuteTime": {
     "end_time": "2022-01-25T23:43:41.628847Z",
     "start_time": "2022-01-25T23:43:41.602238Z"
    },
    "hidden": true
   },
   "outputs": [],
   "source": [
    "environ.schedulers['weights'].get_last_lr()"
   ]
  },
  {
   "cell_type": "code",
   "execution_count": null,
   "id": "d7934862",
   "metadata": {
    "ExecuteTime": {
     "end_time": "2022-01-08T01:36:17.129535Z",
     "start_time": "2022-01-08T01:36:16.006144Z"
    },
    "hidden": true,
    "scrolled": true
   },
   "outputs": [],
   "source": [
    "current_state = {}\n",
    "for k, v in environ.optimizers.items():\n",
    "    print(f'state dict for {k} = {v}')\n",
    "    current_state[k] = v.state_dict()\n",
    "pp.pprint(current_state)"
   ]
  },
  {
   "cell_type": "code",
   "execution_count": null,
   "id": "d5faf7f1",
   "metadata": {
    "ExecuteTime": {
     "end_time": "2022-01-08T01:40:22.032247Z",
     "start_time": "2022-01-08T01:40:22.006953Z"
    },
    "hidden": true,
    "scrolled": true
   },
   "outputs": [],
   "source": [
    "current_state = {}\n",
    "for k, v in environ.schedulers.items():\n",
    "    print(f'state dict for {k} = {v}')\n",
    "    print(v.state_dict())"
   ]
  },
  {
   "cell_type": "markdown",
   "id": "dd497e72",
   "metadata": {
    "heading_collapsed": true,
    "hidden": true
   },
   "source": [
    "### Losses and Metrics"
   ]
  },
  {
   "cell_type": "code",
   "execution_count": null,
   "id": "66169a84",
   "metadata": {
    "ExecuteTime": {
     "end_time": "2022-02-09T16:34:44.555617Z",
     "start_time": "2022-02-09T16:34:44.507417Z"
    },
    "hidden": true
   },
   "outputs": [],
   "source": [
    "trn_losses = environ.losses"
   ]
  },
  {
   "cell_type": "code",
   "execution_count": null,
   "id": "60cb8234",
   "metadata": {
    "ExecuteTime": {
     "end_time": "2022-02-10T03:35:11.758429Z",
     "start_time": "2022-02-10T03:35:11.278211Z"
    },
    "hidden": true
   },
   "outputs": [],
   "source": [
    "print_metrics_cr(current_epoch, time.time() - start_time, trn_losses, environ.val_metrics , num_prints)      "
   ]
  },
  {
   "cell_type": "code",
   "execution_count": null,
   "id": "4ce0301f",
   "metadata": {
    "ExecuteTime": {
     "end_time": "2022-02-10T03:21:49.107793Z",
     "start_time": "2022-02-10T03:21:49.084484Z"
    },
    "hidden": true
   },
   "outputs": [],
   "source": [
    "# print_metrics_cr(current_epoch, time.time() - start_time, trn_losses, environ.val_metrics , num_prints)      "
   ]
  },
  {
   "cell_type": "code",
   "execution_count": null,
   "id": "a498b6ee",
   "metadata": {
    "ExecuteTime": {
     "end_time": "2022-02-10T03:20:32.866010Z",
     "start_time": "2022-02-10T03:20:32.442919Z"
    },
    "hidden": true
   },
   "outputs": [],
   "source": [
    "# pp.pprint(environ.losses)\n",
    "pp.pprint(trn_losses)"
   ]
  },
  {
   "cell_type": "code",
   "execution_count": null,
   "id": "5fe30724",
   "metadata": {
    "ExecuteTime": {
     "end_time": "2022-02-10T03:34:21.945701Z",
     "start_time": "2022-02-10T03:34:21.411234Z"
    },
    "hidden": true
   },
   "outputs": [],
   "source": [
    "pp.pprint(environ.val_metrics)"
   ]
  },
  {
   "cell_type": "code",
   "execution_count": null,
   "id": "a1d81167",
   "metadata": {
    "ExecuteTime": {
     "end_time": "2022-01-27T00:58:49.364883Z",
     "start_time": "2022-01-27T00:58:49.342931Z"
    },
    "hidden": true
   },
   "outputs": [],
   "source": [
    "# environ.opt['train']['Lambda_sharing'] = 0.5\n",
    "# opt['train']['Lambda_sharing'] = 0.5\n",
    "\n",
    "# environ.opt['train']['policy_lr'] = 0.001\n",
    "# opt['train']['policy_lr'] = 0.001"
   ]
  },
  {
   "cell_type": "code",
   "execution_count": null,
   "id": "2a73aa06",
   "metadata": {
    "ExecuteTime": {
     "end_time": "2022-01-26T01:00:41.996410Z",
     "start_time": "2022-01-26T01:00:41.559006Z"
    },
    "hidden": true
   },
   "outputs": [],
   "source": [
    "environ.losses.keys()\n",
    "pp.pprint(environ.losses)"
   ]
  },
  {
   "cell_type": "code",
   "execution_count": null,
   "id": "e06ece74",
   "metadata": {
    "ExecuteTime": {
     "end_time": "2022-01-08T01:19:43.683550Z",
     "start_time": "2022-01-08T01:19:43.571450Z"
    },
    "hidden": true
   },
   "outputs": [],
   "source": [
    "tmp = environ.get_loss_dict()\n",
    "print(tmp.keys())\n",
    "pp.pprint(tmp)"
   ]
  },
  {
   "cell_type": "code",
   "execution_count": null,
   "id": "00ac0256",
   "metadata": {
    "ExecuteTime": {
     "end_time": "2022-01-27T00:58:50.458223Z",
     "start_time": "2022-01-27T00:58:50.430889Z"
    },
    "hidden": true
   },
   "outputs": [],
   "source": [
    "print(opt['diff_sparsity_weights'])\n",
    "print(opt['is_sharing'])\n",
    "print(opt['diff_sparsity_weights'] and not opt['is_sharing'])\n",
    "print(environ.opt['train']['Lambda_sharing'])\n",
    "print(opt['train']['Lambda_sharing'])\n",
    "print(environ.opt['train']['Lambda_sparsity'])\n",
    "print(opt['train']['Lambda_sparsity'])\n",
    "print(environ.opt['train']['policy_lr'])\n",
    "print(opt['train']['policy_lr'])"
   ]
  },
  {
   "cell_type": "markdown",
   "id": "aae2d510",
   "metadata": {
    "heading_collapsed": true,
    "hidden": true
   },
   "source": [
    "### Policy / Logit stuff"
   ]
  },
  {
   "cell_type": "code",
   "execution_count": null,
   "id": "bb628497",
   "metadata": {
    "ExecuteTime": {
     "end_time": "2022-02-08T20:35:14.041577Z",
     "start_time": "2022-02-08T20:35:14.018303Z"
    },
    "hidden": true
   },
   "outputs": [],
   "source": [
    "from scipy.special          import softmax"
   ]
  },
  {
   "cell_type": "code",
   "execution_count": null,
   "id": "79eed454",
   "metadata": {
    "ExecuteTime": {
     "end_time": "2022-02-08T20:00:30.103364Z",
     "start_time": "2022-02-08T20:00:30.068021Z"
    },
    "hidden": true
   },
   "outputs": [],
   "source": [
    "np.set_printoptions(precision=8,edgeitems=3, infstr='inf', linewidth=150, nanstr='nan')\n",
    "torch.set_printoptions(precision=8,linewidth=132)"
   ]
  },
  {
   "cell_type": "markdown",
   "id": "df03b5cc",
   "metadata": {
    "heading_collapsed": true,
    "hidden": true
   },
   "source": [
    "#### `get_task_logits(n)` Get logits for task group n"
   ]
  },
  {
   "cell_type": "code",
   "execution_count": null,
   "id": "2aed8b9b",
   "metadata": {
    "ExecuteTime": {
     "end_time": "2022-02-08T20:56:35.652087Z",
     "start_time": "2022-02-08T20:56:35.327406Z"
    },
    "hidden": true
   },
   "outputs": [],
   "source": [
    "task_logits = environ.get_task_logits(1)\n",
    "print(task_logits)"
   ]
  },
  {
   "cell_type": "markdown",
   "id": "fb66fa5f",
   "metadata": {
    "hidden": true
   },
   "source": [
    "#### `get_arch_parameters()`: Get last used logits from network"
   ]
  },
  {
   "cell_type": "code",
   "execution_count": null,
   "id": "8a85521e",
   "metadata": {
    "ExecuteTime": {
     "end_time": "2022-02-08T20:00:31.101960Z",
     "start_time": "2022-02-08T20:00:30.757064Z"
    },
    "hidden": true,
    "scrolled": true
   },
   "outputs": [],
   "source": [
    "import torch.optim as optim\n",
    "arch_parameters      = environ.get_arch_parameters()\n",
    "print(arch_parameters)"
   ]
  },
  {
   "cell_type": "code",
   "execution_count": null,
   "id": "489b0bef",
   "metadata": {
    "ExecuteTime": {
     "end_time": "2022-02-09T15:43:06.054699Z",
     "start_time": "2022-02-09T15:43:05.689327Z"
    },
    "hidden": true,
    "scrolled": true
   },
   "outputs": [],
   "source": [
    "import torch.optim as optim\n",
    "arch_parameters      = environ.get_arch_parameters()\n",
    "print(arch_parameters)"
   ]
  },
  {
   "cell_type": "markdown",
   "id": "19ea1743",
   "metadata": {
    "hidden": true
   },
   "source": [
    "#### `get_policy_logits()`:  Get Policy Logits - returns same as `get_arch_parameters()`"
   ]
  },
  {
   "cell_type": "code",
   "execution_count": null,
   "id": "cdbb40c4",
   "metadata": {
    "ExecuteTime": {
     "end_time": "2022-02-09T15:43:24.972390Z",
     "start_time": "2022-02-09T15:43:24.636629Z"
    },
    "hidden": true,
    "scrolled": true
   },
   "outputs": [],
   "source": [
    "logs = environ.get_policy_logits()\n",
    "for i in logs:\n",
    "    print(i, '\\n')\n",
    "# probs = softmax(logs, axis= -1)\n",
    "# for i in probs:\n",
    "#     print(i, '\\n')"
   ]
  },
  {
   "cell_type": "markdown",
   "id": "6080a364",
   "metadata": {
    "hidden": true
   },
   "source": [
    "#### `get_policy_prob()` : Gets the softmax of the logits"
   ]
  },
  {
   "cell_type": "code",
   "execution_count": null,
   "id": "b59c75af",
   "metadata": {
    "ExecuteTime": {
     "end_time": "2022-02-09T15:43:29.733732Z",
     "start_time": "2022-02-09T15:43:29.699600Z"
    },
    "hidden": true,
    "scrolled": true
   },
   "outputs": [],
   "source": [
    "policy_softmaxs = environ.get_policy_prob()\n",
    "for i in policy_softmaxs:\n",
    "    print(i, '\\n')"
   ]
  },
  {
   "cell_type": "markdown",
   "id": "3c3160d9",
   "metadata": {
    "heading_collapsed": true,
    "hidden": true
   },
   "source": [
    "#### `get_sample_policy( hard_sampling = False)` : Calls test_sample_policy of network with random choices based on softmax of logits"
   ]
  },
  {
   "cell_type": "code",
   "execution_count": null,
   "id": "3f411444",
   "metadata": {
    "ExecuteTime": {
     "end_time": "2022-02-08T22:21:15.636722Z",
     "start_time": "2022-02-08T22:21:15.165456Z"
    },
    "hidden": true
   },
   "outputs": [],
   "source": [
    "policy_softmaxs = environ.get_policy_prob()\n",
    "policies,logits = environ.get_sample_policy(hard_sampling = False)\n",
    "\n",
    "for l, p, s in zip(logits, policies, policy_softmaxs) :\n",
    "    for  l_row, p_row, s_row in zip(l, p, s):\n",
    "        print( l_row,'\\t', p_row, '\\t', s_row)\n",
    "    print('\\n')"
   ]
  },
  {
   "cell_type": "markdown",
   "id": "802664ec",
   "metadata": {
    "heading_collapsed": true,
    "hidden": true
   },
   "source": [
    "#### `get_sample_policy( hard_sampling = True)` : Calls test_sample_policy of network using ARGMAX of logits"
   ]
  },
  {
   "cell_type": "code",
   "execution_count": null,
   "id": "dea65bf2",
   "metadata": {
    "ExecuteTime": {
     "end_time": "2022-02-08T20:59:40.790899Z",
     "start_time": "2022-02-08T20:59:40.726657Z"
    },
    "hidden": true
   },
   "outputs": [],
   "source": [
    "policy_softmaxs = environ.get_policy_prob()\n",
    "hard_policies, logits = environ.get_sample_policy(hard_sampling = True)\n",
    "\n",
    "for p,l,s in zip(hard_policies, logits, policy_softmaxs) :\n",
    "    for  p_row, l_row, s_row in zip(p, l, s):\n",
    "        print( l_row,'\\t', p_row, '\\t', s_row)\n",
    "    print('\\n')"
   ]
  },
  {
   "cell_type": "markdown",
   "id": "c63c39cf",
   "metadata": {
    "heading_collapsed": true,
    "hidden": true
   },
   "source": [
    "#### Print"
   ]
  },
  {
   "cell_type": "code",
   "execution_count": null,
   "id": "4c0fe096",
   "metadata": {
    "ExecuteTime": {
     "end_time": "2022-02-08T21:00:47.452220Z",
     "start_time": "2022-02-08T21:00:47.422902Z"
    },
    "hidden": true
   },
   "outputs": [],
   "source": [
    "print(f\" Layer    task 1      task 2      task 3\")\n",
    "print(f\" -----    ------      ------      ------\")\n",
    "for idx, (l1, l2, l3) in enumerate(zip(hard_policies[0], hard_policies[1], hard_policies[2]),1):\n",
    "    print(f\"   {idx}      {l1}       {l2}       {l3}\")\n",
    "    \n",
    "\n",
    "    print(f\"\\n\\n where [p1  p2]:  p1: layer is selected    p2: layer is not selected\")"
   ]
  },
  {
   "cell_type": "code",
   "execution_count": null,
   "id": "7ade0ac9",
   "metadata": {
    "ExecuteTime": {
     "end_time": "2022-02-08T22:39:39.936555Z",
     "start_time": "2022-02-08T22:39:39.911591Z"
    },
    "hidden": true
   },
   "outputs": [],
   "source": [
    "def display_trained_policy(iter):\n",
    "\n",
    "    policy_softmaxs = environ.get_policy_prob()\n",
    "    policy_argmaxs = 1-np.argmax(policy_softmaxs, axis = -1)\n",
    "    print(f\"  Trained polcies at iteration: {iter} \")\n",
    "    print(f\"                   task 1                           task 2                         task 3        \")\n",
    "    print(f\" Layer       softmax        select          softmax        select          softmax        select   \")\n",
    "    print(f\" -----    ---------------   ------       ---------------   ------       ---------------   ------   \")\n",
    "    for idx, (l1,l2,l3,  p1,p2,p3) in enumerate(zip(policy_softmaxs[0], policy_softmaxs[1], policy_softmaxs[2], policy_argmaxs[0], policy_argmaxs[1], policy_argmaxs[2]),1):\n",
    "        print(f\"   {idx}      {l1[0]:.4f}   {l1[1]:.4f}   {p1:4d}    {l2[0]:11.4f}   {l2[1]:.4f}   {p2:4d}    {l3[0]:11.4f}   {l3[1]:.4f}   {p3:4d}\")\n",
    "\n",
    "    print()\n",
    "# print(f\"\\n\\n where [p1  p2]:  p1: layer is selected    p2: layer is not selected\")"
   ]
  },
  {
   "cell_type": "code",
   "execution_count": null,
   "id": "ec208dd8",
   "metadata": {
    "ExecuteTime": {
     "end_time": "2022-02-08T22:42:12.650813Z",
     "start_time": "2022-02-08T22:42:12.330169Z"
    },
    "hidden": true
   },
   "outputs": [],
   "source": [
    "display_trained_policy(5)"
   ]
  },
  {
   "cell_type": "code",
   "execution_count": null,
   "id": "eec517e9",
   "metadata": {
    "ExecuteTime": {
     "end_time": "2022-02-08T22:07:30.836214Z",
     "start_time": "2022-02-08T22:07:30.804575Z"
    },
    "hidden": true
   },
   "outputs": [],
   "source": [
    "print(f\"                        POLICIES (SOFTMAX)                                       task 3          \")\n",
    "print(f\" Layer    task1              task2            task3 softmax         softmax         argmax         softmax         argmax   \")\n",
    "print(f\" -----    -------------     -------------     -------------   ------   \")\n",
    "for idx, (l1,l2,l3, h1,h2,h3) in enumerate(zip(policy_softmaxs[0], policy_softmaxs[1], policy_softmaxs[2],hard_policies[0], hard_policies[1], hard_policies[2]),1):\n",
    "    print(f\"   {idx}      {l1[0]:.4f} {l1[1]:.4f}     {l2[0]:.4f} {l2[1]:.4f}     {l3[0]:.4f} {l3[1]:.4f}    {h3}\")\n",
    "    \n",
    "print(f\"\\n\\n where [p1  p2]:  p1: layer is selected    p2: layer is not selected\")"
   ]
  },
  {
   "cell_type": "code",
   "execution_count": null,
   "id": "8bbeacb4",
   "metadata": {
    "ExecuteTime": {
     "end_time": "2022-02-08T22:04:50.757406Z",
     "start_time": "2022-02-08T22:04:50.731736Z"
    },
    "hidden": true
   },
   "outputs": [],
   "source": [
    "# print(policy_softmaxs[2], np.argmax(1-policy_softmaxs[2], axis = -1))\n",
    "print(policy_softmaxs, np.argmax(policy_softmaxs, axis = -1))"
   ]
  },
  {
   "cell_type": "markdown",
   "id": "c4be0240",
   "metadata": {
    "heading_collapsed": true,
    "hidden": true
   },
   "source": [
    "#### `get_current_logits()` : Calls test_sample_policy of network using ARGMAX of logits"
   ]
  },
  {
   "cell_type": "code",
   "execution_count": null,
   "id": "cfdb7240",
   "metadata": {
    "ExecuteTime": {
     "end_time": "2022-02-08T21:19:06.155425Z",
     "start_time": "2022-02-08T21:19:06.118640Z"
    },
    "hidden": true,
    "scrolled": true
   },
   "outputs": [],
   "source": [
    "logits  = (environ.get_current_logits())\n",
    "for i in logits:\n",
    "    print(i ,'\\n')"
   ]
  },
  {
   "cell_type": "markdown",
   "id": "13e84662",
   "metadata": {
    "heading_collapsed": true,
    "hidden": true
   },
   "source": [
    "#### `get_current_policy()` : Calls test_sample_policy of network using ARGMAX of logits"
   ]
  },
  {
   "cell_type": "code",
   "execution_count": null,
   "id": "548cfa24",
   "metadata": {
    "ExecuteTime": {
     "end_time": "2022-02-08T20:40:06.543376Z",
     "start_time": "2022-02-08T20:40:06.230711Z"
    },
    "hidden": true,
    "scrolled": true
   },
   "outputs": [],
   "source": [
    "pols  = (environ.get_current_policy())\n",
    "\n",
    "for i in pols:\n",
    "    print(i ,'\\n')"
   ]
  },
  {
   "cell_type": "code",
   "execution_count": null,
   "id": "77f556a8",
   "metadata": {
    "ExecuteTime": {
     "end_time": "2022-01-27T18:27:33.593255Z",
     "start_time": "2022-01-27T18:27:33.553141Z"
    },
    "hidden": true
   },
   "outputs": [],
   "source": [
    " "
   ]
  },
  {
   "cell_type": "markdown",
   "id": "a792710e",
   "metadata": {
    "hidden": true
   },
   "source": [
    "#### `gumbel_softmax()`  "
   ]
  },
  {
   "cell_type": "code",
   "execution_count": null,
   "id": "7265490e",
   "metadata": {
    "ExecuteTime": {
     "end_time": "2022-02-08T21:28:17.107529Z",
     "start_time": "2022-02-08T21:28:17.084910Z"
    },
    "hidden": true
   },
   "outputs": [],
   "source": [
    "np.set_printoptions(precision=8,edgeitems=3, infstr='inf', linewidth=150, nanstr='nan', floatmode = 'maxprec_equal')\n",
    "torch.set_printoptions(precision=8,linewidth=132)"
   ]
  },
  {
   "cell_type": "code",
   "execution_count": null,
   "id": "3dcb0087",
   "metadata": {
    "ExecuteTime": {
     "end_time": "2022-02-08T21:35:11.617269Z",
     "start_time": "2022-02-08T21:35:11.569599Z"
    },
    "hidden": true
   },
   "outputs": [],
   "source": [
    "print(environ.temp)\n",
    "# tau = environ.temp\n",
    "tau = 1\n",
    "for i in range(3): \n",
    "    logits_tensor = torch.tensor(logits[0])\n",
    "    # Sample soft categorical using reparametrization trick:\n",
    "    gumbel_soft = F.gumbel_softmax(logits_tensor, tau=tau, hard=False).cpu().numpy() \n",
    "\n",
    "    # Sample hard categorical using \"Straight-through\" trick:\n",
    "    gumbel_hard  = F.gumbel_softmax(logits_tensor, tau=tau, hard=True).cpu().numpy()\n",
    "    \n",
    "    for l, gs, gh in zip(lgts, gumbel_soft, gumbel_hard):\n",
    "        print(f\"   {l}   \\t {gs}            \\t {gh}\")\n",
    "#     print(lgts)\n",
    "#     print(gumbel_soft)\n",
    "#     print(gumbel_hard)\n",
    "    print()"
   ]
  },
  {
   "cell_type": "code",
   "execution_count": null,
   "id": "f3d5ef7f",
   "metadata": {
    "hidden": true
   },
   "outputs": [],
   "source": []
  },
  {
   "cell_type": "code",
   "execution_count": null,
   "id": "4b0e0e84",
   "metadata": {
    "ExecuteTime": {
     "end_time": "2022-02-08T21:21:35.524957Z",
     "start_time": "2022-02-08T21:21:35.488812Z"
    },
    "hidden": true
   },
   "outputs": [],
   "source": [
    "for lgts in logits:\n",
    "    logits_tensor = torch.tensor(lgts)\n",
    "    print(lgts)\n",
    "    # Sample soft categorical using reparametrization trick:\n",
    "    gumbel_soft = F.gumbel_softmax(logits_tensor, tau=1, hard=False)\n",
    "    print(gumbel_soft)\n",
    "\n",
    "    # Sample hard categorical using \"Straight-through\" trick:\n",
    "    gumbel_hard  = F.gumbel_softmax(logits_tensor, tau=1, hard=True)\n",
    "    print(gumbel_hard)\n",
    "    print()"
   ]
  },
  {
   "cell_type": "code",
   "execution_count": null,
   "id": "fe34a06a",
   "metadata": {
    "ExecuteTime": {
     "end_time": "2022-02-03T20:49:37.643349Z",
     "start_time": "2022-02-03T20:49:37.580786Z"
    },
    "hidden": true
   },
   "outputs": [],
   "source": [
    "smax = scipy.special.softmax(logs, axis =1)\n",
    "# smax = np.array( \n",
    "# [[0.46973792, 0.530262  ],\n",
    "#  [0.45025694, 0.549743  ],\n",
    "#  [0.4443086 , 0.5556915 ],\n",
    "#  [0.4138397 , 0.58616036],\n",
    "#  [0.4140113 , 0.5859887 ],\n",
    "#  [0.42114905, 0.57885087]])\n",
    "\n",
    "print(smax.shape)\n",
    "print(smax)\n",
    "print(smax[0])\n",
    "print(smax[0].sum())\n",
    "print(np.random.choice((1,0), p =smax[0]))"
   ]
  },
  {
   "cell_type": "code",
   "execution_count": null,
   "id": "7e7de25c",
   "metadata": {
    "ExecuteTime": {
     "end_time": "2022-02-08T21:15:19.893888Z",
     "start_time": "2022-02-08T21:15:19.870899Z"
    },
    "hidden": true
   },
   "outputs": [],
   "source": [
    "logs = np.array(\n",
    "[[0.33064184, 0.42053092],\n",
    " [0.3532089 , 0.52056104],\n",
    " [0.3888512 , 0.5680909 ],\n",
    " [0.42039296, 0.694217  ],\n",
    " [0.4519742 , 0.73311865],\n",
    " [0.48401102, 0.7522658 ]],\n",
    ")"
   ]
  }
 ],
 "metadata": {
  "git": {
   "suppress_outputs": true
  },
  "kernelspec": {
   "display_name": "Python [conda env:pyt-gpu]",
   "language": "python",
   "name": "conda-env-pyt-gpu-py"
  },
  "language_info": {
   "codemirror_mode": {
    "name": "ipython",
    "version": 3
   },
   "file_extension": ".py",
   "mimetype": "text/x-python",
   "name": "python",
   "nbconvert_exporter": "python",
   "pygments_lexer": "ipython3",
   "version": "3.9.5"
  },
  "toc": {
   "base_numbering": 1,
   "nav_menu": {},
   "number_sections": true,
   "sideBar": true,
   "skip_h1_title": false,
   "title_cell": "Table of Contents",
   "title_sidebar": "Contents",
   "toc_cell": false,
   "toc_position": {
    "height": "calc(100% - 180px)",
    "left": "10px",
    "top": "150px",
    "width": "399px"
   },
   "toc_section_display": true,
   "toc_window_display": false
  }
 },
 "nbformat": 4,
 "nbformat_minor": 5
}
