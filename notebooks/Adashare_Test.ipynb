{
 "cells": [
  {
   "cell_type": "markdown",
   "id": "b23a61ee",
   "metadata": {},
   "source": [
    "### Initialization"
   ]
  },
  {
   "cell_type": "code",
   "execution_count": 22,
   "id": "7206c311",
   "metadata": {
    "ExecuteTime": {
     "end_time": "2022-03-03T03:25:20.406309Z",
     "start_time": "2022-03-03T03:25:20.367256Z"
    }
   },
   "outputs": [
    {
     "name": "stdout",
     "output_type": "stream",
     "text": [
      "The autoreload extension is already loaded. To reload it, use:\n",
      "  %reload_ext autoreload\n"
     ]
    }
   ],
   "source": [
    "%load_ext autoreload\n",
    "%autoreload 2\n",
    "\n",
    "import sys\n",
    "import os\n",
    "import time\n",
    "import pprint\n",
    "from copy import deepcopy\n",
    "if './src' not in sys.path:\n",
    "    sys.path.insert(0, './src')\n",
    "# print(sys.path)\n",
    "\n",
    "import wandb\n",
    "import numpy as np\n",
    "import torch\n",
    "from torch.utils.data import DataLoader\n",
    "from sklearn.metrics import confusion_matrix\n",
    "from tqdm import tqdm, trange\n",
    "\n",
    "from envs.sparsechem_env_dev import SparseChemEnv_Dev\n",
    "\n",
    "from utils.sparsechem_utils import load_sparse, load_task_weights, class_fold_counts, fold_and_transform_inputs, print_metrics_cr\n",
    "from dataloaders.chembl_dataloader_dev import ClassRegrSparseDataset_v3, ClassRegrSparseDataset, InfiniteDataLoader\n",
    "from utils.util import ( makedir, print_separator, create_path, print_yaml, print_yaml2, print_loss, should, \n",
    "                         fix_random_seed, read_yaml, timestring, print_heading, print_dbg, \n",
    "                         print_underline, write_config_report, display_config, get_command_line_args, is_notebook) \n",
    "### Read Configuration File### Initialization\n",
    "pp = pprint.PrettyPrinter(indent=4)\n",
    "os.environ[\"WANDB_NOTEBOOK_NAME\"] = \"Adashare_Test.ipynb\""
   ]
  },
  {
   "cell_type": "code",
   "execution_count": 29,
   "id": "eb5cd8ea",
   "metadata": {
    "ExecuteTime": {
     "end_time": "2022-03-03T03:26:39.275334Z",
     "start_time": "2022-03-03T03:26:39.229789Z"
    }
   },
   "outputs": [
    {
     "name": "stdout",
     "output_type": "stream",
     "text": [
      "\n",
      "  command line parms : \n",
      "------------------------\n",
      " config...................  yamls/chembl_3task_test.yaml\n",
      " exp_instance.............  0225_1530\n",
      " folder_sfx...............  test_0\n",
      " exp_desc.................  Test phase of 00225_1530 run - 0\n",
      " exp_ids..................  [1]\n",
      " batch_size...............  128\n",
      " backbone_lr..............  None\n",
      " task_lr..................  None\n",
      " decay_lr_rate............  None\n",
      " decay_lr_freq............  None\n",
      " gpus.....................  [0]\n",
      " cpu......................  False\n"
     ]
    }
   ],
   "source": [
    "TEST_FROM_PATH  = '../experiments/AdaSparseChem/50x6_0225_1530_Retrain_0_plr0.01_sp0.0001_sh0.01'\n",
    "TEST_MODEL_CKPT = 'best_retrain'\n",
    " \n",
    "\n",
    "input_args = \" --config yamls/chembl_3task_test.yaml \" \\\n",
    "             \" --exp_instance  0225_1530\" \\\n",
    "             \" --folder_sfx    test_0\" \\\n",
    "             \" --exp_desc Test phase of 00225_1530 run - 0\" \\\n",
    "             \" --exp_ids 1 \"\\\n",
    "             \" --batch_size 128\".split()\n",
    "\n",
    "### Read Configuration File\n",
    "# get command line arguments\n",
    "args = get_command_line_args(input_args)\n",
    "\n",
    "    \n",
    "print_underline(' command line parms : ', True)\n",
    "for key, val in vars(args).items():\n",
    "    print(f\" {key:.<25s}  {val}\")"
   ]
  },
  {
   "cell_type": "code",
   "execution_count": 30,
   "id": "2388b33e",
   "metadata": {
    "ExecuteTime": {
     "end_time": "2022-03-03T03:26:40.137538Z",
     "start_time": "2022-03-03T03:26:40.067318Z"
    }
   },
   "outputs": [
    {
     "name": "stdout",
     "output_type": "stream",
     "text": [
      "##################################################\n",
      "################### READ YAML ####################\n",
      "##################################################\n",
      " Create  log_dir  folder:  ../experiments/AdaSparseChem/50x6_0225_1530_test_0\n",
      " Create  result_dir  folder:  ../experiments/AdaSparseChem/50x6_0225_1530_test_0\n",
      " Create  checkpoint_dir  folder:  ../experiments/AdaSparseChem/50x6_0225_1530_test_0\n",
      "\n",
      "------------------------------------------------------------------------------------------------------------------------\n",
      " experiment name       : SparseChem \n",
      " experiment instance   : 0225_1530 \n",
      " folder_name           : 50x6_0225_1530_test_0 \n",
      " folder_sfx            : test_0 \n",
      " experiment description: Test phase of 00225_1530 run - 0\n",
      " log folder            : ../experiments/AdaSparseChem/50x6_0225_1530_test_0\n",
      " checkpoint folder     : ../experiments/AdaSparseChem/50x6_0225_1530_test_0\n",
      "------------------------------------------------------------------------------------------------------------------------ \n",
      "\n",
      " Gpu ids: [0]     exp_ids: [1]         seed: [88, 45, 50, 100, 44, 48, 2048, 2222, 9999]\n",
      "            exp_name : SparseChem\n",
      "              exp_id : None\n",
      "        exp_instance : 0225_1530\n",
      "     exp_description : Test phase of 00225_1530 run - 0\n",
      "                seed : [88, 45, 50, 100, 44, 48, 2048, 2222, 9999]\n",
      "           seed_orig : [48]\n",
      "            backbone : SparseChem\n",
      "               tasks : ['class', 'class', 'class']\n",
      "     tasks_num_class : [5, 5, 5]\n",
      "             lambdas : [1, 1, 1]\n",
      "        policy_model : task-specific\n",
      "     input_size_freq : None\n",
      "          input_size : 32000\n",
      "        hidden_sizes : [50, 50, 50, 50, 50, 50]\n",
      "    tail_hidden_size : 50\n",
      " first_non_linearity : relu\n",
      "middle_non_linearity : relu\n",
      "  last_non_linearity : relu\n",
      "      middle_dropout : 0.3\n",
      "        last_dropout : 0.3\n",
      "              policy : True\n",
      "           is_sparse : True\n",
      "          is_sharing : True\n",
      "diff_sparsity_weights : False\n",
      "          skip_layer : 0\n",
      "       is_curriculum : True\n",
      "    curriculum_speed : 3\n",
      "              fix_BN : False\n",
      "     init_neg_logits : None\n",
      "     retrain_from_pl : False\n",
      "\n",
      "paths\n",
      "-----\n",
      "             log_dir : ../experiments/AdaSparseChem/50x6_0225_1530_test_0\n",
      "          result_dir : ../experiments/AdaSparseChem/50x6_0225_1530_test_0\n",
      "      checkpoint_dir : ../experiments/AdaSparseChem/50x6_0225_1530_test_0\n",
      "\n",
      "dataload\n",
      "--------\n",
      "             dataset : Chembl_23_mini\n",
      "            dataroot : /home/kbardool/kusanagi/MLDatasets/chembl_23mini_synthetic\n",
      "                   x : chembl_23mini_x.npy\n",
      "      x_split_ratios : [0.725, 0.225, 0.05]\n",
      "             folding : chembl_23mini_folds.npy\n",
      "         fold_inputs : 32000\n",
      "     input_transform : None\n",
      "             y_tasks : ['chembl_23mini_adashare_y1_bin_sparse.npy', 'chembl_23mini_adashare_y2_bin_sparse.npy', 'chembl_23mini_adashare_y3_bin_sparse.npy']\n",
      "            y_censor : None\n",
      "       weights_class : None\n",
      "              crop_h : 321\n",
      "              crop_w : 321\n",
      "   min_samples_class : 5\n",
      "             fold_va : 0\n",
      "             fold_te : None\n",
      "\n",
      "train\n",
      "-----\n",
      "         policy_iter : best\n",
      "         init_method : equal\n",
      "\n",
      "SC\n",
      "--\n",
      "      normalize_loss : None\n",
      "\n",
      "test\n",
      "----\n",
      "          which_iter : best\n",
      "                 cpu : False\n",
      "          folder_sfx : test_0\n",
      "          exp_folder : 50x6_0225_1530_test_0\n"
     ]
    }
   ],
   "source": [
    "# ********************************************************************\n",
    "# ****************** create folders and print options ****************\n",
    "# ********************************************************************\n",
    "print_separator('READ YAML')\n",
    "\n",
    "opt, gpu_ids, exp_ids = read_yaml(args)\n",
    "\n",
    "exp_id = exp_ids[0]\n",
    "fix_random_seed(opt[\"seed\"][exp_id])\n",
    "    \n",
    "create_path(opt)    \n",
    "print()\n",
    "print_heading(f\" experiment name       : {opt['exp_name']} \\n\"\n",
    "              f\" experiment instance   : {opt['exp_instance']} \\n\"\n",
    "              f\" folder_name           : {opt['exp_folder']} \\n\"\n",
    "              f\" folder_sfx            : {opt['folder_sfx']} \\n\"\n",
    "              f\" experiment description: {opt['exp_description']}\\n\"\n",
    "              f\" log folder            : {opt['paths']['log_dir']}\\n\"\n",
    "              f\" checkpoint folder     : {opt['paths']['checkpoint_dir']}\", verbose = True)\n",
    "print(f\" Gpu ids: {gpu_ids}     exp_ids: {exp_ids}         seed: {opt['seed']}\")        \n",
    "\n",
    "write_config_report(opt, filename = 'run_params.txt')    \n",
    "display_config(opt)        "
   ]
  },
  {
   "cell_type": "code",
   "execution_count": 31,
   "id": "051addda",
   "metadata": {
    "ExecuteTime": {
     "end_time": "2022-03-03T03:26:41.777153Z",
     "start_time": "2022-03-03T03:26:41.461855Z"
    }
   },
   "outputs": [
    {
     "name": "stdout",
     "output_type": "stream",
     "text": [
      "##################################################\n",
      "############### CREATE DATALOADERS ###############\n",
      "##################################################\n",
      "[0.725, 0.225, 0.05]\n",
      "size of test set  :  920\n",
      "size of test set:  920\n",
      "##################################################\n",
      "############# CREATE THE ENVIRONMENT #############\n",
      "##################################################\n",
      "-------------------------------------------------------\n",
      "* SparseChemEnv_Dev  Initializtion - verbose: False\n",
      "------------------------------------------------------- \n",
      "\n",
      "------------------------------------------------------------\n",
      "SparseChemEnv_Dev.super() init()  Start - verbose: False\n",
      "------------------------------------------------------------ \n",
      "\n",
      " log_dir        :  ../experiments/AdaSparseChem/50x6_0225_1530_test_0 \n",
      " checkpoint_dir :  ../experiments/AdaSparseChem/50x6_0225_1530_test_0 \n",
      " exp_name       :  SparseChem \n",
      " tasks_num_class:  [5, 5, 5] \n",
      " device         :  cuda:0 \n",
      " device id      :  0 \n",
      " dataset        :  Chembl_23_mini \n",
      " tasks          :  ['class', 'class', 'class'] \n",
      "\n",
      "--------------------------------------------------\n",
      "SparseChemEnv_Dev.super() init()  end\n",
      "-------------------------------------------------- \n",
      "\n",
      " is_train       :  False \n",
      " init_neg_logits:  -10 \n",
      " init temp      :  5.0 \n",
      " decay temp     :  0.965 \n",
      " input_size     :  32000 \n",
      " normalize loss :  None \n",
      " num_tasks      :  3 \n",
      " policys        :  [None, None, None]\n",
      "--------------------------------------------------------\n",
      "* SparseChemEnv_Dev environment successfully created\n",
      "-------------------------------------------------------- \n",
      "\n"
     ]
    }
   ],
   "source": [
    "# ********************************************************************\n",
    "# ******************** Prepare the dataloaders ***********************\n",
    "# ********************************************************************\n",
    "# load the dataloader\n",
    "print_separator('CREATE DATALOADERS')\n",
    "print(opt['dataload']['x_split_ratios'])\n",
    "\n",
    "if opt['dataload']['dataset'] == 'Chembl_23_mini':\n",
    "    testset  = ClassRegrSparseDataset_v3(opt, split_ratios = opt['dataload']['x_split_ratios'], ratio_index = 2, verbose = False)\n",
    "    print('size of test set  : ', len(testset))\n",
    "else:\n",
    "    raise NotImplementedError('Dataset %s is not implemented' % opt['dataload']['dataset'])\n",
    "\n",
    "print('size of test set: ', len(testset))\n",
    "\n",
    "# test_loader = DataLoader(testset, batch_size=opt['test']['batch_size'], drop_last=True, num_workers=2, shuffle=True)\n",
    "#     val_loader = DataLoader(valset, batch_size=1, drop_last=True, num_workers=2, shuffle=False)\n",
    "\n",
    "# test_loader = DataLoader(testset, batch_size=1, drop_last=True, num_workers=2, shuffle=True)\n",
    "test_loader   = InfiniteDataLoader(testset, batch_size=1, num_workers = 1, pin_memory=True, collate_fn=testset.collate  , shuffle=False)\n",
    "\n",
    "\n",
    "# ********************************************************************\n",
    "# ********************Create the environment *************************\n",
    "# ********************************************************************\n",
    "# create the model and the pretrain model\n",
    "print_separator('CREATE THE ENVIRONMENT')\n",
    "environ = SparseChemEnv_Dev(log_dir          = opt['paths']['log_dir'], \n",
    "                            checkpoint_dir   = opt['paths']['checkpoint_dir'], \n",
    "                            exp_name         = opt['exp_name'],\n",
    "                            tasks_num_class  = opt['tasks_num_class'], \n",
    "#                                 init_neg_logits  = opt['train']['init_neg_logits'], \n",
    "                            device           = gpu_ids[0],\n",
    "#                                 init_temperature = opt['train']['init_temp'], \n",
    "#                                 temperature_decay= opt['train']['decay_temp'], \n",
    "                            is_train         = False,\n",
    "                            opt              = opt, \n",
    "                            verbose          = False)\n",
    "\n",
    "cfg = environ.print_configuration()\n",
    "# print(cfg)\n",
    "write_config_report(opt, cfg, filename = 'run_params.txt', mode = 'a')    \n",
    "\n",
    "    \n",
    "    # create the model and the pretrain model\n",
    "#     print_separator('CREATE THE ENVIRONMENT')\n",
    "#     environ = BlockDropEnv(opt['paths']['log_dir'], \n",
    "#                            opt['paths']['checkpoint_dir'], \n",
    "#                            opt['exp_name'],\n",
    "#                            opt['tasks_num_class'],\n",
    "#                            device=gpu_ids[0], \n",
    "#                            is_train=False, \n",
    "#                            opt=opt)"
   ]
  },
  {
   "cell_type": "code",
   "execution_count": 32,
   "id": "4ae05153",
   "metadata": {
    "ExecuteTime": {
     "end_time": "2022-03-03T03:26:51.736737Z",
     "start_time": "2022-03-03T03:26:51.591420Z"
    }
   },
   "outputs": [
    {
     "name": "stdout",
     "output_type": "stream",
     "text": [
      "\n",
      " \n",
      " 1. load checkpoint : ../experiments/AdaSparseChem/50x6_0225_1530_Retrain_0_plr0.01_sp0.0001_sh0.01 - best_retrain\n",
      "---------------------------------------------------------------------------------------------------------------------\n",
      "=> loading snapshot from ../experiments/AdaSparseChem/50x6_0225_1530_Retrain_0_plr0.01_sp0.0001_sh0.01/best_retrain_model.pth.tar\n",
      "   Loading to CPU\n",
      "  networks -  network:  mtl-net\n",
      "  load snapshot - network:  mtl-net\n",
      "    network mtl-net - item task1_logits\n",
      "    network mtl-net - item task2_logits\n",
      "    network mtl-net - item task3_logits\n",
      "    network mtl-net - item backbone.Input_linear.weight\n",
      "    network mtl-net - item backbone.Input_linear.bias\n",
      "    network mtl-net - item backbone.blocks.0.0.linear.weight\n",
      "    network mtl-net - item backbone.blocks.0.0.linear.bias\n",
      "    network mtl-net - item backbone.blocks.1.0.linear.weight\n",
      "    network mtl-net - item backbone.blocks.1.0.linear.bias\n",
      "    network mtl-net - item backbone.blocks.2.0.linear.weight\n",
      "    network mtl-net - item backbone.blocks.2.0.linear.bias\n",
      "    network mtl-net - item backbone.blocks.3.0.linear.weight\n",
      "    network mtl-net - item backbone.blocks.3.0.linear.bias\n",
      "    network mtl-net - item backbone.blocks.4.0.linear.weight\n",
      "    network mtl-net - item backbone.blocks.4.0.linear.bias\n",
      "    network mtl-net - item backbone.blocks.5.0.linear.weight\n",
      "    network mtl-net - item backbone.blocks.5.0.linear.bias\n",
      "    network mtl-net - item task1_fc1_c0.linear.weight\n",
      "    network mtl-net - item task1_fc1_c0.linear.bias\n",
      "    network mtl-net - item task2_fc1_c0.linear.weight\n",
      "    network mtl-net - item task2_fc1_c0.linear.bias\n",
      "    network mtl-net - item task3_fc1_c0.linear.weight\n",
      "    network mtl-net - item task3_fc1_c0.linear.bias\n",
      "snapshot['iter']:  36830    snapshot['epoch']: unknown\n",
      "\n",
      " Evaluating the snapshot saved at 36830 iter\n",
      "---------------------------------------------\n",
      "\n",
      " \n",
      " A. load existing POLICY: Iter_best_expid_01_seed_0045\n",
      "---------------------------------------------------------\n",
      "Iter_best_expid_01_seed_0045 not found \n"
     ]
    },
    {
     "ename": "AttributeError",
     "evalue": "'SparseChemEnv_Dev' object has no attribute 'policy1'",
     "output_type": "error",
     "traceback": [
      "\u001b[0;31m---------------------------------------------------------------------------\u001b[0m",
      "\u001b[0;31mAttributeError\u001b[0m                            Traceback (most recent call last)",
      "\u001b[0;32m/tmp/ipykernel_2077/858119031.py\u001b[0m in \u001b[0;36m<module>\u001b[0;34m\u001b[0m\n\u001b[1;32m     18\u001b[0m     \u001b[0mprint\u001b[0m\u001b[0;34m(\u001b[0m\u001b[0;34mf\"{policy_label} not found \"\u001b[0m\u001b[0;34m)\u001b[0m\u001b[0;34m\u001b[0m\u001b[0;34m\u001b[0m\u001b[0m\n\u001b[1;32m     19\u001b[0m \u001b[0;34m\u001b[0m\u001b[0m\n\u001b[0;32m---> 20\u001b[0;31m \u001b[0mpolicys\u001b[0m \u001b[0;34m=\u001b[0m \u001b[0menviron\u001b[0m\u001b[0;34m.\u001b[0m\u001b[0mget_current_policy\u001b[0m\u001b[0;34m(\u001b[0m\u001b[0;34m)\u001b[0m\u001b[0;34m\u001b[0m\u001b[0;34m\u001b[0m\u001b[0m\n\u001b[0m\u001b[1;32m     21\u001b[0m \u001b[0moverall_policy\u001b[0m \u001b[0;34m=\u001b[0m \u001b[0mnp\u001b[0m\u001b[0;34m.\u001b[0m\u001b[0mconcatenate\u001b[0m\u001b[0;34m(\u001b[0m\u001b[0mpolicys\u001b[0m\u001b[0;34m,\u001b[0m \u001b[0maxis\u001b[0m\u001b[0;34m=\u001b[0m\u001b[0;34m-\u001b[0m\u001b[0;36m1\u001b[0m\u001b[0;34m)\u001b[0m\u001b[0;34m\u001b[0m\u001b[0;34m\u001b[0m\u001b[0m\n\u001b[1;32m     22\u001b[0m \u001b[0mprint_underline\u001b[0m\u001b[0;34m(\u001b[0m\u001b[0;34m'loaded policy '\u001b[0m\u001b[0;34m,\u001b[0m \u001b[0mverbose\u001b[0m \u001b[0;34m=\u001b[0m \u001b[0;32mTrue\u001b[0m\u001b[0;34m)\u001b[0m\u001b[0;34m\u001b[0m\u001b[0;34m\u001b[0m\u001b[0m\n",
      "\u001b[0;32m~/kusanagi/AdaSparseChem/./src/envs/sparsechem_env_dev.py\u001b[0m in \u001b[0;36mget_current_policy\u001b[0;34m(self)\u001b[0m\n\u001b[1;32m   1200\u001b[0m         \u001b[0mpolicys\u001b[0m \u001b[0;34m=\u001b[0m \u001b[0;34m[\u001b[0m\u001b[0;34m]\u001b[0m\u001b[0;34m\u001b[0m\u001b[0;34m\u001b[0m\u001b[0m\n\u001b[1;32m   1201\u001b[0m         \u001b[0;32mfor\u001b[0m \u001b[0mt_id\u001b[0m \u001b[0;32min\u001b[0m \u001b[0mrange\u001b[0m\u001b[0;34m(\u001b[0m\u001b[0mself\u001b[0m\u001b[0;34m.\u001b[0m\u001b[0mnum_tasks\u001b[0m\u001b[0;34m)\u001b[0m\u001b[0;34m:\u001b[0m\u001b[0;34m\u001b[0m\u001b[0;34m\u001b[0m\u001b[0m\n\u001b[0;32m-> 1202\u001b[0;31m             \u001b[0mpolicy\u001b[0m \u001b[0;34m=\u001b[0m \u001b[0mgetattr\u001b[0m\u001b[0;34m(\u001b[0m\u001b[0mself\u001b[0m\u001b[0;34m,\u001b[0m \u001b[0;34m'policy%d'\u001b[0m \u001b[0;34m%\u001b[0m \u001b[0;34m(\u001b[0m\u001b[0mt_id\u001b[0m \u001b[0;34m+\u001b[0m \u001b[0;36m1\u001b[0m\u001b[0;34m)\u001b[0m\u001b[0;34m)\u001b[0m\u001b[0;34m\u001b[0m\u001b[0;34m\u001b[0m\u001b[0m\n\u001b[0m\u001b[1;32m   1203\u001b[0m             \u001b[0mpolicy\u001b[0m \u001b[0;34m=\u001b[0m \u001b[0mpolicy\u001b[0m\u001b[0;34m.\u001b[0m\u001b[0mdetach\u001b[0m\u001b[0;34m(\u001b[0m\u001b[0;34m)\u001b[0m\u001b[0;34m.\u001b[0m\u001b[0mcpu\u001b[0m\u001b[0;34m(\u001b[0m\u001b[0;34m)\u001b[0m\u001b[0;34m.\u001b[0m\u001b[0mnumpy\u001b[0m\u001b[0;34m(\u001b[0m\u001b[0;34m)\u001b[0m\u001b[0;34m\u001b[0m\u001b[0;34m\u001b[0m\u001b[0m\n\u001b[1;32m   1204\u001b[0m             \u001b[0mpolicys\u001b[0m\u001b[0;34m.\u001b[0m\u001b[0mappend\u001b[0m\u001b[0;34m(\u001b[0m\u001b[0mpolicy\u001b[0m\u001b[0;34m)\u001b[0m\u001b[0;34m\u001b[0m\u001b[0;34m\u001b[0m\u001b[0m\n",
      "\u001b[0;31mAttributeError\u001b[0m: 'SparseChemEnv_Dev' object has no attribute 'policy1'"
     ]
    }
   ],
   "source": [
    "##\n",
    "## Load Model and Policy snapshots\n",
    "##\n",
    "# current_iter = environ.load_checkpoint('retrain%03d_policyIter%s_best' % (exp_ids[0], opt['train']['policy_iter']))\n",
    "\n",
    "print_underline(f\"\\n 1. load checkpoint : {TEST_FROM_PATH} - {TEST_MODEL_CKPT}\", verbose = True)\n",
    "current_iter = environ.load_checkpoint(TEST_MODEL_CKPT, path=TEST_FROM_PATH, verbose = True)\n",
    "\n",
    "print_underline('Evaluating the snapshot saved at %d iter' % current_iter, verbose = True)\n",
    "\n",
    "# policy_label = 'Iter%s_rs%04d' % (opt['train']['policy_iter'], opt['seed'][exp_ids[0]])\n",
    "policy_label = 'Iter_%s_expid_%02d_seed_%04d' % (opt['train']['policy_iter'], exp_id, opt['seed'][exp_id])\n",
    "print_underline(f\"\\n A. load existing POLICY: {policy_label}\", verbose = True)\n",
    "\n",
    "if environ.check_exist_policy(policy_label,path = TEST_FROM_PATH):\n",
    "    environ.load_policy(policy_label, path = TEST_FROM_PATH, verbose = True)\n",
    "else:\n",
    "    print(f\"{policy_label} not found \")\n",
    "\n",
    "policys = environ.get_current_policy()\n",
    "overall_policy = np.concatenate(policys, axis=-1)\n",
    "print_underline('loaded policy ', verbose = True)\n",
    "print(overall_policy)"
   ]
  },
  {
   "cell_type": "code",
   "execution_count": 8,
   "id": "019585aa",
   "metadata": {
    "ExecuteTime": {
     "end_time": "2022-03-02T23:52:32.350574Z",
     "start_time": "2022-03-02T23:50:01.099712Z"
    }
   },
   "outputs": [
    {
     "name": "stdout",
     "output_type": "stream",
     "text": [
      "eval iters set to :  920\n"
     ]
    },
    {
     "name": "stderr",
     "output_type": "stream",
     "text": [
      "                                                                                                                                                            "
     ]
    },
    {
     "name": "stdout",
     "output_type": "stream",
     "text": [
      "None\n"
     ]
    },
    {
     "name": "stderr",
     "output_type": "stream",
     "text": [
      "\r"
     ]
    }
   ],
   "source": [
    "if torch.cuda.is_available():\n",
    "    environ.cuda(gpu_ids)\n",
    "\n",
    "    # ********************************************************************\n",
    "    # ******************************  Test  ******************************\n",
    "    # ********************************************************************\n",
    "#     num_seg_class = opt['tasks_num_class'][opt['tasks'].index('seg')] if 'seg' in opt['tasks'] else -1\n",
    "    environ.eval()\n",
    "    \n",
    "    \n",
    "#     val_metrics = eval_fix_policy(environ, val_loader, opt['tasks'], num_seg_cls=num_seg_class, eval_iter=-1)\n",
    "    val_metrics = environ.evaluate(test_loader, \n",
    "                                   is_policy=True,\n",
    "                                   policy_sampling_mode = 'fix_policy')\n",
    "#                                    hard_sampling=None,  ## hard_sampling=opt['train']['hard_sampling'],\n",
    "#                                    eval_iters = -1, \n",
    "#                                    progress = True, \n",
    "#                                    leave = False, \n",
    "#                                    verbose = False)    \n",
    "    print(val_metrics)"
   ]
  },
  {
   "cell_type": "code",
   "execution_count": 17,
   "id": "b9703129",
   "metadata": {
    "ExecuteTime": {
     "end_time": "2022-03-02T23:56:53.010530Z",
     "start_time": "2022-03-02T23:56:52.948667Z"
    }
   },
   "outputs": [
    {
     "name": "stdout",
     "output_type": "stream",
     "text": [
      "      roc_auc_score    auc_pr  avg_prec_score    f1_max  p_f1_max     kappa  \\\n",
      "task                                                                          \n",
      "0          0.809947  0.870241        0.870419  0.809683  0.234723  0.454949   \n",
      "1          0.702792  0.668633        0.669218  0.645374  0.201933  0.319945   \n",
      "2          0.790758  0.759362        0.760180  0.773430  0.032953  0.435676   \n",
      "3          0.790516  0.740017        0.740502  0.678700  0.482500  0.411142   \n",
      "4          0.700168  0.759219        0.759621  0.719298  0.000054  0.291268   \n",
      "\n",
      "      kappa_max  p_kappa_max   bceloss  \n",
      "task                                    \n",
      "0      0.472036     0.745512  0.776153  \n",
      "1      0.349626     0.645575  1.607327  \n",
      "2      0.490710     0.146744  1.025560  \n",
      "3      0.458359     0.818019  0.916853  \n",
      "4      0.330854     0.896638  1.467913  \n",
      "      roc_auc_score    auc_pr  avg_prec_score    f1_max  p_f1_max     kappa  \\\n",
      "task                                                                          \n",
      "0          0.770925  0.853607        0.853787  0.814872  0.167403  0.393060   \n",
      "1          0.808843  0.804886        0.805242  0.739356  0.516177  0.450856   \n",
      "2          0.782245  0.768615        0.769201  0.748527  0.172160  0.446186   \n",
      "3          0.780946  0.760152        0.760824  0.707373  0.114713  0.460210   \n",
      "4          0.872058  0.862533        0.862737  0.777302  0.142900  0.577004   \n",
      "\n",
      "      kappa_max  p_kappa_max   bceloss  \n",
      "task                                    \n",
      "0      0.430515     0.705141  1.027356  \n",
      "1      0.477075     0.843245  0.833418  \n",
      "2      0.457611     0.544157  0.976801  \n",
      "3      0.464405     0.514307  1.184837  \n",
      "4      0.594856     0.750179  0.735722  \n",
      "      roc_auc_score    auc_pr  avg_prec_score    f1_max  p_f1_max     kappa  \\\n",
      "task                                                                          \n",
      "0          0.839879  0.797614        0.798060  0.769527  0.115009  0.530321   \n",
      "1          0.739206  0.790114        0.790543  0.768178  0.037533  0.358766   \n",
      "2          0.815088  0.815198        0.815437  0.735263  0.236443  0.439317   \n",
      "3          0.776969  0.792596        0.793156  0.767559  0.130948  0.419725   \n",
      "4          0.715192  0.716736        0.717286  0.712007  0.007196  0.271767   \n",
      "\n",
      "      kappa_max  p_kappa_max   bceloss  \n",
      "task                                    \n",
      "0      0.541681     0.600133  0.784565  \n",
      "1      0.396078     0.091330  1.342083  \n",
      "2      0.471812     0.273693  0.919688  \n",
      "3      0.436612     0.554105  0.873690  \n",
      "4      0.308437     0.230116  1.250910  \n"
     ]
    }
   ],
   "source": [
    "print(environ.val_metrics['task1']['classification'])\n",
    "print(environ.val_metrics['task2']['classification'])\n",
    "print(environ.val_metrics['task3']['classification'])"
   ]
  },
  {
   "cell_type": "code",
   "execution_count": 18,
   "id": "831a87a9",
   "metadata": {
    "ExecuteTime": {
     "end_time": "2022-03-02T23:57:08.184290Z",
     "start_time": "2022-03-02T23:57:08.060255Z"
    }
   },
   "outputs": [
    {
     "name": "stdout",
     "output_type": "stream",
     "text": [
      "{   'aggregated': {   'auc_pr': 0.7839680874062291,\n",
      "                      'avg_prec_score': 0.7844142007773247,\n",
      "                      'bceloss': 1.0481916864713035,\n",
      "                      'f1_max': 0.7444299731015749,\n",
      "                      'kappa': 0.4173461494995934,\n",
      "                      'kappa_max': 0.4453778160823674,\n",
      "                      'logloss': 0.001139338805300659,\n",
      "                      'p_f1_max': 0.1728429940039253,\n",
      "                      'p_kappa_max': 0.5572595953941344,\n",
      "                      'roc_auc_score': 0.7797019318818047,\n",
      "                      'sc_loss': 0.017090082079509884},\n",
      "    'losses': {   'task1': 5.793805089180847,\n",
      "                  'task2': 4.7581341425005,\n",
      "                  'task3': 5.170936281467743,\n",
      "                  'total': 15.722875513149093},\n",
      "    'losses_mean': {   'task1': 1.1587610178361685,\n",
      "                       'task2': 0.9516268285000998,\n",
      "                       'task3': 1.0341872562935486,\n",
      "                       'total': 3.144575102629818},\n",
      "    'parms': {'gumbel_temp': 0.23133697843771778, 'train_layers': 0},\n",
      "    'sharing': {'total': 0.05962842330336571},\n",
      "    'sparsity': {   'task1': 0.6706137615701426,\n",
      "                    'task2': 0.604851366126019,\n",
      "                    'task3': 0.7153697138247282,\n",
      "                    'total': 1.9908376932144165},\n",
      "    'task1': {   'classification':       roc_auc_score    auc_pr  avg_prec_score    f1_max  p_f1_max     kappa  \\\n",
      "task                                                                          \n",
      "0          0.809947  0.870241        0.870419  0.809683  0.234723  0.454949   \n",
      "1          0.702792  0.668633        0.669218  0.645374  0.201933  0.319945   \n",
      "2          0.790758  0.759362        0.760180  0.773430  0.032953  0.435676   \n",
      "3          0.790516  0.740017        0.740502  0.678700  0.482500  0.411142   \n",
      "4          0.700168  0.759219        0.759621  0.719298  0.000054  0.291268   \n",
      "\n",
      "      kappa_max  p_kappa_max   bceloss  \n",
      "task                                    \n",
      "0      0.472036     0.745512  0.776153  \n",
      "1      0.349626     0.645575  1.607327  \n",
      "2      0.490710     0.146744  1.025560  \n",
      "3      0.458359     0.818019  0.916853  \n",
      "4      0.330854     0.896638  1.467913  ,\n",
      "                 'classification_agg': {   'auc_pr': 0.7594942816244834,\n",
      "                                           'avg_prec_score': 0.7599881043071657,\n",
      "                                           'bceloss': 1.1587610244750977,\n",
      "                                           'f1_max': 0.7252972503806633,\n",
      "                                           'kappa': 0.3825959219302103,\n",
      "                                           'kappa_max': 0.42031705943172193,\n",
      "                                           'logloss': 1.1587610178361694,\n",
      "                                           'p_f1_max': 0.19043253272975563,\n",
      "                                           'p_kappa_max': 0.6504974097013474,\n",
      "                                           'roc_auc_score': 0.7588358603273964,\n",
      "                                           'sc_loss': 5.793805089180847}},\n",
      "    'task2': {   'classification':       roc_auc_score    auc_pr  avg_prec_score    f1_max  p_f1_max     kappa  \\\n",
      "task                                                                          \n",
      "0          0.770925  0.853607        0.853787  0.814872  0.167403  0.393060   \n",
      "1          0.808843  0.804886        0.805242  0.739356  0.516177  0.450856   \n",
      "2          0.782245  0.768615        0.769201  0.748527  0.172160  0.446186   \n",
      "3          0.780946  0.760152        0.760824  0.707373  0.114713  0.460210   \n",
      "4          0.872058  0.862533        0.862737  0.777302  0.142900  0.577004   \n",
      "\n",
      "      kappa_max  p_kappa_max   bceloss  \n",
      "task                                    \n",
      "0      0.430515     0.705141  1.027356  \n",
      "1      0.477075     0.843245  0.833418  \n",
      "2      0.457611     0.544157  0.976801  \n",
      "3      0.464405     0.514307  1.184837  \n",
      "4      0.594856     0.750179  0.735722  ,\n",
      "                 'classification_agg': {   'auc_pr': 0.8099583743716137,\n",
      "                                           'avg_prec_score': 0.8103582395958632,\n",
      "                                           'bceloss': 0.9516267895698547,\n",
      "                                           'f1_max': 0.7574860184770491,\n",
      "                                           'kappa': 0.4654633542197265,\n",
      "                                           'kappa_max': 0.4848923527992579,\n",
      "                                           'logloss': 0.9516268285001,\n",
      "                                           'p_f1_max': 0.22267068773508072,\n",
      "                                           'p_kappa_max': 0.6714058160781861,\n",
      "                                           'roc_auc_score': 0.8030032032580486,\n",
      "                                           'sc_loss': 4.7581341425005}},\n",
      "    'task3': {   'classification':       roc_auc_score    auc_pr  avg_prec_score    f1_max  p_f1_max     kappa  \\\n",
      "task                                                                          \n",
      "0          0.839879  0.797614        0.798060  0.769527  0.115009  0.530321   \n",
      "1          0.739206  0.790114        0.790543  0.768178  0.037533  0.358766   \n",
      "2          0.815088  0.815198        0.815437  0.735263  0.236443  0.439317   \n",
      "3          0.776969  0.792596        0.793156  0.767559  0.130948  0.419725   \n",
      "4          0.715192  0.716736        0.717286  0.712007  0.007196  0.271767   \n",
      "\n",
      "      kappa_max  p_kappa_max   bceloss  \n",
      "task                                    \n",
      "0      0.541681     0.600133  0.784565  \n",
      "1      0.396078     0.091330  1.342083  \n",
      "2      0.471812     0.273693  0.919688  \n",
      "3      0.436612     0.554105  0.873690  \n",
      "4      0.308437     0.230116  1.250910  ,\n",
      "                 'classification_agg': {   'auc_pr': 0.7824516062225904,\n",
      "                                           'avg_prec_score': 0.7828962584289456,\n",
      "                                           'bceloss': 1.0341872453689576,\n",
      "                                           'f1_max': 0.7505066504470125,\n",
      "                                           'kappa': 0.40397917234884345,\n",
      "                                           'kappa_max': 0.43092403601612256,\n",
      "                                           'logloss': 1.0341872562935486,\n",
      "                                           'p_f1_max': 0.10542576154693963,\n",
      "                                           'p_kappa_max': 0.3498755604028702,\n",
      "                                           'roc_auc_score': 0.7772667320599693,\n",
      "                                           'sc_loss': 5.170936281467743}},\n",
      "    'total': {'total': 17.773341629666874, 'total_mean': 5.1950412191476}}\n"
     ]
    }
   ],
   "source": [
    "pp.pprint(environ.val_metrics)\n",
    "# pp.pprint(environ.val_metrics)\n",
    "# print(val_metrics)"
   ]
  },
  {
   "cell_type": "code",
   "execution_count": 20,
   "id": "23bfe929",
   "metadata": {
    "ExecuteTime": {
     "end_time": "2022-03-03T00:02:33.476946Z",
     "start_time": "2022-03-03T00:02:33.444088Z"
    }
   },
   "outputs": [
    {
     "name": "stdout",
     "output_type": "stream",
     "text": [
      " save_policy(): save metrics to ../experiments/AdaSparseChem/50x6_0225_1530_test_0/metrics_Iter_best_expid_00_seed_0088.pickle\n"
     ]
    }
   ],
   "source": [
    "environ.save_metrics(policy_label, verbose = True)"
   ]
  },
  {
   "cell_type": "code",
   "execution_count": null,
   "id": "b0f73d2b",
   "metadata": {},
   "outputs": [],
   "source": []
  },
  {
   "cell_type": "code",
   "execution_count": null,
   "id": "2a7dc0a8",
   "metadata": {},
   "outputs": [],
   "source": [
    "if __name__ == \"__main__\":\n",
    "    test()"
   ]
  },
  {
   "cell_type": "code",
   "execution_count": null,
   "id": "a273a6ab",
   "metadata": {},
   "outputs": [],
   "source": []
  },
  {
   "cell_type": "code",
   "execution_count": null,
   "id": "e01e9f0f",
   "metadata": {},
   "outputs": [],
   "source": []
  },
  {
   "cell_type": "markdown",
   "id": "f0d076f6",
   "metadata": {
    "heading_collapsed": true
   },
   "source": [
    "### Functions"
   ]
  },
  {
   "cell_type": "code",
   "execution_count": null,
   "id": "59a63119",
   "metadata": {
    "hidden": true
   },
   "outputs": [],
   "source": [
    "from utils.util import init_records, populate_records, populate_validation_metrics\n",
    "\n",
    "def eval_fix_policy(environ, dataloader, tasks, num_seg_cls=-1, eval_iter=10):\n",
    "    batch_size = []\n",
    "    records = {}\n",
    "    val_metrics = {}\n",
    "\n",
    "    records = init_records(tasks, num_seg_cls)\n",
    "    \n",
    "    with torch.no_grad():\n",
    "        for batch_idx, batch in enumerate(tqdm(dataloader)):\n",
    "            if eval_iter != -1:\n",
    "                if batch_idx > eval_iter:\n",
    "                    break\n",
    "            environ.set_inputs(batch)\n",
    "            \n",
    "            metrics = environ.val_fix_policy()\n",
    "            \n",
    "            populate_records(records, metrics, tasks)\n",
    "\n",
    "            batch_size.append(len(batch['img']))\n",
    "\n",
    "    ##  Populate Validation Metrics \n",
    "    val_metrics = populate_validation_metrics(records, tasks, num_seg_cls)\n",
    "\n",
    "    return val_metrics"
   ]
  }
 ],
 "metadata": {
  "kernelspec": {
   "display_name": "Python [conda env:pyt-gpu]",
   "language": "python",
   "name": "conda-env-pyt-gpu-py"
  },
  "language_info": {
   "codemirror_mode": {
    "name": "ipython",
    "version": 3
   },
   "file_extension": ".py",
   "mimetype": "text/x-python",
   "name": "python",
   "nbconvert_exporter": "python",
   "pygments_lexer": "ipython3",
   "version": "3.9.5"
  },
  "toc": {
   "base_numbering": 1,
   "nav_menu": {},
   "number_sections": true,
   "sideBar": true,
   "skip_h1_title": false,
   "title_cell": "Table of Contents",
   "title_sidebar": "Contents",
   "toc_cell": false,
   "toc_position": {},
   "toc_section_display": true,
   "toc_window_display": false
  }
 },
 "nbformat": 4,
 "nbformat_minor": 5
}
