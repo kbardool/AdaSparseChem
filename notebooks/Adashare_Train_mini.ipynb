{
 "cells": [
  {
   "cell_type": "markdown",
   "id": "408f1261",
   "metadata": {},
   "source": [
    "## Initialization  "
   ]
  },
  {
   "cell_type": "code",
   "execution_count": 1,
   "id": "6d574cdc",
   "metadata": {
    "ExecuteTime": {
     "end_time": "2022-04-30T17:51:05.191133Z",
     "start_time": "2022-04-30T17:51:01.377198Z"
    },
    "execution": {
     "iopub.execute_input": "2022-01-07T22:44:08.233990Z",
     "iopub.status.busy": "2022-01-07T22:44:08.233053Z",
     "iopub.status.idle": "2022-01-07T22:44:08.273284Z",
     "shell.execute_reply": "2022-01-07T22:44:08.271908Z",
     "shell.execute_reply.started": "2022-01-07T22:44:08.233943Z"
    },
    "scrolled": false,
    "tags": []
   },
   "outputs": [
    {
     "name": "stdout",
     "output_type": "stream",
     "text": [
      "cuda is available\n",
      " CUDA device count  :  1\n",
      " CUDA current device:  0\n",
      " GPU Processes      : \n",
      " GPU:0\n",
      "no processes are running\n",
      " Device : cuda:0\n",
      "   name:        NVIDIA GeForce GTX 970M\n",
      "   capability:  (5, 2)\n",
      "   properties:  _CudaDeviceProperties(name='NVIDIA GeForce GTX 970M', major=5, minor=2, total_memory=3071MB, multi_processor_count=10)\n",
      "   Allocated :  0\n",
      "   Reserved  :  0\n",
      "\n",
      "| ID | GPU  | MEM |\n",
      "-------------------\n",
      "|  0 | nan% |  1% |\n",
      "cuda:0\n",
      "0\n",
      "nvml_gpu_id:  0\n",
      "<pynvml.nvml.LP_struct_c_nvmlDevice_t object at 0x7f31acc938c0>\n",
      "c_nvmlMemory_t(total: 3221225472 B, free: 3179544576 B, used: 41680896 B)\n"
     ]
    }
   ],
   "source": [
    "%load_ext autoreload\n",
    "%autoreload 2\n",
    "import os \n",
    "import sys\n",
    "sys.path.insert(0, '../src')\n",
    "import time\n",
    "import argparse\n",
    "import yaml\n",
    "import types\n",
    "import copy, pprint\n",
    "from time import sleep\n",
    "from datetime import datetime\n",
    "import numpy  as np\n",
    "import torch  \n",
    "import wandb\n",
    "from pynvml import *\n",
    "import pandas as pd\n",
    "from utils.notebook_modules import (initialize, init_dataloaders, init_environment, init_wandb, \n",
    "                                   training_prep, disp_dataloader_info,disp_info_1, \n",
    "                                   warmup_phase, weight_policy_training, display_gpu_info,\n",
    "                                   init_dataloaders_by_fold_id)\n",
    "                                    \n",
    "from utils import (print_separator, print_heading, timestring, print_loss, load_from_pickle) #, print_underline, \n",
    "#                       print_dbg, get_command_line_args ) \n",
    "\n",
    "pp = pprint.PrettyPrinter(indent=4)\n",
    "np.set_printoptions(edgeitems=3, infstr='inf', linewidth=150, nanstr='nan')\n",
    "torch.set_printoptions(precision=6, linewidth=132)\n",
    "pd.options.display.width = 132\n",
    "# torch.set_printoptions(precision=None, threshold=None, edgeitems=None, linewidth=None, profile=None, sci_mode=None)\n",
    "# sys.path.insert(0, '/home/kbardool/kusanagi/AdaSparseChem/src')\n",
    "# print(sys.path)\n",
    "# disp_gpu_info() \n",
    "os.environ[\"WANDB_NOTEBOOK_NAME\"] = \"Adashare_Train_mini.ipynb\"\n",
    "\n",
    "display_gpu_info()\n",
    "\n"
   ]
  },
  {
   "cell_type": "markdown",
   "id": "1b33ac6e",
   "metadata": {},
   "source": [
    "## Create Environment"
   ]
  },
  {
   "cell_type": "markdown",
   "id": "ee652c57",
   "metadata": {},
   "source": [
    "### Parse Input Args  - Read YAML config file - wandb initialization"
   ]
  },
  {
   "cell_type": "code",
   "execution_count": 2,
   "id": "a42bb98b",
   "metadata": {
    "ExecuteTime": {
     "end_time": "2022-04-30T10:44:48.617414Z",
     "start_time": "2022-04-30T10:44:48.579129Z"
    }
   },
   "outputs": [],
   "source": [
    "# RESUME_MODEL_CKPT = 'model_train_ep_25_seed_0088'\n",
    "\n",
    "## For RESTARTING\n",
    "##\n",
    "# input_args = \" --config yamls/chembl_3task_train.yaml \" \\\n",
    "#              \" --resume \" \\\n",
    "#              \" --exp_id      330i85cg\" \\\n",
    "#              \" --exp_name    0308_1204\" \\\n",
    "#              \" --exp_desc    Train with dropout 0.5\" \\\n",
    "#              \" --seed_idx    0 \"\\\n",
    "#              \" --batch_size  128\" \\\n",
    "#              \" --lambda_sparsity  0.01\"\\\n",
    "#              \" --lambda_sharing   0.01\" \n",
    "## get command line arguments"
   ]
  },
  {
   "cell_type": "code",
   "execution_count": 2,
   "id": "cd3a7f00",
   "metadata": {
    "ExecuteTime": {
     "end_time": "2022-04-30T17:51:08.298818Z",
     "start_time": "2022-04-30T17:51:08.259550Z"
    },
    "execution": {
     "iopub.execute_input": "2022-01-07T22:44:13.145647Z",
     "iopub.status.busy": "2022-01-07T22:44:13.145313Z",
     "iopub.status.idle": "2022-01-07T22:44:13.193262Z",
     "shell.execute_reply": "2022-01-07T22:44:13.192140Z",
     "shell.execute_reply.started": "2022-01-07T22:44:13.145622Z"
    }
   },
   "outputs": [],
   "source": [
    "synthetic_1task_config = \"../yamls/chembl_synt_train_1task.yaml\"\n",
    "synthetic_3task_config = \"../yamls/chembl_synt_train_3task.yaml\"\n",
    "synthetic_5task_config = \"../yamls/chembl_synt_train_5task.yaml\"\n",
    "synthetic_config = \"../yamls/chembl_synt_train.yaml\"\n",
    "mini_config      = \"../yamls/chembl_mini_train.yaml\"\n",
    "##  For Initiating \n",
    "##\n",
    "input_args = f\" --config  {mini_config} \" \\\n",
    "             \" --exp_desc     weight 105 bch/ep policy 105 bch/ep \" \\\n",
    "             \" --warmup_epochs        10 \"  \\\n",
    "             \" --hidden_size          1000 \"  \\\n",
    "             \" --tail_hidden_size     1000 \"  \\\n",
    "             \" --first_dropout       0.45 \"  \\\n",
    "             \" --middle_dropout      0.45\"  \\\n",
    "             \" --last_dropout        0.45 \"  \\\n",
    "             \" --seed_idx              0 \"  \\\n",
    "             \" --batch_size          128 \"  \\\n",
    "             \" --task_lr           0.001 \"  \\\n",
    "             \" --backbone_lr       0.001 \"  \\\n",
    "             \" --decay_lr_rate       0.3 \"  \\\n",
    "             \" --decay_lr_freq        10 \"  \\\n",
    "             \" --policy_lr         0.001 \"  \\\n",
    "             \" --lambda_sparsity    0.02 \"  \\\n",
    "             \" --lambda_sharing     0.01 \"  \\\n",
    "             \" --skip_hidden \" \\\n",
    "             \" --cpu \" \n",
    "\n",
    "#              \" --no_residual \"\n",
    "#              \" --exp_name       0410_1934 \" \\\n",
    "#              \" --hidden_size   100 100 100 100 100 100\" \\\n",
    "#              \" --tail_hidden_size  100 \" \\\n",
    "#              \" --decay_lr_rate      0.75\"  \\\n",
    "#              \" --decay_lr_freq       20\"  \\\n"
   ]
  },
  {
   "cell_type": "code",
   "execution_count": 3,
   "id": "2ddaf625",
   "metadata": {
    "ExecuteTime": {
     "end_time": "2022-04-30T17:51:14.429702Z",
     "start_time": "2022-04-30T17:51:10.201021Z"
    },
    "scrolled": false
   },
   "outputs": [
    {
     "name": "stderr",
     "output_type": "stream",
     "text": [
      "\u001b[34m\u001b[1mwandb\u001b[0m: Currently logged in as: \u001b[33mkbardool\u001b[0m (use `wandb login --relogin` to force relogin)\n"
     ]
    },
    {
     "name": "stdout",
     "output_type": "stream",
     "text": [
      "\n",
      "  command line parms : \n",
      "------------------------\n",
      " config...................  ../yamls/chembl_mini_train.yaml\n",
      " exp_id...................  1z349wb6\n",
      " exp_name.................  None\n",
      " folder_sfx...............  None\n",
      " exp_desc.................  weight 105 bch/ep policy 105 bch/ep\n",
      " hidden_sizes.............  [1000]\n",
      " tail_hidden_size.........  [1000]\n",
      " warmup_epochs............  10\n",
      " training_epochs..........  None\n",
      " seed_idx.................  0\n",
      " batch_size...............  128\n",
      " first_dropout............  0.45\n",
      " middle_dropout...........  0.45\n",
      " last_dropout.............  0.45\n",
      " backbone_lr..............  0.001\n",
      " task_lr..................  0.001\n",
      " policy_lr................  0.001\n",
      " decay_lr_rate............  0.3\n",
      " decay_lr_freq............  10.0\n",
      " lambda_sparsity..........  0.02\n",
      " lambda_sharing...........  0.01\n",
      " gpu_ids..................  [0]\n",
      " skip_residual............  False\n",
      " skip_hidden..............  True\n",
      " resume...................  False\n",
      " cpu......................  True\n",
      " min_samples_class........  None\n",
      "\n",
      "\n",
      "\n",
      "##################################################\n",
      "################### READ YAML ####################\n",
      "##################################################\n",
      "1z349wb6 0430_1951_skip_hdn_skip_hdn AdaSparseChem-Mini\n"
     ]
    },
    {
     "name": "stderr",
     "output_type": "stream",
     "text": [
      "error: cannot run ipynb_drop_output: No such file or directory\n",
      "error: cannot fork to run external filter 'ipynb_drop_output'\n",
      "error: external filter 'ipynb_drop_output' failed\n",
      "error: cannot run ipynb_drop_output: No such file or directory\n",
      "error: cannot fork to run external filter 'ipynb_drop_output'\n",
      "error: external filter 'ipynb_drop_output' failed\n"
     ]
    },
    {
     "data": {
      "text/html": [
       "wandb version 0.12.15 is available!  To upgrade, please run:\n",
       " $ pip install wandb --upgrade"
      ],
      "text/plain": [
       "<IPython.core.display.HTML object>"
      ]
     },
     "metadata": {},
     "output_type": "display_data"
    },
    {
     "data": {
      "text/html": [
       "Tracking run with wandb version 0.12.11"
      ],
      "text/plain": [
       "<IPython.core.display.HTML object>"
      ]
     },
     "metadata": {},
     "output_type": "display_data"
    },
    {
     "data": {
      "text/html": [
       "Run data is saved locally in <code>/home/kbardool/WSL-projs/AdaSparseChem/notebooks/wandb/run-20220430_195110-1z349wb6</code>"
      ],
      "text/plain": [
       "<IPython.core.display.HTML object>"
      ]
     },
     "metadata": {},
     "output_type": "display_data"
    },
    {
     "data": {
      "text/html": [
       "Syncing run <strong><a href=\"http://localhost:8080/kbardool/AdaSparseChem-Mini/runs/1z349wb6\" target=\"_blank\">0430_1951_skip_hdn_skip_hdn</a></strong> to <a href=\"http://localhost:8080/kbardool/AdaSparseChem-Mini\" target=\"_blank\">Weights & Biases</a> (<a href=\"https://wandb.me/run\" target=\"_blank\">docs</a>)<br/>"
      ],
      "text/plain": [
       "<IPython.core.display.HTML object>"
      ]
     },
     "metadata": {},
     "output_type": "display_data"
    },
    {
     "name": "stdout",
     "output_type": "stream",
     "text": [
      " PROJECT NAME: AdaSparseChem-Mini\n",
      " RUN ID      : 1z349wb6 \n",
      " RUN NAME    : 0430_1951_skip_hdn_skip_hdn\n",
      " PROJECT NAME: AdaSparseChem-Mini\n",
      " RUN ID      : 1z349wb6 \n",
      " RUN NAME    : 0430_1951_skip_hdn_skip_hdn\n",
      "\n",
      "\n",
      " log_dir              create folder:  ../../experiments/mini-AdaSparseChem/1000x1_0430_1951_lr0.001_do0.45_skip_hdn\n",
      " result_dir           folder exists:  ../../experiments/mini-AdaSparseChem/1000x1_0430_1951_lr0.001_do0.45_skip_hdn\n",
      " checkpoint_dir       folder exists:  ../../experiments/mini-AdaSparseChem/1000x1_0430_1951_lr0.001_do0.45_skip_hdn\n",
      "\n",
      "------------------------------------------------------------------------------------------------------------------------\n",
      " experiment name       : 0430_1951_skip_hdn_skip_hdn \n",
      " experiment id         : 1z349wb6 \n",
      " folder_name           : 1000x1_0430_1951_lr0.001_do0.45_skip_hdn \n",
      " experiment description: weight 105 bch/ep policy 105 bch/ep\n",
      " Random seeds          : [88, 45, 50, 100, 44, 48, 2048, 2222, 9999]\n",
      " Random  seed used     : 88 \n",
      " log folder            : ../../experiments/mini-AdaSparseChem/1000x1_0430_1951_lr0.001_do0.45_skip_hdn\n",
      " checkpoint folder     : ../../experiments/mini-AdaSparseChem/1000x1_0430_1951_lr0.001_do0.45_skip_hdn\n",
      " Gpu ids               : [0]\n",
      " Seed index            : 0\n",
      " policy_iter           : best\n",
      " Data Split ratios     : [0.725, 0.225, 0.05]\n",
      "------------------------------------------------------------------------------------------------------------------------ \n",
      "\n",
      "        project_name : AdaSparseChem-Mini\n",
      "              exp_id : 1z349wb6\n",
      "        exp_name_pfx : 0430_1951\n",
      "            exp_name : 0430_1951_skip_hdn_skip_hdn\n",
      "          exp_folder : 1000x1_0430_1951_lr0.001_do0.45_skip_hdn\n",
      "     exp_description : weight 105 bch/ep policy 105 bch/ep\n",
      "          folder_sfx : skip_hdn\n",
      "         random_seed : 88\n",
      "           seed_list : [88, 45, 50, 100, 44, 48, 2048, 2222, 9999]\n",
      "              config : ../yamls/chembl_mini_train.yaml\n",
      "                 cpu : True\n",
      "             gpu_ids : [0]\n",
      "            backbone : SparseChem\n",
      "               tasks : ['class']\n",
      "     tasks_num_class : [100]\n",
      "             lambdas : [1]\n",
      "             verbose : False\n",
      "     input_size_freq : None\n",
      "          input_size : 32000\n",
      "        hidden_sizes : [1000]\n",
      "    tail_hidden_size : [1000]\n",
      " first_non_linearity : relu\n",
      "middle_non_linearity : relu\n",
      "  last_non_linearity : relu\n",
      "       first_dropout : 0.45\n",
      "      middle_dropout : 0.45\n",
      "        last_dropout : 0.45\n",
      "   class_output_size : None\n",
      "    regr_output_size : None\n",
      "              policy : True\n",
      "        policy_model : task-specific\n",
      "       skip_residual : False\n",
      "         skip_hidden : True\n",
      "           is_sparse : True\n",
      "          is_sharing : True\n",
      "diff_sparsity_weights : False\n",
      "          skip_layer : 0\n",
      "       is_curriculum : False\n",
      "    curriculum_speed : 3\n",
      "              fix_BN : False\n",
      "     retrain_from_pl : False\n",
      "\n",
      "train\n",
      "-----\n",
      "          batch_size : 128\n",
      "       warmup_epochs : 10\n",
      "     training_epochs : 250\n",
      "         total_iters : 25000\n",
      "       warm_up_iters : None\n",
      "             task_lr : 0.001\n",
      "         backbone_lr : 0.001\n",
      "    weight_optimizer : adam\n",
      "    policy_optimizer : adam\n",
      "       decay_lr_rate : 0.3\n",
      "       decay_lr_freq : 10.0\n",
      "   decay_lr_cooldown : 0\n",
      "policy_decay_lr_rate : 0.75\n",
      "policy_decay_lr_freq : 50\n",
      "policy_decay_lr_cooldown : 0\n",
      "           policy_lr : 0.001\n",
      "     lambda_sparsity : 0.02\n",
      "      lambda_sharing : 0.01\n",
      "        lambda_tasks : 1\n",
      "         init_method : random\n",
      "           init_temp : 4\n",
      "          decay_temp : 0.965\n",
      "     decay_temp_freq : 16\n",
      "     init_neg_logits : None\n",
      "       hard_sampling : False\n",
      "            val_freq : 500\n",
      "          print_freq : -1\n",
      "           val_iters : -1\n",
      "              resume : False\n",
      "      retrain_resume : False\n",
      "         policy_iter : best\n",
      "          which_iter : warmup\n",
      "\n",
      "paths\n",
      "-----\n",
      "             log_dir : ../../experiments/mini-AdaSparseChem/1000x1_0430_1951_lr0.001_do0.45_skip_hdn\n",
      "          result_dir : ../../experiments/mini-AdaSparseChem/1000x1_0430_1951_lr0.001_do0.45_skip_hdn\n",
      "      checkpoint_dir : ../../experiments/mini-AdaSparseChem/1000x1_0430_1951_lr0.001_do0.45_skip_hdn\n",
      "\n",
      "dataload\n",
      "--------\n",
      "             dataset : Chembl23_mini\n",
      "            dataroot : ../../MLDatasets/chembl23_mini\n",
      "                   x : chembl_23mini_x.npy\n",
      "      x_split_ratios : [0.725, 0.225, 0.05]\n",
      "             y_tasks : ['chembl_23mini_y.npy']\n",
      "            y_censor : None\n",
      "             folding : chembl_23mini_folds.npy\n",
      "         fold_inputs : 32000\n",
      "     input_transform : None\n",
      "       weights_class : None\n",
      "   min_samples_class : 1\n",
      "             fold_va : 0\n",
      "             fold_te : None\n",
      "\n",
      "SC\n",
      "--\n",
      "      normalize_loss : None\n"
     ]
    }
   ],
   "source": [
    "opt, ns = initialize(input_args, build_folders = True)"
   ]
  },
  {
   "cell_type": "code",
   "execution_count": 5,
   "id": "85a5e80e",
   "metadata": {
    "ExecuteTime": {
     "end_time": "2022-04-28T16:04:58.268517Z",
     "start_time": "2022-04-28T16:04:58.167133Z"
    }
   },
   "outputs": [],
   "source": [
    "# ns.wandb_run.finish()"
   ]
  },
  {
   "cell_type": "code",
   "execution_count": 34,
   "id": "e3a2edeb",
   "metadata": {
    "ExecuteTime": {
     "end_time": "2022-04-30T19:20:49.866176Z",
     "start_time": "2022-04-30T19:20:48.635008Z"
    },
    "scrolled": false
   },
   "outputs": [
    {
     "name": "stdout",
     "output_type": "stream",
     "text": [
      "----------------------------------------------------------------\n",
      " 2022-04-30 21:20:48:890014  Create new  Chembl_23 instance \n",
      "---------------------------------------------------------------- \n",
      "\n",
      " verbose        : True\n",
      "\n",
      " FOLDS param provided - folds: [1, 2, 3, 4] \n",
      "\n",
      " X (ecfp[0]) file count non zero (post fold & transform) :80 \n",
      "\n",
      "\n",
      " Load label/Y file for task 1 filename : chembl_23mini_y.npy . . .\n",
      "-------------------------------------------------------------------\n",
      " load_task_weights() - filename: None label: y_task1\n",
      " load_task_weights() - no weights file provided for y_task1, training_weights for all  100 classes set to 1 \n",
      " Number of non-zero features in ecfp[0]:80\n",
      "\n",
      " Task 1 label file: \n",
      "    Total Positive Labels :     18704 \n",
      "    Total Negative Labels :      2445 \n",
      "    Total Non-Zero Labels :     21149\n",
      " All y values are 0, 1, or -1.\n",
      "\n",
      " tasks_class.aggregation_weight WAS NOT passed \n",
      " min_samples_class: 1\n",
      "\n",
      " Class fold counts: \n",
      "---------------------\n",
      " fold_pos - total: 18704 - .sum(axis=0):\n",
      "[ 884   59   59  284   55   43  749   14  292  342  423   13  119    1  281  213    0   11  190   27   46   36   16   43    9   70    7  163 1399\n",
      "   35  447    1    0  675  327  142    6   31  552   52   27  325    1  350  535   72   94   36   55  259 1366    3   24    9 1408  148  971  113\n",
      "   31   55   70   74   63    0   86   58    2    0  465  273    9  317   91  146  199    0  251  232   62   14  230   79   30   41   32 1610   74\n",
      "   16   22    0    0    0  102    1    0   32   14    0   10    1] \n",
      "\n",
      " fold_pos: \n",
      " [[115  31  17  54   7  18 203   3  55  76  63   1  42   0  75  36   0   1  43   2   7   7   0   3   0  21   1  37 330  11  86   0   0 142  27  25\n",
      "    4   7 111  12   7  79   0  97 129  15  10   9   9  38 272   1   2   0 285  63 185   1   0   4  19  21  13   0  18  12   0   0  93  55   1  73\n",
      "   29  41  18   0  46  37  14   0  40  18   6   8  10 330   6   4   1   0   0   0   8   0   0   0   3   0   1   0]\n",
      " [179   1  13  70   8   8 124   3  57  65  10   3  28   0  62  75   0   5  21   3  11  13   4   0   1  11   0  32 300   8 118   0   0 153  57  25\n",
      "    2   5 111  12   2  59   1  47 110  15  21   1   6  43 276   1   4   4 329   7 185 108   1  11  34  14   7   0  20  19   1   0 101  75   1  68\n",
      "   14  21  29   0  83  61   9   0  50   2   5   6   2 359  24   1   4   0   0   0   5   0   0   6   0   0   1   0]\n",
      " [237   0  10  63  15   6 144   3  59  64  67   2  14   0  48  34   0   4  25   6   3   8  12   4   4   6   1  35 250   3  66   0   0 119 133  24\n",
      "    0   8 117  12  18  31   0  78  78   9  26  12  10  38 296   0   4   3 280  45 172   1   5  14   5  11  20   0  16  24   0   0  85  65   0  73\n",
      "   25  20  16   0  51  42  13   0  58  22  10   8  10 347  20   3   9   0   0   0  23   0   0  12   3   0   0   1]\n",
      " [171   0  12  37  19   6 121   2  77  46 221   1  18   0  58  35   0   0  53   5  12   6   0  27   2  17   0  20 200   4  63   1   0 132  55  28\n",
      "    0   3 101  10   0 125   0  66 138  26  20  14  20  73 268   0  10   2 237  11 188   1  11  16   8  17  20   0  14   2   0   0  91  38   4  61\n",
      "   14  27 125   0  21  45   4  14  35  22   9   9   4 248  12   3   1   0   0   0  45   1   0  10   6   0   3   0]\n",
      " [182  27   7  60   6   5 157   3  44  91  62   6  17   1  38  33   0   1  48  11  13   2   0   9   2  15   5  39 319   9 114   0   0 129  55  40\n",
      "    0   8 112   6   0  31   0  62  80   7  17   0  10  67 254   1   4   0 277  22 241   2  14  10   4  11   3   0  18   1   1   0  95  40   3  42\n",
      "    9  37  11   0  50  47  22   0  47  15   0  10   6 326  12   5   7   0   0   0  21   0   0   4   2   0   5   0]] \n",
      "\n",
      "\n",
      "\n",
      " fold_neg - total: 2445 - .sum(axis=0):\n",
      "[ 83   0   0   0   0   3  29   7   9  11   0   0   0  12   3   0   0   0   0   9   0  13  21   0   0   0   0   0  45   0   0 143   0   9   0  56   9\n",
      "  18  17   0   0   1   1   1  72   0  10   0 280   2   0   2  48 245  17  77   4   0   0   9   0   5   3   2  57   1   0   1   5   2  44   2  64  11\n",
      "   1  24   3   0 101  21  38   0  19   0   1 220  16  13 400  32   0  27   1  17   0   0   2   0  32  14] \n",
      "\n",
      " fold_neg: \n",
      " [[ 17   0   0   0   0   1   3   4   2   2   0   0   0   1   2   0   0   0   0   2   0   0  13   0   0   0   0   0   6   0   0  30   0   0   0   3\n",
      "    3   3   2   0   0   1   1   1  18   0   2   0  85   0   0   2  13  47   1  11   0   0   0   2   0   1   1   1   3   0   0   0   0   0  18   0\n",
      "    9   3   0   4   1   0  23  11   6   0   5   0   0  46   4   4  73   2   0   7   1   0   0   0   0   0   4   0]\n",
      " [ 27   0   0   0   0   0   2   2   5   4   0   0   0   3   0   0   0   0   0   2   0   5   0   0   0   0   0   0  11   0   0  34   0   4   0  17\n",
      "    0   3   1   0   0   0   0   0   6   0   0   0  37   2   0   0  11  79   4  28   0   0   0   1   0   2   0   1  13   0   0   0   1   1   2   1\n",
      "    2   2   0   7   0   0  23   4   9   0   4   0   0  35   1   3 115   1   0   2   0   5   0   0   1   0  13   4]\n",
      " [ 18   0   0   0   0   1  15   0   0   2   0   0   0   2   0   0   0   0   0   2   0   2   2   0   0   0   0   0   9   0   0  33   0   2   0  17\n",
      "    1   5   5   0   0   0   0   0  11   0   0   0  51   0   0   0   5  48   3  23   2   0   0   1   0   0   0   0   5   1   0   0   1   0   5   1\n",
      "   16   2   0   6   0   0  22   2   6   0   2   0   0  42   1   4  52   5   0  18   0   5   0   0   0   0   9   4]\n",
      " [  5   0   0   0   0   1   7   1   0   3   0   0   0   1   1   0   0   0   0   3   0   3   1   0   0   0   0   0  16   0   0  19   0   0   0  15\n",
      "    2   3   3   0   0   0   0   0  11   0   3   0  56   0   0   0  16  19   5   6   0   0   0   3   0   0   2   0  18   0   0   1   3   0  15   0\n",
      "   22   4   1   4   0   0  16   1   9   0   3   0   0  61   5   1  86   2   0   0   0   4   0   0   1   0   3   2]\n",
      " [ 16   0   0   0   0   0   2   0   2   0   0   0   0   5   0   0   0   0   0   0   0   3   5   0   0   0   0   0   3   0   0  27   0   3   0   4\n",
      "    3   4   6   0   0   0   0   0  26   0   5   0  51   0   0   0   3  52   4   9   2   0   0   2   0   2   0   0  18   0   0   0   0   1   4   0\n",
      "   15   0   0   3   2   0  17   3   8   0   5   0   1  36   5   1  74  22   0   0   0   3   0   0   0   0   3   4]] \n",
      "\n",
      "\n",
      "\n",
      " task_weights.aggregation_weight shape: (100,) sum: 20.0\n",
      " [1. 0. 0. 0. 0. 0. 1. 0. 0. 0. 0. 0. 0. 0. 0. 0. 0. 0. 0. 0. 0. 0. 0. 0. 0. 0. 0. 0. 1. 0. 0. 0. 0. 0. 0. 1. 0. 1. 1. 0. 0. 0. 0. 0. 1. 0. 0. 0. 1.\n",
      " 0. 0. 0. 1. 0. 1. 1. 0. 0. 0. 1. 0. 0. 0. 0. 1. 0. 0. 0. 0. 0. 0. 0. 1. 0. 0. 0. 0. 0. 1. 0. 1. 0. 0. 0. 0. 1. 1. 1. 1. 0. 0. 0. 0. 0. 0. 0. 0. 0.\n",
      " 0. 0.]\n",
      "task_weights.training_weight shape    : (100,) sum: 100.0\n",
      " tensor([1., 1., 1., 1., 1., 1., 1., 1., 1., 1., 1., 1., 1., 1., 1., 1., 1., 1., 1., 1., 1., 1., 1., 1., 1., 1., 1., 1., 1., 1., 1.,\n",
      "        1., 1., 1., 1., 1., 1., 1., 1., 1., 1., 1., 1., 1., 1., 1., 1., 1., 1., 1., 1., 1., 1., 1., 1., 1., 1., 1., 1., 1., 1., 1.,\n",
      "        1., 1., 1., 1., 1., 1., 1., 1., 1., 1., 1., 1., 1., 1., 1., 1., 1., 1., 1., 1., 1., 1., 1., 1., 1., 1., 1., 1., 1., 1., 1.,\n",
      "        1., 1., 1., 1., 1., 1., 1.])\n",
      "\n",
      "  Task 1 files pre-filtering : \n",
      "--------------------------------\n",
      "X file : # Samples :  18388       # Features per Sample: 32000   \n",
      "Y file : # Samples :  18388     # Labels per Sample: 100 \n",
      "\n",
      "  Task 1 files post-filtering : \n",
      "---------------------------------\n",
      "X file : # Samples :  14633     # Features: 32000   \n",
      "Y file : # Samples :  100     # Subtasks: 100 \n",
      "Using 20 classification tasks for calculating aggregated metrics (AUCROC, F1_max, etc).\n",
      "--------------------------------------------------\n",
      "Chembl_23 Create complete\n",
      "-------------------------------------------------- \n",
      "\n",
      "----------------------------------------------------------------\n",
      " 2022-04-30 21:20:49:123729  Create new  Chembl_23 instance \n",
      "---------------------------------------------------------------- \n",
      "\n",
      " verbose        : True\n",
      "\n",
      " FOLDS param provided - folds: [0] \n",
      "\n",
      " X (ecfp[0]) file count non zero (post fold & transform) :80 \n",
      "\n",
      "\n",
      " Load label/Y file for task 1 filename : chembl_23mini_y.npy . . .\n",
      "-------------------------------------------------------------------\n",
      " load_task_weights() - filename: None label: y_task1\n",
      " load_task_weights() - no weights file provided for y_task1, training_weights for all  100 classes set to 1 \n",
      " Number of non-zero features in ecfp[0]:80\n",
      "\n",
      " Task 1 label file: \n",
      "    Total Positive Labels :     18704 \n",
      "    Total Negative Labels :      2445 \n",
      "    Total Non-Zero Labels :     21149\n",
      " All y values are 0, 1, or -1.\n",
      "\n",
      " tasks_class.aggregation_weight WAS NOT passed \n",
      " min_samples_class: 1\n",
      "\n",
      " Class fold counts: \n",
      "---------------------\n",
      " fold_pos - total: 18704 - .sum(axis=0):\n",
      "[ 884   59   59  284   55   43  749   14  292  342  423   13  119    1  281  213    0   11  190   27   46   36   16   43    9   70    7  163 1399\n",
      "   35  447    1    0  675  327  142    6   31  552   52   27  325    1  350  535   72   94   36   55  259 1366    3   24    9 1408  148  971  113\n",
      "   31   55   70   74   63    0   86   58    2    0  465  273    9  317   91  146  199    0  251  232   62   14  230   79   30   41   32 1610   74\n",
      "   16   22    0    0    0  102    1    0   32   14    0   10    1] \n",
      "\n",
      " fold_pos: \n",
      " [[115  31  17  54   7  18 203   3  55  76  63   1  42   0  75  36   0   1  43   2   7   7   0   3   0  21   1  37 330  11  86   0   0 142  27  25\n",
      "    4   7 111  12   7  79   0  97 129  15  10   9   9  38 272   1   2   0 285  63 185   1   0   4  19  21  13   0  18  12   0   0  93  55   1  73\n",
      "   29  41  18   0  46  37  14   0  40  18   6   8  10 330   6   4   1   0   0   0   8   0   0   0   3   0   1   0]\n",
      " [179   1  13  70   8   8 124   3  57  65  10   3  28   0  62  75   0   5  21   3  11  13   4   0   1  11   0  32 300   8 118   0   0 153  57  25\n",
      "    2   5 111  12   2  59   1  47 110  15  21   1   6  43 276   1   4   4 329   7 185 108   1  11  34  14   7   0  20  19   1   0 101  75   1  68\n",
      "   14  21  29   0  83  61   9   0  50   2   5   6   2 359  24   1   4   0   0   0   5   0   0   6   0   0   1   0]\n",
      " [237   0  10  63  15   6 144   3  59  64  67   2  14   0  48  34   0   4  25   6   3   8  12   4   4   6   1  35 250   3  66   0   0 119 133  24\n",
      "    0   8 117  12  18  31   0  78  78   9  26  12  10  38 296   0   4   3 280  45 172   1   5  14   5  11  20   0  16  24   0   0  85  65   0  73\n",
      "   25  20  16   0  51  42  13   0  58  22  10   8  10 347  20   3   9   0   0   0  23   0   0  12   3   0   0   1]\n",
      " [171   0  12  37  19   6 121   2  77  46 221   1  18   0  58  35   0   0  53   5  12   6   0  27   2  17   0  20 200   4  63   1   0 132  55  28\n",
      "    0   3 101  10   0 125   0  66 138  26  20  14  20  73 268   0  10   2 237  11 188   1  11  16   8  17  20   0  14   2   0   0  91  38   4  61\n",
      "   14  27 125   0  21  45   4  14  35  22   9   9   4 248  12   3   1   0   0   0  45   1   0  10   6   0   3   0]\n",
      " [182  27   7  60   6   5 157   3  44  91  62   6  17   1  38  33   0   1  48  11  13   2   0   9   2  15   5  39 319   9 114   0   0 129  55  40\n",
      "    0   8 112   6   0  31   0  62  80   7  17   0  10  67 254   1   4   0 277  22 241   2  14  10   4  11   3   0  18   1   1   0  95  40   3  42\n",
      "    9  37  11   0  50  47  22   0  47  15   0  10   6 326  12   5   7   0   0   0  21   0   0   4   2   0   5   0]] \n",
      "\n",
      "\n",
      "\n",
      " fold_neg - total: 2445 - .sum(axis=0):\n",
      "[ 83   0   0   0   0   3  29   7   9  11   0   0   0  12   3   0   0   0   0   9   0  13  21   0   0   0   0   0  45   0   0 143   0   9   0  56   9\n",
      "  18  17   0   0   1   1   1  72   0  10   0 280   2   0   2  48 245  17  77   4   0   0   9   0   5   3   2  57   1   0   1   5   2  44   2  64  11\n",
      "   1  24   3   0 101  21  38   0  19   0   1 220  16  13 400  32   0  27   1  17   0   0   2   0  32  14] \n",
      "\n",
      " fold_neg: \n",
      " [[ 17   0   0   0   0   1   3   4   2   2   0   0   0   1   2   0   0   0   0   2   0   0  13   0   0   0   0   0   6   0   0  30   0   0   0   3\n",
      "    3   3   2   0   0   1   1   1  18   0   2   0  85   0   0   2  13  47   1  11   0   0   0   2   0   1   1   1   3   0   0   0   0   0  18   0\n",
      "    9   3   0   4   1   0  23  11   6   0   5   0   0  46   4   4  73   2   0   7   1   0   0   0   0   0   4   0]\n",
      " [ 27   0   0   0   0   0   2   2   5   4   0   0   0   3   0   0   0   0   0   2   0   5   0   0   0   0   0   0  11   0   0  34   0   4   0  17\n",
      "    0   3   1   0   0   0   0   0   6   0   0   0  37   2   0   0  11  79   4  28   0   0   0   1   0   2   0   1  13   0   0   0   1   1   2   1\n",
      "    2   2   0   7   0   0  23   4   9   0   4   0   0  35   1   3 115   1   0   2   0   5   0   0   1   0  13   4]\n",
      " [ 18   0   0   0   0   1  15   0   0   2   0   0   0   2   0   0   0   0   0   2   0   2   2   0   0   0   0   0   9   0   0  33   0   2   0  17\n",
      "    1   5   5   0   0   0   0   0  11   0   0   0  51   0   0   0   5  48   3  23   2   0   0   1   0   0   0   0   5   1   0   0   1   0   5   1\n",
      "   16   2   0   6   0   0  22   2   6   0   2   0   0  42   1   4  52   5   0  18   0   5   0   0   0   0   9   4]\n",
      " [  5   0   0   0   0   1   7   1   0   3   0   0   0   1   1   0   0   0   0   3   0   3   1   0   0   0   0   0  16   0   0  19   0   0   0  15\n",
      "    2   3   3   0   0   0   0   0  11   0   3   0  56   0   0   0  16  19   5   6   0   0   0   3   0   0   2   0  18   0   0   1   3   0  15   0\n",
      "   22   4   1   4   0   0  16   1   9   0   3   0   0  61   5   1  86   2   0   0   0   4   0   0   1   0   3   2]\n",
      " [ 16   0   0   0   0   0   2   0   2   0   0   0   0   5   0   0   0   0   0   0   0   3   5   0   0   0   0   0   3   0   0  27   0   3   0   4\n",
      "    3   4   6   0   0   0   0   0  26   0   5   0  51   0   0   0   3  52   4   9   2   0   0   2   0   2   0   0  18   0   0   0   0   1   4   0\n",
      "   15   0   0   3   2   0  17   3   8   0   5   0   1  36   5   1  74  22   0   0   0   3   0   0   0   0   3   4]] \n",
      "\n",
      "\n",
      "\n",
      " task_weights.aggregation_weight shape: (100,) sum: 20.0\n",
      " [1. 0. 0. 0. 0. 0. 1. 0. 0. 0. 0. 0. 0. 0. 0. 0. 0. 0. 0. 0. 0. 0. 0. 0. 0. 0. 0. 0. 1. 0. 0. 0. 0. 0. 0. 1. 0. 1. 1. 0. 0. 0. 0. 0. 1. 0. 0. 0. 1.\n",
      " 0. 0. 0. 1. 0. 1. 1. 0. 0. 0. 1. 0. 0. 0. 0. 1. 0. 0. 0. 0. 0. 0. 0. 1. 0. 0. 0. 0. 0. 1. 0. 1. 0. 0. 0. 0. 1. 1. 1. 1. 0. 0. 0. 0. 0. 0. 0. 0. 0.\n",
      " 0. 0.]\n",
      "task_weights.training_weight shape    : (100,) sum: 100.0\n",
      " tensor([1., 1., 1., 1., 1., 1., 1., 1., 1., 1., 1., 1., 1., 1., 1., 1., 1., 1., 1., 1., 1., 1., 1., 1., 1., 1., 1., 1., 1., 1., 1.,\n",
      "        1., 1., 1., 1., 1., 1., 1., 1., 1., 1., 1., 1., 1., 1., 1., 1., 1., 1., 1., 1., 1., 1., 1., 1., 1., 1., 1., 1., 1., 1., 1.,\n",
      "        1., 1., 1., 1., 1., 1., 1., 1., 1., 1., 1., 1., 1., 1., 1., 1., 1., 1., 1., 1., 1., 1., 1., 1., 1., 1., 1., 1., 1., 1., 1.,\n",
      "        1., 1., 1., 1., 1., 1., 1.])\n",
      "\n",
      "  Task 1 files pre-filtering : \n",
      "--------------------------------\n",
      "X file : # Samples :  18388       # Features per Sample: 32000   \n",
      "Y file : # Samples :  18388     # Labels per Sample: 100 \n",
      "\n",
      "  Task 1 files post-filtering : \n",
      "---------------------------------\n",
      "X file : # Samples :  3755     # Features: 32000   \n",
      "Y file : # Samples :  100     # Subtasks: 100 \n",
      "Using 20 classification tasks for calculating aggregated metrics (AUCROC, F1_max, etc).\n",
      "--------------------------------------------------\n",
      "Chembl_23 Create complete\n",
      "-------------------------------------------------- \n",
      "\n"
     ]
    }
   ],
   "source": [
    "# dldrs = init_dataloaders(opt, verbose = False)\n",
    "dldrs = init_dataloaders_by_fold_id(opt, verbose = True)"
   ]
  },
  {
   "cell_type": "code",
   "execution_count": 35,
   "id": "dbc14177",
   "metadata": {
    "ExecuteTime": {
     "end_time": "2022-04-30T19:20:54.168710Z",
     "start_time": "2022-04-30T19:20:54.060085Z"
    },
    "scrolled": false
   },
   "outputs": [
    {
     "name": "stdout",
     "output_type": "stream",
     "text": [
      "\n",
      " trainset.y_class                                   :  [(14633, 100)] \n",
      " trainset1.y_class                                  :  [(14633, 100)] \n",
      " trainset2.y_class                                  :  [(14633, 100)] \n",
      " valset.y_class                                     :  [(3755, 100)]  \n",
      "                                 \n",
      " size of training set 0 (warm up)                   :  14633 \n",
      " size of training set 1 (network parms)             :  14633 \n",
      " size of training set 2 (policy weights)            :  14633 \n",
      " size of validation set                             :  3755 \n",
      "                               Total                :  47654 \n",
      "                                 \n",
      " Number of batches in training 0 (warm up)          :  115 \n",
      " Number of batches in training 1 (network parms)    :  115 \n",
      " Number of batches in training 2 (policy weights)   :  115 \n",
      " Number of batches in validation dataset            :  30 \n",
      "                                \n"
     ]
    }
   ],
   "source": [
    "disp_dataloader_info(dldrs)"
   ]
  },
  {
   "cell_type": "code",
   "execution_count": 36,
   "id": "a5c9fcc8",
   "metadata": {
    "ExecuteTime": {
     "end_time": "2022-04-30T19:20:56.030450Z",
     "start_time": "2022-04-30T19:20:55.944428Z"
    }
   },
   "outputs": [
    {
     "name": "stdout",
     "output_type": "stream",
     "text": [
      "validation set  2445\n",
      "validation set  18704\n",
      "training set  2445\n",
      "training set  18704\n"
     ]
    }
   ],
   "source": [
    "print(\"validation set \", dldrs.valset.num_neg.sum())\n",
    "print(\"validation set \", dldrs.valset.num_pos.sum())\n",
    "print(\"training set \", dldrs.trainset0.num_neg.sum())\n",
    "print(\"training set \", dldrs.trainset0.num_pos.sum())"
   ]
  },
  {
   "cell_type": "code",
   "execution_count": null,
   "id": "1ceb061d",
   "metadata": {
    "ExecuteTime": {
     "end_time": "2022-04-28T16:11:51.213464Z",
     "start_time": "2022-04-28T16:11:51.093331Z"
    }
   },
   "outputs": [],
   "source": [
    "for i in zip(dldrs.valset.num_pos, dldrs.valset.num_neg, dldrs.trainset0.num_pos, dldrs.trainset0.num_neg):\n",
    "    print(f\" {i[0]:4d}  {i[1]:4d}    trianing: {i[2]:4d}   {i[3]:4d}\")"
   ]
  },
  {
   "cell_type": "code",
   "execution_count": 37,
   "id": "efb80735",
   "metadata": {
    "ExecuteTime": {
     "end_time": "2022-04-30T19:21:14.377597Z",
     "start_time": "2022-04-30T19:21:14.307594Z"
    }
   },
   "outputs": [
    {
     "name": "stdout",
     "output_type": "stream",
     "text": [
      "20.0\n",
      "20.0\n"
     ]
    }
   ],
   "source": [
    "print(dldrs.trainset0.tasks_weights_list[0].aggregation_weight.sum())\n",
    "print(dldrs.valset.tasks_weights_list[0].aggregation_weight.sum())"
   ]
  },
  {
   "cell_type": "markdown",
   "id": "8f2bfa8d",
   "metadata": {},
   "source": [
    "### Setup Dataloader and Model  "
   ]
  },
  {
   "cell_type": "code",
   "execution_count": 38,
   "id": "c631eb67",
   "metadata": {
    "ExecuteTime": {
     "end_time": "2022-04-30T19:21:18.551951Z",
     "start_time": "2022-04-30T19:21:17.792293Z"
    },
    "execution": {
     "iopub.execute_input": "2022-01-07T22:44:16.229028Z",
     "iopub.status.busy": "2022-01-07T22:44:16.227544Z",
     "iopub.status.idle": "2022-01-07T22:44:16.659397Z",
     "shell.execute_reply": "2022-01-07T22:44:16.658348Z",
     "shell.execute_reply.started": "2022-01-07T22:44:16.228966Z"
    },
    "scrolled": false
   },
   "outputs": [
    {
     "name": "stdout",
     "output_type": "stream",
     "text": [
      "##################################################\n",
      "############# CREATE THE ENVIRONMENT #############\n",
      "##################################################\n",
      " device is  cuda:0\n",
      "--------------------------------------------------\n",
      " SparseChem_Backbone  Ver: 1.0 Init() Start \n",
      "-------------------------------------------------- \n",
      "\n",
      " layer config        : [1] \n",
      " skip residual layers: False   skip hidden layers  : True\n",
      " SparseChem_BackBone() Input Layer  - Input: 32000  output: 1000  non-linearity:<class 'torch.nn.modules.activation.ReLU'>\n",
      " Module List \n",
      "--------------------------------------------------\n",
      " Initialize weights \n",
      "-------------------------------------------------- \n",
      "\n",
      "------------------------------------------------------------------------------------------------------------------------\n",
      " SparseChem Backbone -- Final configuration(2) : \n",
      "                     self.blocks: <class 'torch.nn.modules.container.ModuleList'>  len:0\n",
      "------------------------------------------------------------------------------------------------------------------------ \n",
      "\n",
      "\n",
      "  Input_Layer  type:<class 'torch.nn.modules.container.Sequential'>  \n",
      "----------------------------------------------------------------------\n",
      "self.Input_layer\n",
      "------------------------------------------------------------------------------------------------------------------------\n",
      "Layers/Blocks    : <class 'torch.nn.modules.container.ModuleList'>   len:0 \n",
      "Resdiual layers  : <class 'torch.nn.modules.container.ModuleList'>   len:0\n",
      "------------------------------------------------------------------------------------------------------------------------ \n",
      "\n",
      "\n",
      "\n",
      "\n",
      " SparseChem_Backbone Init() End \n",
      "----------------------------------------------------\n",
      "* SparseChemEnv environment successfully created\n",
      "---------------------------------------------------- \n",
      "\n",
      " \n",
      "\n",
      "SparseChemEnv  Configuration       \n",
      "---------------------------------------- \n",
      "\n",
      "----------------\n",
      "networks       :\n",
      "----------------\n",
      " {'mtl-net': MTL3(\n",
      "  (backbone): SparseChem_Backbone(\n",
      "    (Input_Layer): Sequential(\n",
      "      (linear): SparseLinear(in_features=32000, out_features=1000, bias=True)\n",
      "      (non_linear): ReLU()\n",
      "      (dropout): Dropout(p=0.45, inplace=False)\n",
      "    )\n",
      "    (blocks): ModuleList()\n",
      "    (residuals): ModuleList()\n",
      "  )\n",
      "  (task1_fc1_c0): SparseChem_Classification_Module(\n",
      "    (linear): Linear(in_features=1000, out_features=100, bias=True)\n",
      "  )\n",
      ")}\n",
      "\n",
      "----------------\n",
      "optimizers     :\n",
      "----------------\n",
      " {'weights': Adam (\n",
      "Parameter Group 0\n",
      "    amsgrad: False\n",
      "    betas: (0.9, 0.999)\n",
      "    eps: 1e-08\n",
      "    lr: 0.001\n",
      "    weight_decay: 0.0001\n",
      "\n",
      "Parameter Group 1\n",
      "    amsgrad: False\n",
      "    betas: (0.9, 0.999)\n",
      "    eps: 1e-08\n",
      "    lr: 0.001\n",
      "    weight_decay: 0.0001\n",
      "), 'alphas': Adam (\n",
      "Parameter Group 0\n",
      "    amsgrad: False\n",
      "    betas: (0.9, 0.999)\n",
      "    eps: 1e-08\n",
      "    lr: 0.001\n",
      "    weight_decay: 0.0005\n",
      ")}\n",
      "\n",
      "----------------\n",
      "schedulers     :\n",
      "----------------\n",
      "factor                        : 0.75 \n",
      "optimizer                     : Adam (\n",
      "Parameter Group 0\n",
      "    amsgrad: False\n",
      "    betas: (0.9, 0.999)\n",
      "    eps: 1e-08\n",
      "    lr: 0.001\n",
      "    weight_decay: 0.0005\n",
      ") \n",
      "min_lrs                       : [0] \n",
      "patience                      : 50 \n",
      "verbose                       : True \n",
      "cooldown                      : 0 \n",
      "cooldown_counter              : 0 \n",
      "mode                          : min \n",
      "threshold                     : 0.0001 \n",
      "threshold_mode                : rel \n",
      "best                          : inf \n",
      "num_bad_epochs                : 0 \n",
      "mode_worse                    : inf \n",
      "eps                           : 1e-08 \n",
      "last_epoch                    : 0 \n",
      "factor                        : 0.3 \n",
      "optimizer                     : Adam (\n",
      "Parameter Group 0\n",
      "    amsgrad: False\n",
      "    betas: (0.9, 0.999)\n",
      "    eps: 1e-08\n",
      "    lr: 0.001\n",
      "    weight_decay: 0.0001\n",
      "\n",
      "Parameter Group 1\n",
      "    amsgrad: False\n",
      "    betas: (0.9, 0.999)\n",
      "    eps: 1e-08\n",
      "    lr: 0.001\n",
      "    weight_decay: 0.0001\n",
      ") \n",
      "min_lrs                       : [0, 0] \n",
      "patience                      : 10.0 \n",
      "verbose                       : True \n",
      "cooldown                      : 0 \n",
      "cooldown_counter              : 0 \n",
      "mode                          : min \n",
      "threshold                     : 0.0001 \n",
      "threshold_mode                : rel \n",
      "best                          : inf \n",
      "num_bad_epochs                : 0 \n",
      "mode_worse                    : inf \n",
      "eps                           : 1e-08 \n",
      "last_epoch                    : 0 \n",
      "\n"
     ]
    }
   ],
   "source": [
    "environ = init_environment(ns, opt, is_train = True, policy_learning = False, display_cfg = True)\n",
    "# environ.define_optimizer(policy_learning=False)\n",
    "# environ.define_scheduler(policy_learning=False)\n",
    "\n",
    "# environ.optimizers['weights'].param_groups[0]\n",
    "# print(environ.print_configuration())"
   ]
  },
  {
   "cell_type": "markdown",
   "id": "1d738062",
   "metadata": {},
   "source": [
    "### Initiate / Resume Training Prep"
   ]
  },
  {
   "cell_type": "code",
   "execution_count": 39,
   "id": "554ff58d",
   "metadata": {
    "ExecuteTime": {
     "end_time": "2022-04-30T19:21:22.878891Z",
     "start_time": "2022-04-30T19:21:22.804787Z"
    }
   },
   "outputs": [],
   "source": [
    "# ns.wandb_run.finish()\n",
    "# check_for_resume_training(ns, opt, environ)"
   ]
  },
  {
   "cell_type": "markdown",
   "id": "f9f7774f",
   "metadata": {},
   "source": [
    "### Training Preparation"
   ]
  },
  {
   "cell_type": "code",
   "execution_count": 40,
   "id": "e8b6afdc",
   "metadata": {
    "ExecuteTime": {
     "end_time": "2022-04-30T19:21:24.136303Z",
     "start_time": "2022-04-30T19:21:23.967850Z"
    }
   },
   "outputs": [
    {
     "name": "stdout",
     "output_type": "stream",
     "text": [
      " training preparation: - check for CUDA - cuda available as device id: [0]\n",
      " training preparation: - set print_freq to length of train loader: 115\n",
      " training preparation: - set eval_iters to length of val loader : 30\n",
      " training preparation: - set number of batches per weight training epoch to: 115\n",
      " training preparation: - set number of batches per policy training epoch to: 115\n",
      "--------------------------------------------------------------------------------\n",
      "\n",
      "    folder: 1000x1_0430_1951_lr0.001_do0.45_skip_hdn\n",
      "    layers: 1 [1000] \n",
      "    \n",
      "    first dropout          : 0.45\n",
      "    middle dropout         : 0.45\n",
      "    last dropout           : 0.45\n",
      "    diff_sparsity_weights  : False\n",
      "    skip_layer             : 0\n",
      "    is_curriculum          : False\n",
      "    curriculum_speed       : 3\n",
      "    \n",
      "    task_lr                : 0.001\n",
      "    backbone_lr            : 0.001\n",
      "    decay_lr_rate          : 0.3\n",
      "    decay_lr_freq          : 10.0\n",
      "    \n",
      "    policy_lr              : 0.001\n",
      "    policy_decay_lr_rate   : 0.75\n",
      "    policy_decay_lr_freq   : 50\n",
      "    lambda_sparsity        : 0.02\n",
      "    lambda_sharing         : 0.01\n",
      "    lambda_tasks           : 1\n",
      "    \n",
      "    Gumbel init_temp       : 4\n",
      "    Gumbel decay_temp      : 0.965\n",
      "    Gumbel decay_temp_freq : 16\n",
      "    Logit init_method      : random\n",
      "    Logit init_neg_logits  : None\n",
      "    Logit hard_sampling    : False\n",
      "    Warm-up epochs         : 10\n",
      "    training epochs        : 250\n",
      "    Data split ratios      : [0.725, 0.225, 0.05]\n",
      "\n"
     ]
    }
   ],
   "source": [
    "training_prep(ns, opt, environ, dldrs)\n",
    "\n",
    "# print('-'*80)\n",
    "# disp_info_1(ns, opt, environ)\n",
    "\n",
    "print('-'*80)\n",
    "print(environ.disp_for_excel())"
   ]
  },
  {
   "cell_type": "markdown",
   "id": "3278d6d1",
   "metadata": {},
   "source": [
    "## Warmup Training"
   ]
  },
  {
   "cell_type": "code",
   "execution_count": 41,
   "id": "92380a48",
   "metadata": {
    "ExecuteTime": {
     "end_time": "2022-04-30T19:21:26.734536Z",
     "start_time": "2022-04-30T19:21:26.661468Z"
    },
    "scrolled": true
   },
   "outputs": [
    {
     "name": "stdout",
     "output_type": "stream",
     "text": [
      "------------------------------------------------------------------------\n",
      " Last Epoch: 0   # of warm-up epochs to do:  50 - Run epochs 1 to 50\n",
      "------------------------------------------------------------------------ \n",
      "\n"
     ]
    }
   ],
   "source": [
    "# environ.display_trained_policy(ns.current_epoch,out=sys.stdout)\n",
    "# ns.check_for_improvment_wait = 0\n",
    "ns.warmup_epochs = 50\n",
    "print_heading(f\" Last Epoch: {ns.current_epoch}   # of warm-up epochs to do:  {ns.warmup_epochs} - Run epochs {ns.current_epoch+1} to {ns.current_epoch + ns.warmup_epochs}\", verbose = True)"
   ]
  },
  {
   "cell_type": "code",
   "execution_count": null,
   "id": "1bd29e74",
   "metadata": {
    "ExecuteTime": {
     "start_time": "2022-04-30T19:21:27.908Z"
    },
    "scrolled": false
   },
   "outputs": [
    {
     "name": "stdout",
     "output_type": "stream",
     "text": [
      "------------------------------------------------------------------------\n",
      " Last Epoch: 0   # of warm-up epochs to do:  50 - Run epochs 1 to 50\n",
      "------------------------------------------------------------------------ \n",
      "\n",
      " Ep  | Trunk LR  Heads LR  Polcy LR  Gmbl Tmp |  trn tsk    trn spar    trn shar   trn ttl |   logloss   bceloss  avg prec    aucroc     aucpr    f1_max |  val tsk    val spar    val shar     total | time |\n",
      "   1 | 1.00e-03  1.00e-03  1.00e-03  4.00e+00 |   0.1025   3.380e-04   0.000e+00    0.1028 |   0.00002   0.25305   0.94047   0.88928   0.93708   0.94552 |   0.0989   1.154e-04   0.000e+00    0.0990 | 30.9 |\n",
      "Previous best_epoch:     0   best iter:     0,   best_value: 0.00000\n",
      "New      best_epoch:     1   best iter:   115,   best_value: 0.94047\n",
      "   2 | 1.00e-03  1.00e-03  1.00e-03  4.00e+00 |   0.0230   3.380e-04   0.000e+00    0.0233 |   0.00002   0.22762   0.91136   0.90196   0.90011   0.91448 |   0.0842   1.154e-04   0.000e+00    0.0843 | 31.2 |\n",
      "   3 | 1.00e-03  1.00e-03  1.00e-03  4.00e+00 |   0.0075   3.380e-04   0.000e+00    0.0079 |   0.00002   0.28197   0.90601   0.90233   0.89846   0.90861 |   0.0923   1.154e-04   0.000e+00    0.0924 | 30.1 |\n",
      "   4 | 1.00e-03  1.00e-03  1.00e-03  4.00e+00 |   0.0775   3.380e-04   0.000e+00    0.0778 |   0.00002   0.28943   0.94669   0.89912   0.94510   0.93418 |   0.0951   1.154e-04   0.000e+00    0.0952 | 31.4 |\n",
      "Previous best_epoch:     1   best iter:   115,   best_value: 0.94047\n",
      "New      best_epoch:     4   best iter:   460,   best_value: 0.94669\n",
      "   5 | 1.00e-03  1.00e-03  1.00e-03  4.00e+00 |   0.0054   3.380e-04   0.000e+00    0.0057 |   0.00002   0.24607   0.94404   0.89825   0.94199   0.93377 |   0.0894   1.154e-04   0.000e+00    0.0895 | 29.7 |\n",
      "   6 | 1.00e-03  1.00e-03  1.00e-03  4.00e+00 |   0.0122   3.380e-04   0.000e+00    0.0125 |   0.00002   0.26668   0.91661   0.90347   0.90095   0.91806 |   0.0909   1.154e-04   0.000e+00    0.0910 | 31.7 |\n",
      "   7 | 1.00e-03  1.00e-03  1.00e-03  4.00e+00 |   0.0148   3.380e-04   0.000e+00    0.0151 |   0.00002   0.22633   0.94888   0.92995   0.94723   0.94255 |   0.0851   1.154e-04   0.000e+00    0.0852 | 29.8 |\n",
      "Previous best_epoch:     4   best iter:   460,   best_value: 0.94669\n",
      "New      best_epoch:     7   best iter:   805,   best_value: 0.94888\n",
      "   8 | 1.00e-03  1.00e-03  1.00e-03  4.00e+00 |   0.0246   3.380e-04   0.000e+00    0.0249 |   0.00002   0.25414   0.91986   0.91941   0.90504   0.92667 |   0.0921   1.154e-04   0.000e+00    0.0922 | 31.6 |\n",
      "   9 | 1.00e-03  1.00e-03  1.00e-03  4.00e+00 |   0.0245   3.380e-04   0.000e+00    0.0248 |   0.00002   0.24919   0.93121   0.92068   0.91653   0.93131 |   0.0889   1.154e-04   0.000e+00    0.0890 | 29.7 |\n",
      "  10 | 1.00e-03  1.00e-03  1.00e-03  4.00e+00 |   0.0130   3.380e-04   0.000e+00    0.0133 |   0.00002   0.27388   0.92253   0.91783   0.90780   0.92042 |   0.0972   1.154e-04   0.000e+00    0.0973 | 31.1 |\n",
      "  11 | 1.00e-03  1.00e-03  1.00e-03  4.00e+00 |   0.0099   3.380e-04   0.000e+00    0.0102 |   0.00002   0.24908   0.93916   0.89703   0.93645   0.93433 |   0.0892   1.154e-04   0.000e+00    0.0893 | 30.2 |\n",
      "  12 | 1.00e-03  1.00e-03  1.00e-03  4.00e+00 |   0.0746   3.380e-04   0.000e+00    0.0749 |   0.00002   0.29953   0.93975   0.88567   0.93684   0.93241 |   0.1003   1.154e-04   0.000e+00    0.1005 | 31.2 |\n",
      "  13 | 1.00e-03  1.00e-03  1.00e-03  4.00e+00 |   0.0020   3.380e-04   0.000e+00    0.0024 |   0.00002   0.27105   0.92336   0.90279   0.90921   0.91936 |   0.0968   1.154e-04   0.000e+00    0.0969 | 30.7 |\n",
      "  14 | 1.00e-03  1.00e-03  1.00e-03  4.00e+00 |   0.0440   3.380e-04   0.000e+00    0.0443 |   0.00002   0.32570   0.88881   0.87651   0.88188   0.89099 |   0.1055   1.154e-04   0.000e+00    0.1056 | 31.3 |\n",
      "  15 | 1.00e-03  1.00e-03  1.00e-03  4.00e+00 |   0.0010   3.380e-04   0.000e+00    0.0014 |   0.00002   0.28542   0.89783   0.88416   0.88247   0.90978 |   0.0966   1.154e-04   0.000e+00    0.0968 | 30.1 |\n",
      "  16 | 1.00e-03  1.00e-03  1.00e-03  4.00e+00 |   0.0386   3.380e-04   0.000e+00    0.0389 |   0.00002   0.30846   0.88544   0.89084   0.88104   0.87765 |   0.0994   1.154e-04   0.000e+00    0.0995 | 31.5 |\n",
      "  17 | 1.00e-03  1.00e-03  1.00e-03  4.00e+00 |   0.0044   3.380e-04   0.000e+00    0.0047 |   0.00002   0.28871   0.94400   0.89217   0.94163   0.93003 |   0.0929   1.154e-04   0.000e+00    0.0931 | 30.1 |\n",
      "  18 | 1.00e-03  1.00e-03  1.00e-03  4.00e+00 |   0.0533   3.380e-04   0.000e+00    0.0536 |   0.00003   0.34267   0.92573   0.88797   0.92203   0.92261 |   0.1121   1.154e-04   0.000e+00    0.1122 | 31.2 |\n",
      "  19 | 1.00e-03  1.00e-03  1.00e-03  4.00e+00 |   0.0072   3.380e-04   0.000e+00    0.0075 |   0.00003   0.35346   0.92154   0.91075   0.90690   0.91809 |   0.1117   1.154e-04   0.000e+00    0.1118 | 29.6 |\n",
      "  20 | 1.00e-03  1.00e-03  1.00e-03  4.00e+00 |   0.0264   3.380e-04   0.000e+00    0.0268 |   0.00002   0.31557   0.95303   0.92660   0.95074   0.94055 |   0.1038   1.154e-04   0.000e+00    0.1039 | 33.9 |\n",
      "Previous best_epoch:     7   best iter:   805,   best_value: 0.94888\n",
      "New      best_epoch:    20   best iter:  2300,   best_value: 0.95303\n",
      "  21 | 1.00e-03  1.00e-03  1.00e-03  4.00e+00 |   0.0091   3.380e-04   0.000e+00    0.0094 |   0.00003   0.32305   0.94308   0.89853   0.94101   0.93644 |   0.1149   1.154e-04   0.000e+00    0.1150 | 31.8 |\n",
      "  22 | 1.00e-03  1.00e-03  1.00e-03  4.00e+00 |   0.0112   3.380e-04   0.000e+00    0.0115 |   0.00002   0.32549   0.90131   0.89479   0.88991   0.91042 |   0.1003   1.154e-04   0.000e+00    0.1005 | 31.5 |\n",
      "  23 | 1.00e-03  1.00e-03  1.00e-03  4.00e+00 |   0.0062   3.380e-04   0.000e+00    0.0066 |   0.00003   0.33733   0.94658   0.90085   0.94444   0.93760 |   0.1117   1.154e-04   0.000e+00    0.1118 | 33.7 |\n",
      "  24 | 1.00e-03  1.00e-03  1.00e-03  4.00e+00 |   0.0138   3.380e-04   0.000e+00    0.0142 |   0.00002   0.32781   0.91221   0.90498   0.89983   0.91115 |   0.1063   1.154e-04   0.000e+00    0.1064 | 31.4 |\n",
      "  25 | 1.00e-03  1.00e-03  1.00e-03  4.00e+00 |   0.0776   3.380e-04   0.000e+00    0.0779 |   0.00002   0.30632   0.90775   0.91120   0.90121   0.89959 |   0.1020   1.154e-04   0.000e+00    0.1022 | 31.4 |\n",
      " Ep  | Trunk LR  Heads LR  Polcy LR  Gmbl Tmp |  trn tsk    trn spar    trn shar   trn ttl |   logloss   bceloss  avg prec    aucroc     aucpr    f1_max |  val tsk    val spar    val shar     total | time |\n",
      "  26 | 1.00e-03  1.00e-03  1.00e-03  4.00e+00 |   0.0801   3.380e-04   0.000e+00    0.0804 |   0.00002   0.33790   0.94433   0.91061   0.94168   0.93895 |   0.1061   1.154e-04   0.000e+00    0.1062 | 30.9 |\n",
      "Epoch    26: reducing learning rate of group 0 to 3.0000e-04.\n",
      "Epoch    26: reducing learning rate of group 1 to 3.0000e-04.\n",
      "  27 | 3.00e-04  3.00e-04  1.00e-03  4.00e+00 |   0.0025   3.380e-04   0.000e+00    0.0029 |   0.00002   0.31933   0.94926   0.91335   0.94602   0.93735 |   0.1003   1.154e-04   0.000e+00    0.1004 | 30.3 |\n",
      "  28 | 3.00e-04  3.00e-04  1.00e-03  4.00e+00 |   0.0104   3.380e-04   0.000e+00    0.0108 |   0.00002   0.30317   0.95178   0.91970   0.94959   0.93999 |   0.0993   1.154e-04   0.000e+00    0.0994 | 31.8 |\n",
      "  29 | 3.00e-04  3.00e-04  1.00e-03  4.00e+00 |   0.0045   3.380e-04   0.000e+00    0.0048 |   0.00002   0.29196   0.95002   0.91498   0.94810   0.93992 |   0.0993   1.154e-04   0.000e+00    0.0994 | 30.4 |\n",
      "  30 | 3.00e-04  3.00e-04  1.00e-03  4.00e+00 |   0.0012   3.380e-04   0.000e+00    0.0016 |   0.00002   0.29160   0.95006   0.91696   0.94817   0.94012 |   0.0976   1.154e-04   0.000e+00    0.0977 | 32.1 |\n",
      "  31 | 3.00e-04  3.00e-04  1.00e-03  4.00e+00 |   0.0018   3.380e-04   0.000e+00    0.0022 |   0.00002   0.29537   0.95204   0.91787   0.94980   0.93909 |   0.0952   1.154e-04   0.000e+00    0.0954 | 29.9 |\n",
      "  32 | 3.00e-04  3.00e-04  1.00e-03  4.00e+00 |   0.0081   3.380e-04   0.000e+00    0.0085 |   0.00002   0.29961   0.94845   0.91057   0.94521   0.93897 |   0.1002   1.154e-04   0.000e+00    0.1003 | 30.9 |\n",
      "  33 | 3.00e-04  3.00e-04  1.00e-03  4.00e+00 |   0.0057   3.380e-04   0.000e+00    0.0060 |   0.00002   0.28206   0.92297   0.90909   0.90840   0.91979 |   0.1014   1.154e-04   0.000e+00    0.1015 | 30.0 |\n",
      "  34 | 3.00e-04  3.00e-04  1.00e-03  4.00e+00 |   0.0136   3.380e-04   0.000e+00    0.0140 |   0.00002   0.29684   0.92193   0.90885   0.90772   0.92250 |   0.0964   1.154e-04   0.000e+00    0.0965 | 31.6 |\n"
     ]
    },
    {
     "name": "stdout",
     "output_type": "stream",
     "text": [
      "  35 | 3.00e-04  3.00e-04  1.00e-03  4.00e+00 |   0.0025   3.380e-04   0.000e+00    0.0029 |   0.00002   0.26382   0.92591   0.91248   0.91138   0.92402 |   0.0971   1.154e-04   0.000e+00    0.0972 | 29.2 |\n",
      "  36 | 3.00e-04  3.00e-04  1.00e-03  4.00e+00 |   0.0119   3.380e-04   0.000e+00    0.0122 |   0.00002   0.30106   0.94998   0.91981   0.94832   0.93951 |   0.0951   1.154e-04   0.000e+00    0.0952 | 31.4 |\n",
      "  37 | 3.00e-04  3.00e-04  1.00e-03  4.00e+00 |   0.0012   3.380e-04   0.000e+00    0.0015 |   0.00002   0.28423   0.92723   0.91053   0.91304   0.92660 |   0.0967   1.154e-04   0.000e+00    0.0968 | 30.0 |\n",
      "Epoch    37: reducing learning rate of group 0 to 9.0000e-05.\n",
      "Epoch    37: reducing learning rate of group 1 to 9.0000e-05.\n",
      "  38 | 9.00e-05  9.00e-05  1.00e-03  4.00e+00 |   0.0012   3.380e-04   0.000e+00    0.0015 |   0.00002   0.29054   0.92659   0.91225   0.91272   0.92422 |   0.0957   1.154e-04   0.000e+00    0.0959 | 31.7 |\n",
      "  39 | 9.00e-05  9.00e-05  1.00e-03  4.00e+00 |   0.0038   3.380e-04   0.000e+00    0.0041 |   0.00002   0.28521   0.92649   0.91148   0.91261   0.92421 |   0.0982   1.154e-04   0.000e+00    0.0983 | 30.1 |\n",
      "  40 | 9.00e-05  9.00e-05  1.00e-03  4.00e+00 |   0.0068   3.380e-04   0.000e+00    0.0071 |   0.00002   0.28264   0.95002   0.90990   0.94851   0.93962 |   0.0957   1.154e-04   0.000e+00    0.0958 | 31.1 |\n",
      "  41 | 9.00e-05  9.00e-05  1.00e-03  4.00e+00 |   0.0009   3.380e-04   0.000e+00    0.0012 |   0.00002   0.28013   0.94967   0.90921   0.94815   0.93877 |   0.0995   1.154e-04   0.000e+00    0.0996 | 32.7 |\n",
      "  42 | 9.00e-05  9.00e-05  1.00e-03  4.00e+00 |   0.0121   3.380e-04   0.000e+00    0.0124 |   0.00002   0.27582   0.95073   0.91274   0.94933   0.93919 |   0.0956   1.154e-04   0.000e+00    0.0957 | 32.8 |\n",
      "  43 | 9.00e-05  9.00e-05  1.00e-03  4.00e+00 |   0.0010   3.380e-04   0.000e+00    0.0013 |   0.00002   0.27581   0.94912   0.90837   0.94745   0.94046 |   0.0943   1.154e-04   0.000e+00    0.0944 | 33.2 |\n",
      "  44 | 9.00e-05  9.00e-05  1.00e-03  4.00e+00 |   0.0093   3.380e-04   0.000e+00    0.0097 |   0.00002   0.27797   0.95181   0.91058   0.94986   0.94039 |   0.0933   1.154e-04   0.000e+00    0.0934 | 34.1 |\n"
     ]
    }
   ],
   "source": [
    "\n",
    "warmup_phase(ns,opt, environ, dldrs)\n",
    "\n",
    "print(f\"Best Epoch :       {ns.best_epoch}\\n\"\n",
    "      f\"Best Iteration :   {ns.best_iter} \\n\"\n",
    "      f\"Best Precision :   {ns.best_value:.5f}\\n\")\n",
    "print()"
   ]
  },
  {
   "cell_type": "code",
   "execution_count": 12,
   "id": "31ccb59a",
   "metadata": {
    "ExecuteTime": {
     "end_time": "2022-04-28T11:08:50.820769Z",
     "start_time": "2022-04-28T11:08:50.596110Z"
    }
   },
   "outputs": [
    {
     "name": "stdout",
     "output_type": "stream",
     "text": [
      "Best Epoch :       23\n",
      "Best Iteration :   2645 \n",
      "Best Precision :   0.94657\n",
      "\n",
      "\n",
      "{   'auc_pr': 0.9357182859417005,\n",
      "    'avg_prec_score': 0.9429960304326884,\n",
      "    'bceloss': 0.38601235412538815,\n",
      "    'f1_max': 0.9398995764862556,\n",
      "    'kappa': 0.4139156231753311,\n",
      "    'kappa_max': 0.7667071541394691,\n",
      "    'logloss': 2.1372066841553236e-05,\n",
      "    'p_f1_max': 0.73216563440525,\n",
      "    'p_kappa_max': 0.8152552059827707,\n",
      "    'roc_auc_score': 0.8845997060665461,\n",
      "    'sc_loss': 0.0030697412006750963}\n"
     ]
    }
   ],
   "source": [
    "print(f\"Best Epoch :       {ns.best_epoch}\\n\"\n",
    "      f\"Best Iteration :   {ns.best_iter} \\n\"\n",
    "      f\"Best Precision :   {ns.best_value:.5f}\\n\")\n",
    "print()\n",
    "pp.pprint(environ.val_metrics['aggregated'])"
   ]
  },
  {
   "cell_type": "code",
   "execution_count": 14,
   "id": "ca127b0f",
   "metadata": {
    "ExecuteTime": {
     "end_time": "2022-04-28T11:09:14.782725Z",
     "start_time": "2022-04-28T11:09:14.692205Z"
    }
   },
   "outputs": [],
   "source": [
    "# pp.pprint(environ.val_metrics)\n",
    "df = environ.val_metrics['task1']['classification']"
   ]
  },
  {
   "cell_type": "code",
   "execution_count": 15,
   "id": "7bb8ee94",
   "metadata": {
    "ExecuteTime": {
     "end_time": "2022-04-28T11:09:15.186827Z",
     "start_time": "2022-04-28T11:09:15.090906Z"
    }
   },
   "outputs": [
    {
     "name": "stdout",
     "output_type": "stream",
     "text": [
      "      roc_auc_score    auc_pr  avg_prec_score    f1_max  p_f1_max     kappa  kappa_max  p_kappa_max   bceloss\n",
      "task                                                                                                         \n",
      "0          0.989003  0.998409        0.998381  0.977974  0.967152  0.729923   0.843007     0.967152  0.105100\n",
      "5          0.944444  0.996995        0.997076  0.972973  0.479137 -0.055556   0.641509     0.990281  0.124514\n",
      "6          0.998358  0.999976        0.999976  0.997543  0.977779  0.797642   0.854725     0.988166  0.020145\n",
      "7          0.833333  0.850000        0.866667  0.800000  0.982072  0.000000   0.695652     0.982072  1.264657\n",
      "8          1.000000  1.000000        1.000000  1.000000  0.981241  0.000000   1.000000     0.981241  0.097502\n",
      "9          1.000000  1.000000        1.000000  1.000000  0.998768  0.660870   1.000000     0.998768  0.016954\n",
      "14         0.993333  0.999823        0.999825  0.993377  0.966154  0.000000   0.793566     0.994513  0.067134\n",
      "19         1.000000  1.000000        1.000000  1.000000  0.969449  0.000000   1.000000     0.969449  1.327189\n",
      "28         0.935354  0.998518        0.998521  0.998487  0.942702  0.797101   0.907591     0.942702  0.036515\n",
      "35         1.000000  1.000000        1.000000  1.000000  0.977073  1.000000   1.000000     0.977073  0.008292\n",
      "36         0.750000  0.766667        0.804167  0.888889  0.050305  0.222222   0.695652     0.050305  1.265901\n",
      "37         0.714286  0.904167        0.909524  0.833333  0.863824  0.347826   0.600000     0.863824  0.601074\n",
      "38         0.486486  0.985164        0.985289  0.991071  0.000622 -0.011940   0.024588     0.998934  0.204047\n",
      "41         1.000000  1.000000        1.000000  1.000000  0.998945  0.000000   1.000000     0.998945  0.061859\n",
      "43         0.453608  0.991976        0.992039  0.994872  0.995309  0.000000   0.016660     0.999837  0.089163\n",
      "44         0.995263  0.999336        0.999339  0.988506  0.499248  0.867028   0.907256     0.851551  0.060339\n",
      "46         0.750000  0.939224        0.943012  0.952381  0.992269  0.625000   0.625000     0.992269  0.566701\n",
      "48         0.890850  0.736094        0.732778  0.750000  0.617753  0.727141   0.727141     0.617753  0.197670\n",
      "51         0.000000  0.166667        0.333333  0.500000  0.974586  0.000000   0.000000     0.994366  2.679492\n",
      "52         0.769231  0.598214        0.625000  0.666667  0.878322  0.634146   0.634146     0.878322  0.332172\n",
      "54         1.000000  1.000000        1.000000  1.000000  0.991379  0.000000   1.000000     0.991379  0.010523\n",
      "55         1.000000  1.000000        1.000000  1.000000  0.171206  0.948540   1.000000     0.171206  0.053456\n",
      "59         0.750000  0.908333        0.916667  0.857143  0.995486  0.000000   0.666667     0.995486  1.709448\n",
      "61         1.000000  1.000000        1.000000  1.000000  0.963416  1.000000   1.000000     0.963416  0.022738\n",
      "62         0.923077  0.994294        0.994505  0.962963  0.935977  0.000000   0.631579     0.993360  0.238715\n",
      "64         1.000000  1.000000        1.000000  1.000000  0.289602  0.695652   1.000000     0.289602  0.148096\n",
      "70         1.000000  1.000000        1.000000  1.000000  0.206539  0.000000   1.000000     0.206539  0.099199\n",
      "72         1.000000  1.000000        1.000000  1.000000  0.933403  1.000000   1.000000     0.933403  0.016377\n",
      "73         0.934959  0.995304        0.995360  0.964706  0.114335 -0.035294   0.557789     0.902645  0.170980\n",
      "76         0.782609  0.994799        0.994873  0.989247  0.988427  0.000000   0.132841     0.996655  0.123981\n",
      "78         0.877329  0.880754        0.880057  0.800000  0.994561  0.483240   0.700162     0.994561  1.248584\n",
      "80         0.995833  0.999383        0.999390  0.987654  0.694081  0.896861   0.910506     0.860578  0.072517\n",
      "82         0.866667  0.857540        0.873413  0.923077  0.105564  0.290323   0.813559     0.105564  0.750102\n",
      "85         0.927866  0.987627        0.987652  0.976331  0.397150  0.771983   0.771983     0.598173  0.199760\n",
      "86         1.000000  1.000000        1.000000  1.000000  0.858768  1.000000   1.000000     0.858768  0.028183\n",
      "87         0.937500  0.943750        0.950000  0.888889  0.717270  0.750000   0.750000     0.811510  0.416185\n",
      "88         1.000000  1.000000        1.000000  1.000000  0.146587  0.000000   1.000000     0.146587  0.031908\n",
      "92         1.000000  1.000000        1.000000  1.000000  0.997736  0.000000   1.000000     0.997736  0.412813\n",
      "98         1.000000  1.000000        1.000000  1.000000  0.940264  1.000000   1.000000     0.940264  0.174497\n"
     ]
    }
   ],
   "source": [
    "print(df[pd.notna(df.roc_auc_score)])"
   ]
  },
  {
   "cell_type": "code",
   "execution_count": 16,
   "id": "fb489eb8",
   "metadata": {
    "ExecuteTime": {
     "end_time": "2022-04-28T11:09:44.692326Z",
     "start_time": "2022-04-28T11:09:44.611694Z"
    }
   },
   "outputs": [
    {
     "data": {
      "text/plain": [
       "roc_auc_score     0.884600\n",
       "auc_pr            0.935718\n",
       "avg_prec_score    0.942996\n",
       "f1_max            0.939900\n",
       "p_f1_max          0.732166\n",
       "kappa             0.413916\n",
       "kappa_max         0.766707\n",
       "p_kappa_max       0.815255\n",
       "bceloss           0.386012\n",
       "dtype: float64"
      ]
     },
     "execution_count": 16,
     "metadata": {},
     "output_type": "execute_result"
    }
   ],
   "source": [
    "df[pd.notna(df.roc_auc_score)].mean()"
   ]
  },
  {
   "cell_type": "code",
   "execution_count": 15,
   "id": "64ba324f",
   "metadata": {
    "ExecuteTime": {
     "end_time": "2022-04-28T10:02:21.556335Z",
     "start_time": "2022-04-28T10:02:17.852153Z"
    }
   },
   "outputs": [
    {
     "name": "stdout",
     "output_type": "stream",
     "text": [
      "\n"
     ]
    },
    {
     "data": {
      "text/html": [
       "Waiting for W&B process to finish... <strong style=\"color:green\">(success).</strong>"
      ],
      "text/plain": [
       "<IPython.core.display.HTML object>"
      ]
     },
     "metadata": {},
     "output_type": "display_data"
    },
    {
     "data": {
      "application/vnd.jupyter.widget-view+json": {
       "model_id": "47fe5ad48c834fde871744ebb56ffe7f",
       "version_major": 2,
       "version_minor": 0
      },
      "text/plain": [
       "VBox(children=(Label(value='0.126 MB of 0.126 MB uploaded (0.115 MB deduped)\\r'), FloatProgress(value=1.0, max…"
      ]
     },
     "metadata": {},
     "output_type": "display_data"
    },
    {
     "data": {
      "text/html": [
       "W&B sync reduced upload amount by 62.3%             "
      ],
      "text/plain": [
       "<IPython.core.display.HTML object>"
      ]
     },
     "metadata": {},
     "output_type": "display_data"
    },
    {
     "data": {
      "text/html": [
       "<style>\n",
       "    table.wandb td:nth-child(1) { padding: 0 10px; text-align: right }\n",
       "    .wandb-row { display: flex; flex-direction: row; flex-wrap: wrap; width: 100% }\n",
       "    .wandb-col { display: flex; flex-direction: column; flex-basis: 100%; flex: 1; padding: 10px; }\n",
       "    </style>\n",
       "<div class=\"wandb-row\"><div class=\"wandb-col\"><h3>Run history:</h3><br/><table class=\"wandb\"><tr><td>auc_pr</td><td>▁</td></tr><tr><td>avg_prec_score</td><td>▁</td></tr><tr><td>bceloss</td><td>▁</td></tr><tr><td>best_accuracy</td><td>▁</td></tr><tr><td>best_epoch</td><td>▁</td></tr><tr><td>best_iter</td><td>▁</td></tr><tr><td>epoch</td><td>▁</td></tr><tr><td>f1_max</td><td>▁</td></tr><tr><td>gumbel_temp</td><td>▁</td></tr><tr><td>kappa</td><td>▁</td></tr><tr><td>kappa_max</td><td>▁</td></tr><tr><td>lambda_sharing</td><td>▁</td></tr><tr><td>lambda_sparsity</td><td>▁</td></tr><tr><td>lambda_tasks</td><td>▁</td></tr><tr><td>logloss</td><td>▁</td></tr><tr><td>lr_0</td><td>▁</td></tr><tr><td>lr_1</td><td>▁</td></tr><tr><td>p_f1_max</td><td>▁</td></tr><tr><td>p_kappa_max</td><td>▁</td></tr><tr><td>policy</td><td>▁</td></tr><tr><td>policy_lr</td><td>▁</td></tr><tr><td>roc_auc_score</td><td>▁</td></tr><tr><td>sc_loss</td><td>▁</td></tr><tr><td>task</td><td>▁</td></tr><tr><td>task1</td><td>▁</td></tr><tr><td>total</td><td>▁</td></tr><tr><td>total_mean</td><td>▁</td></tr><tr><td>train_layers</td><td>▁</td></tr></table><br/></div><div class=\"wandb-col\"><h3>Run summary:</h3><br/><table class=\"wandb\"><tr><td>auc_pr</td><td>0.87818</td></tr><tr><td>avg_prec_score</td><td>0.89614</td></tr><tr><td>bceloss</td><td>0.31752</td></tr><tr><td>epoch</td><td>1</td></tr><tr><td>f1_max</td><td>0.91049</td></tr><tr><td>gumbel_temp</td><td>4</td></tr><tr><td>kappa</td><td>0.27412</td></tr><tr><td>kappa_max</td><td>0.72071</td></tr><tr><td>lambda_sharing</td><td>0.01</td></tr><tr><td>lambda_sparsity</td><td>0.02</td></tr><tr><td>lambda_tasks</td><td>1</td></tr><tr><td>logloss</td><td>2e-05</td></tr><tr><td>lr_0</td><td>0.001</td></tr><tr><td>lr_1</td><td>0.001</td></tr><tr><td>p_f1_max</td><td>0.70919</td></tr><tr><td>p_kappa_max</td><td>0.75108</td></tr><tr><td>policy</td><td>0.00012</td></tr><tr><td>policy_lr</td><td>0.001</td></tr><tr><td>roc_auc_score</td><td>0.85785</td></tr><tr><td>sc_loss</td><td>0.00301</td></tr><tr><td>task</td><td>0.09037</td></tr><tr><td>task1</td><td>0.00012</td></tr><tr><td>total</td><td>0.00012</td></tr><tr><td>total_mean</td><td>0.00078</td></tr><tr><td>train_layers</td><td>0</td></tr></table><br/></div></div>"
      ],
      "text/plain": [
       "<IPython.core.display.HTML object>"
      ]
     },
     "metadata": {},
     "output_type": "display_data"
    },
    {
     "data": {
      "text/html": [
       "Synced <strong style=\"color:#cdcd00\">0428_1201_skip_hdn_skip_hdn</strong>: <a href=\"http://localhost:8080/kbardool/AdaSparseChem-Mini/runs/1sjf5nq7\" target=\"_blank\">http://localhost:8080/kbardool/AdaSparseChem-Mini/runs/1sjf5nq7</a><br/>Synced 6 W&B file(s), 0 media file(s), 2 artifact file(s) and 1 other file(s)"
      ],
      "text/plain": [
       "<IPython.core.display.HTML object>"
      ]
     },
     "metadata": {},
     "output_type": "display_data"
    },
    {
     "data": {
      "text/html": [
       "Find logs at: <code>./wandb/run-20220428_120129-1sjf5nq7/logs</code>"
      ],
      "text/plain": [
       "<IPython.core.display.HTML object>"
      ]
     },
     "metadata": {},
     "output_type": "display_data"
    }
   ],
   "source": [
    "# warmup_phase(ns,opt, environ, dldrs, epochs = 25)\n",
    "ns.wandb_run.finish()\n",
    "\n",
    "# ns.wandb_run.finish()\n",
    "# environ.losses\n",
    "# environ.val_metrics"
   ]
  },
  {
   "cell_type": "code",
   "execution_count": 16,
   "id": "356f564d",
   "metadata": {
    "ExecuteTime": {
     "end_time": "2022-04-28T10:02:21.600933Z",
     "start_time": "2022-04-28T10:02:21.561452Z"
    }
   },
   "outputs": [
    {
     "data": {
      "text/plain": [
       "0"
      ]
     },
     "execution_count": 16,
     "metadata": {},
     "output_type": "execute_result"
    }
   ],
   "source": [
    "ns.check_for_improvment_wait\n",
    "ns.curriculum_epochs"
   ]
  },
  {
   "cell_type": "code",
   "execution_count": null,
   "id": "e48528a6",
   "metadata": {},
   "outputs": [],
   "source": []
  },
  {
   "cell_type": "markdown",
   "id": "6af28185",
   "metadata": {},
   "source": [
    "## Check values"
   ]
  },
  {
   "cell_type": "code",
   "execution_count": 17,
   "id": "979f94fc",
   "metadata": {
    "ExecuteTime": {
     "end_time": "2022-04-28T11:10:20.301689Z",
     "start_time": "2022-04-28T11:10:20.151621Z"
    }
   },
   "outputs": [
    {
     "name": "stdout",
     "output_type": "stream",
     "text": [
      "{   'aggregated': {   'auc_pr': 0.9357182859417005,\n",
      "                      'avg_prec_score': 0.9429960304326884,\n",
      "                      'bceloss': 0.38601235412538815,\n",
      "                      'f1_max': 0.9398995764862556,\n",
      "                      'kappa': 0.4139156231753311,\n",
      "                      'kappa_max': 0.7667071541394691,\n",
      "                      'logloss': 2.1372066841553236e-05,\n",
      "                      'p_f1_max': 0.73216563440525,\n",
      "                      'p_kappa_max': 0.8152552059827707,\n",
      "                      'roc_auc_score': 0.8845997060665461,\n",
      "                      'sc_loss': 0.0030697412006750963},\n",
      "    'epoch': 50,\n",
      "    'parms': {   'gumbel_temp': 4,\n",
      "                 'lambda_sharing': 0.01,\n",
      "                 'lambda_sparsity': 0.02,\n",
      "                 'lambda_tasks': 1,\n",
      "                 'lr_0': 8.999999999999999e-05,\n",
      "                 'lr_1': 8.999999999999999e-05,\n",
      "                 'policy_lr': 0.001,\n",
      "                 'train_layers': 0},\n",
      "    'sharing': {'total': 0.0},\n",
      "    'sparsity': {   'task1': 0.00011545682355063036,\n",
      "                    'total': 0.00011545682355063036},\n",
      "    'task': {'task1': 0.09209223602025289, 'total': 0.09209223602025289},\n",
      "    'task1': {   'classification':       roc_auc_score    auc_pr  avg_prec_score    f1_max  p_f1_max     kappa  kappa_max  p_kappa_max   bceloss\n",
      "task                                                                                                         \n",
      "0          0.989003  0.998409        0.998381  0.977974  0.967152  0.729923   0.843007     0.967152  0.105100\n",
      "1               NaN       NaN             NaN       NaN       NaN       NaN        NaN          NaN       NaN\n",
      "2               NaN       NaN             NaN       NaN       NaN       NaN        NaN          NaN       NaN\n",
      "3               NaN       NaN             NaN       NaN       NaN       NaN        NaN          NaN       NaN\n",
      "4               NaN       NaN             NaN       NaN       NaN       NaN        NaN          NaN       NaN\n",
      "...             ...       ...             ...       ...       ...       ...        ...          ...       ...\n",
      "95              NaN       NaN             NaN       NaN       NaN       NaN        NaN          NaN       NaN\n",
      "96              NaN       NaN             NaN       NaN       NaN       NaN        NaN          NaN       NaN\n",
      "97              NaN       NaN             NaN       NaN       NaN       NaN        NaN          NaN       NaN\n",
      "98         1.000000  1.000000        1.000000  1.000000  0.940264  1.000000   1.000000     0.940264  0.174497\n",
      "99              NaN       NaN             NaN       NaN       NaN       NaN        NaN          NaN       NaN\n",
      "\n",
      "[100 rows x 9 columns],\n",
      "                 'classification_agg': {   'auc_pr': 0.9357182859417005,\n",
      "                                           'avg_prec_score': 0.9429960304326884,\n",
      "                                           'bceloss': 0.38601235412538815,\n",
      "                                           'f1_max': 0.9398995764862556,\n",
      "                                           'kappa': 0.4139156231753311,\n",
      "                                           'kappa_max': 0.7667071541394691,\n",
      "                                           'logloss': 2.1372066841553236e-05,\n",
      "                                           'p_f1_max': 0.73216563440525,\n",
      "                                           'p_kappa_max': 0.8152552059827707,\n",
      "                                           'roc_auc_score': 0.8845997060665461,\n",
      "                                           'sc_loss': 0.0030697412006750963}},\n",
      "    'task_mean': {   'task1': 0.0006266143924552535,\n",
      "                     'total': 0.0006266143924552535},\n",
      "    'total': {   'policy': 0.00011545682355063036,\n",
      "                 'task': 0.09209223602025289,\n",
      "                 'total': 0.09220769284380352,\n",
      "                 'total_mean': 0.0007420712160058838},\n",
      "    'train_time': 35.518943548202515}\n"
     ]
    }
   ],
   "source": [
    "pp.pprint(environ.val_metrics)"
   ]
  },
  {
   "cell_type": "code",
   "execution_count": 16,
   "id": "c3c08a9d",
   "metadata": {
    "ExecuteTime": {
     "end_time": "2022-04-13T09:25:01.937131Z",
     "start_time": "2022-04-13T09:25:01.339079Z"
    }
   },
   "outputs": [],
   "source": [
    "# environ.display_trained_policy(ns.current_epoch,out=[sys.stdout])\n",
    "# environ.num_tasks\n",
    "# print(environ.get_policy_prob().shape)\n",
    "# print(environ.val_data['task1'].keys())\n",
    "# print(environ.val_data['task1']['yc_ind'][0][:40])\n",
    "# print(environ.val_data['task1']['yc_ind'][1][:40])\n",
    "# print(environ.val_data['task1']['yc_data'][:40])\n",
    "# print(environ.val_data['task1']['yc_hat'][:40])\n",
    "# environ.display_trained_policy(ns.current_epoch,out=[sys.stdout])\n",
    "# environ.display_trained_logits(ns.current_epoch,out=[sys.stdout])"
   ]
  },
  {
   "cell_type": "code",
   "execution_count": 17,
   "id": "5607528c",
   "metadata": {
    "ExecuteTime": {
     "end_time": "2022-04-13T09:25:02.534297Z",
     "start_time": "2022-04-13T09:25:02.503118Z"
    },
    "scrolled": false
   },
   "outputs": [
    {
     "name": "stdout",
     "output_type": "stream",
     "text": [
      "{   '_runtime': 58,\n",
      "    '_timestamp': 1649841795,\n",
      "    'aggregated': {   'auc_pr': 0.8863761813736045,\n",
      "                      'avg_prec_score': 0.9038057874228314,\n",
      "                      'bceloss': 0.5405514872601578,\n",
      "                      'f1_max': 0.9285540758241476,\n",
      "                      'kappa': 0.4061207927257367,\n",
      "                      'kappa_max': 0.7299278430897939,\n",
      "                      'logloss': 3.2356826155563767e-05,\n",
      "                      'p_f1_max': 0.6895967995007641,\n",
      "                      'p_kappa_max': 0.7860043613383403,\n",
      "                      'roc_auc_score': 0.8293258801651597,\n",
      "                      'sc_loss': 0.004647518796810809},\n",
      "    'epoch': 25,\n",
      "    'parms': {   'gumbel_temp': 4,\n",
      "                 'lambda_sharing': 0.01,\n",
      "                 'lambda_sparsity': 0.02,\n",
      "                 'lambda_tasks': 1,\n",
      "                 'lr_0': 0.001,\n",
      "                 'lr_1': 0.001,\n",
      "                 'policy_lr': 0.001,\n",
      "                 'train_layers': 0},\n",
      "    'sharing': {'total': 0.0},\n",
      "    'sparsity': {   'task1': 0.00011550190538400784,\n",
      "                    'total': 0.00011550190538400784},\n",
      "    'task': {'task1': 0.13942556390432426, 'total': 0.13942556390432426},\n",
      "    'task1': {   'classification': {   '_latest_artifact_path': 'wandb-client-artifact://3tspe211do86y85wudaihuqt2z3d0iglewjf4ip21k1ex7x0i8e83rp9yr4dlvti1j8u43044j5n0wsv1h3ewsq44bi3pknhffqqnofy825r91aztyt6yh62a3yvcj45:latest/classification.table.json',\n",
      "                                       '_type': 'table-file',\n",
      "                                       'artifact_path': 'wandb-client-artifact://1es0xgr8ujqonka73urgc0fzf1my6jqu90uby7eufopqlrpw1jxuwvbiq4l9xqwzf505r4dp9acjmid2usxnz5sdvjl00r73xp08i53apjqjxjqgz5n7p1j1ohz946lx/classification.table.json',\n",
      "                                       'ncols': 9,\n",
      "                                       'nrows': 100,\n",
      "                                       'path': 'media/table/classification_29_291c259255eb9ad8933a.table.json',\n",
      "                                       'sha256': '291c259255eb9ad8933a5b327da7fefe5e0f0e4d63d829b94361a125fa578397',\n",
      "                                       'size': 8841},\n",
      "                 'classification_agg': {   'auc_pr': 0.8863761813736045,\n",
      "                                           'avg_prec_score': 0.9038057874228314,\n",
      "                                           'bceloss': 0.5405514872601578,\n",
      "                                           'f1_max': 0.9285540758241476,\n",
      "                                           'kappa': 0.4061207927257367,\n",
      "                                           'kappa_max': 0.7299278430897939,\n",
      "                                           'logloss': 3.2356826155563767e-05,\n",
      "                                           'p_f1_max': 0.6895967995007641,\n",
      "                                           'p_kappa_max': 0.7860043613383403,\n",
      "                                           'roc_auc_score': 0.8293258801651597,\n",
      "                                           'sc_loss': 0.004647518796810809}},\n",
      "    'task_mean': {   'task1': 0.0011552470713187414,\n",
      "                     'total': 0.0011552470713187414},\n",
      "    'total': {   'policy': 0.00011550190538400784,\n",
      "                 'task': 0.13942556390432426,\n",
      "                 'total': 0.13954106580970826,\n",
      "                 'total_mean': 0.0012707489767027492},\n",
      "    'train_time': 1.9346582889556885}\n"
     ]
    }
   ],
   "source": [
    "# pp.pprint(environ.val_metrics['task1'])\n",
    "pp.pprint(environ.val_metrics)\n",
    "# pp.pprint(ns.val_metrics)\n",
    "# print((environ.val_data['task1']['yc_data']).sum())\n",
    "# print(len(environ.val_data['task1']['yc_ind'][1]))\n",
    "# print(len(environ.val_data['task1']['yc_data']))\n",
    "# print(len(environ.val_data['task1']['yc_hat']))"
   ]
  },
  {
   "cell_type": "code",
   "execution_count": 16,
   "id": "e18351b0",
   "metadata": {
    "ExecuteTime": {
     "end_time": "2022-04-13T09:12:32.452187Z",
     "start_time": "2022-04-13T09:12:32.420905Z"
    }
   },
   "outputs": [
    {
     "data": {
      "text/plain": [
       "dict"
      ]
     },
     "execution_count": 16,
     "metadata": {},
     "output_type": "execute_result"
    }
   ],
   "source": [
    "type(ns.val_metrics['aggregated'])"
   ]
  },
  {
   "cell_type": "code",
   "execution_count": 23,
   "id": "bf831931",
   "metadata": {
    "ExecuteTime": {
     "end_time": "2022-04-13T08:47:30.057623Z",
     "start_time": "2022-04-13T08:47:29.588103Z"
    }
   },
   "outputs": [
    {
     "name": "stdout",
     "output_type": "stream",
     "text": [
      "{   '_runtime': 344,\n",
      "    '_timestamp': 1649839198,\n",
      "    'parms': {   'gumbel_temp': 4,\n",
      "                 'lambda_sharing': 0.01,\n",
      "                 'lambda_sparsity': 0.02,\n",
      "                 'lambda_tasks': 1,\n",
      "                 'lr_0': 7.289999999999998e-07,\n",
      "                 'lr_1': 7.289999999999998e-07,\n",
      "                 'policy_lr': 0.001,\n",
      "                 'train_layers': 0},\n",
      "    'sharing': {'total': tensor(0.)},\n",
      "    'sparsity': {'task1': tensor(0.000338), 'total': tensor(0.000338)},\n",
      "    'task': {   'task1': tensor(0.000160, dtype=torch.float64, grad_fn=<DivBackward0>),\n",
      "                'total': tensor(0.000160, dtype=torch.float64, grad_fn=<MulBackward0>)},\n",
      "    'task_mean': {   'task1': tensor(3.338073e-06, dtype=torch.float64, grad_fn=<DivBackward0>),\n",
      "                     'total': tensor(3.338073e-06, dtype=torch.float64, grad_fn=<MulBackward0>)},\n",
      "    'total': {   'backprop': tensor(0.000160, dtype=torch.float64, grad_fn=<MulBackward0>),\n",
      "                 'policy': tensor(0.000338),\n",
      "                 'task': 0.0,\n",
      "                 'tasks': tensor(0.000160, dtype=torch.float64, grad_fn=<MulBackward0>),\n",
      "                 'total': tensor(0.000498, dtype=torch.float64, grad_fn=<AddBackward0>),\n",
      "                 'total_mean': tensor(0.000341, dtype=torch.float64, grad_fn=<AddBackward0>)}}\n"
     ]
    }
   ],
   "source": [
    "pp.pprint(ns.trn_losses)"
   ]
  },
  {
   "cell_type": "code",
   "execution_count": null,
   "id": "12a2ec95",
   "metadata": {
    "ExecuteTime": {
     "end_time": "2022-04-02T13:31:55.581510Z",
     "start_time": "2022-04-02T13:31:55.526855Z"
    }
   },
   "outputs": [],
   "source": [
    "(environ.val_data['task1']['yc_data'][0] == environ.val_data['task1']['yc_data']).all()"
   ]
  },
  {
   "cell_type": "code",
   "execution_count": null,
   "id": "b9d58803",
   "metadata": {
    "ExecuteTime": {
     "end_time": "2022-04-02T14:20:55.327255Z",
     "start_time": "2022-04-02T14:20:55.026238Z"
    }
   },
   "outputs": [],
   "source": [
    "from utils.sparsechem_utils import compute_metrics, aggregate_results\n",
    "import pandas\n",
    "cc = compute_metrics(cols   = environ.val_data['task1']['yc_ind'][1], \n",
    "                     y_true = environ.val_data['task1']['yc_data'], \n",
    "                     y_score= environ.val_data['task1']['yc_hat'] ,\n",
    "                     num_tasks=100)\n"
   ]
  },
  {
   "cell_type": "code",
   "execution_count": null,
   "id": "737de288",
   "metadata": {
    "ExecuteTime": {
     "end_time": "2022-04-02T13:34:57.196163Z",
     "start_time": "2022-04-02T13:34:57.130013Z"
    }
   },
   "outputs": [],
   "source": [
    " df   = pd.DataFrame({\"task\"   : environ.val_data['task1']['yc_ind'][1], \n",
    "                      \"y_true\" : environ.val_data['task1']['yc_data'],  \n",
    "                      \"y_score\": environ.val_data['task1']['yc_hat']})"
   ]
  },
  {
   "cell_type": "code",
   "execution_count": null,
   "id": "a572ba33",
   "metadata": {
    "ExecuteTime": {
     "end_time": "2022-04-02T13:44:52.754320Z",
     "start_time": "2022-04-02T13:44:52.611945Z"
    }
   },
   "outputs": [],
   "source": [
    "for task, frame in df.groupby(\"task\", sort=True):\n",
    "    print(f\" task {task}\")\n",
    "    print(frame.head(10))"
   ]
  },
  {
   "cell_type": "code",
   "execution_count": null,
   "id": "6b0cf934",
   "metadata": {
    "ExecuteTime": {
     "end_time": "2022-04-02T13:46:29.715440Z",
     "start_time": "2022-04-02T13:46:29.640674Z"
    }
   },
   "outputs": [],
   "source": [
    "# df\n",
    "df.groupby(\"task\", sort=True).count()"
   ]
  },
  {
   "cell_type": "code",
   "execution_count": null,
   "id": "10f526f7",
   "metadata": {
    "ExecuteTime": {
     "end_time": "2022-04-02T13:57:12.585754Z",
     "start_time": "2022-04-02T13:57:12.502583Z"
    },
    "scrolled": true
   },
   "outputs": [],
   "source": [
    "cc"
   ]
  },
  {
   "cell_type": "code",
   "execution_count": null,
   "id": "63bb8f8d",
   "metadata": {
    "ExecuteTime": {
     "end_time": "2022-04-02T14:26:58.189057Z",
     "start_time": "2022-04-02T14:26:58.126134Z"
    }
   },
   "outputs": [],
   "source": [
    "print(environ.batch_data['task1']['yc_aggr_weights'])\n",
    "environ.batch['task1']['aggr_weights']"
   ]
  },
  {
   "cell_type": "code",
   "execution_count": null,
   "id": "acfdf55d",
   "metadata": {},
   "outputs": [],
   "source": [
    "c2 = aggregate_results(cc)"
   ]
  },
  {
   "cell_type": "code",
   "execution_count": null,
   "id": "f2e9e723",
   "metadata": {
    "ExecuteTime": {
     "end_time": "2022-04-02T17:11:11.578048Z",
     "start_time": "2022-04-02T17:11:11.535763Z"
    }
   },
   "outputs": [],
   "source": [
    "dldrs.trainset0.tasks_weights_list"
   ]
  },
  {
   "cell_type": "markdown",
   "id": "04d238e8",
   "metadata": {},
   "source": [
    "#### display parms"
   ]
  },
  {
   "cell_type": "code",
   "execution_count": null,
   "id": "e22e75ab",
   "metadata": {
    "ExecuteTime": {
     "end_time": "2022-03-28T04:02:47.732297Z",
     "start_time": "2022-03-28T04:02:47.639607Z"
    }
   },
   "outputs": [],
   "source": [
    "print( f\" Backbone Initial LR         : {environ.opt['train']['backbone_lr']:4f}      current LR : {environ.optimizers['alphas'].param_groups[0]['lr']} \\n\"\n",
    "       f\" Tasks    Initial LR         : {environ.opt['train']['task_lr']:4f}      current LR : {environ.optimizers['weights'].param_groups[0]['lr']}    \\n\"\n",
    "       f\" Policy   Initial LR         : {environ.opt['train']['policy_lr']:4f}      current LR : {environ.optimizers['weights'].param_groups[1]['lr']}  \\n\")\n",
    "print( f\" Sparsity regularization     : {environ.opt['train']['lambda_sparsity']}\\n\"\n",
    "       f\" Sharing  regularization     : {environ.opt['train']['lambda_sharing']} \\n\\n\"\n",
    "       f\" Tasks    regularization     : {environ.opt['train']['lambda_tasks']}   \\n\"\n",
    "       f\" Gumbel Temp                 : {environ.gumbel_temperature:.4f}         \\n\" #\n",
    "       f\" Gumbel Temp decay           : {environ.opt['train']['decay_temp_freq']}\") #"
   ]
  },
  {
   "cell_type": "code",
   "execution_count": null,
   "id": "c2db34fc",
   "metadata": {
    "ExecuteTime": {
     "end_time": "2022-03-28T04:02:47.803657Z",
     "start_time": "2022-03-28T04:02:47.736497Z"
    }
   },
   "outputs": [],
   "source": [
    "\n",
    "# environ.opt['train']['policy_lr'] = 0.01\n",
    "# opt['train']['policy_lr']         = 0.01\n",
    "# environ.opt['train']['lambda_sparsity'] = 0.1\n",
    "# environ.opt['train']['lambda_sharing']  = 0.01\n",
    "# environ.opt['train']['lambda_tasks']    = 1.0\n",
    "# environ.opt['train']['decay_temp_freq'] = 2\n",
    "# print(environ.optimizers['alphas'].param_groups)\n",
    "# print(environ.optimizers['weights'].param_groups)\n",
    "# print('current lr: ', environ.optimizers['alphas'].param_groups[0]['lr'],)\n",
    "# print('current lr: ', environ.optimizers['weights'].param_groups[0]['lr'])\n",
    "# print('current lr: ', environ.optimizers['weights'].param_groups[1]['lr'])"
   ]
  },
  {
   "cell_type": "markdown",
   "id": "eb49645c",
   "metadata": {
    "heading_collapsed": true
   },
   "source": [
    "## Weight & Policy Training"
   ]
  },
  {
   "cell_type": "markdown",
   "id": "c6aade16",
   "metadata": {
    "hidden": true
   },
   "source": [
    "### Weight/Policy Training Preparation"
   ]
  },
  {
   "cell_type": "code",
   "execution_count": null,
   "id": "5fe24a1f",
   "metadata": {
    "ExecuteTime": {
     "end_time": "2022-03-28T04:02:47.867009Z",
     "start_time": "2022-03-28T04:02:47.807720Z"
    },
    "hidden": true
   },
   "outputs": [],
   "source": [
    "# ns.flag_warmup = True\n",
    "# num_train_layers = None \n",
    "# environ.opt['is_curriculum'] = True\n",
    "# environ.opt['curriculum_speed'] = 4\n",
    "# ns.num_train_layers = None"
   ]
  },
  {
   "cell_type": "code",
   "execution_count": null,
   "id": "365996be",
   "metadata": {
    "ExecuteTime": {
     "end_time": "2022-03-28T04:02:47.944530Z",
     "start_time": "2022-03-28T04:02:47.871259Z"
    },
    "hidden": true
   },
   "outputs": [],
   "source": [
    "if ns.flag_warmup:\n",
    "    print_heading( f\"** {timestring()} \\n\"\n",
    "                   f\"** Training epoch: {ns.current_epoch} iter: {ns.current_iter}   flag: {ns.flag} \\n\"\n",
    "                   f\"** Set optimizer and scheduler to policy_learning = True (Switch weight optimizer from ADAM to SGD)\\n\"\n",
    "                   f\"** Switch from Warm Up training to Alternate training Weights & Policy \\n\"\n",
    "                   f\"** Take checkpoint and block gradient flow through Policy net\", verbose=True)\n",
    "#     environ.define_optimizer(policy_learning=True)\n",
    "#     environ.define_scheduler(policy_learning=True)\n",
    "    ns.flag_warmup = False\n",
    "    ns.flag = 'update_weights'\n",
    "    environ.fix_alpha()\n",
    "    environ.free_weights(opt['fix_BN'])"
   ]
  },
  {
   "cell_type": "code",
   "execution_count": null,
   "id": "0bc79e10",
   "metadata": {
    "ExecuteTime": {
     "end_time": "2022-03-28T04:02:48.024063Z",
     "start_time": "2022-03-28T04:02:47.950823Z"
    },
    "hidden": true
   },
   "outputs": [],
   "source": [
    "# ns.training_epochs = 250\n",
    "# environ.display_trained_policy(ns.current_epoch)\n",
    "# environ.display_trained_logits(ns.current_epoch)"
   ]
  },
  {
   "cell_type": "code",
   "execution_count": null,
   "id": "753d84a8",
   "metadata": {
    "ExecuteTime": {
     "end_time": "2022-03-28T04:02:48.115175Z",
     "start_time": "2022-03-28T04:02:48.028324Z"
    },
    "hidden": true
   },
   "outputs": [],
   "source": [
    "print(f\"ns.current_epoch           : {ns.current_epoch}\")\n",
    "print(f\"ns.training_epochs         : {ns.training_epochs} \\n\") \n",
    "print(f\"ns.current_iters           : {ns.current_iter}\")  \n",
    "print(f\"Batches in weight epoch    : {ns.stop_iter_w}\")\n",
    "print(f\"Batches in policy epoch    : {ns.stop_iter_a}\")\n",
    "print(f\"num_train_layers           : {ns.num_train_layers}\")\n",
    "print()\n",
    "print_loss(environ.val_metrics, title = f\"[e] Last ep:{ns.current_epoch}  it:{ns.current_iter}\")\n",
    "print()\n",
    "\n",
    "print_heading(f\" Last Epoch Completed : {ns.current_epoch}       # of epochs to run:  {ns.training_epochs} -->  epochs {ns.current_epoch+1} to {ns.training_epochs + ns.current_epoch}\"\n",
    "              f\"\\n policy_learning rate : {environ.opt['train']['policy_lr']} \"\n",
    "              f\"\\n lambda_sparsity      : {environ.opt['train']['lambda_sparsity']}\"\n",
    "              f\"\\n lambda_sharing       : {environ.opt['train']['lambda_sharing']}\"\n",
    "              f\"\\n curriculum training  : {opt['is_curriculum']}     cirriculum speed: {opt['curriculum_speed']}     num_training_layers : {ns.num_train_layers}\", \n",
    "              verbose = True)"
   ]
  },
  {
   "cell_type": "markdown",
   "id": "561c71af",
   "metadata": {
    "hidden": true
   },
   "source": [
    "### Weight/Policy Training"
   ]
  },
  {
   "cell_type": "code",
   "execution_count": null,
   "id": "d10ad7d8",
   "metadata": {
    "ExecuteTime": {
     "end_time": "2022-03-28T05:13:27.891351Z",
     "start_time": "2022-03-28T04:02:48.119371Z"
    },
    "hidden": true,
    "scrolled": true
   },
   "outputs": [],
   "source": [
    "# weight_policy_training(ns, opt, environ, dldrs, epochs = 100)\n",
    "weight_policy_training(ns, opt, environ, dldrs)"
   ]
  },
  {
   "cell_type": "code",
   "execution_count": null,
   "id": "27779c17",
   "metadata": {
    "ExecuteTime": {
     "end_time": "2022-03-28T05:13:28.065212Z",
     "start_time": "2022-03-28T05:13:27.897193Z"
    },
    "hidden": true
   },
   "outputs": [],
   "source": [
    "ns.best_epoch, ns.best_iter, ns.best_value"
   ]
  },
  {
   "cell_type": "code",
   "execution_count": null,
   "id": "1d3dcb54",
   "metadata": {
    "hidden": true
   },
   "outputs": [],
   "source": []
  },
  {
   "cell_type": "markdown",
   "id": "b3e42e43",
   "metadata": {
    "heading_collapsed": true,
    "hidden": true
   },
   "source": [
    "### Close WandB run"
   ]
  },
  {
   "cell_type": "code",
   "execution_count": null,
   "id": "1f6b31da",
   "metadata": {
    "ExecuteTime": {
     "end_time": "2022-03-28T05:13:32.216421Z",
     "start_time": "2022-03-28T05:13:28.068834Z"
    },
    "hidden": true
   },
   "outputs": [],
   "source": [
    "wandb.finish()"
   ]
  },
  {
   "cell_type": "code",
   "execution_count": null,
   "id": "ab259da4",
   "metadata": {
    "ExecuteTime": {
     "end_time": "2022-03-28T05:13:32.253924Z",
     "start_time": "2022-03-28T05:13:32.221329Z"
    },
    "hidden": true
   },
   "outputs": [],
   "source": [
    "# ns.best_epoch = 0\n",
    "# from utils.notebook_modules import wrapup_phase\n",
    "# wrapup_phase(ns, opt, environ)"
   ]
  },
  {
   "cell_type": "code",
   "execution_count": null,
   "id": "ceb718c2",
   "metadata": {
    "ExecuteTime": {
     "end_time": "2022-03-28T05:13:32.307351Z",
     "start_time": "2022-03-28T05:13:32.262822Z"
    },
    "hidden": true
   },
   "outputs": [],
   "source": [
    "# environ.opt['train']['policy_lr']       = 0.002\n",
    "# environ.opt['train']['lambda_sparsity'] = 0.05\n",
    "# environ.opt['train']['lambda_sharing']  = 0.01\n",
    "# environ.opt['train']['lambda_tasks']    = 1.0\n",
    "# # environ.opt['train']['decay_temp_freq'] = 2"
   ]
  },
  {
   "cell_type": "code",
   "execution_count": null,
   "id": "8accefdf",
   "metadata": {
    "ExecuteTime": {
     "end_time": "2022-03-28T05:13:32.344678Z",
     "start_time": "2022-03-28T05:13:32.310706Z"
    },
    "hidden": true
   },
   "outputs": [],
   "source": [
    "print( f\" Backbone Learning Rate      : {environ.opt['train']['backbone_lr']}\\n\"\n",
    "       f\" Tasks    Learning Rate      : {environ.opt['train']['task_lr']}\\n\"\n",
    "       f\" Policy   Learning Rate      : {environ.opt['train']['policy_lr']}\\n\")\n",
    "\n",
    "print( f\" Sparsity regularization     : {environ.opt['train']['lambda_sparsity']}\\n\"\n",
    "       f\" Sharing  regularization     : {environ.opt['train']['lambda_sharing']} \\n\\n\"\n",
    "       f\" Tasks    regularization     : {environ.opt['train']['lambda_tasks']}   \\n\"\n",
    "       f\" Gumbel Temp                 : {environ.gumbel_temperature:.4f}         \\n\" \n",
    "       f\" Gumbel Temp decay           : {environ.opt['train']['decay_temp_freq']}\\n\") \n",
    "\n",
    "print( f\" current_iters               : {ns.current_iter}   \\n\"\n",
    "       f\" current_epochs              : {ns.current_epoch}  \\n\" \n",
    "       f\" train_total_epochs          : {ns.training_epochs}\\n\" \n",
    "       f\" stop_epoch_training         : {ns.stop_epoch_training}\")"
   ]
  },
  {
   "cell_type": "markdown",
   "id": "86ac6b6a",
   "metadata": {},
   "source": [
    "## Post Training Stuff"
   ]
  },
  {
   "cell_type": "code",
   "execution_count": null,
   "id": "04de4040",
   "metadata": {
    "ExecuteTime": {
     "end_time": "2022-04-05T16:19:42.220730Z",
     "start_time": "2022-04-05T16:19:41.747365Z"
    }
   },
   "outputs": [],
   "source": [
    "pp.pprint(environ.losses)\n",
    "# pp.pprint(environ.val_metrics)\n",
    "# environ.num_layers, environ.networks['mtl-net'].num_layers\n",
    "# environ.batch"
   ]
  },
  {
   "cell_type": "code",
   "execution_count": null,
   "id": "db4ca92e",
   "metadata": {
    "ExecuteTime": {
     "end_time": "2022-04-05T16:22:55.037557Z",
     "start_time": "2022-04-05T16:22:54.888980Z"
    }
   },
   "outputs": [],
   "source": [
    "pp.pprint(environ.val_metrics)"
   ]
  },
  {
   "cell_type": "code",
   "execution_count": null,
   "id": "336e5cec",
   "metadata": {
    "ExecuteTime": {
     "end_time": "2022-02-21T17:44:36.218784Z",
     "start_time": "2022-02-21T17:44:36.063411Z"
    }
   },
   "outputs": [],
   "source": [
    "# print_loss(environ.val_metrics, title = f\"[Final] ep:{current_epoch}  it:{current_iter}\",)\n",
    "# environ.display_trained_policy(current_epoch)\n",
    "# environ.display_trained_logits(current_epoch)\n",
    "# environ.log_file.flush()"
   ]
  },
  {
   "cell_type": "code",
   "execution_count": null,
   "id": "083c1c8e",
   "metadata": {
    "ExecuteTime": {
     "end_time": "2022-03-06T00:32:52.580865Z",
     "start_time": "2022-03-06T00:32:52.554112Z"
    },
    "scrolled": true
   },
   "outputs": [],
   "source": [
    "# model_label   = 'model_train_ep_%d_seed_%04d' % (current_epoch, opt['random_seed'])\n",
    "# metrics_label = 'metrics_train_ep_%d_seed_%04d.pickle' % (current_epoch, opt['random_seed'])\n",
    "# environ.save_checkpoint(model_label, current_iter, current_epoch) \n",
    "# save_to_pickle(environ.val_metrics, environ.opt['paths']['checkpoint_dir'], metrics_label)\n",
    "# print_loss(environ.val_metrics, title = f\"[Final] ep:{current_epoch}  it:{current_iter}\",)\n",
    "# environ.display_trained_policy(current_epoch,out=[sys.stdout, environ.log_file])\n",
    "# environ.display_trained_logits(current_epoch)\n",
    "# environ.log_file.flush()"
   ]
  },
  {
   "cell_type": "code",
   "execution_count": null,
   "id": "5dad3a6e",
   "metadata": {
    "ExecuteTime": {
     "end_time": "2022-02-20T22:48:27.014120Z",
     "start_time": "2022-02-20T22:48:26.982535Z"
    }
   },
   "outputs": [],
   "source": [
    "# print_loss(current_iter, environ.losses, title = f\"[e] Policy training epoch:{current_epoch}    iter:\")\n",
    "# print()\n",
    "# print_loss(current_iter, trn_losses, title = f\"[e] Policy training epoch:{current_epoch}    iter:\")\n",
    "# print()\n",
    "# print_loss(current_iter, environ.val_metrics, title = f\"[e] Policy training epoch:{current_epoch}    iter:\")"
   ]
  },
  {
   "cell_type": "code",
   "execution_count": null,
   "id": "464d5db8",
   "metadata": {
    "ExecuteTime": {
     "end_time": "2022-03-01T20:31:45.254334Z",
     "start_time": "2022-03-01T20:31:45.116895Z"
    }
   },
   "outputs": [],
   "source": [
    "# environ.losses\n",
    "# environ.val_metrics"
   ]
  },
  {
   "cell_type": "code",
   "execution_count": null,
   "id": "59c4dd81",
   "metadata": {
    "ExecuteTime": {
     "end_time": "2022-03-01T20:47:29.582501Z",
     "start_time": "2022-03-01T20:47:29.492581Z"
    }
   },
   "outputs": [],
   "source": [
    "# environ.batch_data\n",
    "# print_metrics_cr(current_epoch, time.time() - start_time, trn_losses, environ.val_metrics, 0, out=[sys.stdout])\n",
    "# environ.display_parameters()\n",
    "\n",
    "# with np.printoptions(edgeitems=3, infstr='inf', linewidth=150, nanstr='nan', precision=7, formatter={'float': lambda x: f\"{x:12.5e}\"}):\n",
    "#     environ.print_logit_grads('gradients')\n",
    "\n",
    "# environ_params = environ.get_task_specific_parameters()\n",
    "# environ_params = environ.get_arch_parameters()\n",
    "# environ_params = environ.get_backbone_parameters()\n",
    "# print(environ_params)\n",
    "# for param in environ_params:\n",
    "#     print(param.grad.shape, '\\n', param.grad)\n",
    "#     print(param)"
   ]
  },
  {
   "cell_type": "code",
   "execution_count": null,
   "id": "49c80c9b",
   "metadata": {
    "ExecuteTime": {
     "end_time": "2022-03-11T21:12:46.806056Z",
     "start_time": "2022-03-11T21:12:46.471801Z"
    }
   },
   "outputs": [],
   "source": [
    "# environ.display_trained_logits(ns.current_epoch)\n",
    "# environ.display_trained_policy(ns.current_epoch)\n",
    "\n",
    "# environ.display_test_sample_policy(ns.current_epoch, hard_sampling = True)\n",
    "# environ.display_train_sample_policy(ns.current_epoch, hard_sampling = True)"
   ]
  },
  {
   "cell_type": "code",
   "execution_count": null,
   "id": "8754b317",
   "metadata": {
    "ExecuteTime": {
     "end_time": "2022-03-06T00:33:19.474125Z",
     "start_time": "2022-03-06T00:33:19.447847Z"
    }
   },
   "outputs": [],
   "source": [
    "# environ.define_optimizer(policy_learning=True)"
   ]
  },
  {
   "cell_type": "code",
   "execution_count": null,
   "id": "e7e89541",
   "metadata": {
    "ExecuteTime": {
     "end_time": "2022-04-02T18:04:00.517922Z",
     "start_time": "2022-04-02T18:04:00.442149Z"
    }
   },
   "outputs": [],
   "source": [
    "# print(environ.optimizers['alphas'])\n",
    "# print(environ.optimizers['weights'])"
   ]
  },
  {
   "cell_type": "code",
   "execution_count": null,
   "id": "d1ecc91e",
   "metadata": {
    "ExecuteTime": {
     "end_time": "2022-03-09T00:07:50.026992Z",
     "start_time": "2022-03-09T00:07:49.986101Z"
    },
    "scrolled": true
   },
   "outputs": [],
   "source": [
    "# print('Policy  initial_lr : ', environ.optimizers['alphas'].param_groups[0]['initial_lr'], 'lr : ',environ.optimizers['alphas'].param_groups[0]['lr'])\n",
    "# print('Weights initial_lr : ', environ.optimizers['weights'].param_groups[0]['initial_lr'], 'lr : ',environ.optimizers['weights'].param_groups[0]['lr'])\n",
    "# print('Weights initial_lr : ', environ.optimizers['weights'].param_groups[1]['initial_lr'], 'lr : ',environ.optimizers['weights'].param_groups[1]['lr'])"
   ]
  },
  {
   "cell_type": "code",
   "execution_count": null,
   "id": "a1306e8c",
   "metadata": {
    "ExecuteTime": {
     "end_time": "2022-03-10T22:31:50.425696Z",
     "start_time": "2022-03-10T22:31:50.396531Z"
    }
   },
   "outputs": [],
   "source": [
    "wandb.run is None"
   ]
  },
  {
   "cell_type": "code",
   "execution_count": null,
   "id": "1b6b8e99",
   "metadata": {
    "ExecuteTime": {
     "end_time": "2022-03-05T23:10:03.751132Z",
     "start_time": "2022-03-05T23:10:03.724538Z"
    },
    "execution": {
     "iopub.execute_input": "2022-01-07T22:44:13.145647Z",
     "iopub.status.busy": "2022-01-07T22:44:13.145313Z",
     "iopub.status.idle": "2022-01-07T22:44:13.193262Z",
     "shell.execute_reply": "2022-01-07T22:44:13.192140Z",
     "shell.execute_reply.started": "2022-01-07T22:44:13.145622Z"
    }
   },
   "outputs": [],
   "source": [
    "# opt['exp_instance'] = '0218_1358'     \n",
    "# folder_name=  f\"{opt['exp_instance']}_bs{opt['train']['batch_size']:03d}_{opt['train']['decay_lr_rate']:3.2f}_{opt['train']['decay_lr_freq']}\"\n",
    "# print()\n",
    "# opt['exp_instance'] = datetime.now().strftime(\"%m%d_%H%M\")\n",
    "# opt['exp_description'] = f\"No Alternating Weight/Policy - training all done with both weights and policy\"\n",
    "# folder_name=  f\"{opt['exp_instance']}_bs{opt['train']['batch_size']:03d}_{opt['train']['decay_lr_rate']:3.2f}_{opt['train']['decay_lr_freq']}\""
   ]
  },
  {
   "cell_type": "code",
   "execution_count": null,
   "id": "d2affee1",
   "metadata": {
    "ExecuteTime": {
     "end_time": "2022-03-11T21:12:20.322227Z",
     "start_time": "2022-03-11T21:12:20.285961Z"
    }
   },
   "outputs": [],
   "source": [
    "# wandb.finish()"
   ]
  },
  {
   "cell_type": "code",
   "execution_count": 6,
   "id": "2527bd00",
   "metadata": {
    "ExecuteTime": {
     "end_time": "2022-04-30T10:48:54.253046Z",
     "start_time": "2022-04-30T10:48:54.143506Z"
    }
   },
   "outputs": [
    {
     "name": "stdout",
     "output_type": "stream",
     "text": [
      "(18388, 85277) (18388,)\n"
     ]
    }
   ],
   "source": [
    "from utils import load_sparse\n",
    "ecfp     = load_sparse(opt['dataload']['dataroot'], opt['dataload']['x'])\n",
    "folding  = np.load(os.path.join(opt['dataload']['dataroot'], opt['dataload']['folding']))\n",
    "\n",
    "print(ecfp.shape, folding.shape)\n",
    "\n",
    "fold_va = opt['dataload']['fold_va']\n",
    "idx_tr  = np.where(folding != fold_va)[0]\n",
    "idx_va  = np.where(folding == fold_va)[0]"
   ]
  },
  {
   "cell_type": "code",
   "execution_count": 9,
   "id": "ecf7ff4a",
   "metadata": {
    "ExecuteTime": {
     "end_time": "2022-04-30T10:49:49.952523Z",
     "start_time": "2022-04-30T10:49:49.884332Z"
    }
   },
   "outputs": [
    {
     "data": {
      "text/plain": [
       "array([4, 0, 0, 3, 1, 2, 4, 0, 1, 0, 4, 2, 4, 3, 0, 0, 2, 4, 0, 4, 2, 1, 3, 3, 3, 3, 3, 3, 3, 3, 3, 4, 4, 4, 4, 0, 0, 1, 1, 1, 1, 4, 4, 4, 4, 4, 4,\n",
       "       4, 4, 0])"
      ]
     },
     "execution_count": 9,
     "metadata": {},
     "output_type": "execute_result"
    }
   ],
   "source": [
    "folding[:50]"
   ]
  },
  {
   "cell_type": "code",
   "execution_count": 10,
   "id": "919068f7",
   "metadata": {
    "ExecuteTime": {
     "end_time": "2022-04-30T10:49:50.748013Z",
     "start_time": "2022-04-30T10:49:50.690335Z"
    }
   },
   "outputs": [
    {
     "data": {
      "text/plain": [
       "array([ 0,  3,  4,  5,  6,  8, 10, 11, 12, 13, 16, 17, 19, 20, 21, 22, 23, 24, 25, 26])"
      ]
     },
     "execution_count": 10,
     "metadata": {},
     "output_type": "execute_result"
    }
   ],
   "source": [
    "idx_tr[:20]"
   ]
  },
  {
   "cell_type": "code",
   "execution_count": 11,
   "id": "ef20ed3a",
   "metadata": {
    "ExecuteTime": {
     "end_time": "2022-04-30T10:49:52.175438Z",
     "start_time": "2022-04-30T10:49:52.104968Z"
    }
   },
   "outputs": [],
   "source": [
    "idx_tr2 = np.isin(folding, [1,2,3,4])"
   ]
  },
  {
   "cell_type": "code",
   "execution_count": 12,
   "id": "92e8cac9",
   "metadata": {
    "ExecuteTime": {
     "end_time": "2022-04-30T10:49:53.568860Z",
     "start_time": "2022-04-30T10:49:53.502351Z"
    }
   },
   "outputs": [
    {
     "data": {
      "text/plain": [
       "array([ True, False, False,  True,  True,  True,  True, False,  True, False,  True,  True,  True,  True, False, False,  True,  True, False,  True])"
      ]
     },
     "execution_count": 12,
     "metadata": {},
     "output_type": "execute_result"
    }
   ],
   "source": [
    "idx_tr2[:20]"
   ]
  },
  {
   "cell_type": "code",
   "execution_count": 15,
   "id": "76dafb74",
   "metadata": {
    "ExecuteTime": {
     "end_time": "2022-04-30T10:51:34.176972Z",
     "start_time": "2022-04-30T10:51:34.093419Z"
    }
   },
   "outputs": [],
   "source": [
    "ecfp_tr = ecfp[idx_tr]\n",
    "ecfp_tr2 = ecfp[idx_tr2]"
   ]
  },
  {
   "cell_type": "code",
   "execution_count": 19,
   "id": "938b1f7c",
   "metadata": {
    "ExecuteTime": {
     "end_time": "2022-04-30T10:51:48.263281Z",
     "start_time": "2022-04-30T10:51:48.191211Z"
    }
   },
   "outputs": [
    {
     "data": {
      "text/plain": [
       "(14633, 85277)"
      ]
     },
     "execution_count": 19,
     "metadata": {},
     "output_type": "execute_result"
    }
   ],
   "source": [
    "ecfp_tr2.shape"
   ]
  },
  {
   "cell_type": "code",
   "execution_count": 42,
   "id": "dcde09b0",
   "metadata": {
    "ExecuteTime": {
     "end_time": "2022-04-30T11:07:11.516007Z",
     "start_time": "2022-04-30T11:07:11.441791Z"
    }
   },
   "outputs": [
    {
     "name": "stdout",
     "output_type": "stream",
     "text": [
      "(14633, 85277)\n",
      "0\n"
     ]
    }
   ],
   "source": [
    "res = (ecfp_tr != ecfp_tr2)\n",
    "print(res.shape)\n",
    "print(res[:10,:10].nnz)"
   ]
  },
  {
   "cell_type": "code",
   "execution_count": 35,
   "id": "9d1552a7",
   "metadata": {
    "ExecuteTime": {
     "end_time": "2022-04-30T10:58:24.177162Z",
     "start_time": "2022-04-30T10:58:23.283605Z"
    }
   },
   "outputs": [
    {
     "name": "stdout",
     "output_type": "stream",
     "text": [
      "total eaqual =  14633\n"
     ]
    }
   ],
   "source": [
    "equal = 0\n",
    "for i in range(14633):\n",
    "    for j in range(1):\n",
    "        if (ecfp_tr[i,j] != ecfp_tr2[i,j]):\n",
    "            print(i, j, '     ', ecfp_tr[i,j], '    !=    ', ecfp_tr2[i,j])\n",
    "        else:\n",
    "            equal+=1 \n",
    "print(\"total eaqual = \", equal)\n",
    "# print(ecfp_tr2[0,:100])\n",
    "# print(ecfp_tr[:10,:10] != ecfp_tr2[:10,:10])"
   ]
  },
  {
   "cell_type": "code",
   "execution_count": null,
   "id": "7fd0f60f",
   "metadata": {},
   "outputs": [],
   "source": []
  },
  {
   "cell_type": "code",
   "execution_count": null,
   "id": "74828d5e",
   "metadata": {},
   "outputs": [],
   "source": []
  },
  {
   "cell_type": "markdown",
   "id": "5c82a453",
   "metadata": {
    "heading_collapsed": true
   },
   "source": [
    "### Post Warm-up Training stuff"
   ]
  },
  {
   "cell_type": "code",
   "execution_count": null,
   "id": "3bb74c3d",
   "metadata": {
    "ExecuteTime": {
     "end_time": "2022-02-01T12:45:43.999959Z",
     "start_time": "2022-02-01T12:45:43.862475Z"
    },
    "hidden": true
   },
   "outputs": [],
   "source": [
    "pp.pprint(environ.val_metrics)"
   ]
  },
  {
   "cell_type": "code",
   "execution_count": null,
   "id": "912b47da",
   "metadata": {
    "ExecuteTime": {
     "end_time": "2022-02-01T12:46:36.700361Z",
     "start_time": "2022-02-01T12:46:36.367037Z"
    },
    "hidden": true
   },
   "outputs": [],
   "source": [
    "environ.networks['mtl-net'].arch_parameters()"
   ]
  },
  {
   "cell_type": "code",
   "execution_count": null,
   "id": "922f0235",
   "metadata": {
    "ExecuteTime": {
     "end_time": "2022-01-28T16:37:10.158440Z",
     "start_time": "2022-01-28T16:37:09.742327Z"
    },
    "hidden": true
   },
   "outputs": [],
   "source": [
    "p = environ.get_sample_policy(hard_sampling = False)\n",
    "print(p)\n",
    "p = environ.get_policy_prob()\n",
    "print(p)\n",
    "p = environ.get_policy_logits()\n",
    "print(p)\n",
    "\n",
    "# p = environ.get_current_policy()\n",
    "# print(p)"
   ]
  },
  {
   "cell_type": "code",
   "execution_count": null,
   "id": "c6bddd44",
   "metadata": {
    "ExecuteTime": {
     "end_time": "2022-01-28T16:40:37.799917Z",
     "start_time": "2022-01-28T16:40:37.773177Z"
    },
    "hidden": true
   },
   "outputs": [],
   "source": [
    "a = softmax([0.0, 1])\n",
    "print(a)\n",
    "sampled = np.random.choice((1, 0), p=a)\n",
    "print(sampled)"
   ]
  },
  {
   "cell_type": "code",
   "execution_count": null,
   "id": "f5e8f376",
   "metadata": {
    "ExecuteTime": {
     "end_time": "2022-01-28T16:13:16.205889Z",
     "start_time": "2022-01-28T16:13:16.179303Z"
    },
    "hidden": true
   },
   "outputs": [],
   "source": [
    "print(environ.optimizers['weights'])\n",
    "print(environ.schedulers['weights'].get_last_lr())"
   ]
  },
  {
   "cell_type": "code",
   "execution_count": null,
   "id": "dddf9c47",
   "metadata": {
    "ExecuteTime": {
     "end_time": "2022-02-01T12:46:50.411465Z",
     "start_time": "2022-02-01T12:46:50.020540Z"
    },
    "hidden": true,
    "scrolled": false
   },
   "outputs": [],
   "source": [
    "print('losses.keys      : ', environ.losses.keys())\n",
    "print('losses[task]keys : ', environ.losses['task1'].keys())\n",
    "pp.pprint(environ.losses)"
   ]
  },
  {
   "cell_type": "code",
   "execution_count": null,
   "id": "20950069",
   "metadata": {
    "ExecuteTime": {
     "end_time": "2022-01-15T22:57:02.151169Z",
     "start_time": "2022-01-15T22:57:02.056562Z"
    },
    "execution": {
     "iopub.execute_input": "2022-01-07T22:49:07.606120Z",
     "iopub.status.busy": "2022-01-07T22:49:07.604909Z",
     "iopub.status.idle": "2022-01-07T22:49:08.025886Z",
     "shell.execute_reply": "2022-01-07T22:49:08.024798Z",
     "shell.execute_reply.started": "2022-01-07T22:49:07.606065Z"
    },
    "hidden": true,
    "scrolled": false
   },
   "outputs": [],
   "source": [
    "print( environ.val_metrics.keys())\n",
    "# pp.pprint(val_metrics)\n",
    "print(type(environ.val_metrics['aggregated']))\n",
    "print()\n",
    "print(type(environ.val_metrics['task1']['classification_agg']))\n",
    "print()\n",
    "pp.pprint(environ.val_metrics)"
   ]
  },
  {
   "cell_type": "code",
   "execution_count": null,
   "id": "eed6e311",
   "metadata": {
    "ExecuteTime": {
     "end_time": "2022-01-14T18:57:26.266303Z",
     "start_time": "2022-01-14T18:57:26.166878Z"
    },
    "hidden": true
   },
   "outputs": [],
   "source": [
    "# import pickle\n",
    "# with open(\"val_metrics.pkl\", mode= 'wb') as f:\n",
    "#         pickle.dump(val_metrics, f)\n",
    "    \n",
    "# with open('val_metrics.pkl', 'rb') as f:    \n",
    "#     tst_val_metrics = pickle.load(f)"
   ]
  },
  {
   "cell_type": "code",
   "execution_count": null,
   "id": "2b00a8aa",
   "metadata": {
    "ExecuteTime": {
     "end_time": "2022-01-14T18:57:26.297444Z",
     "start_time": "2022-01-14T18:57:26.269323Z"
    },
    "hidden": true
   },
   "outputs": [],
   "source": [
    "# print(environ.input.shape) \n",
    "# a = getattr(environ, 'task1_pred')\n",
    "# yc_data = environ.batch['task1_data']\n",
    "# print(yc_data.shape)\n",
    "# yc_ind = environ.batch['task1_ind']\n",
    "# print(yc_ind.shape)\n",
    "# yc_hat_all = getattr(environ, 'task1_pred')\n",
    "# print(yc_hat_all.shape)\n",
    "# yc_hat  = yc_hat_all[yc_ind[0], yc_ind[1]]\n",
    "# print(yc_hat_all.shape, yc_hat.shape)\n",
    "\n",
    "# \n",
    "# environ.losses\n",
    "# loss = {}\n",
    "# for key in environ.losses.keys():\n",
    "#     loss[key] = {}\n",
    "#     for subkey, v in environ.losses[key].items():\n",
    "#         print(f\" key:  {key}   subkey: {subkey} \")\n",
    "#         if isinstance(v, torch.Tensor):\n",
    "#             loss[key][subkey] = v.data\n",
    "#             print(f\" Tensor  -  key:  {key}   subkey: {subkey}           value type: {type(v)}  value: {v:.4f}\")\n",
    "#         else:\n",
    "#             loss[key][subkey] = v\n",
    "#             print(f\" integer -  key:  {key}   subkey: {subkey}           value type: {type(v)}  value: {v:.4f}\")\n",
    "# pp.pprint(tst_val_metrics)             "
   ]
  },
  {
   "cell_type": "code",
   "execution_count": null,
   "id": "5987f89f",
   "metadata": {
    "ExecuteTime": {
     "end_time": "2022-01-14T18:57:26.340792Z",
     "start_time": "2022-01-14T18:57:26.302528Z"
    },
    "execution": {
     "iopub.execute_input": "2022-01-07T22:49:07.606120Z",
     "iopub.status.busy": "2022-01-07T22:49:07.604909Z",
     "iopub.status.idle": "2022-01-07T22:49:08.025886Z",
     "shell.execute_reply": "2022-01-07T22:49:08.024798Z",
     "shell.execute_reply.started": "2022-01-07T22:49:07.606065Z"
    },
    "hidden": true
   },
   "outputs": [],
   "source": [
    "# print('metrics.keys: ', environ.metrics.keys())\n",
    "# print('metrics[task].keys: ', environ.metrics['task1'].keys())\n",
    "# pp.pprint(environ.metrics['task1'])\n",
    "# pp.pprint(environ.losses['task1']['total'])"
   ]
  },
  {
   "cell_type": "code",
   "execution_count": null,
   "id": "864ae417",
   "metadata": {
    "ExecuteTime": {
     "end_time": "2022-01-14T18:57:26.373399Z",
     "start_time": "2022-01-14T18:57:26.345065Z"
    },
    "hidden": true
   },
   "outputs": [],
   "source": [
    "# title='Iteration'\n",
    "# for t_id, _ in enumerate(environ.tasks):\n",
    "#     task_key = f\"task{t_id+1}\"\n",
    "# #     print_heading(f\"{title}  {current_iter}  {task_key} : {val_metrics[task_key]['classification_agg']}\", verbose = True)\n",
    "\n",
    "#     for key, _  in val_metrics[task_key]['classification_agg'].items():\n",
    "#         print('%s/%-20s'%(task_key, key), val_metrics[task_key]['classification_agg'][key], current_iter)\n",
    "#         print(f\"{task_key:s}/{key:20s}\", val_metrics[task_key]['classification_agg'][key], current_iter)\n",
    "#         print()\n",
    "#             # print_current_errors(os.path.join(self.log_dir, 'loss.txt'), current_iter,key, loss[key], time.time() - start_time)"
   ]
  },
  {
   "cell_type": "code",
   "execution_count": null,
   "id": "c0b73b44",
   "metadata": {
    "ExecuteTime": {
     "end_time": "2022-01-07T22:52:48.162261Z",
     "start_time": "2022-01-07T22:52:48.140423Z"
    },
    "hidden": true
   },
   "outputs": [],
   "source": [
    "# environ.print_loss(current_iter, start_time, metrics = val_metrics['loss'], verbose=True)\n",
    "# print(opt['lambdas'])\n",
    "# p = (opt['lambdas'][0] * environ.losses['tasks']['task1'])\n",
    "# print(p)\n",
    "\n",
    "# environ.print_val_metrics(current_iter, start_time, val_metrics , title='validation', verbose=True)    "
   ]
  },
  {
   "cell_type": "code",
   "execution_count": null,
   "id": "850378b6",
   "metadata": {
    "ExecuteTime": {
     "end_time": "2022-01-07T22:52:47.661019Z",
     "start_time": "2022-01-07T22:52:47.639094Z"
    },
    "hidden": true
   },
   "outputs": [],
   "source": [
    "# print(current_iter)\n",
    "# print_metrics_cr(current_iter, t1 - t0, None, val_metrics , True)\n",
    "# environ.print_val_metrics(current_iter, start_time, val_metrics, title='validation', verbose = True)"
   ]
  },
  {
   "cell_type": "code",
   "execution_count": null,
   "id": "266a80b0",
   "metadata": {
    "ExecuteTime": {
     "end_time": "2022-01-07T23:14:58.034384Z",
     "start_time": "2022-01-07T23:14:58.004850Z"
    },
    "hidden": true,
    "scrolled": true
   },
   "outputs": [],
   "source": [
    "print(f\" val_metric keys               : {val_metrics.keys()}\")\n",
    "print(f\" loss keys                     : {val_metrics['loss'].keys()}\")\n",
    "print(f\" task1 keys                    : {val_metrics['task1'].keys()}\")\n",
    "print(f\" task1 classification keys     : {val_metrics['task1']['classification'].keys()}\")\n",
    "print(f\" task1 classification_agg keys : {val_metrics['task1']['classification_agg'].keys()}\")\n",
    "print()\n",
    "print(f\" task1                       : {val_metrics['task1']['classification_agg']['loss']:5f}\")\n",
    "print(f\" task2                       : {val_metrics['task2']['classification_agg']['loss']:5f}\")\n",
    "print(f\" task3                       : {val_metrics['task3']['classification_agg']['loss']:5f}\")\n",
    "print(f\" loss                        : {val_metrics['loss']['total']:5f}\")\n",
    "print(f\" train_time                  : {val_metrics['train_time']:2f}\")\n",
    "print(f\" epoch                       : {val_metrics['epoch']}\")\n"
   ]
  },
  {
   "cell_type": "markdown",
   "id": "60fc43a6",
   "metadata": {
    "heading_collapsed": true
   },
   "source": [
    "### Post Weight + Policy Training Stuff "
   ]
  },
  {
   "cell_type": "code",
   "execution_count": null,
   "id": "65640cd9",
   "metadata": {
    "ExecuteTime": {
     "end_time": "2022-01-27T00:22:20.634818Z",
     "start_time": "2022-01-27T00:22:20.444566Z"
    },
    "hidden": true
   },
   "outputs": [],
   "source": [
    "environ.networks['mtl-net'].backbone.layer_config"
   ]
  },
  {
   "cell_type": "code",
   "execution_count": null,
   "id": "a4374287",
   "metadata": {
    "ExecuteTime": {
     "end_time": "2022-01-26T19:30:31.940280Z",
     "start_time": "2022-01-26T19:30:31.910058Z"
    },
    "hidden": true
   },
   "outputs": [],
   "source": [
    "num_blocks = 6\n",
    "num_policy_layers = 6\n",
    "gt =  torch.ones((num_blocks)).long()\n",
    "gt0 =  torch.zeros((num_blocks)).long()\n",
    "print(gt)\n",
    "print(gt0)\n",
    "\n",
    "loss_weights = ((torch.arange(0, num_policy_layers, 1) + 1).float() / num_policy_layers)\n",
    "print(loss_weights)"
   ]
  },
  {
   "cell_type": "code",
   "execution_count": null,
   "id": "8651bc43",
   "metadata": {
    "ExecuteTime": {
     "end_time": "2022-01-26T19:42:31.300891Z",
     "start_time": "2022-01-26T19:42:31.257774Z"
    },
    "hidden": true
   },
   "outputs": [],
   "source": [
    "if environ.opt['diff_sparsity_weights'] and not environ.opt['is_sharing']:\n",
    "    print(' cond 1')\n",
    "    ## Assign higher weights to higher layers \n",
    "    loss_weights = ((torch.arange(0, num_policy_layers, 1) + 1).float() / num_policy_layers)\n",
    "    print(f\"{task_key} sparsity error:  {2 * (loss_weights[-num_blocks:] * environ.cross_entropy2(logits[-num_blocks:], gt)).mean()})\")\n",
    "    print_dbg(f\" loss_weights :  {loss_weights}\", verbose = True)\n",
    "    print_dbg(f\" cross_entropy:  {environ.cross_entropy2(logits[-num_blocks:], gt)}  \", verbose = True)\n",
    "    print_dbg(f\" loss[sparsity][{task_key}]: {self.losses['sparsity'][task_key] } \", verbose = True)\n",
    "\n",
    "else:\n",
    "    print('\\n cond 2')\n",
    "    print_dbg(f\"Compute CrossEntropyLoss between \\n Logits   : \\n{logits[-num_blocks:]} \\n and gt: \\n{gt} \\n\", verbose = True)\n",
    "    print(f\"{task_key} sparsity error:  {environ.cross_entropy_sparsity(logits[-num_blocks:], gt)}\")\n",
    "    \n",
    "    print('\\n cond 2')\n",
    "    print_dbg(f\"Compute CrossEntropyLoss between Logits      : {logits[-1:]}  and gt: {gt[-1]} \", verbose = True)\n",
    "    print(f\"{task_key} sparsity error:  {environ.cross_entropy_sparsity(logits[-1:], gt[-1:])} \\n\")\n",
    "    print_dbg(f\"Compute CrossEntropyLoss between Logits      : {logits[-1:]}  and gt: {gt0[-1]} \", verbose = True)\n",
    "    print(f\"{task_key} sparsity error:  {environ.cross_entropy_sparsity(logits[-1:], gt0[-1:])} \\n\")\n",
    "    \n",
    "    print('\\n cond 3')    \n",
    "    print_dbg(f\"Compute CrossEntropyLoss between Logits   : {logits[0:1]}  and gt: {gt[0:1]} \", verbose = True)\n",
    "    print(f\"{task_key} sparsity error:  {environ.cross_entropy_sparsity(logits[0:1], gt[0:1])} \\n\")\n",
    "    print_dbg(f\"Compute CrossEntropyLoss between Logits   : {logits[0:1]}  and gt: {gt0[0:1]} \", verbose = True)\n",
    "    print(f\"{task_key} sparsity error:  {environ.cross_entropy_sparsity(logits[0:1], gt0[0:1])} \\n\")\n",
    "        \n",
    "        "
   ]
  },
  {
   "cell_type": "code",
   "execution_count": null,
   "id": "c686cd05",
   "metadata": {
    "hidden": true
   },
   "outputs": [],
   "source": []
  },
  {
   "cell_type": "code",
   "execution_count": null,
   "id": "c83ee1b6",
   "metadata": {
    "ExecuteTime": {
     "end_time": "2022-01-26T00:14:30.155045Z",
     "start_time": "2022-01-26T00:14:30.107095Z"
    },
    "hidden": true
   },
   "outputs": [],
   "source": [
    "# flag = 'update_w'\n",
    "# environ.fix_alpha\n",
    "# environ.free_w(opt['fix_BN'])\n",
    "\n",
    "flag = 'update_alpha'\n",
    "environ.fix_weights()\n",
    "environ.free_alpha()"
   ]
  },
  {
   "cell_type": "code",
   "execution_count": null,
   "id": "6e7996b7",
   "metadata": {
    "ExecuteTime": {
     "end_time": "2022-01-25T23:43:31.184285Z",
     "start_time": "2022-01-25T23:43:31.159229Z"
    },
    "hidden": true
   },
   "outputs": [],
   "source": [
    "environ.networks['mtl-net'].num_layers"
   ]
  },
  {
   "cell_type": "code",
   "execution_count": null,
   "id": "f436ee6a",
   "metadata": {
    "ExecuteTime": {
     "end_time": "2022-01-26T00:14:34.993711Z",
     "start_time": "2022-01-26T00:14:34.968623Z"
    },
    "hidden": true
   },
   "outputs": [],
   "source": [
    "print(f\"current_iters         : {current_iter}\")  \n",
    "print(f\"current_epochs           : {current_epoch}\") \n",
    "print(f\"train_total_epochs    : {train_total_epochs}\") \n",
    "\n",
    "train_total_epochs += 5\n",
    "\n",
    "print(f\"current_iters         : {current_iter}\")  \n",
    "print(f\"current_epochs           : {current_epoch}\") \n",
    "print(f\"train_total_epochs    : {train_total_epochs}\") "
   ]
  },
  {
   "cell_type": "code",
   "execution_count": null,
   "id": "5334a0b6",
   "metadata": {
    "ExecuteTime": {
     "end_time": "2022-01-25T17:15:02.216665Z",
     "start_time": "2022-01-25T17:15:01.848081Z"
    },
    "hidden": true
   },
   "outputs": [],
   "source": [
    "# print_metrics_cr(current_epoch, time.time() - t0, None, environ.val_metrics , num_prints)      \n",
    "\n",
    "# num_prints += 1\n",
    "# t0 = time.time()\n",
    "\n",
    "# # Take check point\n",
    "# environ.save_checkpoint('latest', current_iter)\n",
    "# environ.train()\n",
    "# #-------------------------------------------------------\n",
    "# # END validation process\n",
    "# #-------------------------------------------------------       \n",
    "# flag = 'update_alpha'\n",
    "# environ.fix_w()\n",
    "# environ.free_alpha()"
   ]
  },
  {
   "cell_type": "code",
   "execution_count": null,
   "id": "9d8c4f39",
   "metadata": {
    "ExecuteTime": {
     "end_time": "2022-01-08T01:08:57.366231Z",
     "start_time": "2022-01-08T01:08:57.295445Z"
    },
    "hidden": true
   },
   "outputs": [],
   "source": [
    "# dilation = 2\n",
    "# kernel_size = np.asarray((3, 3))\n",
    "# upsampled_kernel_size = (kernel_size - 1) * (dilation - 1) + kernel_size\n",
    "# print(upsampled_kernel_size)"
   ]
  },
  {
   "cell_type": "code",
   "execution_count": null,
   "id": "9500c390",
   "metadata": {
    "ExecuteTime": {
     "end_time": "2022-01-25T23:43:39.763599Z",
     "start_time": "2022-01-25T23:43:39.728402Z"
    },
    "hidden": true
   },
   "outputs": [],
   "source": [
    "# environ.optimizers['weights'].param_groups[0]\n",
    "# for param_group in optimizer.param_groups:\n",
    "#     return param_group['lr']"
   ]
  },
  {
   "cell_type": "code",
   "execution_count": null,
   "id": "5fb71bd6",
   "metadata": {
    "ExecuteTime": {
     "end_time": "2022-01-25T23:43:41.628847Z",
     "start_time": "2022-01-25T23:43:41.602238Z"
    },
    "hidden": true
   },
   "outputs": [],
   "source": [
    "environ.schedulers['weights'].get_last_lr()"
   ]
  },
  {
   "cell_type": "code",
   "execution_count": null,
   "id": "d7934862",
   "metadata": {
    "ExecuteTime": {
     "end_time": "2022-01-08T01:36:17.129535Z",
     "start_time": "2022-01-08T01:36:16.006144Z"
    },
    "hidden": true,
    "scrolled": true
   },
   "outputs": [],
   "source": [
    "current_state = {}\n",
    "for k, v in environ.optimizers.items():\n",
    "    print(f'state dict for {k} = {v}')\n",
    "    current_state[k] = v.state_dict()\n",
    "pp.pprint(current_state)"
   ]
  },
  {
   "cell_type": "code",
   "execution_count": null,
   "id": "d5faf7f1",
   "metadata": {
    "ExecuteTime": {
     "end_time": "2022-01-08T01:40:22.032247Z",
     "start_time": "2022-01-08T01:40:22.006953Z"
    },
    "hidden": true,
    "scrolled": true
   },
   "outputs": [],
   "source": [
    "current_state = {}\n",
    "for k, v in environ.schedulers.items():\n",
    "    print(f'state dict for {k} = {v}')\n",
    "    print(v.state_dict())"
   ]
  },
  {
   "cell_type": "markdown",
   "id": "dd497e72",
   "metadata": {
    "heading_collapsed": true
   },
   "source": [
    "### Losses and Metrics"
   ]
  },
  {
   "cell_type": "code",
   "execution_count": null,
   "id": "66169a84",
   "metadata": {
    "ExecuteTime": {
     "end_time": "2022-02-09T16:34:44.555617Z",
     "start_time": "2022-02-09T16:34:44.507417Z"
    },
    "hidden": true
   },
   "outputs": [],
   "source": [
    "trn_losses = environ.losses"
   ]
  },
  {
   "cell_type": "code",
   "execution_count": null,
   "id": "60cb8234",
   "metadata": {
    "ExecuteTime": {
     "end_time": "2022-02-10T03:35:11.758429Z",
     "start_time": "2022-02-10T03:35:11.278211Z"
    },
    "hidden": true
   },
   "outputs": [],
   "source": [
    "print_metrics_cr(current_epoch, time.time() - start_time, trn_losses, environ.val_metrics , num_prints)      "
   ]
  },
  {
   "cell_type": "code",
   "execution_count": null,
   "id": "4ce0301f",
   "metadata": {
    "ExecuteTime": {
     "end_time": "2022-02-10T03:21:49.107793Z",
     "start_time": "2022-02-10T03:21:49.084484Z"
    },
    "hidden": true
   },
   "outputs": [],
   "source": [
    "# print_metrics_cr(current_epoch, time.time() - start_time, trn_losses, environ.val_metrics , num_prints)      "
   ]
  },
  {
   "cell_type": "code",
   "execution_count": null,
   "id": "a498b6ee",
   "metadata": {
    "ExecuteTime": {
     "end_time": "2022-02-10T03:20:32.866010Z",
     "start_time": "2022-02-10T03:20:32.442919Z"
    },
    "hidden": true
   },
   "outputs": [],
   "source": [
    "# pp.pprint(environ.losses)\n",
    "pp.pprint(trn_losses)"
   ]
  },
  {
   "cell_type": "code",
   "execution_count": null,
   "id": "5fe30724",
   "metadata": {
    "ExecuteTime": {
     "end_time": "2022-02-10T03:34:21.945701Z",
     "start_time": "2022-02-10T03:34:21.411234Z"
    },
    "hidden": true
   },
   "outputs": [],
   "source": [
    "pp.pprint(environ.val_metrics)"
   ]
  },
  {
   "cell_type": "code",
   "execution_count": null,
   "id": "a1d81167",
   "metadata": {
    "ExecuteTime": {
     "end_time": "2022-01-27T00:58:49.364883Z",
     "start_time": "2022-01-27T00:58:49.342931Z"
    },
    "hidden": true
   },
   "outputs": [],
   "source": [
    "# environ.opt['train']['Lambda_sharing'] = 0.5\n",
    "# opt['train']['Lambda_sharing'] = 0.5\n",
    "\n",
    "# environ.opt['train']['policy_lr'] = 0.001\n",
    "# opt['train']['policy_lr'] = 0.001"
   ]
  },
  {
   "cell_type": "code",
   "execution_count": null,
   "id": "2a73aa06",
   "metadata": {
    "ExecuteTime": {
     "end_time": "2022-01-26T01:00:41.996410Z",
     "start_time": "2022-01-26T01:00:41.559006Z"
    },
    "hidden": true
   },
   "outputs": [],
   "source": [
    "environ.losses.keys()\n",
    "pp.pprint(environ.losses)"
   ]
  },
  {
   "cell_type": "code",
   "execution_count": null,
   "id": "e06ece74",
   "metadata": {
    "ExecuteTime": {
     "end_time": "2022-01-08T01:19:43.683550Z",
     "start_time": "2022-01-08T01:19:43.571450Z"
    },
    "hidden": true
   },
   "outputs": [],
   "source": [
    "tmp = environ.get_loss_dict()\n",
    "print(tmp.keys())\n",
    "pp.pprint(tmp)"
   ]
  },
  {
   "cell_type": "code",
   "execution_count": null,
   "id": "00ac0256",
   "metadata": {
    "ExecuteTime": {
     "end_time": "2022-01-27T00:58:50.458223Z",
     "start_time": "2022-01-27T00:58:50.430889Z"
    },
    "hidden": true
   },
   "outputs": [],
   "source": [
    "print(opt['diff_sparsity_weights'])\n",
    "print(opt['is_sharing'])\n",
    "print(opt['diff_sparsity_weights'] and not opt['is_sharing'])\n",
    "print(environ.opt['train']['Lambda_sharing'])\n",
    "print(opt['train']['Lambda_sharing'])\n",
    "print(environ.opt['train']['Lambda_sparsity'])\n",
    "print(opt['train']['Lambda_sparsity'])\n",
    "print(environ.opt['train']['policy_lr'])\n",
    "print(opt['train']['policy_lr'])"
   ]
  },
  {
   "cell_type": "markdown",
   "id": "aae2d510",
   "metadata": {
    "heading_collapsed": true
   },
   "source": [
    "### Policy / Logit stuff"
   ]
  },
  {
   "cell_type": "code",
   "execution_count": null,
   "id": "bb628497",
   "metadata": {
    "ExecuteTime": {
     "end_time": "2022-02-08T20:35:14.041577Z",
     "start_time": "2022-02-08T20:35:14.018303Z"
    },
    "hidden": true
   },
   "outputs": [],
   "source": [
    "from scipy.special          import softmax"
   ]
  },
  {
   "cell_type": "code",
   "execution_count": null,
   "id": "79eed454",
   "metadata": {
    "ExecuteTime": {
     "end_time": "2022-02-08T20:00:30.103364Z",
     "start_time": "2022-02-08T20:00:30.068021Z"
    },
    "hidden": true
   },
   "outputs": [],
   "source": [
    "np.set_printoptions(precision=8,edgeitems=3, infstr='inf', linewidth=150, nanstr='nan')\n",
    "torch.set_printoptions(precision=8,linewidth=132)"
   ]
  },
  {
   "cell_type": "markdown",
   "id": "df03b5cc",
   "metadata": {
    "heading_collapsed": true,
    "hidden": true
   },
   "source": [
    "#### `get_task_logits(n)` Get logits for task group n"
   ]
  },
  {
   "cell_type": "code",
   "execution_count": null,
   "id": "2aed8b9b",
   "metadata": {
    "ExecuteTime": {
     "end_time": "2022-02-08T20:56:35.652087Z",
     "start_time": "2022-02-08T20:56:35.327406Z"
    },
    "hidden": true
   },
   "outputs": [],
   "source": [
    "task_logits = environ.get_task_logits(1)\n",
    "print(task_logits)"
   ]
  },
  {
   "cell_type": "markdown",
   "id": "fb66fa5f",
   "metadata": {
    "hidden": true
   },
   "source": [
    "#### `get_arch_parameters()`: Get last used logits from network"
   ]
  },
  {
   "cell_type": "code",
   "execution_count": null,
   "id": "8a85521e",
   "metadata": {
    "ExecuteTime": {
     "end_time": "2022-02-08T20:00:31.101960Z",
     "start_time": "2022-02-08T20:00:30.757064Z"
    },
    "hidden": true,
    "scrolled": true
   },
   "outputs": [],
   "source": [
    "import torch.optim as optim\n",
    "arch_parameters      = environ.get_arch_parameters()\n",
    "print(arch_parameters)"
   ]
  },
  {
   "cell_type": "code",
   "execution_count": null,
   "id": "489b0bef",
   "metadata": {
    "ExecuteTime": {
     "end_time": "2022-02-09T15:43:06.054699Z",
     "start_time": "2022-02-09T15:43:05.689327Z"
    },
    "hidden": true,
    "scrolled": true
   },
   "outputs": [],
   "source": [
    "import torch.optim as optim\n",
    "arch_parameters      = environ.get_arch_parameters()\n",
    "print(arch_parameters)"
   ]
  },
  {
   "cell_type": "markdown",
   "id": "19ea1743",
   "metadata": {
    "hidden": true
   },
   "source": [
    "#### `get_policy_logits()`:  Get Policy Logits - returns same as `get_arch_parameters()`"
   ]
  },
  {
   "cell_type": "code",
   "execution_count": null,
   "id": "cdbb40c4",
   "metadata": {
    "ExecuteTime": {
     "end_time": "2022-02-09T15:43:24.972390Z",
     "start_time": "2022-02-09T15:43:24.636629Z"
    },
    "hidden": true,
    "scrolled": true
   },
   "outputs": [],
   "source": [
    "logs = environ.get_policy_logits()\n",
    "for i in logs:\n",
    "    print(i, '\\n')\n",
    "# probs = softmax(logs, axis= -1)\n",
    "# for i in probs:\n",
    "#     print(i, '\\n')"
   ]
  },
  {
   "cell_type": "markdown",
   "id": "6080a364",
   "metadata": {
    "hidden": true
   },
   "source": [
    "#### `get_policy_prob()` : Gets the softmax of the logits"
   ]
  },
  {
   "cell_type": "code",
   "execution_count": null,
   "id": "b59c75af",
   "metadata": {
    "ExecuteTime": {
     "end_time": "2022-02-09T15:43:29.733732Z",
     "start_time": "2022-02-09T15:43:29.699600Z"
    },
    "hidden": true,
    "scrolled": true
   },
   "outputs": [],
   "source": [
    "policy_softmaxs = environ.get_policy_prob()\n",
    "for i in policy_softmaxs:\n",
    "    print(i, '\\n')"
   ]
  },
  {
   "cell_type": "markdown",
   "id": "3c3160d9",
   "metadata": {
    "heading_collapsed": true,
    "hidden": true
   },
   "source": [
    "#### `get_sample_policy( hard_sampling = False)` : Calls test_sample_policy of network with random choices based on softmax of logits"
   ]
  },
  {
   "cell_type": "code",
   "execution_count": null,
   "id": "3f411444",
   "metadata": {
    "ExecuteTime": {
     "end_time": "2022-02-08T22:21:15.636722Z",
     "start_time": "2022-02-08T22:21:15.165456Z"
    },
    "hidden": true
   },
   "outputs": [],
   "source": [
    "policy_softmaxs = environ.get_policy_prob()\n",
    "policies,logits = environ.get_sample_policy(hard_sampling = False)\n",
    "\n",
    "for l, p, s in zip(logits, policies, policy_softmaxs) :\n",
    "    for  l_row, p_row, s_row in zip(l, p, s):\n",
    "        print( l_row,'\\t', p_row, '\\t', s_row)\n",
    "    print('\\n')"
   ]
  },
  {
   "cell_type": "markdown",
   "id": "802664ec",
   "metadata": {
    "heading_collapsed": true,
    "hidden": true
   },
   "source": [
    "#### `get_sample_policy( hard_sampling = True)` : Calls test_sample_policy of network using ARGMAX of logits"
   ]
  },
  {
   "cell_type": "code",
   "execution_count": null,
   "id": "dea65bf2",
   "metadata": {
    "ExecuteTime": {
     "end_time": "2022-02-08T20:59:40.790899Z",
     "start_time": "2022-02-08T20:59:40.726657Z"
    },
    "hidden": true
   },
   "outputs": [],
   "source": [
    "policy_softmaxs = environ.get_policy_prob()\n",
    "hard_policies, logits = environ.get_sample_policy(hard_sampling = True)\n",
    "\n",
    "for p,l,s in zip(hard_policies, logits, policy_softmaxs) :\n",
    "    for  p_row, l_row, s_row in zip(p, l, s):\n",
    "        print( l_row,'\\t', p_row, '\\t', s_row)\n",
    "    print('\\n')"
   ]
  },
  {
   "cell_type": "markdown",
   "id": "c63c39cf",
   "metadata": {
    "heading_collapsed": true,
    "hidden": true
   },
   "source": [
    "#### Print"
   ]
  },
  {
   "cell_type": "code",
   "execution_count": null,
   "id": "4c0fe096",
   "metadata": {
    "ExecuteTime": {
     "end_time": "2022-02-08T21:00:47.452220Z",
     "start_time": "2022-02-08T21:00:47.422902Z"
    },
    "hidden": true
   },
   "outputs": [],
   "source": [
    "print(f\" Layer    task 1      task 2      task 3\")\n",
    "print(f\" -----    ------      ------      ------\")\n",
    "for idx, (l1, l2, l3) in enumerate(zip(hard_policies[0], hard_policies[1], hard_policies[2]),1):\n",
    "    print(f\"   {idx}      {l1}       {l2}       {l3}\")\n",
    "    \n",
    "\n",
    "    print(f\"\\n\\n where [p1  p2]:  p1: layer is selected    p2: layer is not selected\")"
   ]
  },
  {
   "cell_type": "code",
   "execution_count": null,
   "id": "7ade0ac9",
   "metadata": {
    "ExecuteTime": {
     "end_time": "2022-02-08T22:39:39.936555Z",
     "start_time": "2022-02-08T22:39:39.911591Z"
    },
    "hidden": true
   },
   "outputs": [],
   "source": [
    "def display_trained_policy(iter):\n",
    "\n",
    "    policy_softmaxs = environ.get_policy_prob()\n",
    "    policy_argmaxs = 1-np.argmax(policy_softmaxs, axis = -1)\n",
    "    print(f\"  Trained polcies at iteration: {iter} \")\n",
    "    print(f\"                   task 1                           task 2                         task 3        \")\n",
    "    print(f\" Layer       softmax        select          softmax        select          softmax        select   \")\n",
    "    print(f\" -----    ---------------   ------       ---------------   ------       ---------------   ------   \")\n",
    "    for idx, (l1,l2,l3,  p1,p2,p3) in enumerate(zip(policy_softmaxs[0], policy_softmaxs[1], policy_softmaxs[2], policy_argmaxs[0], policy_argmaxs[1], policy_argmaxs[2]),1):\n",
    "        print(f\"   {idx}      {l1[0]:.4f}   {l1[1]:.4f}   {p1:4d}    {l2[0]:11.4f}   {l2[1]:.4f}   {p2:4d}    {l3[0]:11.4f}   {l3[1]:.4f}   {p3:4d}\")\n",
    "\n",
    "    print()\n",
    "# print(f\"\\n\\n where [p1  p2]:  p1: layer is selected    p2: layer is not selected\")"
   ]
  },
  {
   "cell_type": "code",
   "execution_count": null,
   "id": "ec208dd8",
   "metadata": {
    "ExecuteTime": {
     "end_time": "2022-02-08T22:42:12.650813Z",
     "start_time": "2022-02-08T22:42:12.330169Z"
    },
    "hidden": true
   },
   "outputs": [],
   "source": [
    "display_trained_policy(5)"
   ]
  },
  {
   "cell_type": "code",
   "execution_count": null,
   "id": "eec517e9",
   "metadata": {
    "ExecuteTime": {
     "end_time": "2022-02-08T22:07:30.836214Z",
     "start_time": "2022-02-08T22:07:30.804575Z"
    },
    "hidden": true
   },
   "outputs": [],
   "source": [
    "print(f\"                        POLICIES (SOFTMAX)                                       task 3          \")\n",
    "print(f\" Layer    task1              task2            task3 softmax         softmax         argmax         softmax         argmax   \")\n",
    "print(f\" -----    -------------     -------------     -------------   ------   \")\n",
    "for idx, (l1,l2,l3, h1,h2,h3) in enumerate(zip(policy_softmaxs[0], policy_softmaxs[1], policy_softmaxs[2],hard_policies[0], hard_policies[1], hard_policies[2]),1):\n",
    "    print(f\"   {idx}      {l1[0]:.4f} {l1[1]:.4f}     {l2[0]:.4f} {l2[1]:.4f}     {l3[0]:.4f} {l3[1]:.4f}    {h3}\")\n",
    "    \n",
    "print(f\"\\n\\n where [p1  p2]:  p1: layer is selected    p2: layer is not selected\")"
   ]
  },
  {
   "cell_type": "code",
   "execution_count": null,
   "id": "8bbeacb4",
   "metadata": {
    "ExecuteTime": {
     "end_time": "2022-02-08T22:04:50.757406Z",
     "start_time": "2022-02-08T22:04:50.731736Z"
    },
    "hidden": true
   },
   "outputs": [],
   "source": [
    "# print(policy_softmaxs[2], np.argmax(1-policy_softmaxs[2], axis = -1))\n",
    "print(policy_softmaxs, np.argmax(policy_softmaxs, axis = -1))"
   ]
  },
  {
   "cell_type": "markdown",
   "id": "c4be0240",
   "metadata": {
    "heading_collapsed": true,
    "hidden": true
   },
   "source": [
    "#### `get_current_logits()` : Calls test_sample_policy of network using ARGMAX of logits"
   ]
  },
  {
   "cell_type": "code",
   "execution_count": null,
   "id": "cfdb7240",
   "metadata": {
    "ExecuteTime": {
     "end_time": "2022-02-08T21:19:06.155425Z",
     "start_time": "2022-02-08T21:19:06.118640Z"
    },
    "hidden": true,
    "scrolled": true
   },
   "outputs": [],
   "source": [
    "logits  = (environ.get_current_logits())\n",
    "for i in logits:\n",
    "    print(i ,'\\n')"
   ]
  },
  {
   "cell_type": "markdown",
   "id": "13e84662",
   "metadata": {
    "heading_collapsed": true,
    "hidden": true
   },
   "source": [
    "#### `get_current_policy()` : Calls test_sample_policy of network using ARGMAX of logits"
   ]
  },
  {
   "cell_type": "code",
   "execution_count": null,
   "id": "548cfa24",
   "metadata": {
    "ExecuteTime": {
     "end_time": "2022-02-08T20:40:06.543376Z",
     "start_time": "2022-02-08T20:40:06.230711Z"
    },
    "hidden": true,
    "scrolled": true
   },
   "outputs": [],
   "source": [
    "pols  = (environ.get_current_policy())\n",
    "\n",
    "for i in pols:\n",
    "    print(i ,'\\n')"
   ]
  },
  {
   "cell_type": "code",
   "execution_count": null,
   "id": "77f556a8",
   "metadata": {
    "ExecuteTime": {
     "end_time": "2022-01-27T18:27:33.593255Z",
     "start_time": "2022-01-27T18:27:33.553141Z"
    },
    "hidden": true
   },
   "outputs": [],
   "source": [
    " "
   ]
  },
  {
   "cell_type": "markdown",
   "id": "a792710e",
   "metadata": {
    "hidden": true
   },
   "source": [
    "#### `gumbel_softmax()`  "
   ]
  },
  {
   "cell_type": "code",
   "execution_count": null,
   "id": "7265490e",
   "metadata": {
    "ExecuteTime": {
     "end_time": "2022-02-08T21:28:17.107529Z",
     "start_time": "2022-02-08T21:28:17.084910Z"
    },
    "hidden": true
   },
   "outputs": [],
   "source": [
    "np.set_printoptions(precision=8,edgeitems=3, infstr='inf', linewidth=150, nanstr='nan', floatmode = 'maxprec_equal')\n",
    "torch.set_printoptions(precision=8,linewidth=132)"
   ]
  },
  {
   "cell_type": "code",
   "execution_count": null,
   "id": "3dcb0087",
   "metadata": {
    "ExecuteTime": {
     "end_time": "2022-02-08T21:35:11.617269Z",
     "start_time": "2022-02-08T21:35:11.569599Z"
    },
    "hidden": true
   },
   "outputs": [],
   "source": [
    "print(environ.temp)\n",
    "# tau = environ.temp\n",
    "tau = 1\n",
    "for i in range(3): \n",
    "    logits_tensor = torch.tensor(logits[0])\n",
    "    # Sample soft categorical using reparametrization trick:\n",
    "    gumbel_soft = F.gumbel_softmax(logits_tensor, tau=tau, hard=False).cpu().numpy() \n",
    "\n",
    "    # Sample hard categorical using \"Straight-through\" trick:\n",
    "    gumbel_hard  = F.gumbel_softmax(logits_tensor, tau=tau, hard=True).cpu().numpy()\n",
    "    \n",
    "    for l, gs, gh in zip(lgts, gumbel_soft, gumbel_hard):\n",
    "        print(f\"   {l}   \\t {gs}            \\t {gh}\")\n",
    "#     print(lgts)\n",
    "#     print(gumbel_soft)\n",
    "#     print(gumbel_hard)\n",
    "    print()"
   ]
  },
  {
   "cell_type": "code",
   "execution_count": null,
   "id": "f3d5ef7f",
   "metadata": {
    "hidden": true
   },
   "outputs": [],
   "source": []
  },
  {
   "cell_type": "code",
   "execution_count": null,
   "id": "4b0e0e84",
   "metadata": {
    "ExecuteTime": {
     "end_time": "2022-02-08T21:21:35.524957Z",
     "start_time": "2022-02-08T21:21:35.488812Z"
    },
    "hidden": true
   },
   "outputs": [],
   "source": [
    "for lgts in logits:\n",
    "    logits_tensor = torch.tensor(lgts)\n",
    "    print(lgts)\n",
    "    # Sample soft categorical using reparametrization trick:\n",
    "    gumbel_soft = F.gumbel_softmax(logits_tensor, tau=1, hard=False)\n",
    "    print(gumbel_soft)\n",
    "\n",
    "    # Sample hard categorical using \"Straight-through\" trick:\n",
    "    gumbel_hard  = F.gumbel_softmax(logits_tensor, tau=1, hard=True)\n",
    "    print(gumbel_hard)\n",
    "    print()"
   ]
  },
  {
   "cell_type": "code",
   "execution_count": null,
   "id": "fe34a06a",
   "metadata": {
    "ExecuteTime": {
     "end_time": "2022-02-03T20:49:37.643349Z",
     "start_time": "2022-02-03T20:49:37.580786Z"
    },
    "hidden": true
   },
   "outputs": [],
   "source": [
    "smax = scipy.special.softmax(logs, axis =1)\n",
    "# smax = np.array( \n",
    "# [[0.46973792, 0.530262  ],\n",
    "#  [0.45025694, 0.549743  ],\n",
    "#  [0.4443086 , 0.5556915 ],\n",
    "#  [0.4138397 , 0.58616036],\n",
    "#  [0.4140113 , 0.5859887 ],\n",
    "#  [0.42114905, 0.57885087]])\n",
    "\n",
    "print(smax.shape)\n",
    "print(smax)\n",
    "print(smax[0])\n",
    "print(smax[0].sum())\n",
    "print(np.random.choice((1,0), p =smax[0]))"
   ]
  },
  {
   "cell_type": "code",
   "execution_count": null,
   "id": "7e7de25c",
   "metadata": {
    "ExecuteTime": {
     "end_time": "2022-02-08T21:15:19.893888Z",
     "start_time": "2022-02-08T21:15:19.870899Z"
    },
    "hidden": true
   },
   "outputs": [],
   "source": [
    "logs = np.array(\n",
    "[[0.33064184, 0.42053092],\n",
    " [0.3532089 , 0.52056104],\n",
    " [0.3888512 , 0.5680909 ],\n",
    " [0.42039296, 0.694217  ],\n",
    " [0.4519742 , 0.73311865],\n",
    " [0.48401102, 0.7522658 ]],\n",
    ")"
   ]
  }
 ],
 "metadata": {
  "git": {
   "suppress_outputs": true
  },
  "kernelspec": {
   "display_name": "pyt-gpu",
   "language": "python",
   "name": "pyt-gpu"
  },
  "language_info": {
   "codemirror_mode": {
    "name": "ipython",
    "version": 3
   },
   "file_extension": ".py",
   "mimetype": "text/x-python",
   "name": "python",
   "nbconvert_exporter": "python",
   "pygments_lexer": "ipython3",
   "version": "3.9.5"
  },
  "toc": {
   "base_numbering": 1,
   "nav_menu": {},
   "number_sections": true,
   "sideBar": true,
   "skip_h1_title": false,
   "title_cell": "Table of Contents",
   "title_sidebar": "Contents",
   "toc_cell": false,
   "toc_position": {
    "height": "calc(100% - 180px)",
    "left": "10px",
    "top": "150px",
    "width": "399px"
   },
   "toc_section_display": true,
   "toc_window_display": false
  }
 },
 "nbformat": 4,
 "nbformat_minor": 5
}
