{
 "cells": [
  {
   "cell_type": "markdown",
   "id": "408f1261",
   "metadata": {},
   "source": [
    "## Initialization  "
   ]
  },
  {
   "cell_type": "code",
   "execution_count": 12,
   "id": "6d574cdc",
   "metadata": {
    "ExecuteTime": {
     "end_time": "2022-04-14T14:05:23.217183Z",
     "start_time": "2022-04-14T14:05:22.180056Z"
    },
    "execution": {
     "iopub.execute_input": "2022-01-07T22:44:08.233990Z",
     "iopub.status.busy": "2022-01-07T22:44:08.233053Z",
     "iopub.status.idle": "2022-01-07T22:44:08.273284Z",
     "shell.execute_reply": "2022-01-07T22:44:08.271908Z",
     "shell.execute_reply.started": "2022-01-07T22:44:08.233943Z"
    },
    "scrolled": false,
    "tags": []
   },
   "outputs": [
    {
     "name": "stdout",
     "output_type": "stream",
     "text": [
      "The autoreload extension is already loaded. To reload it, use:\n",
      "  %reload_ext autoreload\n",
      "No CUDA devices found \n"
     ]
    }
   ],
   "source": [
    "%load_ext autoreload\n",
    "%autoreload 2\n",
    "import os \n",
    "import sys\n",
    "sys.path.insert(0, '../src')\n",
    "import time\n",
    "import argparse\n",
    "import yaml\n",
    "import types\n",
    "import copy, pprint\n",
    "from time import sleep\n",
    "from datetime import datetime\n",
    "import numpy  as np\n",
    "import torch  \n",
    "import wandb\n",
    "from pynvml import *\n",
    "import pandas as pd\n",
    "from utils.notebook_modules import (initialize, init_dataloaders, init_environment, init_wandb, \n",
    "                                   training_prep, disp_dataloader_info,disp_info_1, \n",
    "                                   warmup_phase, weight_policy_training, display_gpu_info,\n",
    "                                init_dataloaders_by_fold_id, disp_for_excel)\n",
    "                                    \n",
    "\n",
    "from utils import (print_separator, print_heading, timestring, print_loss, load_from_pickle) #, print_underline, \n",
    "#                       print_dbg, get_command_line_args ) \n",
    "\n",
    "pp = pprint.PrettyPrinter(indent=4)\n",
    "np.set_printoptions(edgeitems=3, infstr='inf', linewidth=150, nanstr='nan')\n",
    "torch.set_printoptions(precision=6, linewidth=132)\n",
    "pd.options.display.width = 132\n",
    "# torch.set_printoptions(precision=None, threshold=None, edgeitems=None, linewidth=None, profile=None, sci_mode=None)\n",
    "# sys.path.insert(0, '/home/kbardool/kusanagi/AdaSparseChem/src')\n",
    "# print(sys.path)\n",
    "# disp_gpu_info() \n",
    "os.environ[\"WANDB_NOTEBOOK_NAME\"] = \"Adashare_Train_mini.ipynb\"\n",
    "\n",
    "display_gpu_info()\n",
    "\n"
   ]
  },
  {
   "cell_type": "markdown",
   "id": "1b33ac6e",
   "metadata": {},
   "source": [
    "## Create Environment"
   ]
  },
  {
   "cell_type": "markdown",
   "id": "ee652c57",
   "metadata": {},
   "source": [
    "### Parse Input Args  - Read YAML config file - wandb initialization"
   ]
  },
  {
   "cell_type": "code",
   "execution_count": 2,
   "id": "a42bb98b",
   "metadata": {
    "ExecuteTime": {
     "end_time": "2022-04-14T13:58:49.507857Z",
     "start_time": "2022-04-14T13:58:49.476469Z"
    }
   },
   "outputs": [],
   "source": [
    "# RESUME_MODEL_CKPT = 'model_train_ep_25_seed_0088'\n",
    "\n",
    "## For RESTARTING\n",
    "##\n",
    "# input_args = \" --config yamls/chembl_3task_train.yaml \" \\\n",
    "#              \" --resume \" \\\n",
    "#              \" --exp_id      330i85cg\" \\\n",
    "#              \" --exp_name    0308_1204\" \\\n",
    "#              \" --exp_desc    Train with dropout 0.5\" \\\n",
    "#              \" --seed_idx    0 \"\\\n",
    "#              \" --batch_size  128\" \\\n",
    "#              \" --lambda_sparsity  0.01\"\\\n",
    "#              \" --lambda_sharing   0.01\" \n",
    "## get command line arguments"
   ]
  },
  {
   "cell_type": "code",
   "execution_count": 3,
   "id": "cd3a7f00",
   "metadata": {
    "ExecuteTime": {
     "end_time": "2022-04-14T13:58:49.542386Z",
     "start_time": "2022-04-14T13:58:49.509875Z"
    },
    "execution": {
     "iopub.execute_input": "2022-01-07T22:44:13.145647Z",
     "iopub.status.busy": "2022-01-07T22:44:13.145313Z",
     "iopub.status.idle": "2022-01-07T22:44:13.193262Z",
     "shell.execute_reply": "2022-01-07T22:44:13.192140Z",
     "shell.execute_reply.started": "2022-01-07T22:44:13.145622Z"
    }
   },
   "outputs": [],
   "source": [
    "synthetic_1task_config = \"../yamls/chembl_synt_train_1task.yaml\"\n",
    "synthetic_3task_config = \"../yamls/chembl_synt_train_3task.yaml\"\n",
    "synthetic_5task_config = \"../yamls/chembl_synt_train_5task.yaml\"\n",
    "synthetic_config = \"../yamls/chembl_synt_train.yaml\"\n",
    "mini_config      = \"../yamls/chembl_mini_train.yaml\"\n",
    "##  For Initiating \n",
    "##\n",
    "input_args = f\" --config  {mini_config} \" \\\n",
    "             \" --exp_desc     weight 105 bch/ep policy 105 bch/ep \" \\\n",
    "             \" --warmup_epochs       100 \"  \\\n",
    "             \" --hidden_size         100 100 \"  \\\n",
    "             \" --tail_hidden_size     100 \"  \\\n",
    "             \" --first_dropout       0.45 \"  \\\n",
    "             \" --middle_dropout      0.45\"  \\\n",
    "             \" --last_dropout        0.45 \"  \\\n",
    "             \" --seed_idx              0 \"  \\\n",
    "             \" --batch_size          128 \"  \\\n",
    "             \" --task_lr           0.001 \"  \\\n",
    "             \" --backbone_lr       0.001 \"  \\\n",
    "             \" --decay_lr_rate       0.3 \"  \\\n",
    "             \" --decay_lr_freq        10 \"  \\\n",
    "             \" --policy_lr         0.001 \"  \\\n",
    "             \" --lambda_sparsity    0.02 \"  \\\n",
    "             \" --lambda_sharing     0.01 \"  \\\n",
    "             \" --folder_sfx       w_resid\"  \\\n",
    "             \" --cpu \" \n",
    "\n",
    "#              \" --no_residual \"\n",
    "\n",
    "#              \" --exp_name       0410_1934 \" \\\n",
    "#              \" --hidden_size   100 100 100 100 100 100\" \\\n",
    "#              \" --tail_hidden_size  100 \" \\\n",
    "#              \" --decay_lr_rate      0.75\"  \\\n",
    "#              \" --decay_lr_freq       20\"  \\\n"
   ]
  },
  {
   "cell_type": "code",
   "execution_count": 4,
   "id": "2ddaf625",
   "metadata": {
    "ExecuteTime": {
     "end_time": "2022-04-14T13:58:54.613437Z",
     "start_time": "2022-04-14T13:58:49.545091Z"
    },
    "scrolled": false
   },
   "outputs": [
    {
     "name": "stdout",
     "output_type": "stream",
     "text": [
      "\n",
      "  command line parms : \n",
      "------------------------\n",
      " config...................  ../yamls/chembl_mini_train.yaml\n",
      " exp_id...................  36lh0wpv\n",
      " exp_name.................  None\n",
      " folder_sfx...............  w_resid\n",
      " exp_desc.................  weight 105 bch/ep policy 105 bch/ep\n",
      " hidden_sizes.............  [100, 100]\n",
      " tail_hidden_size.........  [100]\n",
      " warmup_epochs............  100\n",
      " training_epochs..........  None\n",
      " seed_idx.................  0\n",
      " batch_size...............  128\n",
      " first_dropout............  0.45\n",
      " middle_dropout...........  0.45\n",
      " last_dropout.............  0.45\n",
      " backbone_lr..............  0.001\n",
      " task_lr..................  0.001\n",
      " policy_lr................  0.001\n",
      " decay_lr_rate............  0.3\n",
      " decay_lr_freq............  10.0\n",
      " lambda_sparsity..........  0.02\n",
      " lambda_sharing...........  0.01\n",
      " gpu_ids..................  [0]\n",
      " no_residual..............  False\n",
      " resume...................  False\n",
      " cpu......................  True\n",
      "\n",
      "\n",
      "\n",
      "##################################################\n",
      "################### READ YAML ####################\n",
      "##################################################\n",
      "36lh0wpv 0414_1558_w_resid AdaSparseChem-Mini\n"
     ]
    },
    {
     "name": "stderr",
     "output_type": "stream",
     "text": [
      "\u001b[34m\u001b[1mwandb\u001b[0m: Currently logged in as: \u001b[33mkbardool\u001b[0m (use `wandb login --relogin` to force relogin)\n"
     ]
    },
    {
     "data": {
      "text/html": [
       "Tracking run with wandb version 0.12.14"
      ],
      "text/plain": [
       "<IPython.core.display.HTML object>"
      ]
     },
     "metadata": {},
     "output_type": "display_data"
    },
    {
     "data": {
      "text/html": [
       "Run data is saved locally in <code>/vsc-hard-mounts/leuven-data/326/vsc32647/projs/AdaSparseChem/notebooks/wandb/run-20220414_155850-36lh0wpv</code>"
      ],
      "text/plain": [
       "<IPython.core.display.HTML object>"
      ]
     },
     "metadata": {},
     "output_type": "display_data"
    },
    {
     "data": {
      "text/html": [
       "Syncing run <strong><a href=\"https://wandb.ai/kbardool/AdaSparseChem-Mini/runs/36lh0wpv\" target=\"_blank\">0414_1558_w_resid</a></strong> to <a href=\"https://wandb.ai/kbardool/AdaSparseChem-Mini\" target=\"_blank\">Weights & Biases</a> (<a href=\"https://wandb.me/run\" target=\"_blank\">docs</a>)<br/>"
      ],
      "text/plain": [
       "<IPython.core.display.HTML object>"
      ]
     },
     "metadata": {},
     "output_type": "display_data"
    },
    {
     "name": "stdout",
     "output_type": "stream",
     "text": [
      " PROJECT NAME: AdaSparseChem-Mini\n",
      " RUN ID      : 36lh0wpv \n",
      " RUN NAME    : 0414_1558_w_resid\n",
      " PROJECT NAME: AdaSparseChem-Mini\n",
      " RUN ID      : 36lh0wpv \n",
      " RUN NAME    : 0414_1558_w_resid\n",
      "\n",
      "\n",
      " log_dir              create folder:  ../../experiments/mini-AdaSparseChem/100x2_0414_1558_lr0.001_do0.45_w_resid\n",
      " result_dir           folder exists:  ../../experiments/mini-AdaSparseChem/100x2_0414_1558_lr0.001_do0.45_w_resid\n",
      " checkpoint_dir       folder exists:  ../../experiments/mini-AdaSparseChem/100x2_0414_1558_lr0.001_do0.45_w_resid\n",
      "\n",
      "------------------------------------------------------------------------------------------------------------------------\n",
      " experiment name       : 0414_1558_w_resid \n",
      " experiment id         : 36lh0wpv \n",
      " folder_name           : 100x2_0414_1558_lr0.001_do0.45_w_resid \n",
      " experiment description: weight 105 bch/ep policy 105 bch/ep\n",
      " Random seeds          : [88, 45, 50, 100, 44, 48, 2048, 2222, 9999]\n",
      " Random  seed used     : 88 \n",
      " log folder            : ../../experiments/mini-AdaSparseChem/100x2_0414_1558_lr0.001_do0.45_w_resid\n",
      " checkpoint folder     : ../../experiments/mini-AdaSparseChem/100x2_0414_1558_lr0.001_do0.45_w_resid\n",
      " Gpu ids               : [0]\n",
      " Seed index            : 0\n",
      " policy_iter           : best\n",
      " Data Split ratios     : [0.725, 0.225, 0.05]\n",
      "------------------------------------------------------------------------------------------------------------------------ \n",
      "\n",
      "        project_name : AdaSparseChem-Mini\n",
      "              exp_id : 36lh0wpv\n",
      "            exp_name : 0414_1558_w_resid\n",
      "          exp_folder : 100x2_0414_1558_lr0.001_do0.45_w_resid\n",
      "     exp_description : weight 105 bch/ep policy 105 bch/ep\n",
      "          folder_sfx : w_resid\n",
      "         random_seed : 88\n",
      "           seed_list : [88, 45, 50, 100, 44, 48, 2048, 2222, 9999]\n",
      "                 cpu : True\n",
      "             gpu_ids : [0]\n",
      "            backbone : SparseChem\n",
      "               tasks : ['class']\n",
      "     tasks_num_class : [100]\n",
      "             lambdas : [1]\n",
      "        policy_model : task-specific\n",
      "             verbose : False\n",
      "     input_size_freq : None\n",
      "          input_size : 32000\n",
      " first_non_linearity : relu\n",
      "middle_non_linearity : relu\n",
      "  last_non_linearity : relu\n",
      "       first_dropout : 0.45\n",
      "      middle_dropout : 0.45\n",
      "        last_dropout : 0.45\n",
      "   class_output_size : None\n",
      "    regr_output_size : None\n",
      "              policy : True\n",
      "         is_residual : True\n",
      "           is_sparse : True\n",
      "          is_sharing : True\n",
      "diff_sparsity_weights : False\n",
      "          skip_layer : 0\n",
      "       is_curriculum : False\n",
      "    curriculum_speed : 3\n",
      "              fix_BN : False\n",
      "     retrain_from_pl : False\n",
      "\n",
      "train\n",
      "-----\n",
      "          batch_size : 128\n",
      "       warmup_epochs : 100\n",
      "     training_epochs : 250\n",
      "         total_iters : 25000\n",
      "       warm_up_iters : None\n",
      "             task_lr : 0.001\n",
      "         backbone_lr : 0.001\n",
      "    weight_optimizer : adam\n",
      "    policy_optimizer : adam\n",
      "       decay_lr_rate : 0.3\n",
      "       decay_lr_freq : 10.0\n",
      "   decay_lr_cooldown : 0\n",
      "policy_decay_lr_rate : 0.75\n",
      "policy_decay_lr_freq : 50\n",
      "policy_decay_lr_cooldown : 0\n",
      "           policy_lr : 0.001\n",
      "     lambda_sparsity : 0.02\n",
      "      lambda_sharing : 0.01\n",
      "        lambda_tasks : 1\n",
      "         init_method : random\n",
      "           init_temp : 4\n",
      "          decay_temp : 0.965\n",
      "     decay_temp_freq : 16\n",
      "     init_neg_logits : None\n",
      "       hard_sampling : False\n",
      "            val_freq : 500\n",
      "          print_freq : -1\n",
      "           val_iters : -1\n",
      "              resume : False\n",
      "      retrain_resume : False\n",
      "         policy_iter : best\n",
      "          which_iter : warmup\n",
      "\n",
      "paths\n",
      "-----\n",
      "             log_dir : ../../experiments/mini-AdaSparseChem/100x2_0414_1558_lr0.001_do0.45_w_resid\n",
      "          result_dir : ../../experiments/mini-AdaSparseChem/100x2_0414_1558_lr0.001_do0.45_w_resid\n",
      "      checkpoint_dir : ../../experiments/mini-AdaSparseChem/100x2_0414_1558_lr0.001_do0.45_w_resid\n",
      "\n",
      "dataload\n",
      "--------\n",
      "             dataset : Chembl23_mini\n",
      "            dataroot : ../../MLDatasets/chembl23_mini\n",
      "                   x : chembl_23mini_x.npy\n",
      "      x_split_ratios : [0.725, 0.225, 0.05]\n",
      "             y_tasks : ['chembl_23mini_y.npy']\n",
      "            y_censor : None\n",
      "             folding : chembl_23mini_folds.npy\n",
      "         fold_inputs : 32000\n",
      "     input_transform : None\n",
      "       weights_class : None\n",
      "   min_samples_class : 0\n",
      "             fold_va : 0\n",
      "             fold_te : None\n",
      "\n",
      "SC\n",
      "--\n",
      "      normalize_loss : None\n",
      "              config : ../yamls/chembl_mini_train.yaml\n",
      "        hidden_sizes : [100, 100]\n",
      "    tail_hidden_size : [100]\n",
      "        exp_name_pfx : 0414_1558\n"
     ]
    }
   ],
   "source": [
    "opt, ns = initialize(input_args, build_folders = True)"
   ]
  },
  {
   "cell_type": "code",
   "execution_count": 5,
   "id": "85a5e80e",
   "metadata": {
    "ExecuteTime": {
     "end_time": "2022-04-14T13:58:54.647990Z",
     "start_time": "2022-04-14T13:58:54.614851Z"
    }
   },
   "outputs": [],
   "source": [
    "# ns.wandb_run.finish()"
   ]
  },
  {
   "cell_type": "code",
   "execution_count": 6,
   "id": "dbc14177",
   "metadata": {
    "ExecuteTime": {
     "end_time": "2022-04-14T13:58:55.122593Z",
     "start_time": "2022-04-14T13:58:54.649514Z"
    },
    "scrolled": false
   },
   "outputs": [
    {
     "name": "stdout",
     "output_type": "stream",
     "text": [
      "(18388, 85277) (18388,)\n",
      "(14633,) (3755,)\n",
      "18387 18386\n",
      "\n",
      " trainset.y_class                                   :  [(14633, 100)] \n",
      " trainset1.y_class                                  :  [(14633, 100)] \n",
      " trainset2.y_class                                  :  [(14633, 100)] \n",
      " valset.y_class                                     :  [(3755, 100)]  \n",
      "                                 \n",
      " size of training set 0 (warm up)                   :  14633 \n",
      " size of training set 1 (network parms)             :  14633 \n",
      " size of training set 2 (policy weights)            :  14633 \n",
      " size of validation set                             :  3755 \n",
      "                               Total                :  47654 \n",
      "                                 \n",
      " Number of batches in training 0 (warm up)          :  115 \n",
      " Number of batches in training 1 (network parms)    :  115 \n",
      " Number of batches in training 2 (policy weights)   :  115 \n",
      " Number of batches in validation dataset            :  30 \n",
      "                                \n"
     ]
    }
   ],
   "source": [
    "# dldrs = init_dataloaders(opt, verbose = False)\n",
    "dldrs = init_dataloaders_by_fold_id(opt, verbose = False)\n",
    "disp_dataloader_info(dldrs)"
   ]
  },
  {
   "cell_type": "markdown",
   "id": "8f2bfa8d",
   "metadata": {},
   "source": [
    "### Setup Dataloader and Model  "
   ]
  },
  {
   "cell_type": "code",
   "execution_count": 7,
   "id": "c631eb67",
   "metadata": {
    "ExecuteTime": {
     "end_time": "2022-04-14T13:58:55.307586Z",
     "start_time": "2022-04-14T13:58:55.124819Z"
    },
    "execution": {
     "iopub.execute_input": "2022-01-07T22:44:16.229028Z",
     "iopub.status.busy": "2022-01-07T22:44:16.227544Z",
     "iopub.status.idle": "2022-01-07T22:44:16.659397Z",
     "shell.execute_reply": "2022-01-07T22:44:16.658348Z",
     "shell.execute_reply.started": "2022-01-07T22:44:16.228966Z"
    },
    "scrolled": false
   },
   "outputs": [
    {
     "name": "stdout",
     "output_type": "stream",
     "text": [
      "##################################################\n",
      "############# CREATE THE ENVIRONMENT #############\n",
      "##################################################\n",
      " device is  cpu\n",
      " SparseChem_BackBone() Input Layer  - Input: 32000  output: 100  non-linearity:<class 'torch.nn.modules.activation.ReLU'>\n",
      "--------------------------------------------------\n",
      " Initialize weights \n",
      "-------------------------------------------------- \n",
      "\n",
      "----------------------------------------------------\n",
      "* SparseChemEnv environment successfully created\n",
      "---------------------------------------------------- \n",
      "\n",
      " \n",
      "\n",
      "SparseChemEnv  Configuration       \n",
      "---------------------------------------- \n",
      "\n",
      "----------------\n",
      "networks       :\n",
      "----------------\n",
      " {'mtl-net': MTL3(\n",
      "  (backbone): SparseChem_Backbone(\n",
      "    (Input_Layer): Sequential(\n",
      "      (linear): SparseLinear(in_features=32000, out_features=100, bias=True)\n",
      "      (non_linear): ReLU()\n",
      "      (dropout): Dropout(p=0.45, inplace=False)\n",
      "    )\n",
      "    (blocks): ModuleList(\n",
      "      (0): SparseChemBlock(\n",
      "        (linear): Linear(in_features=100, out_features=100, bias=True)\n",
      "        (non_linear): ReLU()\n",
      "        (dropout): Dropout(p=0.45, inplace=False)\n",
      "      )\n",
      "      (1): SparseChemBlock(\n",
      "        (linear): Linear(in_features=100, out_features=100, bias=True)\n",
      "        (non_linear): ReLU()\n",
      "        (dropout): Dropout(p=0.45, inplace=False)\n",
      "      )\n",
      "    )\n",
      "    (residuals): ModuleList(\n",
      "      (0): None\n",
      "      (1): None\n",
      "    )\n",
      "  )\n",
      "  (task1_fc1_c0): SparseChem_Classification_Module(\n",
      "    (linear): Linear(in_features=100, out_features=100, bias=True)\n",
      "  )\n",
      ")}\n",
      "\n",
      "----------------\n",
      "optimizers     :\n",
      "----------------\n",
      " {'weights': Adam (\n",
      "Parameter Group 0\n",
      "    amsgrad: False\n",
      "    betas: (0.9, 0.999)\n",
      "    eps: 1e-08\n",
      "    lr: 0.001\n",
      "    weight_decay: 0.0001\n",
      "\n",
      "Parameter Group 1\n",
      "    amsgrad: False\n",
      "    betas: (0.9, 0.999)\n",
      "    eps: 1e-08\n",
      "    lr: 0.001\n",
      "    weight_decay: 0.0001\n",
      "), 'alphas': Adam (\n",
      "Parameter Group 0\n",
      "    amsgrad: False\n",
      "    betas: (0.9, 0.999)\n",
      "    eps: 1e-08\n",
      "    lr: 0.001\n",
      "    weight_decay: 0.0005\n",
      ")}\n",
      "\n",
      "----------------\n",
      "schedulers     :\n",
      "----------------\n",
      "factor                        : 0.75 \n",
      "optimizer                     : Adam (\n",
      "Parameter Group 0\n",
      "    amsgrad: False\n",
      "    betas: (0.9, 0.999)\n",
      "    eps: 1e-08\n",
      "    lr: 0.001\n",
      "    weight_decay: 0.0005\n",
      ") \n",
      "min_lrs                       : [0] \n",
      "patience                      : 50 \n",
      "verbose                       : True \n",
      "cooldown                      : 0 \n",
      "cooldown_counter              : 0 \n",
      "mode                          : min \n",
      "threshold                     : 0.0001 \n",
      "threshold_mode                : rel \n",
      "best                          : inf \n",
      "num_bad_epochs                : 0 \n",
      "mode_worse                    : inf \n",
      "eps                           : 1e-08 \n",
      "last_epoch                    : 0 \n",
      "factor                        : 0.3 \n",
      "optimizer                     : Adam (\n",
      "Parameter Group 0\n",
      "    amsgrad: False\n",
      "    betas: (0.9, 0.999)\n",
      "    eps: 1e-08\n",
      "    lr: 0.001\n",
      "    weight_decay: 0.0001\n",
      "\n",
      "Parameter Group 1\n",
      "    amsgrad: False\n",
      "    betas: (0.9, 0.999)\n",
      "    eps: 1e-08\n",
      "    lr: 0.001\n",
      "    weight_decay: 0.0001\n",
      ") \n",
      "min_lrs                       : [0, 0] \n",
      "patience                      : 10.0 \n",
      "verbose                       : True \n",
      "cooldown                      : 0 \n",
      "cooldown_counter              : 0 \n",
      "mode                          : min \n",
      "threshold                     : 0.0001 \n",
      "threshold_mode                : rel \n",
      "best                          : inf \n",
      "num_bad_epochs                : 0 \n",
      "mode_worse                    : inf \n",
      "eps                           : 1e-08 \n",
      "last_epoch                    : 0 \n",
      "\n"
     ]
    }
   ],
   "source": [
    "environ = init_environment(ns, opt, is_train = True, policy_learning = False, display_cfg = True)\n",
    "# environ.define_optimizer(policy_learning=False)\n",
    "# environ.define_scheduler(policy_learning=False)"
   ]
  },
  {
   "cell_type": "code",
   "execution_count": 8,
   "id": "6459332d",
   "metadata": {
    "ExecuteTime": {
     "end_time": "2022-04-14T13:58:55.340847Z",
     "start_time": "2022-04-14T13:58:55.310263Z"
    }
   },
   "outputs": [],
   "source": [
    "# environ.optimizers['weights'].param_groups[0]\n",
    "# print(environ.print_configuration())"
   ]
  },
  {
   "cell_type": "markdown",
   "id": "1d738062",
   "metadata": {},
   "source": [
    "### Initiate / Resume Training Prep"
   ]
  },
  {
   "cell_type": "code",
   "execution_count": 9,
   "id": "554ff58d",
   "metadata": {
    "ExecuteTime": {
     "end_time": "2022-04-14T13:58:55.379845Z",
     "start_time": "2022-04-14T13:58:55.344924Z"
    }
   },
   "outputs": [],
   "source": [
    "# ns.wandb_run.finish()\n",
    "# check_for_resume_training(ns, opt, environ)"
   ]
  },
  {
   "cell_type": "markdown",
   "id": "f9f7774f",
   "metadata": {},
   "source": [
    "### Training Preparation"
   ]
  },
  {
   "cell_type": "code",
   "execution_count": 13,
   "id": "e8b6afdc",
   "metadata": {
    "ExecuteTime": {
     "end_time": "2022-04-14T14:05:37.011090Z",
     "start_time": "2022-04-14T14:05:36.973121Z"
    }
   },
   "outputs": [
    {
     "name": "stdout",
     "output_type": "stream",
     "text": [
      " training preparation: - check for CUDA - cuda not available\n",
      "base_env.cpu()\n",
      " Network item mtl-net moved to cpu\n",
      "sparsechem_env.cpu()\n",
      " training preparation: - set print_freq to length of train loader: 115\n",
      " training preparation: - set eval_iters to length of val loader : 30\n",
      " training preparation: - set number of batches per weight training epoch to: 115\n",
      " training preparation: - set number of batches per policy training epoch to: 115\n",
      "--------------------------------------------------------------------------------\n",
      "\n",
      "    folder: 100x2_0414_1558_lr0.001_do0.45_w_resid\n",
      "    layers: 2 [100, 100] \n",
      "    \n",
      "    first dropout          : 0.45\n",
      "    middle dropout         : 0.45\n",
      "    last dropout           : 0.45\n",
      "    diff_sparsity_weights  : False\n",
      "    skip_layer             : 0\n",
      "    is_curriculum          : False\n",
      "    curriculum_speed       : 3\n",
      "    \n",
      "    task_lr                : 0.001\n",
      "    backbone_lr            : 0.001\n",
      "    decay_lr_rate          : 0.3\n",
      "    decay_lr_freq          : 10.0\n",
      "    \n",
      "    policy_lr              : 0.001\n",
      "    policy_decay_lr_rate   : 0.75\n",
      "    policy_decay_lr_freq   : 50\n",
      "    lambda_sparsity        : 0.02\n",
      "    lambda_sharing         : 0.01\n",
      "    lambda_tasks           : 1\n",
      "    \n",
      "    Gumbel init_temp       : 4\n",
      "    Gumbel decay_temp      : 0.965\n",
      "    Gumbel decay_temp_freq : 16\n",
      "    Logit init_method      : random\n",
      "    Logit init_neg_logits  : None\n",
      "    Logit hard_sampling    : False\n",
      "    Warm-up epochs         : 100\n",
      "    training epochs        : 250\n",
      "    Data split ratios      : [0.725, 0.225, 0.05]\n",
      "\n"
     ]
    }
   ],
   "source": [
    "training_prep(ns, opt, environ, dldrs)\n",
    "\n",
    "# print('-'*80)\n",
    "# disp_info_1(ns, opt, environ)\n",
    "\n",
    "print('-'*80)\n",
    "print(environ.disp_for_excel())"
   ]
  },
  {
   "cell_type": "markdown",
   "id": "3278d6d1",
   "metadata": {},
   "source": [
    "## Warmup Training"
   ]
  },
  {
   "cell_type": "code",
   "execution_count": 14,
   "id": "92380a48",
   "metadata": {
    "ExecuteTime": {
     "end_time": "2022-04-14T14:05:41.258808Z",
     "start_time": "2022-04-14T14:05:41.199328Z"
    },
    "scrolled": true
   },
   "outputs": [
    {
     "name": "stdout",
     "output_type": "stream",
     "text": [
      "--------------------------------------------------------------------------\n",
      " Last Epoch: 0   # of warm-up epochs to do:  100 - Run epochs 1 to 100\n",
      "-------------------------------------------------------------------------- \n",
      "\n"
     ]
    }
   ],
   "source": [
    "# environ.display_trained_policy(ns.current_epoch,out=sys.stdout)\n",
    "# ns.check_for_improvment_wait = 0\n",
    "# ns.warmup_epochs = 100\n",
    "print_heading(f\" Last Epoch: {ns.current_epoch}   # of warm-up epochs to do:  {ns.warmup_epochs} - Run epochs {ns.current_epoch+1} to {ns.current_epoch + ns.warmup_epochs}\", verbose = True)"
   ]
  },
  {
   "cell_type": "code",
   "execution_count": 15,
   "id": "1bd29e74",
   "metadata": {
    "ExecuteTime": {
     "end_time": "2022-04-14T14:20:26.062469Z",
     "start_time": "2022-04-14T14:05:43.173754Z"
    },
    "scrolled": false
   },
   "outputs": [
    {
     "name": "stdout",
     "output_type": "stream",
     "text": [
      "--------------------------------------------------------------------------\n",
      " Last Epoch: 0   # of warm-up epochs to do:  100 - Run epochs 1 to 100\n",
      "-------------------------------------------------------------------------- \n",
      "\n",
      " Ep  | Trunk LR  Heads LR  Polcy LR  Gmbl Tmp |  trn tsk    trn spar    trn shar   trn ttl |   logloss   bceloss  avg prec    aucroc     aucpr    f1_max |  val tsk    val spar    val shar     total | time |\n",
      "   1 | 1.00e-03  1.00e-03  1.00e-03  4.00e+00 |   0.3691   3.382e-04   0.000e+00    0.3694 |   0.00003   0.32934   0.86609   0.83607   0.84979   0.88354 |   0.1081   1.155e-04   0.000e+00    0.1082 |  7.8 |\n",
      "Previous best_epoch:     0   best iter:     0,   best_value: 0.00000\n",
      "New      best_epoch:     1   best iter:   115,   best_value: 0.86609\n",
      "   2 | 1.00e-03  1.00e-03  1.00e-03  4.00e+00 |   0.0616   3.382e-04   0.000e+00    0.0619 |   0.00002   0.30644   0.86892   0.84949   0.84731   0.88848 |   0.0865   1.155e-04   0.000e+00    0.0867 |  7.9 |\n",
      "Previous best_epoch:     1   best iter:   115,   best_value: 0.86609\n",
      "New      best_epoch:     2   best iter:   230,   best_value: 0.86892\n",
      "   3 | 1.00e-03  1.00e-03  1.00e-03  4.00e+00 |   0.1415   3.382e-04   0.000e+00    0.1418 |   0.00002   0.32639   0.87647   0.85329   0.85432   0.89509 |   0.0904   1.155e-04   0.000e+00    0.0905 |  9.4 |\n",
      "Previous best_epoch:     2   best iter:   230,   best_value: 0.86892\n",
      "New      best_epoch:     3   best iter:   345,   best_value: 0.87647\n",
      "   4 | 1.00e-03  1.00e-03  1.00e-03  4.00e+00 |   0.0081   3.382e-04   0.000e+00    0.0085 |   0.00002   0.32998   0.93734   0.88353   0.92973   0.93622 |   0.0876   1.155e-04   0.000e+00    0.0877 |  8.9 |\n",
      "Previous best_epoch:     3   best iter:   345,   best_value: 0.87647\n",
      "New      best_epoch:     4   best iter:   460,   best_value: 0.93734\n",
      "   5 | 1.00e-03  1.00e-03  1.00e-03  4.00e+00 |   0.0042   3.382e-04   0.000e+00    0.0046 |   0.00002   0.33450   0.92657   0.88490   0.91278   0.93116 |   0.0880   1.155e-04   0.000e+00    0.0881 |  8.3 |\n",
      "   6 | 1.00e-03  1.00e-03  1.00e-03  4.00e+00 |   0.0186   3.382e-04   0.000e+00    0.0189 |   0.00002   0.36526   0.94284   0.88391   0.93614   0.94451 |   0.0951   1.155e-04   0.000e+00    0.0953 |  8.8 |\n",
      "Previous best_epoch:     4   best iter:   460,   best_value: 0.93734\n",
      "New      best_epoch:     6   best iter:   690,   best_value: 0.94284\n",
      "   7 | 1.00e-03  1.00e-03  1.00e-03  4.00e+00 |   0.0891   3.382e-04   0.000e+00    0.0895 |   0.00002   0.35637   0.94289   0.88651   0.93564   0.94299 |   0.0970   1.155e-04   0.000e+00    0.0972 |  8.9 |\n",
      "Previous best_epoch:     6   best iter:   690,   best_value: 0.94284\n",
      "New      best_epoch:     7   best iter:   805,   best_value: 0.94289\n",
      "   8 | 1.00e-03  1.00e-03  1.00e-03  4.00e+00 |   0.0076   3.382e-04   0.000e+00    0.0079 |   0.00002   0.36265   0.94275   0.88696   0.93569   0.94006 |   0.0983   1.155e-04   0.000e+00    0.0984 |  8.4 |\n",
      "   9 | 1.00e-03  1.00e-03  1.00e-03  4.00e+00 |   0.0229   3.382e-04   0.000e+00    0.0232 |   0.00002   0.41644   0.94318   0.88760   0.93618   0.94232 |   0.1033   1.155e-04   0.000e+00    0.1034 |  8.6 |\n",
      "Previous best_epoch:     7   best iter:   805,   best_value: 0.94289\n",
      "New      best_epoch:     9   best iter:  1035,   best_value: 0.94318\n",
      "  10 | 1.00e-03  1.00e-03  1.00e-03  4.00e+00 |   0.0471   3.382e-04   0.000e+00    0.0474 |   0.00002   0.37519   0.94532   0.88878   0.93840   0.94331 |   0.1069   1.155e-04   0.000e+00    0.1070 |  9.0 |\n",
      "Previous best_epoch:     9   best iter:  1035,   best_value: 0.94318\n",
      "New      best_epoch:    10   best iter:  1150,   best_value: 0.94532\n",
      "  11 | 1.00e-03  1.00e-03  1.00e-03  4.00e+00 |   0.0011   3.382e-04   0.000e+00    0.0014 |   0.00003   0.39265   0.94337   0.88257   0.93633   0.94313 |   0.1132   1.155e-04   0.000e+00    0.1133 |  8.1 |\n",
      "  12 | 1.00e-03  1.00e-03  1.00e-03  4.00e+00 |   0.0472   3.382e-04   0.000e+00    0.0475 |   0.00003   0.41208   0.94076   0.88046   0.93399   0.94198 |   0.1085   1.155e-04   0.000e+00    0.1086 |  8.2 |\n",
      "  13 | 1.00e-03  1.00e-03  1.00e-03  4.00e+00 |   0.0025   3.382e-04   0.000e+00    0.0029 |   0.00003   0.42448   0.92783   0.88301   0.91387   0.93110 |   0.1145   1.155e-04   0.000e+00    0.1146 |  7.7 |\n",
      "  14 | 1.00e-03  1.00e-03  1.00e-03  4.00e+00 |   0.0122   3.382e-04   0.000e+00    0.0125 |   0.00003   0.43917   0.91943   0.88027   0.90967   0.92408 |   0.1092   1.155e-04   0.000e+00    0.1093 |  8.8 |\n",
      "  15 | 1.00e-03  1.00e-03  1.00e-03  4.00e+00 |   0.0198   3.382e-04   0.000e+00    0.0201 |   0.00003   0.48495   0.93900   0.87640   0.93190   0.93918 |   0.1272   1.155e-04   0.000e+00    0.1274 |  9.1 |\n",
      "  16 | 1.00e-03  1.00e-03  1.00e-03  4.00e+00 |   0.0264   3.382e-04   0.000e+00    0.0268 |   0.00003   0.44325   0.91729   0.87833   0.90650   0.92308 |   0.1212   1.155e-04   0.000e+00    0.1213 |  9.0 |\n",
      "  17 | 1.00e-03  1.00e-03  1.00e-03  4.00e+00 |   0.0386   3.382e-04   0.000e+00    0.0389 |   0.00003   0.46089   0.92325   0.87809   0.90842   0.93032 |   0.1283   1.155e-04   0.000e+00    0.1284 |  8.0 |\n",
      "  18 | 1.00e-03  1.00e-03  1.00e-03  4.00e+00 |   0.0035   3.382e-04   0.000e+00    0.0039 |   0.00003   0.53116   0.92302   0.87124   0.90924   0.93272 |   0.1263   1.155e-04   0.000e+00    0.1264 |  8.2 |\n",
      "  19 | 1.00e-03  1.00e-03  1.00e-03  4.00e+00 |   0.0017   3.382e-04   0.000e+00    0.0021 |   0.00003   0.45286   0.93919   0.88247   0.93215   0.94234 |   0.1206   1.155e-04   0.000e+00    0.1207 |  8.4 |\n",
      "  20 | 1.00e-03  1.00e-03  1.00e-03  4.00e+00 |   0.0492   3.382e-04   0.000e+00    0.0496 |   0.00003   0.51195   0.92298   0.88747   0.91173   0.92851 |   0.1279   1.155e-04   0.000e+00    0.1280 |  9.2 |\n",
      "  21 | 1.00e-03  1.00e-03  1.00e-03  4.00e+00 |   0.0026   3.382e-04   0.000e+00    0.0030 |   0.00003   0.50650   0.91752   0.87687   0.90736   0.92490 |   0.1370   1.155e-04   0.000e+00    0.1371 |  8.5 |\n",
      "  22 | 1.00e-03  1.00e-03  1.00e-03  4.00e+00 |   0.0037   3.382e-04   0.000e+00    0.0041 |   0.00003   0.45199   0.94292   0.88283   0.93573   0.94138 |   0.1274   1.155e-04   0.000e+00    0.1275 |  8.7 |\n",
      "Epoch    22: reducing learning rate of group 0 to 3.0000e-04.\n",
      "Epoch    22: reducing learning rate of group 1 to 3.0000e-04.\n",
      "  23 | 3.00e-04  3.00e-04  1.00e-03  4.00e+00 |   0.0010   3.382e-04   0.000e+00    0.0013 |   0.00003   0.44700   0.94268   0.88322   0.93541   0.94030 |   0.1249   1.155e-04   0.000e+00    0.1250 |  8.1 |\n",
      "  24 | 3.00e-04  3.00e-04  1.00e-03  4.00e+00 |   0.0009   3.382e-04   0.000e+00    0.0012 |   0.00003   0.44641   0.94130   0.88277   0.93373   0.94018 |   0.1208   1.155e-04   0.000e+00    0.1209 |  8.8 |\n",
      "  25 | 3.00e-04  3.00e-04  1.00e-03  4.00e+00 |   0.0007   3.382e-04   0.000e+00    0.0010 |   0.00003   0.46465   0.94197   0.88122   0.93473   0.94019 |   0.1265   1.155e-04   0.000e+00    0.1266 |  8.6 |\n",
      " Ep  | Trunk LR  Heads LR  Polcy LR  Gmbl Tmp |  trn tsk    trn spar    trn shar   trn ttl |   logloss   bceloss  avg prec    aucroc     aucpr    f1_max |  val tsk    val spar    val shar     total | time |\n",
      "  26 | 3.00e-04  3.00e-04  1.00e-03  4.00e+00 |   0.0013   3.382e-04   0.000e+00    0.0016 |   0.00003   0.46302   0.94662   0.88740   0.93968   0.94519 |   0.1297   1.155e-04   0.000e+00    0.1298 |  8.1 |\n",
      "Previous best_epoch:    10   best iter:  1150,   best_value: 0.94532\n",
      "New      best_epoch:    26   best iter:  2990,   best_value: 0.94662\n",
      "  27 | 3.00e-04  3.00e-04  1.00e-03  4.00e+00 |   0.0047   3.382e-04   0.000e+00    0.0051 |   0.00003   0.48300   0.94630   0.88827   0.93919   0.94507 |   0.1333   1.155e-04   0.000e+00    0.1334 | 10.2 |\n",
      "  28 | 3.00e-04  3.00e-04  1.00e-03  4.00e+00 |   0.0006   3.382e-04   0.000e+00    0.0009 |   0.00003   0.47004   0.94507   0.88994   0.93761   0.94365 |   0.1262   1.155e-04   0.000e+00    0.1264 |  8.4 |\n",
      "  29 | 3.00e-04  3.00e-04  1.00e-03  4.00e+00 |   0.0007   3.382e-04   0.000e+00    0.0011 |   0.00003   0.46456   0.94227   0.88609   0.93492   0.94110 |   0.1269   1.155e-04   0.000e+00    0.1270 |  9.0 |\n",
      "  30 | 3.00e-04  3.00e-04  1.00e-03  4.00e+00 |   0.0788   3.382e-04   0.000e+00    0.0791 |   0.00003   0.46493   0.94227   0.88544   0.93494   0.94109 |   0.1254   1.155e-04   0.000e+00    0.1255 |  8.3 |\n"
     ]
    },
    {
     "name": "stdout",
     "output_type": "stream",
     "text": [
      "  31 | 3.00e-04  3.00e-04  1.00e-03  4.00e+00 |   0.0041   3.382e-04   0.000e+00    0.0044 |   0.00003   0.47580   0.94132   0.88870   0.93395   0.94023 |   0.1252   1.155e-04   0.000e+00    0.1253 |  7.9 |\n",
      "  32 | 3.00e-04  3.00e-04  1.00e-03  4.00e+00 |   0.0023   3.382e-04   0.000e+00    0.0027 |   0.00003   0.47847   0.94269   0.88816   0.93534   0.94224 |   0.1328   1.155e-04   0.000e+00    0.1329 |  9.2 |\n",
      "  33 | 3.00e-04  3.00e-04  1.00e-03  4.00e+00 |   0.0010   3.382e-04   0.000e+00    0.0014 |   0.00003   0.48142   0.94545   0.89318   0.93821   0.94217 |   0.1241   1.155e-04   0.000e+00    0.1242 |  8.5 |\n",
      "  34 | 3.00e-04  3.00e-04  1.00e-03  4.00e+00 |   0.0013   3.382e-04   0.000e+00    0.0016 |   0.00003   0.48039   0.94220   0.88362   0.93487   0.94040 |   0.1323   1.155e-04   0.000e+00    0.1324 |  7.8 |\n",
      "  35 | 3.00e-04  3.00e-04  1.00e-03  4.00e+00 |   0.0036   3.382e-04   0.000e+00    0.0039 |   0.00003   0.51763   0.94133   0.88080   0.93401   0.94040 |   0.1336   1.155e-04   0.000e+00    0.1337 |  9.3 |\n",
      "  36 | 3.00e-04  3.00e-04  1.00e-03  4.00e+00 |   0.0006   3.382e-04   0.000e+00    0.0010 |   0.00003   0.50647   0.94388   0.88714   0.93656   0.94125 |   0.1360   1.155e-04   0.000e+00    0.1361 |  9.1 |\n",
      "  37 | 3.00e-04  3.00e-04  1.00e-03  4.00e+00 |   0.0031   3.382e-04   0.000e+00    0.0034 |   0.00003   0.49179   0.94206   0.88417   0.93481   0.94241 |   0.1287   1.155e-04   0.000e+00    0.1288 |  7.7 |\n",
      "  38 | 3.00e-04  3.00e-04  1.00e-03  4.00e+00 |   0.0036   3.382e-04   0.000e+00    0.0039 |   0.00003   0.47773   0.92821   0.88651   0.91685   0.93060 |   0.1302   1.155e-04   0.000e+00    0.1303 |  8.2 |\n",
      "  39 | 3.00e-04  3.00e-04  1.00e-03  4.00e+00 |   0.0010   3.382e-04   0.000e+00    0.0013 |   0.00003   0.46161   0.94416   0.88811   0.93668   0.94203 |   0.1238   1.155e-04   0.000e+00    0.1239 |  8.5 |\n",
      "Epoch    39: reducing learning rate of group 0 to 9.0000e-05.\n",
      "Epoch    39: reducing learning rate of group 1 to 9.0000e-05.\n",
      "  40 | 9.00e-05  9.00e-05  1.00e-03  4.00e+00 |   0.0002   3.382e-04   0.000e+00    0.0005 |   0.00003   0.46654   0.94323   0.88647   0.93570   0.94203 |   0.1240   1.155e-04   0.000e+00    0.1241 |  8.0 |\n",
      "  41 | 9.00e-05  9.00e-05  1.00e-03  4.00e+00 |   0.0020   3.382e-04   0.000e+00    0.0024 |   0.00003   0.47082   0.94548   0.88598   0.93796   0.94566 |   0.1233   1.155e-04   0.000e+00    0.1235 | 11.2 |\n",
      "  42 | 9.00e-05  9.00e-05  1.00e-03  4.00e+00 |   0.0194   3.382e-04   0.000e+00    0.0198 |   0.00003   0.47349   0.94365   0.88437   0.93613   0.94269 |   0.1245   1.155e-04   0.000e+00    0.1246 |  8.9 |\n",
      "  43 | 9.00e-05  9.00e-05  1.00e-03  4.00e+00 |   0.0006   3.382e-04   0.000e+00    0.0009 |   0.00003   0.47670   0.94398   0.88530   0.93652   0.94241 |   0.1331   1.155e-04   0.000e+00    0.1332 |  8.8 |\n",
      "  44 | 9.00e-05  9.00e-05  1.00e-03  4.00e+00 |   0.0018   3.382e-04   0.000e+00    0.0022 |   0.00003   0.48173   0.94416   0.88406   0.93672   0.94241 |   0.1313   1.155e-04   0.000e+00    0.1314 | 10.1 |\n",
      "  45 | 9.00e-05  9.00e-05  1.00e-03  4.00e+00 |   0.0005   3.382e-04   0.000e+00    0.0008 |   0.00003   0.47596   0.94639   0.88617   0.93898   0.94565 |   0.1274   1.155e-04   0.000e+00    0.1275 |  8.6 |\n",
      "  46 | 9.00e-05  9.00e-05  1.00e-03  4.00e+00 |   0.0033   3.382e-04   0.000e+00    0.0036 |   0.00003   0.48430   0.94725   0.88586   0.94000   0.94566 |   0.1389   1.155e-04   0.000e+00    0.1391 |  9.4 |\n",
      "Previous best_epoch:    26   best iter:  2990,   best_value: 0.94662\n",
      "New      best_epoch:    46   best iter:  5290,   best_value: 0.94725\n",
      "  47 | 9.00e-05  9.00e-05  1.00e-03  4.00e+00 |   0.0013   3.382e-04   0.000e+00    0.0017 |   0.00003   0.49230   0.94516   0.88565   0.93791   0.94192 |   0.1294   1.155e-04   0.000e+00    0.1295 |  7.9 |\n",
      "  48 | 9.00e-05  9.00e-05  1.00e-03  4.00e+00 |   0.0035   3.382e-04   0.000e+00    0.0038 |   0.00003   0.48764   0.94452   0.88211   0.93726   0.94065 |   0.1293   1.155e-04   0.000e+00    0.1294 |  9.1 |\n",
      "  49 | 9.00e-05  9.00e-05  1.00e-03  4.00e+00 |   0.0025   3.382e-04   0.000e+00    0.0028 |   0.00003   0.49531   0.94538   0.88192   0.93785   0.94434 |   0.1313   1.155e-04   0.000e+00    0.1314 |  7.6 |\n",
      "  50 | 9.00e-05  9.00e-05  1.00e-03  4.00e+00 |   0.0030   3.382e-04   0.000e+00    0.0033 |   0.00003   0.50229   0.94529   0.88193   0.93776   0.94434 |   0.1326   1.155e-04   0.000e+00    0.1328 |  8.0 |\n",
      " Ep  | Trunk LR  Heads LR  Polcy LR  Gmbl Tmp |  trn tsk    trn spar    trn shar   trn ttl |   logloss   bceloss  avg prec    aucroc     aucpr    f1_max |  val tsk    val spar    val shar     total | time |\n",
      "  51 | 9.00e-05  9.00e-05  1.00e-03  4.00e+00 |   0.0005   3.382e-04   0.000e+00    0.0008 |   0.00003   0.49754   0.94563   0.88456   0.93810   0.94541 |   0.1320   1.155e-04   0.000e+00    0.1321 |  8.5 |\n",
      "Epoch    51: reducing learning rate of group 0 to 2.7000e-05.\n",
      "Epoch    51: reducing learning rate of group 1 to 2.7000e-05.\n",
      "  52 | 2.70e-05  2.70e-05  1.00e-03  4.00e+00 |   0.0086   3.382e-04   0.000e+00    0.0089 |   0.00003   0.49762   0.94565   0.88469   0.93812   0.94541 |   0.1378   1.155e-04   0.000e+00    0.1379 |  8.9 |\n",
      "  53 | 2.70e-05  2.70e-05  1.00e-03  4.00e+00 |   0.0081   3.382e-04   0.000e+00    0.0084 |   0.00003   0.49957   0.94563   0.88384   0.93810   0.94541 |   0.1326   1.155e-04   0.000e+00    0.1327 |  7.9 |\n",
      "  54 | 2.70e-05  2.70e-05  1.00e-03  4.00e+00 |   0.0002   3.382e-04   0.000e+00    0.0006 |   0.00003   0.50137   0.94564   0.88410   0.93811   0.94541 |   0.1389   1.155e-04   0.000e+00    0.1390 | 10.4 |\n",
      "  55 | 2.70e-05  2.70e-05  1.00e-03  4.00e+00 |   0.0009   3.382e-04   0.000e+00    0.0012 |   0.00003   0.50433   0.94565   0.88414   0.93811   0.94541 |   0.1332   1.155e-04   0.000e+00    0.1333 |  9.6 |\n",
      "  56 | 2.70e-05  2.70e-05  1.00e-03  4.00e+00 |   0.0003   3.382e-04   0.000e+00    0.0006 |   0.00003   0.50178   0.94536   0.88278   0.93782   0.94434 |   0.1325   1.155e-04   0.000e+00    0.1326 | 10.2 |\n",
      "  57 | 2.70e-05  2.70e-05  1.00e-03  4.00e+00 |   0.0003   3.382e-04   0.000e+00    0.0006 |   0.00003   0.50100   0.94568   0.88445   0.93814   0.94541 |   0.1323   1.155e-04   0.000e+00    0.1324 |  8.3 |\n",
      "  58 | 2.70e-05  2.70e-05  1.00e-03  4.00e+00 |   0.0012   3.382e-04   0.000e+00    0.0015 |   0.00003   0.49871   0.94567   0.88472   0.93814   0.94541 |   0.1367   1.155e-04   0.000e+00    0.1368 |  8.2 |\n",
      "  59 | 2.70e-05  2.70e-05  1.00e-03  4.00e+00 |   0.0009   3.382e-04   0.000e+00    0.0013 |   0.00003   0.49701   0.94562   0.88318   0.93809   0.94513 |   0.1315   1.155e-04   0.000e+00    0.1316 |  8.5 |\n",
      "  60 | 2.70e-05  2.70e-05  1.00e-03  4.00e+00 |   0.0003   3.382e-04   0.000e+00    0.0006 |   0.00003   0.49858   0.94670   0.88446   0.93935   0.94541 |   0.1364   1.155e-04   0.000e+00    0.1365 |  8.6 |\n",
      "  61 | 2.70e-05  2.70e-05  1.00e-03  4.00e+00 |   0.0010   3.382e-04   0.000e+00    0.0013 |   0.00003   0.49771   0.94670   0.88444   0.93935   0.94541 |   0.1344   1.155e-04   0.000e+00    0.1345 |  8.3 |\n",
      "  62 | 2.70e-05  2.70e-05  1.00e-03  4.00e+00 |   0.0049   3.382e-04   0.000e+00    0.0053 |   0.00003   0.49672   0.94670   0.88441   0.93935   0.94541 |   0.1317   1.155e-04   0.000e+00    0.1318 |  8.9 |\n",
      "Epoch    62: reducing learning rate of group 0 to 8.1000e-06.\n",
      "Epoch    62: reducing learning rate of group 1 to 8.1000e-06.\n",
      "  63 | 8.10e-06  8.10e-06  1.00e-03  4.00e+00 |   0.0009   3.382e-04   0.000e+00    0.0012 |   0.00003   0.49742   0.94670   0.88440   0.93935   0.94541 |   0.1319   1.155e-04   0.000e+00    0.1320 | 10.0 |\n",
      "  64 | 8.10e-06  8.10e-06  1.00e-03  4.00e+00 |   0.0004   3.382e-04   0.000e+00    0.0008 |   0.00003   0.49955   0.94671   0.88443   0.93935   0.94541 |   0.1355   1.155e-04   0.000e+00    0.1356 |  9.0 |\n",
      "  65 | 8.10e-06  8.10e-06  1.00e-03  4.00e+00 |   0.0185   3.382e-04   0.000e+00    0.0188 |   0.00003   0.50187   0.94671   0.88444   0.93935   0.94541 |   0.1322   1.155e-04   0.000e+00    0.1323 |  9.3 |\n",
      "  66 | 8.10e-06  8.10e-06  1.00e-03  4.00e+00 |   0.0042   3.382e-04   0.000e+00    0.0045 |   0.00003   0.50038   0.94670   0.88422   0.93935   0.94541 |   0.1390   1.155e-04   0.000e+00    0.1391 |  8.9 |\n",
      "  67 | 8.10e-06  8.10e-06  1.00e-03  4.00e+00 |   0.0004   3.382e-04   0.000e+00    0.0008 |   0.00003   0.50100   0.94671   0.88447   0.93936   0.94541 |   0.1398   1.155e-04   0.000e+00    0.1399 |  9.4 |\n"
     ]
    },
    {
     "name": "stdout",
     "output_type": "stream",
     "text": [
      "  68 | 8.10e-06  8.10e-06  1.00e-03  4.00e+00 |   0.0077   3.382e-04   0.000e+00    0.0081 |   0.00003   0.50103   0.94670   0.88420   0.93934   0.94541 |   0.1329   1.155e-04   0.000e+00    0.1331 | 11.1 |\n",
      "  69 | 8.10e-06  8.10e-06  1.00e-03  4.00e+00 |   0.0029   3.382e-04   0.000e+00    0.0033 |   0.00003   0.50112   0.94641   0.88336   0.93905   0.94462 |   0.1320   1.155e-04   0.000e+00    0.1321 |  9.0 |\n",
      "  70 | 8.10e-06  8.10e-06  1.00e-03  4.00e+00 |   0.0028   3.382e-04   0.000e+00    0.0032 |   0.00003   0.49941   0.94671   0.88443   0.93935   0.94541 |   0.1336   1.155e-04   0.000e+00    0.1337 |  9.3 |\n",
      "  71 | 8.10e-06  8.10e-06  1.00e-03  4.00e+00 |   0.0007   3.382e-04   0.000e+00    0.0011 |   0.00003   0.50079   0.94644   0.88378   0.93908   0.94462 |   0.1395   1.155e-04   0.000e+00    0.1396 |  8.5 |\n",
      "  72 | 8.10e-06  8.10e-06  1.00e-03  4.00e+00 |   0.0004   3.382e-04   0.000e+00    0.0007 |   0.00003   0.50161   0.94641   0.88334   0.93905   0.94462 |   0.1412   1.155e-04   0.000e+00    0.1413 |  8.9 |\n",
      "  73 | 8.10e-06  8.10e-06  1.00e-03  4.00e+00 |   0.0001   3.382e-04   0.000e+00    0.0004 |   0.00003   0.50056   0.94644   0.88374   0.93908   0.94462 |   0.1388   1.155e-04   0.000e+00    0.1390 |  8.5 |\n",
      "  74 | 8.10e-06  8.10e-06  1.00e-03  4.00e+00 |   0.0010   3.382e-04   0.000e+00    0.0013 |   0.00003   0.50264   0.94644   0.88375   0.93908   0.94462 |   0.1427   1.155e-04   0.000e+00    0.1428 |  9.1 |\n",
      "  75 | 8.10e-06  8.10e-06  1.00e-03  4.00e+00 |   0.0003   3.382e-04   0.000e+00    0.0007 |   0.00003   0.50299   0.94644   0.88376   0.93908   0.94462 |   0.1327   1.155e-04   0.000e+00    0.1328 |  8.9 |\n",
      " Ep  | Trunk LR  Heads LR  Polcy LR  Gmbl Tmp |  trn tsk    trn spar    trn shar   trn ttl |   logloss   bceloss  avg prec    aucroc     aucpr    f1_max |  val tsk    val spar    val shar     total | time |\n",
      "  76 | 8.10e-06  8.10e-06  1.00e-03  4.00e+00 |   0.0016   3.382e-04   0.000e+00    0.0019 |   0.00003   0.50107   0.94644   0.88375   0.93908   0.94462 |   0.1315   1.155e-04   0.000e+00    0.1316 |  9.2 |\n",
      "  77 | 8.10e-06  8.10e-06  1.00e-03  4.00e+00 |   0.0005   3.382e-04   0.000e+00    0.0008 |   0.00003   0.50066   0.94644   0.88375   0.93908   0.94462 |   0.1452   1.155e-04   0.000e+00    0.1453 |  7.9 |\n",
      "  78 | 8.10e-06  8.10e-06  1.00e-03  4.00e+00 |   0.0005   3.382e-04   0.000e+00    0.0008 |   0.00003   0.50213   0.94644   0.88377   0.93908   0.94462 |   0.1315   1.155e-04   0.000e+00    0.1316 |  7.6 |\n",
      "  79 | 8.10e-06  8.10e-06  1.00e-03  4.00e+00 |   0.0004   3.382e-04   0.000e+00    0.0007 |   0.00003   0.50187   0.94644   0.88375   0.93908   0.94462 |   0.1318   1.155e-04   0.000e+00    0.1319 |  8.5 |\n",
      "  80 | 8.10e-06  8.10e-06  1.00e-03  4.00e+00 |   0.0002   3.382e-04   0.000e+00    0.0005 |   0.00003   0.50053   0.94644   0.88375   0.93908   0.94462 |   0.1370   1.155e-04   0.000e+00    0.1371 |  9.9 |\n",
      "  81 | 8.10e-06  8.10e-06  1.00e-03  4.00e+00 |   0.0012   3.382e-04   0.000e+00    0.0015 |   0.00003   0.49969   0.94644   0.88376   0.93908   0.94462 |   0.1314   1.155e-04   0.000e+00    0.1315 |  8.7 |\n",
      "  82 | 8.10e-06  8.10e-06  1.00e-03  4.00e+00 |   0.0005   3.382e-04   0.000e+00    0.0008 |   0.00003   0.49993   0.94643   0.88373   0.93908   0.94462 |   0.1317   1.155e-04   0.000e+00    0.1318 |  8.1 |\n",
      "  83 | 8.10e-06  8.10e-06  1.00e-03  4.00e+00 |   0.0021   3.382e-04   0.000e+00    0.0025 |   0.00003   0.50022   0.94643   0.88372   0.93907   0.94462 |   0.1328   1.155e-04   0.000e+00    0.1329 |  9.1 |\n",
      "  84 | 8.10e-06  8.10e-06  1.00e-03  4.00e+00 |   0.0102   3.382e-04   0.000e+00    0.0105 |   0.00003   0.50010   0.94643   0.88373   0.93907   0.94462 |   0.1314   1.155e-04   0.000e+00    0.1315 |  8.1 |\n",
      "Epoch    84: reducing learning rate of group 0 to 2.4300e-06.\n",
      "Epoch    84: reducing learning rate of group 1 to 2.4300e-06.\n",
      "  85 | 2.43e-06  2.43e-06  1.00e-03  4.00e+00 |   0.0001   3.382e-04   0.000e+00    0.0005 |   0.00003   0.50049   0.94643   0.88373   0.93907   0.94462 |   0.1416   1.155e-04   0.000e+00    0.1417 |  9.8 |\n",
      "  86 | 2.43e-06  2.43e-06  1.00e-03  4.00e+00 |   0.0008   3.382e-04   0.000e+00    0.0011 |   0.00003   0.50040   0.94643   0.88373   0.93907   0.94462 |   0.1350   1.155e-04   0.000e+00    0.1351 |  8.9 |\n",
      "  87 | 2.43e-06  2.43e-06  1.00e-03  4.00e+00 |   0.0009   3.382e-04   0.000e+00    0.0013 |   0.00003   0.50095   0.94643   0.88373   0.93907   0.94462 |   0.1354   1.155e-04   0.000e+00    0.1355 |  9.0 |\n",
      "  88 | 2.43e-06  2.43e-06  1.00e-03  4.00e+00 |   0.0012   3.382e-04   0.000e+00    0.0016 |   0.00003   0.50100   0.94643   0.88373   0.93907   0.94462 |   0.1329   1.155e-04   0.000e+00    0.1331 |  8.4 |\n",
      "  89 | 2.43e-06  2.43e-06  1.00e-03  4.00e+00 |   0.0006   3.382e-04   0.000e+00    0.0009 |   0.00003   0.50130   0.94643   0.88373   0.93907   0.94462 |   0.1392   1.155e-04   0.000e+00    0.1394 |  8.2 |\n",
      "  90 | 2.43e-06  2.43e-06  1.00e-03  4.00e+00 |   0.0031   3.382e-04   0.000e+00    0.0034 |   0.00003   0.50099   0.94643   0.88373   0.93907   0.94462 |   0.1438   1.155e-04   0.000e+00    0.1439 |  9.8 |\n",
      "  91 | 2.43e-06  2.43e-06  1.00e-03  4.00e+00 |   0.0696   3.382e-04   0.000e+00    0.0700 |   0.00003   0.50107   0.94643   0.88373   0.93907   0.94462 |   0.1343   1.155e-04   0.000e+00    0.1345 |  9.5 |\n",
      "  92 | 2.43e-06  2.43e-06  1.00e-03  4.00e+00 |   0.0067   3.382e-04   0.000e+00    0.0070 |   0.00003   0.50079   0.94643   0.88373   0.93907   0.94462 |   0.1368   1.155e-04   0.000e+00    0.1370 | 10.2 |\n",
      "  93 | 2.43e-06  2.43e-06  1.00e-03  4.00e+00 |   0.0015   3.382e-04   0.000e+00    0.0018 |   0.00003   0.50022   0.94643   0.88373   0.93907   0.94462 |   0.1318   1.155e-04   0.000e+00    0.1319 | 10.4 |\n",
      "  94 | 2.43e-06  2.43e-06  1.00e-03  4.00e+00 |   0.0008   3.382e-04   0.000e+00    0.0012 |   0.00003   0.50038   0.94643   0.88373   0.93907   0.94462 |   0.1318   1.155e-04   0.000e+00    0.1319 |  8.9 |\n",
      "  95 | 2.43e-06  2.43e-06  1.00e-03  4.00e+00 |   0.0009   3.382e-04   0.000e+00    0.0012 |   0.00003   0.50028   0.94643   0.88373   0.93907   0.94462 |   0.1325   1.155e-04   0.000e+00    0.1326 |  8.7 |\n",
      "Epoch    95: reducing learning rate of group 0 to 7.2900e-07.\n",
      "Epoch    95: reducing learning rate of group 1 to 7.2900e-07.\n",
      "  96 | 7.29e-07  7.29e-07  1.00e-03  4.00e+00 |   0.0094   3.382e-04   0.000e+00    0.0097 |   0.00003   0.50023   0.94643   0.88373   0.93907   0.94462 |   0.1321   1.155e-04   0.000e+00    0.1322 |  8.2 |\n",
      "  97 | 7.29e-07  7.29e-07  1.00e-03  4.00e+00 |   0.0059   3.382e-04   0.000e+00    0.0062 |   0.00003   0.50012   0.94643   0.88373   0.93907   0.94462 |   0.1347   1.155e-04   0.000e+00    0.1349 |  8.7 |\n",
      "  98 | 7.29e-07  7.29e-07  1.00e-03  4.00e+00 |   0.0006   3.382e-04   0.000e+00    0.0009 |   0.00003   0.50017   0.94643   0.88373   0.93907   0.94462 |   0.1344   1.155e-04   0.000e+00    0.1345 |  9.4 |\n",
      "  99 | 7.29e-07  7.29e-07  1.00e-03  4.00e+00 |   0.0007   3.382e-04   0.000e+00    0.0010 |   0.00003   0.50026   0.94643   0.88373   0.93907   0.94462 |   0.1319   1.155e-04   0.000e+00    0.1320 |  8.8 |\n",
      " 100 | 7.29e-07  7.29e-07  1.00e-03  4.00e+00 |   0.0005   3.382e-04   0.000e+00    0.0008 |   0.00003   0.50045   0.94643   0.88373   0.93907   0.94462 |   0.1330   1.155e-04   0.000e+00    0.1332 |  9.7 |\n",
      "[Final] ep:100  it:11500 -  Total Loss: 0.1332     \n",
      "Task: 0.1330   Sparsity: 1.15477e-04    Sharing: 0.00000e+00 \n",
      "\n",
      " ep:  100   softmax      s        \n",
      " ----- ----------------- -    \n",
      "  0    0.4998    0.5002  0\n",
      "  1    0.5004    0.4996  1\n",
      "\n",
      "\n",
      " ep:  100   logits       s         \n",
      " ----- ----------------- -    \n",
      "  0   -0.0006    0.0001  0\n",
      "  1    0.0002   -0.0013  1\n",
      "\n",
      " save warmup val_metrics to :  model_warmup_ep_100\n",
      " save warmup checkpoint  to :  model_warmup_ep_100\n"
     ]
    },
    {
     "name": "stderr",
     "output_type": "stream",
     "text": [
      "wandb: Network error (ReadTimeout), entering retry loop.\n"
     ]
    }
   ],
   "source": [
    "\n",
    "warmup_phase(ns,opt, environ, dldrs)\n"
   ]
  },
  {
   "cell_type": "code",
   "execution_count": 13,
   "id": "31ccb59a",
   "metadata": {
    "ExecuteTime": {
     "end_time": "2022-04-14T13:43:15.305456Z",
     "start_time": "2022-04-14T13:43:14.645638Z"
    }
   },
   "outputs": [
    {
     "name": "stdout",
     "output_type": "stream",
     "text": [
      "Best Epoch :       12\n",
      "Best Iteration :   1380 \n",
      "Best Precision :   0.94713\n",
      "\n",
      "\n",
      "{   'auc_pr': 0.920618872131318,\n",
      "    'avg_prec_score': 0.9338421203378308,\n",
      "    'bceloss': 0.48882646677203667,\n",
      "    'f1_max': 0.935653243565303,\n",
      "    'kappa': 0.39786045753375965,\n",
      "    'kappa_max': 0.7703548176227059,\n",
      "    'logloss': 2.8194716917562623e-05,\n",
      "    'p_f1_max': 0.6470191606547302,\n",
      "    'p_kappa_max': 0.7657430766221995,\n",
      "    'roc_auc_score': 0.8925220158488616,\n",
      "    'sc_loss': 0.004049701173259245}\n"
     ]
    }
   ],
   "source": [
    "print(f\"Best Epoch :       {ns.best_epoch}\\n\"\n",
    "      f\"Best Iteration :   {ns.best_iter} \\n\"\n",
    "      f\"Best Precision :   {ns.best_value:.5f}\\n\")\n",
    "print()\n",
    "pp.pprint(environ.val_metrics['aggregated'])"
   ]
  },
  {
   "cell_type": "code",
   "execution_count": 14,
   "id": "64ba324f",
   "metadata": {
    "ExecuteTime": {
     "end_time": "2022-04-14T13:43:25.269113Z",
     "start_time": "2022-04-14T13:43:20.509888Z"
    }
   },
   "outputs": [
    {
     "name": "stdout",
     "output_type": "stream",
     "text": [
      "\n"
     ]
    },
    {
     "data": {
      "text/html": [
       "Waiting for W&B process to finish... <strong style=\"color:green\">(success).</strong>"
      ],
      "text/plain": [
       "<IPython.core.display.HTML object>"
      ]
     },
     "metadata": {},
     "output_type": "display_data"
    },
    {
     "data": {
      "application/vnd.jupyter.widget-view+json": {
       "model_id": "3327be092a0c4cd69731cf6a5dc062a1",
       "version_major": 2,
       "version_minor": 0
      },
      "text/plain": [
       "VBox(children=(Label(value='0.001 MB of 0.001 MB uploaded (0.000 MB deduped)\\r'), FloatProgress(value=1.0, max…"
      ]
     },
     "metadata": {},
     "output_type": "display_data"
    },
    {
     "name": "stdout",
     "output_type": "stream",
     "text": [
      "\n",
      "!!!!!!!!!!!!!!!!!!!!!!!!!!!!!!!!!!!!!!!!!!!!!!!!!!!!!!!!!!!!!!!!!!!!!!!!!!!!!!!\n",
      "WARNING:\n",
      "\n",
      "You should always run with libnvidia-ml.so that is installed with your\n",
      "NVIDIA Display Driver. By default it's installed in /usr/lib and /usr/lib64.\n",
      "libnvidia-ml.so in GDK package is a stub library that is attached only for\n",
      "build purposes (e.g. machine that you build your application doesn't have\n",
      "to have Display Driver installed).\n",
      "!!!!!!!!!!!!!!!!!!!!!!!!!!!!!!!!!!!!!!!!!!!!!!!!!!!!!!!!!!!!!!!!!!!!!!!!!!!!!!!\n",
      "Linked to libnvidia-ml library at wrong path : /usr/lib64/libnvidia-ml.so.1\n",
      "\n",
      "\n",
      "!!!!!!!!!!!!!!!!!!!!!!!!!!!!!!!!!!!!!!!!!!!!!!!!!!!!!!!!!!!!!!!!!!!!!!!!!!!!!!!\n",
      "WARNING:\n",
      "\n",
      "You should always run with libnvidia-ml.so that is installed with your\n",
      "NVIDIA Display Driver. By default it's installed in /usr/lib and /usr/lib64.\n",
      "libnvidia-ml.so in GDK package is a stub library that is attached only for\n",
      "build purposes (e.g. machine that you build your application doesn't have\n",
      "to have Display Driver installed).\n",
      "!!!!!!!!!!!!!!!!!!!!!!!!!!!!!!!!!!!!!!!!!!!!!!!!!!!!!!!!!!!!!!!!!!!!!!!!!!!!!!!\n",
      "Linked to libnvidia-ml library at wrong path : /usr/lib64/libnvidia-ml.so.1\n",
      "\n"
     ]
    },
    {
     "data": {
      "text/html": [
       "<style>\n",
       "    table.wandb td:nth-child(1) { padding: 0 10px; text-align: right }\n",
       "    .wandb-row { display: flex; flex-direction: row; flex-wrap: wrap; width: 100% }\n",
       "    .wandb-col { display: flex; flex-direction: column; flex-basis: 100%; flex: 1; padding: 10px; }\n",
       "    </style>\n",
       "<div class=\"wandb-row\"><div class=\"wandb-col\"><h3>Run history:</h3><br/><table class=\"wandb\"><tr><td>auc_pr</td><td>▁▇▇▆▇▆▆▆▆▇▄▆▄██▆▆▆▆▆▇▇▇▇▇▆▆▆▆▇▇▇▇▇▇▇▇▇▇▇</td></tr><tr><td>avg_prec_score</td><td>▁▇▇▆▇▇▆▆▆▇▄▆▅██▆▇▇▇▇▇▇▇▇▇▇▇▇▇▇▇▇▇▇▇▇▇▇▇▇</td></tr><tr><td>bceloss</td><td>▁▁▃▃▅▅▅▅▇▆▇▆█▆▄▆▆▇▆▆▆▆▆▆▆▆▆▆▆▆▆▆▆▆▆▆▆▆▆▆</td></tr><tr><td>best_accuracy</td><td>▁▆▇▇█</td></tr><tr><td>best_epoch</td><td>▁▂▂▇█</td></tr><tr><td>best_iter</td><td>▁▂▂▇█</td></tr><tr><td>epoch</td><td>▁▁▁▁▂▂▂▂▂▃▃▃▃▃▃▄▄▄▄▄▅▅▅▅▅▅▆▆▆▆▆▇▇▇▇▇▇███</td></tr><tr><td>f1_max</td><td>▁▇▇▆▇▆▅▅▅▆▃▆▅██▆▆▆▆▆▇▇▇▇▆▆▆▆▆▇▇▇▇▇▇▇▇▇▇▇</td></tr><tr><td>gumbel_temp</td><td>▁▁▁▁▁▁▁▁▁▁▁▁▁▁▁▁▁▁▁▁▁▁▁▁▁▁▁▁▁▁▁▁▁▁▁▁▁▁▁▁</td></tr><tr><td>kappa</td><td>▁▅█▆▅▅▆▄█▆▇▆▆▇▇█▇▇▇▇▇▇▆▇▇▆▇▇▆▆▆▆▆▆▆▆▆▆▆▆</td></tr><tr><td>kappa_max</td><td>▁▇████▆▇▄█▃▆▅▇█▆▇▆▇▆▇▇▇▇▇▇▆▆▆▇▇▇▇▇▇▇▇▇▇▇</td></tr><tr><td>lambda_sharing</td><td>▁▁▁▁▁▁▁▁▁▁▁▁▁▁▁▁▁▁▁▁▁▁▁▁▁▁▁▁▁▁▁▁▁▁▁▁▁▁▁▁</td></tr><tr><td>lambda_sparsity</td><td>▁▁▁▁▁▁▁▁▁▁▁▁▁▁▁▁▁▁▁▁▁▁▁▁▁▁▁▁▁▁▁▁▁▁▁▁▁▁▁▁</td></tr><tr><td>lambda_tasks</td><td>▁▁▁▁▁▁▁▁▁▁▁▁▁▁▁▁▁▁▁▁▁▁▁▁▁▁▁▁▁▁▁▁▁▁▁▁▁▁▁▁</td></tr><tr><td>logloss</td><td>▂▁▃▃▆▄▅▆█▆▇▆▇▅▅▅▅▆▆▅▅▆▅▅▅▅▆▅▆▆▇▅▅▅▆▆▆▅▅▅</td></tr><tr><td>lr_0</td><td>███████████████▃▃▃▃▃▃▂▂▂▂▂▂▁▁▁▁▁▁▁▁▁▁▁▁▁</td></tr><tr><td>lr_1</td><td>███████████████▃▃▃▃▃▃▂▂▂▂▂▂▁▁▁▁▁▁▁▁▁▁▁▁▁</td></tr><tr><td>p_f1_max</td><td>███▆█▇▆▇▃▅▁▇▄█▆▁▂▃▅▄▄▄▅▄▄▃▃▁▅▄▅▅▃▃▂▂▃▂▂▂</td></tr><tr><td>p_kappa_max</td><td>▁▅▅▄▅▅▃▅▄▃▇█▃▆▅▆▄▃▆▅▂▄▄▂▆▃▆▅▅▃▃▃▄▄▃▄▄▄▄▄</td></tr><tr><td>policy</td><td>▁▁▁▁▁▁▁▁▁▁▁▁▁▁▁▁▁▁▁▁▁▁▁▁▁▁▁▁▁▁▁▁▁▁▁▁▁▁▁▁</td></tr><tr><td>policy_lr</td><td>▁▁▁▁▁▁▁▁▁▁▁▁▁▁▁▁▁▁▁▁▁▁▁▁▁▁▁▁▁▁▁▁▁▁▁▁▁▁▁▁</td></tr><tr><td>roc_auc_score</td><td>▁▇▅▇▆▇▄▆▆█▅▅▄▅▆▆▆▆▆▆▆▇▆▆▆▆▆▆▆▆▆▆▆▆▆▆▆▆▆▆</td></tr><tr><td>sc_loss</td><td>▂▁▃▃▆▄▅▆█▆▇▆▇▅▅▅▅▆▆▅▅▆▅▅▅▅▆▅▆▆▇▅▅▅▆▆▆▅▅▅</td></tr><tr><td>task</td><td>▂▁▃▃▆▄▅▆█▆▇▆▇▅▅▅▅▆▆▅▅▆▅▅▅▅▆▅▆▆▇▅▅▅▆▆▆▅▅▅</td></tr><tr><td>task1</td><td>▁▁▁▁▁▁▁▁▁▁▁▁▁▁▁▁▁▁▁▁▁▁▁▁▁▁▁▁▁▁▁▁▁▁▁▁▁▁▁▁</td></tr><tr><td>total</td><td>▁▁▁▁▁▁▁▁▁▁▁▁▁▁▁▁▁▁▁▁▁▁▁▁▁▁▁▁▁▁▁▁▁▁▁▁▁▁▁▁</td></tr><tr><td>total_mean</td><td>▂▁▂▂▅▄▄▄█▅▅▄▅▄▄▃▃▅▅▃▃▅▃▃▄▅▆▃▆▆▇▃▃▃▄▅▅▃▄▃</td></tr><tr><td>train_layers</td><td>▁▁▁▁▁▁▁▁▁▁▁▁▁▁▁▁▁▁▁▁▁▁▁▁▁▁▁▁▁▁▁▁▁▁▁▁▁▁▁▁</td></tr></table><br/></div><div class=\"wandb-col\"><h3>Run summary:</h3><br/><table class=\"wandb\"><tr><td>auc_pr</td><td>0.92062</td></tr><tr><td>avg_prec_score</td><td>0.93384</td></tr><tr><td>bceloss</td><td>0.48883</td></tr><tr><td>epoch</td><td>100</td></tr><tr><td>f1_max</td><td>0.93565</td></tr><tr><td>gumbel_temp</td><td>4</td></tr><tr><td>kappa</td><td>0.39786</td></tr><tr><td>kappa_max</td><td>0.77035</td></tr><tr><td>lambda_sharing</td><td>0.01</td></tr><tr><td>lambda_sparsity</td><td>0.02</td></tr><tr><td>lambda_tasks</td><td>1</td></tr><tr><td>logloss</td><td>3e-05</td></tr><tr><td>lr_0</td><td>0.0</td></tr><tr><td>lr_1</td><td>0.0</td></tr><tr><td>p_f1_max</td><td>0.64702</td></tr><tr><td>p_kappa_max</td><td>0.76574</td></tr><tr><td>policy</td><td>0.00012</td></tr><tr><td>policy_lr</td><td>0.001</td></tr><tr><td>roc_auc_score</td><td>0.89252</td></tr><tr><td>sc_loss</td><td>0.00405</td></tr><tr><td>task</td><td>0.12149</td></tr><tr><td>task1</td><td>0.00012</td></tr><tr><td>total</td><td>0.00012</td></tr><tr><td>total_mean</td><td>0.00094</td></tr><tr><td>train_layers</td><td>0</td></tr></table><br/></div></div>"
      ],
      "text/plain": [
       "<IPython.core.display.HTML object>"
      ]
     },
     "metadata": {},
     "output_type": "display_data"
    },
    {
     "data": {
      "text/html": [
       "Synced <strong style=\"color:#cdcd00\">0414_1533_w_resid</strong>: <a href=\"https://wandb.ai/kbardool/AdaSparseChem-Mini/runs/3gdxls7r\" target=\"_blank\">https://wandb.ai/kbardool/AdaSparseChem-Mini/runs/3gdxls7r</a><br/>Synced 6 W&B file(s), 0 media file(s), 0 artifact file(s) and 0 other file(s)"
      ],
      "text/plain": [
       "<IPython.core.display.HTML object>"
      ]
     },
     "metadata": {},
     "output_type": "display_data"
    },
    {
     "data": {
      "text/html": [
       "Find logs at: <code>./wandb/run-20220414_153333-3gdxls7r/logs</code>"
      ],
      "text/plain": [
       "<IPython.core.display.HTML object>"
      ]
     },
     "metadata": {},
     "output_type": "display_data"
    }
   ],
   "source": [
    "# warmup_phase(ns,opt, environ, dldrs, epochs = 25)\n",
    "ns.wandb_run.finish()\n",
    "\n",
    "# ns.wandb_run.finish()\n",
    "# environ.losses\n",
    "# environ.val_metrics"
   ]
  },
  {
   "cell_type": "code",
   "execution_count": 16,
   "id": "356f564d",
   "metadata": {
    "ExecuteTime": {
     "end_time": "2022-04-14T13:32:47.028285Z",
     "start_time": "2022-04-14T13:32:46.998204Z"
    }
   },
   "outputs": [
    {
     "data": {
      "text/plain": [
       "0"
      ]
     },
     "execution_count": 16,
     "metadata": {},
     "output_type": "execute_result"
    }
   ],
   "source": [
    "ns.check_for_improvment_wait\n",
    "ns.curriculum_epochs"
   ]
  },
  {
   "cell_type": "code",
   "execution_count": null,
   "id": "e48528a6",
   "metadata": {},
   "outputs": [],
   "source": []
  },
  {
   "cell_type": "markdown",
   "id": "6af28185",
   "metadata": {
    "heading_collapsed": true
   },
   "source": [
    "## Check values"
   ]
  },
  {
   "cell_type": "code",
   "execution_count": 16,
   "id": "c3c08a9d",
   "metadata": {
    "ExecuteTime": {
     "end_time": "2022-04-13T09:25:01.937131Z",
     "start_time": "2022-04-13T09:25:01.339079Z"
    },
    "hidden": true
   },
   "outputs": [],
   "source": [
    "# environ.display_trained_policy(ns.current_epoch,out=[sys.stdout])\n",
    "# environ.num_tasks\n",
    "# print(environ.get_policy_prob().shape)\n",
    "# print(environ.val_data['task1'].keys())\n",
    "# print(environ.val_data['task1']['yc_ind'][0][:40])\n",
    "# print(environ.val_data['task1']['yc_ind'][1][:40])\n",
    "# print(environ.val_data['task1']['yc_data'][:40])\n",
    "# print(environ.val_data['task1']['yc_hat'][:40])\n",
    "# environ.display_trained_policy(ns.current_epoch,out=[sys.stdout])\n",
    "# environ.display_trained_logits(ns.current_epoch,out=[sys.stdout])"
   ]
  },
  {
   "cell_type": "code",
   "execution_count": 17,
   "id": "5607528c",
   "metadata": {
    "ExecuteTime": {
     "end_time": "2022-04-13T09:25:02.534297Z",
     "start_time": "2022-04-13T09:25:02.503118Z"
    },
    "hidden": true,
    "scrolled": false
   },
   "outputs": [
    {
     "name": "stdout",
     "output_type": "stream",
     "text": [
      "{   '_runtime': 58,\n",
      "    '_timestamp': 1649841795,\n",
      "    'aggregated': {   'auc_pr': 0.8863761813736045,\n",
      "                      'avg_prec_score': 0.9038057874228314,\n",
      "                      'bceloss': 0.5405514872601578,\n",
      "                      'f1_max': 0.9285540758241476,\n",
      "                      'kappa': 0.4061207927257367,\n",
      "                      'kappa_max': 0.7299278430897939,\n",
      "                      'logloss': 3.2356826155563767e-05,\n",
      "                      'p_f1_max': 0.6895967995007641,\n",
      "                      'p_kappa_max': 0.7860043613383403,\n",
      "                      'roc_auc_score': 0.8293258801651597,\n",
      "                      'sc_loss': 0.004647518796810809},\n",
      "    'epoch': 25,\n",
      "    'parms': {   'gumbel_temp': 4,\n",
      "                 'lambda_sharing': 0.01,\n",
      "                 'lambda_sparsity': 0.02,\n",
      "                 'lambda_tasks': 1,\n",
      "                 'lr_0': 0.001,\n",
      "                 'lr_1': 0.001,\n",
      "                 'policy_lr': 0.001,\n",
      "                 'train_layers': 0},\n",
      "    'sharing': {'total': 0.0},\n",
      "    'sparsity': {   'task1': 0.00011550190538400784,\n",
      "                    'total': 0.00011550190538400784},\n",
      "    'task': {'task1': 0.13942556390432426, 'total': 0.13942556390432426},\n",
      "    'task1': {   'classification': {   '_latest_artifact_path': 'wandb-client-artifact://3tspe211do86y85wudaihuqt2z3d0iglewjf4ip21k1ex7x0i8e83rp9yr4dlvti1j8u43044j5n0wsv1h3ewsq44bi3pknhffqqnofy825r91aztyt6yh62a3yvcj45:latest/classification.table.json',\n",
      "                                       '_type': 'table-file',\n",
      "                                       'artifact_path': 'wandb-client-artifact://1es0xgr8ujqonka73urgc0fzf1my6jqu90uby7eufopqlrpw1jxuwvbiq4l9xqwzf505r4dp9acjmid2usxnz5sdvjl00r73xp08i53apjqjxjqgz5n7p1j1ohz946lx/classification.table.json',\n",
      "                                       'ncols': 9,\n",
      "                                       'nrows': 100,\n",
      "                                       'path': 'media/table/classification_29_291c259255eb9ad8933a.table.json',\n",
      "                                       'sha256': '291c259255eb9ad8933a5b327da7fefe5e0f0e4d63d829b94361a125fa578397',\n",
      "                                       'size': 8841},\n",
      "                 'classification_agg': {   'auc_pr': 0.8863761813736045,\n",
      "                                           'avg_prec_score': 0.9038057874228314,\n",
      "                                           'bceloss': 0.5405514872601578,\n",
      "                                           'f1_max': 0.9285540758241476,\n",
      "                                           'kappa': 0.4061207927257367,\n",
      "                                           'kappa_max': 0.7299278430897939,\n",
      "                                           'logloss': 3.2356826155563767e-05,\n",
      "                                           'p_f1_max': 0.6895967995007641,\n",
      "                                           'p_kappa_max': 0.7860043613383403,\n",
      "                                           'roc_auc_score': 0.8293258801651597,\n",
      "                                           'sc_loss': 0.004647518796810809}},\n",
      "    'task_mean': {   'task1': 0.0011552470713187414,\n",
      "                     'total': 0.0011552470713187414},\n",
      "    'total': {   'policy': 0.00011550190538400784,\n",
      "                 'task': 0.13942556390432426,\n",
      "                 'total': 0.13954106580970826,\n",
      "                 'total_mean': 0.0012707489767027492},\n",
      "    'train_time': 1.9346582889556885}\n"
     ]
    }
   ],
   "source": [
    "# pp.pprint(environ.val_metrics['task1'])\n",
    "pp.pprint(environ.val_metrics)\n",
    "# pp.pprint(ns.val_metrics)\n",
    "# print((environ.val_data['task1']['yc_data']).sum())\n",
    "# print(len(environ.val_data['task1']['yc_ind'][1]))\n",
    "# print(len(environ.val_data['task1']['yc_data']))\n",
    "# print(len(environ.val_data['task1']['yc_hat']))"
   ]
  },
  {
   "cell_type": "code",
   "execution_count": 16,
   "id": "e18351b0",
   "metadata": {
    "ExecuteTime": {
     "end_time": "2022-04-13T09:12:32.452187Z",
     "start_time": "2022-04-13T09:12:32.420905Z"
    },
    "hidden": true
   },
   "outputs": [
    {
     "data": {
      "text/plain": [
       "dict"
      ]
     },
     "execution_count": 16,
     "metadata": {},
     "output_type": "execute_result"
    }
   ],
   "source": [
    "type(ns.val_metrics['aggregated'])"
   ]
  },
  {
   "cell_type": "code",
   "execution_count": 23,
   "id": "bf831931",
   "metadata": {
    "ExecuteTime": {
     "end_time": "2022-04-13T08:47:30.057623Z",
     "start_time": "2022-04-13T08:47:29.588103Z"
    },
    "hidden": true
   },
   "outputs": [
    {
     "name": "stdout",
     "output_type": "stream",
     "text": [
      "{   '_runtime': 344,\n",
      "    '_timestamp': 1649839198,\n",
      "    'parms': {   'gumbel_temp': 4,\n",
      "                 'lambda_sharing': 0.01,\n",
      "                 'lambda_sparsity': 0.02,\n",
      "                 'lambda_tasks': 1,\n",
      "                 'lr_0': 7.289999999999998e-07,\n",
      "                 'lr_1': 7.289999999999998e-07,\n",
      "                 'policy_lr': 0.001,\n",
      "                 'train_layers': 0},\n",
      "    'sharing': {'total': tensor(0.)},\n",
      "    'sparsity': {'task1': tensor(0.000338), 'total': tensor(0.000338)},\n",
      "    'task': {   'task1': tensor(0.000160, dtype=torch.float64, grad_fn=<DivBackward0>),\n",
      "                'total': tensor(0.000160, dtype=torch.float64, grad_fn=<MulBackward0>)},\n",
      "    'task_mean': {   'task1': tensor(3.338073e-06, dtype=torch.float64, grad_fn=<DivBackward0>),\n",
      "                     'total': tensor(3.338073e-06, dtype=torch.float64, grad_fn=<MulBackward0>)},\n",
      "    'total': {   'backprop': tensor(0.000160, dtype=torch.float64, grad_fn=<MulBackward0>),\n",
      "                 'policy': tensor(0.000338),\n",
      "                 'task': 0.0,\n",
      "                 'tasks': tensor(0.000160, dtype=torch.float64, grad_fn=<MulBackward0>),\n",
      "                 'total': tensor(0.000498, dtype=torch.float64, grad_fn=<AddBackward0>),\n",
      "                 'total_mean': tensor(0.000341, dtype=torch.float64, grad_fn=<AddBackward0>)}}\n"
     ]
    }
   ],
   "source": [
    "pp.pprint(ns.trn_losses)"
   ]
  },
  {
   "cell_type": "code",
   "execution_count": null,
   "id": "12a2ec95",
   "metadata": {
    "ExecuteTime": {
     "end_time": "2022-04-02T13:31:55.581510Z",
     "start_time": "2022-04-02T13:31:55.526855Z"
    },
    "hidden": true
   },
   "outputs": [],
   "source": [
    "(environ.val_data['task1']['yc_data'][0] == environ.val_data['task1']['yc_data']).all()"
   ]
  },
  {
   "cell_type": "code",
   "execution_count": null,
   "id": "b9d58803",
   "metadata": {
    "ExecuteTime": {
     "end_time": "2022-04-02T14:20:55.327255Z",
     "start_time": "2022-04-02T14:20:55.026238Z"
    },
    "hidden": true
   },
   "outputs": [],
   "source": [
    "from utils.sparsechem_utils import compute_metrics, aggregate_results\n",
    "import pandas\n",
    "cc = compute_metrics(cols   = environ.val_data['task1']['yc_ind'][1], \n",
    "                     y_true = environ.val_data['task1']['yc_data'], \n",
    "                     y_score= environ.val_data['task1']['yc_hat'] ,\n",
    "                     num_tasks=100)\n"
   ]
  },
  {
   "cell_type": "code",
   "execution_count": null,
   "id": "737de288",
   "metadata": {
    "ExecuteTime": {
     "end_time": "2022-04-02T13:34:57.196163Z",
     "start_time": "2022-04-02T13:34:57.130013Z"
    },
    "hidden": true
   },
   "outputs": [],
   "source": [
    " df   = pd.DataFrame({\"task\"   : environ.val_data['task1']['yc_ind'][1], \n",
    "                      \"y_true\" : environ.val_data['task1']['yc_data'],  \n",
    "                      \"y_score\": environ.val_data['task1']['yc_hat']})"
   ]
  },
  {
   "cell_type": "code",
   "execution_count": null,
   "id": "a572ba33",
   "metadata": {
    "ExecuteTime": {
     "end_time": "2022-04-02T13:44:52.754320Z",
     "start_time": "2022-04-02T13:44:52.611945Z"
    },
    "hidden": true
   },
   "outputs": [],
   "source": [
    "for task, frame in df.groupby(\"task\", sort=True):\n",
    "    print(f\" task {task}\")\n",
    "    print(frame.head(10))"
   ]
  },
  {
   "cell_type": "code",
   "execution_count": null,
   "id": "6b0cf934",
   "metadata": {
    "ExecuteTime": {
     "end_time": "2022-04-02T13:46:29.715440Z",
     "start_time": "2022-04-02T13:46:29.640674Z"
    },
    "hidden": true
   },
   "outputs": [],
   "source": [
    "# df\n",
    "df.groupby(\"task\", sort=True).count()"
   ]
  },
  {
   "cell_type": "code",
   "execution_count": null,
   "id": "10f526f7",
   "metadata": {
    "ExecuteTime": {
     "end_time": "2022-04-02T13:57:12.585754Z",
     "start_time": "2022-04-02T13:57:12.502583Z"
    },
    "hidden": true,
    "scrolled": true
   },
   "outputs": [],
   "source": [
    "cc"
   ]
  },
  {
   "cell_type": "code",
   "execution_count": null,
   "id": "63bb8f8d",
   "metadata": {
    "ExecuteTime": {
     "end_time": "2022-04-02T14:26:58.189057Z",
     "start_time": "2022-04-02T14:26:58.126134Z"
    },
    "hidden": true
   },
   "outputs": [],
   "source": [
    "print(environ.batch_data['task1']['yc_aggr_weights'])\n",
    "environ.batch['task1']['aggr_weights']"
   ]
  },
  {
   "cell_type": "code",
   "execution_count": null,
   "id": "acfdf55d",
   "metadata": {
    "hidden": true
   },
   "outputs": [],
   "source": [
    "c2 = aggregate_results(cc)"
   ]
  },
  {
   "cell_type": "code",
   "execution_count": null,
   "id": "f2e9e723",
   "metadata": {
    "ExecuteTime": {
     "end_time": "2022-04-02T17:11:11.578048Z",
     "start_time": "2022-04-02T17:11:11.535763Z"
    },
    "hidden": true
   },
   "outputs": [],
   "source": [
    "dldrs.trainset0.tasks_weights_list"
   ]
  },
  {
   "cell_type": "markdown",
   "id": "04d238e8",
   "metadata": {
    "hidden": true
   },
   "source": [
    "#### display parms"
   ]
  },
  {
   "cell_type": "code",
   "execution_count": null,
   "id": "e22e75ab",
   "metadata": {
    "ExecuteTime": {
     "end_time": "2022-03-28T04:02:47.732297Z",
     "start_time": "2022-03-28T04:02:47.639607Z"
    },
    "hidden": true
   },
   "outputs": [],
   "source": [
    "print( f\" Backbone Initial LR         : {environ.opt['train']['backbone_lr']:4f}      current LR : {environ.optimizers['alphas'].param_groups[0]['lr']} \\n\"\n",
    "       f\" Tasks    Initial LR         : {environ.opt['train']['task_lr']:4f}      current LR : {environ.optimizers['weights'].param_groups[0]['lr']}    \\n\"\n",
    "       f\" Policy   Initial LR         : {environ.opt['train']['policy_lr']:4f}      current LR : {environ.optimizers['weights'].param_groups[1]['lr']}  \\n\")\n",
    "print( f\" Sparsity regularization     : {environ.opt['train']['lambda_sparsity']}\\n\"\n",
    "       f\" Sharing  regularization     : {environ.opt['train']['lambda_sharing']} \\n\\n\"\n",
    "       f\" Tasks    regularization     : {environ.opt['train']['lambda_tasks']}   \\n\"\n",
    "       f\" Gumbel Temp                 : {environ.gumbel_temperature:.4f}         \\n\" #\n",
    "       f\" Gumbel Temp decay           : {environ.opt['train']['decay_temp_freq']}\") #"
   ]
  },
  {
   "cell_type": "code",
   "execution_count": null,
   "id": "c2db34fc",
   "metadata": {
    "ExecuteTime": {
     "end_time": "2022-03-28T04:02:47.803657Z",
     "start_time": "2022-03-28T04:02:47.736497Z"
    },
    "hidden": true
   },
   "outputs": [],
   "source": [
    "\n",
    "# environ.opt['train']['policy_lr'] = 0.01\n",
    "# opt['train']['policy_lr']         = 0.01\n",
    "# environ.opt['train']['lambda_sparsity'] = 0.1\n",
    "# environ.opt['train']['lambda_sharing']  = 0.01\n",
    "# environ.opt['train']['lambda_tasks']    = 1.0\n",
    "# environ.opt['train']['decay_temp_freq'] = 2\n",
    "# print(environ.optimizers['alphas'].param_groups)\n",
    "# print(environ.optimizers['weights'].param_groups)\n",
    "# print('current lr: ', environ.optimizers['alphas'].param_groups[0]['lr'],)\n",
    "# print('current lr: ', environ.optimizers['weights'].param_groups[0]['lr'])\n",
    "# print('current lr: ', environ.optimizers['weights'].param_groups[1]['lr'])"
   ]
  },
  {
   "cell_type": "markdown",
   "id": "eb49645c",
   "metadata": {
    "heading_collapsed": true
   },
   "source": [
    "## Weight & Policy Training"
   ]
  },
  {
   "cell_type": "markdown",
   "id": "c6aade16",
   "metadata": {
    "hidden": true
   },
   "source": [
    "### Weight/Policy Training Preparation"
   ]
  },
  {
   "cell_type": "code",
   "execution_count": null,
   "id": "5fe24a1f",
   "metadata": {
    "ExecuteTime": {
     "end_time": "2022-03-28T04:02:47.867009Z",
     "start_time": "2022-03-28T04:02:47.807720Z"
    },
    "hidden": true
   },
   "outputs": [],
   "source": [
    "# ns.flag_warmup = True\n",
    "# num_train_layers = None \n",
    "# environ.opt['is_curriculum'] = True\n",
    "# environ.opt['curriculum_speed'] = 4\n",
    "# ns.num_train_layers = None"
   ]
  },
  {
   "cell_type": "code",
   "execution_count": null,
   "id": "365996be",
   "metadata": {
    "ExecuteTime": {
     "end_time": "2022-03-28T04:02:47.944530Z",
     "start_time": "2022-03-28T04:02:47.871259Z"
    },
    "hidden": true
   },
   "outputs": [],
   "source": [
    "if ns.flag_warmup:\n",
    "    print_heading( f\"** {timestring()} \\n\"\n",
    "                   f\"** Training epoch: {ns.current_epoch} iter: {ns.current_iter}   flag: {ns.flag} \\n\"\n",
    "                   f\"** Set optimizer and scheduler to policy_learning = True (Switch weight optimizer from ADAM to SGD)\\n\"\n",
    "                   f\"** Switch from Warm Up training to Alternate training Weights & Policy \\n\"\n",
    "                   f\"** Take checkpoint and block gradient flow through Policy net\", verbose=True)\n",
    "#     environ.define_optimizer(policy_learning=True)\n",
    "#     environ.define_scheduler(policy_learning=True)\n",
    "    ns.flag_warmup = False\n",
    "    ns.flag = 'update_weights'\n",
    "    environ.fix_alpha()\n",
    "    environ.free_weights(opt['fix_BN'])"
   ]
  },
  {
   "cell_type": "code",
   "execution_count": null,
   "id": "0bc79e10",
   "metadata": {
    "ExecuteTime": {
     "end_time": "2022-03-28T04:02:48.024063Z",
     "start_time": "2022-03-28T04:02:47.950823Z"
    },
    "hidden": true
   },
   "outputs": [],
   "source": [
    "# ns.training_epochs = 250\n",
    "# environ.display_trained_policy(ns.current_epoch)\n",
    "# environ.display_trained_logits(ns.current_epoch)"
   ]
  },
  {
   "cell_type": "code",
   "execution_count": null,
   "id": "753d84a8",
   "metadata": {
    "ExecuteTime": {
     "end_time": "2022-03-28T04:02:48.115175Z",
     "start_time": "2022-03-28T04:02:48.028324Z"
    },
    "hidden": true
   },
   "outputs": [],
   "source": [
    "print(f\"ns.current_epoch           : {ns.current_epoch}\")\n",
    "print(f\"ns.training_epochs         : {ns.training_epochs} \\n\") \n",
    "print(f\"ns.current_iters           : {ns.current_iter}\")  \n",
    "print(f\"Batches in weight epoch    : {ns.stop_iter_w}\")\n",
    "print(f\"Batches in policy epoch    : {ns.stop_iter_a}\")\n",
    "print(f\"num_train_layers           : {ns.num_train_layers}\")\n",
    "print()\n",
    "print_loss(environ.val_metrics, title = f\"[e] Last ep:{ns.current_epoch}  it:{ns.current_iter}\")\n",
    "print()\n",
    "\n",
    "print_heading(f\" Last Epoch Completed : {ns.current_epoch}       # of epochs to run:  {ns.training_epochs} -->  epochs {ns.current_epoch+1} to {ns.training_epochs + ns.current_epoch}\"\n",
    "              f\"\\n policy_learning rate : {environ.opt['train']['policy_lr']} \"\n",
    "              f\"\\n lambda_sparsity      : {environ.opt['train']['lambda_sparsity']}\"\n",
    "              f\"\\n lambda_sharing       : {environ.opt['train']['lambda_sharing']}\"\n",
    "              f\"\\n curriculum training  : {opt['is_curriculum']}     cirriculum speed: {opt['curriculum_speed']}     num_training_layers : {ns.num_train_layers}\", \n",
    "              verbose = True)"
   ]
  },
  {
   "cell_type": "markdown",
   "id": "561c71af",
   "metadata": {
    "hidden": true
   },
   "source": [
    "### Weight/Policy Training"
   ]
  },
  {
   "cell_type": "code",
   "execution_count": null,
   "id": "d10ad7d8",
   "metadata": {
    "ExecuteTime": {
     "end_time": "2022-03-28T05:13:27.891351Z",
     "start_time": "2022-03-28T04:02:48.119371Z"
    },
    "hidden": true,
    "scrolled": true
   },
   "outputs": [],
   "source": [
    "# weight_policy_training(ns, opt, environ, dldrs, epochs = 100)\n",
    "weight_policy_training(ns, opt, environ, dldrs)"
   ]
  },
  {
   "cell_type": "code",
   "execution_count": null,
   "id": "27779c17",
   "metadata": {
    "ExecuteTime": {
     "end_time": "2022-03-28T05:13:28.065212Z",
     "start_time": "2022-03-28T05:13:27.897193Z"
    },
    "hidden": true
   },
   "outputs": [],
   "source": [
    "ns.best_epoch, ns.best_iter, ns.best_value"
   ]
  },
  {
   "cell_type": "code",
   "execution_count": null,
   "id": "1d3dcb54",
   "metadata": {
    "hidden": true
   },
   "outputs": [],
   "source": []
  },
  {
   "cell_type": "markdown",
   "id": "b3e42e43",
   "metadata": {
    "heading_collapsed": true,
    "hidden": true
   },
   "source": [
    "### Close WandB run"
   ]
  },
  {
   "cell_type": "code",
   "execution_count": null,
   "id": "1f6b31da",
   "metadata": {
    "ExecuteTime": {
     "end_time": "2022-03-28T05:13:32.216421Z",
     "start_time": "2022-03-28T05:13:28.068834Z"
    },
    "hidden": true
   },
   "outputs": [],
   "source": [
    "wandb.finish()"
   ]
  },
  {
   "cell_type": "code",
   "execution_count": null,
   "id": "ab259da4",
   "metadata": {
    "ExecuteTime": {
     "end_time": "2022-03-28T05:13:32.253924Z",
     "start_time": "2022-03-28T05:13:32.221329Z"
    },
    "hidden": true
   },
   "outputs": [],
   "source": [
    "# ns.best_epoch = 0\n",
    "# from utils.notebook_modules import wrapup_phase\n",
    "# wrapup_phase(ns, opt, environ)"
   ]
  },
  {
   "cell_type": "code",
   "execution_count": null,
   "id": "ceb718c2",
   "metadata": {
    "ExecuteTime": {
     "end_time": "2022-03-28T05:13:32.307351Z",
     "start_time": "2022-03-28T05:13:32.262822Z"
    },
    "hidden": true
   },
   "outputs": [],
   "source": [
    "# environ.opt['train']['policy_lr']       = 0.002\n",
    "# environ.opt['train']['lambda_sparsity'] = 0.05\n",
    "# environ.opt['train']['lambda_sharing']  = 0.01\n",
    "# environ.opt['train']['lambda_tasks']    = 1.0\n",
    "# # environ.opt['train']['decay_temp_freq'] = 2"
   ]
  },
  {
   "cell_type": "code",
   "execution_count": null,
   "id": "8accefdf",
   "metadata": {
    "ExecuteTime": {
     "end_time": "2022-03-28T05:13:32.344678Z",
     "start_time": "2022-03-28T05:13:32.310706Z"
    },
    "hidden": true
   },
   "outputs": [],
   "source": [
    "print( f\" Backbone Learning Rate      : {environ.opt['train']['backbone_lr']}\\n\"\n",
    "       f\" Tasks    Learning Rate      : {environ.opt['train']['task_lr']}\\n\"\n",
    "       f\" Policy   Learning Rate      : {environ.opt['train']['policy_lr']}\\n\")\n",
    "\n",
    "print( f\" Sparsity regularization     : {environ.opt['train']['lambda_sparsity']}\\n\"\n",
    "       f\" Sharing  regularization     : {environ.opt['train']['lambda_sharing']} \\n\\n\"\n",
    "       f\" Tasks    regularization     : {environ.opt['train']['lambda_tasks']}   \\n\"\n",
    "       f\" Gumbel Temp                 : {environ.gumbel_temperature:.4f}         \\n\" \n",
    "       f\" Gumbel Temp decay           : {environ.opt['train']['decay_temp_freq']}\\n\") \n",
    "\n",
    "print( f\" current_iters               : {ns.current_iter}   \\n\"\n",
    "       f\" current_epochs              : {ns.current_epoch}  \\n\" \n",
    "       f\" train_total_epochs          : {ns.training_epochs}\\n\" \n",
    "       f\" stop_epoch_training         : {ns.stop_epoch_training}\")"
   ]
  },
  {
   "cell_type": "markdown",
   "id": "86ac6b6a",
   "metadata": {
    "heading_collapsed": true
   },
   "source": [
    "## Post Training Stuff"
   ]
  },
  {
   "cell_type": "code",
   "execution_count": null,
   "id": "04de4040",
   "metadata": {
    "ExecuteTime": {
     "end_time": "2022-04-05T16:19:42.220730Z",
     "start_time": "2022-04-05T16:19:41.747365Z"
    },
    "hidden": true
   },
   "outputs": [],
   "source": [
    "pp.pprint(environ.losses)\n",
    "# pp.pprint(environ.val_metrics)\n",
    "# environ.num_layers, environ.networks['mtl-net'].num_layers\n",
    "# environ.batch"
   ]
  },
  {
   "cell_type": "code",
   "execution_count": null,
   "id": "db4ca92e",
   "metadata": {
    "ExecuteTime": {
     "end_time": "2022-04-05T16:22:55.037557Z",
     "start_time": "2022-04-05T16:22:54.888980Z"
    },
    "hidden": true
   },
   "outputs": [],
   "source": [
    "pp.pprint(environ.val_metrics)"
   ]
  },
  {
   "cell_type": "code",
   "execution_count": null,
   "id": "336e5cec",
   "metadata": {
    "ExecuteTime": {
     "end_time": "2022-02-21T17:44:36.218784Z",
     "start_time": "2022-02-21T17:44:36.063411Z"
    },
    "hidden": true
   },
   "outputs": [],
   "source": [
    "# print_loss(environ.val_metrics, title = f\"[Final] ep:{current_epoch}  it:{current_iter}\",)\n",
    "# environ.display_trained_policy(current_epoch)\n",
    "# environ.display_trained_logits(current_epoch)\n",
    "# environ.log_file.flush()"
   ]
  },
  {
   "cell_type": "code",
   "execution_count": null,
   "id": "083c1c8e",
   "metadata": {
    "ExecuteTime": {
     "end_time": "2022-03-06T00:32:52.580865Z",
     "start_time": "2022-03-06T00:32:52.554112Z"
    },
    "hidden": true,
    "scrolled": true
   },
   "outputs": [],
   "source": [
    "# model_label   = 'model_train_ep_%d_seed_%04d' % (current_epoch, opt['random_seed'])\n",
    "# metrics_label = 'metrics_train_ep_%d_seed_%04d.pickle' % (current_epoch, opt['random_seed'])\n",
    "# environ.save_checkpoint(model_label, current_iter, current_epoch) \n",
    "# save_to_pickle(environ.val_metrics, environ.opt['paths']['checkpoint_dir'], metrics_label)\n",
    "# print_loss(environ.val_metrics, title = f\"[Final] ep:{current_epoch}  it:{current_iter}\",)\n",
    "# environ.display_trained_policy(current_epoch,out=[sys.stdout, environ.log_file])\n",
    "# environ.display_trained_logits(current_epoch)\n",
    "# environ.log_file.flush()"
   ]
  },
  {
   "cell_type": "code",
   "execution_count": null,
   "id": "5dad3a6e",
   "metadata": {
    "ExecuteTime": {
     "end_time": "2022-02-20T22:48:27.014120Z",
     "start_time": "2022-02-20T22:48:26.982535Z"
    },
    "hidden": true
   },
   "outputs": [],
   "source": [
    "# print_loss(current_iter, environ.losses, title = f\"[e] Policy training epoch:{current_epoch}    iter:\")\n",
    "# print()\n",
    "# print_loss(current_iter, trn_losses, title = f\"[e] Policy training epoch:{current_epoch}    iter:\")\n",
    "# print()\n",
    "# print_loss(current_iter, environ.val_metrics, title = f\"[e] Policy training epoch:{current_epoch}    iter:\")"
   ]
  },
  {
   "cell_type": "code",
   "execution_count": null,
   "id": "464d5db8",
   "metadata": {
    "ExecuteTime": {
     "end_time": "2022-03-01T20:31:45.254334Z",
     "start_time": "2022-03-01T20:31:45.116895Z"
    },
    "hidden": true
   },
   "outputs": [],
   "source": [
    "# environ.losses\n",
    "# environ.val_metrics"
   ]
  },
  {
   "cell_type": "code",
   "execution_count": null,
   "id": "59c4dd81",
   "metadata": {
    "ExecuteTime": {
     "end_time": "2022-03-01T20:47:29.582501Z",
     "start_time": "2022-03-01T20:47:29.492581Z"
    },
    "hidden": true
   },
   "outputs": [],
   "source": [
    "# environ.batch_data\n",
    "# print_metrics_cr(current_epoch, time.time() - start_time, trn_losses, environ.val_metrics, 0, out=[sys.stdout])\n",
    "# environ.display_parameters()\n",
    "\n",
    "# with np.printoptions(edgeitems=3, infstr='inf', linewidth=150, nanstr='nan', precision=7, formatter={'float': lambda x: f\"{x:12.5e}\"}):\n",
    "#     environ.print_logit_grads('gradients')\n",
    "\n",
    "# environ_params = environ.get_task_specific_parameters()\n",
    "# environ_params = environ.get_arch_parameters()\n",
    "# environ_params = environ.get_backbone_parameters()\n",
    "# print(environ_params)\n",
    "# for param in environ_params:\n",
    "#     print(param.grad.shape, '\\n', param.grad)\n",
    "#     print(param)"
   ]
  },
  {
   "cell_type": "code",
   "execution_count": null,
   "id": "49c80c9b",
   "metadata": {
    "ExecuteTime": {
     "end_time": "2022-03-11T21:12:46.806056Z",
     "start_time": "2022-03-11T21:12:46.471801Z"
    },
    "hidden": true
   },
   "outputs": [],
   "source": [
    "# environ.display_trained_logits(ns.current_epoch)\n",
    "# environ.display_trained_policy(ns.current_epoch)\n",
    "\n",
    "# environ.display_test_sample_policy(ns.current_epoch, hard_sampling = True)\n",
    "# environ.display_train_sample_policy(ns.current_epoch, hard_sampling = True)"
   ]
  },
  {
   "cell_type": "code",
   "execution_count": null,
   "id": "8754b317",
   "metadata": {
    "ExecuteTime": {
     "end_time": "2022-03-06T00:33:19.474125Z",
     "start_time": "2022-03-06T00:33:19.447847Z"
    },
    "hidden": true
   },
   "outputs": [],
   "source": [
    "# environ.define_optimizer(policy_learning=True)"
   ]
  },
  {
   "cell_type": "code",
   "execution_count": null,
   "id": "e7e89541",
   "metadata": {
    "ExecuteTime": {
     "end_time": "2022-04-02T18:04:00.517922Z",
     "start_time": "2022-04-02T18:04:00.442149Z"
    },
    "hidden": true
   },
   "outputs": [],
   "source": [
    "# print(environ.optimizers['alphas'])\n",
    "# print(environ.optimizers['weights'])"
   ]
  },
  {
   "cell_type": "code",
   "execution_count": null,
   "id": "d1ecc91e",
   "metadata": {
    "ExecuteTime": {
     "end_time": "2022-03-09T00:07:50.026992Z",
     "start_time": "2022-03-09T00:07:49.986101Z"
    },
    "hidden": true,
    "scrolled": true
   },
   "outputs": [],
   "source": [
    "# print('Policy  initial_lr : ', environ.optimizers['alphas'].param_groups[0]['initial_lr'], 'lr : ',environ.optimizers['alphas'].param_groups[0]['lr'])\n",
    "# print('Weights initial_lr : ', environ.optimizers['weights'].param_groups[0]['initial_lr'], 'lr : ',environ.optimizers['weights'].param_groups[0]['lr'])\n",
    "# print('Weights initial_lr : ', environ.optimizers['weights'].param_groups[1]['initial_lr'], 'lr : ',environ.optimizers['weights'].param_groups[1]['lr'])"
   ]
  },
  {
   "cell_type": "code",
   "execution_count": null,
   "id": "a1306e8c",
   "metadata": {
    "ExecuteTime": {
     "end_time": "2022-03-10T22:31:50.425696Z",
     "start_time": "2022-03-10T22:31:50.396531Z"
    },
    "hidden": true
   },
   "outputs": [],
   "source": [
    "wandb.run is None"
   ]
  },
  {
   "cell_type": "code",
   "execution_count": null,
   "id": "1b6b8e99",
   "metadata": {
    "ExecuteTime": {
     "end_time": "2022-03-05T23:10:03.751132Z",
     "start_time": "2022-03-05T23:10:03.724538Z"
    },
    "execution": {
     "iopub.execute_input": "2022-01-07T22:44:13.145647Z",
     "iopub.status.busy": "2022-01-07T22:44:13.145313Z",
     "iopub.status.idle": "2022-01-07T22:44:13.193262Z",
     "shell.execute_reply": "2022-01-07T22:44:13.192140Z",
     "shell.execute_reply.started": "2022-01-07T22:44:13.145622Z"
    },
    "hidden": true
   },
   "outputs": [],
   "source": [
    "# opt['exp_instance'] = '0218_1358'     \n",
    "# folder_name=  f\"{opt['exp_instance']}_bs{opt['train']['batch_size']:03d}_{opt['train']['decay_lr_rate']:3.2f}_{opt['train']['decay_lr_freq']}\"\n",
    "# print()\n",
    "# opt['exp_instance'] = datetime.now().strftime(\"%m%d_%H%M\")\n",
    "# opt['exp_description'] = f\"No Alternating Weight/Policy - training all done with both weights and policy\"\n",
    "# folder_name=  f\"{opt['exp_instance']}_bs{opt['train']['batch_size']:03d}_{opt['train']['decay_lr_rate']:3.2f}_{opt['train']['decay_lr_freq']}\""
   ]
  },
  {
   "cell_type": "code",
   "execution_count": null,
   "id": "d2affee1",
   "metadata": {
    "ExecuteTime": {
     "end_time": "2022-03-11T21:12:20.322227Z",
     "start_time": "2022-03-11T21:12:20.285961Z"
    },
    "hidden": true
   },
   "outputs": [],
   "source": [
    "# wandb.finish()"
   ]
  },
  {
   "cell_type": "code",
   "execution_count": null,
   "id": "2527bd00",
   "metadata": {
    "ExecuteTime": {
     "end_time": "2022-02-20T21:25:11.319751Z",
     "start_time": "2022-02-20T21:25:11.210062Z"
    },
    "hidden": true
   },
   "outputs": [],
   "source": [
    "# \n",
    "# p = environ.get_current_state(0)"
   ]
  },
  {
   "cell_type": "code",
   "execution_count": null,
   "id": "919068f7",
   "metadata": {
    "ExecuteTime": {
     "end_time": "2022-02-20T21:25:26.324030Z",
     "start_time": "2022-02-20T21:25:26.112782Z"
    },
    "hidden": true
   },
   "outputs": [],
   "source": [
    "# pp.pprint(p)"
   ]
  },
  {
   "cell_type": "markdown",
   "id": "5c82a453",
   "metadata": {
    "heading_collapsed": true,
    "hidden": true
   },
   "source": [
    "### Post Warm-up Training stuff"
   ]
  },
  {
   "cell_type": "code",
   "execution_count": null,
   "id": "3bb74c3d",
   "metadata": {
    "ExecuteTime": {
     "end_time": "2022-02-01T12:45:43.999959Z",
     "start_time": "2022-02-01T12:45:43.862475Z"
    },
    "hidden": true
   },
   "outputs": [],
   "source": [
    "pp.pprint(environ.val_metrics)"
   ]
  },
  {
   "cell_type": "code",
   "execution_count": null,
   "id": "912b47da",
   "metadata": {
    "ExecuteTime": {
     "end_time": "2022-02-01T12:46:36.700361Z",
     "start_time": "2022-02-01T12:46:36.367037Z"
    },
    "hidden": true
   },
   "outputs": [],
   "source": [
    "environ.networks['mtl-net'].arch_parameters()"
   ]
  },
  {
   "cell_type": "code",
   "execution_count": null,
   "id": "922f0235",
   "metadata": {
    "ExecuteTime": {
     "end_time": "2022-01-28T16:37:10.158440Z",
     "start_time": "2022-01-28T16:37:09.742327Z"
    },
    "hidden": true
   },
   "outputs": [],
   "source": [
    "p = environ.get_sample_policy(hard_sampling = False)\n",
    "print(p)\n",
    "p = environ.get_policy_prob()\n",
    "print(p)\n",
    "p = environ.get_policy_logits()\n",
    "print(p)\n",
    "\n",
    "# p = environ.get_current_policy()\n",
    "# print(p)"
   ]
  },
  {
   "cell_type": "code",
   "execution_count": null,
   "id": "c6bddd44",
   "metadata": {
    "ExecuteTime": {
     "end_time": "2022-01-28T16:40:37.799917Z",
     "start_time": "2022-01-28T16:40:37.773177Z"
    },
    "hidden": true
   },
   "outputs": [],
   "source": [
    "a = softmax([0.0, 1])\n",
    "print(a)\n",
    "sampled = np.random.choice((1, 0), p=a)\n",
    "print(sampled)"
   ]
  },
  {
   "cell_type": "code",
   "execution_count": null,
   "id": "f5e8f376",
   "metadata": {
    "ExecuteTime": {
     "end_time": "2022-01-28T16:13:16.205889Z",
     "start_time": "2022-01-28T16:13:16.179303Z"
    },
    "hidden": true
   },
   "outputs": [],
   "source": [
    "print(environ.optimizers['weights'])\n",
    "print(environ.schedulers['weights'].get_last_lr())"
   ]
  },
  {
   "cell_type": "code",
   "execution_count": null,
   "id": "dddf9c47",
   "metadata": {
    "ExecuteTime": {
     "end_time": "2022-02-01T12:46:50.411465Z",
     "start_time": "2022-02-01T12:46:50.020540Z"
    },
    "hidden": true,
    "scrolled": false
   },
   "outputs": [],
   "source": [
    "print('losses.keys      : ', environ.losses.keys())\n",
    "print('losses[task]keys : ', environ.losses['task1'].keys())\n",
    "pp.pprint(environ.losses)"
   ]
  },
  {
   "cell_type": "code",
   "execution_count": null,
   "id": "20950069",
   "metadata": {
    "ExecuteTime": {
     "end_time": "2022-01-15T22:57:02.151169Z",
     "start_time": "2022-01-15T22:57:02.056562Z"
    },
    "execution": {
     "iopub.execute_input": "2022-01-07T22:49:07.606120Z",
     "iopub.status.busy": "2022-01-07T22:49:07.604909Z",
     "iopub.status.idle": "2022-01-07T22:49:08.025886Z",
     "shell.execute_reply": "2022-01-07T22:49:08.024798Z",
     "shell.execute_reply.started": "2022-01-07T22:49:07.606065Z"
    },
    "hidden": true,
    "scrolled": false
   },
   "outputs": [],
   "source": [
    "print( environ.val_metrics.keys())\n",
    "# pp.pprint(val_metrics)\n",
    "print(type(environ.val_metrics['aggregated']))\n",
    "print()\n",
    "print(type(environ.val_metrics['task1']['classification_agg']))\n",
    "print()\n",
    "pp.pprint(environ.val_metrics)"
   ]
  },
  {
   "cell_type": "code",
   "execution_count": null,
   "id": "eed6e311",
   "metadata": {
    "ExecuteTime": {
     "end_time": "2022-01-14T18:57:26.266303Z",
     "start_time": "2022-01-14T18:57:26.166878Z"
    },
    "hidden": true
   },
   "outputs": [],
   "source": [
    "# import pickle\n",
    "# with open(\"val_metrics.pkl\", mode= 'wb') as f:\n",
    "#         pickle.dump(val_metrics, f)\n",
    "    \n",
    "# with open('val_metrics.pkl', 'rb') as f:    \n",
    "#     tst_val_metrics = pickle.load(f)"
   ]
  },
  {
   "cell_type": "code",
   "execution_count": null,
   "id": "2b00a8aa",
   "metadata": {
    "ExecuteTime": {
     "end_time": "2022-01-14T18:57:26.297444Z",
     "start_time": "2022-01-14T18:57:26.269323Z"
    },
    "hidden": true
   },
   "outputs": [],
   "source": [
    "# print(environ.input.shape) \n",
    "# a = getattr(environ, 'task1_pred')\n",
    "# yc_data = environ.batch['task1_data']\n",
    "# print(yc_data.shape)\n",
    "# yc_ind = environ.batch['task1_ind']\n",
    "# print(yc_ind.shape)\n",
    "# yc_hat_all = getattr(environ, 'task1_pred')\n",
    "# print(yc_hat_all.shape)\n",
    "# yc_hat  = yc_hat_all[yc_ind[0], yc_ind[1]]\n",
    "# print(yc_hat_all.shape, yc_hat.shape)\n",
    "\n",
    "# \n",
    "# environ.losses\n",
    "# loss = {}\n",
    "# for key in environ.losses.keys():\n",
    "#     loss[key] = {}\n",
    "#     for subkey, v in environ.losses[key].items():\n",
    "#         print(f\" key:  {key}   subkey: {subkey} \")\n",
    "#         if isinstance(v, torch.Tensor):\n",
    "#             loss[key][subkey] = v.data\n",
    "#             print(f\" Tensor  -  key:  {key}   subkey: {subkey}           value type: {type(v)}  value: {v:.4f}\")\n",
    "#         else:\n",
    "#             loss[key][subkey] = v\n",
    "#             print(f\" integer -  key:  {key}   subkey: {subkey}           value type: {type(v)}  value: {v:.4f}\")\n",
    "# pp.pprint(tst_val_metrics)             "
   ]
  },
  {
   "cell_type": "code",
   "execution_count": null,
   "id": "5987f89f",
   "metadata": {
    "ExecuteTime": {
     "end_time": "2022-01-14T18:57:26.340792Z",
     "start_time": "2022-01-14T18:57:26.302528Z"
    },
    "execution": {
     "iopub.execute_input": "2022-01-07T22:49:07.606120Z",
     "iopub.status.busy": "2022-01-07T22:49:07.604909Z",
     "iopub.status.idle": "2022-01-07T22:49:08.025886Z",
     "shell.execute_reply": "2022-01-07T22:49:08.024798Z",
     "shell.execute_reply.started": "2022-01-07T22:49:07.606065Z"
    },
    "hidden": true
   },
   "outputs": [],
   "source": [
    "# print('metrics.keys: ', environ.metrics.keys())\n",
    "# print('metrics[task].keys: ', environ.metrics['task1'].keys())\n",
    "# pp.pprint(environ.metrics['task1'])\n",
    "# pp.pprint(environ.losses['task1']['total'])"
   ]
  },
  {
   "cell_type": "code",
   "execution_count": null,
   "id": "864ae417",
   "metadata": {
    "ExecuteTime": {
     "end_time": "2022-01-14T18:57:26.373399Z",
     "start_time": "2022-01-14T18:57:26.345065Z"
    },
    "hidden": true
   },
   "outputs": [],
   "source": [
    "# title='Iteration'\n",
    "# for t_id, _ in enumerate(environ.tasks):\n",
    "#     task_key = f\"task{t_id+1}\"\n",
    "# #     print_heading(f\"{title}  {current_iter}  {task_key} : {val_metrics[task_key]['classification_agg']}\", verbose = True)\n",
    "\n",
    "#     for key, _  in val_metrics[task_key]['classification_agg'].items():\n",
    "#         print('%s/%-20s'%(task_key, key), val_metrics[task_key]['classification_agg'][key], current_iter)\n",
    "#         print(f\"{task_key:s}/{key:20s}\", val_metrics[task_key]['classification_agg'][key], current_iter)\n",
    "#         print()\n",
    "#             # print_current_errors(os.path.join(self.log_dir, 'loss.txt'), current_iter,key, loss[key], time.time() - start_time)"
   ]
  },
  {
   "cell_type": "code",
   "execution_count": null,
   "id": "c0b73b44",
   "metadata": {
    "ExecuteTime": {
     "end_time": "2022-01-07T22:52:48.162261Z",
     "start_time": "2022-01-07T22:52:48.140423Z"
    },
    "hidden": true
   },
   "outputs": [],
   "source": [
    "# environ.print_loss(current_iter, start_time, metrics = val_metrics['loss'], verbose=True)\n",
    "# print(opt['lambdas'])\n",
    "# p = (opt['lambdas'][0] * environ.losses['tasks']['task1'])\n",
    "# print(p)\n",
    "\n",
    "# environ.print_val_metrics(current_iter, start_time, val_metrics , title='validation', verbose=True)    "
   ]
  },
  {
   "cell_type": "code",
   "execution_count": null,
   "id": "850378b6",
   "metadata": {
    "ExecuteTime": {
     "end_time": "2022-01-07T22:52:47.661019Z",
     "start_time": "2022-01-07T22:52:47.639094Z"
    },
    "hidden": true
   },
   "outputs": [],
   "source": [
    "# print(current_iter)\n",
    "# print_metrics_cr(current_iter, t1 - t0, None, val_metrics , True)\n",
    "# environ.print_val_metrics(current_iter, start_time, val_metrics, title='validation', verbose = True)"
   ]
  },
  {
   "cell_type": "code",
   "execution_count": null,
   "id": "266a80b0",
   "metadata": {
    "ExecuteTime": {
     "end_time": "2022-01-07T23:14:58.034384Z",
     "start_time": "2022-01-07T23:14:58.004850Z"
    },
    "hidden": true,
    "scrolled": true
   },
   "outputs": [],
   "source": [
    "print(f\" val_metric keys               : {val_metrics.keys()}\")\n",
    "print(f\" loss keys                     : {val_metrics['loss'].keys()}\")\n",
    "print(f\" task1 keys                    : {val_metrics['task1'].keys()}\")\n",
    "print(f\" task1 classification keys     : {val_metrics['task1']['classification'].keys()}\")\n",
    "print(f\" task1 classification_agg keys : {val_metrics['task1']['classification_agg'].keys()}\")\n",
    "print()\n",
    "print(f\" task1                       : {val_metrics['task1']['classification_agg']['loss']:5f}\")\n",
    "print(f\" task2                       : {val_metrics['task2']['classification_agg']['loss']:5f}\")\n",
    "print(f\" task3                       : {val_metrics['task3']['classification_agg']['loss']:5f}\")\n",
    "print(f\" loss                        : {val_metrics['loss']['total']:5f}\")\n",
    "print(f\" train_time                  : {val_metrics['train_time']:2f}\")\n",
    "print(f\" epoch                       : {val_metrics['epoch']}\")\n"
   ]
  },
  {
   "cell_type": "markdown",
   "id": "60fc43a6",
   "metadata": {
    "heading_collapsed": true,
    "hidden": true
   },
   "source": [
    "### Post Weight + Policy Training Stuff "
   ]
  },
  {
   "cell_type": "code",
   "execution_count": null,
   "id": "65640cd9",
   "metadata": {
    "ExecuteTime": {
     "end_time": "2022-01-27T00:22:20.634818Z",
     "start_time": "2022-01-27T00:22:20.444566Z"
    },
    "hidden": true
   },
   "outputs": [],
   "source": [
    "environ.networks['mtl-net'].backbone.layer_config"
   ]
  },
  {
   "cell_type": "code",
   "execution_count": null,
   "id": "a4374287",
   "metadata": {
    "ExecuteTime": {
     "end_time": "2022-01-26T19:30:31.940280Z",
     "start_time": "2022-01-26T19:30:31.910058Z"
    },
    "hidden": true
   },
   "outputs": [],
   "source": [
    "num_blocks = 6\n",
    "num_policy_layers = 6\n",
    "gt =  torch.ones((num_blocks)).long()\n",
    "gt0 =  torch.zeros((num_blocks)).long()\n",
    "print(gt)\n",
    "print(gt0)\n",
    "\n",
    "loss_weights = ((torch.arange(0, num_policy_layers, 1) + 1).float() / num_policy_layers)\n",
    "print(loss_weights)"
   ]
  },
  {
   "cell_type": "code",
   "execution_count": null,
   "id": "8651bc43",
   "metadata": {
    "ExecuteTime": {
     "end_time": "2022-01-26T19:42:31.300891Z",
     "start_time": "2022-01-26T19:42:31.257774Z"
    },
    "hidden": true
   },
   "outputs": [],
   "source": [
    "if environ.opt['diff_sparsity_weights'] and not environ.opt['is_sharing']:\n",
    "    print(' cond 1')\n",
    "    ## Assign higher weights to higher layers \n",
    "    loss_weights = ((torch.arange(0, num_policy_layers, 1) + 1).float() / num_policy_layers)\n",
    "    print(f\"{task_key} sparsity error:  {2 * (loss_weights[-num_blocks:] * environ.cross_entropy2(logits[-num_blocks:], gt)).mean()})\")\n",
    "    print_dbg(f\" loss_weights :  {loss_weights}\", verbose = True)\n",
    "    print_dbg(f\" cross_entropy:  {environ.cross_entropy2(logits[-num_blocks:], gt)}  \", verbose = True)\n",
    "    print_dbg(f\" loss[sparsity][{task_key}]: {self.losses['sparsity'][task_key] } \", verbose = True)\n",
    "\n",
    "else:\n",
    "    print('\\n cond 2')\n",
    "    print_dbg(f\"Compute CrossEntropyLoss between \\n Logits   : \\n{logits[-num_blocks:]} \\n and gt: \\n{gt} \\n\", verbose = True)\n",
    "    print(f\"{task_key} sparsity error:  {environ.cross_entropy_sparsity(logits[-num_blocks:], gt)}\")\n",
    "    \n",
    "    print('\\n cond 2')\n",
    "    print_dbg(f\"Compute CrossEntropyLoss between Logits      : {logits[-1:]}  and gt: {gt[-1]} \", verbose = True)\n",
    "    print(f\"{task_key} sparsity error:  {environ.cross_entropy_sparsity(logits[-1:], gt[-1:])} \\n\")\n",
    "    print_dbg(f\"Compute CrossEntropyLoss between Logits      : {logits[-1:]}  and gt: {gt0[-1]} \", verbose = True)\n",
    "    print(f\"{task_key} sparsity error:  {environ.cross_entropy_sparsity(logits[-1:], gt0[-1:])} \\n\")\n",
    "    \n",
    "    print('\\n cond 3')    \n",
    "    print_dbg(f\"Compute CrossEntropyLoss between Logits   : {logits[0:1]}  and gt: {gt[0:1]} \", verbose = True)\n",
    "    print(f\"{task_key} sparsity error:  {environ.cross_entropy_sparsity(logits[0:1], gt[0:1])} \\n\")\n",
    "    print_dbg(f\"Compute CrossEntropyLoss between Logits   : {logits[0:1]}  and gt: {gt0[0:1]} \", verbose = True)\n",
    "    print(f\"{task_key} sparsity error:  {environ.cross_entropy_sparsity(logits[0:1], gt0[0:1])} \\n\")\n",
    "        \n",
    "        "
   ]
  },
  {
   "cell_type": "code",
   "execution_count": null,
   "id": "c686cd05",
   "metadata": {
    "hidden": true
   },
   "outputs": [],
   "source": []
  },
  {
   "cell_type": "code",
   "execution_count": null,
   "id": "c83ee1b6",
   "metadata": {
    "ExecuteTime": {
     "end_time": "2022-01-26T00:14:30.155045Z",
     "start_time": "2022-01-26T00:14:30.107095Z"
    },
    "hidden": true
   },
   "outputs": [],
   "source": [
    "# flag = 'update_w'\n",
    "# environ.fix_alpha\n",
    "# environ.free_w(opt['fix_BN'])\n",
    "\n",
    "flag = 'update_alpha'\n",
    "environ.fix_weights()\n",
    "environ.free_alpha()"
   ]
  },
  {
   "cell_type": "code",
   "execution_count": null,
   "id": "6e7996b7",
   "metadata": {
    "ExecuteTime": {
     "end_time": "2022-01-25T23:43:31.184285Z",
     "start_time": "2022-01-25T23:43:31.159229Z"
    },
    "hidden": true
   },
   "outputs": [],
   "source": [
    "environ.networks['mtl-net'].num_layers"
   ]
  },
  {
   "cell_type": "code",
   "execution_count": null,
   "id": "f436ee6a",
   "metadata": {
    "ExecuteTime": {
     "end_time": "2022-01-26T00:14:34.993711Z",
     "start_time": "2022-01-26T00:14:34.968623Z"
    },
    "hidden": true
   },
   "outputs": [],
   "source": [
    "print(f\"current_iters         : {current_iter}\")  \n",
    "print(f\"current_epochs           : {current_epoch}\") \n",
    "print(f\"train_total_epochs    : {train_total_epochs}\") \n",
    "\n",
    "train_total_epochs += 5\n",
    "\n",
    "print(f\"current_iters         : {current_iter}\")  \n",
    "print(f\"current_epochs           : {current_epoch}\") \n",
    "print(f\"train_total_epochs    : {train_total_epochs}\") "
   ]
  },
  {
   "cell_type": "code",
   "execution_count": null,
   "id": "5334a0b6",
   "metadata": {
    "ExecuteTime": {
     "end_time": "2022-01-25T17:15:02.216665Z",
     "start_time": "2022-01-25T17:15:01.848081Z"
    },
    "hidden": true
   },
   "outputs": [],
   "source": [
    "# print_metrics_cr(current_epoch, time.time() - t0, None, environ.val_metrics , num_prints)      \n",
    "\n",
    "# num_prints += 1\n",
    "# t0 = time.time()\n",
    "\n",
    "# # Take check point\n",
    "# environ.save_checkpoint('latest', current_iter)\n",
    "# environ.train()\n",
    "# #-------------------------------------------------------\n",
    "# # END validation process\n",
    "# #-------------------------------------------------------       \n",
    "# flag = 'update_alpha'\n",
    "# environ.fix_w()\n",
    "# environ.free_alpha()"
   ]
  },
  {
   "cell_type": "code",
   "execution_count": null,
   "id": "9d8c4f39",
   "metadata": {
    "ExecuteTime": {
     "end_time": "2022-01-08T01:08:57.366231Z",
     "start_time": "2022-01-08T01:08:57.295445Z"
    },
    "hidden": true
   },
   "outputs": [],
   "source": [
    "# dilation = 2\n",
    "# kernel_size = np.asarray((3, 3))\n",
    "# upsampled_kernel_size = (kernel_size - 1) * (dilation - 1) + kernel_size\n",
    "# print(upsampled_kernel_size)"
   ]
  },
  {
   "cell_type": "code",
   "execution_count": null,
   "id": "9500c390",
   "metadata": {
    "ExecuteTime": {
     "end_time": "2022-01-25T23:43:39.763599Z",
     "start_time": "2022-01-25T23:43:39.728402Z"
    },
    "hidden": true
   },
   "outputs": [],
   "source": [
    "# environ.optimizers['weights'].param_groups[0]\n",
    "# for param_group in optimizer.param_groups:\n",
    "#     return param_group['lr']"
   ]
  },
  {
   "cell_type": "code",
   "execution_count": null,
   "id": "5fb71bd6",
   "metadata": {
    "ExecuteTime": {
     "end_time": "2022-01-25T23:43:41.628847Z",
     "start_time": "2022-01-25T23:43:41.602238Z"
    },
    "hidden": true
   },
   "outputs": [],
   "source": [
    "environ.schedulers['weights'].get_last_lr()"
   ]
  },
  {
   "cell_type": "code",
   "execution_count": null,
   "id": "d7934862",
   "metadata": {
    "ExecuteTime": {
     "end_time": "2022-01-08T01:36:17.129535Z",
     "start_time": "2022-01-08T01:36:16.006144Z"
    },
    "hidden": true,
    "scrolled": true
   },
   "outputs": [],
   "source": [
    "current_state = {}\n",
    "for k, v in environ.optimizers.items():\n",
    "    print(f'state dict for {k} = {v}')\n",
    "    current_state[k] = v.state_dict()\n",
    "pp.pprint(current_state)"
   ]
  },
  {
   "cell_type": "code",
   "execution_count": null,
   "id": "d5faf7f1",
   "metadata": {
    "ExecuteTime": {
     "end_time": "2022-01-08T01:40:22.032247Z",
     "start_time": "2022-01-08T01:40:22.006953Z"
    },
    "hidden": true,
    "scrolled": true
   },
   "outputs": [],
   "source": [
    "current_state = {}\n",
    "for k, v in environ.schedulers.items():\n",
    "    print(f'state dict for {k} = {v}')\n",
    "    print(v.state_dict())"
   ]
  },
  {
   "cell_type": "markdown",
   "id": "dd497e72",
   "metadata": {
    "heading_collapsed": true,
    "hidden": true
   },
   "source": [
    "### Losses and Metrics"
   ]
  },
  {
   "cell_type": "code",
   "execution_count": null,
   "id": "66169a84",
   "metadata": {
    "ExecuteTime": {
     "end_time": "2022-02-09T16:34:44.555617Z",
     "start_time": "2022-02-09T16:34:44.507417Z"
    },
    "hidden": true
   },
   "outputs": [],
   "source": [
    "trn_losses = environ.losses"
   ]
  },
  {
   "cell_type": "code",
   "execution_count": null,
   "id": "60cb8234",
   "metadata": {
    "ExecuteTime": {
     "end_time": "2022-02-10T03:35:11.758429Z",
     "start_time": "2022-02-10T03:35:11.278211Z"
    },
    "hidden": true
   },
   "outputs": [],
   "source": [
    "print_metrics_cr(current_epoch, time.time() - start_time, trn_losses, environ.val_metrics , num_prints)      "
   ]
  },
  {
   "cell_type": "code",
   "execution_count": null,
   "id": "4ce0301f",
   "metadata": {
    "ExecuteTime": {
     "end_time": "2022-02-10T03:21:49.107793Z",
     "start_time": "2022-02-10T03:21:49.084484Z"
    },
    "hidden": true
   },
   "outputs": [],
   "source": [
    "# print_metrics_cr(current_epoch, time.time() - start_time, trn_losses, environ.val_metrics , num_prints)      "
   ]
  },
  {
   "cell_type": "code",
   "execution_count": null,
   "id": "a498b6ee",
   "metadata": {
    "ExecuteTime": {
     "end_time": "2022-02-10T03:20:32.866010Z",
     "start_time": "2022-02-10T03:20:32.442919Z"
    },
    "hidden": true
   },
   "outputs": [],
   "source": [
    "# pp.pprint(environ.losses)\n",
    "pp.pprint(trn_losses)"
   ]
  },
  {
   "cell_type": "code",
   "execution_count": null,
   "id": "5fe30724",
   "metadata": {
    "ExecuteTime": {
     "end_time": "2022-02-10T03:34:21.945701Z",
     "start_time": "2022-02-10T03:34:21.411234Z"
    },
    "hidden": true
   },
   "outputs": [],
   "source": [
    "pp.pprint(environ.val_metrics)"
   ]
  },
  {
   "cell_type": "code",
   "execution_count": null,
   "id": "a1d81167",
   "metadata": {
    "ExecuteTime": {
     "end_time": "2022-01-27T00:58:49.364883Z",
     "start_time": "2022-01-27T00:58:49.342931Z"
    },
    "hidden": true
   },
   "outputs": [],
   "source": [
    "# environ.opt['train']['Lambda_sharing'] = 0.5\n",
    "# opt['train']['Lambda_sharing'] = 0.5\n",
    "\n",
    "# environ.opt['train']['policy_lr'] = 0.001\n",
    "# opt['train']['policy_lr'] = 0.001"
   ]
  },
  {
   "cell_type": "code",
   "execution_count": null,
   "id": "2a73aa06",
   "metadata": {
    "ExecuteTime": {
     "end_time": "2022-01-26T01:00:41.996410Z",
     "start_time": "2022-01-26T01:00:41.559006Z"
    },
    "hidden": true
   },
   "outputs": [],
   "source": [
    "environ.losses.keys()\n",
    "pp.pprint(environ.losses)"
   ]
  },
  {
   "cell_type": "code",
   "execution_count": null,
   "id": "e06ece74",
   "metadata": {
    "ExecuteTime": {
     "end_time": "2022-01-08T01:19:43.683550Z",
     "start_time": "2022-01-08T01:19:43.571450Z"
    },
    "hidden": true
   },
   "outputs": [],
   "source": [
    "tmp = environ.get_loss_dict()\n",
    "print(tmp.keys())\n",
    "pp.pprint(tmp)"
   ]
  },
  {
   "cell_type": "code",
   "execution_count": null,
   "id": "00ac0256",
   "metadata": {
    "ExecuteTime": {
     "end_time": "2022-01-27T00:58:50.458223Z",
     "start_time": "2022-01-27T00:58:50.430889Z"
    },
    "hidden": true
   },
   "outputs": [],
   "source": [
    "print(opt['diff_sparsity_weights'])\n",
    "print(opt['is_sharing'])\n",
    "print(opt['diff_sparsity_weights'] and not opt['is_sharing'])\n",
    "print(environ.opt['train']['Lambda_sharing'])\n",
    "print(opt['train']['Lambda_sharing'])\n",
    "print(environ.opt['train']['Lambda_sparsity'])\n",
    "print(opt['train']['Lambda_sparsity'])\n",
    "print(environ.opt['train']['policy_lr'])\n",
    "print(opt['train']['policy_lr'])"
   ]
  },
  {
   "cell_type": "markdown",
   "id": "aae2d510",
   "metadata": {
    "heading_collapsed": true,
    "hidden": true
   },
   "source": [
    "### Policy / Logit stuff"
   ]
  },
  {
   "cell_type": "code",
   "execution_count": null,
   "id": "bb628497",
   "metadata": {
    "ExecuteTime": {
     "end_time": "2022-02-08T20:35:14.041577Z",
     "start_time": "2022-02-08T20:35:14.018303Z"
    },
    "hidden": true
   },
   "outputs": [],
   "source": [
    "from scipy.special          import softmax"
   ]
  },
  {
   "cell_type": "code",
   "execution_count": null,
   "id": "79eed454",
   "metadata": {
    "ExecuteTime": {
     "end_time": "2022-02-08T20:00:30.103364Z",
     "start_time": "2022-02-08T20:00:30.068021Z"
    },
    "hidden": true
   },
   "outputs": [],
   "source": [
    "np.set_printoptions(precision=8,edgeitems=3, infstr='inf', linewidth=150, nanstr='nan')\n",
    "torch.set_printoptions(precision=8,linewidth=132)"
   ]
  },
  {
   "cell_type": "markdown",
   "id": "df03b5cc",
   "metadata": {
    "heading_collapsed": true,
    "hidden": true
   },
   "source": [
    "#### `get_task_logits(n)` Get logits for task group n"
   ]
  },
  {
   "cell_type": "code",
   "execution_count": null,
   "id": "2aed8b9b",
   "metadata": {
    "ExecuteTime": {
     "end_time": "2022-02-08T20:56:35.652087Z",
     "start_time": "2022-02-08T20:56:35.327406Z"
    },
    "hidden": true
   },
   "outputs": [],
   "source": [
    "task_logits = environ.get_task_logits(1)\n",
    "print(task_logits)"
   ]
  },
  {
   "cell_type": "markdown",
   "id": "fb66fa5f",
   "metadata": {
    "hidden": true
   },
   "source": [
    "#### `get_arch_parameters()`: Get last used logits from network"
   ]
  },
  {
   "cell_type": "code",
   "execution_count": null,
   "id": "8a85521e",
   "metadata": {
    "ExecuteTime": {
     "end_time": "2022-02-08T20:00:31.101960Z",
     "start_time": "2022-02-08T20:00:30.757064Z"
    },
    "hidden": true,
    "scrolled": true
   },
   "outputs": [],
   "source": [
    "import torch.optim as optim\n",
    "arch_parameters      = environ.get_arch_parameters()\n",
    "print(arch_parameters)"
   ]
  },
  {
   "cell_type": "code",
   "execution_count": null,
   "id": "489b0bef",
   "metadata": {
    "ExecuteTime": {
     "end_time": "2022-02-09T15:43:06.054699Z",
     "start_time": "2022-02-09T15:43:05.689327Z"
    },
    "hidden": true,
    "scrolled": true
   },
   "outputs": [],
   "source": [
    "import torch.optim as optim\n",
    "arch_parameters      = environ.get_arch_parameters()\n",
    "print(arch_parameters)"
   ]
  },
  {
   "cell_type": "markdown",
   "id": "19ea1743",
   "metadata": {
    "hidden": true
   },
   "source": [
    "#### `get_policy_logits()`:  Get Policy Logits - returns same as `get_arch_parameters()`"
   ]
  },
  {
   "cell_type": "code",
   "execution_count": null,
   "id": "cdbb40c4",
   "metadata": {
    "ExecuteTime": {
     "end_time": "2022-02-09T15:43:24.972390Z",
     "start_time": "2022-02-09T15:43:24.636629Z"
    },
    "hidden": true,
    "scrolled": true
   },
   "outputs": [],
   "source": [
    "logs = environ.get_policy_logits()\n",
    "for i in logs:\n",
    "    print(i, '\\n')\n",
    "# probs = softmax(logs, axis= -1)\n",
    "# for i in probs:\n",
    "#     print(i, '\\n')"
   ]
  },
  {
   "cell_type": "markdown",
   "id": "6080a364",
   "metadata": {
    "hidden": true
   },
   "source": [
    "#### `get_policy_prob()` : Gets the softmax of the logits"
   ]
  },
  {
   "cell_type": "code",
   "execution_count": null,
   "id": "b59c75af",
   "metadata": {
    "ExecuteTime": {
     "end_time": "2022-02-09T15:43:29.733732Z",
     "start_time": "2022-02-09T15:43:29.699600Z"
    },
    "hidden": true,
    "scrolled": true
   },
   "outputs": [],
   "source": [
    "policy_softmaxs = environ.get_policy_prob()\n",
    "for i in policy_softmaxs:\n",
    "    print(i, '\\n')"
   ]
  },
  {
   "cell_type": "markdown",
   "id": "3c3160d9",
   "metadata": {
    "heading_collapsed": true,
    "hidden": true
   },
   "source": [
    "#### `get_sample_policy( hard_sampling = False)` : Calls test_sample_policy of network with random choices based on softmax of logits"
   ]
  },
  {
   "cell_type": "code",
   "execution_count": null,
   "id": "3f411444",
   "metadata": {
    "ExecuteTime": {
     "end_time": "2022-02-08T22:21:15.636722Z",
     "start_time": "2022-02-08T22:21:15.165456Z"
    },
    "hidden": true
   },
   "outputs": [],
   "source": [
    "policy_softmaxs = environ.get_policy_prob()\n",
    "policies,logits = environ.get_sample_policy(hard_sampling = False)\n",
    "\n",
    "for l, p, s in zip(logits, policies, policy_softmaxs) :\n",
    "    for  l_row, p_row, s_row in zip(l, p, s):\n",
    "        print( l_row,'\\t', p_row, '\\t', s_row)\n",
    "    print('\\n')"
   ]
  },
  {
   "cell_type": "markdown",
   "id": "802664ec",
   "metadata": {
    "heading_collapsed": true,
    "hidden": true
   },
   "source": [
    "#### `get_sample_policy( hard_sampling = True)` : Calls test_sample_policy of network using ARGMAX of logits"
   ]
  },
  {
   "cell_type": "code",
   "execution_count": null,
   "id": "dea65bf2",
   "metadata": {
    "ExecuteTime": {
     "end_time": "2022-02-08T20:59:40.790899Z",
     "start_time": "2022-02-08T20:59:40.726657Z"
    },
    "hidden": true
   },
   "outputs": [],
   "source": [
    "policy_softmaxs = environ.get_policy_prob()\n",
    "hard_policies, logits = environ.get_sample_policy(hard_sampling = True)\n",
    "\n",
    "for p,l,s in zip(hard_policies, logits, policy_softmaxs) :\n",
    "    for  p_row, l_row, s_row in zip(p, l, s):\n",
    "        print( l_row,'\\t', p_row, '\\t', s_row)\n",
    "    print('\\n')"
   ]
  },
  {
   "cell_type": "markdown",
   "id": "c63c39cf",
   "metadata": {
    "heading_collapsed": true,
    "hidden": true
   },
   "source": [
    "#### Print"
   ]
  },
  {
   "cell_type": "code",
   "execution_count": null,
   "id": "4c0fe096",
   "metadata": {
    "ExecuteTime": {
     "end_time": "2022-02-08T21:00:47.452220Z",
     "start_time": "2022-02-08T21:00:47.422902Z"
    },
    "hidden": true
   },
   "outputs": [],
   "source": [
    "print(f\" Layer    task 1      task 2      task 3\")\n",
    "print(f\" -----    ------      ------      ------\")\n",
    "for idx, (l1, l2, l3) in enumerate(zip(hard_policies[0], hard_policies[1], hard_policies[2]),1):\n",
    "    print(f\"   {idx}      {l1}       {l2}       {l3}\")\n",
    "    \n",
    "\n",
    "    print(f\"\\n\\n where [p1  p2]:  p1: layer is selected    p2: layer is not selected\")"
   ]
  },
  {
   "cell_type": "code",
   "execution_count": null,
   "id": "7ade0ac9",
   "metadata": {
    "ExecuteTime": {
     "end_time": "2022-02-08T22:39:39.936555Z",
     "start_time": "2022-02-08T22:39:39.911591Z"
    },
    "hidden": true
   },
   "outputs": [],
   "source": [
    "def display_trained_policy(iter):\n",
    "\n",
    "    policy_softmaxs = environ.get_policy_prob()\n",
    "    policy_argmaxs = 1-np.argmax(policy_softmaxs, axis = -1)\n",
    "    print(f\"  Trained polcies at iteration: {iter} \")\n",
    "    print(f\"                   task 1                           task 2                         task 3        \")\n",
    "    print(f\" Layer       softmax        select          softmax        select          softmax        select   \")\n",
    "    print(f\" -----    ---------------   ------       ---------------   ------       ---------------   ------   \")\n",
    "    for idx, (l1,l2,l3,  p1,p2,p3) in enumerate(zip(policy_softmaxs[0], policy_softmaxs[1], policy_softmaxs[2], policy_argmaxs[0], policy_argmaxs[1], policy_argmaxs[2]),1):\n",
    "        print(f\"   {idx}      {l1[0]:.4f}   {l1[1]:.4f}   {p1:4d}    {l2[0]:11.4f}   {l2[1]:.4f}   {p2:4d}    {l3[0]:11.4f}   {l3[1]:.4f}   {p3:4d}\")\n",
    "\n",
    "    print()\n",
    "# print(f\"\\n\\n where [p1  p2]:  p1: layer is selected    p2: layer is not selected\")"
   ]
  },
  {
   "cell_type": "code",
   "execution_count": null,
   "id": "ec208dd8",
   "metadata": {
    "ExecuteTime": {
     "end_time": "2022-02-08T22:42:12.650813Z",
     "start_time": "2022-02-08T22:42:12.330169Z"
    },
    "hidden": true
   },
   "outputs": [],
   "source": [
    "display_trained_policy(5)"
   ]
  },
  {
   "cell_type": "code",
   "execution_count": null,
   "id": "eec517e9",
   "metadata": {
    "ExecuteTime": {
     "end_time": "2022-02-08T22:07:30.836214Z",
     "start_time": "2022-02-08T22:07:30.804575Z"
    },
    "hidden": true
   },
   "outputs": [],
   "source": [
    "print(f\"                        POLICIES (SOFTMAX)                                       task 3          \")\n",
    "print(f\" Layer    task1              task2            task3 softmax         softmax         argmax         softmax         argmax   \")\n",
    "print(f\" -----    -------------     -------------     -------------   ------   \")\n",
    "for idx, (l1,l2,l3, h1,h2,h3) in enumerate(zip(policy_softmaxs[0], policy_softmaxs[1], policy_softmaxs[2],hard_policies[0], hard_policies[1], hard_policies[2]),1):\n",
    "    print(f\"   {idx}      {l1[0]:.4f} {l1[1]:.4f}     {l2[0]:.4f} {l2[1]:.4f}     {l3[0]:.4f} {l3[1]:.4f}    {h3}\")\n",
    "    \n",
    "print(f\"\\n\\n where [p1  p2]:  p1: layer is selected    p2: layer is not selected\")"
   ]
  },
  {
   "cell_type": "code",
   "execution_count": null,
   "id": "8bbeacb4",
   "metadata": {
    "ExecuteTime": {
     "end_time": "2022-02-08T22:04:50.757406Z",
     "start_time": "2022-02-08T22:04:50.731736Z"
    },
    "hidden": true
   },
   "outputs": [],
   "source": [
    "# print(policy_softmaxs[2], np.argmax(1-policy_softmaxs[2], axis = -1))\n",
    "print(policy_softmaxs, np.argmax(policy_softmaxs, axis = -1))"
   ]
  },
  {
   "cell_type": "markdown",
   "id": "c4be0240",
   "metadata": {
    "heading_collapsed": true,
    "hidden": true
   },
   "source": [
    "#### `get_current_logits()` : Calls test_sample_policy of network using ARGMAX of logits"
   ]
  },
  {
   "cell_type": "code",
   "execution_count": null,
   "id": "cfdb7240",
   "metadata": {
    "ExecuteTime": {
     "end_time": "2022-02-08T21:19:06.155425Z",
     "start_time": "2022-02-08T21:19:06.118640Z"
    },
    "hidden": true,
    "scrolled": true
   },
   "outputs": [],
   "source": [
    "logits  = (environ.get_current_logits())\n",
    "for i in logits:\n",
    "    print(i ,'\\n')"
   ]
  },
  {
   "cell_type": "markdown",
   "id": "13e84662",
   "metadata": {
    "heading_collapsed": true,
    "hidden": true
   },
   "source": [
    "#### `get_current_policy()` : Calls test_sample_policy of network using ARGMAX of logits"
   ]
  },
  {
   "cell_type": "code",
   "execution_count": null,
   "id": "548cfa24",
   "metadata": {
    "ExecuteTime": {
     "end_time": "2022-02-08T20:40:06.543376Z",
     "start_time": "2022-02-08T20:40:06.230711Z"
    },
    "hidden": true,
    "scrolled": true
   },
   "outputs": [],
   "source": [
    "pols  = (environ.get_current_policy())\n",
    "\n",
    "for i in pols:\n",
    "    print(i ,'\\n')"
   ]
  },
  {
   "cell_type": "code",
   "execution_count": null,
   "id": "77f556a8",
   "metadata": {
    "ExecuteTime": {
     "end_time": "2022-01-27T18:27:33.593255Z",
     "start_time": "2022-01-27T18:27:33.553141Z"
    },
    "hidden": true
   },
   "outputs": [],
   "source": [
    " "
   ]
  },
  {
   "cell_type": "markdown",
   "id": "a792710e",
   "metadata": {
    "hidden": true
   },
   "source": [
    "#### `gumbel_softmax()`  "
   ]
  },
  {
   "cell_type": "code",
   "execution_count": null,
   "id": "7265490e",
   "metadata": {
    "ExecuteTime": {
     "end_time": "2022-02-08T21:28:17.107529Z",
     "start_time": "2022-02-08T21:28:17.084910Z"
    },
    "hidden": true
   },
   "outputs": [],
   "source": [
    "np.set_printoptions(precision=8,edgeitems=3, infstr='inf', linewidth=150, nanstr='nan', floatmode = 'maxprec_equal')\n",
    "torch.set_printoptions(precision=8,linewidth=132)"
   ]
  },
  {
   "cell_type": "code",
   "execution_count": null,
   "id": "3dcb0087",
   "metadata": {
    "ExecuteTime": {
     "end_time": "2022-02-08T21:35:11.617269Z",
     "start_time": "2022-02-08T21:35:11.569599Z"
    },
    "hidden": true
   },
   "outputs": [],
   "source": [
    "print(environ.temp)\n",
    "# tau = environ.temp\n",
    "tau = 1\n",
    "for i in range(3): \n",
    "    logits_tensor = torch.tensor(logits[0])\n",
    "    # Sample soft categorical using reparametrization trick:\n",
    "    gumbel_soft = F.gumbel_softmax(logits_tensor, tau=tau, hard=False).cpu().numpy() \n",
    "\n",
    "    # Sample hard categorical using \"Straight-through\" trick:\n",
    "    gumbel_hard  = F.gumbel_softmax(logits_tensor, tau=tau, hard=True).cpu().numpy()\n",
    "    \n",
    "    for l, gs, gh in zip(lgts, gumbel_soft, gumbel_hard):\n",
    "        print(f\"   {l}   \\t {gs}            \\t {gh}\")\n",
    "#     print(lgts)\n",
    "#     print(gumbel_soft)\n",
    "#     print(gumbel_hard)\n",
    "    print()"
   ]
  },
  {
   "cell_type": "code",
   "execution_count": null,
   "id": "f3d5ef7f",
   "metadata": {
    "hidden": true
   },
   "outputs": [],
   "source": []
  },
  {
   "cell_type": "code",
   "execution_count": null,
   "id": "4b0e0e84",
   "metadata": {
    "ExecuteTime": {
     "end_time": "2022-02-08T21:21:35.524957Z",
     "start_time": "2022-02-08T21:21:35.488812Z"
    },
    "hidden": true
   },
   "outputs": [],
   "source": [
    "for lgts in logits:\n",
    "    logits_tensor = torch.tensor(lgts)\n",
    "    print(lgts)\n",
    "    # Sample soft categorical using reparametrization trick:\n",
    "    gumbel_soft = F.gumbel_softmax(logits_tensor, tau=1, hard=False)\n",
    "    print(gumbel_soft)\n",
    "\n",
    "    # Sample hard categorical using \"Straight-through\" trick:\n",
    "    gumbel_hard  = F.gumbel_softmax(logits_tensor, tau=1, hard=True)\n",
    "    print(gumbel_hard)\n",
    "    print()"
   ]
  },
  {
   "cell_type": "code",
   "execution_count": null,
   "id": "fe34a06a",
   "metadata": {
    "ExecuteTime": {
     "end_time": "2022-02-03T20:49:37.643349Z",
     "start_time": "2022-02-03T20:49:37.580786Z"
    },
    "hidden": true
   },
   "outputs": [],
   "source": [
    "smax = scipy.special.softmax(logs, axis =1)\n",
    "# smax = np.array( \n",
    "# [[0.46973792, 0.530262  ],\n",
    "#  [0.45025694, 0.549743  ],\n",
    "#  [0.4443086 , 0.5556915 ],\n",
    "#  [0.4138397 , 0.58616036],\n",
    "#  [0.4140113 , 0.5859887 ],\n",
    "#  [0.42114905, 0.57885087]])\n",
    "\n",
    "print(smax.shape)\n",
    "print(smax)\n",
    "print(smax[0])\n",
    "print(smax[0].sum())\n",
    "print(np.random.choice((1,0), p =smax[0]))"
   ]
  },
  {
   "cell_type": "code",
   "execution_count": null,
   "id": "7e7de25c",
   "metadata": {
    "ExecuteTime": {
     "end_time": "2022-02-08T21:15:19.893888Z",
     "start_time": "2022-02-08T21:15:19.870899Z"
    },
    "hidden": true
   },
   "outputs": [],
   "source": [
    "logs = np.array(\n",
    "[[0.33064184, 0.42053092],\n",
    " [0.3532089 , 0.52056104],\n",
    " [0.3888512 , 0.5680909 ],\n",
    " [0.42039296, 0.694217  ],\n",
    " [0.4519742 , 0.73311865],\n",
    " [0.48401102, 0.7522658 ]],\n",
    ")"
   ]
  }
 ],
 "metadata": {
  "git": {
   "suppress_outputs": true
  },
  "kernelspec": {
   "display_name": "Python (pyt-gpu)",
   "language": "python",
   "name": "pyt-gpu"
  },
  "language_info": {
   "codemirror_mode": {
    "name": "ipython",
    "version": 3
   },
   "file_extension": ".py",
   "mimetype": "text/x-python",
   "name": "python",
   "nbconvert_exporter": "python",
   "pygments_lexer": "ipython3",
   "version": "3.9.5"
  },
  "toc": {
   "base_numbering": 1,
   "nav_menu": {},
   "number_sections": true,
   "sideBar": true,
   "skip_h1_title": false,
   "title_cell": "Table of Contents",
   "title_sidebar": "Contents",
   "toc_cell": false,
   "toc_position": {
    "height": "calc(100% - 180px)",
    "left": "10px",
    "top": "150px",
    "width": "399px"
   },
   "toc_section_display": true,
   "toc_window_display": false
  }
 },
 "nbformat": 4,
 "nbformat_minor": 5
}
