{
 "cells": [
  {
   "cell_type": "markdown",
   "id": "408f1261",
   "metadata": {},
   "source": [
    "## Initialization  "
   ]
  },
  {
   "cell_type": "code",
   "execution_count": 1,
   "id": "6d574cdc",
   "metadata": {
    "ExecuteTime": {
     "end_time": "2022-03-28T15:00:06.652474Z",
     "start_time": "2022-03-28T15:00:04.433742Z"
    },
    "execution": {
     "iopub.execute_input": "2022-01-07T22:44:08.233990Z",
     "iopub.status.busy": "2022-01-07T22:44:08.233053Z",
     "iopub.status.idle": "2022-01-07T22:44:08.273284Z",
     "shell.execute_reply": "2022-01-07T22:44:08.271908Z",
     "shell.execute_reply.started": "2022-01-07T22:44:08.233943Z"
    },
    "scrolled": false,
    "tags": []
   },
   "outputs": [],
   "source": [
    "%load_ext autoreload\n",
    "%autoreload 2\n",
    "import os \n",
    "import sys\n",
    "sys.path.insert(0, './src')\n",
    "import time\n",
    "import argparse\n",
    "import yaml\n",
    "import types\n",
    "import copy, pprint\n",
    "from time import sleep\n",
    "from datetime import datetime\n",
    "import numpy  as np\n",
    "import torch  \n",
    "import wandb\n",
    "import pandas as pd\n",
    "from utils.notebook_modules import initialize, init_dataloaders, init_environment, init_wandb, \\\n",
    "                                   training_prep, disp_dataloader_info,disp_info_1, \\\n",
    "                                   warmup_phase, weight_policy_training, disp_gpu_info\n",
    "\n",
    "from utils.util import (print_separator, print_heading, timestring, print_loss, load_from_pickle) #, print_underline, \n",
    "#                       print_dbg, get_command_line_args ) \n",
    "\n",
    "pp = pprint.PrettyPrinter(indent=4)\n",
    "np.set_printoptions(edgeitems=3, infstr='inf', linewidth=150, nanstr='nan')\n",
    "torch.set_printoptions(precision=6, linewidth=132)\n",
    "pd.options.display.width = 132\n",
    "# torch.set_printoptions(precision=None, threshold=None, edgeitems=None, linewidth=None, profile=None, sci_mode=None)\n",
    "# sys.path.insert(0, '/home/kbardool/kusanagi/AdaSparseChem/src')\n",
    "# print(sys.path)\n",
    "# disp_gpu_info() \n",
    "os.environ[\"WANDB_NOTEBOOK_NAME\"] = \"Adashare_Training.ipynb\"\n"
   ]
  },
  {
   "cell_type": "markdown",
   "id": "1b33ac6e",
   "metadata": {},
   "source": [
    "## Create Environment"
   ]
  },
  {
   "cell_type": "markdown",
   "id": "ee652c57",
   "metadata": {},
   "source": [
    "### Parse Input Args  - Read YAML config file"
   ]
  },
  {
   "cell_type": "code",
   "execution_count": 2,
   "id": "a42bb98b",
   "metadata": {
    "ExecuteTime": {
     "end_time": "2022-03-28T15:00:06.696623Z",
     "start_time": "2022-03-28T15:00:06.657565Z"
    }
   },
   "outputs": [],
   "source": [
    "# RESUME_MODEL_CKPT = 'model_train_ep_25_seed_0088'\n",
    "\n",
    "## For RESTARTING\n",
    "##\n",
    "# input_args = \" --config yamls/chembl_3task_train.yaml \" \\\n",
    "#              \" --resume \" \\\n",
    "#              \" --exp_id      330i85cg\" \\\n",
    "#              \" --exp_name    0308_1204\" \\\n",
    "#              \" --exp_desc    Train with dropout 0.5\" \\\n",
    "#              \" --seed_idx    0 \"\\\n",
    "#              \" --batch_size  128\" \\\n",
    "#              \" --lambda_sparsity  0.01\"\\\n",
    "#              \" --lambda_sharing   0.01\" \n",
    "## get command line arguments"
   ]
  },
  {
   "cell_type": "code",
   "execution_count": 3,
   "id": "cd3a7f00",
   "metadata": {
    "ExecuteTime": {
     "end_time": "2022-03-28T15:00:06.732565Z",
     "start_time": "2022-03-28T15:00:06.699906Z"
    },
    "execution": {
     "iopub.execute_input": "2022-01-07T22:44:13.145647Z",
     "iopub.status.busy": "2022-01-07T22:44:13.145313Z",
     "iopub.status.idle": "2022-01-07T22:44:13.193262Z",
     "shell.execute_reply": "2022-01-07T22:44:13.192140Z",
     "shell.execute_reply.started": "2022-01-07T22:44:13.145622Z"
    }
   },
   "outputs": [],
   "source": [
    "##  For Initiating \n",
    "##\n",
    "input_args = \" --config yamls/chembl_3task_train.yaml \" \\\n",
    "             \" --exp_desc    6 lyrs,dropout 0.5, weight 105 bch/ep policy 105 bch/ep \" \\\n",
    "             \" --warmup_epochs      575 \" \\\n",
    "             \" --hidden_size         50 \" \\\n",
    "             \" --tail_hidden_size    50\" \\\n",
    "             \" --seed_idx             0\" \\\n",
    "             \" --batch_size         128\" \\\n",
    "             \" --task_lr          0.001\" \\\n",
    "             \" --backbone_lr      0.001\" \\\n",
    "             \" --policy_lr        0.001\" \\\n",
    "             \" --lambda_sparsity   0.02\" \\\n",
    "             \" --lambda_sharing    0.01\" \\\n",
    "               \" --folder_sfx    noplcy\"                       \n",
    "#              \" --hidden_size   100 100 100 100 100 100\" \\\n",
    "#              \" --tail_hidden_size  100 \" \\\n"
   ]
  },
  {
   "cell_type": "code",
   "execution_count": 5,
   "id": "dbc14177",
   "metadata": {
    "ExecuteTime": {
     "end_time": "2022-03-28T15:00:11.716192Z",
     "start_time": "2022-03-28T15:00:11.622273Z"
    },
    "scrolled": false
   },
   "outputs": [
    {
     "name": "stdout",
     "output_type": "stream",
     "text": [
      "\n",
      "  command line parms : \n",
      "------------------------\n",
      " config...................  yamls/chembl_3task_train.yaml\n",
      " exp_id...................  None\n",
      " exp_name.................  None\n",
      " folder_sfx...............  noplcy\n",
      " exp_desc.................  6 lyrs,dropout 0.5, weight 105 bch/ep policy 105 bch/ep\n",
      " hidden_sizes.............  [50]\n",
      " tail_hidden_size.........  50\n",
      " warmup_epochs............  575\n",
      " training_epochs..........  None\n",
      " seed_idx.................  0\n",
      " batch_size...............  128\n",
      " backbone_lr..............  0.001\n",
      " task_lr..................  0.001\n",
      " policy_lr................  0.001\n",
      " decay_lr_rate............  None\n",
      " decay_lr_freq............  None\n",
      " lambda_sparsity..........  0.02\n",
      " lambda_sharing...........  0.01\n",
      " gpu_ids..................  [0]\n",
      " resume...................  False\n",
      " cpu......................  False\n",
      "\n",
      "\n",
      "\n",
      "##################################################\n",
      "################### READ YAML ####################\n",
      "##################################################\n",
      "\n",
      "\n",
      " log_dir              folder exists:  ../experiments/AdaSparseChem/50x1_0328_1700_plr0.001_sp0.02_sh0.01_lr0.001_noplcy\n",
      " result_dir           folder exists:  ../experiments/AdaSparseChem/50x1_0328_1700_plr0.001_sp0.02_sh0.01_lr0.001_noplcy\n",
      " checkpoint_dir       folder exists:  ../experiments/AdaSparseChem/50x1_0328_1700_plr0.001_sp0.02_sh0.01_lr0.001_noplcy\n",
      "\n",
      "------------------------------------------------------------------------------------------------------------------------\n",
      " experiment name       : 0328_1700_noplcy \n",
      " experiment id         : 1cdviucz \n",
      " folder_name           : 50x1_0328_1700_plr0.001_sp0.02_sh0.01_lr0.001_noplcy \n",
      " experiment description: 6 lyrs,dropout 0.5, weight 105 bch/ep policy 105 bch/ep\n",
      " Random seeds          : [88, 45, 50, 100, 44, 48, 2048, 2222, 9999]\n",
      " Random  seed used     : 88 \n",
      " log folder            : ../experiments/AdaSparseChem/50x1_0328_1700_plr0.001_sp0.02_sh0.01_lr0.001_noplcy\n",
      " checkpoint folder     : ../experiments/AdaSparseChem/50x1_0328_1700_plr0.001_sp0.02_sh0.01_lr0.001_noplcy\n",
      " Gpu ids               : [0]\n",
      " Seed index            : 0\n",
      " policy_iter           : best\n",
      " Data Split ratios     : [0.725, 0.225, 0.05]\n",
      "------------------------------------------------------------------------------------------------------------------------ \n",
      "\n",
      "        project_name : AdaSparseChem\n",
      "              exp_id : 1cdviucz\n",
      "            exp_name : 0328_1700_noplcy\n",
      "          exp_folder : 50x1_0328_1700_plr0.001_sp0.02_sh0.01_lr0.001_noplcy\n",
      "     exp_description : 6 lyrs,dropout 0.5, weight 105 bch/ep policy 105 bch/ep\n",
      "          folder_sfx : noplcy\n",
      "         random_seed : 88\n",
      "           seed_list : [88, 45, 50, 100, 44, 48, 2048, 2222, 9999]\n",
      "                 cpu : False\n",
      "             gpu_ids : [0]\n",
      "            backbone : SparseChem\n",
      "               tasks : ['class', 'class', 'class']\n",
      "     tasks_num_class : [5, 5, 5]\n",
      "             lambdas : [1, 1, 1]\n",
      "        policy_model : task-specific\n",
      "             verbose : False\n",
      "       backbone_orig : ResNet18\n",
      "          tasks_orig : ['seg', 'sn']\n",
      "     input_size_freq : None\n",
      "          input_size : 32000\n",
      " first_non_linearity : relu\n",
      "middle_non_linearity : relu\n",
      "  last_non_linearity : relu\n",
      "      middle_dropout : 0.5\n",
      "        last_dropout : 0.5\n",
      "   class_output_size : None\n",
      "    regr_output_size : None\n",
      "              policy : True\n",
      "           is_sparse : True\n",
      "          is_sharing : True\n",
      "diff_sparsity_weights : False\n",
      "          skip_layer : 0\n",
      "       is_curriculum : False\n",
      "    curriculum_speed : 3\n",
      "              fix_BN : False\n",
      "     retrain_from_pl : False\n",
      "\n",
      "train\n",
      "-----\n",
      "          batch_size : 128\n",
      "       warmup_epochs : 575\n",
      "     training_epochs : 250\n",
      "         total_iters : 25000\n",
      "       warm_up_iters : None\n",
      "             task_lr : 0.001\n",
      "         backbone_lr : 0.001\n",
      "       decay_lr_rate : 0.75\n",
      "       decay_lr_freq : 40\n",
      "policy_decay_lr_rate : 0.75\n",
      "policy_decay_lr_freq : 50\n",
      "           policy_lr : 0.001\n",
      "     lambda_sparsity : 0.02\n",
      "      lambda_sharing : 0.01\n",
      "        lambda_tasks : 1\n",
      "         init_method : random\n",
      "           init_temp : 4\n",
      "          decay_temp : 0.965\n",
      "     decay_temp_freq : 16\n",
      "     init_neg_logits : None\n",
      "       hard_sampling : False\n",
      "            val_freq : 500\n",
      "          print_freq : -1\n",
      "           val_iters : -1\n",
      "              resume : False\n",
      "      retrain_resume : False\n",
      "         policy_iter : best\n",
      "          which_iter : warmup\n",
      "\n",
      "paths\n",
      "-----\n",
      "             log_dir : ../experiments/AdaSparseChem/50x1_0328_1700_plr0.001_sp0.02_sh0.01_lr0.001_noplcy\n",
      "          result_dir : ../experiments/AdaSparseChem/50x1_0328_1700_plr0.001_sp0.02_sh0.01_lr0.001_noplcy\n",
      "      checkpoint_dir : ../experiments/AdaSparseChem/50x1_0328_1700_plr0.001_sp0.02_sh0.01_lr0.001_noplcy\n",
      "\n",
      "dataload\n",
      "--------\n",
      "             dataset : Chembl_23_mini\n",
      "            dataroot : /home/kbardool/kusanagi/MLDatasets/chembl_23mini_synthetic\n",
      "                   x : chembl_23mini_x.npy\n",
      "      x_split_ratios : [0.725, 0.225, 0.05]\n",
      "             folding : chembl_23mini_folds.npy\n",
      "         fold_inputs : 32000\n",
      "     input_transform : None\n",
      "             y_tasks : ['chembl_23mini_adashare_y1_bin_sparse.npy', 'chembl_23mini_adashare_y2_bin_sparse.npy', 'chembl_23mini_adashare_y3_bin_sparse.npy']\n",
      "            y_censor : None\n",
      "       weights_class : None\n",
      "              crop_h : 321\n",
      "              crop_w : 321\n",
      "   min_samples_class : 5\n",
      "             fold_va : 0\n",
      "             fold_te : None\n",
      "\n",
      "SC\n",
      "--\n",
      "      normalize_loss : None\n",
      "        hidden_sizes : [50]\n",
      "    tail_hidden_size : 50\n",
      "        exp_name_pfx : 0328_1700\n"
     ]
    }
   ],
   "source": [
    "opt, ns = initialize(input_args, build_folders = True)"
   ]
  },
  {
   "cell_type": "markdown",
   "id": "8f2bfa8d",
   "metadata": {},
   "source": [
    "### Setup Dataloader and Model  "
   ]
  },
  {
   "cell_type": "code",
   "execution_count": 6,
   "id": "c631eb67",
   "metadata": {
    "ExecuteTime": {
     "end_time": "2022-03-28T15:00:16.268504Z",
     "start_time": "2022-03-28T15:00:15.497758Z"
    },
    "execution": {
     "iopub.execute_input": "2022-01-07T22:44:16.229028Z",
     "iopub.status.busy": "2022-01-07T22:44:16.227544Z",
     "iopub.status.idle": "2022-01-07T22:44:16.659397Z",
     "shell.execute_reply": "2022-01-07T22:44:16.658348Z",
     "shell.execute_reply.started": "2022-01-07T22:44:16.228966Z"
    }
   },
   "outputs": [
    {
     "name": "stdout",
     "output_type": "stream",
     "text": [
      "##################################################\n",
      "############### CREATE DATALOADERS ###############\n",
      "##################################################\n",
      "\n",
      " trainset.y_class                                   :  [(13331, 5), (13331, 5), (13331, 5)] \n",
      " trainset1.y_class                                  :  [(13331, 5), (13331, 5), (13331, 5)] \n",
      " trainset2.y_class                                  :  [(13331, 5), (13331, 5), (13331, 5)] \n",
      " valset.y_class                                     :  [(4137, 5), (4137, 5), (4137, 5)]  \n",
      " testset.y_class                                    :  [(920, 5), (920, 5), (920, 5)]  \n",
      "                                 \n",
      " size of training set 0 (warm up)                   :  13331 \n",
      " size of training set 1 (network parms)             :  13331 \n",
      " size of training set 2 (policy weights)            :  13331 \n",
      " size of validation set                             :  4137 \n",
      " size of test set                                   :  920 \n",
      "                               Total                :  45050 \n",
      "                                 \n",
      " lenght (# batches) in training 0 (warm up)         :  105 \n",
      " lenght (# batches) in training 1 (network parms)   :  105 \n",
      " lenght (# batches) in training 2 (policy weights)  :  105 \n",
      " lenght (# batches) in validation dataset           :  33 \n",
      " lenght (# batches) in test dataset                 :  29 \n",
      "                                \n",
      "##################################################\n",
      "############# CREATE THE ENVIRONMENT #############\n",
      "##################################################\n",
      " device is  cuda:0\n",
      "--------------------------------------------------------\n",
      "* SparseChemEnv_Dev environment successfully created\n",
      "-------------------------------------------------------- \n",
      "\n"
     ]
    }
   ],
   "source": [
    "dldrs = init_dataloaders(opt)\n",
    "\n",
    "disp_dataloader_info(dldrs)\n",
    "\n",
    "environ = init_environment(ns, opt, is_train = True, policy_learning = False, display_cfg = False)\n",
    "\n",
    "# ********************************************************************\n",
    "# **************** define optimizer and schedulers *******************\n",
    "# ********************************************************************                                \n",
    "environ.define_optimizer(policy_learning=False)\n",
    "environ.define_scheduler(policy_learning=False)\n"
   ]
  },
  {
   "cell_type": "code",
   "execution_count": 8,
   "id": "677fa3f4",
   "metadata": {
    "ExecuteTime": {
     "end_time": "2022-03-28T15:00:26.077213Z",
     "start_time": "2022-03-28T15:00:26.051222Z"
    }
   },
   "outputs": [],
   "source": [
    "# environ.optimizers['weights'].param_groups[0]"
   ]
  },
  {
   "cell_type": "markdown",
   "id": "320fdeee",
   "metadata": {},
   "source": [
    "###  Weights and Biases Initialization "
   ]
  },
  {
   "cell_type": "code",
   "execution_count": 9,
   "id": "03c2469c",
   "metadata": {
    "ExecuteTime": {
     "end_time": "2022-03-28T15:00:32.255925Z",
     "start_time": "2022-03-28T15:00:27.073540Z"
    }
   },
   "outputs": [
    {
     "name": "stderr",
     "output_type": "stream",
     "text": [
      "\u001b[34m\u001b[1mwandb\u001b[0m: Currently logged in as: \u001b[33mkbardool\u001b[0m (use `wandb login --relogin` to force relogin)\n"
     ]
    },
    {
     "name": "stdout",
     "output_type": "stream",
     "text": [
      "1cdviucz 0328_1700_noplcy AdaSparseChem\n"
     ]
    },
    {
     "data": {
      "text/html": [
       "Tracking run with wandb version 0.12.11"
      ],
      "text/plain": [
       "<IPython.core.display.HTML object>"
      ]
     },
     "metadata": {},
     "output_type": "display_data"
    },
    {
     "data": {
      "text/html": [
       "Run data is saved locally in <code>/home/kbardool/kusanagi/AdaSparseChem/wandb/run-20220328_170027-1cdviucz</code>"
      ],
      "text/plain": [
       "<IPython.core.display.HTML object>"
      ]
     },
     "metadata": {},
     "output_type": "display_data"
    },
    {
     "data": {
      "text/html": [
       "Syncing run <strong><a href=\"http://localhost:8080/kbardool/AdaSparseChem/runs/1cdviucz\" target=\"_blank\">0328_1700_noplcy</a></strong> to <a href=\"http://localhost:8080/kbardool/AdaSparseChem\" target=\"_blank\">Weights & Biases</a> (<a href=\"https://wandb.me/run\" target=\"_blank\">docs</a>)<br/>"
      ],
      "text/plain": [
       "<IPython.core.display.HTML object>"
      ]
     },
     "metadata": {},
     "output_type": "display_data"
    },
    {
     "name": "stdout",
     "output_type": "stream",
     "text": [
      " PROJECT NAME: AdaSparseChem\n",
      " RUN ID      : 1cdviucz \n",
      " RUN NAME    : 0328_1700_noplcy\n",
      " PROJECT NAME: AdaSparseChem\n",
      " RUN ID      : 1cdviucz \n",
      " RUN NAME    : 0328_1700_noplcy\n"
     ]
    }
   ],
   "source": [
    "init_wandb(ns, opt, environment = environ)\n",
    "\n",
    "print(f\" PROJECT NAME: {ns.wandb_run.project}\\n\"\n",
    "      f\" RUN ID      : {ns.wandb_run.id} \\n\"\n",
    "      f\" RUN NAME    : {ns.wandb_run.name}\") "
   ]
  },
  {
   "cell_type": "code",
   "execution_count": 10,
   "id": "d949180d",
   "metadata": {
    "ExecuteTime": {
     "end_time": "2022-03-28T15:00:32.351161Z",
     "start_time": "2022-03-28T15:00:32.262717Z"
    }
   },
   "outputs": [],
   "source": [
    "# ns.wandb_run.finish()"
   ]
  },
  {
   "cell_type": "markdown",
   "id": "1d738062",
   "metadata": {},
   "source": [
    "### Initiate / Resume Training Prep"
   ]
  },
  {
   "cell_type": "code",
   "execution_count": 11,
   "id": "7bd2a36e",
   "metadata": {
    "ExecuteTime": {
     "end_time": "2022-03-28T15:00:32.436164Z",
     "start_time": "2022-03-28T15:00:32.355034Z"
    }
   },
   "outputs": [
    {
     "name": "stdout",
     "output_type": "stream",
     "text": [
      "##################################################\n",
      "############### Initiate Training  ###############\n",
      "##################################################\n"
     ]
    }
   ],
   "source": [
    "if opt['train']['resume']:\n",
    "    RESUME_MODEL_CKPT = \"\"\n",
    "    RESUME_METRICS_CKPT = \"\"    \n",
    "    print(opt['train']['which_iter'])\n",
    "    print(opt['paths']['checkpoint_dir'])\n",
    "    print(RESUME_MODEL_CKPT)\n",
    "    # opt['train']['resume'] = True\n",
    "    # opt['train']['which_iter'] = 'warmup_ep_40_seed_0088'\n",
    "    print_separator('Resume training')\n",
    "    loaded_iter, loaded_epoch = environ.load_checkpoint(RESUME_MODEL_CKPT, path = opt['paths']['checkpoint_dir'], verbose = True)\n",
    "    print(loaded_iter, loaded_epoch)    \n",
    "#     current_iter = environ.load_checkpoint(opt['train']['which_iter'])\n",
    "    environ.networks['mtl-net'].reset_logits()\n",
    "    val_metrics = load_from_pickle(opt['paths']['checkpoint_dir'], RESUME_METRICS_CKPT)\n",
    "    # training_prep(ns, opt, environ, dldrs, epoch = loaded_epoch, iter = loaded_iter )\n",
    "\n",
    "else:\n",
    "    print_separator('Initiate Training ')"
   ]
  },
  {
   "cell_type": "markdown",
   "id": "f9f7774f",
   "metadata": {},
   "source": [
    "### Training Preparation"
   ]
  },
  {
   "cell_type": "code",
   "execution_count": 12,
   "id": "e8b6afdc",
   "metadata": {
    "ExecuteTime": {
     "end_time": "2022-03-28T15:00:32.529037Z",
     "start_time": "2022-03-28T15:00:32.441694Z"
    }
   },
   "outputs": [
    {
     "name": "stdout",
     "output_type": "stream",
     "text": [
      " cuda available [0]\n",
      " set print_freq to length of train loader: 105\n",
      " set eval_iters to length of val loader  : 33\n"
     ]
    }
   ],
   "source": [
    "training_prep(ns, opt, environ, dldrs )"
   ]
  },
  {
   "cell_type": "code",
   "execution_count": 13,
   "id": "5ea212ef",
   "metadata": {
    "ExecuteTime": {
     "end_time": "2022-03-28T15:00:32.620871Z",
     "start_time": "2022-03-28T15:00:32.533151Z"
    },
    "execution": {
     "iopub.execute_input": "2022-01-07T22:44:18.146907Z",
     "iopub.status.busy": "2022-01-07T22:44:18.145721Z",
     "iopub.status.idle": "2022-01-07T22:44:18.191126Z",
     "shell.execute_reply": "2022-01-07T22:44:18.189994Z",
     "shell.execute_reply.started": "2022-01-07T22:44:18.146867Z"
    }
   },
   "outputs": [
    {
     "name": "stdout",
     "output_type": "stream",
     "text": [
      "\n",
      " Num_blocks                : 1                                \n",
      "\n",
      " batch size                : 128 \n",
      " batches/ Weight trn epoch : 105 \n",
      " batches/ Policy trn epoch : 105                                 \n",
      "\n",
      " Print Frequency           : -1 \n",
      " Config Val Frequency      : 500 \n",
      " Config Val Iterations     : -1 \n",
      " Val iterations            : 33 \n",
      " which_iter                : warmup \n",
      " train_resume              : False                                 \n",
      " \n",
      " fix BN parms              : False \n",
      " Task LR                   : 0.001 \n",
      " Backbone LR               : 0.001                                 \n",
      "\n",
      " Sharing  regularization   : 0.01 \n",
      " Sparsity regularization   : 0.02 \n",
      " Task     regularization   : 1                                 \n",
      "\n",
      " Current epoch             : 0  \n",
      " Warm-up epochs            : 575 \n",
      " Training epochs           : 250\n"
     ]
    }
   ],
   "source": [
    "disp_info_1(ns, opt, environ)"
   ]
  },
  {
   "cell_type": "code",
   "execution_count": 14,
   "id": "61bc6107",
   "metadata": {
    "ExecuteTime": {
     "end_time": "2022-03-28T15:00:32.711316Z",
     "start_time": "2022-03-28T15:00:32.625997Z"
    },
    "execution": {
     "iopub.execute_input": "2022-01-07T22:44:18.146907Z",
     "iopub.status.busy": "2022-01-07T22:44:18.145721Z",
     "iopub.status.idle": "2022-01-07T22:44:18.191126Z",
     "shell.execute_reply": "2022-01-07T22:44:18.189994Z",
     "shell.execute_reply.started": "2022-01-07T22:44:18.146867Z"
    },
    "scrolled": false
   },
   "outputs": [
    {
     "name": "stdout",
     "output_type": "stream",
     "text": [
      "\n",
      "    folder: 50x1_0328_1700_plr0.001_sp0.02_sh0.01_lr0.001_noplcy\n",
      "    layers: 1 [50] \n",
      "    \n",
      "    middle dropout         : 0.5\n",
      "    last dropout           : 0.5\n",
      "    diff_sparsity_weights  : False\n",
      "    skip_layer             : 0\n",
      "    is_curriculum          : False\n",
      "    curriculum_speed       : 3\n",
      "    \n",
      "    task_lr                : 0.001\n",
      "    backbone_lr            : 0.001\n",
      "    decay_lr_rate          : 0.75\n",
      "    decay_lr_freq          : 40\n",
      "    \n",
      "    policy_lr              : 0.001\n",
      "    policy_decay_lr_rate   : 0.75\n",
      "    policy_decay_lr_freq   : 50\n",
      "    lambda_sparsity        : 0.02\n",
      "    lambda_sharing         : 0.01\n",
      "    lambda_tasks           : 1\n",
      "    \n",
      "    Gumbel init_temp       : 4\n",
      "    Gumbel decay_temp      : 0.965\n",
      "    Gumbel decay_temp_freq : 16\n",
      "    Logit init_method      : random\n",
      "    Logit init_neg_logits  : None\n",
      "    Logit hard_sampling    : False\n",
      "    Warm-up epochs         : 575\n",
      "    training epochs        : 250\n",
      "    Data split ratios      : [0.725, 0.225, 0.05]\n",
      "\n"
     ]
    }
   ],
   "source": [
    "print(environ.disp_for_excel())"
   ]
  },
  {
   "cell_type": "markdown",
   "id": "3278d6d1",
   "metadata": {},
   "source": [
    "## Warmup Training"
   ]
  },
  {
   "cell_type": "code",
   "execution_count": 16,
   "id": "92380a48",
   "metadata": {
    "ExecuteTime": {
     "end_time": "2022-03-28T15:00:40.016797Z",
     "start_time": "2022-03-28T15:00:39.961997Z"
    },
    "scrolled": true
   },
   "outputs": [
    {
     "name": "stdout",
     "output_type": "stream",
     "text": [
      "575 0\n",
      "--------------------------------------------------------------------------\n",
      " Last Epoch: 0   # of warm-up epochs to do:  575 - Run epochs 1 to 575\n",
      "-------------------------------------------------------------------------- \n",
      "\n"
     ]
    }
   ],
   "source": [
    "# environ.display_trained_policy(ns.current_epoch,out=sys.stdout)\n",
    "# ns.stop_epoch_warmup = 10\n",
    "# ns.warmup_epochs = 575\n",
    "print(ns.warmup_epochs, ns.current_epoch)\n",
    "print_heading(f\" Last Epoch: {ns.current_epoch}   # of warm-up epochs to do:  {ns.warmup_epochs} - Run epochs {ns.current_epoch+1} to {ns.current_epoch + ns.warmup_epochs}\", verbose = True)"
   ]
  },
  {
   "cell_type": "code",
   "execution_count": null,
   "id": "8be9d65b",
   "metadata": {
    "ExecuteTime": {
     "start_time": "2022-03-28T15:00:42.200Z"
    },
    "scrolled": true
   },
   "outputs": [
    {
     "name": "stdout",
     "output_type": "stream",
     "text": [
      "--------------------------------------------------------------------------\n",
      " Last Epoch: 0   # of warm-up epochs to do:  575 - Run epochs 1 to 575\n",
      "-------------------------------------------------------------------------- \n",
      "\n",
      "Epoch | BckBone LR   Heads LR  Policy LR Gumbl Temp |  trn loss     trn spar     trn shar   trn ttl |   bceloss  avg prec    aucroc     aucpr |  val loss     val spar     val shar    val ttl |  time |        \n",
      "    1 |   1.00e-03   1.00e-03   1.00e-03  4.000e+00 |   10.1425   4.1613e-02   2.4333e-05   10.1842 |   0.68561   0.60389   0.61122   0.60352 |   10.2845   4.1613e-02   2.4333e-05    10.3261 |   6.3 |\n",
      "    2 |   1.00e-03   1.00e-03   1.00e-03  4.000e+00 |   10.0566   4.1613e-02   2.4333e-05   10.0982 |   0.67498   0.64562   0.65180   0.64531 |   10.1235   4.1613e-02   2.4333e-05    10.1651 |   6.6 |        \n",
      "    3 |   1.00e-03   1.00e-03   1.00e-03  4.000e+00 |    9.2676   4.1613e-02   2.4333e-05    9.3093 |   0.66373   0.66811   0.67226   0.66786 |    9.9536   4.1613e-02   2.4333e-05     9.9953 |   7.0 |        \n",
      "    4 |   1.00e-03   1.00e-03   1.00e-03  4.000e+00 |    9.2065   4.1613e-02   2.4333e-05    9.2482 |   0.65208   0.68313   0.68580   0.68290 |    9.7808   4.1613e-02   2.4333e-05     9.8225 |   6.6 |        \n",
      "    5 |   1.00e-03   1.00e-03   1.00e-03  4.000e+00 |    8.9320   4.1613e-02   2.4333e-05    8.9737 |   0.64204   0.69503   0.69777   0.69481 |    9.6293   4.1613e-02   2.4333e-05     9.6709 |   6.2 |        \n",
      "    6 |   1.00e-03   1.00e-03   1.00e-03  4.000e+00 |    8.5337   4.1613e-02   2.4333e-05    8.5753 |   0.63324   0.70530   0.70809   0.70510 |    9.4999   4.1613e-02   2.4333e-05     9.5415 |   5.9 |        \n",
      "    7 |   1.00e-03   1.00e-03   1.00e-03  4.000e+00 |    8.5252   4.1613e-02   2.4333e-05    8.5669 |   0.62513   0.71364   0.71693   0.71346 |    9.3719   4.1613e-02   2.4333e-05     9.4135 |   6.6 |        \n",
      "    8 |   1.00e-03   1.00e-03   1.00e-03  4.000e+00 |    8.8576   4.1613e-02   2.4333e-05    8.8993 |   0.61697   0.72107   0.72491   0.72089 |    9.2526   4.1613e-02   2.4333e-05     9.2942 |   6.9 |        \n",
      "    9 |   1.00e-03   1.00e-03   1.00e-03  4.000e+00 |    8.1750   4.1613e-02   2.4333e-05    8.2166 |   0.61034   0.72761   0.73149   0.72744 |    9.1581   4.1613e-02   2.4333e-05     9.1997 |   6.2 |        \n",
      "   10 |   1.00e-03   1.00e-03   1.00e-03  4.000e+00 |    8.4420   4.1613e-02   2.4333e-05    8.4836 |   0.60495   0.73420   0.73750   0.73406 |    9.0729   4.1613e-02   2.4333e-05     9.1145 |   6.1 |        \n",
      "   11 |   1.00e-03   1.00e-03   1.00e-03  4.000e+00 |    8.3815   4.1613e-02   2.4333e-05    8.4232 |   0.59874   0.74028   0.74380   0.74013 |    8.9805   4.1613e-02   2.4333e-05     9.0221 |   5.8 |        \n",
      "   12 |   1.00e-03   1.00e-03   1.00e-03  4.000e+00 |    8.1835   4.1613e-02   2.4333e-05    8.2252 |   0.59517   0.74547   0.74851   0.74532 |    8.9326   4.1613e-02   2.4333e-05     8.9742 |   6.0 |        \n",
      "   13 |   1.00e-03   1.00e-03   1.00e-03  4.000e+00 |    7.4760   4.1613e-02   2.4333e-05    7.5176 |   0.58978   0.75068   0.75364   0.75054 |    8.8419   4.1613e-02   2.4333e-05     8.8835 |   5.9 |        \n",
      "   14 |   1.00e-03   1.00e-03   1.00e-03  4.000e+00 |    7.3334   4.1613e-02   2.4333e-05    7.3750 |   0.58738   0.75535   0.75805   0.75522 |    8.8061   4.1613e-02   2.4333e-05     8.8478 |   5.9 |        \n",
      "   15 |   1.00e-03   1.00e-03   1.00e-03  4.000e+00 |    7.4014   4.1613e-02   2.4333e-05    7.4431 |   0.57974   0.76036   0.76294   0.76024 |    8.7018   4.1613e-02   2.4333e-05     8.7434 |   6.4 |        \n",
      "   16 |   1.00e-03   1.00e-03   1.00e-03  4.000e+00 |    7.0064   4.1613e-02   2.4333e-05    7.0480 |   0.57729   0.76373   0.76607   0.76361 |    8.6562   4.1613e-02   2.4333e-05     8.6979 |   6.0 |        \n",
      "   17 |   1.00e-03   1.00e-03   1.00e-03  4.000e+00 |    6.9503   4.1613e-02   2.4333e-05    6.9919 |   0.57219   0.76830   0.77073   0.76817 |    8.5754   4.1613e-02   2.4333e-05     8.6171 |   6.3 |        \n",
      "   18 |   1.00e-03   1.00e-03   1.00e-03  4.000e+00 |    7.1854   4.1613e-02   2.4333e-05    7.2270 |   0.57063   0.77166   0.77354   0.77154 |    8.5521   4.1613e-02   2.4333e-05     8.5937 |   5.9 |        \n",
      "   19 |   1.00e-03   1.00e-03   1.00e-03  4.000e+00 |    6.4968   4.1613e-02   2.4333e-05    6.5385 |   0.56682   0.77501   0.77696   0.77489 |    8.5108   4.1613e-02   2.4333e-05     8.5524 |   6.7 |        \n",
      "   20 |   1.00e-03   1.00e-03   1.00e-03  4.000e+00 |    5.7172   4.1613e-02   2.4333e-05    5.7588 |   0.56369   0.77757   0.77926   0.77745 |    8.4496   4.1613e-02   2.4333e-05     8.4912 |   6.4 |        \n",
      "   21 |   1.00e-03   1.00e-03   1.00e-03  4.000e+00 |    6.4278   4.1613e-02   2.4333e-05    6.4695 |   0.56075   0.78124   0.78297   0.78112 |    8.4142   4.1613e-02   2.4333e-05     8.4558 |   6.0 |        \n",
      "   22 |   1.00e-03   1.00e-03   1.00e-03  4.000e+00 |    5.6750   4.1613e-02   2.4333e-05    5.7167 |   0.55842   0.78352   0.78530   0.78340 |    8.3898   4.1613e-02   2.4333e-05     8.4314 |   6.5 |        \n",
      "   23 |   1.00e-03   1.00e-03   1.00e-03  4.000e+00 |    5.6773   4.1613e-02   2.4333e-05    5.7189 |   0.55612   0.78571   0.78778   0.78560 |    8.3474   4.1613e-02   2.4333e-05     8.3890 |   6.3 |        \n",
      "   24 |   1.00e-03   1.00e-03   1.00e-03  4.000e+00 |    6.2864   4.1613e-02   2.4333e-05    6.3280 |   0.55285   0.78849   0.79020   0.78838 |    8.2963   4.1613e-02   2.4333e-05     8.3379 |   6.2 |        \n",
      "   25 |   1.00e-03   1.00e-03   1.00e-03  4.000e+00 |    6.8208   4.1613e-02   2.4333e-05    6.8624 |   0.55292   0.79029   0.79160   0.79018 |    8.2970   4.1613e-02   2.4333e-05     8.3386 |   6.4 |        \n",
      "Epoch | BckBone LR   Heads LR  Policy LR Gumbl Temp |  trn loss     trn spar     trn shar   trn ttl |   bceloss  avg prec    aucroc     aucpr |  val loss     val spar     val shar    val ttl |  time |        \n",
      "   26 |   1.00e-03   1.00e-03   1.00e-03  4.000e+00 |    5.9245   4.1613e-02   2.4333e-05    5.9661 |   0.54668   0.79314   0.79472   0.79303 |    8.2144   4.1613e-02   2.4333e-05     8.2560 |   6.3 |\n",
      "   27 |   1.00e-03   1.00e-03   1.00e-03  4.000e+00 |    5.8836   4.1613e-02   2.4333e-05    5.9253 |   0.54740   0.79496   0.79609   0.79485 |    8.2139   4.1613e-02   2.4333e-05     8.2555 |   6.2 |        \n",
      "   28 |   1.00e-03   1.00e-03   1.00e-03  4.000e+00 |    6.0725   4.1613e-02   2.4333e-05    6.1142 |   0.54521   0.79730   0.79810   0.79720 |    8.1700   4.1613e-02   2.4333e-05     8.2117 |   6.6 |        \n",
      "   29 |   1.00e-03   1.00e-03   1.00e-03  4.000e+00 |    6.0081   4.1613e-02   2.4333e-05    6.0498 |   0.54309   0.79908   0.80026   0.79897 |    8.1420   4.1613e-02   2.4333e-05     8.1836 |   6.2 |        \n",
      "   30 |   1.00e-03   1.00e-03   1.00e-03  4.000e+00 |    5.6781   4.1613e-02   2.4333e-05    5.7197 |   0.54294   0.80000   0.80088   0.79989 |    8.1380   4.1613e-02   2.4333e-05     8.1796 |   6.1 |        \n",
      "   31 |   1.00e-03   1.00e-03   1.00e-03  4.000e+00 |    5.6706   4.1613e-02   2.4333e-05    5.7122 |   0.54067   0.80213   0.80274   0.80202 |    8.1162   4.1613e-02   2.4333e-05     8.1578 |   6.1 |        \n",
      "   32 |   1.00e-03   1.00e-03   1.00e-03  4.000e+00 |    5.7026   4.1613e-02   2.4333e-05    5.7442 |   0.54337   0.80277   0.80364   0.80266 |    8.1579   4.1613e-02   2.4333e-05     8.1995 |   6.2 |        \n",
      "   33 |   1.00e-03   1.00e-03   1.00e-03  4.000e+00 |    5.4238   4.1613e-02   2.4333e-05    5.4654 |   0.53759   0.80514   0.80557   0.80504 |    8.0690   4.1613e-02   2.4333e-05     8.1107 |   6.6 |        \n",
      "   34 |   1.00e-03   1.00e-03   1.00e-03  4.000e+00 |    5.0268   4.1613e-02   2.4333e-05    5.0684 |   0.53675   0.80639   0.80675   0.80629 |    8.0622   4.1613e-02   2.4333e-05     8.1038 |   6.5 |        \n",
      "   35 |   1.00e-03   1.00e-03   1.00e-03  4.000e+00 |    5.9222   4.1613e-02   2.4333e-05    5.9638 |   0.53755   0.80693   0.80726   0.80683 |    8.0749   4.1613e-02   2.4333e-05     8.1165 |   7.1 |        \n",
      "   36 |   1.00e-03   1.00e-03   1.00e-03  4.000e+00 |    5.0347   4.1613e-02   2.4333e-05    5.0763 |   0.53511   0.80814   0.80844   0.80805 |    8.0240   4.1613e-02   2.4333e-05     8.0656 |   6.3 |        \n"
     ]
    },
    {
     "name": "stdout",
     "output_type": "stream",
     "text": [
      "   37 |   1.00e-03   1.00e-03   1.00e-03  4.000e+00 |    5.0819   4.1613e-02   2.4333e-05    5.1235 |   0.53526   0.80934   0.80970   0.80925 |    8.0293   4.1613e-02   2.4333e-05     8.0709 |   6.6 |        \n",
      "   38 |   1.00e-03   1.00e-03   1.00e-03  4.000e+00 |    4.6627   4.1613e-02   2.4333e-05    4.7044 |   0.53364   0.81050   0.81073   0.81040 |    8.0020   4.1613e-02   2.4333e-05     8.0437 |   9.0 |        \n",
      "   39 |   1.00e-03   1.00e-03   1.00e-03  4.000e+00 |    5.2136   4.1613e-02   2.4333e-05    5.2552 |   0.53430   0.81068   0.81081   0.81058 |    8.0221   4.1613e-02   2.4333e-05     8.0637 |   8.1 |        \n",
      "   40 |   1.00e-03   1.00e-03   1.00e-03  4.000e+00 |    5.1368   4.1613e-02   2.4333e-05    5.1784 |   0.53350   0.81137   0.81148   0.81127 |    8.0012   4.1613e-02   2.4333e-05     8.0429 |   6.8 |        \n",
      "   41 |   1.00e-03   1.00e-03   1.00e-03  4.000e+00 |    4.5359   4.1613e-02   2.4333e-05    4.5775 |   0.53600   0.81200   0.81182   0.81191 |    8.0420   4.1613e-02   2.4333e-05     8.0836 |   6.2 |        \n",
      "   42 |   1.00e-03   1.00e-03   1.00e-03  4.000e+00 |    4.4599   4.1613e-02   2.4333e-05    4.5015 |   0.53167   0.81384   0.81380   0.81374 |    7.9852   4.1613e-02   2.4333e-05     8.0268 |   6.2 |        \n",
      "   43 |   1.00e-03   1.00e-03   1.00e-03  4.000e+00 |    4.3326   4.1613e-02   2.4333e-05    4.3742 |   0.53299   0.81420   0.81431   0.81411 |    7.9961   4.1613e-02   2.4333e-05     8.0377 |   5.8 |        \n",
      "   44 |   1.00e-03   1.00e-03   1.00e-03  4.000e+00 |    4.2822   4.1613e-02   2.4333e-05    4.3238 |   0.53417   0.81458   0.81468   0.81448 |    8.0087   4.1613e-02   2.4333e-05     8.0504 |   6.2 |        \n",
      "   45 |   1.00e-03   1.00e-03   1.00e-03  4.000e+00 |    4.3828   4.1613e-02   2.4333e-05    4.4245 |   0.53549   0.81541   0.81496   0.81531 |    8.0262   4.1613e-02   2.4333e-05     8.0678 |   5.9 |        \n",
      "   46 |   1.00e-03   1.00e-03   1.00e-03  4.000e+00 |    4.4749   4.1613e-02   2.4333e-05    4.5165 |   0.53560   0.81614   0.81591   0.81604 |    8.0235   4.1613e-02   2.4333e-05     8.0652 |   6.1 |        \n",
      "   47 |   1.00e-03   1.00e-03   1.00e-03  4.000e+00 |    4.8215   4.1613e-02   2.4333e-05    4.8632 |   0.53315   0.81683   0.81645   0.81673 |    7.9976   4.1613e-02   2.4333e-05     8.0393 |   6.9 |        \n",
      "   48 |   1.00e-03   1.00e-03   1.00e-03  4.000e+00 |    4.5775   4.1613e-02   2.4333e-05    4.6192 |   0.53183   0.81737   0.81702   0.81727 |    7.9797   4.1613e-02   2.4333e-05     8.0213 |   6.9 |        \n",
      "   49 |   1.00e-03   1.00e-03   1.00e-03  4.000e+00 |    4.9791   4.1613e-02   2.4333e-05    5.0207 |   0.53603   0.81807   0.81730   0.81797 |    8.0370   4.1613e-02   2.4333e-05     8.0786 |   6.4 |        \n",
      "   50 |   1.00e-03   1.00e-03   1.00e-03  4.000e+00 |    4.6252   4.1613e-02   2.4333e-05    4.6669 |   0.53254   0.81907   0.81853   0.81897 |    7.9827   4.1613e-02   2.4333e-05     8.0243 |   6.0 |        \n",
      "Epoch | BckBone LR   Heads LR  Policy LR Gumbl Temp |  trn loss     trn spar     trn shar   trn ttl |   bceloss  avg prec    aucroc     aucpr |  val loss     val spar     val shar    val ttl |  time |        \n",
      "   51 |   1.00e-03   1.00e-03   1.00e-03  4.000e+00 |    3.4968   4.1613e-02   2.4333e-05    3.5384 |   0.53685   0.81941   0.81856   0.81931 |    8.0750   4.1613e-02   2.4333e-05     8.1166 |   6.0 |\n",
      "   52 |   1.00e-03   1.00e-03   1.00e-03  4.000e+00 |    3.9174   4.1613e-02   2.4333e-05    3.9590 |   0.53401   0.82031   0.81959   0.82021 |    8.0113   4.1613e-02   2.4333e-05     8.0529 |   6.1 |        \n",
      "   53 |   1.00e-03   1.00e-03   1.00e-03  4.000e+00 |    3.8080   4.1613e-02   2.4333e-05    3.8497 |   0.53094   0.82107   0.82019   0.82097 |    7.9748   4.1613e-02   2.4333e-05     8.0164 |   6.1 |        \n",
      "   54 |   1.00e-03   1.00e-03   1.00e-03  4.000e+00 |    4.0177   4.1613e-02   2.4333e-05    4.0593 |   0.53454   0.82088   0.81985   0.82078 |    8.0155   4.1613e-02   2.4333e-05     8.0572 |   6.3 |        \n",
      "   55 |   1.00e-03   1.00e-03   1.00e-03  4.000e+00 |    4.1710   4.1613e-02   2.4333e-05    4.2126 |   0.53630   0.82088   0.82016   0.82078 |    8.0606   4.1613e-02   2.4333e-05     8.1022 |   6.0 |        \n",
      "   56 |   1.00e-03   1.00e-03   1.00e-03  4.000e+00 |    3.8992   4.1613e-02   2.4333e-05    3.9408 |   0.53666   0.82157   0.82064   0.82147 |    8.0380   4.1613e-02   2.4333e-05     8.0796 |   6.3 |        \n",
      "   57 |   1.00e-03   1.00e-03   1.00e-03  4.000e+00 |    3.8666   4.1613e-02   2.4333e-05    3.9083 |   0.53630   0.82203   0.82086   0.82194 |    8.0627   4.1613e-02   2.4333e-05     8.1044 |   5.9 |        \n",
      "   58 |   1.00e-03   1.00e-03   1.00e-03  4.000e+00 |    3.5597   4.1613e-02   2.4333e-05    3.6013 |   0.53959   0.82206   0.82098   0.82197 |    8.0942   4.1613e-02   2.4333e-05     8.1358 |   6.0 |        \n",
      "   59 |   1.00e-03   1.00e-03   1.00e-03  4.000e+00 |    3.3540   4.1613e-02   2.4333e-05    3.3957 |   0.53500   0.82257   0.82153   0.82247 |    8.0265   4.1613e-02   2.4333e-05     8.0681 |   6.8 |        \n",
      "   60 |   1.00e-03   1.00e-03   1.00e-03  4.000e+00 |    3.4127   4.1613e-02   2.4333e-05    3.4543 |   0.54086   0.82296   0.82178   0.82286 |    8.1147   4.1613e-02   2.4333e-05     8.1563 |   5.7 |        \n",
      "   61 |   1.00e-03   1.00e-03   1.00e-03  4.000e+00 |    3.8414   4.1613e-02   2.4333e-05    3.8830 |   0.54152   0.82228   0.82130   0.82218 |    8.1290   4.1613e-02   2.4333e-05     8.1706 |   5.9 |        \n",
      "   62 |   1.00e-03   1.00e-03   1.00e-03  4.000e+00 |    3.6083   4.1613e-02   2.4333e-05    3.6499 |   0.54232   0.82348   0.82251   0.82338 |    8.1464   4.1613e-02   2.4333e-05     8.1880 |   6.0 |        \n",
      "   63 |   1.00e-03   1.00e-03   1.00e-03  4.000e+00 |    3.3676   4.1613e-02   2.4333e-05    3.4092 |   0.54376   0.82371   0.82252   0.82361 |    8.1455   4.1613e-02   2.4333e-05     8.1872 |   7.0 |        \n",
      "   64 |   1.00e-03   1.00e-03   1.00e-03  4.000e+00 |    3.1363   4.1613e-02   2.4333e-05    3.1780 |   0.54211   0.82422   0.82264   0.82413 |    8.1318   4.1613e-02   2.4333e-05     8.1735 |   6.4 |        \n",
      "   65 |   1.00e-03   1.00e-03   1.00e-03  4.000e+00 |    3.5873   4.1613e-02   2.4333e-05    3.6289 |   0.54481   0.82355   0.82243   0.82346 |    8.1734   4.1613e-02   2.4333e-05     8.2150 |   7.1 |        \n",
      "   66 |   1.00e-03   1.00e-03   1.00e-03  4.000e+00 |    3.4523   4.1613e-02   2.4333e-05    3.4939 |   0.54494   0.82406   0.82267   0.82396 |    8.1917   4.1613e-02   2.4333e-05     8.2333 |   6.3 |        \n",
      "   67 |   1.00e-03   1.00e-03   1.00e-03  4.000e+00 |    3.6141   4.1613e-02   2.4333e-05    3.6558 |   0.54379   0.82406   0.82280   0.82396 |    8.1507   4.1613e-02   2.4333e-05     8.1924 |   6.0 |        \n",
      "   68 |   1.00e-03   1.00e-03   1.00e-03  4.000e+00 |    3.4219   4.1613e-02   2.4333e-05    3.4635 |   0.54495   0.82506   0.82362   0.82496 |    8.1643   4.1613e-02   2.4333e-05     8.2059 |   6.1 |        \n",
      "   69 |   1.00e-03   1.00e-03   1.00e-03  4.000e+00 |    3.1028   4.1613e-02   2.4333e-05    3.1445 |   0.55166   0.82495   0.82344   0.82485 |    8.2787   4.1613e-02   2.4333e-05     8.3203 |   6.0 |        \n",
      "   70 |   1.00e-03   1.00e-03   1.00e-03  4.000e+00 |    3.2854   4.1613e-02   2.4333e-05    3.3270 |   0.54992   0.82546   0.82403   0.82537 |    8.2314   4.1613e-02   2.4333e-05     8.2730 |   6.3 |        \n",
      "   71 |   1.00e-03   1.00e-03   1.00e-03  4.000e+00 |    3.4367   4.1613e-02   2.4333e-05    3.4783 |   0.55070   0.82555   0.82385   0.82546 |    8.2416   4.1613e-02   2.4333e-05     8.2833 |   6.0 |        \n",
      "   72 |   1.00e-03   1.00e-03   1.00e-03  4.000e+00 |    3.3285   4.1613e-02   2.4333e-05    3.3701 |   0.55126   0.82602   0.82462   0.82593 |    8.2295   4.1613e-02   2.4333e-05     8.2711 |   6.2 |        \n",
      "   73 |   1.00e-03   1.00e-03   1.00e-03  4.000e+00 |    3.4393   4.1613e-02   2.4333e-05    3.4809 |   0.55200   0.82569   0.82442   0.82559 |    8.2819   4.1613e-02   2.4333e-05     8.3236 |   5.9 |        \n",
      "   74 |   1.00e-03   1.00e-03   1.00e-03  4.000e+00 |    3.5410   4.1613e-02   2.4333e-05    3.5826 |   0.55287   0.82633   0.82475   0.82623 |    8.2820   4.1613e-02   2.4333e-05     8.3236 |   6.3 |        \n"
     ]
    },
    {
     "name": "stdout",
     "output_type": "stream",
     "text": [
      "   75 |   1.00e-03   1.00e-03   1.00e-03  4.000e+00 |    2.9417   4.1613e-02   2.4333e-05    2.9833 |   0.55648   0.82589   0.82455   0.82580 |    8.3358   4.1613e-02   2.4333e-05     8.3774 |   5.7 |        \n",
      "Epoch | BckBone LR   Heads LR  Policy LR Gumbl Temp |  trn loss     trn spar     trn shar   trn ttl |   bceloss  avg prec    aucroc     aucpr |  val loss     val spar     val shar    val ttl |  time |        \n",
      "   76 |   1.00e-03   1.00e-03   1.00e-03  4.000e+00 |    3.0029   4.1613e-02   2.4333e-05    3.0445 |   0.55692   0.82669   0.82544   0.82660 |    8.3646   4.1613e-02   2.4333e-05     8.4062 |   5.9 |\n",
      "   77 |   1.00e-03   1.00e-03   1.00e-03  4.000e+00 |    3.3041   4.1613e-02   2.4333e-05    3.3457 |   0.55615   0.82667   0.82545   0.82658 |    8.3426   4.1613e-02   2.4333e-05     8.3842 |   6.0 |        \n",
      "   78 |   1.00e-03   1.00e-03   1.00e-03  4.000e+00 |    3.4442   4.1613e-02   2.4333e-05    3.4858 |   0.55725   0.82721   0.82572   0.82712 |    8.3804   4.1613e-02   2.4333e-05     8.4221 |   6.9 |        \n",
      "   79 |   1.00e-03   1.00e-03   1.00e-03  4.000e+00 |    2.9255   4.1613e-02   2.4333e-05    2.9671 |   0.55770   0.82759   0.82557   0.82750 |    8.3893   4.1613e-02   2.4333e-05     8.4310 |   6.7 |        \n",
      "   80 |   1.00e-03   1.00e-03   1.00e-03  4.000e+00 |    3.4386   4.1613e-02   2.4333e-05    3.4802 |   0.55804   0.82763   0.82615   0.82753 |    8.3790   4.1613e-02   2.4333e-05     8.4207 |   6.1 |        \n",
      "   81 |   1.00e-03   1.00e-03   1.00e-03  4.000e+00 |    2.5017   4.1613e-02   2.4333e-05    2.5433 |   0.56522   0.82781   0.82583   0.82772 |    8.4907   4.1613e-02   2.4333e-05     8.5324 |   6.2 |        \n",
      "   82 |   1.00e-03   1.00e-03   1.00e-03  4.000e+00 |    2.6281   4.1613e-02   2.4333e-05    2.6698 |   0.56723   0.82773   0.82603   0.82764 |    8.4936   4.1613e-02   2.4333e-05     8.5352 |   6.2 |        \n",
      "   83 |   1.00e-03   1.00e-03   1.00e-03  4.000e+00 |    2.8696   4.1613e-02   2.4333e-05    2.9112 |   0.56341   0.82746   0.82591   0.82737 |    8.4415   4.1613e-02   2.4333e-05     8.4832 |   5.9 |        \n",
      "   84 |   1.00e-03   1.00e-03   1.00e-03  4.000e+00 |    2.9922   4.1613e-02   2.4333e-05    3.0338 |   0.56928   0.82747   0.82587   0.82738 |    8.5318   4.1613e-02   2.4333e-05     8.5734 |   6.0 |        \n",
      "   85 |   1.00e-03   1.00e-03   1.00e-03  4.000e+00 |    3.0433   4.1613e-02   2.4333e-05    3.0849 |   0.57079   0.82732   0.82585   0.82723 |    8.5645   4.1613e-02   2.4333e-05     8.6062 |   5.9 |        \n",
      "   86 |   1.00e-03   1.00e-03   1.00e-03  4.000e+00 |    2.4507   4.1613e-02   2.4333e-05    2.4924 |   0.57016   0.82828   0.82648   0.82819 |    8.5465   4.1613e-02   2.4333e-05     8.5882 |   6.6 |        \n",
      "   87 |   1.00e-03   1.00e-03   1.00e-03  4.000e+00 |    2.2679   4.1613e-02   2.4333e-05    2.3095 |   0.57393   0.82722   0.82571   0.82712 |    8.6023   4.1613e-02   2.4333e-05     8.6439 |   5.8 |        \n",
      "   88 |   1.00e-03   1.00e-03   1.00e-03  4.000e+00 |    2.3482   4.1613e-02   2.4333e-05    2.3899 |   0.57519   0.82698   0.82552   0.82689 |    8.6145   4.1613e-02   2.4333e-05     8.6561 |   5.9 |        \n",
      "   89 |   1.00e-03   1.00e-03   1.00e-03  4.000e+00 |    3.4561   4.1613e-02   2.4333e-05    3.4977 |   0.57845   0.82752   0.82581   0.82742 |    8.6933   4.1613e-02   2.4333e-05     8.7350 |   6.0 |        \n",
      "   90 |   1.00e-03   1.00e-03   1.00e-03  4.000e+00 |    2.5489   4.1613e-02   2.4333e-05    2.5905 |   0.58006   0.82711   0.82551   0.82701 |    8.6885   4.1613e-02   2.4333e-05     8.7302 |   5.9 |        \n",
      "   91 |   1.00e-03   1.00e-03   1.00e-03  4.000e+00 |    3.0412   4.1613e-02   2.4333e-05    3.0828 |   0.57404   0.82807   0.82638   0.82798 |    8.6420   4.1613e-02   2.4333e-05     8.6836 |   6.0 |        \n",
      "   92 |   1.00e-03   1.00e-03   1.00e-03  4.000e+00 |    2.8270   4.1613e-02   2.4333e-05    2.8686 |   0.58183   0.82762   0.82541   0.82752 |    8.7344   4.1613e-02   2.4333e-05     8.7760 |   6.4 |        \n",
      "   93 |   1.00e-03   1.00e-03   1.00e-03  4.000e+00 |    2.7149   4.1613e-02   2.4333e-05    2.7565 |   0.57839   0.82810   0.82643   0.82801 |    8.6840   4.1613e-02   2.4333e-05     8.7256 |   6.9 |        \n",
      "   94 |   1.00e-03   1.00e-03   1.00e-03  4.000e+00 |    2.7775   4.1613e-02   2.4333e-05    2.8191 |   0.58367   0.82776   0.82599   0.82766 |    8.7532   4.1613e-02   2.4333e-05     8.7949 |   6.6 |        \n",
      "Epoch    94: reducing learning rate of group 0 to 7.5000e-04.\n",
      "Epoch    94: reducing learning rate of group 1 to 7.5000e-04.\n",
      "   95 |   7.50e-04   7.50e-04   1.00e-03  4.000e+00 |    2.8878   4.1613e-02   2.4333e-05    2.9295 |   0.58169   0.82847   0.82653   0.82838 |    8.7285   4.1613e-02   2.4333e-05     8.7702 |   6.0 |        \n",
      "   96 |   7.50e-04   7.50e-04   1.00e-03  4.000e+00 |    2.6046   4.1613e-02   2.4333e-05    2.6462 |   0.58713   0.82805   0.82625   0.82795 |    8.8050   4.1613e-02   2.4333e-05     8.8467 |   5.9 |        \n",
      "   97 |   7.50e-04   7.50e-04   1.00e-03  4.000e+00 |    2.7119   4.1613e-02   2.4333e-05    2.7536 |   0.58713   0.82813   0.82629   0.82804 |    8.8036   4.1613e-02   2.4333e-05     8.8452 |   6.0 |        \n",
      "   98 |   7.50e-04   7.50e-04   1.00e-03  4.000e+00 |    2.6692   4.1613e-02   2.4333e-05    2.7108 |   0.58431   0.82820   0.82636   0.82811 |    8.7566   4.1613e-02   2.4333e-05     8.7983 |   6.3 |        \n",
      "   99 |   7.50e-04   7.50e-04   1.00e-03  4.000e+00 |    2.3224   4.1613e-02   2.4333e-05    2.3641 |   0.58661   0.82890   0.82691   0.82881 |    8.7854   4.1613e-02   2.4333e-05     8.8270 |   5.9 |        \n",
      "  100 |   7.50e-04   7.50e-04   1.00e-03  4.000e+00 |    2.1650   4.1613e-02   2.4333e-05    2.2067 |   0.58901   0.82865   0.82675   0.82855 |    8.8208   4.1613e-02   2.4333e-05     8.8624 |   6.3 |        \n",
      "Epoch | BckBone LR   Heads LR  Policy LR Gumbl Temp |  trn loss     trn spar     trn shar   trn ttl |   bceloss  avg prec    aucroc     aucpr |  val loss     val spar     val shar    val ttl |  time |        \n",
      "  101 |   7.50e-04   7.50e-04   1.00e-03  4.000e+00 |    2.6148   4.1613e-02   2.4333e-05    2.6564 |   0.58846   0.82813   0.82632   0.82804 |    8.8190   4.1613e-02   2.4333e-05     8.8606 |   6.2 |\n",
      "  102 |   7.50e-04   7.50e-04   1.00e-03  4.000e+00 |    2.5038   4.1613e-02   2.4333e-05    2.5455 |   0.59201   0.82799   0.82619   0.82790 |    8.8800   4.1613e-02   2.4333e-05     8.9216 |   7.7 |        \n",
      "  103 |   7.50e-04   7.50e-04   1.00e-03  4.000e+00 |    2.0488   4.1613e-02   2.4333e-05    2.0905 |   0.59512   0.82833   0.82653   0.82824 |    8.9318   4.1613e-02   2.4333e-05     8.9735 |   7.5 |        \n",
      "  104 |   7.50e-04   7.50e-04   1.00e-03  4.000e+00 |    2.4018   4.1613e-02   2.4333e-05    2.4434 |   0.59566   0.82855   0.82668   0.82846 |    8.9203   4.1613e-02   2.4333e-05     8.9620 |   9.5 |        \n",
      "Epoch   104: reducing learning rate of group 0 to 7.5000e-04.\n",
      "  105 |   7.50e-04   7.50e-04   7.50e-04  4.000e+00 |    2.3757   4.1613e-02   2.4333e-05    2.4173 |   0.59326   0.82869   0.82687   0.82860 |    8.8903   4.1613e-02   2.4333e-05     8.9320 |   8.7 |        \n",
      "  106 |   7.50e-04   7.50e-04   7.50e-04  4.000e+00 |    2.6076   4.1613e-02   2.4333e-05    2.6492 |   0.59359   0.82895   0.82693   0.82886 |    8.9148   4.1613e-02   2.4333e-05     8.9565 |   6.4 |        \n",
      "  107 |   7.50e-04   7.50e-04   7.50e-04  4.000e+00 |    2.1105   4.1613e-02   2.4333e-05    2.1521 |   0.59887   0.82850   0.82678   0.82841 |    8.9869   4.1613e-02   2.4333e-05     9.0286 |   6.9 |        \n",
      "  108 |   7.50e-04   7.50e-04   7.50e-04  4.000e+00 |    2.5801   4.1613e-02   2.4333e-05    2.6218 |   0.59734   0.82872   0.82697   0.82862 |    8.9474   4.1613e-02   2.4333e-05     8.9891 |   6.2 |        \n",
      "  109 |   7.50e-04   7.50e-04   7.50e-04  4.000e+00 |    2.6052   4.1613e-02   2.4333e-05    2.6468 |   0.59986   0.82854   0.82670   0.82845 |    9.0184   4.1613e-02   2.4333e-05     9.0600 |   6.1 |        \n",
      "  110 |   7.50e-04   7.50e-04   7.50e-04  4.000e+00 |    2.4627   4.1613e-02   2.4333e-05    2.5044 |   0.60112   0.82832   0.82670   0.82823 |    9.0016   4.1613e-02   2.4333e-05     9.0432 |   6.9 |        \n"
     ]
    },
    {
     "name": "stdout",
     "output_type": "stream",
     "text": [
      "  111 |   7.50e-04   7.50e-04   7.50e-04  4.000e+00 |    2.1540   4.1613e-02   2.4333e-05    2.1957 |   0.60397   0.82883   0.82693   0.82874 |    9.0412   4.1613e-02   2.4333e-05     9.0828 |   8.3 |        \n",
      "  112 |   7.50e-04   7.50e-04   7.50e-04  4.000e+00 |    2.4906   4.1613e-02   2.4333e-05    2.5323 |   0.60348   0.82857   0.82688   0.82847 |    9.0387   4.1613e-02   2.4333e-05     9.0803 |   6.6 |        \n",
      "  113 |   7.50e-04   7.50e-04   7.50e-04  4.000e+00 |    2.3474   4.1613e-02   2.4333e-05    2.3890 |   0.60128   0.82920   0.82717   0.82911 |    9.0156   4.1613e-02   2.4333e-05     9.0572 |   6.0 |        \n",
      "  114 |   7.50e-04   7.50e-04   7.50e-04  4.000e+00 |    2.3614   4.1613e-02   2.4333e-05    2.4031 |   0.60630   0.82896   0.82685   0.82887 |    9.0820   4.1613e-02   2.4333e-05     9.1236 |   6.2 |        \n",
      "  115 |   7.50e-04   7.50e-04   7.50e-04  4.000e+00 |    2.4177   4.1613e-02   2.4333e-05    2.4594 |   0.60776   0.82877   0.82668   0.82868 |    9.1196   4.1613e-02   2.4333e-05     9.1613 |   6.0 |        \n",
      "  116 |   7.50e-04   7.50e-04   7.50e-04  4.000e+00 |    2.3792   4.1613e-02   2.4333e-05    2.4208 |   0.60666   0.82879   0.82702   0.82870 |    9.1060   4.1613e-02   2.4333e-05     9.1476 |   6.0 |        \n",
      "  117 |   7.50e-04   7.50e-04   7.50e-04  4.000e+00 |    2.4684   4.1613e-02   2.4333e-05    2.5100 |   0.61070   0.82899   0.82703   0.82890 |    9.1706   4.1613e-02   2.4333e-05     9.2123 |   6.2 |        \n",
      "  118 |   7.50e-04   7.50e-04   7.50e-04  4.000e+00 |    2.3160   4.1613e-02   2.4333e-05    2.3577 |   0.61367   0.82887   0.82701   0.82878 |    9.2056   4.1613e-02   2.4333e-05     9.2473 |   6.0 |        \n",
      "  119 |   7.50e-04   7.50e-04   7.50e-04  4.000e+00 |    2.3274   4.1613e-02   2.4333e-05    2.3691 |   0.61548   0.82888   0.82680   0.82879 |    9.2278   4.1613e-02   2.4333e-05     9.2694 |   6.1 |        \n",
      "  120 |   7.50e-04   7.50e-04   7.50e-04  4.000e+00 |    2.0618   4.1613e-02   2.4333e-05    2.1034 |   0.61804   0.82845   0.82646   0.82836 |    9.2800   4.1613e-02   2.4333e-05     9.3216 |   5.8 |        \n",
      "  121 |   7.50e-04   7.50e-04   7.50e-04  4.000e+00 |    2.6241   4.1613e-02   2.4333e-05    2.6657 |   0.61959   0.82846   0.82641   0.82837 |    9.3105   4.1613e-02   2.4333e-05     9.3522 |   5.9 |        \n",
      "  122 |   7.50e-04   7.50e-04   7.50e-04  4.000e+00 |    2.1011   4.1613e-02   2.4333e-05    2.1427 |   0.61836   0.82898   0.82698   0.82889 |    9.2457   4.1613e-02   2.4333e-05     9.2873 |   5.9 |        \n",
      "  123 |   7.50e-04   7.50e-04   7.50e-04  4.000e+00 |    2.1743   4.1613e-02   2.4333e-05    2.2160 |   0.61702   0.82932   0.82730   0.82923 |    9.2758   4.1613e-02   2.4333e-05     9.3175 |   5.7 |        \n",
      "  124 |   7.50e-04   7.50e-04   7.50e-04  4.000e+00 |    1.9015   4.1613e-02   2.4333e-05    1.9431 |   0.61906   0.82897   0.82693   0.82888 |    9.3121   4.1613e-02   2.4333e-05     9.3538 |   6.0 |        \n",
      "  125 |   7.50e-04   7.50e-04   7.50e-04  4.000e+00 |    2.3185   4.1613e-02   2.4333e-05    2.3601 |   0.61909   0.82912   0.82720   0.82903 |    9.2754   4.1613e-02   2.4333e-05     9.3171 |   6.1 |        \n",
      "Epoch | BckBone LR   Heads LR  Policy LR Gumbl Temp |  trn loss     trn spar     trn shar   trn ttl |   bceloss  avg prec    aucroc     aucpr |  val loss     val spar     val shar    val ttl |  time |        \n",
      "  126 |   7.50e-04   7.50e-04   7.50e-04  4.000e+00 |    1.8766   4.1613e-02   2.4333e-05    1.9182 |   0.62443   0.82879   0.82691   0.82870 |    9.3659   4.1613e-02   2.4333e-05     9.4075 |   6.1 |\n",
      "  127 |   7.50e-04   7.50e-04   7.50e-04  4.000e+00 |    1.9441   4.1613e-02   2.4333e-05    1.9858 |   0.62286   0.82875   0.82664   0.82866 |    9.3329   4.1613e-02   2.4333e-05     9.3745 |   6.1 |        \n",
      "  128 |   7.50e-04   7.50e-04   7.50e-04  4.000e+00 |    2.1922   4.1613e-02   2.4333e-05    2.2338 |   0.62438   0.82883   0.82680   0.82874 |    9.3361   4.1613e-02   2.4333e-05     9.3777 |   6.1 |        \n",
      "  129 |   7.50e-04   7.50e-04   7.50e-04  4.000e+00 |    1.5780   4.1613e-02   2.4333e-05    1.6197 |   0.62699   0.82872   0.82668   0.82863 |    9.4044   4.1613e-02   2.4333e-05     9.4461 |   6.4 |        \n",
      "  130 |   7.50e-04   7.50e-04   7.50e-04  4.000e+00 |    1.8192   4.1613e-02   2.4333e-05    1.8609 |   0.62748   0.82887   0.82690   0.82878 |    9.4353   4.1613e-02   2.4333e-05     9.4770 |   6.0 |        \n",
      "  131 |   7.50e-04   7.50e-04   7.50e-04  4.000e+00 |    1.9239   4.1613e-02   2.4333e-05    1.9655 |   0.62696   0.82910   0.82715   0.82901 |    9.4003   4.1613e-02   2.4333e-05     9.4420 |   6.8 |        \n",
      "  132 |   7.50e-04   7.50e-04   7.50e-04  4.000e+00 |    2.2699   4.1613e-02   2.4333e-05    2.3116 |   0.63263   0.82890   0.82678   0.82881 |    9.4715   4.1613e-02   2.4333e-05     9.5131 |   6.1 |        \n",
      "  133 |   7.50e-04   7.50e-04   7.50e-04  4.000e+00 |    2.0790   4.1613e-02   2.4333e-05    2.1206 |   0.63356   0.82884   0.82678   0.82875 |    9.4962   4.1613e-02   2.4333e-05     9.5378 |   5.8 |        \n",
      "  134 |   7.50e-04   7.50e-04   7.50e-04  4.000e+00 |    1.6984   4.1613e-02   2.4333e-05    1.7400 |   0.63463   0.82857   0.82661   0.82848 |    9.5185   4.1613e-02   2.4333e-05     9.5601 |   6.1 |        \n",
      "  135 |   7.50e-04   7.50e-04   7.50e-04  4.000e+00 |    1.9532   4.1613e-02   2.4333e-05    1.9948 |   0.63455   0.82933   0.82731   0.82924 |    9.5371   4.1613e-02   2.4333e-05     9.5787 |   6.0 |        \n",
      "  136 |   7.50e-04   7.50e-04   7.50e-04  4.000e+00 |    2.0696   4.1613e-02   2.4333e-05    2.1112 |   0.63573   0.82910   0.82709   0.82901 |    9.5104   4.1613e-02   2.4333e-05     9.5521 |   6.5 |        \n",
      "  137 |   7.50e-04   7.50e-04   7.50e-04  4.000e+00 |    2.0239   4.1613e-02   2.4333e-05    2.0655 |   0.63561   0.82957   0.82733   0.82948 |    9.5362   4.1613e-02   2.4333e-05     9.5779 |   6.8 |        \n",
      "  138 |   7.50e-04   7.50e-04   7.50e-04  4.000e+00 |    2.1328   4.1613e-02   2.4333e-05    2.1744 |   0.63649   0.82893   0.82677   0.82884 |    9.5487   4.1613e-02   2.4333e-05     9.5903 |   6.5 |        \n",
      "  139 |   7.50e-04   7.50e-04   7.50e-04  4.000e+00 |    1.7937   4.1613e-02   2.4333e-05    1.8354 |   0.64090   0.82864   0.82665   0.82855 |    9.5725   4.1613e-02   2.4333e-05     9.6141 |   6.2 |        \n",
      "  140 |   7.50e-04   7.50e-04   7.50e-04  4.000e+00 |    1.4084   4.1613e-02   2.4333e-05    1.4501 |   0.64159   0.82867   0.82673   0.82858 |    9.5833   4.1613e-02   2.4333e-05     9.6249 |   6.4 |        \n",
      "Epoch   140: reducing learning rate of group 0 to 5.6250e-04.\n",
      "Epoch   140: reducing learning rate of group 1 to 5.6250e-04.\n",
      "  141 |   5.63e-04   5.63e-04   7.50e-04  4.000e+00 |    2.4555   4.1613e-02   2.4333e-05    2.4972 |   0.64058   0.82885   0.82683   0.82876 |    9.6079   4.1613e-02   2.4333e-05     9.6495 |   6.1 |        \n",
      "  142 |   5.63e-04   5.63e-04   7.50e-04  4.000e+00 |    1.9243   4.1613e-02   2.4333e-05    1.9659 |   0.64190   0.82879   0.82701   0.82871 |    9.6236   4.1613e-02   2.4333e-05     9.6653 |   8.0 |        \n",
      "  143 |   5.63e-04   5.63e-04   7.50e-04  4.000e+00 |    2.1561   4.1613e-02   2.4333e-05    2.1977 |   0.63971   0.82906   0.82715   0.82897 |    9.5799   4.1613e-02   2.4333e-05     9.6215 |   6.5 |        \n",
      "  144 |   5.63e-04   5.63e-04   7.50e-04  4.000e+00 |    1.7788   4.1613e-02   2.4333e-05    1.8205 |   0.64381   0.82873   0.82689   0.82864 |    9.6943   4.1613e-02   2.4333e-05     9.7359 |   7.0 |        \n",
      "  145 |   5.63e-04   5.63e-04   7.50e-04  4.000e+00 |    1.6073   4.1613e-02   2.4333e-05    1.6490 |   0.64343   0.82896   0.82712   0.82886 |    9.6418   4.1613e-02   2.4333e-05     9.6835 |   6.3 |        \n",
      "validation:   0%|                                                                                                                                                                        | 0/33 [00:00<?, ?it/s]"
     ]
    }
   ],
   "source": [
    "# warmup_phase(ns,opt, environ, dldrs, epochs = 25)\n",
    "warmup_phase(ns,opt, environ, dldrs)"
   ]
  },
  {
   "cell_type": "code",
   "execution_count": null,
   "id": "05b99542",
   "metadata": {
    "ExecuteTime": {
     "end_time": "2022-03-28T11:58:43.543325Z",
     "start_time": "2022-03-28T11:58:43.428832Z"
    }
   },
   "outputs": [],
   "source": [
    "# warmup_phase(ns,opt, environ, dldrs, epochs = 25)"
   ]
  },
  {
   "cell_type": "code",
   "execution_count": null,
   "id": "a3dc43cf",
   "metadata": {
    "ExecuteTime": {
     "end_time": "2022-03-28T14:57:19.738356Z",
     "start_time": "2022-03-28T14:57:15.641438Z"
    }
   },
   "outputs": [],
   "source": [
    "# ns.wandb_run.finish()\n",
    "\n",
    "ns.wandb_run.finish()\n",
    "\n",
    "# environ.losses\n",
    "\n",
    "# environ.val_metrics"
   ]
  },
  {
   "cell_type": "code",
   "execution_count": null,
   "id": "eea84c89",
   "metadata": {},
   "outputs": [],
   "source": []
  },
  {
   "cell_type": "markdown",
   "id": "04d238e8",
   "metadata": {},
   "source": [
    "#### display parms"
   ]
  },
  {
   "cell_type": "code",
   "execution_count": null,
   "id": "e22e75ab",
   "metadata": {
    "ExecuteTime": {
     "end_time": "2022-03-28T04:02:47.732297Z",
     "start_time": "2022-03-28T04:02:47.639607Z"
    }
   },
   "outputs": [],
   "source": [
    "print( f\" Backbone Initial LR         : {environ.opt['train']['backbone_lr']:4f}      current LR : {environ.optimizers['alphas'].param_groups[0]['lr']} \\n\"\n",
    "       f\" Tasks    Initial LR         : {environ.opt['train']['task_lr']:4f}      current LR : {environ.optimizers['weights'].param_groups[0]['lr']}    \\n\"\n",
    "       f\" Policy   Initial LR         : {environ.opt['train']['policy_lr']:4f}      current LR : {environ.optimizers['weights'].param_groups[1]['lr']}  \\n\")\n",
    "print( f\" Sparsity regularization     : {environ.opt['train']['lambda_sparsity']}\\n\"\n",
    "       f\" Sharing  regularization     : {environ.opt['train']['lambda_sharing']} \\n\\n\"\n",
    "       f\" Tasks    regularization     : {environ.opt['train']['lambda_tasks']}   \\n\"\n",
    "       f\" Gumbel Temp                 : {environ.gumbel_temperature:.4f}         \\n\" #\n",
    "       f\" Gumbel Temp decay           : {environ.opt['train']['decay_temp_freq']}\") #"
   ]
  },
  {
   "cell_type": "code",
   "execution_count": null,
   "id": "c2db34fc",
   "metadata": {
    "ExecuteTime": {
     "end_time": "2022-03-28T04:02:47.803657Z",
     "start_time": "2022-03-28T04:02:47.736497Z"
    }
   },
   "outputs": [],
   "source": [
    "# environ.opt['train']['policy_lr'] = 0.01\n",
    "# opt['train']['policy_lr']         = 0.01\n",
    "# environ.opt['train']['lambda_sparsity'] = 0.1\n",
    "# environ.opt['train']['lambda_sharing']  = 0.01\n",
    "# environ.opt['train']['lambda_tasks']    = 1.0\n",
    "# environ.opt['train']['decay_temp_freq'] = 2\n",
    "# print(environ.optimizers['alphas'].param_groups)\n",
    "# print(environ.optimizers['weights'].param_groups)\n",
    "# print('initial lr: ', environ.optimizers['alphas'].param_groups[0]['initial_lr'] , 'current lr: ', environ.optimizers['alphas'].param_groups[0]['lr'],)\n",
    "# print('current lr: ', environ.optimizers['weights'].param_groups[0]['lr'])\n",
    "# print('current lr: ', environ.optimizers['weights'].param_groups[1]['lr'])"
   ]
  },
  {
   "cell_type": "markdown",
   "id": "eb49645c",
   "metadata": {},
   "source": [
    "## Weight & Policy Training"
   ]
  },
  {
   "cell_type": "markdown",
   "id": "c6aade16",
   "metadata": {},
   "source": [
    "### Weight/Policy Training Preparation"
   ]
  },
  {
   "cell_type": "code",
   "execution_count": null,
   "id": "5fe24a1f",
   "metadata": {
    "ExecuteTime": {
     "end_time": "2022-03-28T04:02:47.867009Z",
     "start_time": "2022-03-28T04:02:47.807720Z"
    }
   },
   "outputs": [],
   "source": [
    "# ns.flag_warmup = True\n",
    "# num_train_layers = None \n",
    "# environ.opt['is_curriculum'] = True\n",
    "# environ.opt['curriculum_speed'] = 4\n",
    "# ns.num_train_layers = None"
   ]
  },
  {
   "cell_type": "code",
   "execution_count": null,
   "id": "365996be",
   "metadata": {
    "ExecuteTime": {
     "end_time": "2022-03-28T04:02:47.944530Z",
     "start_time": "2022-03-28T04:02:47.871259Z"
    }
   },
   "outputs": [],
   "source": [
    "if ns.flag_warmup:\n",
    "    print_heading( f\"** {timestring()} \\n\"\n",
    "                   f\"** Training epoch: {ns.current_epoch} iter: {ns.current_iter}   flag: {ns.flag} \\n\"\n",
    "                   f\"** Set optimizer and scheduler to policy_learning = True (Switch weight optimizer from ADAM to SGD)\\n\"\n",
    "                   f\"** Switch from Warm Up training to Alternate training Weights & Policy \\n\"\n",
    "                   f\"** Take checkpoint and block gradient flow through Policy net\", verbose=True)\n",
    "#     environ.define_optimizer(policy_learning=True)\n",
    "#     environ.define_scheduler(policy_learning=True)\n",
    "    ns.flag_warmup = False\n",
    "    ns.flag = 'update_weights'\n",
    "    environ.fix_alpha()\n",
    "    environ.free_weights(opt['fix_BN'])"
   ]
  },
  {
   "cell_type": "code",
   "execution_count": null,
   "id": "4d879701",
   "metadata": {
    "ExecuteTime": {
     "end_time": "2022-03-28T04:02:48.024063Z",
     "start_time": "2022-03-28T04:02:47.950823Z"
    }
   },
   "outputs": [],
   "source": [
    "# ns.training_epochs = 250\n",
    "# environ.display_trained_policy(ns.current_epoch)\n",
    "# environ.display_trained_logits(ns.current_epoch)"
   ]
  },
  {
   "cell_type": "code",
   "execution_count": null,
   "id": "753d84a8",
   "metadata": {
    "ExecuteTime": {
     "end_time": "2022-03-28T04:02:48.115175Z",
     "start_time": "2022-03-28T04:02:48.028324Z"
    }
   },
   "outputs": [],
   "source": [
    "print(f\"ns.current_epoch           : {ns.current_epoch}\")\n",
    "print(f\"ns.training_epochs         : {ns.training_epochs} \\n\") \n",
    "print(f\"ns.current_iters           : {ns.current_iter}\")  \n",
    "print(f\"Batches in weight epoch    : {ns.stop_iter_w}\")\n",
    "print(f\"Batches in policy epoch    : {ns.stop_iter_a}\")\n",
    "print(f\"num_train_layers           : {ns.num_train_layers}\")\n",
    "print()\n",
    "print_loss(environ.val_metrics, title = f\"[e] Last ep:{ns.current_epoch}  it:{ns.current_iter}\")\n",
    "print()\n",
    "\n",
    "print_heading(f\" Last Epoch Completed : {ns.current_epoch}       # of epochs to run:  {ns.training_epochs} -->  epochs {ns.current_epoch+1} to {ns.training_epochs + ns.current_epoch}\"\n",
    "              f\"\\n policy_learning rate : {environ.opt['train']['policy_lr']} \"\n",
    "              f\"\\n lambda_sparsity      : {environ.opt['train']['lambda_sparsity']}\"\n",
    "              f\"\\n lambda_sharing       : {environ.opt['train']['lambda_sharing']}\"\n",
    "              f\"\\n curriculum training  : {opt['is_curriculum']}     cirriculum speed: {opt['curriculum_speed']}     num_training_layers : {ns.num_train_layers}\", \n",
    "              verbose = True)"
   ]
  },
  {
   "cell_type": "markdown",
   "id": "561c71af",
   "metadata": {},
   "source": [
    "### Weight/Policy Training"
   ]
  },
  {
   "cell_type": "code",
   "execution_count": null,
   "id": "d10ad7d8",
   "metadata": {
    "ExecuteTime": {
     "end_time": "2022-03-28T05:13:27.891351Z",
     "start_time": "2022-03-28T04:02:48.119371Z"
    },
    "scrolled": true
   },
   "outputs": [],
   "source": [
    "# weight_policy_training(ns, opt, environ, dldrs, epochs = 100)\n",
    "weight_policy_training(ns, opt, environ, dldrs)"
   ]
  },
  {
   "cell_type": "code",
   "execution_count": null,
   "id": "27779c17",
   "metadata": {
    "ExecuteTime": {
     "end_time": "2022-03-28T05:13:28.065212Z",
     "start_time": "2022-03-28T05:13:27.897193Z"
    }
   },
   "outputs": [],
   "source": [
    "ns.best_epoch, ns.best_iter, ns.best_value"
   ]
  },
  {
   "cell_type": "markdown",
   "id": "58be1060",
   "metadata": {},
   "source": [
    "### Close WandB run"
   ]
  },
  {
   "cell_type": "code",
   "execution_count": null,
   "id": "4c5f6dde",
   "metadata": {
    "ExecuteTime": {
     "end_time": "2022-03-28T05:13:32.216421Z",
     "start_time": "2022-03-28T05:13:28.068834Z"
    }
   },
   "outputs": [],
   "source": [
    "wandb.finish()"
   ]
  },
  {
   "cell_type": "code",
   "execution_count": null,
   "id": "bc49cc3c",
   "metadata": {
    "ExecuteTime": {
     "end_time": "2022-03-28T05:13:32.253924Z",
     "start_time": "2022-03-28T05:13:32.221329Z"
    }
   },
   "outputs": [],
   "source": [
    "# ns.best_epoch = 0\n",
    "# from utils.notebook_modules import wrapup_phase\n",
    "# wrapup_phase(ns, opt, environ)"
   ]
  },
  {
   "cell_type": "code",
   "execution_count": null,
   "id": "c570db82",
   "metadata": {
    "ExecuteTime": {
     "end_time": "2022-03-28T05:13:32.307351Z",
     "start_time": "2022-03-28T05:13:32.262822Z"
    }
   },
   "outputs": [],
   "source": [
    "# environ.opt['train']['policy_lr']       = 0.002\n",
    "# environ.opt['train']['lambda_sparsity'] = 0.05\n",
    "# environ.opt['train']['lambda_sharing']  = 0.01\n",
    "# environ.opt['train']['lambda_tasks']    = 1.0\n",
    "# # environ.opt['train']['decay_temp_freq'] = 2"
   ]
  },
  {
   "cell_type": "code",
   "execution_count": null,
   "id": "26efa07b",
   "metadata": {
    "ExecuteTime": {
     "end_time": "2022-03-28T05:13:32.344678Z",
     "start_time": "2022-03-28T05:13:32.310706Z"
    }
   },
   "outputs": [],
   "source": [
    "print( f\" Backbone Learning Rate      : {environ.opt['train']['backbone_lr']}\\n\"\n",
    "       f\" Tasks    Learning Rate      : {environ.opt['train']['task_lr']}\\n\"\n",
    "       f\" Policy   Learning Rate      : {environ.opt['train']['policy_lr']}\\n\")\n",
    "\n",
    "print( f\" Sparsity regularization     : {environ.opt['train']['lambda_sparsity']}\\n\"\n",
    "       f\" Sharing  regularization     : {environ.opt['train']['lambda_sharing']} \\n\\n\"\n",
    "       f\" Tasks    regularization     : {environ.opt['train']['lambda_tasks']}   \\n\"\n",
    "       f\" Gumbel Temp                 : {environ.gumbel_temperature:.4f}         \\n\" \n",
    "       f\" Gumbel Temp decay           : {environ.opt['train']['decay_temp_freq']}\\n\") \n",
    "\n",
    "print( f\" current_iters               : {ns.current_iter}   \\n\"\n",
    "       f\" current_epochs              : {ns.current_epoch}  \\n\" \n",
    "       f\" train_total_epochs          : {ns.training_epochs}\\n\" \n",
    "       f\" stop_epoch_training         : {ns.stop_epoch_training}\")"
   ]
  },
  {
   "cell_type": "code",
   "execution_count": null,
   "id": "f6e85f5c",
   "metadata": {},
   "outputs": [],
   "source": []
  },
  {
   "cell_type": "markdown",
   "id": "86ac6b6a",
   "metadata": {
    "heading_collapsed": true
   },
   "source": [
    "## Post Training Stuff"
   ]
  },
  {
   "cell_type": "code",
   "execution_count": null,
   "id": "04de4040",
   "metadata": {
    "ExecuteTime": {
     "end_time": "2022-03-13T22:17:44.833671Z",
     "start_time": "2022-03-13T22:17:44.799394Z"
    },
    "hidden": true
   },
   "outputs": [],
   "source": [
    "# pp.pprint(environ.losses)\n",
    "# pp.pprint(environ.val_metrics)\n",
    "environ.num_layers, environ.networks['mtl-net'].num_layers"
   ]
  },
  {
   "cell_type": "code",
   "execution_count": null,
   "id": "db4ca92e",
   "metadata": {
    "ExecuteTime": {
     "end_time": "2022-03-10T23:23:43.744498Z",
     "start_time": "2022-03-10T23:23:43.696990Z"
    },
    "hidden": true
   },
   "outputs": [],
   "source": [
    "# pp.pprint(environ.val_metrics['total'])"
   ]
  },
  {
   "cell_type": "code",
   "execution_count": null,
   "id": "336e5cec",
   "metadata": {
    "ExecuteTime": {
     "end_time": "2022-02-21T17:44:36.218784Z",
     "start_time": "2022-02-21T17:44:36.063411Z"
    },
    "hidden": true
   },
   "outputs": [],
   "source": [
    "# print_loss(environ.val_metrics, title = f\"[Final] ep:{current_epoch}  it:{current_iter}\",)\n",
    "# environ.display_trained_policy(current_epoch)\n",
    "# environ.display_trained_logits(current_epoch)\n",
    "# environ.log_file.flush()"
   ]
  },
  {
   "cell_type": "code",
   "execution_count": null,
   "id": "083c1c8e",
   "metadata": {
    "ExecuteTime": {
     "end_time": "2022-03-06T00:32:52.580865Z",
     "start_time": "2022-03-06T00:32:52.554112Z"
    },
    "hidden": true,
    "scrolled": true
   },
   "outputs": [],
   "source": [
    "# model_label   = 'model_train_ep_%d_seed_%04d' % (current_epoch, opt['random_seed'])\n",
    "# metrics_label = 'metrics_train_ep_%d_seed_%04d.pickle' % (current_epoch, opt['random_seed'])\n",
    "# environ.save_checkpoint(model_label, current_iter, current_epoch) \n",
    "# save_to_pickle(environ.val_metrics, environ.opt['paths']['checkpoint_dir'], metrics_label)\n",
    "# print_loss(environ.val_metrics, title = f\"[Final] ep:{current_epoch}  it:{current_iter}\",)\n",
    "# environ.display_trained_policy(current_epoch,out=[sys.stdout, environ.log_file])\n",
    "# environ.display_trained_logits(current_epoch)\n",
    "# environ.log_file.flush()"
   ]
  },
  {
   "cell_type": "code",
   "execution_count": null,
   "id": "5dad3a6e",
   "metadata": {
    "ExecuteTime": {
     "end_time": "2022-02-20T22:48:27.014120Z",
     "start_time": "2022-02-20T22:48:26.982535Z"
    },
    "hidden": true
   },
   "outputs": [],
   "source": [
    "# print_loss(current_iter, environ.losses, title = f\"[e] Policy training epoch:{current_epoch}    iter:\")\n",
    "# print()\n",
    "# print_loss(current_iter, trn_losses, title = f\"[e] Policy training epoch:{current_epoch}    iter:\")\n",
    "# print()\n",
    "# print_loss(current_iter, environ.val_metrics, title = f\"[e] Policy training epoch:{current_epoch}    iter:\")"
   ]
  },
  {
   "cell_type": "code",
   "execution_count": null,
   "id": "464d5db8",
   "metadata": {
    "ExecuteTime": {
     "end_time": "2022-03-01T20:31:45.254334Z",
     "start_time": "2022-03-01T20:31:45.116895Z"
    },
    "hidden": true
   },
   "outputs": [],
   "source": [
    "# environ.losses\n",
    "# environ.val_metrics"
   ]
  },
  {
   "cell_type": "code",
   "execution_count": null,
   "id": "59c4dd81",
   "metadata": {
    "ExecuteTime": {
     "end_time": "2022-03-01T20:47:29.582501Z",
     "start_time": "2022-03-01T20:47:29.492581Z"
    },
    "hidden": true
   },
   "outputs": [],
   "source": [
    "# environ.batch_data\n",
    "# print_metrics_cr(current_epoch, time.time() - start_time, trn_losses, environ.val_metrics, 0, out=[sys.stdout])\n",
    "# environ.display_parameters()\n",
    "\n",
    "# with np.printoptions(edgeitems=3, infstr='inf', linewidth=150, nanstr='nan', precision=7, formatter={'float': lambda x: f\"{x:12.5e}\"}):\n",
    "#     environ.print_logit_grads('gradients')\n",
    "\n",
    "# environ_params = environ.get_task_specific_parameters()\n",
    "# environ_params = environ.get_arch_parameters()\n",
    "# environ_params = environ.get_backbone_parameters()\n",
    "# print(environ_params)\n",
    "# for param in environ_params:\n",
    "#     print(param.grad.shape, '\\n', param.grad)\n",
    "#     print(param)"
   ]
  },
  {
   "cell_type": "code",
   "execution_count": null,
   "id": "49c80c9b",
   "metadata": {
    "ExecuteTime": {
     "end_time": "2022-03-11T21:12:46.806056Z",
     "start_time": "2022-03-11T21:12:46.471801Z"
    },
    "hidden": true
   },
   "outputs": [],
   "source": [
    "environ.display_trained_logits(ns.current_epoch)\n",
    "environ.display_trained_policy(ns.current_epoch)"
   ]
  },
  {
   "cell_type": "code",
   "execution_count": null,
   "id": "04d47dc5",
   "metadata": {
    "ExecuteTime": {
     "end_time": "2022-03-11T21:13:19.578964Z",
     "start_time": "2022-03-11T21:13:19.242252Z"
    },
    "hidden": true
   },
   "outputs": [],
   "source": [
    "environ.display_test_sample_policy(ns.current_epoch, hard_sampling = True)\n",
    "environ.display_train_sample_policy(ns.current_epoch, hard_sampling = True)"
   ]
  },
  {
   "cell_type": "code",
   "execution_count": null,
   "id": "8754b317",
   "metadata": {
    "ExecuteTime": {
     "end_time": "2022-03-06T00:33:19.474125Z",
     "start_time": "2022-03-06T00:33:19.447847Z"
    },
    "hidden": true
   },
   "outputs": [],
   "source": [
    "# environ.define_optimizer(policy_learning=True)"
   ]
  },
  {
   "cell_type": "code",
   "execution_count": null,
   "id": "e7e89541",
   "metadata": {
    "ExecuteTime": {
     "end_time": "2022-03-09T00:07:08.097708Z",
     "start_time": "2022-03-09T00:07:08.070721Z"
    },
    "hidden": true
   },
   "outputs": [],
   "source": [
    "print(environ.optimizers['alphas'])\n",
    "print(environ.optimizers['weights'])"
   ]
  },
  {
   "cell_type": "code",
   "execution_count": null,
   "id": "d1ecc91e",
   "metadata": {
    "ExecuteTime": {
     "end_time": "2022-03-09T00:07:50.026992Z",
     "start_time": "2022-03-09T00:07:49.986101Z"
    },
    "hidden": true,
    "scrolled": true
   },
   "outputs": [],
   "source": [
    "print('Policy  initial_lr : ', environ.optimizers['alphas'].param_groups[0]['initial_lr'], 'lr : ',environ.optimizers['alphas'].param_groups[0]['lr'])\n",
    "print('Weights initial_lr : ', environ.optimizers['weights'].param_groups[0]['initial_lr'], 'lr : ',environ.optimizers['weights'].param_groups[0]['lr'])\n",
    "print('Weights initial_lr : ', environ.optimizers['weights'].param_groups[1]['initial_lr'], 'lr : ',environ.optimizers['weights'].param_groups[1]['lr'])"
   ]
  },
  {
   "cell_type": "code",
   "execution_count": null,
   "id": "a1306e8c",
   "metadata": {
    "ExecuteTime": {
     "end_time": "2022-03-10T22:31:50.425696Z",
     "start_time": "2022-03-10T22:31:50.396531Z"
    },
    "hidden": true
   },
   "outputs": [],
   "source": [
    "wandb.run is None"
   ]
  },
  {
   "cell_type": "code",
   "execution_count": null,
   "id": "1b6b8e99",
   "metadata": {
    "ExecuteTime": {
     "end_time": "2022-03-05T23:10:03.751132Z",
     "start_time": "2022-03-05T23:10:03.724538Z"
    },
    "execution": {
     "iopub.execute_input": "2022-01-07T22:44:13.145647Z",
     "iopub.status.busy": "2022-01-07T22:44:13.145313Z",
     "iopub.status.idle": "2022-01-07T22:44:13.193262Z",
     "shell.execute_reply": "2022-01-07T22:44:13.192140Z",
     "shell.execute_reply.started": "2022-01-07T22:44:13.145622Z"
    },
    "hidden": true
   },
   "outputs": [],
   "source": [
    "# opt['exp_instance'] = '0218_1358'     \n",
    "# folder_name=  f\"{opt['exp_instance']}_bs{opt['train']['batch_size']:03d}_{opt['train']['decay_lr_rate']:3.2f}_{opt['train']['decay_lr_freq']}\"\n",
    "# print()\n",
    "# opt['exp_instance'] = datetime.now().strftime(\"%m%d_%H%M\")\n",
    "# opt['exp_description'] = f\"No Alternating Weight/Policy - training all done with both weights and policy\"\n",
    "# folder_name=  f\"{opt['exp_instance']}_bs{opt['train']['batch_size']:03d}_{opt['train']['decay_lr_rate']:3.2f}_{opt['train']['decay_lr_freq']}\""
   ]
  },
  {
   "cell_type": "code",
   "execution_count": null,
   "id": "d2affee1",
   "metadata": {
    "ExecuteTime": {
     "end_time": "2022-03-11T21:12:20.322227Z",
     "start_time": "2022-03-11T21:12:20.285961Z"
    },
    "hidden": true
   },
   "outputs": [],
   "source": [
    "# wandb.finish()"
   ]
  },
  {
   "cell_type": "code",
   "execution_count": null,
   "id": "2527bd00",
   "metadata": {
    "ExecuteTime": {
     "end_time": "2022-02-20T21:25:11.319751Z",
     "start_time": "2022-02-20T21:25:11.210062Z"
    },
    "hidden": true
   },
   "outputs": [],
   "source": [
    "# \n",
    "p = environ.get_current_state(0)"
   ]
  },
  {
   "cell_type": "code",
   "execution_count": null,
   "id": "919068f7",
   "metadata": {
    "ExecuteTime": {
     "end_time": "2022-02-20T21:25:26.324030Z",
     "start_time": "2022-02-20T21:25:26.112782Z"
    },
    "hidden": true
   },
   "outputs": [],
   "source": [
    "pp.pprint(p)"
   ]
  },
  {
   "cell_type": "markdown",
   "id": "5c82a453",
   "metadata": {
    "heading_collapsed": true,
    "hidden": true
   },
   "source": [
    "### Post Warm-up Training stuff"
   ]
  },
  {
   "cell_type": "code",
   "execution_count": null,
   "id": "3bb74c3d",
   "metadata": {
    "ExecuteTime": {
     "end_time": "2022-02-01T12:45:43.999959Z",
     "start_time": "2022-02-01T12:45:43.862475Z"
    },
    "hidden": true
   },
   "outputs": [],
   "source": [
    "pp.pprint(environ.val_metrics)"
   ]
  },
  {
   "cell_type": "code",
   "execution_count": null,
   "id": "912b47da",
   "metadata": {
    "ExecuteTime": {
     "end_time": "2022-02-01T12:46:36.700361Z",
     "start_time": "2022-02-01T12:46:36.367037Z"
    },
    "hidden": true
   },
   "outputs": [],
   "source": [
    "environ.networks['mtl-net'].arch_parameters()"
   ]
  },
  {
   "cell_type": "code",
   "execution_count": null,
   "id": "922f0235",
   "metadata": {
    "ExecuteTime": {
     "end_time": "2022-01-28T16:37:10.158440Z",
     "start_time": "2022-01-28T16:37:09.742327Z"
    },
    "hidden": true
   },
   "outputs": [],
   "source": [
    "p = environ.get_sample_policy(hard_sampling = False)\n",
    "print(p)\n",
    "p = environ.get_policy_prob()\n",
    "print(p)\n",
    "p = environ.get_policy_logits()\n",
    "print(p)\n",
    "\n",
    "# p = environ.get_current_policy()\n",
    "# print(p)"
   ]
  },
  {
   "cell_type": "code",
   "execution_count": null,
   "id": "c6bddd44",
   "metadata": {
    "ExecuteTime": {
     "end_time": "2022-01-28T16:40:37.799917Z",
     "start_time": "2022-01-28T16:40:37.773177Z"
    },
    "hidden": true
   },
   "outputs": [],
   "source": [
    "a = softmax([0.0, 1])\n",
    "print(a)\n",
    "sampled = np.random.choice((1, 0), p=a)\n",
    "print(sampled)"
   ]
  },
  {
   "cell_type": "code",
   "execution_count": null,
   "id": "f5e8f376",
   "metadata": {
    "ExecuteTime": {
     "end_time": "2022-01-28T16:13:16.205889Z",
     "start_time": "2022-01-28T16:13:16.179303Z"
    },
    "hidden": true
   },
   "outputs": [],
   "source": [
    "print(environ.optimizers['weights'])\n",
    "print(environ.schedulers['weights'].get_last_lr())"
   ]
  },
  {
   "cell_type": "code",
   "execution_count": null,
   "id": "dddf9c47",
   "metadata": {
    "ExecuteTime": {
     "end_time": "2022-02-01T12:46:50.411465Z",
     "start_time": "2022-02-01T12:46:50.020540Z"
    },
    "hidden": true,
    "scrolled": false
   },
   "outputs": [],
   "source": [
    "print('losses.keys      : ', environ.losses.keys())\n",
    "print('losses[task]keys : ', environ.losses['task1'].keys())\n",
    "pp.pprint(environ.losses)"
   ]
  },
  {
   "cell_type": "code",
   "execution_count": null,
   "id": "20950069",
   "metadata": {
    "ExecuteTime": {
     "end_time": "2022-01-15T22:57:02.151169Z",
     "start_time": "2022-01-15T22:57:02.056562Z"
    },
    "execution": {
     "iopub.execute_input": "2022-01-07T22:49:07.606120Z",
     "iopub.status.busy": "2022-01-07T22:49:07.604909Z",
     "iopub.status.idle": "2022-01-07T22:49:08.025886Z",
     "shell.execute_reply": "2022-01-07T22:49:08.024798Z",
     "shell.execute_reply.started": "2022-01-07T22:49:07.606065Z"
    },
    "hidden": true,
    "scrolled": false
   },
   "outputs": [],
   "source": [
    "print( environ.val_metrics.keys())\n",
    "# pp.pprint(val_metrics)\n",
    "print(type(environ.val_metrics['aggregated']))\n",
    "print()\n",
    "print(type(environ.val_metrics['task1']['classification_agg']))\n",
    "print()\n",
    "pp.pprint(environ.val_metrics)"
   ]
  },
  {
   "cell_type": "code",
   "execution_count": null,
   "id": "eed6e311",
   "metadata": {
    "ExecuteTime": {
     "end_time": "2022-01-14T18:57:26.266303Z",
     "start_time": "2022-01-14T18:57:26.166878Z"
    },
    "hidden": true
   },
   "outputs": [],
   "source": [
    "# import pickle\n",
    "# with open(\"val_metrics.pkl\", mode= 'wb') as f:\n",
    "#         pickle.dump(val_metrics, f)\n",
    "    \n",
    "# with open('val_metrics.pkl', 'rb') as f:    \n",
    "#     tst_val_metrics = pickle.load(f)"
   ]
  },
  {
   "cell_type": "code",
   "execution_count": null,
   "id": "2b00a8aa",
   "metadata": {
    "ExecuteTime": {
     "end_time": "2022-01-14T18:57:26.297444Z",
     "start_time": "2022-01-14T18:57:26.269323Z"
    },
    "hidden": true
   },
   "outputs": [],
   "source": [
    "# print(environ.input.shape) \n",
    "# a = getattr(environ, 'task1_pred')\n",
    "# yc_data = environ.batch['task1_data']\n",
    "# print(yc_data.shape)\n",
    "# yc_ind = environ.batch['task1_ind']\n",
    "# print(yc_ind.shape)\n",
    "# yc_hat_all = getattr(environ, 'task1_pred')\n",
    "# print(yc_hat_all.shape)\n",
    "# yc_hat  = yc_hat_all[yc_ind[0], yc_ind[1]]\n",
    "# print(yc_hat_all.shape, yc_hat.shape)\n",
    "\n",
    "# \n",
    "# environ.losses\n",
    "# loss = {}\n",
    "# for key in environ.losses.keys():\n",
    "#     loss[key] = {}\n",
    "#     for subkey, v in environ.losses[key].items():\n",
    "#         print(f\" key:  {key}   subkey: {subkey} \")\n",
    "#         if isinstance(v, torch.Tensor):\n",
    "#             loss[key][subkey] = v.data\n",
    "#             print(f\" Tensor  -  key:  {key}   subkey: {subkey}           value type: {type(v)}  value: {v:.4f}\")\n",
    "#         else:\n",
    "#             loss[key][subkey] = v\n",
    "#             print(f\" integer -  key:  {key}   subkey: {subkey}           value type: {type(v)}  value: {v:.4f}\")\n",
    "# pp.pprint(tst_val_metrics)             "
   ]
  },
  {
   "cell_type": "code",
   "execution_count": null,
   "id": "5987f89f",
   "metadata": {
    "ExecuteTime": {
     "end_time": "2022-01-14T18:57:26.340792Z",
     "start_time": "2022-01-14T18:57:26.302528Z"
    },
    "execution": {
     "iopub.execute_input": "2022-01-07T22:49:07.606120Z",
     "iopub.status.busy": "2022-01-07T22:49:07.604909Z",
     "iopub.status.idle": "2022-01-07T22:49:08.025886Z",
     "shell.execute_reply": "2022-01-07T22:49:08.024798Z",
     "shell.execute_reply.started": "2022-01-07T22:49:07.606065Z"
    },
    "hidden": true
   },
   "outputs": [],
   "source": [
    "# print('metrics.keys: ', environ.metrics.keys())\n",
    "# print('metrics[task].keys: ', environ.metrics['task1'].keys())\n",
    "# pp.pprint(environ.metrics['task1'])\n",
    "# pp.pprint(environ.losses['task1']['total'])"
   ]
  },
  {
   "cell_type": "code",
   "execution_count": null,
   "id": "864ae417",
   "metadata": {
    "ExecuteTime": {
     "end_time": "2022-01-14T18:57:26.373399Z",
     "start_time": "2022-01-14T18:57:26.345065Z"
    },
    "hidden": true
   },
   "outputs": [],
   "source": [
    "# title='Iteration'\n",
    "# for t_id, _ in enumerate(environ.tasks):\n",
    "#     task_key = f\"task{t_id+1}\"\n",
    "# #     print_heading(f\"{title}  {current_iter}  {task_key} : {val_metrics[task_key]['classification_agg']}\", verbose = True)\n",
    "\n",
    "#     for key, _  in val_metrics[task_key]['classification_agg'].items():\n",
    "#         print('%s/%-20s'%(task_key, key), val_metrics[task_key]['classification_agg'][key], current_iter)\n",
    "#         print(f\"{task_key:s}/{key:20s}\", val_metrics[task_key]['classification_agg'][key], current_iter)\n",
    "#         print()\n",
    "#             # print_current_errors(os.path.join(self.log_dir, 'loss.txt'), current_iter,key, loss[key], time.time() - start_time)"
   ]
  },
  {
   "cell_type": "code",
   "execution_count": null,
   "id": "c0b73b44",
   "metadata": {
    "ExecuteTime": {
     "end_time": "2022-01-07T22:52:48.162261Z",
     "start_time": "2022-01-07T22:52:48.140423Z"
    },
    "hidden": true
   },
   "outputs": [],
   "source": [
    "# environ.print_loss(current_iter, start_time, metrics = val_metrics['loss'], verbose=True)\n",
    "# print(opt['lambdas'])\n",
    "# p = (opt['lambdas'][0] * environ.losses['tasks']['task1'])\n",
    "# print(p)\n",
    "\n",
    "# environ.print_val_metrics(current_iter, start_time, val_metrics , title='validation', verbose=True)    "
   ]
  },
  {
   "cell_type": "code",
   "execution_count": null,
   "id": "850378b6",
   "metadata": {
    "ExecuteTime": {
     "end_time": "2022-01-07T22:52:47.661019Z",
     "start_time": "2022-01-07T22:52:47.639094Z"
    },
    "hidden": true
   },
   "outputs": [],
   "source": [
    "# print(current_iter)\n",
    "# print_metrics_cr(current_iter, t1 - t0, None, val_metrics , True)\n",
    "# environ.print_val_metrics(current_iter, start_time, val_metrics, title='validation', verbose = True)"
   ]
  },
  {
   "cell_type": "code",
   "execution_count": null,
   "id": "266a80b0",
   "metadata": {
    "ExecuteTime": {
     "end_time": "2022-01-07T23:14:58.034384Z",
     "start_time": "2022-01-07T23:14:58.004850Z"
    },
    "hidden": true,
    "scrolled": true
   },
   "outputs": [],
   "source": [
    "print(f\" val_metric keys               : {val_metrics.keys()}\")\n",
    "print(f\" loss keys                     : {val_metrics['loss'].keys()}\")\n",
    "print(f\" task1 keys                    : {val_metrics['task1'].keys()}\")\n",
    "print(f\" task1 classification keys     : {val_metrics['task1']['classification'].keys()}\")\n",
    "print(f\" task1 classification_agg keys : {val_metrics['task1']['classification_agg'].keys()}\")\n",
    "print()\n",
    "print(f\" task1                       : {val_metrics['task1']['classification_agg']['loss']:5f}\")\n",
    "print(f\" task2                       : {val_metrics['task2']['classification_agg']['loss']:5f}\")\n",
    "print(f\" task3                       : {val_metrics['task3']['classification_agg']['loss']:5f}\")\n",
    "print(f\" loss                        : {val_metrics['loss']['total']:5f}\")\n",
    "print(f\" train_time                  : {val_metrics['train_time']:2f}\")\n",
    "print(f\" epoch                       : {val_metrics['epoch']}\")\n"
   ]
  },
  {
   "cell_type": "markdown",
   "id": "60fc43a6",
   "metadata": {
    "heading_collapsed": true,
    "hidden": true
   },
   "source": [
    "### Post Weight + Policy Training Stuff "
   ]
  },
  {
   "cell_type": "code",
   "execution_count": null,
   "id": "65640cd9",
   "metadata": {
    "ExecuteTime": {
     "end_time": "2022-01-27T00:22:20.634818Z",
     "start_time": "2022-01-27T00:22:20.444566Z"
    },
    "hidden": true
   },
   "outputs": [],
   "source": [
    "environ.networks['mtl-net'].backbone.layer_config"
   ]
  },
  {
   "cell_type": "code",
   "execution_count": null,
   "id": "a4374287",
   "metadata": {
    "ExecuteTime": {
     "end_time": "2022-01-26T19:30:31.940280Z",
     "start_time": "2022-01-26T19:30:31.910058Z"
    },
    "hidden": true
   },
   "outputs": [],
   "source": [
    "num_blocks = 6\n",
    "num_policy_layers = 6\n",
    "gt =  torch.ones((num_blocks)).long()\n",
    "gt0 =  torch.zeros((num_blocks)).long()\n",
    "print(gt)\n",
    "print(gt0)\n",
    "\n",
    "loss_weights = ((torch.arange(0, num_policy_layers, 1) + 1).float() / num_policy_layers)\n",
    "print(loss_weights)"
   ]
  },
  {
   "cell_type": "code",
   "execution_count": null,
   "id": "8651bc43",
   "metadata": {
    "ExecuteTime": {
     "end_time": "2022-01-26T19:42:31.300891Z",
     "start_time": "2022-01-26T19:42:31.257774Z"
    },
    "hidden": true
   },
   "outputs": [],
   "source": [
    "if environ.opt['diff_sparsity_weights'] and not environ.opt['is_sharing']:\n",
    "    print(' cond 1')\n",
    "    ## Assign higher weights to higher layers \n",
    "    loss_weights = ((torch.arange(0, num_policy_layers, 1) + 1).float() / num_policy_layers)\n",
    "    print(f\"{task_key} sparsity error:  {2 * (loss_weights[-num_blocks:] * environ.cross_entropy2(logits[-num_blocks:], gt)).mean()})\")\n",
    "    print_dbg(f\" loss_weights :  {loss_weights}\", verbose = True)\n",
    "    print_dbg(f\" cross_entropy:  {environ.cross_entropy2(logits[-num_blocks:], gt)}  \", verbose = True)\n",
    "    print_dbg(f\" loss[sparsity][{task_key}]: {self.losses['sparsity'][task_key] } \", verbose = True)\n",
    "\n",
    "else:\n",
    "    print('\\n cond 2')\n",
    "    print_dbg(f\"Compute CrossEntropyLoss between \\n Logits   : \\n{logits[-num_blocks:]} \\n and gt: \\n{gt} \\n\", verbose = True)\n",
    "    print(f\"{task_key} sparsity error:  {environ.cross_entropy_sparsity(logits[-num_blocks:], gt)}\")\n",
    "    \n",
    "    print('\\n cond 2')\n",
    "    print_dbg(f\"Compute CrossEntropyLoss between Logits      : {logits[-1:]}  and gt: {gt[-1]} \", verbose = True)\n",
    "    print(f\"{task_key} sparsity error:  {environ.cross_entropy_sparsity(logits[-1:], gt[-1:])} \\n\")\n",
    "    print_dbg(f\"Compute CrossEntropyLoss between Logits      : {logits[-1:]}  and gt: {gt0[-1]} \", verbose = True)\n",
    "    print(f\"{task_key} sparsity error:  {environ.cross_entropy_sparsity(logits[-1:], gt0[-1:])} \\n\")\n",
    "    \n",
    "    print('\\n cond 3')    \n",
    "    print_dbg(f\"Compute CrossEntropyLoss between Logits   : {logits[0:1]}  and gt: {gt[0:1]} \", verbose = True)\n",
    "    print(f\"{task_key} sparsity error:  {environ.cross_entropy_sparsity(logits[0:1], gt[0:1])} \\n\")\n",
    "    print_dbg(f\"Compute CrossEntropyLoss between Logits   : {logits[0:1]}  and gt: {gt0[0:1]} \", verbose = True)\n",
    "    print(f\"{task_key} sparsity error:  {environ.cross_entropy_sparsity(logits[0:1], gt0[0:1])} \\n\")\n",
    "        \n",
    "        "
   ]
  },
  {
   "cell_type": "code",
   "execution_count": null,
   "id": "c686cd05",
   "metadata": {
    "hidden": true
   },
   "outputs": [],
   "source": []
  },
  {
   "cell_type": "code",
   "execution_count": null,
   "id": "c83ee1b6",
   "metadata": {
    "ExecuteTime": {
     "end_time": "2022-01-26T00:14:30.155045Z",
     "start_time": "2022-01-26T00:14:30.107095Z"
    },
    "hidden": true
   },
   "outputs": [],
   "source": [
    "# flag = 'update_w'\n",
    "# environ.fix_alpha\n",
    "# environ.free_w(opt['fix_BN'])\n",
    "\n",
    "flag = 'update_alpha'\n",
    "environ.fix_weights()\n",
    "environ.free_alpha()"
   ]
  },
  {
   "cell_type": "code",
   "execution_count": null,
   "id": "6e7996b7",
   "metadata": {
    "ExecuteTime": {
     "end_time": "2022-01-25T23:43:31.184285Z",
     "start_time": "2022-01-25T23:43:31.159229Z"
    },
    "hidden": true
   },
   "outputs": [],
   "source": [
    "environ.networks['mtl-net'].num_layers"
   ]
  },
  {
   "cell_type": "code",
   "execution_count": null,
   "id": "f436ee6a",
   "metadata": {
    "ExecuteTime": {
     "end_time": "2022-01-26T00:14:34.993711Z",
     "start_time": "2022-01-26T00:14:34.968623Z"
    },
    "hidden": true
   },
   "outputs": [],
   "source": [
    "print(f\"current_iters         : {current_iter}\")  \n",
    "print(f\"current_epochs           : {current_epoch}\") \n",
    "print(f\"train_total_epochs    : {train_total_epochs}\") \n",
    "\n",
    "train_total_epochs += 5\n",
    "\n",
    "print(f\"current_iters         : {current_iter}\")  \n",
    "print(f\"current_epochs           : {current_epoch}\") \n",
    "print(f\"train_total_epochs    : {train_total_epochs}\") "
   ]
  },
  {
   "cell_type": "code",
   "execution_count": null,
   "id": "5334a0b6",
   "metadata": {
    "ExecuteTime": {
     "end_time": "2022-01-25T17:15:02.216665Z",
     "start_time": "2022-01-25T17:15:01.848081Z"
    },
    "hidden": true
   },
   "outputs": [],
   "source": [
    "# print_metrics_cr(current_epoch, time.time() - t0, None, environ.val_metrics , num_prints)      \n",
    "\n",
    "# num_prints += 1\n",
    "# t0 = time.time()\n",
    "\n",
    "# # Take check point\n",
    "# environ.save_checkpoint('latest', current_iter)\n",
    "# environ.train()\n",
    "# #-------------------------------------------------------\n",
    "# # END validation process\n",
    "# #-------------------------------------------------------       \n",
    "# flag = 'update_alpha'\n",
    "# environ.fix_w()\n",
    "# environ.free_alpha()"
   ]
  },
  {
   "cell_type": "code",
   "execution_count": null,
   "id": "9d8c4f39",
   "metadata": {
    "ExecuteTime": {
     "end_time": "2022-01-08T01:08:57.366231Z",
     "start_time": "2022-01-08T01:08:57.295445Z"
    },
    "hidden": true
   },
   "outputs": [],
   "source": [
    "# dilation = 2\n",
    "# kernel_size = np.asarray((3, 3))\n",
    "# upsampled_kernel_size = (kernel_size - 1) * (dilation - 1) + kernel_size\n",
    "# print(upsampled_kernel_size)"
   ]
  },
  {
   "cell_type": "code",
   "execution_count": null,
   "id": "9500c390",
   "metadata": {
    "ExecuteTime": {
     "end_time": "2022-01-25T23:43:39.763599Z",
     "start_time": "2022-01-25T23:43:39.728402Z"
    },
    "hidden": true
   },
   "outputs": [],
   "source": [
    "# environ.optimizers['weights'].param_groups[0]\n",
    "# for param_group in optimizer.param_groups:\n",
    "#     return param_group['lr']"
   ]
  },
  {
   "cell_type": "code",
   "execution_count": null,
   "id": "5fb71bd6",
   "metadata": {
    "ExecuteTime": {
     "end_time": "2022-01-25T23:43:41.628847Z",
     "start_time": "2022-01-25T23:43:41.602238Z"
    },
    "hidden": true
   },
   "outputs": [],
   "source": [
    "environ.schedulers['weights'].get_last_lr()"
   ]
  },
  {
   "cell_type": "code",
   "execution_count": null,
   "id": "d7934862",
   "metadata": {
    "ExecuteTime": {
     "end_time": "2022-01-08T01:36:17.129535Z",
     "start_time": "2022-01-08T01:36:16.006144Z"
    },
    "hidden": true,
    "scrolled": true
   },
   "outputs": [],
   "source": [
    "current_state = {}\n",
    "for k, v in environ.optimizers.items():\n",
    "    print(f'state dict for {k} = {v}')\n",
    "    current_state[k] = v.state_dict()\n",
    "pp.pprint(current_state)"
   ]
  },
  {
   "cell_type": "code",
   "execution_count": null,
   "id": "d5faf7f1",
   "metadata": {
    "ExecuteTime": {
     "end_time": "2022-01-08T01:40:22.032247Z",
     "start_time": "2022-01-08T01:40:22.006953Z"
    },
    "hidden": true,
    "scrolled": true
   },
   "outputs": [],
   "source": [
    "current_state = {}\n",
    "for k, v in environ.schedulers.items():\n",
    "    print(f'state dict for {k} = {v}')\n",
    "    print(v.state_dict())"
   ]
  },
  {
   "cell_type": "markdown",
   "id": "dd497e72",
   "metadata": {
    "heading_collapsed": true,
    "hidden": true
   },
   "source": [
    "### Losses and Metrics"
   ]
  },
  {
   "cell_type": "code",
   "execution_count": null,
   "id": "66169a84",
   "metadata": {
    "ExecuteTime": {
     "end_time": "2022-02-09T16:34:44.555617Z",
     "start_time": "2022-02-09T16:34:44.507417Z"
    },
    "hidden": true
   },
   "outputs": [],
   "source": [
    "trn_losses = environ.losses"
   ]
  },
  {
   "cell_type": "code",
   "execution_count": null,
   "id": "60cb8234",
   "metadata": {
    "ExecuteTime": {
     "end_time": "2022-02-10T03:35:11.758429Z",
     "start_time": "2022-02-10T03:35:11.278211Z"
    },
    "hidden": true
   },
   "outputs": [],
   "source": [
    "print_metrics_cr(current_epoch, time.time() - start_time, trn_losses, environ.val_metrics , num_prints)      "
   ]
  },
  {
   "cell_type": "code",
   "execution_count": null,
   "id": "4ce0301f",
   "metadata": {
    "ExecuteTime": {
     "end_time": "2022-02-10T03:21:49.107793Z",
     "start_time": "2022-02-10T03:21:49.084484Z"
    },
    "hidden": true
   },
   "outputs": [],
   "source": [
    "# print_metrics_cr(current_epoch, time.time() - start_time, trn_losses, environ.val_metrics , num_prints)      "
   ]
  },
  {
   "cell_type": "code",
   "execution_count": null,
   "id": "a498b6ee",
   "metadata": {
    "ExecuteTime": {
     "end_time": "2022-02-10T03:20:32.866010Z",
     "start_time": "2022-02-10T03:20:32.442919Z"
    },
    "hidden": true
   },
   "outputs": [],
   "source": [
    "# pp.pprint(environ.losses)\n",
    "pp.pprint(trn_losses)"
   ]
  },
  {
   "cell_type": "code",
   "execution_count": null,
   "id": "5fe30724",
   "metadata": {
    "ExecuteTime": {
     "end_time": "2022-02-10T03:34:21.945701Z",
     "start_time": "2022-02-10T03:34:21.411234Z"
    },
    "hidden": true
   },
   "outputs": [],
   "source": [
    "pp.pprint(environ.val_metrics)"
   ]
  },
  {
   "cell_type": "code",
   "execution_count": null,
   "id": "a1d81167",
   "metadata": {
    "ExecuteTime": {
     "end_time": "2022-01-27T00:58:49.364883Z",
     "start_time": "2022-01-27T00:58:49.342931Z"
    },
    "hidden": true
   },
   "outputs": [],
   "source": [
    "# environ.opt['train']['Lambda_sharing'] = 0.5\n",
    "# opt['train']['Lambda_sharing'] = 0.5\n",
    "\n",
    "# environ.opt['train']['policy_lr'] = 0.001\n",
    "# opt['train']['policy_lr'] = 0.001"
   ]
  },
  {
   "cell_type": "code",
   "execution_count": null,
   "id": "2a73aa06",
   "metadata": {
    "ExecuteTime": {
     "end_time": "2022-01-26T01:00:41.996410Z",
     "start_time": "2022-01-26T01:00:41.559006Z"
    },
    "hidden": true
   },
   "outputs": [],
   "source": [
    "environ.losses.keys()\n",
    "pp.pprint(environ.losses)"
   ]
  },
  {
   "cell_type": "code",
   "execution_count": null,
   "id": "e06ece74",
   "metadata": {
    "ExecuteTime": {
     "end_time": "2022-01-08T01:19:43.683550Z",
     "start_time": "2022-01-08T01:19:43.571450Z"
    },
    "hidden": true
   },
   "outputs": [],
   "source": [
    "tmp = environ.get_loss_dict()\n",
    "print(tmp.keys())\n",
    "pp.pprint(tmp)"
   ]
  },
  {
   "cell_type": "code",
   "execution_count": null,
   "id": "00ac0256",
   "metadata": {
    "ExecuteTime": {
     "end_time": "2022-01-27T00:58:50.458223Z",
     "start_time": "2022-01-27T00:58:50.430889Z"
    },
    "hidden": true
   },
   "outputs": [],
   "source": [
    "print(opt['diff_sparsity_weights'])\n",
    "print(opt['is_sharing'])\n",
    "print(opt['diff_sparsity_weights'] and not opt['is_sharing'])\n",
    "print(environ.opt['train']['Lambda_sharing'])\n",
    "print(opt['train']['Lambda_sharing'])\n",
    "print(environ.opt['train']['Lambda_sparsity'])\n",
    "print(opt['train']['Lambda_sparsity'])\n",
    "print(environ.opt['train']['policy_lr'])\n",
    "print(opt['train']['policy_lr'])"
   ]
  },
  {
   "cell_type": "markdown",
   "id": "aae2d510",
   "metadata": {
    "heading_collapsed": true,
    "hidden": true
   },
   "source": [
    "### Policy / Logit stuff"
   ]
  },
  {
   "cell_type": "code",
   "execution_count": null,
   "id": "bb628497",
   "metadata": {
    "ExecuteTime": {
     "end_time": "2022-02-08T20:35:14.041577Z",
     "start_time": "2022-02-08T20:35:14.018303Z"
    },
    "hidden": true
   },
   "outputs": [],
   "source": [
    "from scipy.special          import softmax"
   ]
  },
  {
   "cell_type": "code",
   "execution_count": null,
   "id": "79eed454",
   "metadata": {
    "ExecuteTime": {
     "end_time": "2022-02-08T20:00:30.103364Z",
     "start_time": "2022-02-08T20:00:30.068021Z"
    },
    "hidden": true
   },
   "outputs": [],
   "source": [
    "np.set_printoptions(precision=8,edgeitems=3, infstr='inf', linewidth=150, nanstr='nan')\n",
    "torch.set_printoptions(precision=8,linewidth=132)"
   ]
  },
  {
   "cell_type": "markdown",
   "id": "df03b5cc",
   "metadata": {
    "heading_collapsed": true,
    "hidden": true
   },
   "source": [
    "#### `get_task_logits(n)` Get logits for task group n"
   ]
  },
  {
   "cell_type": "code",
   "execution_count": null,
   "id": "2aed8b9b",
   "metadata": {
    "ExecuteTime": {
     "end_time": "2022-02-08T20:56:35.652087Z",
     "start_time": "2022-02-08T20:56:35.327406Z"
    },
    "hidden": true
   },
   "outputs": [],
   "source": [
    "task_logits = environ.get_task_logits(1)\n",
    "print(task_logits)"
   ]
  },
  {
   "cell_type": "markdown",
   "id": "fb66fa5f",
   "metadata": {
    "hidden": true
   },
   "source": [
    "#### `get_arch_parameters()`: Get last used logits from network"
   ]
  },
  {
   "cell_type": "code",
   "execution_count": null,
   "id": "8a85521e",
   "metadata": {
    "ExecuteTime": {
     "end_time": "2022-02-08T20:00:31.101960Z",
     "start_time": "2022-02-08T20:00:30.757064Z"
    },
    "hidden": true,
    "scrolled": true
   },
   "outputs": [],
   "source": [
    "import torch.optim as optim\n",
    "arch_parameters      = environ.get_arch_parameters()\n",
    "print(arch_parameters)"
   ]
  },
  {
   "cell_type": "code",
   "execution_count": null,
   "id": "489b0bef",
   "metadata": {
    "ExecuteTime": {
     "end_time": "2022-02-09T15:43:06.054699Z",
     "start_time": "2022-02-09T15:43:05.689327Z"
    },
    "hidden": true,
    "scrolled": true
   },
   "outputs": [],
   "source": [
    "import torch.optim as optim\n",
    "arch_parameters      = environ.get_arch_parameters()\n",
    "print(arch_parameters)"
   ]
  },
  {
   "cell_type": "markdown",
   "id": "19ea1743",
   "metadata": {
    "hidden": true
   },
   "source": [
    "#### `get_policy_logits()`:  Get Policy Logits - returns same as `get_arch_parameters()`"
   ]
  },
  {
   "cell_type": "code",
   "execution_count": null,
   "id": "cdbb40c4",
   "metadata": {
    "ExecuteTime": {
     "end_time": "2022-02-09T15:43:24.972390Z",
     "start_time": "2022-02-09T15:43:24.636629Z"
    },
    "hidden": true,
    "scrolled": true
   },
   "outputs": [],
   "source": [
    "logs = environ.get_policy_logits()\n",
    "for i in logs:\n",
    "    print(i, '\\n')\n",
    "# probs = softmax(logs, axis= -1)\n",
    "# for i in probs:\n",
    "#     print(i, '\\n')"
   ]
  },
  {
   "cell_type": "markdown",
   "id": "6080a364",
   "metadata": {
    "hidden": true
   },
   "source": [
    "#### `get_policy_prob()` : Gets the softmax of the logits"
   ]
  },
  {
   "cell_type": "code",
   "execution_count": null,
   "id": "b59c75af",
   "metadata": {
    "ExecuteTime": {
     "end_time": "2022-02-09T15:43:29.733732Z",
     "start_time": "2022-02-09T15:43:29.699600Z"
    },
    "hidden": true,
    "scrolled": true
   },
   "outputs": [],
   "source": [
    "policy_softmaxs = environ.get_policy_prob()\n",
    "for i in policy_softmaxs:\n",
    "    print(i, '\\n')"
   ]
  },
  {
   "cell_type": "markdown",
   "id": "3c3160d9",
   "metadata": {
    "heading_collapsed": true,
    "hidden": true
   },
   "source": [
    "#### `get_sample_policy( hard_sampling = False)` : Calls test_sample_policy of network with random choices based on softmax of logits"
   ]
  },
  {
   "cell_type": "code",
   "execution_count": null,
   "id": "3f411444",
   "metadata": {
    "ExecuteTime": {
     "end_time": "2022-02-08T22:21:15.636722Z",
     "start_time": "2022-02-08T22:21:15.165456Z"
    },
    "hidden": true
   },
   "outputs": [],
   "source": [
    "policy_softmaxs = environ.get_policy_prob()\n",
    "policies,logits = environ.get_sample_policy(hard_sampling = False)\n",
    "\n",
    "for l, p, s in zip(logits, policies, policy_softmaxs) :\n",
    "    for  l_row, p_row, s_row in zip(l, p, s):\n",
    "        print( l_row,'\\t', p_row, '\\t', s_row)\n",
    "    print('\\n')"
   ]
  },
  {
   "cell_type": "markdown",
   "id": "802664ec",
   "metadata": {
    "heading_collapsed": true,
    "hidden": true
   },
   "source": [
    "#### `get_sample_policy( hard_sampling = True)` : Calls test_sample_policy of network using ARGMAX of logits"
   ]
  },
  {
   "cell_type": "code",
   "execution_count": null,
   "id": "dea65bf2",
   "metadata": {
    "ExecuteTime": {
     "end_time": "2022-02-08T20:59:40.790899Z",
     "start_time": "2022-02-08T20:59:40.726657Z"
    },
    "hidden": true
   },
   "outputs": [],
   "source": [
    "policy_softmaxs = environ.get_policy_prob()\n",
    "hard_policies, logits = environ.get_sample_policy(hard_sampling = True)\n",
    "\n",
    "for p,l,s in zip(hard_policies, logits, policy_softmaxs) :\n",
    "    for  p_row, l_row, s_row in zip(p, l, s):\n",
    "        print( l_row,'\\t', p_row, '\\t', s_row)\n",
    "    print('\\n')"
   ]
  },
  {
   "cell_type": "markdown",
   "id": "c63c39cf",
   "metadata": {
    "heading_collapsed": true,
    "hidden": true
   },
   "source": [
    "#### Print"
   ]
  },
  {
   "cell_type": "code",
   "execution_count": null,
   "id": "4c0fe096",
   "metadata": {
    "ExecuteTime": {
     "end_time": "2022-02-08T21:00:47.452220Z",
     "start_time": "2022-02-08T21:00:47.422902Z"
    },
    "hidden": true
   },
   "outputs": [],
   "source": [
    "print(f\" Layer    task 1      task 2      task 3\")\n",
    "print(f\" -----    ------      ------      ------\")\n",
    "for idx, (l1, l2, l3) in enumerate(zip(hard_policies[0], hard_policies[1], hard_policies[2]),1):\n",
    "    print(f\"   {idx}      {l1}       {l2}       {l3}\")\n",
    "    \n",
    "\n",
    "    print(f\"\\n\\n where [p1  p2]:  p1: layer is selected    p2: layer is not selected\")"
   ]
  },
  {
   "cell_type": "code",
   "execution_count": null,
   "id": "7ade0ac9",
   "metadata": {
    "ExecuteTime": {
     "end_time": "2022-02-08T22:39:39.936555Z",
     "start_time": "2022-02-08T22:39:39.911591Z"
    },
    "hidden": true
   },
   "outputs": [],
   "source": [
    "def display_trained_policy(iter):\n",
    "\n",
    "    policy_softmaxs = environ.get_policy_prob()\n",
    "    policy_argmaxs = 1-np.argmax(policy_softmaxs, axis = -1)\n",
    "    print(f\"  Trained polcies at iteration: {iter} \")\n",
    "    print(f\"                   task 1                           task 2                         task 3        \")\n",
    "    print(f\" Layer       softmax        select          softmax        select          softmax        select   \")\n",
    "    print(f\" -----    ---------------   ------       ---------------   ------       ---------------   ------   \")\n",
    "    for idx, (l1,l2,l3,  p1,p2,p3) in enumerate(zip(policy_softmaxs[0], policy_softmaxs[1], policy_softmaxs[2], policy_argmaxs[0], policy_argmaxs[1], policy_argmaxs[2]),1):\n",
    "        print(f\"   {idx}      {l1[0]:.4f}   {l1[1]:.4f}   {p1:4d}    {l2[0]:11.4f}   {l2[1]:.4f}   {p2:4d}    {l3[0]:11.4f}   {l3[1]:.4f}   {p3:4d}\")\n",
    "\n",
    "    print()\n",
    "# print(f\"\\n\\n where [p1  p2]:  p1: layer is selected    p2: layer is not selected\")"
   ]
  },
  {
   "cell_type": "code",
   "execution_count": null,
   "id": "ec208dd8",
   "metadata": {
    "ExecuteTime": {
     "end_time": "2022-02-08T22:42:12.650813Z",
     "start_time": "2022-02-08T22:42:12.330169Z"
    },
    "hidden": true
   },
   "outputs": [],
   "source": [
    "display_trained_policy(5)"
   ]
  },
  {
   "cell_type": "code",
   "execution_count": null,
   "id": "eec517e9",
   "metadata": {
    "ExecuteTime": {
     "end_time": "2022-02-08T22:07:30.836214Z",
     "start_time": "2022-02-08T22:07:30.804575Z"
    },
    "hidden": true
   },
   "outputs": [],
   "source": [
    "print(f\"                        POLICIES (SOFTMAX)                                       task 3          \")\n",
    "print(f\" Layer    task1              task2            task3 softmax         softmax         argmax         softmax         argmax   \")\n",
    "print(f\" -----    -------------     -------------     -------------   ------   \")\n",
    "for idx, (l1,l2,l3, h1,h2,h3) in enumerate(zip(policy_softmaxs[0], policy_softmaxs[1], policy_softmaxs[2],hard_policies[0], hard_policies[1], hard_policies[2]),1):\n",
    "    print(f\"   {idx}      {l1[0]:.4f} {l1[1]:.4f}     {l2[0]:.4f} {l2[1]:.4f}     {l3[0]:.4f} {l3[1]:.4f}    {h3}\")\n",
    "    \n",
    "print(f\"\\n\\n where [p1  p2]:  p1: layer is selected    p2: layer is not selected\")"
   ]
  },
  {
   "cell_type": "code",
   "execution_count": null,
   "id": "8bbeacb4",
   "metadata": {
    "ExecuteTime": {
     "end_time": "2022-02-08T22:04:50.757406Z",
     "start_time": "2022-02-08T22:04:50.731736Z"
    },
    "hidden": true
   },
   "outputs": [],
   "source": [
    "# print(policy_softmaxs[2], np.argmax(1-policy_softmaxs[2], axis = -1))\n",
    "print(policy_softmaxs, np.argmax(policy_softmaxs, axis = -1))"
   ]
  },
  {
   "cell_type": "markdown",
   "id": "c4be0240",
   "metadata": {
    "heading_collapsed": true,
    "hidden": true
   },
   "source": [
    "#### `get_current_logits()` : Calls test_sample_policy of network using ARGMAX of logits"
   ]
  },
  {
   "cell_type": "code",
   "execution_count": null,
   "id": "cfdb7240",
   "metadata": {
    "ExecuteTime": {
     "end_time": "2022-02-08T21:19:06.155425Z",
     "start_time": "2022-02-08T21:19:06.118640Z"
    },
    "hidden": true,
    "scrolled": true
   },
   "outputs": [],
   "source": [
    "logits  = (environ.get_current_logits())\n",
    "for i in logits:\n",
    "    print(i ,'\\n')"
   ]
  },
  {
   "cell_type": "markdown",
   "id": "13e84662",
   "metadata": {
    "heading_collapsed": true,
    "hidden": true
   },
   "source": [
    "#### `get_current_policy()` : Calls test_sample_policy of network using ARGMAX of logits"
   ]
  },
  {
   "cell_type": "code",
   "execution_count": null,
   "id": "548cfa24",
   "metadata": {
    "ExecuteTime": {
     "end_time": "2022-02-08T20:40:06.543376Z",
     "start_time": "2022-02-08T20:40:06.230711Z"
    },
    "hidden": true,
    "scrolled": true
   },
   "outputs": [],
   "source": [
    "pols  = (environ.get_current_policy())\n",
    "\n",
    "for i in pols:\n",
    "    print(i ,'\\n')"
   ]
  },
  {
   "cell_type": "code",
   "execution_count": null,
   "id": "77f556a8",
   "metadata": {
    "ExecuteTime": {
     "end_time": "2022-01-27T18:27:33.593255Z",
     "start_time": "2022-01-27T18:27:33.553141Z"
    },
    "hidden": true
   },
   "outputs": [],
   "source": [
    " "
   ]
  },
  {
   "cell_type": "markdown",
   "id": "a792710e",
   "metadata": {
    "hidden": true
   },
   "source": [
    "#### `gumbel_softmax()`  "
   ]
  },
  {
   "cell_type": "code",
   "execution_count": null,
   "id": "7265490e",
   "metadata": {
    "ExecuteTime": {
     "end_time": "2022-02-08T21:28:17.107529Z",
     "start_time": "2022-02-08T21:28:17.084910Z"
    },
    "hidden": true
   },
   "outputs": [],
   "source": [
    "np.set_printoptions(precision=8,edgeitems=3, infstr='inf', linewidth=150, nanstr='nan', floatmode = 'maxprec_equal')\n",
    "torch.set_printoptions(precision=8,linewidth=132)"
   ]
  },
  {
   "cell_type": "code",
   "execution_count": null,
   "id": "3dcb0087",
   "metadata": {
    "ExecuteTime": {
     "end_time": "2022-02-08T21:35:11.617269Z",
     "start_time": "2022-02-08T21:35:11.569599Z"
    },
    "hidden": true
   },
   "outputs": [],
   "source": [
    "print(environ.temp)\n",
    "# tau = environ.temp\n",
    "tau = 1\n",
    "for i in range(3): \n",
    "    logits_tensor = torch.tensor(logits[0])\n",
    "    # Sample soft categorical using reparametrization trick:\n",
    "    gumbel_soft = F.gumbel_softmax(logits_tensor, tau=tau, hard=False).cpu().numpy() \n",
    "\n",
    "    # Sample hard categorical using \"Straight-through\" trick:\n",
    "    gumbel_hard  = F.gumbel_softmax(logits_tensor, tau=tau, hard=True).cpu().numpy()\n",
    "    \n",
    "    for l, gs, gh in zip(lgts, gumbel_soft, gumbel_hard):\n",
    "        print(f\"   {l}   \\t {gs}            \\t {gh}\")\n",
    "#     print(lgts)\n",
    "#     print(gumbel_soft)\n",
    "#     print(gumbel_hard)\n",
    "    print()"
   ]
  },
  {
   "cell_type": "code",
   "execution_count": null,
   "id": "f3d5ef7f",
   "metadata": {
    "hidden": true
   },
   "outputs": [],
   "source": []
  },
  {
   "cell_type": "code",
   "execution_count": null,
   "id": "4b0e0e84",
   "metadata": {
    "ExecuteTime": {
     "end_time": "2022-02-08T21:21:35.524957Z",
     "start_time": "2022-02-08T21:21:35.488812Z"
    },
    "hidden": true
   },
   "outputs": [],
   "source": [
    "for lgts in logits:\n",
    "    logits_tensor = torch.tensor(lgts)\n",
    "    print(lgts)\n",
    "    # Sample soft categorical using reparametrization trick:\n",
    "    gumbel_soft = F.gumbel_softmax(logits_tensor, tau=1, hard=False)\n",
    "    print(gumbel_soft)\n",
    "\n",
    "    # Sample hard categorical using \"Straight-through\" trick:\n",
    "    gumbel_hard  = F.gumbel_softmax(logits_tensor, tau=1, hard=True)\n",
    "    print(gumbel_hard)\n",
    "    print()"
   ]
  },
  {
   "cell_type": "code",
   "execution_count": null,
   "id": "fe34a06a",
   "metadata": {
    "ExecuteTime": {
     "end_time": "2022-02-03T20:49:37.643349Z",
     "start_time": "2022-02-03T20:49:37.580786Z"
    },
    "hidden": true
   },
   "outputs": [],
   "source": [
    "smax = scipy.special.softmax(logs, axis =1)\n",
    "# smax = np.array( \n",
    "# [[0.46973792, 0.530262  ],\n",
    "#  [0.45025694, 0.549743  ],\n",
    "#  [0.4443086 , 0.5556915 ],\n",
    "#  [0.4138397 , 0.58616036],\n",
    "#  [0.4140113 , 0.5859887 ],\n",
    "#  [0.42114905, 0.57885087]])\n",
    "\n",
    "print(smax.shape)\n",
    "print(smax)\n",
    "print(smax[0])\n",
    "print(smax[0].sum())\n",
    "print(np.random.choice((1,0), p =smax[0]))"
   ]
  },
  {
   "cell_type": "code",
   "execution_count": null,
   "id": "7e7de25c",
   "metadata": {
    "ExecuteTime": {
     "end_time": "2022-02-08T21:15:19.893888Z",
     "start_time": "2022-02-08T21:15:19.870899Z"
    },
    "hidden": true
   },
   "outputs": [],
   "source": [
    "logs = np.array(\n",
    "[[0.33064184, 0.42053092],\n",
    " [0.3532089 , 0.52056104],\n",
    " [0.3888512 , 0.5680909 ],\n",
    " [0.42039296, 0.694217  ],\n",
    " [0.4519742 , 0.73311865],\n",
    " [0.48401102, 0.7522658 ]],\n",
    ")"
   ]
  }
 ],
 "metadata": {
  "kernelspec": {
   "display_name": "Python [conda env:pyt-gpu]",
   "language": "python",
   "name": "conda-env-pyt-gpu-py"
  },
  "language_info": {
   "codemirror_mode": {
    "name": "ipython",
    "version": 3
   },
   "file_extension": ".py",
   "mimetype": "text/x-python",
   "name": "python",
   "nbconvert_exporter": "python",
   "pygments_lexer": "ipython3",
   "version": "3.9.5"
  },
  "toc": {
   "base_numbering": 1,
   "nav_menu": {},
   "number_sections": true,
   "sideBar": true,
   "skip_h1_title": false,
   "title_cell": "Table of Contents",
   "title_sidebar": "Contents",
   "toc_cell": false,
   "toc_position": {
    "height": "calc(100% - 180px)",
    "left": "10px",
    "top": "150px",
    "width": "399px"
   },
   "toc_section_display": true,
   "toc_window_display": false
  }
 },
 "nbformat": 4,
 "nbformat_minor": 5
}
