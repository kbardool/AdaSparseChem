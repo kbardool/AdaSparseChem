{
 "cells": [
  {
   "cell_type": "markdown",
   "id": "408f1261",
   "metadata": {},
   "source": [
    "## Initialization  "
   ]
  },
  {
   "cell_type": "code",
   "execution_count": 1,
   "id": "6d574cdc",
   "metadata": {
    "ExecuteTime": {
     "end_time": "2022-03-31T15:53:20.391637Z",
     "start_time": "2022-03-31T15:53:18.431406Z"
    },
    "execution": {
     "iopub.execute_input": "2022-01-07T22:44:08.233990Z",
     "iopub.status.busy": "2022-01-07T22:44:08.233053Z",
     "iopub.status.idle": "2022-01-07T22:44:08.273284Z",
     "shell.execute_reply": "2022-01-07T22:44:08.271908Z",
     "shell.execute_reply.started": "2022-01-07T22:44:08.233943Z"
    },
    "scrolled": false,
    "tags": []
   },
   "outputs": [],
   "source": [
    "%load_ext autoreload\n",
    "%autoreload 2\n",
    "import os \n",
    "import sys\n",
    "sys.path.insert(0, './src')\n",
    "import time\n",
    "import argparse\n",
    "import yaml\n",
    "import types\n",
    "import copy, pprint\n",
    "from time import sleep\n",
    "from datetime import datetime\n",
    "import numpy  as np\n",
    "import torch  \n",
    "import wandb\n",
    "import pandas as pd\n",
    "from utils.notebook_modules import initialize, init_dataloaders, init_environment, init_wandb, \\\n",
    "                                   training_prep, disp_dataloader_info,disp_info_1, \\\n",
    "                                   warmup_phase, weight_policy_training, disp_gpu_info\n",
    "\n",
    "from utils.util import (print_separator, print_heading, timestring, print_loss, load_from_pickle) #, print_underline, \n",
    "#                       print_dbg, get_command_line_args ) \n",
    "\n",
    "pp = pprint.PrettyPrinter(indent=4)\n",
    "np.set_printoptions(edgeitems=3, infstr='inf', linewidth=150, nanstr='nan')\n",
    "torch.set_printoptions(precision=6, linewidth=132)\n",
    "pd.options.display.width = 132\n",
    "# torch.set_printoptions(precision=None, threshold=None, edgeitems=None, linewidth=None, profile=None, sci_mode=None)\n",
    "# sys.path.insert(0, '/home/kbardool/kusanagi/AdaSparseChem/src')\n",
    "# print(sys.path)\n",
    "# disp_gpu_info() \n",
    "os.environ[\"WANDB_NOTEBOOK_NAME\"] = \"Adashare_Training.ipynb\"\n"
   ]
  },
  {
   "cell_type": "markdown",
   "id": "1b33ac6e",
   "metadata": {},
   "source": [
    "## Create Environment"
   ]
  },
  {
   "cell_type": "markdown",
   "id": "ee652c57",
   "metadata": {},
   "source": [
    "### Parse Input Args  - Read YAML config file"
   ]
  },
  {
   "cell_type": "code",
   "execution_count": 2,
   "id": "a42bb98b",
   "metadata": {
    "ExecuteTime": {
     "end_time": "2022-03-31T15:53:20.434839Z",
     "start_time": "2022-03-31T15:53:20.396211Z"
    }
   },
   "outputs": [],
   "source": [
    "# RESUME_MODEL_CKPT = 'model_train_ep_25_seed_0088'\n",
    "\n",
    "## For RESTARTING\n",
    "##\n",
    "# input_args = \" --config yamls/chembl_3task_train.yaml \" \\\n",
    "#              \" --resume \" \\\n",
    "#              \" --exp_id      330i85cg\" \\\n",
    "#              \" --exp_name    0308_1204\" \\\n",
    "#              \" --exp_desc    Train with dropout 0.5\" \\\n",
    "#              \" --seed_idx    0 \"\\\n",
    "#              \" --batch_size  128\" \\\n",
    "#              \" --lambda_sparsity  0.01\"\\\n",
    "#              \" --lambda_sharing   0.01\" \n",
    "## get command line arguments"
   ]
  },
  {
   "cell_type": "code",
   "execution_count": 3,
   "id": "cd3a7f00",
   "metadata": {
    "ExecuteTime": {
     "end_time": "2022-03-31T15:53:20.467629Z",
     "start_time": "2022-03-31T15:53:20.438748Z"
    },
    "execution": {
     "iopub.execute_input": "2022-01-07T22:44:13.145647Z",
     "iopub.status.busy": "2022-01-07T22:44:13.145313Z",
     "iopub.status.idle": "2022-01-07T22:44:13.193262Z",
     "shell.execute_reply": "2022-01-07T22:44:13.192140Z",
     "shell.execute_reply.started": "2022-01-07T22:44:13.145622Z"
    }
   },
   "outputs": [],
   "source": [
    "##  For Initiating \n",
    "##\n",
    "input_args = \" --config yamls/chembl_3task_train.yaml \" \\\n",
    "             \" --exp_desc    6 lyrs,dropout 0.5, weight 105 bch/ep policy 105 bch/ep \" \\\n",
    "             \" --warmup_epochs       150 \" \\\n",
    "             \" --hidden_size         400 400 400 400 \" \\\n",
    "             \" --tail_hidden_size    400\" \\\n",
    "             \" --seed_idx             0\" \\\n",
    "             \" --batch_size         128\" \\\n",
    "             \" --task_lr          0.001\" \\\n",
    "             \" --backbone_lr      0.001\" \\\n",
    "             \" --policy_lr        0.001\" \\\n",
    "             \" --lambda_sparsity   0.02\" \\\n",
    "             \" --lambda_sharing    0.01\" \\\n",
    "               \" --folder_sfx    noplcy\"                       \n",
    "#              \" --hidden_size   100 100 100 100 100 100\" \\\n",
    "#              \" --tail_hidden_size  100 \" \\\n"
   ]
  },
  {
   "cell_type": "code",
   "execution_count": 4,
   "id": "dbc14177",
   "metadata": {
    "ExecuteTime": {
     "end_time": "2022-03-31T15:53:21.481731Z",
     "start_time": "2022-03-31T15:53:20.474281Z"
    },
    "scrolled": false
   },
   "outputs": [
    {
     "name": "stdout",
     "output_type": "stream",
     "text": [
      "\n",
      "  command line parms : \n",
      "------------------------\n",
      " config...................  yamls/chembl_3task_train.yaml\n",
      " exp_id...................  None\n",
      " exp_name.................  None\n",
      " folder_sfx...............  noplcy\n",
      " exp_desc.................  6 lyrs,dropout 0.5, weight 105 bch/ep policy 105 bch/ep\n",
      " hidden_sizes.............  [400, 200, 100, 50]\n",
      " tail_hidden_size.........  50\n",
      " warmup_epochs............  150\n",
      " training_epochs..........  None\n",
      " seed_idx.................  0\n",
      " batch_size...............  128\n",
      " backbone_lr..............  0.001\n",
      " task_lr..................  0.001\n",
      " policy_lr................  0.001\n",
      " decay_lr_rate............  None\n",
      " decay_lr_freq............  None\n",
      " lambda_sparsity..........  0.02\n",
      " lambda_sharing...........  0.01\n",
      " gpu_ids..................  [0]\n",
      " resume...................  False\n",
      " cpu......................  False\n",
      "\n",
      "\n",
      "\n",
      "##################################################\n",
      "################### READ YAML ####################\n",
      "##################################################\n",
      "\n",
      "\n",
      " log_dir              create folder:  ../experiments/AdaSparseChem/400x4_0331_1753_plr0.001_sp0.02_sh0.01_lr0.001_noplcy\n",
      " result_dir           folder exists:  ../experiments/AdaSparseChem/400x4_0331_1753_plr0.001_sp0.02_sh0.01_lr0.001_noplcy\n",
      " checkpoint_dir       folder exists:  ../experiments/AdaSparseChem/400x4_0331_1753_plr0.001_sp0.02_sh0.01_lr0.001_noplcy\n",
      "\n",
      "------------------------------------------------------------------------------------------------------------------------\n",
      " experiment name       : 0331_1753_noplcy \n",
      " experiment id         : 1k5h1bvn \n",
      " folder_name           : 400x4_0331_1753_plr0.001_sp0.02_sh0.01_lr0.001_noplcy \n",
      " experiment description: 6 lyrs,dropout 0.5, weight 105 bch/ep policy 105 bch/ep\n",
      " Random seeds          : [88, 45, 50, 100, 44, 48, 2048, 2222, 9999]\n",
      " Random  seed used     : 88 \n",
      " log folder            : ../experiments/AdaSparseChem/400x4_0331_1753_plr0.001_sp0.02_sh0.01_lr0.001_noplcy\n",
      " checkpoint folder     : ../experiments/AdaSparseChem/400x4_0331_1753_plr0.001_sp0.02_sh0.01_lr0.001_noplcy\n",
      " Gpu ids               : [0]\n",
      " Seed index            : 0\n",
      " policy_iter           : best\n",
      " Data Split ratios     : [0.725, 0.225, 0.05]\n",
      "------------------------------------------------------------------------------------------------------------------------ \n",
      "\n",
      "        project_name : AdaSparseChem\n",
      "              exp_id : 1k5h1bvn\n",
      "            exp_name : 0331_1753_noplcy\n",
      "          exp_folder : 400x4_0331_1753_plr0.001_sp0.02_sh0.01_lr0.001_noplcy\n",
      "     exp_description : 6 lyrs,dropout 0.5, weight 105 bch/ep policy 105 bch/ep\n",
      "          folder_sfx : noplcy\n",
      "         random_seed : 88\n",
      "           seed_list : [88, 45, 50, 100, 44, 48, 2048, 2222, 9999]\n",
      "                 cpu : False\n",
      "             gpu_ids : [0]\n",
      "            backbone : SparseChem\n",
      "               tasks : ['class', 'class', 'class']\n",
      "     tasks_num_class : [5, 5, 5]\n",
      "             lambdas : [1, 1, 1]\n",
      "        policy_model : task-specific\n",
      "             verbose : False\n",
      "       backbone_orig : ResNet18\n",
      "          tasks_orig : ['seg', 'sn']\n",
      "     input_size_freq : None\n",
      "          input_size : 32000\n",
      " first_non_linearity : relu\n",
      "middle_non_linearity : relu\n",
      "  last_non_linearity : relu\n",
      "      middle_dropout : 0.5\n",
      "        last_dropout : 0.5\n",
      "   class_output_size : None\n",
      "    regr_output_size : None\n",
      "              policy : True\n",
      "           is_sparse : True\n",
      "          is_sharing : True\n",
      "diff_sparsity_weights : False\n",
      "          skip_layer : 0\n",
      "       is_curriculum : False\n",
      "    curriculum_speed : 3\n",
      "              fix_BN : False\n",
      "     retrain_from_pl : False\n",
      "\n",
      "train\n",
      "-----\n",
      "          batch_size : 128\n",
      "       warmup_epochs : 150\n",
      "     training_epochs : 250\n",
      "         total_iters : 25000\n",
      "       warm_up_iters : None\n",
      "             task_lr : 0.001\n",
      "         backbone_lr : 0.001\n",
      "       decay_lr_rate : 0.75\n",
      "       decay_lr_freq : 40\n",
      "policy_decay_lr_rate : 0.75\n",
      "policy_decay_lr_freq : 50\n",
      "           policy_lr : 0.001\n",
      "     lambda_sparsity : 0.02\n",
      "      lambda_sharing : 0.01\n",
      "        lambda_tasks : 1\n",
      "         init_method : random\n",
      "           init_temp : 4\n",
      "          decay_temp : 0.965\n",
      "     decay_temp_freq : 16\n",
      "     init_neg_logits : None\n",
      "       hard_sampling : False\n",
      "            val_freq : 500\n",
      "          print_freq : -1\n",
      "           val_iters : -1\n",
      "              resume : False\n",
      "      retrain_resume : False\n",
      "         policy_iter : best\n",
      "          which_iter : warmup\n",
      "\n",
      "paths\n",
      "-----\n",
      "             log_dir : ../experiments/AdaSparseChem/400x4_0331_1753_plr0.001_sp0.02_sh0.01_lr0.001_noplcy\n",
      "          result_dir : ../experiments/AdaSparseChem/400x4_0331_1753_plr0.001_sp0.02_sh0.01_lr0.001_noplcy\n",
      "      checkpoint_dir : ../experiments/AdaSparseChem/400x4_0331_1753_plr0.001_sp0.02_sh0.01_lr0.001_noplcy\n",
      "\n",
      "dataload\n",
      "--------\n",
      "             dataset : Chembl_23_mini\n",
      "            dataroot : /home/kbardool/kusanagi/MLDatasets/chembl_23mini_synthetic\n",
      "                   x : chembl_23mini_x.npy\n",
      "      x_split_ratios : [0.725, 0.225, 0.05]\n",
      "             folding : chembl_23mini_folds.npy\n",
      "         fold_inputs : 32000\n",
      "     input_transform : None\n",
      "             y_tasks : ['chembl_23mini_adashare_y1_bin_sparse.npy', 'chembl_23mini_adashare_y2_bin_sparse.npy', 'chembl_23mini_adashare_y3_bin_sparse.npy']\n",
      "            y_censor : None\n",
      "       weights_class : None\n",
      "              crop_h : 321\n",
      "              crop_w : 321\n",
      "   min_samples_class : 5\n",
      "             fold_va : 0\n",
      "             fold_te : None\n",
      "\n",
      "SC\n",
      "--\n",
      "      normalize_loss : None\n",
      "        hidden_sizes : [400, 200, 100, 50]\n",
      "    tail_hidden_size : 50\n",
      "        exp_name_pfx : 0331_1753\n"
     ]
    }
   ],
   "source": [
    "opt, ns = initialize(input_args, build_folders = True)"
   ]
  },
  {
   "cell_type": "markdown",
   "id": "8f2bfa8d",
   "metadata": {},
   "source": [
    "### Setup Dataloader and Model  "
   ]
  },
  {
   "cell_type": "code",
   "execution_count": 5,
   "id": "c631eb67",
   "metadata": {
    "ExecuteTime": {
     "end_time": "2022-03-31T15:53:22.338070Z",
     "start_time": "2022-03-31T15:53:21.485354Z"
    },
    "execution": {
     "iopub.execute_input": "2022-01-07T22:44:16.229028Z",
     "iopub.status.busy": "2022-01-07T22:44:16.227544Z",
     "iopub.status.idle": "2022-01-07T22:44:16.659397Z",
     "shell.execute_reply": "2022-01-07T22:44:16.658348Z",
     "shell.execute_reply.started": "2022-01-07T22:44:16.228966Z"
    }
   },
   "outputs": [
    {
     "name": "stdout",
     "output_type": "stream",
     "text": [
      "##################################################\n",
      "############### CREATE DATALOADERS ###############\n",
      "##################################################\n",
      "\n",
      " trainset.y_class                                   :  [(13331, 5), (13331, 5), (13331, 5)] \n",
      " trainset1.y_class                                  :  [(13331, 5), (13331, 5), (13331, 5)] \n",
      " trainset2.y_class                                  :  [(13331, 5), (13331, 5), (13331, 5)] \n",
      " valset.y_class                                     :  [(4137, 5), (4137, 5), (4137, 5)]  \n",
      " testset.y_class                                    :  [(920, 5), (920, 5), (920, 5)]  \n",
      "                                 \n",
      " size of training set 0 (warm up)                   :  13331 \n",
      " size of training set 1 (network parms)             :  13331 \n",
      " size of training set 2 (policy weights)            :  13331 \n",
      " size of validation set                             :  4137 \n",
      " size of test set                                   :  920 \n",
      "                               Total                :  45050 \n",
      "                                 \n",
      " lenght (# batches) in training 0 (warm up)         :  105 \n",
      " lenght (# batches) in training 1 (network parms)   :  105 \n",
      " lenght (# batches) in training 2 (policy weights)  :  105 \n",
      " lenght (# batches) in validation dataset           :  33 \n",
      " lenght (# batches) in test dataset                 :  29 \n",
      "                                \n",
      "##################################################\n",
      "############# CREATE THE ENVIRONMENT #############\n",
      "##################################################\n",
      " device is  cuda:0\n",
      "--------------------------------------------------------\n",
      "* SparseChemEnv_Dev environment successfully created\n",
      "-------------------------------------------------------- \n",
      "\n"
     ]
    }
   ],
   "source": [
    "dldrs = init_dataloaders(opt)\n",
    "\n",
    "disp_dataloader_info(dldrs)\n",
    "\n",
    "environ = init_environment(ns, opt, is_train = True, policy_learning = False, display_cfg = False)\n",
    "\n",
    "# ********************************************************************\n",
    "# **************** define optimizer and schedulers *******************\n",
    "# ********************************************************************                                \n",
    "environ.define_optimizer(policy_learning=False)\n",
    "environ.define_scheduler(policy_learning=False)\n"
   ]
  },
  {
   "cell_type": "code",
   "execution_count": 6,
   "id": "677fa3f4",
   "metadata": {
    "ExecuteTime": {
     "end_time": "2022-03-31T15:53:22.423082Z",
     "start_time": "2022-03-31T15:53:22.344217Z"
    }
   },
   "outputs": [],
   "source": [
    "# environ.optimizers['weights'].param_groups[0]"
   ]
  },
  {
   "cell_type": "markdown",
   "id": "320fdeee",
   "metadata": {},
   "source": [
    "###  Weights and Biases Initialization "
   ]
  },
  {
   "cell_type": "code",
   "execution_count": 7,
   "id": "03c2469c",
   "metadata": {
    "ExecuteTime": {
     "end_time": "2022-03-31T15:53:27.894792Z",
     "start_time": "2022-03-31T15:53:22.426942Z"
    }
   },
   "outputs": [
    {
     "name": "stdout",
     "output_type": "stream",
     "text": [
      "1k5h1bvn 0331_1753_noplcy AdaSparseChem\n"
     ]
    },
    {
     "name": "stderr",
     "output_type": "stream",
     "text": [
      "\u001b[34m\u001b[1mwandb\u001b[0m: Currently logged in as: \u001b[33mkbardool\u001b[0m (use `wandb login --relogin` to force relogin)\n"
     ]
    },
    {
     "data": {
      "text/html": [
       "Tracking run with wandb version 0.12.11"
      ],
      "text/plain": [
       "<IPython.core.display.HTML object>"
      ]
     },
     "metadata": {},
     "output_type": "display_data"
    },
    {
     "data": {
      "text/html": [
       "Run data is saved locally in <code>/home/kbardool/kusanagi/AdaSparseChem/wandb/run-20220331_175322-1k5h1bvn</code>"
      ],
      "text/plain": [
       "<IPython.core.display.HTML object>"
      ]
     },
     "metadata": {},
     "output_type": "display_data"
    },
    {
     "data": {
      "text/html": [
       "Syncing run <strong><a href=\"http://localhost:8080/kbardool/AdaSparseChem/runs/1k5h1bvn\" target=\"_blank\">0331_1753_noplcy</a></strong> to <a href=\"http://localhost:8080/kbardool/AdaSparseChem\" target=\"_blank\">Weights & Biases</a> (<a href=\"https://wandb.me/run\" target=\"_blank\">docs</a>)<br/>"
      ],
      "text/plain": [
       "<IPython.core.display.HTML object>"
      ]
     },
     "metadata": {},
     "output_type": "display_data"
    },
    {
     "name": "stdout",
     "output_type": "stream",
     "text": [
      " PROJECT NAME: AdaSparseChem\n",
      " RUN ID      : 1k5h1bvn \n",
      " RUN NAME    : 0331_1753_noplcy\n",
      " PROJECT NAME: AdaSparseChem\n",
      " RUN ID      : 1k5h1bvn \n",
      " RUN NAME    : 0331_1753_noplcy\n"
     ]
    }
   ],
   "source": [
    "init_wandb(ns, opt, environment = environ)\n",
    "\n",
    "print(f\" PROJECT NAME: {ns.wandb_run.project}\\n\"\n",
    "      f\" RUN ID      : {ns.wandb_run.id} \\n\"\n",
    "      f\" RUN NAME    : {ns.wandb_run.name}\") "
   ]
  },
  {
   "cell_type": "code",
   "execution_count": 8,
   "id": "d949180d",
   "metadata": {
    "ExecuteTime": {
     "end_time": "2022-03-31T15:53:27.985073Z",
     "start_time": "2022-03-31T15:53:27.899861Z"
    }
   },
   "outputs": [],
   "source": [
    "# ns.wandb_run.finish()"
   ]
  },
  {
   "cell_type": "markdown",
   "id": "1d738062",
   "metadata": {},
   "source": [
    "### Initiate / Resume Training Prep"
   ]
  },
  {
   "cell_type": "code",
   "execution_count": 9,
   "id": "7bd2a36e",
   "metadata": {
    "ExecuteTime": {
     "end_time": "2022-03-31T15:53:28.058221Z",
     "start_time": "2022-03-31T15:53:27.989236Z"
    }
   },
   "outputs": [
    {
     "name": "stdout",
     "output_type": "stream",
     "text": [
      "##################################################\n",
      "############### Initiate Training  ###############\n",
      "##################################################\n"
     ]
    }
   ],
   "source": [
    "if opt['train']['resume']:\n",
    "    RESUME_MODEL_CKPT = \"\"\n",
    "    RESUME_METRICS_CKPT = \"\"    \n",
    "    print(opt['train']['which_iter'])\n",
    "    print(opt['paths']['checkpoint_dir'])\n",
    "    print(RESUME_MODEL_CKPT)\n",
    "    # opt['train']['resume'] = True\n",
    "    # opt['train']['which_iter'] = 'warmup_ep_40_seed_0088'\n",
    "    print_separator('Resume training')\n",
    "    loaded_iter, loaded_epoch = environ.load_checkpoint(RESUME_MODEL_CKPT, path = opt['paths']['checkpoint_dir'], verbose = True)\n",
    "    print(loaded_iter, loaded_epoch)    \n",
    "#     current_iter = environ.load_checkpoint(opt['train']['which_iter'])\n",
    "    environ.networks['mtl-net'].reset_logits()\n",
    "    val_metrics = load_from_pickle(opt['paths']['checkpoint_dir'], RESUME_METRICS_CKPT)\n",
    "    # training_prep(ns, opt, environ, dldrs, epoch = loaded_epoch, iter = loaded_iter )\n",
    "\n",
    "else:\n",
    "    print_separator('Initiate Training ')"
   ]
  },
  {
   "cell_type": "markdown",
   "id": "f9f7774f",
   "metadata": {},
   "source": [
    "### Training Preparation"
   ]
  },
  {
   "cell_type": "code",
   "execution_count": 10,
   "id": "e8b6afdc",
   "metadata": {
    "ExecuteTime": {
     "end_time": "2022-03-31T15:53:28.187524Z",
     "start_time": "2022-03-31T15:53:28.062629Z"
    }
   },
   "outputs": [
    {
     "name": "stdout",
     "output_type": "stream",
     "text": [
      " cuda available [0]\n",
      " set print_freq to length of train loader: 105\n",
      " set eval_iters to length of val loader  : 33\n",
      "--------------------------------------------------------------------------------\n",
      "\n",
      " Num_blocks                : 4                                \n",
      "\n",
      " batch size                : 128 \n",
      " batches/ Weight trn epoch : 105 \n",
      " batches/ Policy trn epoch : 105                                 \n",
      "\n",
      " Print Frequency           : -1 \n",
      " Config Val Frequency      : 500 \n",
      " Config Val Iterations     : -1 \n",
      " Val iterations            : 33 \n",
      " which_iter                : warmup \n",
      " train_resume              : False                                 \n",
      " \n",
      " fix BN parms              : False \n",
      " Task LR                   : 0.001 \n",
      " Backbone LR               : 0.001                                 \n",
      "\n",
      " Sharing  regularization   : 0.01 \n",
      " Sparsity regularization   : 0.02 \n",
      " Task     regularization   : 1                                 \n",
      "\n",
      " Current epoch             : 0  \n",
      " Warm-up epochs            : 150 \n",
      " Training epochs           : 250\n",
      "--------------------------------------------------------------------------------\n",
      "\n",
      "    folder: 400x4_0331_1753_plr0.001_sp0.02_sh0.01_lr0.001_noplcy\n",
      "    layers: 4 [400, 200, 100, 50] \n",
      "    \n",
      "    middle dropout         : 0.5\n",
      "    last dropout           : 0.5\n",
      "    diff_sparsity_weights  : False\n",
      "    skip_layer             : 0\n",
      "    is_curriculum          : False\n",
      "    curriculum_speed       : 3\n",
      "    \n",
      "    task_lr                : 0.001\n",
      "    backbone_lr            : 0.001\n",
      "    decay_lr_rate          : 0.75\n",
      "    decay_lr_freq          : 40\n",
      "    \n",
      "    policy_lr              : 0.001\n",
      "    policy_decay_lr_rate   : 0.75\n",
      "    policy_decay_lr_freq   : 50\n",
      "    lambda_sparsity        : 0.02\n",
      "    lambda_sharing         : 0.01\n",
      "    lambda_tasks           : 1\n",
      "    \n",
      "    Gumbel init_temp       : 4\n",
      "    Gumbel decay_temp      : 0.965\n",
      "    Gumbel decay_temp_freq : 16\n",
      "    Logit init_method      : random\n",
      "    Logit init_neg_logits  : None\n",
      "    Logit hard_sampling    : False\n",
      "    Warm-up epochs         : 150\n",
      "    training epochs        : 250\n",
      "    Data split ratios      : [0.725, 0.225, 0.05]\n",
      "\n"
     ]
    }
   ],
   "source": [
    "training_prep(ns, opt, environ, dldrs)\n",
    "print('-'*80)\n",
    "disp_info_1(ns, opt, environ)\n",
    "print('-'*80)\n",
    "print(environ.disp_for_excel())"
   ]
  },
  {
   "cell_type": "markdown",
   "id": "3278d6d1",
   "metadata": {},
   "source": [
    "## Warmup Training"
   ]
  },
  {
   "cell_type": "code",
   "execution_count": 11,
   "id": "92380a48",
   "metadata": {
    "ExecuteTime": {
     "end_time": "2022-03-31T15:53:35.417201Z",
     "start_time": "2022-03-31T15:53:35.329798Z"
    },
    "scrolled": true
   },
   "outputs": [
    {
     "name": "stdout",
     "output_type": "stream",
     "text": [
      "150 0\n",
      "--------------------------------------------------------------------------\n",
      " Last Epoch: 0   # of warm-up epochs to do:  150 - Run epochs 1 to 150\n",
      "-------------------------------------------------------------------------- \n",
      "\n"
     ]
    }
   ],
   "source": [
    "# environ.display_trained_policy(ns.current_epoch,out=sys.stdout)\n",
    "# ns.stop_epoch_warmup = 10\n",
    "# ns.warmup_epochs = 150\n",
    "# ns.check_for_improvment_wait = 0\n",
    "print(ns.warmup_epochs, ns.current_epoch)\n",
    "print_heading(f\" Last Epoch: {ns.current_epoch}   # of warm-up epochs to do:  {ns.warmup_epochs} - Run epochs {ns.current_epoch+1} to {ns.current_epoch + ns.warmup_epochs}\", verbose = True)"
   ]
  },
  {
   "cell_type": "code",
   "execution_count": 12,
   "id": "8be9d65b",
   "metadata": {
    "ExecuteTime": {
     "end_time": "2022-03-31T16:35:29.951908Z",
     "start_time": "2022-03-31T15:53:38.505995Z"
    },
    "scrolled": false
   },
   "outputs": [
    {
     "name": "stdout",
     "output_type": "stream",
     "text": [
      "--------------------------------------------------------------------------\n",
      " Last Epoch: 0   # of warm-up epochs to do:  150 - Run epochs 1 to 150\n",
      "-------------------------------------------------------------------------- \n",
      "\n",
      "Epoch | BckBone LR   Heads LR  Policy LR Gumbl Temp |  trn loss     trn spar     trn shar   trn ttl |   bceloss  avg prec    aucroc     aucpr |  val loss     val spar     val shar    val ttl |  time |\n",
      "    1 |   1.00e-03   1.00e-03   1.00e-03  4.000e+00 |   10.4740   4.1585e-02   1.6790e-04   10.5158 |   0.69250   0.54495   0.55118   0.54451 |   10.3863   4.1585e-02   1.6790e-04    10.4281 |  16.4 |\n",
      "Previous best_epoch:     0   best iter:     0,   best_value: 0.00000\n",
      "New      best_epoch:     1   best iter:   105,   best_value: 0.54495\n",
      "    2 |   1.00e-03   1.00e-03   1.00e-03  4.000e+00 |   10.4823   4.1585e-02   1.6790e-04   10.5241 |   0.69195   0.55190   0.55857   0.55146 |   10.3795   4.1585e-02   1.6790e-04    10.4212 |  16.5 |\n",
      "Previous best_epoch:     1   best iter:   105,   best_value: 0.54495\n",
      "New      best_epoch:     2   best iter:   210,   best_value: 0.55190\n",
      "    3 |   1.00e-03   1.00e-03   1.00e-03  4.000e+00 |   10.3500   4.1585e-02   1.6790e-04   10.3917 |   0.69114   0.56209   0.56715   0.56167 |   10.3675   4.1585e-02   1.6790e-04    10.4093 |  16.6 |\n",
      "Previous best_epoch:     2   best iter:   210,   best_value: 0.55190\n",
      "New      best_epoch:     3   best iter:   315,   best_value: 0.56209\n",
      "    4 |   1.00e-03   1.00e-03   1.00e-03  4.000e+00 |   10.5482   4.1585e-02   1.6790e-04   10.5899 |   0.68888   0.58006   0.58971   0.57966 |   10.3336   4.1585e-02   1.6790e-04    10.3754 |  16.9 |\n",
      "Previous best_epoch:     3   best iter:   315,   best_value: 0.56209\n",
      "New      best_epoch:     4   best iter:   420,   best_value: 0.58006\n",
      "    5 |   1.00e-03   1.00e-03   1.00e-03  4.000e+00 |   10.4852   4.1585e-02   1.6790e-04   10.5269 |   0.68663   0.59113   0.59941   0.59076 |   10.2996   4.1585e-02   1.6790e-04    10.3413 |  16.4 |\n",
      "Previous best_epoch:     4   best iter:   420,   best_value: 0.58006\n",
      "New      best_epoch:     5   best iter:   525,   best_value: 0.59113\n",
      "    6 |   1.00e-03   1.00e-03   1.00e-03  4.000e+00 |   10.0935   4.1585e-02   1.6790e-04   10.1352 |   0.68365   0.60129   0.60728   0.60093 |   10.2551   4.1585e-02   1.6790e-04    10.2969 |  16.1 |\n",
      "Previous best_epoch:     5   best iter:   525,   best_value: 0.59113\n",
      "New      best_epoch:     6   best iter:   630,   best_value: 0.60129\n",
      "    7 |   1.00e-03   1.00e-03   1.00e-03  4.000e+00 |   10.1120   4.1585e-02   1.6790e-04   10.1538 |   0.68231   0.60480   0.61065   0.60446 |   10.2330   4.1585e-02   1.6790e-04    10.2747 |  16.3 |\n",
      "Previous best_epoch:     6   best iter:   630,   best_value: 0.60129\n",
      "New      best_epoch:     7   best iter:   735,   best_value: 0.60480\n",
      "    8 |   1.00e-03   1.00e-03   1.00e-03  4.000e+00 |   10.2722   4.1585e-02   1.6790e-04   10.3139 |   0.68013   0.60774   0.61572   0.60740 |   10.2036   4.1585e-02   1.6790e-04    10.2454 |  16.5 |\n",
      "Previous best_epoch:     7   best iter:   735,   best_value: 0.60480\n",
      "New      best_epoch:     8   best iter:   840,   best_value: 0.60774\n",
      "    9 |   1.00e-03   1.00e-03   1.00e-03  4.000e+00 |    9.6787   4.1585e-02   1.6790e-04    9.7204 |   0.67662   0.61283   0.62234   0.61250 |   10.1501   4.1585e-02   1.6790e-04    10.1918 |  16.0 |\n",
      "Previous best_epoch:     8   best iter:   840,   best_value: 0.60774\n",
      "New      best_epoch:     9   best iter:   945,   best_value: 0.61283\n",
      "   10 |   1.00e-03   1.00e-03   1.00e-03  4.000e+00 |    9.8004   4.1585e-02   1.6790e-04    9.8422 |   0.67538   0.61664   0.62389   0.61634 |   10.1304   4.1585e-02   1.6790e-04    10.1722 |  16.1 |\n",
      "Previous best_epoch:     9   best iter:   945,   best_value: 0.61283\n",
      "New      best_epoch:    10   best iter:  1050,   best_value: 0.61664\n",
      "   11 |   1.00e-03   1.00e-03   1.00e-03  4.000e+00 |    9.9593   4.1585e-02   1.6790e-04   10.0011 |   0.67254   0.62431   0.63264   0.62400 |   10.0884   4.1585e-02   1.6790e-04    10.1301 |  16.8 |\n",
      "Previous best_epoch:    10   best iter:  1050,   best_value: 0.61664\n",
      "New      best_epoch:    11   best iter:  1155,   best_value: 0.62431\n",
      "   12 |   1.00e-03   1.00e-03   1.00e-03  4.000e+00 |    9.7041   4.1585e-02   1.6790e-04    9.7458 |   0.67053   0.62786   0.63677   0.62756 |   10.0590   4.1585e-02   1.6790e-04    10.1008 |  16.9 |\n",
      "Previous best_epoch:    11   best iter:  1155,   best_value: 0.62431\n",
      "New      best_epoch:    12   best iter:  1260,   best_value: 0.62786\n",
      "   13 |   1.00e-03   1.00e-03   1.00e-03  4.000e+00 |   10.2179   4.1585e-02   1.6790e-04   10.2596 |   0.66851   0.63387   0.64311   0.63357 |   10.0283   4.1585e-02   1.6790e-04    10.0701 |  16.0 |\n",
      "Previous best_epoch:    12   best iter:  1260,   best_value: 0.62786\n",
      "New      best_epoch:    13   best iter:  1365,   best_value: 0.63387\n",
      "   14 |   1.00e-03   1.00e-03   1.00e-03  4.000e+00 |    9.5950   4.1585e-02   1.6790e-04    9.6368 |   0.66692   0.63586   0.64576   0.63553 |   10.0084   4.1585e-02   1.6790e-04    10.0501 |  16.9 |\n",
      "Previous best_epoch:    13   best iter:  1365,   best_value: 0.63387\n",
      "New      best_epoch:    14   best iter:  1470,   best_value: 0.63586\n",
      "   15 |   1.00e-03   1.00e-03   1.00e-03  4.000e+00 |    9.5497   4.1585e-02   1.6790e-04    9.5914 |   0.66540   0.63870   0.64771   0.63840 |    9.9795   4.1585e-02   1.6790e-04    10.0213 |  16.1 |\n",
      "Previous best_epoch:    14   best iter:  1470,   best_value: 0.63586\n",
      "New      best_epoch:    15   best iter:  1575,   best_value: 0.63870\n",
      "   16 |   1.00e-03   1.00e-03   1.00e-03  4.000e+00 |    9.6499   4.1585e-02   1.6790e-04    9.6916 |   0.66414   0.64272   0.65112   0.64241 |    9.9636   4.1585e-02   1.6790e-04    10.0053 |  16.1 |\n",
      "Previous best_epoch:    15   best iter:  1575,   best_value: 0.63870\n",
      "New      best_epoch:    16   best iter:  1680,   best_value: 0.64272\n",
      "   17 |   1.00e-03   1.00e-03   1.00e-03  4.000e+00 |    9.5103   4.1585e-02   1.6790e-04    9.5520 |   0.66046   0.64710   0.65604   0.64680 |    9.9087   4.1585e-02   1.6790e-04     9.9504 |  15.9 |\n",
      "Previous best_epoch:    16   best iter:  1680,   best_value: 0.64272\n",
      "New      best_epoch:    17   best iter:  1785,   best_value: 0.64710\n",
      "   18 |   1.00e-03   1.00e-03   1.00e-03  4.000e+00 |    9.3260   4.1585e-02   1.6790e-04    9.3677 |   0.65943   0.65113   0.66024   0.65083 |    9.8910   4.1585e-02   1.6790e-04     9.9328 |  17.0 |\n",
      "Previous best_epoch:    17   best iter:  1785,   best_value: 0.64710\n",
      "New      best_epoch:    18   best iter:  1890,   best_value: 0.65113\n",
      "   19 |   1.00e-03   1.00e-03   1.00e-03  4.000e+00 |    9.2755   4.1585e-02   1.6790e-04    9.3173 |   0.65798   0.65120   0.66035   0.65093 |    9.8671   4.1585e-02   1.6790e-04     9.9088 |  16.2 |\n",
      "Previous best_epoch:    18   best iter:  1890,   best_value: 0.65113\n",
      "New      best_epoch:    19   best iter:  1995,   best_value: 0.65120\n",
      "   20 |   1.00e-03   1.00e-03   1.00e-03  4.000e+00 |    9.5522   4.1585e-02   1.6790e-04    9.5939 |   0.65591   0.65656   0.66604   0.65630 |    9.8395   4.1585e-02   1.6790e-04     9.8813 |  16.9 |\n",
      "Previous best_epoch:    19   best iter:  1995,   best_value: 0.65120\n",
      "New      best_epoch:    20   best iter:  2100,   best_value: 0.65656\n",
      "   21 |   1.00e-03   1.00e-03   1.00e-03  4.000e+00 |    9.3161   4.1585e-02   1.6790e-04    9.3578 |   0.65291   0.66155   0.67220   0.66129 |    9.7918   4.1585e-02   1.6790e-04     9.8335 |  16.2 |\n",
      "Previous best_epoch:    20   best iter:  2100,   best_value: 0.65656\n",
      "New      best_epoch:    21   best iter:  2205,   best_value: 0.66155\n",
      "   22 |   1.00e-03   1.00e-03   1.00e-03  4.000e+00 |   10.1088   4.1585e-02   1.6790e-04   10.1505 |   0.65324   0.66187   0.67101   0.66159 |    9.7948   4.1585e-02   1.6790e-04     9.8365 |  18.0 |\n",
      "Previous best_epoch:    21   best iter:  2205,   best_value: 0.66155\n",
      "New      best_epoch:    22   best iter:  2310,   best_value: 0.66187\n",
      "   23 |   1.00e-03   1.00e-03   1.00e-03  4.000e+00 |    9.4027   4.1585e-02   1.6790e-04    9.4444 |   0.65024   0.66454   0.67407   0.66427 |    9.7524   4.1585e-02   1.6790e-04     9.7942 |  19.5 |\n",
      "Previous best_epoch:    22   best iter:  2310,   best_value: 0.66187\n",
      "New      best_epoch:    23   best iter:  2415,   best_value: 0.66454\n"
     ]
    },
    {
     "name": "stdout",
     "output_type": "stream",
     "text": [
      "   24 |   1.00e-03   1.00e-03   1.00e-03  4.000e+00 |    9.1322   4.1585e-02   1.6790e-04    9.1739 |   0.64979   0.66680   0.67619   0.66654 |    9.7504   4.1585e-02   1.6790e-04     9.7921 |  16.2 |\n",
      "Previous best_epoch:    23   best iter:  2415,   best_value: 0.66454\n",
      "New      best_epoch:    24   best iter:  2520,   best_value: 0.66680\n",
      "   25 |   1.00e-03   1.00e-03   1.00e-03  4.000e+00 |    9.1516   4.1585e-02   1.6790e-04    9.1933 |   0.64830   0.66884   0.67732   0.66859 |    9.7231   4.1585e-02   1.6790e-04     9.7649 |  16.2 |\n",
      "Previous best_epoch:    24   best iter:  2520,   best_value: 0.66680\n",
      "New      best_epoch:    25   best iter:  2625,   best_value: 0.66884\n",
      "Epoch | BckBone LR   Heads LR  Policy LR Gumbl Temp |  trn loss     trn spar     trn shar   trn ttl |   bceloss  avg prec    aucroc     aucpr |  val loss     val spar     val shar    val ttl |  time |\n",
      "   26 |   1.00e-03   1.00e-03   1.00e-03  4.000e+00 |    9.1828   4.1585e-02   1.6790e-04    9.2245 |   0.64708   0.67137   0.68025   0.67113 |    9.7089   4.1585e-02   1.6790e-04     9.7507 |  16.2 |\n",
      "Previous best_epoch:    25   best iter:  2625,   best_value: 0.66884\n",
      "New      best_epoch:    26   best iter:  2730,   best_value: 0.67137\n",
      "   27 |   1.00e-03   1.00e-03   1.00e-03  4.000e+00 |    9.1802   4.1585e-02   1.6790e-04    9.2220 |   0.64479   0.67399   0.68323   0.67374 |    9.6704   4.1585e-02   1.6790e-04     9.7121 |  16.5 |\n",
      "Previous best_epoch:    26   best iter:  2730,   best_value: 0.67137\n",
      "New      best_epoch:    27   best iter:  2835,   best_value: 0.67399\n",
      "   28 |   1.00e-03   1.00e-03   1.00e-03  4.000e+00 |    9.5229   4.1585e-02   1.6790e-04    9.5647 |   0.64180   0.67613   0.68608   0.67589 |    9.6270   4.1585e-02   1.6790e-04     9.6687 |  17.3 |\n",
      "Previous best_epoch:    27   best iter:  2835,   best_value: 0.67399\n",
      "New      best_epoch:    28   best iter:  2940,   best_value: 0.67613\n",
      "   29 |   1.00e-03   1.00e-03   1.00e-03  4.000e+00 |    9.3534   4.1585e-02   1.6790e-04    9.3952 |   0.64226   0.67523   0.68530   0.67499 |    9.6343   4.1585e-02   1.6790e-04     9.6760 |  18.3 |\n",
      "   30 |   1.00e-03   1.00e-03   1.00e-03  4.000e+00 |    9.0596   4.1585e-02   1.6790e-04    9.1014 |   0.64032   0.67595   0.68540   0.67573 |    9.6058   4.1585e-02   1.6790e-04     9.6476 |  17.0 |\n",
      "   31 |   1.00e-03   1.00e-03   1.00e-03  4.000e+00 |    8.6796   4.1585e-02   1.6790e-04    8.7214 |   0.64123   0.67852   0.68603   0.67828 |    9.6209   4.1585e-02   1.6790e-04     9.6627 |  17.2 |\n",
      "Previous best_epoch:    28   best iter:  2940,   best_value: 0.67613\n",
      "New      best_epoch:    31   best iter:  3255,   best_value: 0.67852\n",
      "   32 |   1.00e-03   1.00e-03   1.00e-03  4.000e+00 |    9.2685   4.1585e-02   1.6790e-04    9.3102 |   0.63807   0.68013   0.68969   0.67990 |    9.5735   4.1585e-02   1.6790e-04     9.6153 |  16.6 |\n",
      "Previous best_epoch:    31   best iter:  3255,   best_value: 0.67852\n",
      "New      best_epoch:    32   best iter:  3360,   best_value: 0.68013\n",
      "   33 |   1.00e-03   1.00e-03   1.00e-03  4.000e+00 |    8.7568   4.1585e-02   1.6790e-04    8.7985 |   0.63775   0.67989   0.68834   0.67967 |    9.5743   4.1585e-02   1.6790e-04     9.6160 |  16.2 |\n",
      "   34 |   1.00e-03   1.00e-03   1.00e-03  4.000e+00 |    9.0569   4.1585e-02   1.6790e-04    9.0987 |   0.63674   0.68179   0.69042   0.68156 |    9.5512   4.1585e-02   1.6790e-04     9.5929 |  16.7 |\n",
      "Previous best_epoch:    32   best iter:  3360,   best_value: 0.68013\n",
      "New      best_epoch:    34   best iter:  3570,   best_value: 0.68179\n",
      "   35 |   1.00e-03   1.00e-03   1.00e-03  4.000e+00 |    8.4442   4.1585e-02   1.6790e-04    8.4860 |   0.63656   0.68227   0.69204   0.68206 |    9.5425   4.1585e-02   1.6790e-04     9.5842 |  16.0 |\n",
      "Previous best_epoch:    34   best iter:  3570,   best_value: 0.68179\n",
      "New      best_epoch:    35   best iter:  3675,   best_value: 0.68227\n",
      "   36 |   1.00e-03   1.00e-03   1.00e-03  4.000e+00 |    9.0417   4.1585e-02   1.6790e-04    9.0835 |   0.63629   0.68280   0.69150   0.68256 |    9.5490   4.1585e-02   1.6790e-04     9.5907 |  16.6 |\n",
      "Previous best_epoch:    35   best iter:  3675,   best_value: 0.68227\n",
      "New      best_epoch:    36   best iter:  3780,   best_value: 0.68280\n",
      "   37 |   1.00e-03   1.00e-03   1.00e-03  4.000e+00 |    9.0024   4.1585e-02   1.6790e-04    9.0441 |   0.63349   0.68794   0.69723   0.68772 |    9.4992   4.1585e-02   1.6790e-04     9.5409 |  16.0 |\n",
      "Previous best_epoch:    36   best iter:  3780,   best_value: 0.68280\n",
      "New      best_epoch:    37   best iter:  3885,   best_value: 0.68794\n",
      "   38 |   1.00e-03   1.00e-03   1.00e-03  4.000e+00 |    8.8922   4.1585e-02   1.6790e-04    8.9339 |   0.63345   0.68725   0.69687   0.68702 |    9.5010   4.1585e-02   1.6790e-04     9.5428 |  16.2 |\n",
      "   39 |   1.00e-03   1.00e-03   1.00e-03  4.000e+00 |    8.3918   4.1585e-02   1.6790e-04    8.4336 |   0.63132   0.68823   0.69685   0.68801 |    9.4690   4.1585e-02   1.6790e-04     9.5107 |  15.6 |\n",
      "Previous best_epoch:    37   best iter:  3885,   best_value: 0.68794\n",
      "New      best_epoch:    39   best iter:  4095,   best_value: 0.68823\n",
      "   40 |   1.00e-03   1.00e-03   1.00e-03  4.000e+00 |    9.0738   4.1585e-02   1.6790e-04    9.1156 |   0.63070   0.68891   0.69859   0.68869 |    9.4593   4.1585e-02   1.6790e-04     9.5011 |  16.9 |\n",
      "Previous best_epoch:    39   best iter:  4095,   best_value: 0.68823\n",
      "New      best_epoch:    40   best iter:  4200,   best_value: 0.68891\n",
      "   41 |   1.00e-03   1.00e-03   1.00e-03  4.000e+00 |    9.3864   4.1585e-02   1.6790e-04    9.4282 |   0.63082   0.69045   0.69868   0.69022 |    9.4678   4.1585e-02   1.6790e-04     9.5095 |  15.9 |\n",
      "Previous best_epoch:    40   best iter:  4200,   best_value: 0.68891\n",
      "New      best_epoch:    41   best iter:  4305,   best_value: 0.69045\n",
      "   42 |   1.00e-03   1.00e-03   1.00e-03  4.000e+00 |    8.6577   4.1585e-02   1.6790e-04    8.6994 |   0.62806   0.69100   0.70030   0.69076 |    9.4230   4.1585e-02   1.6790e-04     9.4647 |  16.6 |\n",
      "Previous best_epoch:    41   best iter:  4305,   best_value: 0.69045\n",
      "New      best_epoch:    42   best iter:  4410,   best_value: 0.69100\n",
      "   43 |   1.00e-03   1.00e-03   1.00e-03  4.000e+00 |    8.3732   4.1585e-02   1.6790e-04    8.4149 |   0.62829   0.69080   0.69976   0.69057 |    9.4220   4.1585e-02   1.6790e-04     9.4638 |  15.9 |\n",
      "   44 |   1.00e-03   1.00e-03   1.00e-03  4.000e+00 |    8.0605   4.1585e-02   1.6790e-04    8.1023 |   0.62578   0.69400   0.70302   0.69377 |    9.3895   4.1585e-02   1.6790e-04     9.4313 |  16.2 |\n",
      "Previous best_epoch:    42   best iter:  4410,   best_value: 0.69100\n",
      "New      best_epoch:    44   best iter:  4620,   best_value: 0.69400\n",
      "   45 |   1.00e-03   1.00e-03   1.00e-03  4.000e+00 |    8.8477   4.1585e-02   1.6790e-04    8.8894 |   0.62848   0.69279   0.70075   0.69257 |    9.4298   4.1585e-02   1.6790e-04     9.4715 |  16.2 |\n",
      "   46 |   1.00e-03   1.00e-03   1.00e-03  4.000e+00 |    8.6017   4.1585e-02   1.6790e-04    8.6434 |   0.62663   0.69484   0.70279   0.69464 |    9.3970   4.1585e-02   1.6790e-04     9.4388 |  16.2 |\n",
      "Previous best_epoch:    44   best iter:  4620,   best_value: 0.69400\n",
      "New      best_epoch:    46   best iter:  4830,   best_value: 0.69484\n",
      "   47 |   1.00e-03   1.00e-03   1.00e-03  4.000e+00 |    8.1072   4.1585e-02   1.6790e-04    8.1490 |   0.62480   0.69779   0.70700   0.69758 |    9.3709   4.1585e-02   1.6790e-04     9.4127 |  15.9 |\n",
      "Previous best_epoch:    46   best iter:  4830,   best_value: 0.69484\n",
      "New      best_epoch:    47   best iter:  4935,   best_value: 0.69779\n",
      "   48 |   1.00e-03   1.00e-03   1.00e-03  4.000e+00 |    8.3756   4.1585e-02   1.6790e-04    8.4173 |   0.62652   0.69533   0.70417   0.69513 |    9.3919   4.1585e-02   1.6790e-04     9.4336 |  16.3 |\n",
      "   49 |   1.00e-03   1.00e-03   1.00e-03  4.000e+00 |    8.4358   4.1585e-02   1.6790e-04    8.4775 |   0.62490   0.69814   0.70697   0.69793 |    9.3784   4.1585e-02   1.6790e-04     9.4202 |  15.8 |\n",
      "Previous best_epoch:    47   best iter:  4935,   best_value: 0.69779\n",
      "New      best_epoch:    49   best iter:  5145,   best_value: 0.69814\n",
      "   50 |   1.00e-03   1.00e-03   1.00e-03  4.000e+00 |    9.0037   4.1585e-02   1.6790e-04    9.0455 |   0.62355   0.69789   0.70725   0.69768 |    9.3576   4.1585e-02   1.6790e-04     9.3993 |  17.0 |\n"
     ]
    },
    {
     "name": "stdout",
     "output_type": "stream",
     "text": [
      "Epoch | BckBone LR   Heads LR  Policy LR Gumbl Temp |  trn loss     trn spar     trn shar   trn ttl |   bceloss  avg prec    aucroc     aucpr |  val loss     val spar     val shar    val ttl |  time |\n",
      "   51 |   1.00e-03   1.00e-03   1.00e-03  4.000e+00 |    8.6053   4.1585e-02   1.6790e-04    8.6470 |   0.62873   0.69511   0.70462   0.69490 |    9.4315   4.1585e-02   1.6790e-04     9.4732 |  16.0 |\n",
      "   52 |   1.00e-03   1.00e-03   1.00e-03  4.000e+00 |    8.6619   4.1585e-02   1.6790e-04    8.7036 |   0.62509   0.69725   0.70656   0.69704 |    9.3719   4.1585e-02   1.6790e-04     9.4137 |  16.4 |\n",
      "   53 |   1.00e-03   1.00e-03   1.00e-03  4.000e+00 |    8.3133   4.1585e-02   1.6790e-04    8.3550 |   0.62264   0.70033   0.70879   0.70013 |    9.3399   4.1585e-02   1.6790e-04     9.3816 |  15.4 |\n",
      "Previous best_epoch:    49   best iter:  5145,   best_value: 0.69814\n",
      "New      best_epoch:    53   best iter:  5565,   best_value: 0.70033\n",
      "   54 |   1.00e-03   1.00e-03   1.00e-03  4.000e+00 |    8.4412   4.1585e-02   1.6790e-04    8.4829 |   0.62307   0.70090   0.70944   0.70071 |    9.3431   4.1585e-02   1.6790e-04     9.3848 |  16.7 |\n",
      "Previous best_epoch:    53   best iter:  5565,   best_value: 0.70033\n",
      "New      best_epoch:    54   best iter:  5670,   best_value: 0.70090\n",
      "   55 |   1.00e-03   1.00e-03   1.00e-03  4.000e+00 |    8.5582   4.1585e-02   1.6790e-04    8.6000 |   0.62559   0.70081   0.70906   0.70061 |    9.3790   4.1585e-02   1.6790e-04     9.4207 |  16.9 |\n",
      "   56 |   1.00e-03   1.00e-03   1.00e-03  4.000e+00 |    8.1936   4.1585e-02   1.6790e-04    8.2354 |   0.62268   0.70114   0.70953   0.70094 |    9.3401   4.1585e-02   1.6790e-04     9.3819 |  15.7 |\n",
      "Previous best_epoch:    54   best iter:  5670,   best_value: 0.70090\n",
      "New      best_epoch:    56   best iter:  5880,   best_value: 0.70114\n",
      "   57 |   1.00e-03   1.00e-03   1.00e-03  4.000e+00 |    8.8684   4.1585e-02   1.6790e-04    8.9101 |   0.62089   0.70403   0.71157   0.70384 |    9.3158   4.1585e-02   1.6790e-04     9.3576 |  16.7 |\n",
      "Previous best_epoch:    56   best iter:  5880,   best_value: 0.70114\n",
      "New      best_epoch:    57   best iter:  5985,   best_value: 0.70403\n",
      "   58 |   1.00e-03   1.00e-03   1.00e-03  4.000e+00 |    8.1631   4.1585e-02   1.6790e-04    8.2049 |   0.62372   0.70231   0.71098   0.70211 |    9.3483   4.1585e-02   1.6790e-04     9.3901 |  16.5 |\n",
      "   59 |   1.00e-03   1.00e-03   1.00e-03  4.000e+00 |    7.6996   4.1585e-02   1.6790e-04    7.7413 |   0.61896   0.70481   0.71419   0.70461 |    9.2754   4.1585e-02   1.6790e-04     9.3171 |  16.8 |\n",
      "Previous best_epoch:    57   best iter:  5985,   best_value: 0.70403\n",
      "New      best_epoch:    59   best iter:  6195,   best_value: 0.70481\n",
      "   60 |   1.00e-03   1.00e-03   1.00e-03  4.000e+00 |    8.2136   4.1585e-02   1.6790e-04    8.2553 |   0.61990   0.70342   0.71391   0.70323 |    9.2973   4.1585e-02   1.6790e-04     9.3391 |  16.4 |\n",
      "   61 |   1.00e-03   1.00e-03   1.00e-03  4.000e+00 |    8.0716   4.1585e-02   1.6790e-04    8.1134 |   0.61962   0.70502   0.71507   0.70483 |    9.2906   4.1585e-02   1.6790e-04     9.3323 |  16.8 |\n",
      "Previous best_epoch:    59   best iter:  6195,   best_value: 0.70481\n",
      "New      best_epoch:    61   best iter:  6405,   best_value: 0.70502\n",
      "   62 |   1.00e-03   1.00e-03   1.00e-03  4.000e+00 |    8.2221   4.1585e-02   1.6790e-04    8.2638 |   0.61951   0.70551   0.71538   0.70532 |    9.2815   4.1585e-02   1.6790e-04     9.3233 |  16.4 |\n",
      "Previous best_epoch:    61   best iter:  6405,   best_value: 0.70502\n",
      "New      best_epoch:    62   best iter:  6510,   best_value: 0.70551\n",
      "   63 |   1.00e-03   1.00e-03   1.00e-03  4.000e+00 |    8.2578   4.1585e-02   1.6790e-04    8.2995 |   0.61841   0.70659   0.71678   0.70639 |    9.2727   4.1585e-02   1.6790e-04     9.3144 |  16.0 |\n",
      "Previous best_epoch:    62   best iter:  6510,   best_value: 0.70551\n",
      "New      best_epoch:    63   best iter:  6615,   best_value: 0.70659\n",
      "   64 |   1.00e-03   1.00e-03   1.00e-03  4.000e+00 |    8.3795   4.1585e-02   1.6790e-04    8.4213 |   0.61931   0.70912   0.71802   0.70892 |    9.2869   4.1585e-02   1.6790e-04     9.3286 |  16.9 |\n",
      "Previous best_epoch:    63   best iter:  6615,   best_value: 0.70659\n",
      "New      best_epoch:    64   best iter:  6720,   best_value: 0.70912\n",
      "   65 |   1.00e-03   1.00e-03   1.00e-03  4.000e+00 |    8.1582   4.1585e-02   1.6790e-04    8.1999 |   0.61776   0.70676   0.71646   0.70657 |    9.2738   4.1585e-02   1.6790e-04     9.3156 |  16.5 |\n",
      "   66 |   1.00e-03   1.00e-03   1.00e-03  4.000e+00 |    8.0949   4.1585e-02   1.6790e-04    8.1367 |   0.61711   0.70830   0.71811   0.70810 |    9.2593   4.1585e-02   1.6790e-04     9.3010 |  16.1 |\n",
      "   67 |   1.00e-03   1.00e-03   1.00e-03  4.000e+00 |    8.7055   4.1585e-02   1.6790e-04    8.7472 |   0.61776   0.70810   0.71737   0.70791 |    9.2654   4.1585e-02   1.6790e-04     9.3071 |  16.5 |\n",
      "   68 |   1.00e-03   1.00e-03   1.00e-03  4.000e+00 |    8.0429   4.1585e-02   1.6790e-04    8.0846 |   0.61869   0.70919   0.71803   0.70899 |    9.2865   4.1585e-02   1.6790e-04     9.3282 |  16.6 |\n",
      "Previous best_epoch:    64   best iter:  6720,   best_value: 0.70912\n",
      "New      best_epoch:    68   best iter:  7140,   best_value: 0.70919\n",
      "   69 |   1.00e-03   1.00e-03   1.00e-03  4.000e+00 |    8.5836   4.1585e-02   1.6790e-04    8.6253 |   0.61933   0.70736   0.71698   0.70716 |    9.2814   4.1585e-02   1.6790e-04     9.3232 |  16.4 |\n",
      "   70 |   1.00e-03   1.00e-03   1.00e-03  4.000e+00 |    7.6581   4.1585e-02   1.6790e-04    7.6999 |   0.61767   0.71045   0.72000   0.71026 |    9.2574   4.1585e-02   1.6790e-04     9.2992 |  16.5 |\n",
      "Previous best_epoch:    68   best iter:  7140,   best_value: 0.70919\n",
      "New      best_epoch:    70   best iter:  7350,   best_value: 0.71045\n",
      "   71 |   1.00e-03   1.00e-03   1.00e-03  4.000e+00 |    8.2573   4.1585e-02   1.6790e-04    8.2991 |   0.61803   0.71001   0.71967   0.70981 |    9.2676   4.1585e-02   1.6790e-04     9.3093 |  16.2 |\n",
      "   72 |   1.00e-03   1.00e-03   1.00e-03  4.000e+00 |    8.4529   4.1585e-02   1.6790e-04    8.4947 |   0.61778   0.71027   0.71950   0.71007 |    9.2605   4.1585e-02   1.6790e-04     9.3023 |  16.0 |\n",
      "   73 |   1.00e-03   1.00e-03   1.00e-03  4.000e+00 |    7.2934   4.1585e-02   1.6790e-04    7.3352 |   0.61649   0.71319   0.72233   0.71301 |    9.2406   4.1585e-02   1.6790e-04     9.2823 |  16.1 |\n",
      "Previous best_epoch:    70   best iter:  7350,   best_value: 0.71045\n",
      "New      best_epoch:    73   best iter:  7665,   best_value: 0.71319\n",
      "   74 |   1.00e-03   1.00e-03   1.00e-03  4.000e+00 |    7.7489   4.1585e-02   1.6790e-04    7.7907 |   0.61344   0.71460   0.72479   0.71441 |    9.2060   4.1585e-02   1.6790e-04     9.2478 |  15.9 |\n",
      "Previous best_epoch:    73   best iter:  7665,   best_value: 0.71319\n",
      "New      best_epoch:    74   best iter:  7770,   best_value: 0.71460\n",
      "   75 |   1.00e-03   1.00e-03   1.00e-03  4.000e+00 |    7.5643   4.1585e-02   1.6790e-04    7.6060 |   0.61586   0.71213   0.72270   0.71191 |    9.2475   4.1585e-02   1.6790e-04     9.2892 |  15.3 |\n",
      "Epoch | BckBone LR   Heads LR  Policy LR Gumbl Temp |  trn loss     trn spar     trn shar   trn ttl |   bceloss  avg prec    aucroc     aucpr |  val loss     val spar     val shar    val ttl |  time |\n",
      "   76 |   1.00e-03   1.00e-03   1.00e-03  4.000e+00 |    8.0325   4.1585e-02   1.6790e-04    8.0742 |   0.61923   0.71205   0.72204   0.71185 |    9.2825   4.1585e-02   1.6790e-04     9.3243 |  15.7 |\n",
      "   77 |   1.00e-03   1.00e-03   1.00e-03  4.000e+00 |    8.3129   4.1585e-02   1.6790e-04    8.3546 |   0.61626   0.71461   0.72486   0.71443 |    9.2453   4.1585e-02   1.6790e-04     9.2870 |  15.6 |\n",
      "Previous best_epoch:    74   best iter:  7770,   best_value: 0.71460\n",
      "New      best_epoch:    77   best iter:  8085,   best_value: 0.71461\n",
      "   78 |   1.00e-03   1.00e-03   1.00e-03  4.000e+00 |    8.0803   4.1585e-02   1.6790e-04    8.1221 |   0.61358   0.71689   0.72611   0.71670 |    9.2085   4.1585e-02   1.6790e-04     9.2503 |  17.0 |\n",
      "Previous best_epoch:    77   best iter:  8085,   best_value: 0.71461\n",
      "New      best_epoch:    78   best iter:  8190,   best_value: 0.71689\n",
      "   79 |   1.00e-03   1.00e-03   1.00e-03  4.000e+00 |    7.8041   4.1585e-02   1.6790e-04    7.8458 |   0.61178   0.71837   0.72775   0.71816 |    9.1788   4.1585e-02   1.6790e-04     9.2206 |  15.4 |\n"
     ]
    },
    {
     "name": "stdout",
     "output_type": "stream",
     "text": [
      "Previous best_epoch:    78   best iter:  8190,   best_value: 0.71689\n",
      "New      best_epoch:    79   best iter:  8295,   best_value: 0.71837\n",
      "   80 |   1.00e-03   1.00e-03   1.00e-03  4.000e+00 |    7.9444   4.1585e-02   1.6790e-04    7.9862 |   0.61266   0.71958   0.72804   0.71939 |    9.1819   4.1585e-02   1.6790e-04     9.2237 |  15.6 |\n",
      "Previous best_epoch:    79   best iter:  8295,   best_value: 0.71837\n",
      "New      best_epoch:    80   best iter:  8400,   best_value: 0.71958\n",
      "   81 |   1.00e-03   1.00e-03   1.00e-03  4.000e+00 |    7.8556   4.1585e-02   1.6790e-04    7.8974 |   0.61730   0.71771   0.72691   0.71752 |    9.2669   4.1585e-02   1.6790e-04     9.3086 |  16.2 |\n",
      "   82 |   1.00e-03   1.00e-03   1.00e-03  4.000e+00 |    6.7244   4.1585e-02   1.6790e-04    6.7662 |   0.61387   0.71830   0.72735   0.71811 |    9.2178   4.1585e-02   1.6790e-04     9.2596 |  16.8 |\n",
      "   83 |   1.00e-03   1.00e-03   1.00e-03  4.000e+00 |    7.1030   4.1585e-02   1.6790e-04    7.1448 |   0.61472   0.71872   0.72898   0.71852 |    9.2132   4.1585e-02   1.6790e-04     9.2549 |  15.8 |\n",
      "   84 |   1.00e-03   1.00e-03   1.00e-03  4.000e+00 |    7.7837   4.1585e-02   1.6790e-04    7.8255 |   0.61407   0.71789   0.72792   0.71769 |    9.2077   4.1585e-02   1.6790e-04     9.2495 |  16.2 |\n",
      "   85 |   1.00e-03   1.00e-03   1.00e-03  4.000e+00 |    7.8659   4.1585e-02   1.6790e-04    7.9077 |   0.61360   0.71908   0.72879   0.71890 |    9.2034   4.1585e-02   1.6790e-04     9.2452 |  16.5 |\n",
      "   86 |   1.00e-03   1.00e-03   1.00e-03  4.000e+00 |    7.3623   4.1585e-02   1.6790e-04    7.4040 |   0.61613   0.71765   0.72747   0.71745 |    9.2445   4.1585e-02   1.6790e-04     9.2863 |  15.8 |\n",
      "   87 |   1.00e-03   1.00e-03   1.00e-03  4.000e+00 |    7.3053   4.1585e-02   1.6790e-04    7.3471 |   0.61159   0.72011   0.72984   0.71992 |    9.1726   4.1585e-02   1.6790e-04     9.2144 |  16.6 |\n",
      "Previous best_epoch:    80   best iter:  8400,   best_value: 0.71958\n",
      "New      best_epoch:    87   best iter:  9135,   best_value: 0.72011\n",
      "   88 |   1.00e-03   1.00e-03   1.00e-03  4.000e+00 |    7.1608   4.1585e-02   1.6790e-04    7.2025 |   0.61458   0.72081   0.72953   0.72059 |    9.2198   4.1585e-02   1.6790e-04     9.2616 |  16.4 |\n",
      "Previous best_epoch:    87   best iter:  9135,   best_value: 0.72011\n",
      "New      best_epoch:    88   best iter:  9240,   best_value: 0.72081\n",
      "   89 |   1.00e-03   1.00e-03   1.00e-03  4.000e+00 |    7.5450   4.1585e-02   1.6790e-04    7.5868 |   0.61601   0.72063   0.72978   0.72042 |    9.2293   4.1585e-02   1.6790e-04     9.2711 |  16.0 |\n",
      "   90 |   1.00e-03   1.00e-03   1.00e-03  4.000e+00 |    7.8924   4.1585e-02   1.6790e-04    7.9341 |   0.61876   0.71767   0.72797   0.71748 |    9.2827   4.1585e-02   1.6790e-04     9.3245 |  16.3 |\n",
      "   91 |   1.00e-03   1.00e-03   1.00e-03  4.000e+00 |    7.4268   4.1585e-02   1.6790e-04    7.4686 |   0.61447   0.71936   0.73055   0.71914 |    9.2312   4.1585e-02   1.6790e-04     9.2730 |  16.2 |\n",
      "   92 |   1.00e-03   1.00e-03   1.00e-03  4.000e+00 |    7.7867   4.1585e-02   1.6790e-04    7.8285 |   0.61499   0.72246   0.73294   0.72227 |    9.2371   4.1585e-02   1.6790e-04     9.2789 |  16.8 |\n",
      "Previous best_epoch:    88   best iter:  9240,   best_value: 0.72081\n",
      "New      best_epoch:    92   best iter:  9660,   best_value: 0.72246\n",
      "   93 |   1.00e-03   1.00e-03   1.00e-03  4.000e+00 |    6.9334   4.1585e-02   1.6790e-04    6.9751 |   0.61635   0.72087   0.73035   0.72068 |    9.2532   4.1585e-02   1.6790e-04     9.2949 |  15.9 |\n",
      "   94 |   1.00e-03   1.00e-03   1.00e-03  4.000e+00 |    7.8728   4.1585e-02   1.6790e-04    7.9146 |   0.61205   0.72310   0.73257   0.72292 |    9.1745   4.1585e-02   1.6790e-04     9.2162 |  15.7 |\n",
      "Previous best_epoch:    92   best iter:  9660,   best_value: 0.72246\n",
      "New      best_epoch:    94   best iter:  9870,   best_value: 0.72310\n",
      "   95 |   1.00e-03   1.00e-03   1.00e-03  4.000e+00 |    7.6500   4.1585e-02   1.6790e-04    7.6918 |   0.61424   0.72177   0.73163   0.72159 |    9.2117   4.1585e-02   1.6790e-04     9.2534 |  17.1 |\n",
      "   96 |   1.00e-03   1.00e-03   1.00e-03  4.000e+00 |    6.2137   4.1585e-02   1.6790e-04    6.2555 |   0.61725   0.72000   0.72918   0.71982 |    9.2516   4.1585e-02   1.6790e-04     9.2933 |  16.0 |\n",
      "   97 |   1.00e-03   1.00e-03   1.00e-03  4.000e+00 |    7.3085   4.1585e-02   1.6790e-04    7.3503 |   0.61745   0.71949   0.73002   0.71930 |    9.2600   4.1585e-02   1.6790e-04     9.3018 |  16.0 |\n",
      "   98 |   1.00e-03   1.00e-03   1.00e-03  4.000e+00 |    7.8986   4.1585e-02   1.6790e-04    7.9404 |   0.61579   0.72213   0.73263   0.72194 |    9.2211   4.1585e-02   1.6790e-04     9.2628 |  16.8 |\n",
      "   99 |   1.00e-03   1.00e-03   1.00e-03  4.000e+00 |    6.8044   4.1585e-02   1.6790e-04    6.8462 |   0.62133   0.72099   0.73151   0.72079 |    9.3306   4.1585e-02   1.6790e-04     9.3723 |  16.3 |\n",
      "  100 |   1.00e-03   1.00e-03   1.00e-03  4.000e+00 |    7.6057   4.1585e-02   1.6790e-04    7.6475 |   0.61389   0.72179   0.73287   0.72160 |    9.2045   4.1585e-02   1.6790e-04     9.2462 |  16.0 |\n",
      "Epoch | BckBone LR   Heads LR  Policy LR Gumbl Temp |  trn loss     trn spar     trn shar   trn ttl |   bceloss  avg prec    aucroc     aucpr |  val loss     val spar     val shar    val ttl |  time |\n",
      "  101 |   1.00e-03   1.00e-03   1.00e-03  4.000e+00 |    6.6578   4.1585e-02   1.6790e-04    6.6996 |   0.62098   0.71999   0.73053   0.71979 |    9.3081   4.1585e-02   1.6790e-04     9.3499 |  15.5 |\n",
      "  102 |   1.00e-03   1.00e-03   1.00e-03  4.000e+00 |    7.2506   4.1585e-02   1.6790e-04    7.2924 |   0.61915   0.72043   0.73221   0.72024 |    9.2992   4.1585e-02   1.6790e-04     9.3409 |  16.3 |\n",
      "  103 |   1.00e-03   1.00e-03   1.00e-03  4.000e+00 |    8.0028   4.1585e-02   1.6790e-04    8.0445 |   0.61610   0.72162   0.73341   0.72143 |    9.2275   4.1585e-02   1.6790e-04     9.2693 |  16.0 |\n",
      "  104 |   1.00e-03   1.00e-03   1.00e-03  4.000e+00 |    7.8253   4.1585e-02   1.6790e-04    7.8671 |   0.61592   0.72297   0.73458   0.72278 |    9.2261   4.1585e-02   1.6790e-04     9.2679 |  16.1 |\n",
      "  105 |   1.00e-03   1.00e-03   1.00e-03  4.000e+00 |    7.0117   4.1585e-02   1.6790e-04    7.0534 |   0.61874   0.72060   0.73220   0.72041 |    9.2915   4.1585e-02   1.6790e-04     9.3332 |  16.1 |\n",
      "  106 |   1.00e-03   1.00e-03   1.00e-03  4.000e+00 |    7.1422   4.1585e-02   1.6790e-04    7.1839 |   0.62135   0.72046   0.73098   0.72028 |    9.3238   4.1585e-02   1.6790e-04     9.3655 |  16.0 |\n",
      "  107 |   1.00e-03   1.00e-03   1.00e-03  4.000e+00 |    7.4439   4.1585e-02   1.6790e-04    7.4857 |   0.62432   0.71958   0.73002   0.71939 |    9.3676   4.1585e-02   1.6790e-04     9.4093 |  16.4 |\n",
      "  108 |   1.00e-03   1.00e-03   1.00e-03  4.000e+00 |    7.2761   4.1585e-02   1.6790e-04    7.3179 |   0.62514   0.71983   0.73094   0.71964 |    9.3887   4.1585e-02   1.6790e-04     9.4304 |  17.2 |\n",
      "  109 |   1.00e-03   1.00e-03   1.00e-03  4.000e+00 |    6.3503   4.1585e-02   1.6790e-04    6.3921 |   0.62671   0.72114   0.73082   0.72095 |    9.3980   4.1585e-02   1.6790e-04     9.4397 |  15.7 |\n",
      "  110 |   1.00e-03   1.00e-03   1.00e-03  4.000e+00 |    7.0638   4.1585e-02   1.6790e-04    7.1056 |   0.62298   0.72368   0.73376   0.72351 |    9.3474   4.1585e-02   1.6790e-04     9.3892 |  17.0 |\n",
      "Previous best_epoch:    94   best iter:  9870,   best_value: 0.72310\n",
      "New      best_epoch:   110   best iter: 11550,   best_value: 0.72368\n",
      "  111 |   1.00e-03   1.00e-03   1.00e-03  4.000e+00 |    7.4503   4.1585e-02   1.6790e-04    7.4921 |   0.61778   0.72154   0.73243   0.72136 |    9.2678   4.1585e-02   1.6790e-04     9.3096 |  16.0 |\n",
      "  112 |   1.00e-03   1.00e-03   1.00e-03  4.000e+00 |    7.2956   4.1585e-02   1.6790e-04    7.3373 |   0.62182   0.72136   0.73210   0.72117 |    9.3011   4.1585e-02   1.6790e-04     9.3429 |  17.3 |\n",
      "  113 |   1.00e-03   1.00e-03   1.00e-03  4.000e+00 |    8.0114   4.1585e-02   1.6790e-04    8.0532 |   0.62028   0.72052   0.73123   0.72033 |    9.3015   4.1585e-02   1.6790e-04     9.3432 |  16.4 |\n",
      "  114 |   1.00e-03   1.00e-03   1.00e-03  4.000e+00 |    6.9459   4.1585e-02   1.6790e-04    6.9877 |   0.63159   0.71862   0.73066   0.71842 |    9.4736   4.1585e-02   1.6790e-04     9.5154 |  16.0 |\n"
     ]
    },
    {
     "name": "stdout",
     "output_type": "stream",
     "text": [
      "  115 |   1.00e-03   1.00e-03   1.00e-03  4.000e+00 |    6.4146   4.1585e-02   1.6790e-04    6.4564 |   0.62185   0.72506   0.73542   0.72488 |    9.3314   4.1585e-02   1.6790e-04     9.3732 |  15.7 |\n",
      "Previous best_epoch:   110   best iter: 11550,   best_value: 0.72368\n",
      "New      best_epoch:   115   best iter: 12075,   best_value: 0.72506\n",
      "  116 |   1.00e-03   1.00e-03   1.00e-03  4.000e+00 |    7.5910   4.1585e-02   1.6790e-04    7.6328 |   0.63038   0.72184   0.73313   0.72166 |    9.4560   4.1585e-02   1.6790e-04     9.4977 |  15.5 |\n",
      "  117 |   1.00e-03   1.00e-03   1.00e-03  4.000e+00 |    7.3831   4.1585e-02   1.6790e-04    7.4248 |   0.62873   0.72128   0.73286   0.72110 |    9.4160   4.1585e-02   1.6790e-04     9.4577 |  17.2 |\n",
      "  118 |   1.00e-03   1.00e-03   1.00e-03  4.000e+00 |    7.0198   4.1585e-02   1.6790e-04    7.0615 |   0.62876   0.72168   0.73254   0.72149 |    9.4481   4.1585e-02   1.6790e-04     9.4899 |  16.4 |\n",
      "  119 |   1.00e-03   1.00e-03   1.00e-03  4.000e+00 |    6.6640   4.1585e-02   1.6790e-04    6.7057 |   0.62374   0.72188   0.73329   0.72169 |    9.3517   4.1585e-02   1.6790e-04     9.3935 |  16.3 |\n",
      "  120 |   1.00e-03   1.00e-03   1.00e-03  4.000e+00 |    6.8345   4.1585e-02   1.6790e-04    6.8762 |   0.62939   0.72108   0.73300   0.72089 |    9.4421   4.1585e-02   1.6790e-04     9.4838 |  16.2 |\n",
      "  121 |   1.00e-03   1.00e-03   1.00e-03  4.000e+00 |    6.4019   4.1585e-02   1.6790e-04    6.4437 |   0.63095   0.72193   0.73274   0.72175 |    9.4751   4.1585e-02   1.6790e-04     9.5169 |  15.6 |\n",
      "  122 |   1.00e-03   1.00e-03   1.00e-03  4.000e+00 |    6.6169   4.1585e-02   1.6790e-04    6.6586 |   0.62718   0.72335   0.73441   0.72316 |    9.4147   4.1585e-02   1.6790e-04     9.4564 |  16.4 |\n",
      "  123 |   1.00e-03   1.00e-03   1.00e-03  4.000e+00 |    7.2205   4.1585e-02   1.6790e-04    7.2622 |   0.62812   0.72040   0.73233   0.72019 |    9.4270   4.1585e-02   1.6790e-04     9.4687 |  15.9 |\n",
      "  124 |   1.00e-03   1.00e-03   1.00e-03  4.000e+00 |    7.7574   4.1585e-02   1.6790e-04    7.7992 |   0.63363   0.72144   0.73292   0.72125 |    9.5131   4.1585e-02   1.6790e-04     9.5549 |  16.7 |\n",
      "  125 |   1.00e-03   1.00e-03   1.00e-03  4.000e+00 |    6.9326   4.1585e-02   1.6790e-04    6.9744 |   0.63328   0.71845   0.73194   0.71826 |    9.5051   4.1585e-02   1.6790e-04     9.5469 |  16.1 |\n",
      "Epoch | BckBone LR   Heads LR  Policy LR Gumbl Temp |  trn loss     trn spar     trn shar   trn ttl |   bceloss  avg prec    aucroc     aucpr |  val loss     val spar     val shar    val ttl |  time |\n",
      "  126 |   1.00e-03   1.00e-03   1.00e-03  4.000e+00 |    7.1233   4.1585e-02   1.6790e-04    7.1651 |   0.63141   0.71713   0.73021   0.71695 |    9.4666   4.1585e-02   1.6790e-04     9.5083 |  16.3 |\n",
      "  127 |   1.00e-03   1.00e-03   1.00e-03  4.000e+00 |    6.2958   4.1585e-02   1.6790e-04    6.3375 |   0.62987   0.72045   0.73290   0.72026 |    9.4348   4.1585e-02   1.6790e-04     9.4765 |  16.3 |\n",
      "  128 |   1.00e-03   1.00e-03   1.00e-03  4.000e+00 |    7.2057   4.1585e-02   1.6790e-04    7.2474 |   0.63264   0.72020   0.73296   0.72002 |    9.5050   4.1585e-02   1.6790e-04     9.5468 |  16.8 |\n",
      "Epoch   128: reducing learning rate of group 0 to 7.5000e-04.\n",
      "Epoch   128: reducing learning rate of group 1 to 7.5000e-04.\n",
      "  129 |   7.50e-04   7.50e-04   1.00e-03  4.000e+00 |    6.2066   4.1585e-02   1.6790e-04    6.2484 |   0.63887   0.72215   0.73309   0.72197 |    9.5909   4.1585e-02   1.6790e-04     9.6326 |  16.1 |\n",
      "  130 |   7.50e-04   7.50e-04   1.00e-03  4.000e+00 |    6.9084   4.1585e-02   1.6790e-04    6.9501 |   0.63751   0.71981   0.73228   0.71962 |    9.5604   4.1585e-02   1.6790e-04     9.6022 |  16.4 |\n",
      "  131 |   7.50e-04   7.50e-04   1.00e-03  4.000e+00 |    7.0430   4.1585e-02   1.6790e-04    7.0848 |   0.63383   0.72269   0.73477   0.72250 |    9.5077   4.1585e-02   1.6790e-04     9.5495 |  16.4 |\n",
      "  132 |   7.50e-04   7.50e-04   1.00e-03  4.000e+00 |    7.0667   4.1585e-02   1.6790e-04    7.1084 |   0.63545   0.72133   0.73344   0.72114 |    9.5561   4.1585e-02   1.6790e-04     9.5978 |  16.1 |\n",
      "  133 |   7.50e-04   7.50e-04   1.00e-03  4.000e+00 |    6.7237   4.1585e-02   1.6790e-04    6.7654 |   0.63950   0.72143   0.73417   0.72123 |    9.6112   4.1585e-02   1.6790e-04     9.6529 |  16.2 |\n",
      "  134 |   7.50e-04   7.50e-04   1.00e-03  4.000e+00 |    6.7997   4.1585e-02   1.6790e-04    6.8414 |   0.63854   0.72109   0.73350   0.72090 |    9.5943   4.1585e-02   1.6790e-04     9.6361 |  16.4 |\n",
      "  135 |   7.50e-04   7.50e-04   1.00e-03  4.000e+00 |    6.6716   4.1585e-02   1.6790e-04    6.7133 |   0.63887   0.72007   0.73342   0.71988 |    9.5762   4.1585e-02   1.6790e-04     9.6179 |  15.9 |\n",
      "  136 |   7.50e-04   7.50e-04   1.00e-03  4.000e+00 |    6.7377   4.1585e-02   1.6790e-04    6.7795 |   0.63496   0.71961   0.73244   0.71942 |    9.5209   4.1585e-02   1.6790e-04     9.5627 |  15.9 |\n",
      "  137 |   7.50e-04   7.50e-04   1.00e-03  4.000e+00 |    6.1788   4.1585e-02   1.6790e-04    6.2205 |   0.63986   0.72226   0.73445   0.72207 |    9.5872   4.1585e-02   1.6790e-04     9.6290 |  16.6 |\n",
      "  138 |   7.50e-04   7.50e-04   1.00e-03  4.000e+00 |    6.8753   4.1585e-02   1.6790e-04    6.9171 |   0.64808   0.72006   0.73300   0.71987 |    9.7196   4.1585e-02   1.6790e-04     9.7614 |  17.1 |\n",
      "Epoch   138: reducing learning rate of group 0 to 7.5000e-04.\n",
      "  139 |   7.50e-04   7.50e-04   7.50e-04  4.000e+00 |    6.4159   4.1585e-02   1.6790e-04    6.4577 |   0.64090   0.72104   0.73346   0.72086 |    9.6107   4.1585e-02   1.6790e-04     9.6525 |  16.2 |\n",
      "  140 |   7.50e-04   7.50e-04   7.50e-04  4.000e+00 |    6.5651   4.1585e-02   1.6790e-04    6.6068 |   0.64082   0.72142   0.73380   0.72124 |    9.6194   4.1585e-02   1.6790e-04     9.6611 |  16.6 |\n",
      "  141 |   7.50e-04   7.50e-04   7.50e-04  4.000e+00 |    6.6874   4.1585e-02   1.6790e-04    6.7292 |   0.63894   0.72228   0.73477   0.72210 |    9.6034   4.1585e-02   1.6790e-04     9.6452 |  16.4 |\n",
      "  142 |   7.50e-04   7.50e-04   7.50e-04  4.000e+00 |    6.5644   4.1585e-02   1.6790e-04    6.6061 |   0.65242   0.71816   0.73063   0.71798 |    9.8019   4.1585e-02   1.6790e-04     9.8436 |  16.7 |\n",
      "  143 |   7.50e-04   7.50e-04   7.50e-04  4.000e+00 |    6.6275   4.1585e-02   1.6790e-04    6.6693 |   0.64439   0.72009   0.73305   0.71990 |    9.6769   4.1585e-02   1.6790e-04     9.7186 |  16.7 |\n",
      "  144 |   7.50e-04   7.50e-04   7.50e-04  4.000e+00 |    7.2542   4.1585e-02   1.6790e-04    7.2959 |   0.64950   0.71920   0.73079   0.71902 |    9.7365   4.1585e-02   1.6790e-04     9.7783 |  16.5 |\n",
      "  145 |   7.50e-04   7.50e-04   7.50e-04  4.000e+00 |    6.8308   4.1585e-02   1.6790e-04    6.8725 |   0.64570   0.71942   0.73261   0.71924 |    9.7011   4.1585e-02   1.6790e-04     9.7429 |  16.3 |\n",
      "  146 |   7.50e-04   7.50e-04   7.50e-04  4.000e+00 |    6.5981   4.1585e-02   1.6790e-04    6.6398 |   0.64820   0.71915   0.73186   0.71896 |    9.7225   4.1585e-02   1.6790e-04     9.7643 |  16.5 |\n",
      "  147 |   7.50e-04   7.50e-04   7.50e-04  4.000e+00 |    6.2047   4.1585e-02   1.6790e-04    6.2464 |   0.64787   0.72068   0.73278   0.72049 |    9.7287   4.1585e-02   1.6790e-04     9.7705 |  16.3 |\n",
      "  148 |   7.50e-04   7.50e-04   7.50e-04  4.000e+00 |    6.1295   4.1585e-02   1.6790e-04    6.1713 |   0.64821   0.72059   0.73324   0.72041 |    9.7178   4.1585e-02   1.6790e-04     9.7596 |  17.1 |\n",
      "  149 |   7.50e-04   7.50e-04   7.50e-04  4.000e+00 |    7.0298   4.1585e-02   1.6790e-04    7.0715 |   0.64602   0.72105   0.73387   0.72086 |    9.6939   4.1585e-02   1.6790e-04     9.7357 |  16.6 |\n",
      "  150 |   7.50e-04   7.50e-04   7.50e-04  4.000e+00 |    6.5400   4.1585e-02   1.6790e-04    6.5817 |   0.65447   0.71794   0.73089   0.71776 |    9.8003   4.1585e-02   1.6790e-04     9.8421 |  16.6 |\n",
      "[Final] ep:150  it:15750 -  Total Loss: 9.8421     \n",
      "Task: 9.8003   Sparsity: 4.15848e-02    Sharing: 1.67896e-04 \n",
      "\n",
      " epch: 150   softmax      s        softmax       s        softmax       s\n",
      " -----  ----------------- -    ----------------- -    ----------------- - \n",
      "   1    0.5000    0.5000  1    0.5002    0.4998  1    0.5003    0.4997  1\n",
      "   2    0.5002    0.4998  1    0.4997    0.5003  0    0.4997    0.5003  0\n",
      "   3    0.5002    0.4998  1    0.4999    0.5001  0    0.4997    0.5003  0\n",
      "   4    0.5003    0.4997  1    0.4994    0.5006  0    0.4999    0.5001  0\n",
      "\n",
      "\n",
      "\n",
      " epch: 150   logits       s          logits      s         logits       s\n",
      " -----  ----------------- -    ----------------  -    ----------------  - \n",
      "   1   -0.0002   -0.0003  1    0.0010    0.0004  1    0.0012   -0.0001  1\n",
      "   2    0.0011    0.0002  1    0.0004    0.0015  0   -0.0006    0.0007  0\n",
      "   3    0.0024    0.0014  1   -0.0011   -0.0008  0    0.0004    0.0017  0\n",
      "   4    0.0006   -0.0006  1   -0.0013    0.0011  0   -0.0000    0.0005  0\n",
      "\n",
      "\n",
      " save warmup val_metrics to :  model_warmup_ep_150\n",
      " save warmup checkpoint  to :  model_warmup_ep_150\n"
     ]
    }
   ],
   "source": [
    "# warmup_phase(ns,opt, environ, dldrs, epochs = 25)\n",
    "warmup_phase(ns,opt, environ, dldrs)"
   ]
  },
  {
   "cell_type": "code",
   "execution_count": 13,
   "id": "05b99542",
   "metadata": {
    "ExecuteTime": {
     "end_time": "2022-03-31T17:12:48.874501Z",
     "start_time": "2022-03-31T17:12:48.775903Z"
    }
   },
   "outputs": [
    {
     "data": {
      "text/plain": [
       "(115, 12075, 0.7250636702724867)"
      ]
     },
     "execution_count": 13,
     "metadata": {},
     "output_type": "execute_result"
    }
   ],
   "source": [
    "# warmup_phase(ns,opt, environ, dldrs, epochs = 25)\n",
    "ns.best_epoch, ns.best_iter, ns.best_value"
   ]
  },
  {
   "cell_type": "code",
   "execution_count": 14,
   "id": "a3dc43cf",
   "metadata": {
    "ExecuteTime": {
     "end_time": "2022-03-31T17:12:55.538258Z",
     "start_time": "2022-03-31T17:12:52.014604Z"
    }
   },
   "outputs": [
    {
     "name": "stdout",
     "output_type": "stream",
     "text": [
      "\n"
     ]
    },
    {
     "data": {
      "text/html": [
       "Waiting for W&B process to finish... <strong style=\"color:green\">(success).</strong>"
      ],
      "text/plain": [
       "<IPython.core.display.HTML object>"
      ]
     },
     "metadata": {},
     "output_type": "display_data"
    },
    {
     "data": {
      "application/vnd.jupyter.widget-view+json": {
       "model_id": "02c9ed7c2af34d95a13ac87c1a3ff67e",
       "version_major": 2,
       "version_minor": 0
      },
      "text/plain": [
       "VBox(children=(Label(value='1.936 MB of 1.936 MB uploaded (0.127 MB deduped)\\r'), FloatProgress(value=1.0, max…"
      ]
     },
     "metadata": {},
     "output_type": "display_data"
    },
    {
     "data": {
      "text/html": [
       "W&B sync reduced upload amount by 6.1%             "
      ],
      "text/plain": [
       "<IPython.core.display.HTML object>"
      ]
     },
     "metadata": {},
     "output_type": "display_data"
    },
    {
     "data": {
      "text/html": [
       "<style>\n",
       "    table.wandb td:nth-child(1) { padding: 0 10px; text-align: right }\n",
       "    .wandb-row { display: flex; flex-direction: row; flex-wrap: wrap; width: 100% }\n",
       "    .wandb-col { display: flex; flex-direction: column; flex-basis: 100%; flex: 1; padding: 10px; }\n",
       "    </style>\n",
       "<div class=\"wandb-row\"><div class=\"wandb-col\"><h3>Run history:</h3><br/><table class=\"wandb\"><tr><td>epoch</td><td>▁▁▁▁▂▂▂▂▂▃▃▃▃▃▃▄▄▄▄▄▅▅▅▅▅▅▆▆▆▆▆▆▇▇▇▇▇███</td></tr><tr><td>train_time</td><td>▄▆▅▆▃▆▃█▅▅▃▅▃▇▅▅▄▃▄▂▁▁▃▄▆▃▃▃▇█▂▄▄▄▄▄▇▅▅▅</td></tr></table><br/></div><div class=\"wandb-col\"><h3>Run summary:</h3><br/><table class=\"wandb\"><tr><td>epoch</td><td>150</td></tr><tr><td>train_time</td><td>16.59588</td></tr></table><br/></div></div>"
      ],
      "text/plain": [
       "<IPython.core.display.HTML object>"
      ]
     },
     "metadata": {},
     "output_type": "display_data"
    },
    {
     "data": {
      "text/html": [
       "Synced <strong style=\"color:#cdcd00\">0331_1753_noplcy</strong>: <a href=\"http://localhost:8080/kbardool/AdaSparseChem/runs/1k5h1bvn\" target=\"_blank\">http://localhost:8080/kbardool/AdaSparseChem/runs/1k5h1bvn</a><br/>Synced 7 W&B file(s), 450 media file(s), 454 artifact file(s) and 1 other file(s)"
      ],
      "text/plain": [
       "<IPython.core.display.HTML object>"
      ]
     },
     "metadata": {},
     "output_type": "display_data"
    },
    {
     "data": {
      "text/html": [
       "Find logs at: <code>./wandb/run-20220331_175322-1k5h1bvn/logs</code>"
      ],
      "text/plain": [
       "<IPython.core.display.HTML object>"
      ]
     },
     "metadata": {},
     "output_type": "display_data"
    }
   ],
   "source": [
    "# ns.wandb_run.finish()\n",
    "\n",
    "ns.wandb_run.finish()\n",
    "\n",
    "# environ.losses\n",
    "\n",
    "# environ.val_metrics"
   ]
  },
  {
   "cell_type": "code",
   "execution_count": null,
   "id": "eea84c89",
   "metadata": {},
   "outputs": [],
   "source": []
  },
  {
   "cell_type": "markdown",
   "id": "04d238e8",
   "metadata": {},
   "source": [
    "#### display parms"
   ]
  },
  {
   "cell_type": "code",
   "execution_count": null,
   "id": "e22e75ab",
   "metadata": {
    "ExecuteTime": {
     "end_time": "2022-03-28T04:02:47.732297Z",
     "start_time": "2022-03-28T04:02:47.639607Z"
    }
   },
   "outputs": [],
   "source": [
    "print( f\" Backbone Initial LR         : {environ.opt['train']['backbone_lr']:4f}      current LR : {environ.optimizers['alphas'].param_groups[0]['lr']} \\n\"\n",
    "       f\" Tasks    Initial LR         : {environ.opt['train']['task_lr']:4f}      current LR : {environ.optimizers['weights'].param_groups[0]['lr']}    \\n\"\n",
    "       f\" Policy   Initial LR         : {environ.opt['train']['policy_lr']:4f}      current LR : {environ.optimizers['weights'].param_groups[1]['lr']}  \\n\")\n",
    "print( f\" Sparsity regularization     : {environ.opt['train']['lambda_sparsity']}\\n\"\n",
    "       f\" Sharing  regularization     : {environ.opt['train']['lambda_sharing']} \\n\\n\"\n",
    "       f\" Tasks    regularization     : {environ.opt['train']['lambda_tasks']}   \\n\"\n",
    "       f\" Gumbel Temp                 : {environ.gumbel_temperature:.4f}         \\n\" #\n",
    "       f\" Gumbel Temp decay           : {environ.opt['train']['decay_temp_freq']}\") #"
   ]
  },
  {
   "cell_type": "code",
   "execution_count": null,
   "id": "c2db34fc",
   "metadata": {
    "ExecuteTime": {
     "end_time": "2022-03-28T04:02:47.803657Z",
     "start_time": "2022-03-28T04:02:47.736497Z"
    }
   },
   "outputs": [],
   "source": [
    "# environ.opt['train']['policy_lr'] = 0.01\n",
    "# opt['train']['policy_lr']         = 0.01\n",
    "# environ.opt['train']['lambda_sparsity'] = 0.1\n",
    "# environ.opt['train']['lambda_sharing']  = 0.01\n",
    "# environ.opt['train']['lambda_tasks']    = 1.0\n",
    "# environ.opt['train']['decay_temp_freq'] = 2\n",
    "# print(environ.optimizers['alphas'].param_groups)\n",
    "# print(environ.optimizers['weights'].param_groups)\n",
    "# print('current lr: ', environ.optimizers['alphas'].param_groups[0]['lr'],)\n",
    "# print('current lr: ', environ.optimizers['weights'].param_groups[0]['lr'])\n",
    "# print('current lr: ', environ.optimizers['weights'].param_groups[1]['lr'])"
   ]
  },
  {
   "cell_type": "markdown",
   "id": "eb49645c",
   "metadata": {},
   "source": [
    "## Weight & Policy Training"
   ]
  },
  {
   "cell_type": "markdown",
   "id": "c6aade16",
   "metadata": {},
   "source": [
    "### Weight/Policy Training Preparation"
   ]
  },
  {
   "cell_type": "code",
   "execution_count": null,
   "id": "5fe24a1f",
   "metadata": {
    "ExecuteTime": {
     "end_time": "2022-03-28T04:02:47.867009Z",
     "start_time": "2022-03-28T04:02:47.807720Z"
    }
   },
   "outputs": [],
   "source": [
    "# ns.flag_warmup = True\n",
    "# num_train_layers = None \n",
    "# environ.opt['is_curriculum'] = True\n",
    "# environ.opt['curriculum_speed'] = 4\n",
    "# ns.num_train_layers = None"
   ]
  },
  {
   "cell_type": "code",
   "execution_count": null,
   "id": "365996be",
   "metadata": {
    "ExecuteTime": {
     "end_time": "2022-03-28T04:02:47.944530Z",
     "start_time": "2022-03-28T04:02:47.871259Z"
    }
   },
   "outputs": [],
   "source": [
    "if ns.flag_warmup:\n",
    "    print_heading( f\"** {timestring()} \\n\"\n",
    "                   f\"** Training epoch: {ns.current_epoch} iter: {ns.current_iter}   flag: {ns.flag} \\n\"\n",
    "                   f\"** Set optimizer and scheduler to policy_learning = True (Switch weight optimizer from ADAM to SGD)\\n\"\n",
    "                   f\"** Switch from Warm Up training to Alternate training Weights & Policy \\n\"\n",
    "                   f\"** Take checkpoint and block gradient flow through Policy net\", verbose=True)\n",
    "#     environ.define_optimizer(policy_learning=True)\n",
    "#     environ.define_scheduler(policy_learning=True)\n",
    "    ns.flag_warmup = False\n",
    "    ns.flag = 'update_weights'\n",
    "    environ.fix_alpha()\n",
    "    environ.free_weights(opt['fix_BN'])"
   ]
  },
  {
   "cell_type": "code",
   "execution_count": null,
   "id": "0bc79e10",
   "metadata": {
    "ExecuteTime": {
     "end_time": "2022-03-28T04:02:48.024063Z",
     "start_time": "2022-03-28T04:02:47.950823Z"
    }
   },
   "outputs": [],
   "source": [
    "# ns.training_epochs = 250\n",
    "# environ.display_trained_policy(ns.current_epoch)\n",
    "# environ.display_trained_logits(ns.current_epoch)"
   ]
  },
  {
   "cell_type": "code",
   "execution_count": null,
   "id": "753d84a8",
   "metadata": {
    "ExecuteTime": {
     "end_time": "2022-03-28T04:02:48.115175Z",
     "start_time": "2022-03-28T04:02:48.028324Z"
    }
   },
   "outputs": [],
   "source": [
    "print(f\"ns.current_epoch           : {ns.current_epoch}\")\n",
    "print(f\"ns.training_epochs         : {ns.training_epochs} \\n\") \n",
    "print(f\"ns.current_iters           : {ns.current_iter}\")  \n",
    "print(f\"Batches in weight epoch    : {ns.stop_iter_w}\")\n",
    "print(f\"Batches in policy epoch    : {ns.stop_iter_a}\")\n",
    "print(f\"num_train_layers           : {ns.num_train_layers}\")\n",
    "print()\n",
    "print_loss(environ.val_metrics, title = f\"[e] Last ep:{ns.current_epoch}  it:{ns.current_iter}\")\n",
    "print()\n",
    "\n",
    "print_heading(f\" Last Epoch Completed : {ns.current_epoch}       # of epochs to run:  {ns.training_epochs} -->  epochs {ns.current_epoch+1} to {ns.training_epochs + ns.current_epoch}\"\n",
    "              f\"\\n policy_learning rate : {environ.opt['train']['policy_lr']} \"\n",
    "              f\"\\n lambda_sparsity      : {environ.opt['train']['lambda_sparsity']}\"\n",
    "              f\"\\n lambda_sharing       : {environ.opt['train']['lambda_sharing']}\"\n",
    "              f\"\\n curriculum training  : {opt['is_curriculum']}     cirriculum speed: {opt['curriculum_speed']}     num_training_layers : {ns.num_train_layers}\", \n",
    "              verbose = True)"
   ]
  },
  {
   "cell_type": "markdown",
   "id": "561c71af",
   "metadata": {},
   "source": [
    "### Weight/Policy Training"
   ]
  },
  {
   "cell_type": "code",
   "execution_count": null,
   "id": "d10ad7d8",
   "metadata": {
    "ExecuteTime": {
     "end_time": "2022-03-28T05:13:27.891351Z",
     "start_time": "2022-03-28T04:02:48.119371Z"
    },
    "scrolled": true
   },
   "outputs": [],
   "source": [
    "# weight_policy_training(ns, opt, environ, dldrs, epochs = 100)\n",
    "weight_policy_training(ns, opt, environ, dldrs)"
   ]
  },
  {
   "cell_type": "code",
   "execution_count": null,
   "id": "27779c17",
   "metadata": {
    "ExecuteTime": {
     "end_time": "2022-03-28T05:13:28.065212Z",
     "start_time": "2022-03-28T05:13:27.897193Z"
    }
   },
   "outputs": [],
   "source": [
    "ns.best_epoch, ns.best_iter, ns.best_value"
   ]
  },
  {
   "cell_type": "markdown",
   "id": "58be1060",
   "metadata": {},
   "source": [
    "### Close WandB run"
   ]
  },
  {
   "cell_type": "code",
   "execution_count": null,
   "id": "4c5f6dde",
   "metadata": {
    "ExecuteTime": {
     "end_time": "2022-03-28T05:13:32.216421Z",
     "start_time": "2022-03-28T05:13:28.068834Z"
    }
   },
   "outputs": [],
   "source": [
    "wandb.finish()"
   ]
  },
  {
   "cell_type": "code",
   "execution_count": null,
   "id": "bc49cc3c",
   "metadata": {
    "ExecuteTime": {
     "end_time": "2022-03-28T05:13:32.253924Z",
     "start_time": "2022-03-28T05:13:32.221329Z"
    }
   },
   "outputs": [],
   "source": [
    "# ns.best_epoch = 0\n",
    "# from utils.notebook_modules import wrapup_phase\n",
    "# wrapup_phase(ns, opt, environ)"
   ]
  },
  {
   "cell_type": "code",
   "execution_count": null,
   "id": "c570db82",
   "metadata": {
    "ExecuteTime": {
     "end_time": "2022-03-28T05:13:32.307351Z",
     "start_time": "2022-03-28T05:13:32.262822Z"
    }
   },
   "outputs": [],
   "source": [
    "# environ.opt['train']['policy_lr']       = 0.002\n",
    "# environ.opt['train']['lambda_sparsity'] = 0.05\n",
    "# environ.opt['train']['lambda_sharing']  = 0.01\n",
    "# environ.opt['train']['lambda_tasks']    = 1.0\n",
    "# # environ.opt['train']['decay_temp_freq'] = 2"
   ]
  },
  {
   "cell_type": "code",
   "execution_count": null,
   "id": "26efa07b",
   "metadata": {
    "ExecuteTime": {
     "end_time": "2022-03-28T05:13:32.344678Z",
     "start_time": "2022-03-28T05:13:32.310706Z"
    }
   },
   "outputs": [],
   "source": [
    "print( f\" Backbone Learning Rate      : {environ.opt['train']['backbone_lr']}\\n\"\n",
    "       f\" Tasks    Learning Rate      : {environ.opt['train']['task_lr']}\\n\"\n",
    "       f\" Policy   Learning Rate      : {environ.opt['train']['policy_lr']}\\n\")\n",
    "\n",
    "print( f\" Sparsity regularization     : {environ.opt['train']['lambda_sparsity']}\\n\"\n",
    "       f\" Sharing  regularization     : {environ.opt['train']['lambda_sharing']} \\n\\n\"\n",
    "       f\" Tasks    regularization     : {environ.opt['train']['lambda_tasks']}   \\n\"\n",
    "       f\" Gumbel Temp                 : {environ.gumbel_temperature:.4f}         \\n\" \n",
    "       f\" Gumbel Temp decay           : {environ.opt['train']['decay_temp_freq']}\\n\") \n",
    "\n",
    "print( f\" current_iters               : {ns.current_iter}   \\n\"\n",
    "       f\" current_epochs              : {ns.current_epoch}  \\n\" \n",
    "       f\" train_total_epochs          : {ns.training_epochs}\\n\" \n",
    "       f\" stop_epoch_training         : {ns.stop_epoch_training}\")"
   ]
  },
  {
   "cell_type": "code",
   "execution_count": null,
   "id": "1d3dcb54",
   "metadata": {},
   "outputs": [],
   "source": []
  },
  {
   "cell_type": "markdown",
   "id": "86ac6b6a",
   "metadata": {
    "heading_collapsed": true
   },
   "source": [
    "## Post Training Stuff"
   ]
  },
  {
   "cell_type": "code",
   "execution_count": null,
   "id": "04de4040",
   "metadata": {
    "ExecuteTime": {
     "end_time": "2022-03-13T22:17:44.833671Z",
     "start_time": "2022-03-13T22:17:44.799394Z"
    },
    "hidden": true
   },
   "outputs": [],
   "source": [
    "# pp.pprint(environ.losses)\n",
    "# pp.pprint(environ.val_metrics)\n",
    "environ.num_layers, environ.networks['mtl-net'].num_layers"
   ]
  },
  {
   "cell_type": "code",
   "execution_count": null,
   "id": "db4ca92e",
   "metadata": {
    "ExecuteTime": {
     "end_time": "2022-03-10T23:23:43.744498Z",
     "start_time": "2022-03-10T23:23:43.696990Z"
    },
    "hidden": true
   },
   "outputs": [],
   "source": [
    "# pp.pprint(environ.val_metrics['total'])"
   ]
  },
  {
   "cell_type": "code",
   "execution_count": null,
   "id": "336e5cec",
   "metadata": {
    "ExecuteTime": {
     "end_time": "2022-02-21T17:44:36.218784Z",
     "start_time": "2022-02-21T17:44:36.063411Z"
    },
    "hidden": true
   },
   "outputs": [],
   "source": [
    "# print_loss(environ.val_metrics, title = f\"[Final] ep:{current_epoch}  it:{current_iter}\",)\n",
    "# environ.display_trained_policy(current_epoch)\n",
    "# environ.display_trained_logits(current_epoch)\n",
    "# environ.log_file.flush()"
   ]
  },
  {
   "cell_type": "code",
   "execution_count": null,
   "id": "083c1c8e",
   "metadata": {
    "ExecuteTime": {
     "end_time": "2022-03-06T00:32:52.580865Z",
     "start_time": "2022-03-06T00:32:52.554112Z"
    },
    "hidden": true,
    "scrolled": true
   },
   "outputs": [],
   "source": [
    "# model_label   = 'model_train_ep_%d_seed_%04d' % (current_epoch, opt['random_seed'])\n",
    "# metrics_label = 'metrics_train_ep_%d_seed_%04d.pickle' % (current_epoch, opt['random_seed'])\n",
    "# environ.save_checkpoint(model_label, current_iter, current_epoch) \n",
    "# save_to_pickle(environ.val_metrics, environ.opt['paths']['checkpoint_dir'], metrics_label)\n",
    "# print_loss(environ.val_metrics, title = f\"[Final] ep:{current_epoch}  it:{current_iter}\",)\n",
    "# environ.display_trained_policy(current_epoch,out=[sys.stdout, environ.log_file])\n",
    "# environ.display_trained_logits(current_epoch)\n",
    "# environ.log_file.flush()"
   ]
  },
  {
   "cell_type": "code",
   "execution_count": null,
   "id": "5dad3a6e",
   "metadata": {
    "ExecuteTime": {
     "end_time": "2022-02-20T22:48:27.014120Z",
     "start_time": "2022-02-20T22:48:26.982535Z"
    },
    "hidden": true
   },
   "outputs": [],
   "source": [
    "# print_loss(current_iter, environ.losses, title = f\"[e] Policy training epoch:{current_epoch}    iter:\")\n",
    "# print()\n",
    "# print_loss(current_iter, trn_losses, title = f\"[e] Policy training epoch:{current_epoch}    iter:\")\n",
    "# print()\n",
    "# print_loss(current_iter, environ.val_metrics, title = f\"[e] Policy training epoch:{current_epoch}    iter:\")"
   ]
  },
  {
   "cell_type": "code",
   "execution_count": null,
   "id": "464d5db8",
   "metadata": {
    "ExecuteTime": {
     "end_time": "2022-03-01T20:31:45.254334Z",
     "start_time": "2022-03-01T20:31:45.116895Z"
    },
    "hidden": true
   },
   "outputs": [],
   "source": [
    "# environ.losses\n",
    "# environ.val_metrics"
   ]
  },
  {
   "cell_type": "code",
   "execution_count": null,
   "id": "59c4dd81",
   "metadata": {
    "ExecuteTime": {
     "end_time": "2022-03-01T20:47:29.582501Z",
     "start_time": "2022-03-01T20:47:29.492581Z"
    },
    "hidden": true
   },
   "outputs": [],
   "source": [
    "# environ.batch_data\n",
    "# print_metrics_cr(current_epoch, time.time() - start_time, trn_losses, environ.val_metrics, 0, out=[sys.stdout])\n",
    "# environ.display_parameters()\n",
    "\n",
    "# with np.printoptions(edgeitems=3, infstr='inf', linewidth=150, nanstr='nan', precision=7, formatter={'float': lambda x: f\"{x:12.5e}\"}):\n",
    "#     environ.print_logit_grads('gradients')\n",
    "\n",
    "# environ_params = environ.get_task_specific_parameters()\n",
    "# environ_params = environ.get_arch_parameters()\n",
    "# environ_params = environ.get_backbone_parameters()\n",
    "# print(environ_params)\n",
    "# for param in environ_params:\n",
    "#     print(param.grad.shape, '\\n', param.grad)\n",
    "#     print(param)"
   ]
  },
  {
   "cell_type": "code",
   "execution_count": null,
   "id": "49c80c9b",
   "metadata": {
    "ExecuteTime": {
     "end_time": "2022-03-11T21:12:46.806056Z",
     "start_time": "2022-03-11T21:12:46.471801Z"
    },
    "hidden": true
   },
   "outputs": [],
   "source": [
    "environ.display_trained_logits(ns.current_epoch)\n",
    "environ.display_trained_policy(ns.current_epoch)"
   ]
  },
  {
   "cell_type": "code",
   "execution_count": null,
   "id": "04d47dc5",
   "metadata": {
    "ExecuteTime": {
     "end_time": "2022-03-11T21:13:19.578964Z",
     "start_time": "2022-03-11T21:13:19.242252Z"
    },
    "hidden": true
   },
   "outputs": [],
   "source": [
    "environ.display_test_sample_policy(ns.current_epoch, hard_sampling = True)\n",
    "environ.display_train_sample_policy(ns.current_epoch, hard_sampling = True)"
   ]
  },
  {
   "cell_type": "code",
   "execution_count": null,
   "id": "8754b317",
   "metadata": {
    "ExecuteTime": {
     "end_time": "2022-03-06T00:33:19.474125Z",
     "start_time": "2022-03-06T00:33:19.447847Z"
    },
    "hidden": true
   },
   "outputs": [],
   "source": [
    "# environ.define_optimizer(policy_learning=True)"
   ]
  },
  {
   "cell_type": "code",
   "execution_count": null,
   "id": "e7e89541",
   "metadata": {
    "ExecuteTime": {
     "end_time": "2022-03-09T00:07:08.097708Z",
     "start_time": "2022-03-09T00:07:08.070721Z"
    },
    "hidden": true
   },
   "outputs": [],
   "source": [
    "print(environ.optimizers['alphas'])\n",
    "print(environ.optimizers['weights'])"
   ]
  },
  {
   "cell_type": "code",
   "execution_count": null,
   "id": "d1ecc91e",
   "metadata": {
    "ExecuteTime": {
     "end_time": "2022-03-09T00:07:50.026992Z",
     "start_time": "2022-03-09T00:07:49.986101Z"
    },
    "hidden": true,
    "scrolled": true
   },
   "outputs": [],
   "source": [
    "print('Policy  initial_lr : ', environ.optimizers['alphas'].param_groups[0]['initial_lr'], 'lr : ',environ.optimizers['alphas'].param_groups[0]['lr'])\n",
    "print('Weights initial_lr : ', environ.optimizers['weights'].param_groups[0]['initial_lr'], 'lr : ',environ.optimizers['weights'].param_groups[0]['lr'])\n",
    "print('Weights initial_lr : ', environ.optimizers['weights'].param_groups[1]['initial_lr'], 'lr : ',environ.optimizers['weights'].param_groups[1]['lr'])"
   ]
  },
  {
   "cell_type": "code",
   "execution_count": null,
   "id": "a1306e8c",
   "metadata": {
    "ExecuteTime": {
     "end_time": "2022-03-10T22:31:50.425696Z",
     "start_time": "2022-03-10T22:31:50.396531Z"
    },
    "hidden": true
   },
   "outputs": [],
   "source": [
    "wandb.run is None"
   ]
  },
  {
   "cell_type": "code",
   "execution_count": null,
   "id": "1b6b8e99",
   "metadata": {
    "ExecuteTime": {
     "end_time": "2022-03-05T23:10:03.751132Z",
     "start_time": "2022-03-05T23:10:03.724538Z"
    },
    "execution": {
     "iopub.execute_input": "2022-01-07T22:44:13.145647Z",
     "iopub.status.busy": "2022-01-07T22:44:13.145313Z",
     "iopub.status.idle": "2022-01-07T22:44:13.193262Z",
     "shell.execute_reply": "2022-01-07T22:44:13.192140Z",
     "shell.execute_reply.started": "2022-01-07T22:44:13.145622Z"
    },
    "hidden": true
   },
   "outputs": [],
   "source": [
    "# opt['exp_instance'] = '0218_1358'     \n",
    "# folder_name=  f\"{opt['exp_instance']}_bs{opt['train']['batch_size']:03d}_{opt['train']['decay_lr_rate']:3.2f}_{opt['train']['decay_lr_freq']}\"\n",
    "# print()\n",
    "# opt['exp_instance'] = datetime.now().strftime(\"%m%d_%H%M\")\n",
    "# opt['exp_description'] = f\"No Alternating Weight/Policy - training all done with both weights and policy\"\n",
    "# folder_name=  f\"{opt['exp_instance']}_bs{opt['train']['batch_size']:03d}_{opt['train']['decay_lr_rate']:3.2f}_{opt['train']['decay_lr_freq']}\""
   ]
  },
  {
   "cell_type": "code",
   "execution_count": null,
   "id": "d2affee1",
   "metadata": {
    "ExecuteTime": {
     "end_time": "2022-03-11T21:12:20.322227Z",
     "start_time": "2022-03-11T21:12:20.285961Z"
    },
    "hidden": true
   },
   "outputs": [],
   "source": [
    "# wandb.finish()"
   ]
  },
  {
   "cell_type": "code",
   "execution_count": null,
   "id": "2527bd00",
   "metadata": {
    "ExecuteTime": {
     "end_time": "2022-02-20T21:25:11.319751Z",
     "start_time": "2022-02-20T21:25:11.210062Z"
    },
    "hidden": true
   },
   "outputs": [],
   "source": [
    "# \n",
    "p = environ.get_current_state(0)"
   ]
  },
  {
   "cell_type": "code",
   "execution_count": null,
   "id": "919068f7",
   "metadata": {
    "ExecuteTime": {
     "end_time": "2022-02-20T21:25:26.324030Z",
     "start_time": "2022-02-20T21:25:26.112782Z"
    },
    "hidden": true
   },
   "outputs": [],
   "source": [
    "pp.pprint(p)"
   ]
  },
  {
   "cell_type": "markdown",
   "id": "5c82a453",
   "metadata": {
    "heading_collapsed": true,
    "hidden": true
   },
   "source": [
    "### Post Warm-up Training stuff"
   ]
  },
  {
   "cell_type": "code",
   "execution_count": null,
   "id": "3bb74c3d",
   "metadata": {
    "ExecuteTime": {
     "end_time": "2022-02-01T12:45:43.999959Z",
     "start_time": "2022-02-01T12:45:43.862475Z"
    },
    "hidden": true
   },
   "outputs": [],
   "source": [
    "pp.pprint(environ.val_metrics)"
   ]
  },
  {
   "cell_type": "code",
   "execution_count": null,
   "id": "912b47da",
   "metadata": {
    "ExecuteTime": {
     "end_time": "2022-02-01T12:46:36.700361Z",
     "start_time": "2022-02-01T12:46:36.367037Z"
    },
    "hidden": true
   },
   "outputs": [],
   "source": [
    "environ.networks['mtl-net'].arch_parameters()"
   ]
  },
  {
   "cell_type": "code",
   "execution_count": null,
   "id": "922f0235",
   "metadata": {
    "ExecuteTime": {
     "end_time": "2022-01-28T16:37:10.158440Z",
     "start_time": "2022-01-28T16:37:09.742327Z"
    },
    "hidden": true
   },
   "outputs": [],
   "source": [
    "p = environ.get_sample_policy(hard_sampling = False)\n",
    "print(p)\n",
    "p = environ.get_policy_prob()\n",
    "print(p)\n",
    "p = environ.get_policy_logits()\n",
    "print(p)\n",
    "\n",
    "# p = environ.get_current_policy()\n",
    "# print(p)"
   ]
  },
  {
   "cell_type": "code",
   "execution_count": null,
   "id": "c6bddd44",
   "metadata": {
    "ExecuteTime": {
     "end_time": "2022-01-28T16:40:37.799917Z",
     "start_time": "2022-01-28T16:40:37.773177Z"
    },
    "hidden": true
   },
   "outputs": [],
   "source": [
    "a = softmax([0.0, 1])\n",
    "print(a)\n",
    "sampled = np.random.choice((1, 0), p=a)\n",
    "print(sampled)"
   ]
  },
  {
   "cell_type": "code",
   "execution_count": null,
   "id": "f5e8f376",
   "metadata": {
    "ExecuteTime": {
     "end_time": "2022-01-28T16:13:16.205889Z",
     "start_time": "2022-01-28T16:13:16.179303Z"
    },
    "hidden": true
   },
   "outputs": [],
   "source": [
    "print(environ.optimizers['weights'])\n",
    "print(environ.schedulers['weights'].get_last_lr())"
   ]
  },
  {
   "cell_type": "code",
   "execution_count": null,
   "id": "dddf9c47",
   "metadata": {
    "ExecuteTime": {
     "end_time": "2022-02-01T12:46:50.411465Z",
     "start_time": "2022-02-01T12:46:50.020540Z"
    },
    "hidden": true,
    "scrolled": false
   },
   "outputs": [],
   "source": [
    "print('losses.keys      : ', environ.losses.keys())\n",
    "print('losses[task]keys : ', environ.losses['task1'].keys())\n",
    "pp.pprint(environ.losses)"
   ]
  },
  {
   "cell_type": "code",
   "execution_count": null,
   "id": "20950069",
   "metadata": {
    "ExecuteTime": {
     "end_time": "2022-01-15T22:57:02.151169Z",
     "start_time": "2022-01-15T22:57:02.056562Z"
    },
    "execution": {
     "iopub.execute_input": "2022-01-07T22:49:07.606120Z",
     "iopub.status.busy": "2022-01-07T22:49:07.604909Z",
     "iopub.status.idle": "2022-01-07T22:49:08.025886Z",
     "shell.execute_reply": "2022-01-07T22:49:08.024798Z",
     "shell.execute_reply.started": "2022-01-07T22:49:07.606065Z"
    },
    "hidden": true,
    "scrolled": false
   },
   "outputs": [],
   "source": [
    "print( environ.val_metrics.keys())\n",
    "# pp.pprint(val_metrics)\n",
    "print(type(environ.val_metrics['aggregated']))\n",
    "print()\n",
    "print(type(environ.val_metrics['task1']['classification_agg']))\n",
    "print()\n",
    "pp.pprint(environ.val_metrics)"
   ]
  },
  {
   "cell_type": "code",
   "execution_count": null,
   "id": "eed6e311",
   "metadata": {
    "ExecuteTime": {
     "end_time": "2022-01-14T18:57:26.266303Z",
     "start_time": "2022-01-14T18:57:26.166878Z"
    },
    "hidden": true
   },
   "outputs": [],
   "source": [
    "# import pickle\n",
    "# with open(\"val_metrics.pkl\", mode= 'wb') as f:\n",
    "#         pickle.dump(val_metrics, f)\n",
    "    \n",
    "# with open('val_metrics.pkl', 'rb') as f:    \n",
    "#     tst_val_metrics = pickle.load(f)"
   ]
  },
  {
   "cell_type": "code",
   "execution_count": null,
   "id": "2b00a8aa",
   "metadata": {
    "ExecuteTime": {
     "end_time": "2022-01-14T18:57:26.297444Z",
     "start_time": "2022-01-14T18:57:26.269323Z"
    },
    "hidden": true
   },
   "outputs": [],
   "source": [
    "# print(environ.input.shape) \n",
    "# a = getattr(environ, 'task1_pred')\n",
    "# yc_data = environ.batch['task1_data']\n",
    "# print(yc_data.shape)\n",
    "# yc_ind = environ.batch['task1_ind']\n",
    "# print(yc_ind.shape)\n",
    "# yc_hat_all = getattr(environ, 'task1_pred')\n",
    "# print(yc_hat_all.shape)\n",
    "# yc_hat  = yc_hat_all[yc_ind[0], yc_ind[1]]\n",
    "# print(yc_hat_all.shape, yc_hat.shape)\n",
    "\n",
    "# \n",
    "# environ.losses\n",
    "# loss = {}\n",
    "# for key in environ.losses.keys():\n",
    "#     loss[key] = {}\n",
    "#     for subkey, v in environ.losses[key].items():\n",
    "#         print(f\" key:  {key}   subkey: {subkey} \")\n",
    "#         if isinstance(v, torch.Tensor):\n",
    "#             loss[key][subkey] = v.data\n",
    "#             print(f\" Tensor  -  key:  {key}   subkey: {subkey}           value type: {type(v)}  value: {v:.4f}\")\n",
    "#         else:\n",
    "#             loss[key][subkey] = v\n",
    "#             print(f\" integer -  key:  {key}   subkey: {subkey}           value type: {type(v)}  value: {v:.4f}\")\n",
    "# pp.pprint(tst_val_metrics)             "
   ]
  },
  {
   "cell_type": "code",
   "execution_count": null,
   "id": "5987f89f",
   "metadata": {
    "ExecuteTime": {
     "end_time": "2022-01-14T18:57:26.340792Z",
     "start_time": "2022-01-14T18:57:26.302528Z"
    },
    "execution": {
     "iopub.execute_input": "2022-01-07T22:49:07.606120Z",
     "iopub.status.busy": "2022-01-07T22:49:07.604909Z",
     "iopub.status.idle": "2022-01-07T22:49:08.025886Z",
     "shell.execute_reply": "2022-01-07T22:49:08.024798Z",
     "shell.execute_reply.started": "2022-01-07T22:49:07.606065Z"
    },
    "hidden": true
   },
   "outputs": [],
   "source": [
    "# print('metrics.keys: ', environ.metrics.keys())\n",
    "# print('metrics[task].keys: ', environ.metrics['task1'].keys())\n",
    "# pp.pprint(environ.metrics['task1'])\n",
    "# pp.pprint(environ.losses['task1']['total'])"
   ]
  },
  {
   "cell_type": "code",
   "execution_count": null,
   "id": "864ae417",
   "metadata": {
    "ExecuteTime": {
     "end_time": "2022-01-14T18:57:26.373399Z",
     "start_time": "2022-01-14T18:57:26.345065Z"
    },
    "hidden": true
   },
   "outputs": [],
   "source": [
    "# title='Iteration'\n",
    "# for t_id, _ in enumerate(environ.tasks):\n",
    "#     task_key = f\"task{t_id+1}\"\n",
    "# #     print_heading(f\"{title}  {current_iter}  {task_key} : {val_metrics[task_key]['classification_agg']}\", verbose = True)\n",
    "\n",
    "#     for key, _  in val_metrics[task_key]['classification_agg'].items():\n",
    "#         print('%s/%-20s'%(task_key, key), val_metrics[task_key]['classification_agg'][key], current_iter)\n",
    "#         print(f\"{task_key:s}/{key:20s}\", val_metrics[task_key]['classification_agg'][key], current_iter)\n",
    "#         print()\n",
    "#             # print_current_errors(os.path.join(self.log_dir, 'loss.txt'), current_iter,key, loss[key], time.time() - start_time)"
   ]
  },
  {
   "cell_type": "code",
   "execution_count": null,
   "id": "c0b73b44",
   "metadata": {
    "ExecuteTime": {
     "end_time": "2022-01-07T22:52:48.162261Z",
     "start_time": "2022-01-07T22:52:48.140423Z"
    },
    "hidden": true
   },
   "outputs": [],
   "source": [
    "# environ.print_loss(current_iter, start_time, metrics = val_metrics['loss'], verbose=True)\n",
    "# print(opt['lambdas'])\n",
    "# p = (opt['lambdas'][0] * environ.losses['tasks']['task1'])\n",
    "# print(p)\n",
    "\n",
    "# environ.print_val_metrics(current_iter, start_time, val_metrics , title='validation', verbose=True)    "
   ]
  },
  {
   "cell_type": "code",
   "execution_count": null,
   "id": "850378b6",
   "metadata": {
    "ExecuteTime": {
     "end_time": "2022-01-07T22:52:47.661019Z",
     "start_time": "2022-01-07T22:52:47.639094Z"
    },
    "hidden": true
   },
   "outputs": [],
   "source": [
    "# print(current_iter)\n",
    "# print_metrics_cr(current_iter, t1 - t0, None, val_metrics , True)\n",
    "# environ.print_val_metrics(current_iter, start_time, val_metrics, title='validation', verbose = True)"
   ]
  },
  {
   "cell_type": "code",
   "execution_count": null,
   "id": "266a80b0",
   "metadata": {
    "ExecuteTime": {
     "end_time": "2022-01-07T23:14:58.034384Z",
     "start_time": "2022-01-07T23:14:58.004850Z"
    },
    "hidden": true,
    "scrolled": true
   },
   "outputs": [],
   "source": [
    "print(f\" val_metric keys               : {val_metrics.keys()}\")\n",
    "print(f\" loss keys                     : {val_metrics['loss'].keys()}\")\n",
    "print(f\" task1 keys                    : {val_metrics['task1'].keys()}\")\n",
    "print(f\" task1 classification keys     : {val_metrics['task1']['classification'].keys()}\")\n",
    "print(f\" task1 classification_agg keys : {val_metrics['task1']['classification_agg'].keys()}\")\n",
    "print()\n",
    "print(f\" task1                       : {val_metrics['task1']['classification_agg']['loss']:5f}\")\n",
    "print(f\" task2                       : {val_metrics['task2']['classification_agg']['loss']:5f}\")\n",
    "print(f\" task3                       : {val_metrics['task3']['classification_agg']['loss']:5f}\")\n",
    "print(f\" loss                        : {val_metrics['loss']['total']:5f}\")\n",
    "print(f\" train_time                  : {val_metrics['train_time']:2f}\")\n",
    "print(f\" epoch                       : {val_metrics['epoch']}\")\n"
   ]
  },
  {
   "cell_type": "markdown",
   "id": "60fc43a6",
   "metadata": {
    "heading_collapsed": true,
    "hidden": true
   },
   "source": [
    "### Post Weight + Policy Training Stuff "
   ]
  },
  {
   "cell_type": "code",
   "execution_count": null,
   "id": "65640cd9",
   "metadata": {
    "ExecuteTime": {
     "end_time": "2022-01-27T00:22:20.634818Z",
     "start_time": "2022-01-27T00:22:20.444566Z"
    },
    "hidden": true
   },
   "outputs": [],
   "source": [
    "environ.networks['mtl-net'].backbone.layer_config"
   ]
  },
  {
   "cell_type": "code",
   "execution_count": null,
   "id": "a4374287",
   "metadata": {
    "ExecuteTime": {
     "end_time": "2022-01-26T19:30:31.940280Z",
     "start_time": "2022-01-26T19:30:31.910058Z"
    },
    "hidden": true
   },
   "outputs": [],
   "source": [
    "num_blocks = 6\n",
    "num_policy_layers = 6\n",
    "gt =  torch.ones((num_blocks)).long()\n",
    "gt0 =  torch.zeros((num_blocks)).long()\n",
    "print(gt)\n",
    "print(gt0)\n",
    "\n",
    "loss_weights = ((torch.arange(0, num_policy_layers, 1) + 1).float() / num_policy_layers)\n",
    "print(loss_weights)"
   ]
  },
  {
   "cell_type": "code",
   "execution_count": null,
   "id": "8651bc43",
   "metadata": {
    "ExecuteTime": {
     "end_time": "2022-01-26T19:42:31.300891Z",
     "start_time": "2022-01-26T19:42:31.257774Z"
    },
    "hidden": true
   },
   "outputs": [],
   "source": [
    "if environ.opt['diff_sparsity_weights'] and not environ.opt['is_sharing']:\n",
    "    print(' cond 1')\n",
    "    ## Assign higher weights to higher layers \n",
    "    loss_weights = ((torch.arange(0, num_policy_layers, 1) + 1).float() / num_policy_layers)\n",
    "    print(f\"{task_key} sparsity error:  {2 * (loss_weights[-num_blocks:] * environ.cross_entropy2(logits[-num_blocks:], gt)).mean()})\")\n",
    "    print_dbg(f\" loss_weights :  {loss_weights}\", verbose = True)\n",
    "    print_dbg(f\" cross_entropy:  {environ.cross_entropy2(logits[-num_blocks:], gt)}  \", verbose = True)\n",
    "    print_dbg(f\" loss[sparsity][{task_key}]: {self.losses['sparsity'][task_key] } \", verbose = True)\n",
    "\n",
    "else:\n",
    "    print('\\n cond 2')\n",
    "    print_dbg(f\"Compute CrossEntropyLoss between \\n Logits   : \\n{logits[-num_blocks:]} \\n and gt: \\n{gt} \\n\", verbose = True)\n",
    "    print(f\"{task_key} sparsity error:  {environ.cross_entropy_sparsity(logits[-num_blocks:], gt)}\")\n",
    "    \n",
    "    print('\\n cond 2')\n",
    "    print_dbg(f\"Compute CrossEntropyLoss between Logits      : {logits[-1:]}  and gt: {gt[-1]} \", verbose = True)\n",
    "    print(f\"{task_key} sparsity error:  {environ.cross_entropy_sparsity(logits[-1:], gt[-1:])} \\n\")\n",
    "    print_dbg(f\"Compute CrossEntropyLoss between Logits      : {logits[-1:]}  and gt: {gt0[-1]} \", verbose = True)\n",
    "    print(f\"{task_key} sparsity error:  {environ.cross_entropy_sparsity(logits[-1:], gt0[-1:])} \\n\")\n",
    "    \n",
    "    print('\\n cond 3')    \n",
    "    print_dbg(f\"Compute CrossEntropyLoss between Logits   : {logits[0:1]}  and gt: {gt[0:1]} \", verbose = True)\n",
    "    print(f\"{task_key} sparsity error:  {environ.cross_entropy_sparsity(logits[0:1], gt[0:1])} \\n\")\n",
    "    print_dbg(f\"Compute CrossEntropyLoss between Logits   : {logits[0:1]}  and gt: {gt0[0:1]} \", verbose = True)\n",
    "    print(f\"{task_key} sparsity error:  {environ.cross_entropy_sparsity(logits[0:1], gt0[0:1])} \\n\")\n",
    "        \n",
    "        "
   ]
  },
  {
   "cell_type": "code",
   "execution_count": null,
   "id": "c686cd05",
   "metadata": {
    "hidden": true
   },
   "outputs": [],
   "source": []
  },
  {
   "cell_type": "code",
   "execution_count": null,
   "id": "c83ee1b6",
   "metadata": {
    "ExecuteTime": {
     "end_time": "2022-01-26T00:14:30.155045Z",
     "start_time": "2022-01-26T00:14:30.107095Z"
    },
    "hidden": true
   },
   "outputs": [],
   "source": [
    "# flag = 'update_w'\n",
    "# environ.fix_alpha\n",
    "# environ.free_w(opt['fix_BN'])\n",
    "\n",
    "flag = 'update_alpha'\n",
    "environ.fix_weights()\n",
    "environ.free_alpha()"
   ]
  },
  {
   "cell_type": "code",
   "execution_count": null,
   "id": "6e7996b7",
   "metadata": {
    "ExecuteTime": {
     "end_time": "2022-01-25T23:43:31.184285Z",
     "start_time": "2022-01-25T23:43:31.159229Z"
    },
    "hidden": true
   },
   "outputs": [],
   "source": [
    "environ.networks['mtl-net'].num_layers"
   ]
  },
  {
   "cell_type": "code",
   "execution_count": null,
   "id": "f436ee6a",
   "metadata": {
    "ExecuteTime": {
     "end_time": "2022-01-26T00:14:34.993711Z",
     "start_time": "2022-01-26T00:14:34.968623Z"
    },
    "hidden": true
   },
   "outputs": [],
   "source": [
    "print(f\"current_iters         : {current_iter}\")  \n",
    "print(f\"current_epochs           : {current_epoch}\") \n",
    "print(f\"train_total_epochs    : {train_total_epochs}\") \n",
    "\n",
    "train_total_epochs += 5\n",
    "\n",
    "print(f\"current_iters         : {current_iter}\")  \n",
    "print(f\"current_epochs           : {current_epoch}\") \n",
    "print(f\"train_total_epochs    : {train_total_epochs}\") "
   ]
  },
  {
   "cell_type": "code",
   "execution_count": null,
   "id": "5334a0b6",
   "metadata": {
    "ExecuteTime": {
     "end_time": "2022-01-25T17:15:02.216665Z",
     "start_time": "2022-01-25T17:15:01.848081Z"
    },
    "hidden": true
   },
   "outputs": [],
   "source": [
    "# print_metrics_cr(current_epoch, time.time() - t0, None, environ.val_metrics , num_prints)      \n",
    "\n",
    "# num_prints += 1\n",
    "# t0 = time.time()\n",
    "\n",
    "# # Take check point\n",
    "# environ.save_checkpoint('latest', current_iter)\n",
    "# environ.train()\n",
    "# #-------------------------------------------------------\n",
    "# # END validation process\n",
    "# #-------------------------------------------------------       \n",
    "# flag = 'update_alpha'\n",
    "# environ.fix_w()\n",
    "# environ.free_alpha()"
   ]
  },
  {
   "cell_type": "code",
   "execution_count": null,
   "id": "9d8c4f39",
   "metadata": {
    "ExecuteTime": {
     "end_time": "2022-01-08T01:08:57.366231Z",
     "start_time": "2022-01-08T01:08:57.295445Z"
    },
    "hidden": true
   },
   "outputs": [],
   "source": [
    "# dilation = 2\n",
    "# kernel_size = np.asarray((3, 3))\n",
    "# upsampled_kernel_size = (kernel_size - 1) * (dilation - 1) + kernel_size\n",
    "# print(upsampled_kernel_size)"
   ]
  },
  {
   "cell_type": "code",
   "execution_count": null,
   "id": "9500c390",
   "metadata": {
    "ExecuteTime": {
     "end_time": "2022-01-25T23:43:39.763599Z",
     "start_time": "2022-01-25T23:43:39.728402Z"
    },
    "hidden": true
   },
   "outputs": [],
   "source": [
    "# environ.optimizers['weights'].param_groups[0]\n",
    "# for param_group in optimizer.param_groups:\n",
    "#     return param_group['lr']"
   ]
  },
  {
   "cell_type": "code",
   "execution_count": null,
   "id": "5fb71bd6",
   "metadata": {
    "ExecuteTime": {
     "end_time": "2022-01-25T23:43:41.628847Z",
     "start_time": "2022-01-25T23:43:41.602238Z"
    },
    "hidden": true
   },
   "outputs": [],
   "source": [
    "environ.schedulers['weights'].get_last_lr()"
   ]
  },
  {
   "cell_type": "code",
   "execution_count": null,
   "id": "d7934862",
   "metadata": {
    "ExecuteTime": {
     "end_time": "2022-01-08T01:36:17.129535Z",
     "start_time": "2022-01-08T01:36:16.006144Z"
    },
    "hidden": true,
    "scrolled": true
   },
   "outputs": [],
   "source": [
    "current_state = {}\n",
    "for k, v in environ.optimizers.items():\n",
    "    print(f'state dict for {k} = {v}')\n",
    "    current_state[k] = v.state_dict()\n",
    "pp.pprint(current_state)"
   ]
  },
  {
   "cell_type": "code",
   "execution_count": null,
   "id": "d5faf7f1",
   "metadata": {
    "ExecuteTime": {
     "end_time": "2022-01-08T01:40:22.032247Z",
     "start_time": "2022-01-08T01:40:22.006953Z"
    },
    "hidden": true,
    "scrolled": true
   },
   "outputs": [],
   "source": [
    "current_state = {}\n",
    "for k, v in environ.schedulers.items():\n",
    "    print(f'state dict for {k} = {v}')\n",
    "    print(v.state_dict())"
   ]
  },
  {
   "cell_type": "markdown",
   "id": "dd497e72",
   "metadata": {
    "heading_collapsed": true,
    "hidden": true
   },
   "source": [
    "### Losses and Metrics"
   ]
  },
  {
   "cell_type": "code",
   "execution_count": null,
   "id": "66169a84",
   "metadata": {
    "ExecuteTime": {
     "end_time": "2022-02-09T16:34:44.555617Z",
     "start_time": "2022-02-09T16:34:44.507417Z"
    },
    "hidden": true
   },
   "outputs": [],
   "source": [
    "trn_losses = environ.losses"
   ]
  },
  {
   "cell_type": "code",
   "execution_count": null,
   "id": "60cb8234",
   "metadata": {
    "ExecuteTime": {
     "end_time": "2022-02-10T03:35:11.758429Z",
     "start_time": "2022-02-10T03:35:11.278211Z"
    },
    "hidden": true
   },
   "outputs": [],
   "source": [
    "print_metrics_cr(current_epoch, time.time() - start_time, trn_losses, environ.val_metrics , num_prints)      "
   ]
  },
  {
   "cell_type": "code",
   "execution_count": null,
   "id": "4ce0301f",
   "metadata": {
    "ExecuteTime": {
     "end_time": "2022-02-10T03:21:49.107793Z",
     "start_time": "2022-02-10T03:21:49.084484Z"
    },
    "hidden": true
   },
   "outputs": [],
   "source": [
    "# print_metrics_cr(current_epoch, time.time() - start_time, trn_losses, environ.val_metrics , num_prints)      "
   ]
  },
  {
   "cell_type": "code",
   "execution_count": null,
   "id": "a498b6ee",
   "metadata": {
    "ExecuteTime": {
     "end_time": "2022-02-10T03:20:32.866010Z",
     "start_time": "2022-02-10T03:20:32.442919Z"
    },
    "hidden": true
   },
   "outputs": [],
   "source": [
    "# pp.pprint(environ.losses)\n",
    "pp.pprint(trn_losses)"
   ]
  },
  {
   "cell_type": "code",
   "execution_count": null,
   "id": "5fe30724",
   "metadata": {
    "ExecuteTime": {
     "end_time": "2022-02-10T03:34:21.945701Z",
     "start_time": "2022-02-10T03:34:21.411234Z"
    },
    "hidden": true
   },
   "outputs": [],
   "source": [
    "pp.pprint(environ.val_metrics)"
   ]
  },
  {
   "cell_type": "code",
   "execution_count": null,
   "id": "a1d81167",
   "metadata": {
    "ExecuteTime": {
     "end_time": "2022-01-27T00:58:49.364883Z",
     "start_time": "2022-01-27T00:58:49.342931Z"
    },
    "hidden": true
   },
   "outputs": [],
   "source": [
    "# environ.opt['train']['Lambda_sharing'] = 0.5\n",
    "# opt['train']['Lambda_sharing'] = 0.5\n",
    "\n",
    "# environ.opt['train']['policy_lr'] = 0.001\n",
    "# opt['train']['policy_lr'] = 0.001"
   ]
  },
  {
   "cell_type": "code",
   "execution_count": null,
   "id": "2a73aa06",
   "metadata": {
    "ExecuteTime": {
     "end_time": "2022-01-26T01:00:41.996410Z",
     "start_time": "2022-01-26T01:00:41.559006Z"
    },
    "hidden": true
   },
   "outputs": [],
   "source": [
    "environ.losses.keys()\n",
    "pp.pprint(environ.losses)"
   ]
  },
  {
   "cell_type": "code",
   "execution_count": null,
   "id": "e06ece74",
   "metadata": {
    "ExecuteTime": {
     "end_time": "2022-01-08T01:19:43.683550Z",
     "start_time": "2022-01-08T01:19:43.571450Z"
    },
    "hidden": true
   },
   "outputs": [],
   "source": [
    "tmp = environ.get_loss_dict()\n",
    "print(tmp.keys())\n",
    "pp.pprint(tmp)"
   ]
  },
  {
   "cell_type": "code",
   "execution_count": null,
   "id": "00ac0256",
   "metadata": {
    "ExecuteTime": {
     "end_time": "2022-01-27T00:58:50.458223Z",
     "start_time": "2022-01-27T00:58:50.430889Z"
    },
    "hidden": true
   },
   "outputs": [],
   "source": [
    "print(opt['diff_sparsity_weights'])\n",
    "print(opt['is_sharing'])\n",
    "print(opt['diff_sparsity_weights'] and not opt['is_sharing'])\n",
    "print(environ.opt['train']['Lambda_sharing'])\n",
    "print(opt['train']['Lambda_sharing'])\n",
    "print(environ.opt['train']['Lambda_sparsity'])\n",
    "print(opt['train']['Lambda_sparsity'])\n",
    "print(environ.opt['train']['policy_lr'])\n",
    "print(opt['train']['policy_lr'])"
   ]
  },
  {
   "cell_type": "markdown",
   "id": "aae2d510",
   "metadata": {
    "heading_collapsed": true,
    "hidden": true
   },
   "source": [
    "### Policy / Logit stuff"
   ]
  },
  {
   "cell_type": "code",
   "execution_count": null,
   "id": "bb628497",
   "metadata": {
    "ExecuteTime": {
     "end_time": "2022-02-08T20:35:14.041577Z",
     "start_time": "2022-02-08T20:35:14.018303Z"
    },
    "hidden": true
   },
   "outputs": [],
   "source": [
    "from scipy.special          import softmax"
   ]
  },
  {
   "cell_type": "code",
   "execution_count": null,
   "id": "79eed454",
   "metadata": {
    "ExecuteTime": {
     "end_time": "2022-02-08T20:00:30.103364Z",
     "start_time": "2022-02-08T20:00:30.068021Z"
    },
    "hidden": true
   },
   "outputs": [],
   "source": [
    "np.set_printoptions(precision=8,edgeitems=3, infstr='inf', linewidth=150, nanstr='nan')\n",
    "torch.set_printoptions(precision=8,linewidth=132)"
   ]
  },
  {
   "cell_type": "markdown",
   "id": "df03b5cc",
   "metadata": {
    "heading_collapsed": true,
    "hidden": true
   },
   "source": [
    "#### `get_task_logits(n)` Get logits for task group n"
   ]
  },
  {
   "cell_type": "code",
   "execution_count": null,
   "id": "2aed8b9b",
   "metadata": {
    "ExecuteTime": {
     "end_time": "2022-02-08T20:56:35.652087Z",
     "start_time": "2022-02-08T20:56:35.327406Z"
    },
    "hidden": true
   },
   "outputs": [],
   "source": [
    "task_logits = environ.get_task_logits(1)\n",
    "print(task_logits)"
   ]
  },
  {
   "cell_type": "markdown",
   "id": "fb66fa5f",
   "metadata": {
    "hidden": true
   },
   "source": [
    "#### `get_arch_parameters()`: Get last used logits from network"
   ]
  },
  {
   "cell_type": "code",
   "execution_count": null,
   "id": "8a85521e",
   "metadata": {
    "ExecuteTime": {
     "end_time": "2022-02-08T20:00:31.101960Z",
     "start_time": "2022-02-08T20:00:30.757064Z"
    },
    "hidden": true,
    "scrolled": true
   },
   "outputs": [],
   "source": [
    "import torch.optim as optim\n",
    "arch_parameters      = environ.get_arch_parameters()\n",
    "print(arch_parameters)"
   ]
  },
  {
   "cell_type": "code",
   "execution_count": null,
   "id": "489b0bef",
   "metadata": {
    "ExecuteTime": {
     "end_time": "2022-02-09T15:43:06.054699Z",
     "start_time": "2022-02-09T15:43:05.689327Z"
    },
    "hidden": true,
    "scrolled": true
   },
   "outputs": [],
   "source": [
    "import torch.optim as optim\n",
    "arch_parameters      = environ.get_arch_parameters()\n",
    "print(arch_parameters)"
   ]
  },
  {
   "cell_type": "markdown",
   "id": "19ea1743",
   "metadata": {
    "hidden": true
   },
   "source": [
    "#### `get_policy_logits()`:  Get Policy Logits - returns same as `get_arch_parameters()`"
   ]
  },
  {
   "cell_type": "code",
   "execution_count": null,
   "id": "cdbb40c4",
   "metadata": {
    "ExecuteTime": {
     "end_time": "2022-02-09T15:43:24.972390Z",
     "start_time": "2022-02-09T15:43:24.636629Z"
    },
    "hidden": true,
    "scrolled": true
   },
   "outputs": [],
   "source": [
    "logs = environ.get_policy_logits()\n",
    "for i in logs:\n",
    "    print(i, '\\n')\n",
    "# probs = softmax(logs, axis= -1)\n",
    "# for i in probs:\n",
    "#     print(i, '\\n')"
   ]
  },
  {
   "cell_type": "markdown",
   "id": "6080a364",
   "metadata": {
    "hidden": true
   },
   "source": [
    "#### `get_policy_prob()` : Gets the softmax of the logits"
   ]
  },
  {
   "cell_type": "code",
   "execution_count": null,
   "id": "b59c75af",
   "metadata": {
    "ExecuteTime": {
     "end_time": "2022-02-09T15:43:29.733732Z",
     "start_time": "2022-02-09T15:43:29.699600Z"
    },
    "hidden": true,
    "scrolled": true
   },
   "outputs": [],
   "source": [
    "policy_softmaxs = environ.get_policy_prob()\n",
    "for i in policy_softmaxs:\n",
    "    print(i, '\\n')"
   ]
  },
  {
   "cell_type": "markdown",
   "id": "3c3160d9",
   "metadata": {
    "heading_collapsed": true,
    "hidden": true
   },
   "source": [
    "#### `get_sample_policy( hard_sampling = False)` : Calls test_sample_policy of network with random choices based on softmax of logits"
   ]
  },
  {
   "cell_type": "code",
   "execution_count": null,
   "id": "3f411444",
   "metadata": {
    "ExecuteTime": {
     "end_time": "2022-02-08T22:21:15.636722Z",
     "start_time": "2022-02-08T22:21:15.165456Z"
    },
    "hidden": true
   },
   "outputs": [],
   "source": [
    "policy_softmaxs = environ.get_policy_prob()\n",
    "policies,logits = environ.get_sample_policy(hard_sampling = False)\n",
    "\n",
    "for l, p, s in zip(logits, policies, policy_softmaxs) :\n",
    "    for  l_row, p_row, s_row in zip(l, p, s):\n",
    "        print( l_row,'\\t', p_row, '\\t', s_row)\n",
    "    print('\\n')"
   ]
  },
  {
   "cell_type": "markdown",
   "id": "802664ec",
   "metadata": {
    "heading_collapsed": true,
    "hidden": true
   },
   "source": [
    "#### `get_sample_policy( hard_sampling = True)` : Calls test_sample_policy of network using ARGMAX of logits"
   ]
  },
  {
   "cell_type": "code",
   "execution_count": null,
   "id": "dea65bf2",
   "metadata": {
    "ExecuteTime": {
     "end_time": "2022-02-08T20:59:40.790899Z",
     "start_time": "2022-02-08T20:59:40.726657Z"
    },
    "hidden": true
   },
   "outputs": [],
   "source": [
    "policy_softmaxs = environ.get_policy_prob()\n",
    "hard_policies, logits = environ.get_sample_policy(hard_sampling = True)\n",
    "\n",
    "for p,l,s in zip(hard_policies, logits, policy_softmaxs) :\n",
    "    for  p_row, l_row, s_row in zip(p, l, s):\n",
    "        print( l_row,'\\t', p_row, '\\t', s_row)\n",
    "    print('\\n')"
   ]
  },
  {
   "cell_type": "markdown",
   "id": "c63c39cf",
   "metadata": {
    "heading_collapsed": true,
    "hidden": true
   },
   "source": [
    "#### Print"
   ]
  },
  {
   "cell_type": "code",
   "execution_count": null,
   "id": "4c0fe096",
   "metadata": {
    "ExecuteTime": {
     "end_time": "2022-02-08T21:00:47.452220Z",
     "start_time": "2022-02-08T21:00:47.422902Z"
    },
    "hidden": true
   },
   "outputs": [],
   "source": [
    "print(f\" Layer    task 1      task 2      task 3\")\n",
    "print(f\" -----    ------      ------      ------\")\n",
    "for idx, (l1, l2, l3) in enumerate(zip(hard_policies[0], hard_policies[1], hard_policies[2]),1):\n",
    "    print(f\"   {idx}      {l1}       {l2}       {l3}\")\n",
    "    \n",
    "\n",
    "    print(f\"\\n\\n where [p1  p2]:  p1: layer is selected    p2: layer is not selected\")"
   ]
  },
  {
   "cell_type": "code",
   "execution_count": null,
   "id": "7ade0ac9",
   "metadata": {
    "ExecuteTime": {
     "end_time": "2022-02-08T22:39:39.936555Z",
     "start_time": "2022-02-08T22:39:39.911591Z"
    },
    "hidden": true
   },
   "outputs": [],
   "source": [
    "def display_trained_policy(iter):\n",
    "\n",
    "    policy_softmaxs = environ.get_policy_prob()\n",
    "    policy_argmaxs = 1-np.argmax(policy_softmaxs, axis = -1)\n",
    "    print(f\"  Trained polcies at iteration: {iter} \")\n",
    "    print(f\"                   task 1                           task 2                         task 3        \")\n",
    "    print(f\" Layer       softmax        select          softmax        select          softmax        select   \")\n",
    "    print(f\" -----    ---------------   ------       ---------------   ------       ---------------   ------   \")\n",
    "    for idx, (l1,l2,l3,  p1,p2,p3) in enumerate(zip(policy_softmaxs[0], policy_softmaxs[1], policy_softmaxs[2], policy_argmaxs[0], policy_argmaxs[1], policy_argmaxs[2]),1):\n",
    "        print(f\"   {idx}      {l1[0]:.4f}   {l1[1]:.4f}   {p1:4d}    {l2[0]:11.4f}   {l2[1]:.4f}   {p2:4d}    {l3[0]:11.4f}   {l3[1]:.4f}   {p3:4d}\")\n",
    "\n",
    "    print()\n",
    "# print(f\"\\n\\n where [p1  p2]:  p1: layer is selected    p2: layer is not selected\")"
   ]
  },
  {
   "cell_type": "code",
   "execution_count": null,
   "id": "ec208dd8",
   "metadata": {
    "ExecuteTime": {
     "end_time": "2022-02-08T22:42:12.650813Z",
     "start_time": "2022-02-08T22:42:12.330169Z"
    },
    "hidden": true
   },
   "outputs": [],
   "source": [
    "display_trained_policy(5)"
   ]
  },
  {
   "cell_type": "code",
   "execution_count": null,
   "id": "eec517e9",
   "metadata": {
    "ExecuteTime": {
     "end_time": "2022-02-08T22:07:30.836214Z",
     "start_time": "2022-02-08T22:07:30.804575Z"
    },
    "hidden": true
   },
   "outputs": [],
   "source": [
    "print(f\"                        POLICIES (SOFTMAX)                                       task 3          \")\n",
    "print(f\" Layer    task1              task2            task3 softmax         softmax         argmax         softmax         argmax   \")\n",
    "print(f\" -----    -------------     -------------     -------------   ------   \")\n",
    "for idx, (l1,l2,l3, h1,h2,h3) in enumerate(zip(policy_softmaxs[0], policy_softmaxs[1], policy_softmaxs[2],hard_policies[0], hard_policies[1], hard_policies[2]),1):\n",
    "    print(f\"   {idx}      {l1[0]:.4f} {l1[1]:.4f}     {l2[0]:.4f} {l2[1]:.4f}     {l3[0]:.4f} {l3[1]:.4f}    {h3}\")\n",
    "    \n",
    "print(f\"\\n\\n where [p1  p2]:  p1: layer is selected    p2: layer is not selected\")"
   ]
  },
  {
   "cell_type": "code",
   "execution_count": null,
   "id": "8bbeacb4",
   "metadata": {
    "ExecuteTime": {
     "end_time": "2022-02-08T22:04:50.757406Z",
     "start_time": "2022-02-08T22:04:50.731736Z"
    },
    "hidden": true
   },
   "outputs": [],
   "source": [
    "# print(policy_softmaxs[2], np.argmax(1-policy_softmaxs[2], axis = -1))\n",
    "print(policy_softmaxs, np.argmax(policy_softmaxs, axis = -1))"
   ]
  },
  {
   "cell_type": "markdown",
   "id": "c4be0240",
   "metadata": {
    "heading_collapsed": true,
    "hidden": true
   },
   "source": [
    "#### `get_current_logits()` : Calls test_sample_policy of network using ARGMAX of logits"
   ]
  },
  {
   "cell_type": "code",
   "execution_count": null,
   "id": "cfdb7240",
   "metadata": {
    "ExecuteTime": {
     "end_time": "2022-02-08T21:19:06.155425Z",
     "start_time": "2022-02-08T21:19:06.118640Z"
    },
    "hidden": true,
    "scrolled": true
   },
   "outputs": [],
   "source": [
    "logits  = (environ.get_current_logits())\n",
    "for i in logits:\n",
    "    print(i ,'\\n')"
   ]
  },
  {
   "cell_type": "markdown",
   "id": "13e84662",
   "metadata": {
    "heading_collapsed": true,
    "hidden": true
   },
   "source": [
    "#### `get_current_policy()` : Calls test_sample_policy of network using ARGMAX of logits"
   ]
  },
  {
   "cell_type": "code",
   "execution_count": null,
   "id": "548cfa24",
   "metadata": {
    "ExecuteTime": {
     "end_time": "2022-02-08T20:40:06.543376Z",
     "start_time": "2022-02-08T20:40:06.230711Z"
    },
    "hidden": true,
    "scrolled": true
   },
   "outputs": [],
   "source": [
    "pols  = (environ.get_current_policy())\n",
    "\n",
    "for i in pols:\n",
    "    print(i ,'\\n')"
   ]
  },
  {
   "cell_type": "code",
   "execution_count": null,
   "id": "77f556a8",
   "metadata": {
    "ExecuteTime": {
     "end_time": "2022-01-27T18:27:33.593255Z",
     "start_time": "2022-01-27T18:27:33.553141Z"
    },
    "hidden": true
   },
   "outputs": [],
   "source": [
    " "
   ]
  },
  {
   "cell_type": "markdown",
   "id": "a792710e",
   "metadata": {
    "hidden": true
   },
   "source": [
    "#### `gumbel_softmax()`  "
   ]
  },
  {
   "cell_type": "code",
   "execution_count": null,
   "id": "7265490e",
   "metadata": {
    "ExecuteTime": {
     "end_time": "2022-02-08T21:28:17.107529Z",
     "start_time": "2022-02-08T21:28:17.084910Z"
    },
    "hidden": true
   },
   "outputs": [],
   "source": [
    "np.set_printoptions(precision=8,edgeitems=3, infstr='inf', linewidth=150, nanstr='nan', floatmode = 'maxprec_equal')\n",
    "torch.set_printoptions(precision=8,linewidth=132)"
   ]
  },
  {
   "cell_type": "code",
   "execution_count": null,
   "id": "3dcb0087",
   "metadata": {
    "ExecuteTime": {
     "end_time": "2022-02-08T21:35:11.617269Z",
     "start_time": "2022-02-08T21:35:11.569599Z"
    },
    "hidden": true
   },
   "outputs": [],
   "source": [
    "print(environ.temp)\n",
    "# tau = environ.temp\n",
    "tau = 1\n",
    "for i in range(3): \n",
    "    logits_tensor = torch.tensor(logits[0])\n",
    "    # Sample soft categorical using reparametrization trick:\n",
    "    gumbel_soft = F.gumbel_softmax(logits_tensor, tau=tau, hard=False).cpu().numpy() \n",
    "\n",
    "    # Sample hard categorical using \"Straight-through\" trick:\n",
    "    gumbel_hard  = F.gumbel_softmax(logits_tensor, tau=tau, hard=True).cpu().numpy()\n",
    "    \n",
    "    for l, gs, gh in zip(lgts, gumbel_soft, gumbel_hard):\n",
    "        print(f\"   {l}   \\t {gs}            \\t {gh}\")\n",
    "#     print(lgts)\n",
    "#     print(gumbel_soft)\n",
    "#     print(gumbel_hard)\n",
    "    print()"
   ]
  },
  {
   "cell_type": "code",
   "execution_count": null,
   "id": "f3d5ef7f",
   "metadata": {
    "hidden": true
   },
   "outputs": [],
   "source": []
  },
  {
   "cell_type": "code",
   "execution_count": null,
   "id": "4b0e0e84",
   "metadata": {
    "ExecuteTime": {
     "end_time": "2022-02-08T21:21:35.524957Z",
     "start_time": "2022-02-08T21:21:35.488812Z"
    },
    "hidden": true
   },
   "outputs": [],
   "source": [
    "for lgts in logits:\n",
    "    logits_tensor = torch.tensor(lgts)\n",
    "    print(lgts)\n",
    "    # Sample soft categorical using reparametrization trick:\n",
    "    gumbel_soft = F.gumbel_softmax(logits_tensor, tau=1, hard=False)\n",
    "    print(gumbel_soft)\n",
    "\n",
    "    # Sample hard categorical using \"Straight-through\" trick:\n",
    "    gumbel_hard  = F.gumbel_softmax(logits_tensor, tau=1, hard=True)\n",
    "    print(gumbel_hard)\n",
    "    print()"
   ]
  },
  {
   "cell_type": "code",
   "execution_count": null,
   "id": "fe34a06a",
   "metadata": {
    "ExecuteTime": {
     "end_time": "2022-02-03T20:49:37.643349Z",
     "start_time": "2022-02-03T20:49:37.580786Z"
    },
    "hidden": true
   },
   "outputs": [],
   "source": [
    "smax = scipy.special.softmax(logs, axis =1)\n",
    "# smax = np.array( \n",
    "# [[0.46973792, 0.530262  ],\n",
    "#  [0.45025694, 0.549743  ],\n",
    "#  [0.4443086 , 0.5556915 ],\n",
    "#  [0.4138397 , 0.58616036],\n",
    "#  [0.4140113 , 0.5859887 ],\n",
    "#  [0.42114905, 0.57885087]])\n",
    "\n",
    "print(smax.shape)\n",
    "print(smax)\n",
    "print(smax[0])\n",
    "print(smax[0].sum())\n",
    "print(np.random.choice((1,0), p =smax[0]))"
   ]
  },
  {
   "cell_type": "code",
   "execution_count": null,
   "id": "7e7de25c",
   "metadata": {
    "ExecuteTime": {
     "end_time": "2022-02-08T21:15:19.893888Z",
     "start_time": "2022-02-08T21:15:19.870899Z"
    },
    "hidden": true
   },
   "outputs": [],
   "source": [
    "logs = np.array(\n",
    "[[0.33064184, 0.42053092],\n",
    " [0.3532089 , 0.52056104],\n",
    " [0.3888512 , 0.5680909 ],\n",
    " [0.42039296, 0.694217  ],\n",
    " [0.4519742 , 0.73311865],\n",
    " [0.48401102, 0.7522658 ]],\n",
    ")"
   ]
  }
 ],
 "metadata": {
  "git": {
   "suppress_outputs": true
  },
  "kernelspec": {
   "display_name": "Python [conda env:pyt-gpu]",
   "language": "python",
   "name": "conda-env-pyt-gpu-py"
  },
  "language_info": {
   "codemirror_mode": {
    "name": "ipython",
    "version": 3
   },
   "file_extension": ".py",
   "mimetype": "text/x-python",
   "name": "python",
   "nbconvert_exporter": "python",
   "pygments_lexer": "ipython3",
   "version": "3.9.5"
  },
  "toc": {
   "base_numbering": 1,
   "nav_menu": {},
   "number_sections": true,
   "sideBar": true,
   "skip_h1_title": false,
   "title_cell": "Table of Contents",
   "title_sidebar": "Contents",
   "toc_cell": false,
   "toc_position": {
    "height": "calc(100% - 180px)",
    "left": "10px",
    "top": "150px",
    "width": "399px"
   },
   "toc_section_display": true,
   "toc_window_display": false
  }
 },
 "nbformat": 4,
 "nbformat_minor": 5
}
