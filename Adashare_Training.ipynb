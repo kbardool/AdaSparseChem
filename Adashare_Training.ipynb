{
 "cells": [
  {
   "cell_type": "markdown",
   "id": "408f1261",
   "metadata": {},
   "source": [
    "## Initialization  "
   ]
  },
  {
   "cell_type": "code",
   "execution_count": 1,
   "id": "6d574cdc",
   "metadata": {
    "ExecuteTime": {
     "end_time": "2022-03-09T04:31:22.508857Z",
     "start_time": "2022-03-09T04:31:17.803934Z"
    },
    "execution": {
     "iopub.execute_input": "2022-01-07T22:44:08.233990Z",
     "iopub.status.busy": "2022-01-07T22:44:08.233053Z",
     "iopub.status.idle": "2022-01-07T22:44:08.273284Z",
     "shell.execute_reply": "2022-01-07T22:44:08.271908Z",
     "shell.execute_reply.started": "2022-01-07T22:44:08.233943Z"
    },
    "scrolled": false,
    "tags": []
   },
   "outputs": [
    {
     "name": "stdout",
     "output_type": "stream",
     "text": [
      " Cuda is available  :  True\n",
      " CUDA device count  :  1\n",
      " CUDA current device:  0\n",
      " GPU Processes      : \n",
      " GPU:0\n",
      "process          4 uses        0.000 MB GPU memory\n",
      "\n",
      " Device : cuda:0\n",
      "   name:        NVIDIA GeForce GTX 970M\n",
      "   capability:  (5, 2)\n",
      "   properties:  _CudaDeviceProperties(name='NVIDIA GeForce GTX 970M', major=5, minor=2, total_memory=3071MB, multi_processor_count=10)\n",
      "   Allocated :  0\n",
      "   Reserved  :  0\n",
      "\n",
      "| ID | GPU  | MEM |\n",
      "-------------------\n",
      "|  0 | nan% |  1% |\n"
     ]
    }
   ],
   "source": [
    "%load_ext autoreload\n",
    "%autoreload 2\n",
    "\n",
    "import os \n",
    "import sys\n",
    "sys.path.insert(0, './src')\n",
    "# sys.path.insert(0, '/home/kbardool/kusanagi/AdaSparseChem/src')\n",
    "# print(sys.path)\n",
    "import time\n",
    "import argparse\n",
    "import yaml\n",
    "import types\n",
    "import copy, pprint\n",
    "from time import sleep\n",
    "from datetime import datetime\n",
    "\n",
    "import numpy  as np\n",
    "import torch  \n",
    "import wandb\n",
    "import pandas as pd\n",
    "from utils.notebook_modules import initialize, init_dataloaders, init_environment, init_wandb, \\\n",
    "                                   training_prep, disp_dataloader_info,disp_info_1, disp_for_excel,\\\n",
    "                                   warmup_phase, weight_policy_training, disp_gpu_info\n",
    "\n",
    "from utils.util import (print_separator, print_underline, print_yaml,  print_loss, load_from_pickle,\n",
    "                        timestring, print_heading, print_dbg, get_command_line_args ) \n",
    "\n",
    "pp = pprint.PrettyPrinter(indent=4)\n",
    "np.set_printoptions(edgeitems=3, infstr='inf', linewidth=150, nanstr='nan')\n",
    "torch.set_printoptions(precision=6, linewidth=132)\n",
    "# torch.set_printoptions(precision=None, threshold=None, edgeitems=None, linewidth=None, profile=None, sci_mode=None)\n",
    "pd.options.display.width = 132\n",
    "\n",
    "os.environ[\"WANDB_NOTEBOOK_NAME\"] = \"Adashare_Training.ipynb\"\n",
    "\n",
    "disp_gpu_info() "
   ]
  },
  {
   "cell_type": "markdown",
   "id": "1b33ac6e",
   "metadata": {},
   "source": [
    "## Create Environment"
   ]
  },
  {
   "cell_type": "markdown",
   "id": "ee652c57",
   "metadata": {},
   "source": [
    "### Parse Input Args  - Read YAML config file"
   ]
  },
  {
   "cell_type": "code",
   "execution_count": 44,
   "id": "ffcf2a6a",
   "metadata": {
    "ExecuteTime": {
     "end_time": "2022-03-08T22:24:48.540053Z",
     "start_time": "2022-03-08T22:24:48.514165Z"
    }
   },
   "outputs": [],
   "source": [
    "RESUME_MODEL_CKPT = 'model_train_ep_25_seed_0088'"
   ]
  },
  {
   "cell_type": "code",
   "execution_count": 37,
   "id": "4e4eae0a",
   "metadata": {
    "ExecuteTime": {
     "end_time": "2022-03-08T22:22:35.127403Z",
     "start_time": "2022-03-08T22:22:35.062721Z"
    },
    "execution": {
     "iopub.execute_input": "2022-01-07T22:44:13.145647Z",
     "iopub.status.busy": "2022-01-07T22:44:13.145313Z",
     "iopub.status.idle": "2022-01-07T22:44:13.193262Z",
     "shell.execute_reply": "2022-01-07T22:44:13.192140Z",
     "shell.execute_reply.started": "2022-01-07T22:44:13.145622Z"
    }
   },
   "outputs": [],
   "source": [
    "## For RESTARTING\n",
    "##\n",
    "# input_args = \" --config yamls/chembl_3task_train.yaml \" \\\n",
    "#              \" --resume \" \\\n",
    "#              \" --exp_id      330i85cg\" \\\n",
    "#              \" --exp_name    0308_1204\" \\\n",
    "#              \" --exp_desc    Train with dropout 0.5\" \\\n",
    "#              \" --seed_idx    0 \"\\\n",
    "#              \" --batch_size  128\" \\\n",
    "#              \" --lambda_sparsity  0.01\"\\\n",
    "#              \" --lambda_sharing   0.01\" \n",
    "## get command line arguments"
   ]
  },
  {
   "cell_type": "code",
   "execution_count": 2,
   "id": "cd3a7f00",
   "metadata": {
    "ExecuteTime": {
     "end_time": "2022-03-09T04:32:58.438674Z",
     "start_time": "2022-03-09T04:32:58.404747Z"
    },
    "execution": {
     "iopub.execute_input": "2022-01-07T22:44:13.145647Z",
     "iopub.status.busy": "2022-01-07T22:44:13.145313Z",
     "iopub.status.idle": "2022-01-07T22:44:13.193262Z",
     "shell.execute_reply": "2022-01-07T22:44:13.192140Z",
     "shell.execute_reply.started": "2022-01-07T22:44:13.145622Z"
    }
   },
   "outputs": [],
   "source": [
    "##  For Initiating \n",
    "##\n",
    "input_args = \" --config yamls/chembl_3task_train.yaml \" \\\n",
    "             \" --exp_desc    Train 6x75 layers, with dropout 0.5\" \\\n",
    "             \" --seed_idx            0\" \\\n",
    "             \" --batch_size        128\" \\\n",
    "             \" --lambda_sparsity  0.01\" \\\n",
    "             \" --lambda_sharing   0.01\" \n",
    "\n",
    "                         "
   ]
  },
  {
   "cell_type": "code",
   "execution_count": 3,
   "id": "dbc14177",
   "metadata": {
    "ExecuteTime": {
     "end_time": "2022-03-09T04:33:02.247797Z",
     "start_time": "2022-03-09T04:33:02.171389Z"
    },
    "scrolled": false
   },
   "outputs": [
    {
     "name": "stdout",
     "output_type": "stream",
     "text": [
      "\n",
      "  command line parms : \n",
      "------------------------\n",
      " config...................  yamls/chembl_3task_train.yaml\n",
      " exp_id...................  None\n",
      " exp_name.................  None\n",
      " folder_sfx...............  None\n",
      " exp_desc.................  Train 6x75 layers, with dropout 0.5\n",
      " seed_idx.................  0\n",
      " batch_size...............  128\n",
      " backbone_lr..............  None\n",
      " task_lr..................  None\n",
      " policy_lr................  None\n",
      " decay_lr_rate............  None\n",
      " decay_lr_freq............  None\n",
      " lambda_sparsity..........  0.01\n",
      " lambda_sharing...........  0.01\n",
      " gpu_ids..................  [0]\n",
      " resume...................  False\n",
      " cpu......................  False\n",
      "\n",
      "\n",
      "\n",
      "##################################################\n",
      "################### READ YAML ####################\n",
      "##################################################\n",
      "\n",
      "\n",
      " log_dir              create folder:  ../experiments/AdaSparseChem/75x6_0308_2033_plr0.01_sp0.01_sh0.01\n",
      " result_dir           folder exists:  ../experiments/AdaSparseChem/75x6_0308_2033_plr0.01_sp0.01_sh0.01\n",
      " checkpoint_dir       folder exists:  ../experiments/AdaSparseChem/75x6_0308_2033_plr0.01_sp0.01_sh0.01\n",
      "\n",
      "------------------------------------------------------------------------------------------------------------------------\n",
      " experiment name       : 0308_2033 \n",
      " experiment id         : 604b0kzu \n",
      " folder_name           : 75x6_0308_2033_plr0.01_sp0.01_sh0.01 \n",
      " experiment description: Train 6x75 layers, with dropout 0.5\n",
      " Random seeds          : [88, 45, 50, 100, 44, 48, 2048, 2222, 9999]\n",
      " Random  seed used     : 88 \n",
      " log folder            : ../experiments/AdaSparseChem/75x6_0308_2033_plr0.01_sp0.01_sh0.01\n",
      " checkpoint folder     : ../experiments/AdaSparseChem/75x6_0308_2033_plr0.01_sp0.01_sh0.01\n",
      " Gpu ids               : [0]\n",
      " Seed index            : 0\n",
      " policy_iter           : best\n",
      " Data Split ratios     : [0.725, 0.225, 0.05]\n",
      "------------------------------------------------------------------------------------------------------------------------ \n",
      "\n",
      "        project_name : AdaSparseChem\n",
      "              exp_id : 604b0kzu\n",
      "            exp_name : 0308_2033\n",
      "          exp_folder : 75x6_0308_2033_plr0.01_sp0.01_sh0.01\n",
      "     exp_description : Train 6x75 layers, with dropout 0.5\n",
      "          folder_sfx : None\n",
      "         random_seed : 88\n",
      "           seed_list : [88, 45, 50, 100, 44, 48, 2048, 2222, 9999]\n",
      "                 cpu : False\n",
      "             gpu_ids : [0]\n",
      "            backbone : SparseChem\n",
      "               tasks : ['class', 'class', 'class']\n",
      "     tasks_num_class : [5, 5, 5]\n",
      "             lambdas : [1, 1, 1]\n",
      "        policy_model : task-specific\n",
      "             verbose : False\n",
      "       backbone_orig : ResNet18\n",
      "          tasks_orig : ['seg', 'sn']\n",
      "     input_size_freq : None\n",
      "          input_size : 32000\n",
      "        hidden_sizes : [75, 75, 75, 75, 75, 75]\n",
      "    tail_hidden_size : 75\n",
      " first_non_linearity : relu\n",
      "middle_non_linearity : relu\n",
      "  last_non_linearity : relu\n",
      "      middle_dropout : 0.5\n",
      "        last_dropout : 0.5\n",
      "   class_output_size : None\n",
      "    regr_output_size : None\n",
      "              policy : True\n",
      "           is_sparse : True\n",
      "          is_sharing : True\n",
      "diff_sparsity_weights : False\n",
      "          skip_layer : 0\n",
      "       is_curriculum : False\n",
      "    curriculum_speed : 3\n",
      "              fix_BN : False\n",
      "     retrain_from_pl : False\n",
      "\n",
      "train\n",
      "-----\n",
      "          batch_size : 128\n",
      "      warm_up_epochs : 15\n",
      "     training_epochs : 50\n",
      "         total_iters : 25000\n",
      "       warm_up_iters : None\n",
      "             task_lr : 0.001\n",
      "         backbone_lr : 0.001\n",
      "       decay_lr_rate : 0.75\n",
      "       decay_lr_freq : 2000\n",
      "policy_decay_lr_rate : 0.75\n",
      "policy_decay_lr_freq : 2200\n",
      "           policy_lr : 0.01\n",
      "     lambda_sparsity : 0.01\n",
      "      lambda_sharing : 0.01\n",
      "        lambda_tasks : 1\n",
      "         init_method : random\n",
      "           init_temp : 4\n",
      "          decay_temp : 0.965\n",
      "     decay_temp_freq : 2\n",
      "     init_neg_logits : None\n",
      "       hard_sampling : False\n",
      "            val_freq : 500\n",
      "          print_freq : -1\n",
      "           val_iters : -1\n",
      "              resume : False\n",
      "      retrain_resume : False\n",
      "         policy_iter : best\n",
      "          which_iter : warmup\n",
      "\n",
      "paths\n",
      "-----\n",
      "             log_dir : ../experiments/AdaSparseChem/75x6_0308_2033_plr0.01_sp0.01_sh0.01\n",
      "          result_dir : ../experiments/AdaSparseChem/75x6_0308_2033_plr0.01_sp0.01_sh0.01\n",
      "      checkpoint_dir : ../experiments/AdaSparseChem/75x6_0308_2033_plr0.01_sp0.01_sh0.01\n",
      "\n",
      "dataload\n",
      "--------\n",
      "             dataset : Chembl_23_mini\n",
      "            dataroot : /home/kbardool/kusanagi/MLDatasets/chembl_23mini_synthetic\n",
      "                   x : chembl_23mini_x.npy\n",
      "      x_split_ratios : [0.725, 0.225, 0.05]\n",
      "             folding : chembl_23mini_folds.npy\n",
      "         fold_inputs : 32000\n",
      "     input_transform : None\n",
      "             y_tasks : ['chembl_23mini_adashare_y1_bin_sparse.npy', 'chembl_23mini_adashare_y2_bin_sparse.npy', 'chembl_23mini_adashare_y3_bin_sparse.npy']\n",
      "            y_censor : None\n",
      "       weights_class : None\n",
      "              crop_h : 321\n",
      "              crop_w : 321\n",
      "   min_samples_class : 5\n",
      "             fold_va : 0\n",
      "             fold_te : None\n",
      "\n",
      "SC\n",
      "--\n",
      "      normalize_loss : None\n"
     ]
    }
   ],
   "source": [
    "opt, ns = initialize(input_args)"
   ]
  },
  {
   "cell_type": "markdown",
   "id": "8f2bfa8d",
   "metadata": {},
   "source": [
    "### Setup Dataloader and Model  "
   ]
  },
  {
   "cell_type": "code",
   "execution_count": 16,
   "id": "c631eb67",
   "metadata": {
    "ExecuteTime": {
     "end_time": "2022-03-09T04:35:37.795235Z",
     "start_time": "2022-03-09T04:35:36.701587Z"
    },
    "execution": {
     "iopub.execute_input": "2022-01-07T22:44:16.229028Z",
     "iopub.status.busy": "2022-01-07T22:44:16.227544Z",
     "iopub.status.idle": "2022-01-07T22:44:16.659397Z",
     "shell.execute_reply": "2022-01-07T22:44:16.658348Z",
     "shell.execute_reply.started": "2022-01-07T22:44:16.228966Z"
    },
    "scrolled": true
   },
   "outputs": [
    {
     "name": "stdout",
     "output_type": "stream",
     "text": [
      "##################################################\n",
      "############### CREATE DATALOADERS ###############\n",
      "##################################################\n",
      "##################################################\n",
      "############# CREATE THE ENVIRONMENT #############\n",
      "##################################################\n",
      " device is  cuda:0\n",
      "--------------------------------------------------------\n",
      "* SparseChemEnv_Dev environment successfully created\n",
      "-------------------------------------------------------- \n",
      "\n"
     ]
    }
   ],
   "source": [
    "dldrs = init_dataloaders(opt)\n",
    "\n",
    "environ = init_environment(ns, opt, is_train = True, policy_learning = False, display_cfg = False)\n",
    "\n",
    "# ********************************************************************\n",
    "# **************** define optimizer and schedulers *******************\n",
    "# ********************************************************************                                \n",
    "environ.define_optimizer(policy_learning=True)\n",
    "environ.define_scheduler(policy_learning=True)"
   ]
  },
  {
   "cell_type": "code",
   "execution_count": 17,
   "id": "db53ca3e",
   "metadata": {
    "ExecuteTime": {
     "end_time": "2022-03-09T04:35:40.488756Z",
     "start_time": "2022-03-09T04:35:40.397008Z"
    },
    "execution": {
     "iopub.execute_input": "2022-01-07T22:44:16.229028Z",
     "iopub.status.busy": "2022-01-07T22:44:16.227544Z",
     "iopub.status.idle": "2022-01-07T22:44:16.659397Z",
     "shell.execute_reply": "2022-01-07T22:44:16.658348Z",
     "shell.execute_reply.started": "2022-01-07T22:44:16.228966Z"
    }
   },
   "outputs": [
    {
     "name": "stdout",
     "output_type": "stream",
     "text": [
      "\n",
      " trainset.y_class                                   :  [(13331, 5), (13331, 5), (13331, 5)] \n",
      " trainset1.y_class                                  :  [(13331, 5), (13331, 5), (13331, 5)] \n",
      " trainset2.y_class                                  :  [(13331, 5), (13331, 5), (13331, 5)] \n",
      " valset.y_class                                     :  [(4137, 5), (4137, 5), (4137, 5)]  \n",
      " testset.y_class                                    :  [(920, 5), (920, 5), (920, 5)]  \n",
      "                                 \n",
      " size of training set 0 (warm up)                   :  13331 \n",
      " size of training set 1 (network parms)             :  13331 \n",
      " size of training set 2 (policy weights)            :  13331 \n",
      " size of validation set                             :  4137 \n",
      " size of test set                                   :  920 \n",
      "                               Total                :  45050 \n",
      "                                 \n",
      " lenght (# batches) in training 0 (warm up)         :  105 \n",
      " lenght (# batches) in training 1 (network parms)   :  105 \n",
      " lenght (# batches) in training 2 (policy weights)  :  105 \n",
      " lenght (# batches) in validation dataset           :  33 \n",
      " lenght (# batches) in test dataset                 :  29 \n",
      "                                \n"
     ]
    }
   ],
   "source": [
    "disp_dataloader_info(dldrs)"
   ]
  },
  {
   "cell_type": "code",
   "execution_count": 6,
   "id": "d751e1ff",
   "metadata": {
    "ExecuteTime": {
     "end_time": "2022-03-09T04:33:35.493884Z",
     "start_time": "2022-03-09T04:33:35.462803Z"
    }
   },
   "outputs": [
    {
     "name": "stdout",
     "output_type": "stream",
     "text": [
      "dict_keys(['args', 'config_filename'])\n",
      "dict_keys(['trainset0', 'trainset1', 'trainset2', 'valset', 'testset', 'warmup_trn_loader', 'weight_trn_loader', 'policy_trn_loader', 'val_loader', 'test_loader'])\n"
     ]
    }
   ],
   "source": [
    "print(ns.__dict__.keys())\n",
    "print(dldrs.__dict__.keys())"
   ]
  },
  {
   "cell_type": "markdown",
   "id": "320fdeee",
   "metadata": {},
   "source": [
    "###  Weights and Biases Initialization "
   ]
  },
  {
   "cell_type": "code",
   "execution_count": 7,
   "id": "03c2469c",
   "metadata": {
    "ExecuteTime": {
     "end_time": "2022-03-09T04:33:45.031097Z",
     "start_time": "2022-03-09T04:33:38.980435Z"
    }
   },
   "outputs": [
    {
     "name": "stderr",
     "output_type": "stream",
     "text": [
      "\u001b[34m\u001b[1mwandb\u001b[0m: Currently logged in as: \u001b[33mkbardool\u001b[0m (use `wandb login --relogin` to force relogin)\n"
     ]
    },
    {
     "name": "stdout",
     "output_type": "stream",
     "text": [
      "604b0kzu 0308_2033 AdaSparseChem\n"
     ]
    },
    {
     "data": {
      "text/html": [
       "Tracking run with wandb version 0.12.11"
      ],
      "text/plain": [
       "<IPython.core.display.HTML object>"
      ]
     },
     "metadata": {},
     "output_type": "display_data"
    },
    {
     "data": {
      "text/html": [
       "Run data is saved locally in <code>/home/kbardool/kusanagi/AdaSparseChem/wandb/run-20220308_203339-604b0kzu</code>"
      ],
      "text/plain": [
       "<IPython.core.display.HTML object>"
      ]
     },
     "metadata": {},
     "output_type": "display_data"
    },
    {
     "data": {
      "text/html": [
       "Syncing run <strong><a href=\"http://localhost:8080/kbardool/AdaSparseChem/runs/604b0kzu\" target=\"_blank\">0308_2033</a></strong> to <a href=\"http://localhost:8080/kbardool/AdaSparseChem\" target=\"_blank\">Weights & Biases</a> (<a href=\"https://wandb.me/run\" target=\"_blank\">docs</a>)<br/>"
      ],
      "text/plain": [
       "<IPython.core.display.HTML object>"
      ]
     },
     "metadata": {},
     "output_type": "display_data"
    },
    {
     "name": "stdout",
     "output_type": "stream",
     "text": [
      " PROJECT NAME: AdaSparseChem\n",
      " RUN ID      : 604b0kzu \n",
      " RUN NAME    : 0308_2033\n",
      " PROJECT NAME: AdaSparseChem\n",
      " RUN ID      : 604b0kzu \n",
      " RUN NAME    : 0308_2033\n"
     ]
    }
   ],
   "source": [
    "init_wandb(ns, opt, environment = environ)\n",
    "\n",
    "print(f\" PROJECT NAME: {ns.wandb_run.project}\\n\"\n",
    "      f\" RUN ID      : {ns.wandb_run.id} \\n\"\n",
    "      f\" RUN NAME    : {ns.wandb_run.name}\") "
   ]
  },
  {
   "cell_type": "code",
   "execution_count": 80,
   "id": "d949180d",
   "metadata": {
    "ExecuteTime": {
     "end_time": "2022-03-08T22:46:58.838678Z",
     "start_time": "2022-03-08T22:46:58.805839Z"
    }
   },
   "outputs": [
    {
     "name": "stdout",
     "output_type": "stream",
     "text": [
      "dict_keys(['args', 'config_filename', 'wandb_run', 'print_freq', 'eval_iters', 'stop_iter_w', 'stop_iter_a', 'flag', 'current_epoch', 'current_iter', 'best_results', 'best_metrics', 'best_value', 'best_iter', 'p_epoch', 'w_epoch', 'num_train_layers', 'leave', 'flag_warmup', 'num_prints', 'num_blocks', 'warm_up_epochs', 'training_epochs', 'curriculum_speed', 'stop_epoch_warmup', 'stop_epoch_training'])\n",
      "AdaSparseChem\n",
      "<wandb.sdk.wandb_run.Run object at 0x7f19b42864f0>\n"
     ]
    }
   ],
   "source": [
    "print(ns.__dict__.keys())\n",
    "print(ns.wandb_run.project)\n",
    "print(ns.wandb_run)"
   ]
  },
  {
   "cell_type": "code",
   "execution_count": 12,
   "id": "2ad4e7d6",
   "metadata": {
    "ExecuteTime": {
     "end_time": "2022-03-08T19:37:40.510561Z",
     "start_time": "2022-03-08T19:37:40.452717Z"
    }
   },
   "outputs": [],
   "source": [
    "# ns.wandb_run.finish()"
   ]
  },
  {
   "cell_type": "markdown",
   "id": "1d738062",
   "metadata": {
    "heading_collapsed": true
   },
   "source": [
    "### Initiate / Resume Training Prep"
   ]
  },
  {
   "cell_type": "code",
   "execution_count": 8,
   "id": "7bd2a36e",
   "metadata": {
    "ExecuteTime": {
     "end_time": "2022-03-09T04:33:54.783438Z",
     "start_time": "2022-03-09T04:33:54.414302Z"
    },
    "hidden": true
   },
   "outputs": [
    {
     "name": "stdout",
     "output_type": "stream",
     "text": [
      "False\n",
      "warmup\n",
      "../experiments/AdaSparseChem/75x6_0308_2033_plr0.01_sp0.01_sh0.01\n"
     ]
    },
    {
     "ename": "NameError",
     "evalue": "name 'RESUME_MODEL_CKPT' is not defined",
     "output_type": "error",
     "traceback": [
      "\u001b[0;31m---------------------------------------------------------------------------\u001b[0m",
      "\u001b[0;31mNameError\u001b[0m                                 Traceback (most recent call last)",
      "\u001b[0;32m/tmp/ipykernel_27921/3037882859.py\u001b[0m in \u001b[0;36m<module>\u001b[0;34m\u001b[0m\n\u001b[1;32m      2\u001b[0m \u001b[0mprint\u001b[0m\u001b[0;34m(\u001b[0m\u001b[0mopt\u001b[0m\u001b[0;34m[\u001b[0m\u001b[0;34m'train'\u001b[0m\u001b[0;34m]\u001b[0m\u001b[0;34m[\u001b[0m\u001b[0;34m'which_iter'\u001b[0m\u001b[0;34m]\u001b[0m\u001b[0;34m)\u001b[0m\u001b[0;34m\u001b[0m\u001b[0;34m\u001b[0m\u001b[0m\n\u001b[1;32m      3\u001b[0m \u001b[0mprint\u001b[0m\u001b[0;34m(\u001b[0m\u001b[0mopt\u001b[0m\u001b[0;34m[\u001b[0m\u001b[0;34m'paths'\u001b[0m\u001b[0;34m]\u001b[0m\u001b[0;34m[\u001b[0m\u001b[0;34m'checkpoint_dir'\u001b[0m\u001b[0;34m]\u001b[0m\u001b[0;34m)\u001b[0m\u001b[0;34m\u001b[0m\u001b[0;34m\u001b[0m\u001b[0m\n\u001b[0;32m----> 4\u001b[0;31m \u001b[0mprint\u001b[0m\u001b[0;34m(\u001b[0m\u001b[0mRESUME_MODEL_CKPT\u001b[0m\u001b[0;34m)\u001b[0m\u001b[0;34m\u001b[0m\u001b[0;34m\u001b[0m\u001b[0m\n\u001b[0m",
      "\u001b[0;31mNameError\u001b[0m: name 'RESUME_MODEL_CKPT' is not defined"
     ]
    }
   ],
   "source": [
    "print(opt['train']['resume'])\n",
    "print(opt['train']['which_iter'])\n",
    "print(opt['paths']['checkpoint_dir'])\n",
    "print(RESUME_MODEL_CKPT)"
   ]
  },
  {
   "cell_type": "code",
   "execution_count": null,
   "id": "44718ec8",
   "metadata": {
    "hidden": true
   },
   "outputs": [],
   "source": []
  },
  {
   "cell_type": "code",
   "execution_count": null,
   "id": "883a3c55",
   "metadata": {
    "ExecuteTime": {
     "end_time": "2022-03-08T22:47:03.989522Z",
     "start_time": "2022-03-08T22:47:03.618653Z"
    },
    "execution": {
     "iopub.execute_input": "2022-01-07T22:44:27.458746Z",
     "iopub.status.busy": "2022-01-07T22:44:27.457640Z",
     "iopub.status.idle": "2022-01-07T22:44:27.491358Z",
     "shell.execute_reply": "2022-01-07T22:44:27.490019Z",
     "shell.execute_reply.started": "2022-01-07T22:44:27.458686Z"
    },
    "hidden": true
   },
   "outputs": [],
   "source": [
    "# opt['train']['resume'] = True\n",
    "# opt['train']['which_iter'] = 'warmup_ep_40_seed_0088'\n",
    "if opt['train']['resume']:\n",
    "    print_separator('Resume training')\n",
    "    loaded_iter, loaded_epoch = environ.load_checkpoint(RESUME_MODEL_CKPT, path = opt['paths']['checkpoint_dir'], verbose = True)\n",
    "    print(loaded_iter, loaded_epoch)    \n",
    "#     current_iter = environ.load_checkpoint(opt['train']['which_iter'])\n",
    "    environ.networks['mtl-net'].reset_logits()\n",
    "else:\n",
    "    print_separator('Initiate Training ')"
   ]
  },
  {
   "cell_type": "code",
   "execution_count": 96,
   "id": "c3235848",
   "metadata": {
    "ExecuteTime": {
     "end_time": "2022-03-08T22:50:18.526859Z",
     "start_time": "2022-03-08T22:50:18.489372Z"
    },
    "execution": {
     "iopub.execute_input": "2022-01-07T22:44:27.458746Z",
     "iopub.status.busy": "2022-01-07T22:44:27.457640Z",
     "iopub.status.idle": "2022-01-07T22:44:27.491358Z",
     "shell.execute_reply": "2022-01-07T22:44:27.490019Z",
     "shell.execute_reply.started": "2022-01-07T22:44:27.458686Z"
    },
    "hidden": true,
    "scrolled": true
   },
   "outputs": [],
   "source": [
    "val_metrics = load_from_pickle(opt['paths']['checkpoint_dir'], 'metrics_train_ep_25_seed_0088.pickle')"
   ]
  },
  {
   "cell_type": "code",
   "execution_count": 10,
   "id": "54be6b9d",
   "metadata": {
    "ExecuteTime": {
     "end_time": "2022-03-09T04:34:43.646062Z",
     "start_time": "2022-03-09T04:34:43.591926Z"
    },
    "hidden": true
   },
   "outputs": [],
   "source": [
    "# training_prep(ns, opt, environ, dldrs, epoch = loaded_epoch, iter = loaded_iter )\n"
   ]
  },
  {
   "cell_type": "markdown",
   "id": "f9f7774f",
   "metadata": {},
   "source": [
    "### Training Preparation"
   ]
  },
  {
   "cell_type": "code",
   "execution_count": 18,
   "id": "5b8016cb",
   "metadata": {
    "ExecuteTime": {
     "end_time": "2022-03-09T04:35:50.242394Z",
     "start_time": "2022-03-09T04:35:49.888930Z"
    }
   },
   "outputs": [
    {
     "name": "stdout",
     "output_type": "stream",
     "text": [
      " cuda available [0]\n",
      " set print_freq to length of train loader: 105\n",
      " set eval_iters to length of val loader  : 33\n"
     ]
    }
   ],
   "source": [
    "training_prep(ns, opt, environ, dldrs )\n"
   ]
  },
  {
   "cell_type": "markdown",
   "id": "53b0efe7",
   "metadata": {},
   "source": [
    "## Training Preparation"
   ]
  },
  {
   "cell_type": "code",
   "execution_count": 19,
   "id": "5ea212ef",
   "metadata": {
    "ExecuteTime": {
     "end_time": "2022-03-09T04:35:53.635512Z",
     "start_time": "2022-03-09T04:35:53.565884Z"
    },
    "execution": {
     "iopub.execute_input": "2022-01-07T22:44:18.146907Z",
     "iopub.status.busy": "2022-01-07T22:44:18.145721Z",
     "iopub.status.idle": "2022-01-07T22:44:18.191126Z",
     "shell.execute_reply": "2022-01-07T22:44:18.189994Z",
     "shell.execute_reply.started": "2022-01-07T22:44:18.146867Z"
    }
   },
   "outputs": [
    {
     "name": "stdout",
     "output_type": "stream",
     "text": [
      "\n",
      " Num_blocks                : 6                                \n",
      "\n",
      " # batches in Weight training epoch : 105 \n",
      " # batches in Policy training epoch : 105 \n",
      " batch size                : 128 \n",
      " Total iterations          : 25000 \n",
      " Warm-up iterations        : None \n",
      " Warm-up epochs            : 15 \n",
      " Warm-up stop              : 15 \n",
      " training_epochs           : 50                                 \n",
      "\n",
      " Print Frequency           : -1 \n",
      " Config Val Frequency      : 500 \n",
      " Config Val Iterations     : -1 \n",
      " Val iterations            : 33 \n",
      " which_iter                : warmup \n",
      " train_resume              : False                                 \n",
      "                                 \n",
      " \n",
      " fix BN parms              : False \n",
      " Backbone LR               : 0.001 \n",
      " Backbone LR               : 0.001                                 \n",
      "\n",
      " Sharing  regularization   : 0.01 \n",
      " Sparsity regularization   : 0.01 \n",
      " Task     regularization   : 1 \n",
      " Last Epoch                : 0  \n",
      " # of warm-up epochs to do : 15 \n",
      " stop_iter_w               : 105\n"
     ]
    }
   ],
   "source": [
    "disp_info_1(ns, opt, environ)"
   ]
  },
  {
   "cell_type": "code",
   "execution_count": 20,
   "id": "61bc6107",
   "metadata": {
    "ExecuteTime": {
     "end_time": "2022-03-09T04:35:55.429670Z",
     "start_time": "2022-03-09T04:35:55.356076Z"
    },
    "execution": {
     "iopub.execute_input": "2022-01-07T22:44:18.146907Z",
     "iopub.status.busy": "2022-01-07T22:44:18.145721Z",
     "iopub.status.idle": "2022-01-07T22:44:18.191126Z",
     "shell.execute_reply": "2022-01-07T22:44:18.189994Z",
     "shell.execute_reply.started": "2022-01-07T22:44:18.146867Z"
    }
   },
   "outputs": [
    {
     "name": "stdout",
     "output_type": "stream",
     "text": [
      "\n",
      " folder: 75x6_0308_2033_plr0.01_sp0.01_sh0.01 \n",
      " layers: [75, 75, 75, 75, 75, 75]                                \n",
      " \n",
      " middle dropout         : 0.5 \n",
      " last dropout           : 0.5 \n",
      " diff_sparsity_weights  : False \n",
      " skip_layer             : 0 \n",
      " is_curriculum          : False \n",
      " curriculum_speed       : 3                               \n",
      " \n",
      " decay_lr_rate          : 0.75 \n",
      " decay_lr_freq          : 2000 \n",
      " policy_decay_lr_rate   : 0.75 \n",
      " policy_decay_lr_freq   : 2200                               \n",
      " \n",
      " policy_lr              : 0.01 \n",
      " lambda_sparsity        : 0.01 \n",
      " lambda_sharing         : 0.01                               \n",
      " \n",
      " lambda_tasks           : 1 \n",
      " init_temp              : 4 \n",
      " decay_temp             : 0.965 \n",
      " decay_temp_freq        : 2 \n",
      " init_method            : random \n",
      " init_neg_logits        : None \n",
      " hard_sampling          : False \n",
      " Warm-up epochs         : 15 \n",
      " training epochs        : 50\n"
     ]
    }
   ],
   "source": [
    "disp_for_excel(opt)"
   ]
  },
  {
   "cell_type": "markdown",
   "id": "3278d6d1",
   "metadata": {},
   "source": [
    "## Warmup Training"
   ]
  },
  {
   "cell_type": "code",
   "execution_count": 66,
   "id": "92380a48",
   "metadata": {
    "ExecuteTime": {
     "end_time": "2022-03-08T22:29:48.812216Z",
     "start_time": "2022-03-08T22:29:48.785031Z"
    },
    "scrolled": true
   },
   "outputs": [],
   "source": [
    "# environ.display_trained_policy(current_epoch,out=[sys.stdout, environ.log_file])"
   ]
  },
  {
   "cell_type": "code",
   "execution_count": 21,
   "id": "ac9bee34",
   "metadata": {
    "ExecuteTime": {
     "end_time": "2022-03-09T04:36:00.638793Z",
     "start_time": "2022-03-09T04:36:00.572027Z"
    }
   },
   "outputs": [
    {
     "name": "stdout",
     "output_type": "stream",
     "text": [
      "15 0\n"
     ]
    }
   ],
   "source": [
    "print(ns.stop_epoch_warmup, ns.current_epoch)"
   ]
  },
  {
   "cell_type": "code",
   "execution_count": 26,
   "id": "9dc938d5",
   "metadata": {
    "ExecuteTime": {
     "end_time": "2022-03-09T04:57:39.731993Z",
     "start_time": "2022-03-09T04:57:39.663320Z"
    }
   },
   "outputs": [
    {
     "name": "stdout",
     "output_type": "stream",
     "text": [
      "--------------------------------------------------------------------------\n",
      " Last Epoch: 15   # of warm-up epochs to do:  15 - Run epochs 16 to 15\n",
      "-------------------------------------------------------------------------- \n",
      "\n"
     ]
    }
   ],
   "source": [
    "print_heading(f\" Last Epoch: {ns.current_epoch}   # of warm-up epochs to do:  {ns.warm_up_epochs} - Run epochs {ns.current_epoch+1} to {ns.stop_epoch_warmup}\", verbose = True)"
   ]
  },
  {
   "cell_type": "code",
   "execution_count": 30,
   "id": "8be9d65b",
   "metadata": {
    "ExecuteTime": {
     "end_time": "2022-03-09T05:31:35.651592Z",
     "start_time": "2022-03-09T05:20:05.177756Z"
    },
    "scrolled": true
   },
   "outputs": [
    {
     "name": "stdout",
     "output_type": "stream",
     "text": [
      "--------------------------------------------------------------------------\n",
      " Last Epoch: 50   # of warm-up epochs to do:  15 - Run epochs 51 to 75\n",
      "-------------------------------------------------------------------------- \n",
      "\n",
      "Epoch | BckBone LR   Heads LR  Policy LR Gumbl Temp |  trn loss     trn spar     trn shar   trn ttl |   bceloss  avg prec    aucroc     aucpr |  val loss     val spar     val shar    val ttl |  time |\n",
      "   51 |   5.63e-04   5.63e-04   1.00e-02  4.000e+00 |    5.9647   2.0796e+00   1.6944e-02    8.0613 |   0.56962   0.77231   0.77538   0.77220 |    8.5503   2.0796e+00   1.6944e-02    10.6469 |  19.8 |\n",
      "   52 |   5.63e-04   5.63e-04   1.00e-02  4.000e+00 |    5.7734   2.0796e+00   1.6944e-02    7.8699 |   0.56993   0.77311   0.77620   0.77299 |    8.5583   2.0796e+00   1.6944e-02    10.6549 |  24.5 |\n",
      "   53 |   5.63e-04   5.63e-04   1.00e-02  4.000e+00 |    6.1735   2.0796e+00   1.6944e-02    8.2700 |   0.56769   0.77449   0.77765   0.77438 |    8.5207   2.0796e+00   1.6944e-02    10.6173 |  27.3 |\n",
      "   54 |   5.63e-04   5.63e-04   1.00e-02  4.000e+00 |    6.1770   2.0796e+00   1.6944e-02    8.2736 |   0.56760   0.77594   0.77870   0.77582 |    8.5180   2.0796e+00   1.6944e-02    10.6146 |  27.6 |\n",
      "   55 |   5.63e-04   5.63e-04   1.00e-02  4.000e+00 |    6.1064   2.0796e+00   1.6944e-02    8.2029 |   0.56531   0.77730   0.78005   0.77719 |    8.4728   2.0796e+00   1.6944e-02    10.5693 |  28.4 |\n",
      "   56 |   5.63e-04   5.63e-04   1.00e-02  4.000e+00 |    6.2148   2.0796e+00   1.6944e-02    8.3114 |   0.56363   0.77778   0.78075   0.77767 |    8.4665   2.0796e+00   1.6944e-02    10.5631 |  28.9 |\n",
      "   57 |   5.63e-04   5.63e-04   1.00e-02  4.000e+00 |    6.6447   2.0796e+00   1.6944e-02    8.7413 |   0.56338   0.77883   0.78196   0.77872 |    8.4519   2.0796e+00   1.6944e-02    10.5484 |  26.9 |\n",
      "   58 |   4.22e-04   4.22e-04   1.00e-02  4.000e+00 |    6.0809   2.0796e+00   1.6944e-02    8.1774 |   0.56146   0.77974   0.78288   0.77963 |    8.4119   2.0796e+00   1.6944e-02    10.5084 |  27.7 |\n",
      "   59 |   4.22e-04   4.22e-04   1.00e-02  4.000e+00 |    5.5317   2.0796e+00   1.6944e-02    7.6283 |   0.56240   0.78061   0.78345   0.78050 |    8.4380   2.0796e+00   1.6944e-02    10.5345 |  27.1 |\n",
      "   60 |   4.22e-04   4.22e-04   1.00e-02  4.000e+00 |    5.1709   2.0796e+00   1.6944e-02    7.2675 |   0.56196   0.78108   0.78379   0.78096 |    8.4397   2.0796e+00   1.6944e-02    10.5363 |  27.0 |\n",
      "   61 |   4.22e-04   4.22e-04   1.00e-02  4.000e+00 |    5.7173   2.0796e+00   1.6944e-02    7.8139 |   0.56137   0.78166   0.78433   0.78155 |    8.4141   2.0796e+00   1.6944e-02    10.5106 |  37.4 |\n",
      "   62 |   4.22e-04   4.22e-04   1.00e-02  4.000e+00 |    5.1081   2.0796e+00   1.6944e-02    7.2046 |   0.56159   0.78246   0.78491   0.78235 |    8.4257   2.0796e+00   1.6944e-02    10.5223 |  30.2 |\n",
      "   63 |   4.22e-04   4.22e-04   1.00e-02  4.000e+00 |    5.5457   2.0796e+00   1.6944e-02    7.6422 |   0.56060   0.78326   0.78578   0.78315 |    8.4144   2.0796e+00   1.6944e-02    10.5109 |  29.0 |\n",
      "   64 |   4.22e-04   4.22e-04   1.00e-02  4.000e+00 |    5.2550   2.0796e+00   1.6944e-02    7.3515 |   0.56067   0.78425   0.78653   0.78414 |    8.4053   2.0796e+00   1.6944e-02    10.5019 |  26.5 |\n",
      "   65 |   4.22e-04   4.22e-04   1.00e-02  4.000e+00 |    5.2699   2.0796e+00   1.6944e-02    7.3664 |   0.55848   0.78521   0.78777   0.78510 |    8.3696   2.0796e+00   1.6944e-02    10.4662 |  26.7 |\n",
      "   66 |   4.22e-04   4.22e-04   1.00e-02  4.000e+00 |    5.5783   2.0796e+00   1.6944e-02    7.6749 |   0.55849   0.78562   0.78776   0.78552 |    8.3679   2.0796e+00   1.6944e-02    10.4645 |  27.4 |\n",
      "   67 |   4.22e-04   4.22e-04   1.00e-02  4.000e+00 |    5.7463   2.0796e+00   1.6944e-02    7.8428 |   0.55824   0.78661   0.78873   0.78651 |    8.3771   2.0796e+00   1.6944e-02    10.4737 |  26.6 |\n",
      "   68 |   4.22e-04   4.22e-04   1.00e-02  4.000e+00 |    5.6265   2.0796e+00   1.6944e-02    7.7230 |   0.55705   0.78734   0.78937   0.78724 |    8.3467   2.0796e+00   1.6944e-02    10.4433 |  26.7 |\n",
      "   69 |   4.22e-04   4.22e-04   1.00e-02  4.000e+00 |    5.5083   2.0796e+00   1.6944e-02    7.6048 |   0.55510   0.78760   0.78970   0.78750 |    8.3282   2.0796e+00   1.6944e-02    10.4248 |  26.3 |\n",
      "   70 |   4.22e-04   4.22e-04   1.00e-02  4.000e+00 |    5.6011   2.0796e+00   1.6944e-02    7.6976 |   0.55597   0.78832   0.79045   0.78822 |    8.3460   2.0796e+00   1.6944e-02    10.4425 |  27.5 |\n",
      "   71 |   4.22e-04   4.22e-04   1.00e-02  4.000e+00 |    5.5049   2.0796e+00   1.6944e-02    7.6015 |   0.55502   0.78911   0.79123   0.78901 |    8.3194   2.0796e+00   1.6944e-02    10.4160 |  27.3 |\n",
      "   72 |   4.22e-04   4.22e-04   1.00e-02  4.000e+00 |    4.8439   2.0796e+00   1.6944e-02    6.9404 |   0.55491   0.78962   0.79169   0.78952 |    8.3226   2.0796e+00   1.6944e-02    10.4192 |  27.4 |\n",
      "   73 |   4.22e-04   4.22e-04   1.00e-02  4.000e+00 |    5.2188   2.0796e+00   1.6944e-02    7.3154 |   0.55493   0.79009   0.79207   0.78999 |    8.3234   2.0796e+00   1.6944e-02    10.4200 |  27.4 |\n",
      "   74 |   4.22e-04   4.22e-04   1.00e-02  4.000e+00 |    5.2805   2.0796e+00   1.6944e-02    7.3771 |   0.55365   0.79136   0.79304   0.79126 |    8.3091   2.0796e+00   1.6944e-02    10.4056 |  26.6 |\n",
      "   75 |   4.22e-04   4.22e-04   1.00e-02  4.000e+00 |    5.7554   2.0796e+00   1.6944e-02    7.8520 |   0.55364   0.79225   0.79388   0.79215 |    8.2928   2.0796e+00   1.6944e-02    10.3894 |  26.0 |\n",
      "[Final] ep:75  it:7875 -  Total Loss: 10.3894     \n",
      "Task: 8.2928   Sparsity: 2.07962e+00    Sharing: 1.69436e-02 \n",
      "\n",
      " epch:  75   softmax      s        softmax       s        softmax       s\n",
      " -----  ----------------- -    ----------------- -    ----------------- - \n",
      "   1    0.5006    0.4994  1    0.5000    0.5000  0    0.5000    0.5000  1\n",
      "   2    0.5001    0.4999  1    0.4999    0.5001  0    0.4997    0.5003  0\n",
      "   3    0.5006    0.4994  1    0.5000    0.5000  0    0.4998    0.5002  0\n",
      "   4    0.5000    0.5000  0    0.4995    0.5005  0    0.5001    0.4999  1\n",
      "   5    0.5005    0.4995  1    0.4998    0.5002  0    0.4998    0.5002  0\n",
      "   6    0.4999    0.5001  0    0.4999    0.5001  0    0.5003    0.4997  1\n",
      "\n",
      "\n",
      "\n",
      " epch:  75   logits       s          logits      s         logits       s\n",
      " -----  ----------------- -    ----------------  -    ----------------  - \n",
      "   1    0.0005   -0.0019  1    0.0010    0.0010  0    0.0007    0.0006  1\n",
      "   2    0.0009    0.0006  1   -0.0008   -0.0005  0    0.0001    0.0013  0\n",
      "   3    0.0011   -0.0011  1   -0.0006   -0.0006  0   -0.0004    0.0004  0\n",
      "   4    0.0002    0.0003  0   -0.0012    0.0006  0    0.0003   -0.0001  1\n",
      "   5    0.0009   -0.0012  1   -0.0012   -0.0005  0   -0.0005    0.0005  0\n",
      "   6   -0.0011   -0.0008  0   -0.0002    0.0000  0   -0.0001   -0.0013  1\n",
      "\n",
      "\n"
     ]
    }
   ],
   "source": [
    "warmup_phase(ns,opt, environ, dldrs, epochs = 25)"
   ]
  },
  {
   "cell_type": "code",
   "execution_count": 119,
   "id": "1bf4b301",
   "metadata": {
    "ExecuteTime": {
     "end_time": "2022-03-05T23:43:28.118862Z",
     "start_time": "2022-03-05T23:43:28.060201Z"
    },
    "scrolled": false
   },
   "outputs": [],
   "source": [
    "# environ.save_checkpoint('warmup', current_iter, current_epoch)   \n",
    "# print_loss(environ.val_metrics, f\"\\n[e] Warmup epoch:{current_epoch}    iter:{current_iter}\")\n",
    "# environ.display_trained_policy(ns.current_epoch)\n",
    "# environ.log_file.flush()"
   ]
  },
  {
   "cell_type": "code",
   "execution_count": null,
   "id": "a521962b",
   "metadata": {
    "ExecuteTime": {
     "end_time": "2022-02-24T18:39:56.827896Z",
     "start_time": "2022-02-24T18:39:56.753183Z"
    }
   },
   "outputs": [],
   "source": []
  },
  {
   "cell_type": "code",
   "execution_count": null,
   "id": "4bc89302",
   "metadata": {},
   "outputs": [],
   "source": []
  },
  {
   "cell_type": "code",
   "execution_count": 31,
   "id": "e22e75ab",
   "metadata": {
    "ExecuteTime": {
     "end_time": "2022-03-09T05:42:45.957246Z",
     "start_time": "2022-03-09T05:42:45.854040Z"
    }
   },
   "outputs": [
    {
     "name": "stdout",
     "output_type": "stream",
     "text": [
      " Backbone Learning Rate      : 0.001\n",
      " Tasks    Learning Rate      : 0.001\n",
      " Policy   Learning Rate      : 0.01\n",
      "\n",
      " Sparsity regularization     : 0.01\n",
      " Sharing  regularization     : 0.01 \n",
      "\n",
      " Tasks    regularization     : 1   \n",
      " Gumbel Temp                 : 4.0000         \n",
      " Gumbel Temp decay           : 2\n"
     ]
    }
   ],
   "source": [
    "print( f\" Backbone Learning Rate      : {environ.opt['train']['backbone_lr']}\\n\"\n",
    "       f\" Tasks    Learning Rate      : {environ.opt['train']['task_lr']}\\n\"\n",
    "       f\" Policy   Learning Rate      : {environ.opt['train']['policy_lr']}\\n\")\n",
    "print( f\" Sparsity regularization     : {environ.opt['train']['lambda_sparsity']}\\n\"\n",
    "       f\" Sharing  regularization     : {environ.opt['train']['lambda_sharing']} \\n\\n\"\n",
    "       f\" Tasks    regularization     : {environ.opt['train']['lambda_tasks']}   \\n\"\n",
    "       f\" Gumbel Temp                 : {environ.gumbel_temperature:.4f}         \\n\" #\n",
    "       f\" Gumbel Temp decay           : {environ.opt['train']['decay_temp_freq']}\") #"
   ]
  },
  {
   "cell_type": "code",
   "execution_count": 18,
   "id": "c2db34fc",
   "metadata": {
    "ExecuteTime": {
     "end_time": "2022-03-05T00:07:26.408466Z",
     "start_time": "2022-03-05T00:07:26.350990Z"
    }
   },
   "outputs": [],
   "source": [
    "# environ.opt['train']['policy_lr']       = 0.01\n",
    "# opt['train']['policy_lr']       = 0.01\n",
    "# environ.opt['train']['lambda_sparsity'] = 0.1\n",
    "# environ.opt['train']['lambda_sharing']  = 0.01\n",
    "# environ.opt['train']['lambda_tasks']    = 1.0\n",
    "# environ.opt['train']['decay_temp_freq'] = 2\n",
    "# print(environ.optimizers['alphas'].param_groups)\n",
    "# print(environ.optimizers['alphas'].param_groups[0]['initial_lr'],environ.optimizers['alphas'].param_groups[0]['lr'],)\n",
    "# print(environ.optimizers['weights'].param_groups[0]['initial_lr'], environ.optimizers['weights'].param_groups[0]['lr'])\n",
    "# print(environ.optimizers['weights'].param_groups[1]['initial_lr'], environ.optimizers['weights'].param_groups[1]['lr'])"
   ]
  },
  {
   "cell_type": "markdown",
   "id": "eb49645c",
   "metadata": {},
   "source": [
    "## Weight & Policy Training"
   ]
  },
  {
   "cell_type": "markdown",
   "id": "c6aade16",
   "metadata": {},
   "source": [
    "### Training Preparation"
   ]
  },
  {
   "cell_type": "code",
   "execution_count": 32,
   "id": "365996be",
   "metadata": {
    "ExecuteTime": {
     "end_time": "2022-03-09T05:42:49.153298Z",
     "start_time": "2022-03-09T05:42:49.092779Z"
    }
   },
   "outputs": [
    {
     "name": "stdout",
     "output_type": "stream",
     "text": [
      "------------------------------------------------------------------------------------------------------------------------\n",
      "** 2022-03-08 21:42:49:118434 \n",
      "** Training epoch: 75 iter: 7875   flag: update_w \n",
      "** Set optimizer and scheduler to policy_learning = True (Switch weight optimizer from ADAM to SGD)\n",
      "** Switch from Warm Up training to Alternate training Weights & Policy \n",
      "** Take checkpoint and block gradient flow through Policy net\n",
      "------------------------------------------------------------------------------------------------------------------------ \n",
      "\n"
     ]
    }
   ],
   "source": [
    "if ns.flag_warmup:\n",
    "    print_heading( f\"** {timestring()} \\n\"\n",
    "                   f\"** Training epoch: {ns.current_epoch} iter: {ns.current_iter}   flag: {ns.flag} \\n\"\n",
    "                   f\"** Set optimizer and scheduler to policy_learning = True (Switch weight optimizer from ADAM to SGD)\\n\"\n",
    "                   f\"** Switch from Warm Up training to Alternate training Weights & Policy \\n\"\n",
    "                   f\"** Take checkpoint and block gradient flow through Policy net\", verbose=True)\n",
    "    environ.define_optimizer(policy_learning=True)\n",
    "    environ.define_scheduler(policy_learning=True)\n",
    "    ns.flag_warmup = False\n",
    "    ns.flag = 'update_w'\n",
    "    environ.fix_alpha()\n",
    "    environ.free_weights(opt['fix_BN'])"
   ]
  },
  {
   "cell_type": "code",
   "execution_count": 33,
   "id": "5eb21a1d",
   "metadata": {
    "ExecuteTime": {
     "end_time": "2022-03-09T05:42:52.527781Z",
     "start_time": "2022-03-09T05:42:52.462789Z"
    }
   },
   "outputs": [
    {
     "name": "stdout",
     "output_type": "stream",
     "text": [
      "75 50\n"
     ]
    }
   ],
   "source": [
    "# current_epoch = 40\n",
    "print(ns.current_epoch,ns.training_epochs)\n",
    " "
   ]
  },
  {
   "cell_type": "code",
   "execution_count": 88,
   "id": "8593384c",
   "metadata": {
    "ExecuteTime": {
     "end_time": "2022-03-08T22:47:22.698753Z",
     "start_time": "2022-03-08T22:47:22.672706Z"
    }
   },
   "outputs": [],
   "source": [
    "# num_train_layers = None \n",
    "# environ.opt['is_curriculum'] = True\n",
    "# environ.opt['curriculum_speed'] = 4\n",
    "ns.num_train_layers = None"
   ]
  },
  {
   "cell_type": "code",
   "execution_count": 89,
   "id": "97b0fdbd",
   "metadata": {
    "ExecuteTime": {
     "end_time": "2022-03-08T22:47:23.135552Z",
     "start_time": "2022-03-08T22:47:23.109663Z"
    }
   },
   "outputs": [],
   "source": [
    "# train_total_epochs = 10\n",
    "# stop_epoch_training = current_epoch +train_total_epochs"
   ]
  },
  {
   "cell_type": "code",
   "execution_count": 34,
   "id": "753d84a8",
   "metadata": {
    "ExecuteTime": {
     "end_time": "2022-03-09T05:43:01.952014Z",
     "start_time": "2022-03-09T05:43:01.889628Z"
    }
   },
   "outputs": [
    {
     "name": "stdout",
     "output_type": "stream",
     "text": [
      "current_epoch           : 75\n",
      "current_iters           : 7875\n",
      "training_epochs         : 50\n",
      "stop_epoch_training     : 50\n",
      "Batches in weight epoch : 105\n",
      "Batches in policy epoch : 105\n",
      "\n"
     ]
    }
   ],
   "source": [
    "print(f\"current_epoch           : {ns.current_epoch}\") \n",
    "print(f\"current_iters           : {ns.current_iter}\")  \n",
    "print(f\"training_epochs         : {ns.training_epochs}\") \n",
    "print(f\"stop_epoch_training     : {ns.stop_epoch_training}\")\n",
    "print(f\"Batches in weight epoch : {ns.stop_iter_w}\")\n",
    "print(f\"Batches in policy epoch : {ns.stop_iter_a}\")\n",
    "print()"
   ]
  },
  {
   "cell_type": "code",
   "execution_count": 97,
   "id": "25e913c6",
   "metadata": {
    "ExecuteTime": {
     "end_time": "2022-03-08T22:50:36.052530Z",
     "start_time": "2022-03-08T22:50:36.022518Z"
    }
   },
   "outputs": [
    {
     "name": "stdout",
     "output_type": "stream",
     "text": [
      "[e] Last epoch:25  it:3675 -  Total Loss: 10.9495     \n",
      "Task: 8.7791   Sparsity: 2.13751e+00    Sharing: 3.28845e-02 \n"
     ]
    }
   ],
   "source": [
    "\n",
    "print_loss(val_metrics, title = f\"[e] Last epoch:{ns.current_epoch}  it:{ns.current_iter}\")\n",
    "# environ.display_trained_policy(ns.current_epoch)\n",
    "# environ.display_trained_logits(ns.current_epoch)"
   ]
  },
  {
   "cell_type": "code",
   "execution_count": 35,
   "id": "2fcd6751",
   "metadata": {
    "ExecuteTime": {
     "end_time": "2022-03-09T05:43:14.697545Z",
     "start_time": "2022-03-09T05:43:14.618238Z"
    },
    "scrolled": false
   },
   "outputs": [
    {
     "name": "stdout",
     "output_type": "stream",
     "text": [
      "------------------------------------------------------------------------------------------------------------------------\n",
      " Last Epoch Completed : 75        # of epochs to run:  50 -->  epochs 76 to 50\n",
      " policy_learning rate : 0.01 \n",
      " lambda_sparsity      : 0.01\n",
      " lambda_sharing       : 0.01\n",
      " curriculum training  : False     cirriculum speed: 3     num_training_layers : None\n",
      "------------------------------------------------------------------------------------------------------------------------ \n",
      "\n"
     ]
    }
   ],
   "source": [
    "print_heading(f\" Last Epoch Completed : {ns.current_epoch}        # of epochs to run:  {ns.training_epochs} -->  epochs {ns.current_epoch+1} to {ns.stop_epoch_training}\"\n",
    "              f\"\\n policy_learning rate : {environ.opt['train']['policy_lr']} \"\n",
    "              f\"\\n lambda_sparsity      : {environ.opt['train']['lambda_sparsity']}\"\n",
    "              f\"\\n lambda_sharing       : {environ.opt['train']['lambda_sharing']}\"\n",
    "              f\"\\n curriculum training  : {opt['is_curriculum']}     cirriculum speed: {opt['curriculum_speed']}     num_training_layers : {ns.num_train_layers}\", \n",
    "              verbose = True)"
   ]
  },
  {
   "cell_type": "markdown",
   "id": "561c71af",
   "metadata": {},
   "source": [
    "### Weight/Policy Training"
   ]
  },
  {
   "cell_type": "code",
   "execution_count": null,
   "id": "d10ad7d8",
   "metadata": {
    "ExecuteTime": {
     "start_time": "2022-03-09T18:26:37.040Z"
    },
    "scrolled": false
   },
   "outputs": [
    {
     "name": "stdout",
     "output_type": "stream",
     "text": [
      "------------------------------------------------------------------------------------------------------------------------\n",
      " Last Epoch Completed : 126   # of epochs to run:  50 -->  epochs 127 to 176 \n",
      " policy_learning rate : 0.01      \n",
      " lambda_sparsity      : 0.01\n",
      " lambda_sharing       : 0.01 \n",
      " curriculum training  : False     cirriculum speed: 3     num_training_layers : None\n",
      "------------------------------------------------------------------------------------------------------------------------ \n",
      "\n",
      "Epoch | BckBone LR   Heads LR  Policy LR Gumbl Temp |  trn loss     trn spar     trn shar   trn ttl |   bceloss  avg prec    aucroc     aucpr |  val loss     val spar     val shar    val ttl |  time |\n",
      "  127 |   5.63e-04   5.63e-04   5.62e-03  3.595e+00 |    3.2419   2.1972e+00   1.7912e-02    5.4570 |   0.59100   0.80865   0.81159   0.80855 |    8.8771   2.1972e+00   1.7912e-02    11.0922 |  23.5 |\n",
      "  127 |   5.63e-04   5.63e-04   5.62e-03  3.595e+00 |    3.2658   2.2563e+00   1.5894e-02    5.5381 |   0.59716   0.80949   0.81158   0.80940 |    8.9802   2.2574e+00   2.2484e-02    11.2600 |  28.2 |\n",
      "  128 |   5.63e-04   5.63e-04   5.62e-03  3.595e+00 |    3.1411   2.2574e+00   2.2484e-02    5.4210 |   0.59597   0.80786   0.81104   0.80776 |    8.9264   2.2574e+00   2.2484e-02    11.2063 |  24.4 |\n",
      "  128 |   5.63e-04   5.63e-04   5.62e-03  3.595e+00 |    3.2252   2.3133e+00   1.1093e-02    5.5496 |   0.59621   0.80914   0.81256   0.80904 |    8.9330   2.3115e+00   1.3628e-02    11.2581 |  29.6 |\n",
      "  129 |   5.63e-04   5.63e-04   5.62e-03  3.595e+00 |    3.4186   2.3115e+00   1.3628e-02    5.7438 |   0.59384   0.81057   0.81227   0.81048 |    8.8975   2.3115e+00   1.3628e-02    11.2226 |  25.2 |\n",
      "  129 |   5.63e-04   5.63e-04   5.62e-03  3.595e+00 |    2.2973   2.3259e+00   2.1084e-02    4.6443 |   0.59405   0.80979   0.81229   0.80970 |    8.9144   2.3264e+00   2.0338e-02    11.2611 |  30.9 |\n",
      "  130 |   5.63e-04   5.63e-04   5.62e-03  3.595e+00 |    2.8351   2.3264e+00   2.0338e-02    5.1819 |   0.60447   0.80924   0.81170   0.80914 |    9.0763   2.3264e+00   2.0338e-02    11.4230 |  27.4 |\n",
      "  130 |   5.63e-04   5.63e-04   5.62e-03  3.595e+00 |    2.5852   2.2883e+00   1.8419e-02    4.8919 |   0.59198   0.81049   0.81260   0.81039 |    8.8636   2.2872e+00   2.3306e-02    11.1742 |  31.2 |\n",
      "\n",
      "[e] Policy training epoch:130  it:19320 -  Total Loss: 11.1742     \n",
      "Task: 8.8636   Sparsity: 2.28723e+00    Sharing: 2.33062e-02 \n",
      "\n",
      " epch: 130   softmax      s        softmax       s        softmax       s\n",
      " -----  ----------------- -    ----------------- -    ----------------- - \n",
      "   1    0.2112    0.7888  0    0.1057    0.8943  0    0.2658    0.7342  0\n",
      "   2    0.6480    0.3520  1    0.6784    0.3216  1    0.9353    0.0647  1\n",
      "   3    0.8053    0.1947  1    0.3513    0.6487  0    0.4594    0.5406  0\n",
      "   4    0.3902    0.6098  0    0.3974    0.6026  0    0.4397    0.5603  0\n",
      "   5    0.4938    0.5062  0    0.5734    0.4266  1    0.6203    0.3797  1\n",
      "   6    0.3538    0.6462  0    0.3360    0.6640  0    0.4157    0.5843  0\n",
      "\n",
      "\n",
      "Epoch | BckBone LR   Heads LR  Policy LR Gumbl Temp |  trn loss     trn spar     trn shar   trn ttl |   bceloss  avg prec    aucroc     aucpr |  val loss     val spar     val shar    val ttl |  time |\n",
      "  131 |   5.63e-04   5.63e-04   5.62e-03  3.595e+00 |    3.3706   2.2872e+00   2.3306e-02    5.6812 |   0.59017   0.81064   0.81256   0.81055 |    8.8414   2.2872e+00   2.3306e-02    11.1520 |  27.4 |\n",
      "  131 |   5.63e-04   5.63e-04   5.62e-03  3.595e+00 |    2.5131   2.2831e+00   1.2694e-02    4.8089 |   0.58426   0.81306   0.81422   0.81297 |    8.7516   2.2833e+00   1.5986e-02    11.0508 |  31.3 |\n",
      "  132 |   5.63e-04   5.63e-04   5.62e-03  3.595e+00 |    3.3918   2.2833e+00   1.5986e-02    5.6911 |   0.58920   0.81095   0.81259   0.81086 |    8.8695   2.2833e+00   1.5986e-02    11.1687 |  27.0 |\n",
      "  132 |   5.63e-04   5.63e-04   5.62e-03  3.595e+00 |    3.2185   2.3048e+00   1.8478e-02    5.5418 |   0.58878   0.81308   0.81320   0.81299 |    8.8589   2.3037e+00   1.6233e-02    11.1789 |  30.0 |\n",
      "  133 |   4.22e-04   4.22e-04   5.62e-03  3.595e+00 |    3.2264   2.3037e+00   1.6233e-02    5.5463 |   0.60179   0.80858   0.81087   0.80848 |    9.0144   2.3037e+00   1.6233e-02    11.3344 |  27.5 |\n",
      "  133 |   4.22e-04   4.22e-04   5.62e-03  3.595e+00 |    3.1264   2.2892e+00   2.3242e-02    5.4389 |   0.60041   0.80826   0.81075   0.80815 |    8.9787   2.2882e+00   1.9073e-02    11.2859 |  32.3 |\n",
      "  134 |   4.22e-04   4.22e-04   5.62e-03  3.595e+00 |    2.4386   2.2882e+00   1.9073e-02    4.7458 |   0.60477   0.80818   0.81152   0.80809 |    9.0746   2.2882e+00   1.9073e-02    11.3819 |  26.9 |\n",
      "  134 |   4.22e-04   4.22e-04   5.62e-03  3.595e+00 |    2.9176   2.3445e+00   1.7524e-02    5.2797 |   0.59717   0.80915   0.81271   0.80904 |    8.9522   2.3456e+00   1.8499e-02    11.3163 |  30.5 |\n",
      "  135 |   4.22e-04   4.22e-04   5.62e-03  3.595e+00 |    3.4579   2.3456e+00   1.8499e-02    5.8220 |   0.59508   0.81213   0.81334   0.81204 |    8.9500   2.3456e+00   1.8499e-02    11.3141 |  25.6 |\n",
      "Previous best_epoch:   122   best iter: 17535,   best_value: 0.81211\n",
      "New      best_epoch:   135   best iter: 20265,   best_value: 0.81213\n",
      "  135 |   4.22e-04   4.22e-04   5.62e-03  3.595e+00 |    3.1335   2.4275e+00   1.8152e-02    5.5792 |   0.59403   0.81191   0.81287   0.81182 |    8.9122   2.4273e+00   2.1198e-02    11.3607 |  29.6 |\n",
      "\n",
      "[e] Policy training epoch:135  it:20370 -  Total Loss: 11.3607     \n",
      "Task: 8.9122   Sparsity: 2.42735e+00    Sharing: 2.11983e-02 \n",
      "\n",
      " epch: 135   softmax      s        softmax       s        softmax       s\n",
      " -----  ----------------- -    ----------------- -    ----------------- - \n",
      "   1    0.2185    0.7815  0    0.0960    0.9040  0    0.2433    0.7567  0\n",
      "   2    0.6754    0.3246  1    0.6747    0.3253  1    0.9395    0.0605  1\n",
      "   3    0.8383    0.1617  1    0.3518    0.6482  0    0.4850    0.5150  0\n",
      "   4    0.4188    0.5812  0    0.4202    0.5798  0    0.4665    0.5335  0\n",
      "   5    0.5357    0.4643  1    0.6121    0.3879  1    0.6191    0.3809  1\n",
      "   6    0.3982    0.6018  0    0.3860    0.6140  0    0.4366    0.5634  0\n",
      "\n",
      "\n",
      "Epoch | BckBone LR   Heads LR  Policy LR Gumbl Temp |  trn loss     trn spar     trn shar   trn ttl |   bceloss  avg prec    aucroc     aucpr |  val loss     val spar     val shar    val ttl |  time |\n",
      "  136 |   4.22e-04   4.22e-04   5.62e-03  3.595e+00 |    3.5564   2.4273e+00   2.1198e-02    6.0050 |   0.60038   0.81209   0.81444   0.81200 |    9.0027   2.4273e+00   2.1198e-02    11.4512 |  27.2 |\n",
      "  136 |   4.22e-04   4.22e-04   5.62e-03  3.595e+00 |    3.1425   2.3124e+00   1.6735e-02    5.4716 |   0.59365   0.81171   0.81377   0.81162 |    8.9237   2.3128e+00   2.1746e-02    11.2583 |  29.4 |\n",
      "  137 |   4.22e-04   4.22e-04   5.62e-03  3.595e+00 |    2.6015   2.3128e+00   2.1746e-02    4.9360 |   0.59820   0.81200   0.81438   0.81191 |    8.9670   2.3128e+00   2.1746e-02    11.3016 |  28.6 |\n",
      "  137 |   4.22e-04   4.22e-04   5.62e-03  3.595e+00 |    3.0128   2.3666e+00   1.8383e-02    5.3977 |   0.59717   0.81271   0.81454   0.81261 |    8.9309   2.3685e+00   2.5766e-02    11.3251 |  30.5 |\n",
      "  138 |   4.22e-04   4.22e-04   5.62e-03  3.595e+00 |    2.9390   2.3685e+00   2.5766e-02    5.3332 |   0.60129   0.81396   0.81502   0.81387 |    9.0128   2.3685e+00   2.5766e-02    11.4070 |  31.8 |\n",
      "Previous best_epoch:   135   best iter: 20265,   best_value: 0.81213\n",
      "New      best_epoch:   138   best iter: 20895,   best_value: 0.81396\n",
      "  138 |   4.22e-04   4.22e-04   5.62e-03  3.595e+00 |    2.8092   2.3179e+00   2.4721e-02    5.1518 |   0.60073   0.81096   0.81378   0.81087 |    8.9961   2.3168e+00   2.5713e-02    11.3386 |  32.0 |\n",
      "  139 |   4.22e-04   4.22e-04   5.62e-03  3.595e+00 |    2.9709   2.3168e+00   2.5713e-02    5.3134 |   0.60421   0.81106   0.81330   0.81095 |    9.0609   2.3168e+00   2.5713e-02    11.4034 |  27.8 |\n",
      "  139 |   4.22e-04   4.22e-04   4.22e-03  3.595e+00 |    2.9024   2.3463e+00   1.3942e-02    5.2627 |   0.59126   0.81135   0.81385   0.81124 |    8.8875   2.3469e+00   1.2307e-02    11.2466 |  33.3 |\n"
     ]
    },
    {
     "name": "stdout",
     "output_type": "stream",
     "text": [
      "  140 |   4.22e-04   4.22e-04   4.22e-03  3.595e+00 |    3.3271   2.3469e+00   1.2307e-02    5.6863 |   0.59777   0.81254   0.81364   0.81244 |    8.9683   2.3469e+00   1.2307e-02    11.3275 |  28.3 |\n",
      "  140 |   4.22e-04   4.22e-04   4.22e-03  3.595e+00 |    3.0747   2.3437e+00   1.1073e-02    5.4295 |   0.60461   0.81115   0.81265   0.81106 |    9.0946   2.3423e+00   1.3120e-02    11.4499 |  32.9 |\n",
      " decay gumbel softmax to 3.4687200024999996\n",
      "\n",
      "[e] Policy training epoch:140  it:21420 -  Total Loss: 11.4499     \n",
      "Task: 9.0946   Sparsity: 2.34225e+00    Sharing: 1.31196e-02 \n",
      "\n",
      " epch: 140   softmax      s        softmax       s        softmax       s\n",
      " -----  ----------------- -    ----------------- -    ----------------- - \n",
      "   1    0.1857    0.8143  0    0.0786    0.9214  0    0.2167    0.7833  0\n",
      "   2    0.6883    0.3117  1    0.6650    0.3350  1    0.9396    0.0604  1\n",
      "   3    0.8456    0.1544  1    0.3333    0.6667  0    0.4184    0.5816  0\n",
      "   4    0.4365    0.5635  0    0.3865    0.6135  0    0.4207    0.5793  0\n",
      "   5    0.5211    0.4789  1    0.5814    0.4186  1    0.5892    0.4108  1\n",
      "   6    0.3797    0.6203  0    0.3782    0.6218  0    0.4420    0.5580  0\n",
      "\n",
      "\n",
      "Epoch | BckBone LR   Heads LR  Policy LR Gumbl Temp |  trn loss     trn spar     trn shar   trn ttl |   bceloss  avg prec    aucroc     aucpr |  val loss     val spar     val shar    val ttl |  time |\n",
      "  141 |   4.22e-04   4.22e-04   4.22e-03  3.469e+00 |    3.0916   2.3423e+00   1.3120e-02    5.4469 |   0.60069   0.81244   0.81354   0.81233 |    8.9977   2.3423e+00   1.3120e-02    11.3530 |  30.2 |\n",
      "  141 |   4.22e-04   4.22e-04   4.22e-03  3.469e+00 |    2.6879   2.3536e+00   1.8544e-02    5.0601 |   0.59944   0.81138   0.81329   0.81129 |    9.0183   2.3543e+00   2.4846e-02    11.3975 |  30.7 |\n",
      "  142 |   4.22e-04   4.22e-04   4.22e-03  3.469e+00 |    3.3218   2.3543e+00   2.4846e-02    5.7009 |   0.60956   0.81169   0.81322   0.81160 |    9.1571   2.3543e+00   2.4846e-02    11.5362 |  28.0 |\n",
      "  142 |   4.22e-04   4.22e-04   4.22e-03  3.469e+00 |    2.9026   2.3468e+00   1.6432e-02    5.2659 |   0.59863   0.81043   0.81332   0.81034 |    8.9839   2.3461e+00   1.9785e-02    11.3498 |  31.7 |\n",
      "  143 |   4.22e-04   4.22e-04   4.22e-03  3.469e+00 |    3.4977   2.3461e+00   1.9785e-02    5.8636 |   0.59225   0.81176   0.81428   0.81165 |    8.8911   2.3461e+00   1.9785e-02    11.2570 |  26.2 |\n",
      "  143 |   4.22e-04   4.22e-04   4.22e-03  3.469e+00 |    3.0085   2.3367e+00   1.3616e-02    5.3589 |   0.59887   0.81323   0.81475   0.81314 |    8.9639   2.3351e+00   1.8816e-02    11.3178 |  30.2 |\n",
      "  144 |   4.22e-04   4.22e-04   4.22e-03  3.469e+00 |    3.0161   2.3351e+00   1.8816e-02    5.3700 |   0.60040   0.81207   0.81358   0.81197 |    8.9931   2.3351e+00   1.8816e-02    11.3470 |  29.0 |\n",
      "  144 |   4.22e-04   4.22e-04   4.22e-03  3.469e+00 |    2.4921   2.3548e+00   1.4848e-02    4.8617 |   0.59546   0.81383   0.81562   0.81374 |    8.9394   2.3560e+00   2.0667e-02    11.3160 |  31.1 |\n",
      "  145 |   4.22e-04   4.22e-04   4.22e-03  3.469e+00 |    2.8301   2.3560e+00   2.0667e-02    5.2067 |   0.60055   0.81237   0.81463   0.81228 |    8.9997   2.3560e+00   2.0667e-02    11.3763 |  25.3 |\n",
      "  145 |   4.22e-04   4.22e-04   4.22e-03  3.469e+00 |    3.2187   2.3028e+00   1.9113e-02    5.5406 |   0.59822   0.81233   0.81452   0.81224 |    8.9615   2.3027e+00   2.2930e-02    11.2871 |  30.5 |\n",
      "\n",
      "[e] Policy training epoch:145  it:22470 -  Total Loss: 11.2871     \n",
      "Task: 8.9615   Sparsity: 2.30268e+00    Sharing: 2.29303e-02 \n",
      "\n",
      " epch: 145   softmax      s        softmax       s        softmax       s\n",
      " -----  ----------------- -    ----------------- -    ----------------- - \n",
      "   1    0.1999    0.8001  0    0.0837    0.9163  0    0.1852    0.8148  0\n",
      "   2    0.6823    0.3177  1    0.6821    0.3179  1    0.9422    0.0578  1\n",
      "   3    0.8390    0.1610  1    0.3110    0.6890  0    0.4263    0.5737  0\n",
      "   4    0.4313    0.5687  0    0.4114    0.5886  0    0.3883    0.6117  0\n",
      "   5    0.5111    0.4889  1    0.5308    0.4692  1    0.6099    0.3901  1\n",
      "   6    0.3646    0.6354  0    0.3598    0.6402  0    0.3955    0.6045  0\n",
      "\n",
      "\n",
      "Epoch | BckBone LR   Heads LR  Policy LR Gumbl Temp |  trn loss     trn spar     trn shar   trn ttl |   bceloss  avg prec    aucroc     aucpr |  val loss     val spar     val shar    val ttl |  time |\n",
      "  146 |   4.22e-04   4.22e-04   4.22e-03  3.469e+00 |    2.9145   2.3027e+00   2.2930e-02    5.2401 |   0.60064   0.81064   0.81300   0.81054 |    9.0026   2.3027e+00   2.2930e-02    11.3282 |  28.1 |\n",
      "  146 |   4.22e-04   4.22e-04   4.22e-03  3.469e+00 |    3.1003   2.2806e+00   9.6042e-03    5.3906 |   0.59929   0.81443   0.81602   0.81434 |    8.9878   2.2806e+00   8.2181e-03    11.2766 |  28.2 |\n",
      "  147 |   4.22e-04   4.22e-04   4.22e-03  3.469e+00 |    2.5933   2.2806e+00   8.2181e-03    4.8821 |   0.60435   0.81404   0.81491   0.81395 |    9.0617   2.2806e+00   8.2181e-03    11.3505 |  24.9 |\n",
      "Previous best_epoch:   138   best iter: 20895,   best_value: 0.81396\n",
      "New      best_epoch:   147   best iter: 22785,   best_value: 0.81404\n",
      "  147 |   4.22e-04   4.22e-04   4.22e-03  3.469e+00 |    2.5700   2.3218e+00   1.0492e-02    4.9023 |   0.59629   0.81279   0.81404   0.81269 |    8.9579   2.3226e+00   1.0825e-02    11.2913 |  28.0 |\n",
      "  148 |   4.22e-04   4.22e-04   4.22e-03  3.469e+00 |    3.1306   2.3226e+00   1.0825e-02    5.4640 |   0.60651   0.81326   0.81491   0.81317 |    9.0930   2.3226e+00   1.0825e-02    11.4264 |  26.2 |\n",
      "  148 |   4.22e-04   4.22e-04   4.22e-03  3.469e+00 |    2.4742   2.3413e+00   1.3094e-02    4.8285 |   0.60475   0.81192   0.81387   0.81182 |    9.0810   2.3413e+00   1.0422e-02    11.4328 |  28.1 |\n",
      "  149 |   4.22e-04   4.22e-04   4.22e-03  3.469e+00 |    2.9750   2.3413e+00   1.0422e-02    5.3268 |   0.59846   0.81216   0.81418   0.81206 |    8.9818   2.3413e+00   1.0422e-02    11.3335 |  23.8 |\n",
      "  149 |   4.22e-04   4.22e-04   4.22e-03  3.469e+00 |    2.9943   2.3126e+00   1.4121e-02    5.3210 |   0.61231   0.81309   0.81518   0.81299 |    9.1744   2.3115e+00   9.7222e-03    11.4956 |  27.6 |\n",
      "  150 |   4.22e-04   4.22e-04   4.22e-03  3.469e+00 |    2.4910   2.3115e+00   9.7222e-03    4.8122 |   0.60096   0.81196   0.81433   0.81185 |    9.0587   2.3115e+00   9.7222e-03    11.3799 |  24.0 |\n",
      "  150 |   4.22e-04   4.22e-04   4.22e-03  3.469e+00 |    2.1856   2.3552e+00   1.7147e-02    4.5579 |   0.59349   0.81475   0.81603   0.81467 |    8.9049   2.3564e+00   1.2979e-02    11.2743 |  27.9 |\n",
      "\n",
      "[e] Policy training epoch:150  it:23520 -  Total Loss: 11.2743     \n",
      "Task: 8.9049   Sparsity: 2.35641e+00    Sharing: 1.29792e-02 \n",
      "\n",
      " epch: 150   softmax      s        softmax       s        softmax       s\n",
      " -----  ----------------- -    ----------------- -    ----------------- - \n",
      "   1    0.2083    0.7917  0    0.0773    0.9227  0    0.1937    0.8063  0\n",
      "   2    0.6430    0.3570  1    0.6609    0.3391  1    0.9462    0.0538  1\n",
      "   3    0.8428    0.1572  1    0.3344    0.6656  0    0.4624    0.5376  0\n",
      "   4    0.4620    0.5380  0    0.4373    0.5627  0    0.4231    0.5769  0\n",
      "   5    0.5127    0.4873  1    0.5402    0.4598  1    0.6042    0.3958  1\n",
      "   6    0.4169    0.5831  0    0.3963    0.6037  0    0.3849    0.6151  0\n",
      "\n",
      "\n",
      "Epoch | BckBone LR   Heads LR  Policy LR Gumbl Temp |  trn loss     trn spar     trn shar   trn ttl |   bceloss  avg prec    aucroc     aucpr |  val loss     val spar     val shar    val ttl |  time |\n",
      "  151 |   4.22e-04   4.22e-04   4.22e-03  3.469e+00 |    2.8922   2.3564e+00   1.2979e-02    5.2616 |   0.61198   0.81335   0.81506   0.81325 |    9.1690   2.3564e+00   1.2979e-02    11.5384 |  27.8 |\n",
      "  151 |   4.22e-04   4.22e-04   4.22e-03  3.469e+00 |    2.3127   2.3740e+00   1.4899e-02    4.7016 |   0.60524   0.81389   0.81472   0.81380 |    9.0604   2.3733e+00   1.9744e-02    11.4534 |  28.2 |\n",
      "  152 |   3.16e-04   3.16e-04   4.22e-03  3.469e+00 |    3.0470   2.3733e+00   1.9744e-02    5.4400 |   0.60619   0.81159   0.81414   0.81148 |    9.0859   2.3733e+00   1.9744e-02    11.4790 |  26.1 |\n",
      "  152 |   3.16e-04   3.16e-04   4.22e-03  3.469e+00 |    2.9411   2.4051e+00   1.2889e-02    5.3591 |   0.60574   0.81481   0.81689   0.81470 |    9.0925   2.4053e+00   1.3947e-02    11.5117 |  29.3 |\n"
     ]
    },
    {
     "name": "stdout",
     "output_type": "stream",
     "text": [
      "  153 |   3.16e-04   3.16e-04   4.22e-03  3.469e+00 |    2.3450   2.4053e+00   1.3947e-02    4.7642 |   0.60342   0.81169   0.81476   0.81160 |    8.9988   2.4053e+00   1.3947e-02    11.4180 |  26.0 |\n",
      "  153 |   3.16e-04   3.16e-04   4.22e-03  3.469e+00 |    2.4117   2.3855e+00   1.3660e-02    4.8108 |   0.60073   0.81314   0.81490   0.81305 |    9.0198   2.3857e+00   7.0861e-03    11.4125 |  28.7 |\n",
      "  154 |   3.16e-04   3.16e-04   4.22e-03  3.469e+00 |    2.4460   2.3857e+00   7.0861e-03    4.8388 |   0.61677   0.81256   0.81402   0.81245 |    9.2582   2.3857e+00   7.0861e-03    11.6510 |  28.2 |\n",
      "  154 |   3.16e-04   3.16e-04   4.22e-03  3.469e+00 |    2.9269   2.3745e+00   2.0131e-02    5.3215 |   0.60272   0.81392   0.81567   0.81382 |    9.0306   2.3743e+00   2.0202e-02    11.4251 |  31.7 |\n",
      "  155 |   3.16e-04   3.16e-04   4.22e-03  3.469e+00 |    2.5066   2.3743e+00   2.0202e-02    4.9012 |   0.61686   0.81406   0.81571   0.81396 |    9.2183   2.3743e+00   2.0202e-02    11.6128 |  28.9 |\n",
      "Previous best_epoch:   147   best iter: 22785,   best_value: 0.81404\n",
      "New      best_epoch:   155   best iter: 24465,   best_value: 0.81406\n",
      "  155 |   3.16e-04   3.16e-04   4.22e-03  3.469e+00 |    2.9238   2.3505e+00   1.8169e-02    5.2925 |   0.60684   0.81193   0.81423   0.81184 |    9.0925   2.3504e+00   1.2976e-02    11.4559 |  28.9 |\n",
      "\n",
      "[e] Policy training epoch:155  it:24570 -  Total Loss: 11.4559     \n",
      "Task: 9.0925   Sparsity: 2.35039e+00    Sharing: 1.29764e-02 \n",
      "\n",
      " epch: 155   softmax      s        softmax       s        softmax       s\n",
      " -----  ----------------- -    ----------------- -    ----------------- - \n",
      "   1    0.2043    0.7957  0    0.0748    0.9252  0    0.2001    0.7999  0\n",
      "   2    0.6572    0.3428  1    0.6659    0.3341  1    0.9433    0.0567  1\n",
      "   3    0.8497    0.1503  1    0.3163    0.6837  0    0.4455    0.5545  0\n",
      "   4    0.4390    0.5610  0    0.4024    0.5976  0    0.4409    0.5591  0\n",
      "   5    0.5188    0.4812  1    0.5339    0.4661  1    0.6003    0.3997  1\n",
      "   6    0.3968    0.6032  0    0.4029    0.5971  0    0.4304    0.5696  0\n",
      "\n",
      "\n",
      "Epoch | BckBone LR   Heads LR  Policy LR Gumbl Temp |  trn loss     trn spar     trn shar   trn ttl |   bceloss  avg prec    aucroc     aucpr |  val loss     val spar     val shar    val ttl |  time |\n",
      "  156 |   3.16e-04   3.16e-04   4.22e-03  3.469e+00 |    2.2621   2.3504e+00   1.2976e-02    4.6255 |   0.61153   0.81403   0.81599   0.81394 |    9.1835   2.3504e+00   1.2976e-02    11.5469 |  26.0 |\n",
      "  156 |   3.16e-04   3.16e-04   4.22e-03  3.469e+00 |    2.3600   2.3585e+00   9.9957e-03    4.7285 |   0.61206   0.81309   0.81517   0.81297 |    9.1797   2.3591e+00   1.3188e-02    11.5520 |  31.0 |\n",
      " decay gumbel softmax to 3.3473148024124995\n",
      "  157 |   3.16e-04   3.16e-04   4.22e-03  3.347e+00 |    2.3808   2.3591e+00   1.3188e-02    4.7531 |   0.60599   0.81408   0.81653   0.81399 |    9.1111   2.3591e+00   1.3188e-02    11.4834 |  25.5 |\n",
      "Previous best_epoch:   155   best iter: 24465,   best_value: 0.81406\n",
      "New      best_epoch:   157   best iter: 24885,   best_value: 0.81408\n",
      "  157 |   3.16e-04   3.16e-04   4.22e-03  3.347e+00 |    2.6150   2.3770e+00   1.7961e-02    5.0100 |   0.60463   0.81337   0.81494   0.81328 |    9.0992   2.3767e+00   1.9207e-02    11.4951 |  36.1 |\n",
      "  158 |   3.16e-04   3.16e-04   4.22e-03  3.347e+00 |    2.3714   2.3767e+00   1.9207e-02    4.7674 |   0.60205   0.81510   0.81642   0.81502 |    9.0276   2.3767e+00   1.9207e-02    11.4235 |  32.4 |\n",
      "Previous best_epoch:   157   best iter: 24885,   best_value: 0.81408\n",
      "New      best_epoch:   158   best iter: 25095,   best_value: 0.81510\n",
      "  158 |   3.16e-04   3.16e-04   4.22e-03  3.347e+00 |    2.6524   2.3908e+00   1.9570e-02    5.0627 |   0.60738   0.81311   0.81595   0.81302 |    9.1281   2.3894e+00   1.7824e-02    11.5354 |  34.8 |\n",
      "  159 |   3.16e-04   3.16e-04   4.22e-03  3.347e+00 |    2.4499   2.3894e+00   1.7824e-02    4.8572 |   0.60892   0.81330   0.81532   0.81321 |    9.1165   2.3894e+00   1.7824e-02    11.5237 |  33.1 |\n",
      "  159 |   3.16e-04   3.16e-04   4.22e-03  3.347e+00 |    2.8110   2.3771e+00   1.6119e-02    5.2042 |   0.60814   0.81278   0.81459   0.81267 |    9.1159   2.3769e+00   1.6241e-02    11.5090 |  32.9 |\n",
      "  160 |   3.16e-04   3.16e-04   4.22e-03  3.347e+00 |    2.5446   2.3769e+00   1.6241e-02    4.9378 |   0.60581   0.81365   0.81536   0.81356 |    9.1041   2.3769e+00   1.6241e-02    11.4973 |  28.5 |\n",
      "  160 |   3.16e-04   3.16e-04   3.16e-03  3.347e+00 |    2.4602   2.3932e+00   1.0930e-02    4.8643 |   0.60981   0.81440   0.81584   0.81431 |    9.1441   2.3942e+00   1.3137e-02    11.5515 |  29.6 |\n",
      "\n",
      "[e] Policy training epoch:160  it:25620 -  Total Loss: 11.5515     \n",
      "Task: 9.1441   Sparsity: 2.39424e+00    Sharing: 1.31368e-02 \n",
      "\n",
      " epch: 160   softmax      s        softmax       s        softmax       s\n",
      " -----  ----------------- -    ----------------- -    ----------------- - \n",
      "   1    0.1942    0.8058  0    0.0717    0.9283  0    0.2190    0.7810  0\n",
      "   2    0.6755    0.3245  1    0.6774    0.3226  1    0.9479    0.0521  1\n",
      "   3    0.8678    0.1322  1    0.3037    0.6963  0    0.4815    0.5185  0\n",
      "   4    0.4296    0.5704  0    0.4292    0.5708  0    0.4627    0.5373  0\n",
      "   5    0.4782    0.5218  0    0.5404    0.4596  1    0.5960    0.4040  1\n",
      "   6    0.3680    0.6320  0    0.3755    0.6245  0    0.4327    0.5673  0\n",
      "\n",
      "\n",
      "Epoch | BckBone LR   Heads LR  Policy LR Gumbl Temp |  trn loss     trn spar     trn shar   trn ttl |   bceloss  avg prec    aucroc     aucpr |  val loss     val spar     val shar    val ttl |  time |\n",
      "  161 |   3.16e-04   3.16e-04   3.16e-03  3.347e+00 |    2.4426   2.3942e+00   1.3137e-02    4.8500 |   0.60087   0.81440   0.81664   0.81430 |    8.9977   2.3942e+00   1.3137e-02    11.4051 |  28.2 |\n",
      "  161 |   3.16e-04   3.16e-04   3.16e-03  3.347e+00 |    2.8998   2.4065e+00   1.4160e-02    5.3205 |   0.61165   0.81559   0.81663   0.81551 |    9.1908   2.4062e+00   1.0183e-02    11.6072 |  29.5 |\n",
      "  162 |   3.16e-04   3.16e-04   3.16e-03  3.347e+00 |    2.7945   2.4062e+00   1.0183e-02    5.2108 |   0.60844   0.81482   0.81610   0.81473 |    9.1060   2.4062e+00   1.0183e-02    11.5224 |  26.4 |\n",
      "  162 |   3.16e-04   3.16e-04   3.16e-03  3.347e+00 |    3.2708   2.4039e+00   1.6519e-02    5.6912 |   0.60860   0.81541   0.81620   0.81533 |    9.1083   2.4037e+00   1.4123e-02    11.5261 |  29.2 |\n",
      "  163 |   3.16e-04   3.16e-04   3.16e-03  3.347e+00 |    2.6461   2.4037e+00   1.4123e-02    5.0640 |   0.61245   0.81359   0.81550   0.81349 |    9.1791   2.4037e+00   1.4123e-02    11.5970 |  24.6 |\n",
      "  163 |   3.16e-04   3.16e-04   3.16e-03  3.347e+00 |    2.4043   2.3731e+00   6.8271e-03    4.7843 |   0.60254   0.81475   0.81683   0.81467 |    9.0788   2.3720e+00   7.2006e-03    11.4580 |  30.7 |\n",
      "  164 |   3.16e-04   3.16e-04   3.16e-03  3.347e+00 |    2.8350   2.3720e+00   7.2006e-03    5.2142 |   0.61281   0.81363   0.81541   0.81353 |    9.1759   2.3720e+00   7.2006e-03    11.5551 |  27.9 |\n",
      "  164 |   3.16e-04   3.16e-04   3.16e-03  3.347e+00 |    2.6101   2.4004e+00   7.8411e-03    5.0184 |   0.61021   0.81557   0.81617   0.81548 |    9.1468   2.3995e+00   9.3006e-03    11.5556 |  32.3 |\n",
      "  165 |   3.16e-04   3.16e-04   3.16e-03  3.347e+00 |    2.6186   2.3995e+00   9.3006e-03    5.0274 |   0.60795   0.81598   0.81644   0.81590 |    9.1144   2.3995e+00   9.3006e-03    11.5232 |  31.4 |\n",
      "Previous best_epoch:   158   best iter: 25095,   best_value: 0.81510\n",
      "New      best_epoch:   165   best iter: 26565,   best_value: 0.81598\n",
      "  165 |   3.16e-04   3.16e-04   3.16e-03  3.347e+00 |    2.2717   2.3758e+00   9.1899e-03    4.6568 |   0.61229   0.81341   0.81530   0.81332 |    9.1871   2.3760e+00   8.2993e-03    11.5715 |  29.2 |\n",
      "\n",
      "[e] Policy training epoch:165  it:26670 -  Total Loss: 11.5715     \n",
      "Task: 9.1871   Sparsity: 2.37605e+00    Sharing: 8.29926e-03 \n",
      "\n",
      " epch: 165   softmax      s        softmax       s        softmax       s\n",
      " -----  ----------------- -    ----------------- -    ----------------- - \n",
      "   1    0.1777    0.8223  0    0.0725    0.9275  0    0.2098    0.7902  0\n",
      "   2    0.6815    0.3185  1    0.6818    0.3182  1    0.9456    0.0544  1\n",
      "   3    0.8685    0.1315  1    0.3209    0.6791  0    0.4596    0.5404  0\n",
      "   4    0.4195    0.5805  0    0.4152    0.5848  0    0.4446    0.5554  0\n",
      "   5    0.4843    0.5157  0    0.5613    0.4387  1    0.5926    0.4074  1\n",
      "   6    0.3553    0.6447  0    0.3862    0.6138  0    0.4163    0.5837  0\n",
      "\n",
      "\n"
     ]
    },
    {
     "name": "stdout",
     "output_type": "stream",
     "text": [
      "Epoch | BckBone LR   Heads LR  Policy LR Gumbl Temp |  trn loss     trn spar     trn shar   trn ttl |   bceloss  avg prec    aucroc     aucpr |  val loss     val spar     val shar    val ttl |  time |\n",
      "  166 |   3.16e-04   3.16e-04   3.16e-03  3.347e+00 |    2.8646   2.3760e+00   8.2993e-03    5.2489 |   0.60197   0.81546   0.81683   0.81535 |    9.0439   2.3760e+00   8.2993e-03    11.4283 |  25.2 |\n",
      "  166 |   3.16e-04   3.16e-04   3.16e-03  3.347e+00 |    2.7011   2.3981e+00   1.0274e-02    5.1094 |   0.61265   0.81309   0.81579   0.81299 |    9.1676   2.3978e+00   7.6084e-03    11.5730 |  33.6 |\n",
      "  167 |   3.16e-04   3.16e-04   3.16e-03  3.347e+00 |    2.3906   2.3978e+00   7.6084e-03    4.7960 |   0.60642   0.81394   0.81572   0.81383 |    9.0926   2.3978e+00   7.6084e-03    11.4981 |  28.1 |\n",
      "  167 |   3.16e-04   3.16e-04   3.16e-03  3.347e+00 |    3.2740   2.4281e+00   9.1150e-03    5.7112 |   0.61538   0.81359   0.81532   0.81349 |    9.2309   2.4276e+00   1.0712e-02    11.6692 |  30.6 |\n",
      "  168 |   3.16e-04   3.16e-04   3.16e-03  3.347e+00 |    2.3613   2.4276e+00   1.0712e-02    4.7996 |   0.61867   0.81361   0.81506   0.81352 |    9.2763   2.4276e+00   1.0712e-02    11.7146 |  27.3 |\n",
      "Ep:168 [policy] :  60%|█████████████████████▌              | 63/105 [00:14<00:07,  5.29it/s, it=27258, Lss=2.7060, Spr=2.4255e+00, Shr=1.2686e-02, lyr=None]"
     ]
    }
   ],
   "source": [
    "weight_policy_training(ns, opt, environ, dldrs, epochs = 50)"
   ]
  },
  {
   "cell_type": "code",
   "execution_count": 37,
   "id": "bc49cc3c",
   "metadata": {
    "ExecuteTime": {
     "end_time": "2022-03-09T07:11:19.324933Z",
     "start_time": "2022-03-09T07:11:19.258369Z"
    }
   },
   "outputs": [],
   "source": [
    "opt['train']['decay_temp_freq'] = 16\n",
    "ns.best_epoch = 0\n"
   ]
  },
  {
   "cell_type": "code",
   "execution_count": 102,
   "id": "2f1656da",
   "metadata": {
    "ExecuteTime": {
     "end_time": "2022-03-09T00:06:31.473331Z",
     "start_time": "2022-03-09T00:06:31.441223Z"
    }
   },
   "outputs": [
    {
     "name": "stdout",
     "output_type": "stream",
     "text": [
      " Backbone Learning Rate      : 0.001\n",
      " Tasks    Learning Rate      : 0.001\n",
      " Policy   Learning Rate      : 0.01\n",
      "\n",
      " Sparsity regularization     : 0.01\n",
      " Sharing  regularization     : 0.01 \n",
      "\n",
      " Tasks    regularization     : 1   \n",
      " Gumbel Temp                 : 2.3441         \n",
      " Gumbel Temp decay           : 8\n"
     ]
    }
   ],
   "source": [
    "print( f\" Backbone Learning Rate      : {environ.opt['train']['backbone_lr']}\\n\"\n",
    "       f\" Tasks    Learning Rate      : {environ.opt['train']['task_lr']}\\n\"\n",
    "       f\" Policy   Learning Rate      : {environ.opt['train']['policy_lr']}\\n\")\n",
    "\n",
    "\n",
    "print( f\" Sparsity regularization     : {environ.opt['train']['lambda_sparsity']}\\n\"\n",
    "       f\" Sharing  regularization     : {environ.opt['train']['lambda_sharing']} \\n\\n\"\n",
    "       f\" Tasks    regularization     : {environ.opt['train']['lambda_tasks']}   \\n\"\n",
    "       f\" Gumbel Temp                 : {environ.gumbel_temperature:.4f}         \\n\" #\n",
    "       f\" Gumbel Temp decay           : {environ.opt['train']['decay_temp_freq']}\") #"
   ]
  },
  {
   "cell_type": "code",
   "execution_count": 89,
   "id": "c570db82",
   "metadata": {
    "ExecuteTime": {
     "end_time": "2022-03-02T02:24:42.383142Z",
     "start_time": "2022-03-02T02:24:42.291656Z"
    }
   },
   "outputs": [],
   "source": [
    "environ.opt['train']['policy_lr']       = 0.002\n",
    "environ.opt['train']['lambda_sparsity'] = 0.1\n",
    "environ.opt['train']['lambda_sharing']  = 0.01\n",
    "# environ.opt['train']['lambda_tasks']    = 1.0\n",
    "# # environ.opt['train']['decay_temp_freq'] = 2\n",
    " "
   ]
  },
  {
   "cell_type": "code",
   "execution_count": 90,
   "id": "26efa07b",
   "metadata": {
    "ExecuteTime": {
     "end_time": "2022-03-02T02:24:42.962923Z",
     "start_time": "2022-03-02T02:24:42.851901Z"
    }
   },
   "outputs": [
    {
     "name": "stdout",
     "output_type": "stream",
     "text": [
      " Backbone Learning Rate      : 0.001\n",
      " Tasks    Learning Rate      : 0.001\n",
      " Policy   Learning Rate      : 0.002\n",
      "\n",
      " Sparsity regularization     : 0.1\n",
      " Sharing  regularization     : 0.01 \n",
      "\n",
      " Tasks    regularization     : 1   \n",
      " Gumbel Temp                 : 0.2764         \n",
      " Gumbel Temp decay           : 2\n",
      "\n",
      " current_iters               : 32550\n",
      " current_epochs              : 160\n",
      " train_total_epochs          : 10\n",
      " stop_epoch_training         : 160\n"
     ]
    }
   ],
   "source": [
    "print( f\" Backbone Learning Rate      : {environ.opt['train']['backbone_lr']}\\n\"\n",
    "       f\" Tasks    Learning Rate      : {environ.opt['train']['task_lr']}\\n\"\n",
    "       f\" Policy   Learning Rate      : {environ.opt['train']['policy_lr']}\\n\")\n",
    "\n",
    "\n",
    "print( f\" Sparsity regularization     : {environ.opt['train']['lambda_sparsity']}\\n\"\n",
    "       f\" Sharing  regularization     : {environ.opt['train']['lambda_sharing']} \\n\\n\"\n",
    "       f\" Tasks    regularization     : {environ.opt['train']['lambda_tasks']}   \\n\"\n",
    "       f\" Gumbel Temp                 : {environ.gumbel_temperature:.4f}         \\n\" #\n",
    "       f\" Gumbel Temp decay           : {environ.opt['train']['decay_temp_freq']}\") #\n",
    "\n",
    "print()\n",
    "print( f\" current_iters               : {current_iter}\")  \n",
    "print( f\" current_epochs              : {current_epoch}\") \n",
    "print( f\" train_total_epochs          : {train_total_epochs}\") \n",
    "print( f\" stop_epoch_training         : {stop_epoch_training}\")"
   ]
  },
  {
   "cell_type": "code",
   "execution_count": null,
   "id": "04de4040",
   "metadata": {
    "ExecuteTime": {
     "end_time": "2022-02-16T23:42:38.875913Z",
     "start_time": "2022-02-16T23:42:38.820249Z"
    }
   },
   "outputs": [],
   "source": [
    "# pp.pprint(environ.losses)\n",
    "# pp.pprint(environ.val_metrics)"
   ]
  },
  {
   "cell_type": "code",
   "execution_count": null,
   "id": "336e5cec",
   "metadata": {
    "ExecuteTime": {
     "end_time": "2022-02-21T17:44:36.218784Z",
     "start_time": "2022-02-21T17:44:36.063411Z"
    }
   },
   "outputs": [],
   "source": [
    "# print_loss(environ.val_metrics, title = f\"[Final] ep:{current_epoch}  it:{current_iter}\",)\n",
    "# environ.display_trained_policy(current_epoch)\n",
    "# environ.display_trained_logits(current_epoch)\n",
    "# environ.log_file.flush()"
   ]
  },
  {
   "cell_type": "code",
   "execution_count": 163,
   "id": "54fdb021",
   "metadata": {
    "ExecuteTime": {
     "end_time": "2022-03-06T00:32:52.580865Z",
     "start_time": "2022-03-06T00:32:52.554112Z"
    },
    "scrolled": true
   },
   "outputs": [],
   "source": [
    "# model_label   = 'model_train_ep_%d_seed_%04d' % (current_epoch, opt['random_seed'])\n",
    "# metrics_label = 'metrics_train_ep_%d_seed_%04d.pickle' % (current_epoch, opt['random_seed'])\n",
    "# environ.save_checkpoint(model_label, current_iter, current_epoch) \n",
    "# save_to_pickle(environ.val_metrics, environ.opt['paths']['checkpoint_dir'], metrics_label)\n",
    "# print_loss(environ.val_metrics, title = f\"[Final] ep:{current_epoch}  it:{current_iter}\",)\n",
    "# environ.display_trained_policy(current_epoch,out=[sys.stdout, environ.log_file])\n",
    "# environ.display_trained_logits(current_epoch)\n",
    "# environ.log_file.flush()\n",
    "\n",
    "\n",
    "# environ.save_checkpoint('best_weights_policy_2', current_iter, current_epoch) \n",
    "# print_loss(environ.val_metrics, title = f\"[Final] ep:{current_epoch}  it:{current_iter}\",)\n",
    "# environ.display_trained_policy(current_epoch,out=[sys.stdout, environ.log_file])\n",
    "# environ.display_trained_logits(current_epoch)\n",
    "# environ.log_file.flush()"
   ]
  },
  {
   "cell_type": "code",
   "execution_count": null,
   "id": "5dad3a6e",
   "metadata": {
    "ExecuteTime": {
     "end_time": "2022-02-20T22:48:27.014120Z",
     "start_time": "2022-02-20T22:48:26.982535Z"
    }
   },
   "outputs": [],
   "source": [
    "# print_loss(current_iter, environ.losses, title = f\"[e] Policy training epoch:{current_epoch}    iter:\")\n",
    "# print()\n",
    "# print_loss(current_iter, trn_losses, title = f\"[e] Policy training epoch:{current_epoch}    iter:\")\n",
    "# print()\n",
    "# print_loss(current_iter, environ.val_metrics, title = f\"[e] Policy training epoch:{current_epoch}    iter:\")"
   ]
  },
  {
   "cell_type": "code",
   "execution_count": 55,
   "id": "20edbdd4",
   "metadata": {
    "ExecuteTime": {
     "end_time": "2022-03-01T20:37:56.499455Z",
     "start_time": "2022-03-01T20:37:56.093472Z"
    }
   },
   "outputs": [
    {
     "name": "stdout",
     "output_type": "stream",
     "text": [
      "Epoch | BckBone LR   Heads LR  Policy LR Gumbl Temp |  trn loss     trn spar     trn shar   trn ttl |   bceloss  avg prec    aucroc     aucpr |  val loss     val spar     val shar    val ttl |  time |\n",
      "   90 |   5.22e-04   5.22e-04   6.14e-03  9.968e-01 |    2.3488   2.3753e+00   2.9361e-02    4.7535 |   0.66047   0.80706   0.81083   0.80696 |    9.8989   2.3745e+00   3.2183e-02    12.3056 |2719.3 |\n"
     ]
    }
   ],
   "source": [
    "# print_metrics_cr(current_epoch, time.time() - start_time, trn_losses, environ.val_metrics, 0, out=[sys.stdout])"
   ]
  },
  {
   "cell_type": "code",
   "execution_count": null,
   "id": "464d5db8",
   "metadata": {
    "ExecuteTime": {
     "end_time": "2022-03-01T20:31:45.254334Z",
     "start_time": "2022-03-01T20:31:45.116895Z"
    }
   },
   "outputs": [],
   "source": [
    "# environ.losses\n",
    "\n",
    "# environ.val_metrics"
   ]
  },
  {
   "cell_type": "code",
   "execution_count": 59,
   "id": "59c4dd81",
   "metadata": {
    "ExecuteTime": {
     "end_time": "2022-03-01T20:47:29.582501Z",
     "start_time": "2022-03-01T20:47:29.492581Z"
    }
   },
   "outputs": [],
   "source": [
    "# environ.batch_data\n",
    "\n",
    "# environ.display_parameters()\n",
    "\n",
    "# with np.printoptions(edgeitems=3, infstr='inf', linewidth=150, nanstr='nan', precision=7, formatter={'float': lambda x: f\"{x:12.5e}\"}):\n",
    "#     environ.print_logit_grads('gradients')\n",
    "\n",
    "# environ_params = environ.get_task_specific_parameters()\n",
    "# environ_params = environ.get_arch_parameters()\n",
    "# environ_params = environ.get_backbone_parameters()\n",
    "# print(environ_params)\n",
    "# for param in environ_params:\n",
    "#     print(param.grad.shape, '\\n', param.grad)\n",
    "#     print(param)"
   ]
  },
  {
   "cell_type": "code",
   "execution_count": 139,
   "id": "49c80c9b",
   "metadata": {
    "ExecuteTime": {
     "end_time": "2022-03-09T04:00:36.691050Z",
     "start_time": "2022-03-09T04:00:36.106150Z"
    }
   },
   "outputs": [
    {
     "name": "stdout",
     "output_type": "stream",
     "text": [
      "\n",
      " epch: 125   logits       s          logits      s         logits       s\n",
      " -----  ----------------- -    ----------------  -    ----------------  - \n",
      "   1   -0.5929    0.4841  0   -0.5923    0.6541  0   -0.5925    0.9035  0\n",
      "   2    0.0389   -0.1261  1    0.0389   -0.0274  1    0.0402   -0.0994  1\n",
      "   3    0.2928   -0.5825  1    0.2925   -0.3840  1    0.2930   -0.0701  1\n",
      "   4    0.2900   -0.1577  1    0.2906   -0.2286  1    0.2902   -0.8290  1\n",
      "   5   -0.1057    0.5628  0   -0.1070   -0.4826  1   -0.1082    0.2616  0\n",
      "   6   -0.2416    0.8389  0   -0.2409    0.0414  0   -0.2395   -0.3599  1\n",
      "\n",
      "\n",
      "\n",
      " epch: 125   softmax      s        softmax       s        softmax       s\n",
      " -----  ----------------- -    ----------------- -    ----------------- - \n",
      "   1    0.2541    0.7459  0    0.2233    0.7767  0    0.1830    0.8170  0\n",
      "   2    0.5412    0.4588  1    0.5166    0.4834  1    0.5348    0.4652  1\n",
      "   3    0.7058    0.2942  1    0.6630    0.3370  1    0.5898    0.4102  1\n",
      "   4    0.6101    0.3899  1    0.6270    0.3730  1    0.7539    0.2461  1\n",
      "   5    0.3388    0.6612  0    0.5928    0.4072  1    0.4086    0.5914  0\n",
      "   6    0.2534    0.7466  0    0.4299    0.5701  0    0.5301    0.4699  1\n",
      "\n",
      "\n"
     ]
    }
   ],
   "source": [
    "environ.display_trained_logits(ns.current_epoch)\n",
    "environ.display_trained_policy(ns.current_epoch)"
   ]
  },
  {
   "cell_type": "code",
   "execution_count": null,
   "id": "04d47dc5",
   "metadata": {
    "ExecuteTime": {
     "end_time": "2022-02-22T17:25:12.503617Z",
     "start_time": "2022-02-22T17:25:12.162406Z"
    }
   },
   "outputs": [],
   "source": [
    "environ.display_test_sample_policy(current_epoch, hard_sampling = True)\n",
    "environ.display_train_sample_policy(current_epoch, hard_sampling = True)"
   ]
  },
  {
   "cell_type": "code",
   "execution_count": 166,
   "id": "8754b317",
   "metadata": {
    "ExecuteTime": {
     "end_time": "2022-03-06T00:33:19.474125Z",
     "start_time": "2022-03-06T00:33:19.447847Z"
    }
   },
   "outputs": [],
   "source": [
    "# environ.define_optimizer(policy_learning=True)"
   ]
  },
  {
   "cell_type": "code",
   "execution_count": 103,
   "id": "e7e89541",
   "metadata": {
    "ExecuteTime": {
     "end_time": "2022-03-09T00:07:08.097708Z",
     "start_time": "2022-03-09T00:07:08.070721Z"
    }
   },
   "outputs": [
    {
     "name": "stdout",
     "output_type": "stream",
     "text": [
      "Adam (\n",
      "Parameter Group 0\n",
      "    amsgrad: False\n",
      "    betas: (0.9, 0.999)\n",
      "    eps: 1e-08\n",
      "    initial_lr: 0.01\n",
      "    lr: 0.01\n",
      "    weight_decay: 0.0005\n",
      ")\n",
      "SGD (\n",
      "Parameter Group 0\n",
      "    dampening: 0\n",
      "    initial_lr: 0.001\n",
      "    lr: 0.00085\n",
      "    momentum: 0.9\n",
      "    nesterov: False\n",
      "    weight_decay: 0.0001\n",
      "\n",
      "Parameter Group 1\n",
      "    dampening: 0\n",
      "    initial_lr: 0.001\n",
      "    lr: 0.00085\n",
      "    momentum: 0.9\n",
      "    nesterov: False\n",
      "    weight_decay: 0.0001\n",
      ")\n"
     ]
    }
   ],
   "source": [
    "print(environ.optimizers['alphas'])\n",
    "print(environ.optimizers['weights'])"
   ]
  },
  {
   "cell_type": "code",
   "execution_count": 104,
   "id": "d1ecc91e",
   "metadata": {
    "ExecuteTime": {
     "end_time": "2022-03-09T00:07:50.026992Z",
     "start_time": "2022-03-09T00:07:49.986101Z"
    },
    "scrolled": true
   },
   "outputs": [
    {
     "name": "stdout",
     "output_type": "stream",
     "text": [
      "Policy  initial_lr :  0.01 lr :  0.01\n",
      "Weights initial_lr :  0.001 lr :  0.00085\n",
      "Weights initial_lr :  0.001 lr :  0.00085\n"
     ]
    }
   ],
   "source": [
    "print('Policy  initial_lr : ', environ.optimizers['alphas'].param_groups[0]['initial_lr'], 'lr : ',environ.optimizers['alphas'].param_groups[0]['lr'])\n",
    "print('Weights initial_lr : ', environ.optimizers['weights'].param_groups[0]['initial_lr'], 'lr : ',environ.optimizers['weights'].param_groups[0]['lr'])\n",
    "print('Weights initial_lr : ', environ.optimizers['weights'].param_groups[1]['initial_lr'], 'lr : ',environ.optimizers['weights'].param_groups[1]['lr'])"
   ]
  },
  {
   "cell_type": "markdown",
   "id": "dd64bbc0",
   "metadata": {},
   "source": [
    "### Close WandB run"
   ]
  },
  {
   "cell_type": "code",
   "execution_count": 140,
   "id": "96d8af9c",
   "metadata": {
    "ExecuteTime": {
     "end_time": "2022-03-09T04:31:02.383401Z",
     "start_time": "2022-03-09T04:30:59.145198Z"
    }
   },
   "outputs": [
    {
     "name": "stdout",
     "output_type": "stream",
     "text": [
      "\n"
     ]
    },
    {
     "data": {
      "text/html": [
       "Waiting for W&B process to finish... <strong style=\"color:green\">(success).</strong>"
      ],
      "text/plain": [
       "<IPython.core.display.HTML object>"
      ]
     },
     "metadata": {},
     "output_type": "display_data"
    },
    {
     "data": {
      "application/vnd.jupyter.widget-view+json": {
       "model_id": "05c5ca1d232348ec9fc6a077c4a1235d",
       "version_major": 2,
       "version_minor": 0
      },
      "text/plain": [
       "VBox(children=(Label(value='1.785 MB of 1.785 MB uploaded (0.000 MB deduped)\\r'), FloatProgress(value=1.0, max…"
      ]
     },
     "metadata": {},
     "output_type": "display_data"
    },
    {
     "data": {
      "text/html": [
       "<style>\n",
       "    table.wandb td:nth-child(1) { padding: 0 10px; text-align: right }\n",
       "    .wandb-row { display: flex; flex-direction: row; flex-wrap: wrap; width: 100% }\n",
       "    .wandb-col { display: flex; flex-direction: column; flex-basis: 100%; flex: 1; padding: 10px; }\n",
       "    </style>\n",
       "<div class=\"wandb-row\"><div class=\"wandb-col\"><h3>Run history:</h3><br/><table class=\"wandb\"><tr><td>epoch</td><td>▁▁▁▁▂▂▂▂▂▃▃▃▃▃▃▄▄▄▄▄▄▅▅▅▅▅▆▆▆▆▆▇▇▇▇▇▇███</td></tr><tr><td>train_time</td><td>▃▂▂▂▂▃▃▂▃▂▂▃▂▂▂▂▂▂▂▃▃▂▂▃▄▄▆▆▆▂█▃██▇▄▄▁▆▆</td></tr></table><br/></div><div class=\"wandb-col\"><h3>Run summary:</h3><br/><table class=\"wandb\"><tr><td>epoch</td><td>125</td></tr><tr><td>train_time</td><td>27.60705</td></tr></table><br/></div></div>"
      ],
      "text/plain": [
       "<IPython.core.display.HTML object>"
      ]
     },
     "metadata": {},
     "output_type": "display_data"
    },
    {
     "data": {
      "text/html": [
       "Synced <strong style=\"color:#cdcd00\">0308_1204</strong>: <a href=\"http://localhost:8080/kbardool/AdaSparseChem/runs/330i85cg\" target=\"_blank\">http://localhost:8080/kbardool/AdaSparseChem/runs/330i85cg</a><br/>Synced 3 W&B file(s), 585 media file(s), 585 artifact file(s) and 0 other file(s)"
      ],
      "text/plain": [
       "<IPython.core.display.HTML object>"
      ]
     },
     "metadata": {},
     "output_type": "display_data"
    },
    {
     "data": {
      "text/html": [
       "Find logs at: <code>./wandb/run-20220308_142254-330i85cg/logs</code>"
      ],
      "text/plain": [
       "<IPython.core.display.HTML object>"
      ]
     },
     "metadata": {},
     "output_type": "display_data"
    }
   ],
   "source": [
    "wandb.finish()"
   ]
  },
  {
   "cell_type": "markdown",
   "id": "1e60ed5d",
   "metadata": {
    "heading_collapsed": true
   },
   "source": [
    "## Post Training Stuff"
   ]
  },
  {
   "cell_type": "code",
   "execution_count": 78,
   "id": "1b6b8e99",
   "metadata": {
    "ExecuteTime": {
     "end_time": "2022-03-05T23:10:03.751132Z",
     "start_time": "2022-03-05T23:10:03.724538Z"
    },
    "execution": {
     "iopub.execute_input": "2022-01-07T22:44:13.145647Z",
     "iopub.status.busy": "2022-01-07T22:44:13.145313Z",
     "iopub.status.idle": "2022-01-07T22:44:13.193262Z",
     "shell.execute_reply": "2022-01-07T22:44:13.192140Z",
     "shell.execute_reply.started": "2022-01-07T22:44:13.145622Z"
    },
    "hidden": true
   },
   "outputs": [],
   "source": [
    "# opt['exp_instance'] = '0218_1358'     \n",
    "# folder_name=  f\"{opt['exp_instance']}_bs{opt['train']['batch_size']:03d}_{opt['train']['decay_lr_rate']:3.2f}_{opt['train']['decay_lr_freq']}\"\n",
    "# print()\n",
    "# opt['exp_instance'] = datetime.now().strftime(\"%m%d_%H%M\")\n",
    "# opt['exp_description'] = f\"No Alternating Weight/Policy - training all done with both weights and policy\"\n",
    "# folder_name=  f\"{opt['exp_instance']}_bs{opt['train']['batch_size']:03d}_{opt['train']['decay_lr_rate']:3.2f}_{opt['train']['decay_lr_freq']}\""
   ]
  },
  {
   "cell_type": "code",
   "execution_count": 101,
   "id": "d2affee1",
   "metadata": {
    "ExecuteTime": {
     "end_time": "2022-02-25T21:42:27.261326Z",
     "start_time": "2022-02-25T21:42:23.247820Z"
    },
    "hidden": true
   },
   "outputs": [
    {
     "data": {
      "text/html": [
       "<br/>Waiting for W&B process to finish, PID 21319... <strong style=\"color:green\">(success).</strong>"
      ],
      "text/plain": [
       "<IPython.core.display.HTML object>"
      ]
     },
     "metadata": {},
     "output_type": "display_data"
    },
    {
     "data": {
      "application/vnd.jupyter.widget-view+json": {
       "model_id": "43f498a73a6a4fe5923a0cdfd1f59b2d",
       "version_major": 2,
       "version_minor": 0
      },
      "text/plain": [
       "VBox(children=(Label(value=' 0.49MB of 0.49MB uploaded (0.00MB deduped)\\r'), FloatProgress(value=1.0, max=1.0)…"
      ]
     },
     "metadata": {},
     "output_type": "display_data"
    },
    {
     "data": {
      "text/html": [
       "<style>\n",
       "    table.wandb td:nth-child(1) { padding: 0 10px; text-align: right }\n",
       "    .wandb-row { display: flex; flex-direction: row; flex-wrap: wrap; width: 100% }\n",
       "    .wandb-col { display: flex; flex-direction: column; flex-basis: 100%; flex: 1; padding: 10px; }\n",
       "    </style>\n",
       "<div class=\"wandb-row\"><div class=\"wandb-col\">\n",
       "</div><div class=\"wandb-col\">\n",
       "</div></div>\n",
       "Synced 7 W&B file(s), 0 media file(s), 0 artifact file(s) and 1 other file(s)\n",
       "<br/>Synced <strong style=\"color:#cdcd00\">0225_1207</strong>: <a href=\"http://localhost:8080/kbardool/AdaSparseChem/runs/2as296zs\" target=\"_blank\">http://localhost:8080/kbardool/AdaSparseChem/runs/2as296zs</a><br/>\n",
       "Find logs at: <code>./wandb/run-20220225_120707-2as296zs/logs</code><br/>\n"
      ],
      "text/plain": [
       "<IPython.core.display.HTML object>"
      ]
     },
     "metadata": {},
     "output_type": "display_data"
    },
    {
     "name": "stderr",
     "output_type": "stream",
     "text": [
      "\u001b[34m\u001b[1mwandb\u001b[0m: \u001b[33mWARNING\u001b[0m Upgrade to the 0.9.49 version of W&B Local to get the latest features. Learn more: http://wandb.me/local-upgrade\n"
     ]
    }
   ],
   "source": [
    "wandb.finish()"
   ]
  },
  {
   "cell_type": "code",
   "execution_count": null,
   "id": "2527bd00",
   "metadata": {
    "ExecuteTime": {
     "end_time": "2022-02-20T21:25:11.319751Z",
     "start_time": "2022-02-20T21:25:11.210062Z"
    },
    "hidden": true
   },
   "outputs": [],
   "source": [
    "# \n",
    "p = environ.get_current_state(0)"
   ]
  },
  {
   "cell_type": "code",
   "execution_count": null,
   "id": "919068f7",
   "metadata": {
    "ExecuteTime": {
     "end_time": "2022-02-20T21:25:26.324030Z",
     "start_time": "2022-02-20T21:25:26.112782Z"
    },
    "hidden": true
   },
   "outputs": [],
   "source": [
    "pp.pprint(p)"
   ]
  },
  {
   "cell_type": "markdown",
   "id": "5c82a453",
   "metadata": {
    "heading_collapsed": true,
    "hidden": true
   },
   "source": [
    "### Post Warm-up Training stuff"
   ]
  },
  {
   "cell_type": "code",
   "execution_count": null,
   "id": "3bb74c3d",
   "metadata": {
    "ExecuteTime": {
     "end_time": "2022-02-01T12:45:43.999959Z",
     "start_time": "2022-02-01T12:45:43.862475Z"
    },
    "hidden": true
   },
   "outputs": [],
   "source": [
    "pp.pprint(environ.val_metrics)"
   ]
  },
  {
   "cell_type": "code",
   "execution_count": null,
   "id": "912b47da",
   "metadata": {
    "ExecuteTime": {
     "end_time": "2022-02-01T12:46:36.700361Z",
     "start_time": "2022-02-01T12:46:36.367037Z"
    },
    "hidden": true
   },
   "outputs": [],
   "source": [
    "environ.networks['mtl-net'].arch_parameters()"
   ]
  },
  {
   "cell_type": "code",
   "execution_count": null,
   "id": "922f0235",
   "metadata": {
    "ExecuteTime": {
     "end_time": "2022-01-28T16:37:10.158440Z",
     "start_time": "2022-01-28T16:37:09.742327Z"
    },
    "hidden": true
   },
   "outputs": [],
   "source": [
    "p = environ.get_sample_policy(hard_sampling = False)\n",
    "print(p)\n",
    "p = environ.get_policy_prob()\n",
    "print(p)\n",
    "p = environ.get_policy_logits()\n",
    "print(p)\n",
    "\n",
    "# p = environ.get_current_policy()\n",
    "# print(p)"
   ]
  },
  {
   "cell_type": "code",
   "execution_count": null,
   "id": "c6bddd44",
   "metadata": {
    "ExecuteTime": {
     "end_time": "2022-01-28T16:40:37.799917Z",
     "start_time": "2022-01-28T16:40:37.773177Z"
    },
    "hidden": true
   },
   "outputs": [],
   "source": [
    "a = softmax([0.0, 1])\n",
    "print(a)\n",
    "sampled = np.random.choice((1, 0), p=a)\n",
    "print(sampled)"
   ]
  },
  {
   "cell_type": "code",
   "execution_count": null,
   "id": "f5e8f376",
   "metadata": {
    "ExecuteTime": {
     "end_time": "2022-01-28T16:13:16.205889Z",
     "start_time": "2022-01-28T16:13:16.179303Z"
    },
    "hidden": true
   },
   "outputs": [],
   "source": [
    "print(environ.optimizers['weights'])\n",
    "print(environ.schedulers['weights'].get_last_lr())"
   ]
  },
  {
   "cell_type": "code",
   "execution_count": null,
   "id": "dddf9c47",
   "metadata": {
    "ExecuteTime": {
     "end_time": "2022-02-01T12:46:50.411465Z",
     "start_time": "2022-02-01T12:46:50.020540Z"
    },
    "hidden": true,
    "scrolled": false
   },
   "outputs": [],
   "source": [
    "print('losses.keys      : ', environ.losses.keys())\n",
    "print('losses[task]keys : ', environ.losses['task1'].keys())\n",
    "pp.pprint(environ.losses)"
   ]
  },
  {
   "cell_type": "code",
   "execution_count": null,
   "id": "20950069",
   "metadata": {
    "ExecuteTime": {
     "end_time": "2022-01-15T22:57:02.151169Z",
     "start_time": "2022-01-15T22:57:02.056562Z"
    },
    "execution": {
     "iopub.execute_input": "2022-01-07T22:49:07.606120Z",
     "iopub.status.busy": "2022-01-07T22:49:07.604909Z",
     "iopub.status.idle": "2022-01-07T22:49:08.025886Z",
     "shell.execute_reply": "2022-01-07T22:49:08.024798Z",
     "shell.execute_reply.started": "2022-01-07T22:49:07.606065Z"
    },
    "hidden": true,
    "scrolled": false
   },
   "outputs": [],
   "source": [
    "print( environ.val_metrics.keys())\n",
    "# pp.pprint(val_metrics)\n",
    "print(type(environ.val_metrics['aggregated']))\n",
    "print()\n",
    "print(type(environ.val_metrics['task1']['classification_agg']))\n",
    "print()\n",
    "pp.pprint(environ.val_metrics)"
   ]
  },
  {
   "cell_type": "code",
   "execution_count": null,
   "id": "eed6e311",
   "metadata": {
    "ExecuteTime": {
     "end_time": "2022-01-14T18:57:26.266303Z",
     "start_time": "2022-01-14T18:57:26.166878Z"
    },
    "hidden": true
   },
   "outputs": [],
   "source": [
    "# import pickle\n",
    "# with open(\"val_metrics.pkl\", mode= 'wb') as f:\n",
    "#         pickle.dump(val_metrics, f)\n",
    "    \n",
    "# with open('val_metrics.pkl', 'rb') as f:    \n",
    "#     tst_val_metrics = pickle.load(f)"
   ]
  },
  {
   "cell_type": "code",
   "execution_count": null,
   "id": "2b00a8aa",
   "metadata": {
    "ExecuteTime": {
     "end_time": "2022-01-14T18:57:26.297444Z",
     "start_time": "2022-01-14T18:57:26.269323Z"
    },
    "hidden": true
   },
   "outputs": [],
   "source": [
    "# print(environ.input.shape) \n",
    "# a = getattr(environ, 'task1_pred')\n",
    "# yc_data = environ.batch['task1_data']\n",
    "# print(yc_data.shape)\n",
    "# yc_ind = environ.batch['task1_ind']\n",
    "# print(yc_ind.shape)\n",
    "# yc_hat_all = getattr(environ, 'task1_pred')\n",
    "# print(yc_hat_all.shape)\n",
    "# yc_hat  = yc_hat_all[yc_ind[0], yc_ind[1]]\n",
    "# print(yc_hat_all.shape, yc_hat.shape)\n",
    "\n",
    "# \n",
    "# environ.losses\n",
    "# loss = {}\n",
    "# for key in environ.losses.keys():\n",
    "#     loss[key] = {}\n",
    "#     for subkey, v in environ.losses[key].items():\n",
    "#         print(f\" key:  {key}   subkey: {subkey} \")\n",
    "#         if isinstance(v, torch.Tensor):\n",
    "#             loss[key][subkey] = v.data\n",
    "#             print(f\" Tensor  -  key:  {key}   subkey: {subkey}           value type: {type(v)}  value: {v:.4f}\")\n",
    "#         else:\n",
    "#             loss[key][subkey] = v\n",
    "#             print(f\" integer -  key:  {key}   subkey: {subkey}           value type: {type(v)}  value: {v:.4f}\")\n",
    "# pp.pprint(tst_val_metrics)             "
   ]
  },
  {
   "cell_type": "code",
   "execution_count": null,
   "id": "5987f89f",
   "metadata": {
    "ExecuteTime": {
     "end_time": "2022-01-14T18:57:26.340792Z",
     "start_time": "2022-01-14T18:57:26.302528Z"
    },
    "execution": {
     "iopub.execute_input": "2022-01-07T22:49:07.606120Z",
     "iopub.status.busy": "2022-01-07T22:49:07.604909Z",
     "iopub.status.idle": "2022-01-07T22:49:08.025886Z",
     "shell.execute_reply": "2022-01-07T22:49:08.024798Z",
     "shell.execute_reply.started": "2022-01-07T22:49:07.606065Z"
    },
    "hidden": true
   },
   "outputs": [],
   "source": [
    "# print('metrics.keys: ', environ.metrics.keys())\n",
    "# print('metrics[task].keys: ', environ.metrics['task1'].keys())\n",
    "# pp.pprint(environ.metrics['task1'])\n",
    "# pp.pprint(environ.losses['task1']['total'])"
   ]
  },
  {
   "cell_type": "code",
   "execution_count": null,
   "id": "864ae417",
   "metadata": {
    "ExecuteTime": {
     "end_time": "2022-01-14T18:57:26.373399Z",
     "start_time": "2022-01-14T18:57:26.345065Z"
    },
    "hidden": true
   },
   "outputs": [],
   "source": [
    "# title='Iteration'\n",
    "# for t_id, _ in enumerate(environ.tasks):\n",
    "#     task_key = f\"task{t_id+1}\"\n",
    "# #     print_heading(f\"{title}  {current_iter}  {task_key} : {val_metrics[task_key]['classification_agg']}\", verbose = True)\n",
    "\n",
    "#     for key, _  in val_metrics[task_key]['classification_agg'].items():\n",
    "#         print('%s/%-20s'%(task_key, key), val_metrics[task_key]['classification_agg'][key], current_iter)\n",
    "#         print(f\"{task_key:s}/{key:20s}\", val_metrics[task_key]['classification_agg'][key], current_iter)\n",
    "#         print()\n",
    "#             # print_current_errors(os.path.join(self.log_dir, 'loss.txt'), current_iter,key, loss[key], time.time() - start_time)"
   ]
  },
  {
   "cell_type": "code",
   "execution_count": null,
   "id": "c0b73b44",
   "metadata": {
    "ExecuteTime": {
     "end_time": "2022-01-07T22:52:48.162261Z",
     "start_time": "2022-01-07T22:52:48.140423Z"
    },
    "hidden": true
   },
   "outputs": [],
   "source": [
    "# environ.print_loss(current_iter, start_time, metrics = val_metrics['loss'], verbose=True)\n",
    "# print(opt['lambdas'])\n",
    "# p = (opt['lambdas'][0] * environ.losses['tasks']['task1'])\n",
    "# print(p)\n",
    "\n",
    "# environ.print_val_metrics(current_iter, start_time, val_metrics , title='validation', verbose=True)    "
   ]
  },
  {
   "cell_type": "code",
   "execution_count": null,
   "id": "850378b6",
   "metadata": {
    "ExecuteTime": {
     "end_time": "2022-01-07T22:52:47.661019Z",
     "start_time": "2022-01-07T22:52:47.639094Z"
    },
    "hidden": true
   },
   "outputs": [],
   "source": [
    "# print(current_iter)\n",
    "# print_metrics_cr(current_iter, t1 - t0, None, val_metrics , True)\n",
    "# environ.print_val_metrics(current_iter, start_time, val_metrics, title='validation', verbose = True)"
   ]
  },
  {
   "cell_type": "code",
   "execution_count": null,
   "id": "266a80b0",
   "metadata": {
    "ExecuteTime": {
     "end_time": "2022-01-07T23:14:58.034384Z",
     "start_time": "2022-01-07T23:14:58.004850Z"
    },
    "hidden": true,
    "scrolled": true
   },
   "outputs": [],
   "source": [
    "print(f\" val_metric keys               : {val_metrics.keys()}\")\n",
    "print(f\" loss keys                     : {val_metrics['loss'].keys()}\")\n",
    "print(f\" task1 keys                    : {val_metrics['task1'].keys()}\")\n",
    "print(f\" task1 classification keys     : {val_metrics['task1']['classification'].keys()}\")\n",
    "print(f\" task1 classification_agg keys : {val_metrics['task1']['classification_agg'].keys()}\")\n",
    "print()\n",
    "print(f\" task1                       : {val_metrics['task1']['classification_agg']['loss']:5f}\")\n",
    "print(f\" task2                       : {val_metrics['task2']['classification_agg']['loss']:5f}\")\n",
    "print(f\" task3                       : {val_metrics['task3']['classification_agg']['loss']:5f}\")\n",
    "print(f\" loss                        : {val_metrics['loss']['total']:5f}\")\n",
    "print(f\" train_time                  : {val_metrics['train_time']:2f}\")\n",
    "print(f\" epoch                       : {val_metrics['epoch']}\")\n"
   ]
  },
  {
   "cell_type": "markdown",
   "id": "60fc43a6",
   "metadata": {
    "heading_collapsed": true,
    "hidden": true
   },
   "source": [
    "### Post Weight + Policy Training Stuff "
   ]
  },
  {
   "cell_type": "code",
   "execution_count": null,
   "id": "65640cd9",
   "metadata": {
    "ExecuteTime": {
     "end_time": "2022-01-27T00:22:20.634818Z",
     "start_time": "2022-01-27T00:22:20.444566Z"
    },
    "hidden": true
   },
   "outputs": [],
   "source": [
    "environ.networks['mtl-net'].backbone.layer_config"
   ]
  },
  {
   "cell_type": "code",
   "execution_count": null,
   "id": "a4374287",
   "metadata": {
    "ExecuteTime": {
     "end_time": "2022-01-26T19:30:31.940280Z",
     "start_time": "2022-01-26T19:30:31.910058Z"
    },
    "hidden": true
   },
   "outputs": [],
   "source": [
    "num_blocks = 6\n",
    "num_policy_layers = 6\n",
    "gt =  torch.ones((num_blocks)).long()\n",
    "gt0 =  torch.zeros((num_blocks)).long()\n",
    "print(gt)\n",
    "print(gt0)\n",
    "\n",
    "loss_weights = ((torch.arange(0, num_policy_layers, 1) + 1).float() / num_policy_layers)\n",
    "print(loss_weights)"
   ]
  },
  {
   "cell_type": "code",
   "execution_count": null,
   "id": "8651bc43",
   "metadata": {
    "ExecuteTime": {
     "end_time": "2022-01-26T19:42:31.300891Z",
     "start_time": "2022-01-26T19:42:31.257774Z"
    },
    "hidden": true
   },
   "outputs": [],
   "source": [
    "if environ.opt['diff_sparsity_weights'] and not environ.opt['is_sharing']:\n",
    "    print(' cond 1')\n",
    "    ## Assign higher weights to higher layers \n",
    "    loss_weights = ((torch.arange(0, num_policy_layers, 1) + 1).float() / num_policy_layers)\n",
    "    print(f\"{task_key} sparsity error:  {2 * (loss_weights[-num_blocks:] * environ.cross_entropy2(logits[-num_blocks:], gt)).mean()})\")\n",
    "    print_dbg(f\" loss_weights :  {loss_weights}\", verbose = True)\n",
    "    print_dbg(f\" cross_entropy:  {environ.cross_entropy2(logits[-num_blocks:], gt)}  \", verbose = True)\n",
    "    print_dbg(f\" loss[sparsity][{task_key}]: {self.losses['sparsity'][task_key] } \", verbose = True)\n",
    "\n",
    "else:\n",
    "    print('\\n cond 2')\n",
    "    print_dbg(f\"Compute CrossEntropyLoss between \\n Logits   : \\n{logits[-num_blocks:]} \\n and gt: \\n{gt} \\n\", verbose = True)\n",
    "    print(f\"{task_key} sparsity error:  {environ.cross_entropy_sparsity(logits[-num_blocks:], gt)}\")\n",
    "    \n",
    "    print('\\n cond 2')\n",
    "    print_dbg(f\"Compute CrossEntropyLoss between Logits      : {logits[-1:]}  and gt: {gt[-1]} \", verbose = True)\n",
    "    print(f\"{task_key} sparsity error:  {environ.cross_entropy_sparsity(logits[-1:], gt[-1:])} \\n\")\n",
    "    print_dbg(f\"Compute CrossEntropyLoss between Logits      : {logits[-1:]}  and gt: {gt0[-1]} \", verbose = True)\n",
    "    print(f\"{task_key} sparsity error:  {environ.cross_entropy_sparsity(logits[-1:], gt0[-1:])} \\n\")\n",
    "    \n",
    "    print('\\n cond 3')    \n",
    "    print_dbg(f\"Compute CrossEntropyLoss between Logits   : {logits[0:1]}  and gt: {gt[0:1]} \", verbose = True)\n",
    "    print(f\"{task_key} sparsity error:  {environ.cross_entropy_sparsity(logits[0:1], gt[0:1])} \\n\")\n",
    "    print_dbg(f\"Compute CrossEntropyLoss between Logits   : {logits[0:1]}  and gt: {gt0[0:1]} \", verbose = True)\n",
    "    print(f\"{task_key} sparsity error:  {environ.cross_entropy_sparsity(logits[0:1], gt0[0:1])} \\n\")\n",
    "        \n",
    "        "
   ]
  },
  {
   "cell_type": "code",
   "execution_count": null,
   "id": "c686cd05",
   "metadata": {
    "hidden": true
   },
   "outputs": [],
   "source": []
  },
  {
   "cell_type": "code",
   "execution_count": null,
   "id": "c83ee1b6",
   "metadata": {
    "ExecuteTime": {
     "end_time": "2022-01-26T00:14:30.155045Z",
     "start_time": "2022-01-26T00:14:30.107095Z"
    },
    "hidden": true
   },
   "outputs": [],
   "source": [
    "# flag = 'update_w'\n",
    "# environ.fix_alpha\n",
    "# environ.free_w(opt['fix_BN'])\n",
    "\n",
    "flag = 'update_alpha'\n",
    "environ.fix_weights()\n",
    "environ.free_alpha()"
   ]
  },
  {
   "cell_type": "code",
   "execution_count": null,
   "id": "6e7996b7",
   "metadata": {
    "ExecuteTime": {
     "end_time": "2022-01-25T23:43:31.184285Z",
     "start_time": "2022-01-25T23:43:31.159229Z"
    },
    "hidden": true
   },
   "outputs": [],
   "source": [
    "environ.networks['mtl-net'].num_layers"
   ]
  },
  {
   "cell_type": "code",
   "execution_count": null,
   "id": "f436ee6a",
   "metadata": {
    "ExecuteTime": {
     "end_time": "2022-01-26T00:14:34.993711Z",
     "start_time": "2022-01-26T00:14:34.968623Z"
    },
    "hidden": true
   },
   "outputs": [],
   "source": [
    "print(f\"current_iters         : {current_iter}\")  \n",
    "print(f\"current_epochs           : {current_epoch}\") \n",
    "print(f\"train_total_epochs    : {train_total_epochs}\") \n",
    "\n",
    "train_total_epochs += 5\n",
    "\n",
    "print(f\"current_iters         : {current_iter}\")  \n",
    "print(f\"current_epochs           : {current_epoch}\") \n",
    "print(f\"train_total_epochs    : {train_total_epochs}\") "
   ]
  },
  {
   "cell_type": "code",
   "execution_count": null,
   "id": "5334a0b6",
   "metadata": {
    "ExecuteTime": {
     "end_time": "2022-01-25T17:15:02.216665Z",
     "start_time": "2022-01-25T17:15:01.848081Z"
    },
    "hidden": true
   },
   "outputs": [],
   "source": [
    "# print_metrics_cr(current_epoch, time.time() - t0, None, environ.val_metrics , num_prints)      \n",
    "\n",
    "# num_prints += 1\n",
    "# t0 = time.time()\n",
    "\n",
    "# # Take check point\n",
    "# environ.save_checkpoint('latest', current_iter)\n",
    "# environ.train()\n",
    "# #-------------------------------------------------------\n",
    "# # END validation process\n",
    "# #-------------------------------------------------------       \n",
    "# flag = 'update_alpha'\n",
    "# environ.fix_w()\n",
    "# environ.free_alpha()"
   ]
  },
  {
   "cell_type": "code",
   "execution_count": null,
   "id": "9d8c4f39",
   "metadata": {
    "ExecuteTime": {
     "end_time": "2022-01-08T01:08:57.366231Z",
     "start_time": "2022-01-08T01:08:57.295445Z"
    },
    "hidden": true
   },
   "outputs": [],
   "source": [
    "# dilation = 2\n",
    "# kernel_size = np.asarray((3, 3))\n",
    "# upsampled_kernel_size = (kernel_size - 1) * (dilation - 1) + kernel_size\n",
    "# print(upsampled_kernel_size)"
   ]
  },
  {
   "cell_type": "code",
   "execution_count": null,
   "id": "9500c390",
   "metadata": {
    "ExecuteTime": {
     "end_time": "2022-01-25T23:43:39.763599Z",
     "start_time": "2022-01-25T23:43:39.728402Z"
    },
    "hidden": true
   },
   "outputs": [],
   "source": [
    "# environ.optimizers['weights'].param_groups[0]\n",
    "# for param_group in optimizer.param_groups:\n",
    "#     return param_group['lr']"
   ]
  },
  {
   "cell_type": "code",
   "execution_count": null,
   "id": "5fb71bd6",
   "metadata": {
    "ExecuteTime": {
     "end_time": "2022-01-25T23:43:41.628847Z",
     "start_time": "2022-01-25T23:43:41.602238Z"
    },
    "hidden": true
   },
   "outputs": [],
   "source": [
    "environ.schedulers['weights'].get_last_lr()"
   ]
  },
  {
   "cell_type": "code",
   "execution_count": null,
   "id": "d7934862",
   "metadata": {
    "ExecuteTime": {
     "end_time": "2022-01-08T01:36:17.129535Z",
     "start_time": "2022-01-08T01:36:16.006144Z"
    },
    "hidden": true,
    "scrolled": true
   },
   "outputs": [],
   "source": [
    "current_state = {}\n",
    "for k, v in environ.optimizers.items():\n",
    "    print(f'state dict for {k} = {v}')\n",
    "    current_state[k] = v.state_dict()\n",
    "pp.pprint(current_state)"
   ]
  },
  {
   "cell_type": "code",
   "execution_count": null,
   "id": "d5faf7f1",
   "metadata": {
    "ExecuteTime": {
     "end_time": "2022-01-08T01:40:22.032247Z",
     "start_time": "2022-01-08T01:40:22.006953Z"
    },
    "hidden": true,
    "scrolled": true
   },
   "outputs": [],
   "source": [
    "current_state = {}\n",
    "for k, v in environ.schedulers.items():\n",
    "    print(f'state dict for {k} = {v}')\n",
    "    print(v.state_dict())"
   ]
  },
  {
   "cell_type": "markdown",
   "id": "dd497e72",
   "metadata": {
    "heading_collapsed": true,
    "hidden": true
   },
   "source": [
    "### Losses and Metrics"
   ]
  },
  {
   "cell_type": "code",
   "execution_count": null,
   "id": "66169a84",
   "metadata": {
    "ExecuteTime": {
     "end_time": "2022-02-09T16:34:44.555617Z",
     "start_time": "2022-02-09T16:34:44.507417Z"
    },
    "hidden": true
   },
   "outputs": [],
   "source": [
    "trn_losses = environ.losses"
   ]
  },
  {
   "cell_type": "code",
   "execution_count": null,
   "id": "60cb8234",
   "metadata": {
    "ExecuteTime": {
     "end_time": "2022-02-10T03:35:11.758429Z",
     "start_time": "2022-02-10T03:35:11.278211Z"
    },
    "hidden": true
   },
   "outputs": [],
   "source": [
    "print_metrics_cr(current_epoch, time.time() - start_time, trn_losses, environ.val_metrics , num_prints)      "
   ]
  },
  {
   "cell_type": "code",
   "execution_count": null,
   "id": "4ce0301f",
   "metadata": {
    "ExecuteTime": {
     "end_time": "2022-02-10T03:21:49.107793Z",
     "start_time": "2022-02-10T03:21:49.084484Z"
    },
    "hidden": true
   },
   "outputs": [],
   "source": [
    "# print_metrics_cr(current_epoch, time.time() - start_time, trn_losses, environ.val_metrics , num_prints)      "
   ]
  },
  {
   "cell_type": "code",
   "execution_count": null,
   "id": "a498b6ee",
   "metadata": {
    "ExecuteTime": {
     "end_time": "2022-02-10T03:20:32.866010Z",
     "start_time": "2022-02-10T03:20:32.442919Z"
    },
    "hidden": true
   },
   "outputs": [],
   "source": [
    "# pp.pprint(environ.losses)\n",
    "pp.pprint(trn_losses)"
   ]
  },
  {
   "cell_type": "code",
   "execution_count": null,
   "id": "5fe30724",
   "metadata": {
    "ExecuteTime": {
     "end_time": "2022-02-10T03:34:21.945701Z",
     "start_time": "2022-02-10T03:34:21.411234Z"
    },
    "hidden": true
   },
   "outputs": [],
   "source": [
    "pp.pprint(environ.val_metrics)"
   ]
  },
  {
   "cell_type": "code",
   "execution_count": null,
   "id": "a1d81167",
   "metadata": {
    "ExecuteTime": {
     "end_time": "2022-01-27T00:58:49.364883Z",
     "start_time": "2022-01-27T00:58:49.342931Z"
    },
    "hidden": true
   },
   "outputs": [],
   "source": [
    "# environ.opt['train']['Lambda_sharing'] = 0.5\n",
    "# opt['train']['Lambda_sharing'] = 0.5\n",
    "\n",
    "# environ.opt['train']['policy_lr'] = 0.001\n",
    "# opt['train']['policy_lr'] = 0.001"
   ]
  },
  {
   "cell_type": "code",
   "execution_count": null,
   "id": "2a73aa06",
   "metadata": {
    "ExecuteTime": {
     "end_time": "2022-01-26T01:00:41.996410Z",
     "start_time": "2022-01-26T01:00:41.559006Z"
    },
    "hidden": true
   },
   "outputs": [],
   "source": [
    "environ.losses.keys()\n",
    "pp.pprint(environ.losses)"
   ]
  },
  {
   "cell_type": "code",
   "execution_count": null,
   "id": "e06ece74",
   "metadata": {
    "ExecuteTime": {
     "end_time": "2022-01-08T01:19:43.683550Z",
     "start_time": "2022-01-08T01:19:43.571450Z"
    },
    "hidden": true
   },
   "outputs": [],
   "source": [
    "tmp = environ.get_loss_dict()\n",
    "print(tmp.keys())\n",
    "pp.pprint(tmp)"
   ]
  },
  {
   "cell_type": "code",
   "execution_count": null,
   "id": "00ac0256",
   "metadata": {
    "ExecuteTime": {
     "end_time": "2022-01-27T00:58:50.458223Z",
     "start_time": "2022-01-27T00:58:50.430889Z"
    },
    "hidden": true
   },
   "outputs": [],
   "source": [
    "print(opt['diff_sparsity_weights'])\n",
    "print(opt['is_sharing'])\n",
    "print(opt['diff_sparsity_weights'] and not opt['is_sharing'])\n",
    "print(environ.opt['train']['Lambda_sharing'])\n",
    "print(opt['train']['Lambda_sharing'])\n",
    "print(environ.opt['train']['Lambda_sparsity'])\n",
    "print(opt['train']['Lambda_sparsity'])\n",
    "print(environ.opt['train']['policy_lr'])\n",
    "print(opt['train']['policy_lr'])"
   ]
  },
  {
   "cell_type": "markdown",
   "id": "aae2d510",
   "metadata": {
    "hidden": true
   },
   "source": [
    "### Policy / Logit stuff"
   ]
  },
  {
   "cell_type": "code",
   "execution_count": null,
   "id": "bb628497",
   "metadata": {
    "ExecuteTime": {
     "end_time": "2022-02-08T20:35:14.041577Z",
     "start_time": "2022-02-08T20:35:14.018303Z"
    },
    "hidden": true
   },
   "outputs": [],
   "source": [
    "from scipy.special          import softmax"
   ]
  },
  {
   "cell_type": "code",
   "execution_count": null,
   "id": "79eed454",
   "metadata": {
    "ExecuteTime": {
     "end_time": "2022-02-08T20:00:30.103364Z",
     "start_time": "2022-02-08T20:00:30.068021Z"
    },
    "hidden": true
   },
   "outputs": [],
   "source": [
    "np.set_printoptions(precision=8,edgeitems=3, infstr='inf', linewidth=150, nanstr='nan')\n",
    "torch.set_printoptions(precision=8,linewidth=132)"
   ]
  },
  {
   "cell_type": "markdown",
   "id": "df03b5cc",
   "metadata": {
    "heading_collapsed": true,
    "hidden": true
   },
   "source": [
    "#### `get_task_logits(n)` Get logits for task group n"
   ]
  },
  {
   "cell_type": "code",
   "execution_count": null,
   "id": "2aed8b9b",
   "metadata": {
    "ExecuteTime": {
     "end_time": "2022-02-08T20:56:35.652087Z",
     "start_time": "2022-02-08T20:56:35.327406Z"
    },
    "hidden": true
   },
   "outputs": [],
   "source": [
    "task_logits = environ.get_task_logits(1)\n",
    "print(task_logits)"
   ]
  },
  {
   "cell_type": "markdown",
   "id": "fb66fa5f",
   "metadata": {
    "hidden": true
   },
   "source": [
    "#### `get_arch_parameters()`: Get last used logits from network"
   ]
  },
  {
   "cell_type": "code",
   "execution_count": null,
   "id": "8a85521e",
   "metadata": {
    "ExecuteTime": {
     "end_time": "2022-02-08T20:00:31.101960Z",
     "start_time": "2022-02-08T20:00:30.757064Z"
    },
    "hidden": true,
    "scrolled": true
   },
   "outputs": [],
   "source": [
    "import torch.optim as optim\n",
    "arch_parameters      = environ.get_arch_parameters()\n",
    "print(arch_parameters)"
   ]
  },
  {
   "cell_type": "code",
   "execution_count": null,
   "id": "489b0bef",
   "metadata": {
    "ExecuteTime": {
     "end_time": "2022-02-09T15:43:06.054699Z",
     "start_time": "2022-02-09T15:43:05.689327Z"
    },
    "hidden": true,
    "scrolled": true
   },
   "outputs": [],
   "source": [
    "import torch.optim as optim\n",
    "arch_parameters      = environ.get_arch_parameters()\n",
    "print(arch_parameters)"
   ]
  },
  {
   "cell_type": "markdown",
   "id": "19ea1743",
   "metadata": {
    "hidden": true
   },
   "source": [
    "#### `get_policy_logits()`:  Get Policy Logits - returns same as `get_arch_parameters()`"
   ]
  },
  {
   "cell_type": "code",
   "execution_count": null,
   "id": "cdbb40c4",
   "metadata": {
    "ExecuteTime": {
     "end_time": "2022-02-09T15:43:24.972390Z",
     "start_time": "2022-02-09T15:43:24.636629Z"
    },
    "hidden": true,
    "scrolled": true
   },
   "outputs": [],
   "source": [
    "logs = environ.get_policy_logits()\n",
    "for i in logs:\n",
    "    print(i, '\\n')\n",
    "# probs = softmax(logs, axis= -1)\n",
    "# for i in probs:\n",
    "#     print(i, '\\n')"
   ]
  },
  {
   "cell_type": "markdown",
   "id": "6080a364",
   "metadata": {
    "hidden": true
   },
   "source": [
    "#### `get_policy_prob()` : Gets the softmax of the logits"
   ]
  },
  {
   "cell_type": "code",
   "execution_count": null,
   "id": "b59c75af",
   "metadata": {
    "ExecuteTime": {
     "end_time": "2022-02-09T15:43:29.733732Z",
     "start_time": "2022-02-09T15:43:29.699600Z"
    },
    "hidden": true,
    "scrolled": true
   },
   "outputs": [],
   "source": [
    "policy_softmaxs = environ.get_policy_prob()\n",
    "for i in policy_softmaxs:\n",
    "    print(i, '\\n')"
   ]
  },
  {
   "cell_type": "markdown",
   "id": "3c3160d9",
   "metadata": {
    "heading_collapsed": true,
    "hidden": true
   },
   "source": [
    "#### `get_sample_policy( hard_sampling = False)` : Calls test_sample_policy of network with random choices based on softmax of logits"
   ]
  },
  {
   "cell_type": "code",
   "execution_count": null,
   "id": "3f411444",
   "metadata": {
    "ExecuteTime": {
     "end_time": "2022-02-08T22:21:15.636722Z",
     "start_time": "2022-02-08T22:21:15.165456Z"
    },
    "hidden": true
   },
   "outputs": [],
   "source": [
    "policy_softmaxs = environ.get_policy_prob()\n",
    "policies,logits = environ.get_sample_policy(hard_sampling = False)\n",
    "\n",
    "for l, p, s in zip(logits, policies, policy_softmaxs) :\n",
    "    for  l_row, p_row, s_row in zip(l, p, s):\n",
    "        print( l_row,'\\t', p_row, '\\t', s_row)\n",
    "    print('\\n')"
   ]
  },
  {
   "cell_type": "markdown",
   "id": "802664ec",
   "metadata": {
    "heading_collapsed": true,
    "hidden": true
   },
   "source": [
    "#### `get_sample_policy( hard_sampling = True)` : Calls test_sample_policy of network using ARGMAX of logits"
   ]
  },
  {
   "cell_type": "code",
   "execution_count": null,
   "id": "dea65bf2",
   "metadata": {
    "ExecuteTime": {
     "end_time": "2022-02-08T20:59:40.790899Z",
     "start_time": "2022-02-08T20:59:40.726657Z"
    },
    "hidden": true
   },
   "outputs": [],
   "source": [
    "policy_softmaxs = environ.get_policy_prob()\n",
    "hard_policies, logits = environ.get_sample_policy(hard_sampling = True)\n",
    "\n",
    "for p,l,s in zip(hard_policies, logits, policy_softmaxs) :\n",
    "    for  p_row, l_row, s_row in zip(p, l, s):\n",
    "        print( l_row,'\\t', p_row, '\\t', s_row)\n",
    "    print('\\n')"
   ]
  },
  {
   "cell_type": "markdown",
   "id": "c63c39cf",
   "metadata": {
    "heading_collapsed": true,
    "hidden": true
   },
   "source": [
    "#### Print"
   ]
  },
  {
   "cell_type": "code",
   "execution_count": null,
   "id": "4c0fe096",
   "metadata": {
    "ExecuteTime": {
     "end_time": "2022-02-08T21:00:47.452220Z",
     "start_time": "2022-02-08T21:00:47.422902Z"
    },
    "hidden": true
   },
   "outputs": [],
   "source": [
    "print(f\" Layer    task 1      task 2      task 3\")\n",
    "print(f\" -----    ------      ------      ------\")\n",
    "for idx, (l1, l2, l3) in enumerate(zip(hard_policies[0], hard_policies[1], hard_policies[2]),1):\n",
    "    print(f\"   {idx}      {l1}       {l2}       {l3}\")\n",
    "    \n",
    "\n",
    "    print(f\"\\n\\n where [p1  p2]:  p1: layer is selected    p2: layer is not selected\")"
   ]
  },
  {
   "cell_type": "code",
   "execution_count": null,
   "id": "7ade0ac9",
   "metadata": {
    "ExecuteTime": {
     "end_time": "2022-02-08T22:39:39.936555Z",
     "start_time": "2022-02-08T22:39:39.911591Z"
    },
    "hidden": true
   },
   "outputs": [],
   "source": [
    "def display_trained_policy(iter):\n",
    "\n",
    "    policy_softmaxs = environ.get_policy_prob()\n",
    "    policy_argmaxs = 1-np.argmax(policy_softmaxs, axis = -1)\n",
    "    print(f\"  Trained polcies at iteration: {iter} \")\n",
    "    print(f\"                   task 1                           task 2                         task 3        \")\n",
    "    print(f\" Layer       softmax        select          softmax        select          softmax        select   \")\n",
    "    print(f\" -----    ---------------   ------       ---------------   ------       ---------------   ------   \")\n",
    "    for idx, (l1,l2,l3,  p1,p2,p3) in enumerate(zip(policy_softmaxs[0], policy_softmaxs[1], policy_softmaxs[2], policy_argmaxs[0], policy_argmaxs[1], policy_argmaxs[2]),1):\n",
    "        print(f\"   {idx}      {l1[0]:.4f}   {l1[1]:.4f}   {p1:4d}    {l2[0]:11.4f}   {l2[1]:.4f}   {p2:4d}    {l3[0]:11.4f}   {l3[1]:.4f}   {p3:4d}\")\n",
    "\n",
    "    print()\n",
    "# print(f\"\\n\\n where [p1  p2]:  p1: layer is selected    p2: layer is not selected\")"
   ]
  },
  {
   "cell_type": "code",
   "execution_count": null,
   "id": "ec208dd8",
   "metadata": {
    "ExecuteTime": {
     "end_time": "2022-02-08T22:42:12.650813Z",
     "start_time": "2022-02-08T22:42:12.330169Z"
    },
    "hidden": true
   },
   "outputs": [],
   "source": [
    "display_trained_policy(5)"
   ]
  },
  {
   "cell_type": "code",
   "execution_count": null,
   "id": "eec517e9",
   "metadata": {
    "ExecuteTime": {
     "end_time": "2022-02-08T22:07:30.836214Z",
     "start_time": "2022-02-08T22:07:30.804575Z"
    },
    "hidden": true
   },
   "outputs": [],
   "source": [
    "print(f\"                        POLICIES (SOFTMAX)                                       task 3          \")\n",
    "print(f\" Layer    task1              task2            task3 softmax         softmax         argmax         softmax         argmax   \")\n",
    "print(f\" -----    -------------     -------------     -------------   ------   \")\n",
    "for idx, (l1,l2,l3, h1,h2,h3) in enumerate(zip(policy_softmaxs[0], policy_softmaxs[1], policy_softmaxs[2],hard_policies[0], hard_policies[1], hard_policies[2]),1):\n",
    "    print(f\"   {idx}      {l1[0]:.4f} {l1[1]:.4f}     {l2[0]:.4f} {l2[1]:.4f}     {l3[0]:.4f} {l3[1]:.4f}    {h3}\")\n",
    "    \n",
    "print(f\"\\n\\n where [p1  p2]:  p1: layer is selected    p2: layer is not selected\")"
   ]
  },
  {
   "cell_type": "code",
   "execution_count": null,
   "id": "8bbeacb4",
   "metadata": {
    "ExecuteTime": {
     "end_time": "2022-02-08T22:04:50.757406Z",
     "start_time": "2022-02-08T22:04:50.731736Z"
    },
    "hidden": true
   },
   "outputs": [],
   "source": [
    "# print(policy_softmaxs[2], np.argmax(1-policy_softmaxs[2], axis = -1))\n",
    "print(policy_softmaxs, np.argmax(policy_softmaxs, axis = -1))"
   ]
  },
  {
   "cell_type": "markdown",
   "id": "c4be0240",
   "metadata": {
    "heading_collapsed": true,
    "hidden": true
   },
   "source": [
    "#### `get_current_logits()` : Calls test_sample_policy of network using ARGMAX of logits"
   ]
  },
  {
   "cell_type": "code",
   "execution_count": null,
   "id": "cfdb7240",
   "metadata": {
    "ExecuteTime": {
     "end_time": "2022-02-08T21:19:06.155425Z",
     "start_time": "2022-02-08T21:19:06.118640Z"
    },
    "hidden": true,
    "scrolled": true
   },
   "outputs": [],
   "source": [
    "logits  = (environ.get_current_logits())\n",
    "for i in logits:\n",
    "    print(i ,'\\n')"
   ]
  },
  {
   "cell_type": "markdown",
   "id": "13e84662",
   "metadata": {
    "heading_collapsed": true,
    "hidden": true
   },
   "source": [
    "#### `get_current_policy()` : Calls test_sample_policy of network using ARGMAX of logits"
   ]
  },
  {
   "cell_type": "code",
   "execution_count": null,
   "id": "548cfa24",
   "metadata": {
    "ExecuteTime": {
     "end_time": "2022-02-08T20:40:06.543376Z",
     "start_time": "2022-02-08T20:40:06.230711Z"
    },
    "hidden": true,
    "scrolled": true
   },
   "outputs": [],
   "source": [
    "pols  = (environ.get_current_policy())\n",
    "\n",
    "for i in pols:\n",
    "    print(i ,'\\n')"
   ]
  },
  {
   "cell_type": "code",
   "execution_count": null,
   "id": "77f556a8",
   "metadata": {
    "ExecuteTime": {
     "end_time": "2022-01-27T18:27:33.593255Z",
     "start_time": "2022-01-27T18:27:33.553141Z"
    },
    "hidden": true
   },
   "outputs": [],
   "source": [
    " "
   ]
  },
  {
   "cell_type": "markdown",
   "id": "a792710e",
   "metadata": {
    "hidden": true
   },
   "source": [
    "#### `gumbel_softmax()`  "
   ]
  },
  {
   "cell_type": "code",
   "execution_count": null,
   "id": "7265490e",
   "metadata": {
    "ExecuteTime": {
     "end_time": "2022-02-08T21:28:17.107529Z",
     "start_time": "2022-02-08T21:28:17.084910Z"
    },
    "hidden": true
   },
   "outputs": [],
   "source": [
    "np.set_printoptions(precision=8,edgeitems=3, infstr='inf', linewidth=150, nanstr='nan', floatmode = 'maxprec_equal')\n",
    "torch.set_printoptions(precision=8,linewidth=132)"
   ]
  },
  {
   "cell_type": "code",
   "execution_count": null,
   "id": "3dcb0087",
   "metadata": {
    "ExecuteTime": {
     "end_time": "2022-02-08T21:35:11.617269Z",
     "start_time": "2022-02-08T21:35:11.569599Z"
    },
    "hidden": true
   },
   "outputs": [],
   "source": [
    "print(environ.temp)\n",
    "# tau = environ.temp\n",
    "tau = 1\n",
    "for i in range(3): \n",
    "    logits_tensor = torch.tensor(logits[0])\n",
    "    # Sample soft categorical using reparametrization trick:\n",
    "    gumbel_soft = F.gumbel_softmax(logits_tensor, tau=tau, hard=False).cpu().numpy() \n",
    "\n",
    "    # Sample hard categorical using \"Straight-through\" trick:\n",
    "    gumbel_hard  = F.gumbel_softmax(logits_tensor, tau=tau, hard=True).cpu().numpy()\n",
    "    \n",
    "    for l, gs, gh in zip(lgts, gumbel_soft, gumbel_hard):\n",
    "        print(f\"   {l}   \\t {gs}            \\t {gh}\")\n",
    "#     print(lgts)\n",
    "#     print(gumbel_soft)\n",
    "#     print(gumbel_hard)\n",
    "    print()"
   ]
  },
  {
   "cell_type": "code",
   "execution_count": null,
   "id": "f3d5ef7f",
   "metadata": {
    "hidden": true
   },
   "outputs": [],
   "source": []
  },
  {
   "cell_type": "code",
   "execution_count": null,
   "id": "4b0e0e84",
   "metadata": {
    "ExecuteTime": {
     "end_time": "2022-02-08T21:21:35.524957Z",
     "start_time": "2022-02-08T21:21:35.488812Z"
    },
    "hidden": true
   },
   "outputs": [],
   "source": [
    "for lgts in logits:\n",
    "    logits_tensor = torch.tensor(lgts)\n",
    "    print(lgts)\n",
    "    # Sample soft categorical using reparametrization trick:\n",
    "    gumbel_soft = F.gumbel_softmax(logits_tensor, tau=1, hard=False)\n",
    "    print(gumbel_soft)\n",
    "\n",
    "    # Sample hard categorical using \"Straight-through\" trick:\n",
    "    gumbel_hard  = F.gumbel_softmax(logits_tensor, tau=1, hard=True)\n",
    "    print(gumbel_hard)\n",
    "    print()"
   ]
  },
  {
   "cell_type": "code",
   "execution_count": null,
   "id": "fe34a06a",
   "metadata": {
    "ExecuteTime": {
     "end_time": "2022-02-03T20:49:37.643349Z",
     "start_time": "2022-02-03T20:49:37.580786Z"
    },
    "hidden": true
   },
   "outputs": [],
   "source": [
    "smax = scipy.special.softmax(logs, axis =1)\n",
    "# smax = np.array( \n",
    "# [[0.46973792, 0.530262  ],\n",
    "#  [0.45025694, 0.549743  ],\n",
    "#  [0.4443086 , 0.5556915 ],\n",
    "#  [0.4138397 , 0.58616036],\n",
    "#  [0.4140113 , 0.5859887 ],\n",
    "#  [0.42114905, 0.57885087]])\n",
    "\n",
    "print(smax.shape)\n",
    "print(smax)\n",
    "print(smax[0])\n",
    "print(smax[0].sum())\n",
    "print(np.random.choice((1,0), p =smax[0]))"
   ]
  },
  {
   "cell_type": "code",
   "execution_count": null,
   "id": "7e7de25c",
   "metadata": {
    "ExecuteTime": {
     "end_time": "2022-02-08T21:15:19.893888Z",
     "start_time": "2022-02-08T21:15:19.870899Z"
    },
    "hidden": true
   },
   "outputs": [],
   "source": [
    "logs = np.array(\n",
    "[[0.33064184, 0.42053092],\n",
    " [0.3532089 , 0.52056104],\n",
    " [0.3888512 , 0.5680909 ],\n",
    " [0.42039296, 0.694217  ],\n",
    " [0.4519742 , 0.73311865],\n",
    " [0.48401102, 0.7522658 ]],\n",
    ")"
   ]
  }
 ],
 "metadata": {
  "kernelspec": {
   "display_name": "Python [conda env:pyt-gpu]",
   "language": "python",
   "name": "conda-env-pyt-gpu-py"
  },
  "language_info": {
   "codemirror_mode": {
    "name": "ipython",
    "version": 3
   },
   "file_extension": ".py",
   "mimetype": "text/x-python",
   "name": "python",
   "nbconvert_exporter": "python",
   "pygments_lexer": "ipython3",
   "version": "3.9.5"
  },
  "toc": {
   "base_numbering": 1,
   "nav_menu": {},
   "number_sections": true,
   "sideBar": true,
   "skip_h1_title": false,
   "title_cell": "Table of Contents",
   "title_sidebar": "Contents",
   "toc_cell": false,
   "toc_position": {
    "height": "calc(100% - 180px)",
    "left": "10px",
    "top": "150px",
    "width": "399px"
   },
   "toc_section_display": true,
   "toc_window_display": false
  }
 },
 "nbformat": 4,
 "nbformat_minor": 5
}
